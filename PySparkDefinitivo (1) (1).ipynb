{
 "cells": [
  {
   "cell_type": "markdown",
   "metadata": {},
   "source": [
    "**PROYECTO EXPEDIA OPEN DATA II**"
   ]
  },
  {
   "cell_type": "markdown",
   "metadata": {},
   "source": [
    "Expedia está interesada en predecir qué grupo de hoteles va a reservar un usuario. (GRUPO DE HOTELES = HOTEL_CLUSTER)"
   ]
  },
  {
   "cell_type": "markdown",
   "metadata": {},
   "source": [
    "**site_name** (Identificación del punto de venta de Expedia)                                                                                                     \n",
    "**posa_continent** (ID del continente asociado)                                                                                                \n",
    "**user_location_country** (ID del país donde está el cliente)                                                                               \n",
    "**user_location_region** (ID de la región donde está el cliente)                                                                        \n",
    "**user_location_city** (ID de la ciudad donde está el cliente)                                                                                \n",
    "**orig_destination_distance** (Distancia entre el cliente y el hotel en el momento de la búsqueda)                                             \n",
    "**user_id** (ID del usuario)                                                                                                           \n",
    "**is_mobile** (1-cuando se conecto desde el móvil)                                                                                      \n",
    "**is_package** (1-si la reserva se generó como parte de un paquete (con vuelo))                                                                   \n",
    "**channel** (canal de marketing)                                                                                                                  \n",
    "**srch_ci** (cadena de fecha de registro)                                                                                                         \n",
    "**srch_co** (cadena de fecha de pago)                                                                                                             \n",
    "**srch_adults_cnt** (número de adultos especificados en la habitación)                                                                           \n",
    "**srch_children_cnt** (número de niños (ocupación extra) especificados en la habitación)                                                  \n",
    "**srch_rm_cnt** (número de habitaciones especificados en la búsqueda)                                                                                \n",
    "**srch_destination_id** (ID del destino donde se realizó la busqueda del hotel)                                                                   \n",
    "**srch_destination_type_id** (ID del tipo de destino)                                                                                             \n",
    "**hotel_continent** (continente del hotel)                                                                                                       \n",
    "**hotel_country** (país del hotel)                                                                                                       \n",
    "**hotel_market** (mercado del hotel)                                                                                                            \n",
    "**is_booking** (1- si es una reserva, 0- si es un click)                                                                                     \n",
    "**cnt** (número de eventos similares en el contexto de la misma sesión de usuario)                                                       \n",
    "**hotel_cluster** (ID de un grupo de hoteles)"
   ]
  },
  {
   "cell_type": "markdown",
   "metadata": {},
   "source": [
    "Una vez que hemos creado un .csv de nuestro proyecto del semestre pasado, pasamos en primer lugar a importar nuestro dataSet con la librería numpy como aprendimos en el primer semestre. "
   ]
  },
  {
   "cell_type": "code",
   "execution_count": null,
   "metadata": {},
   "outputs": [],
   "source": []
  },
  {
   "cell_type": "markdown",
   "metadata": {},
   "source": [
    "Como podemos observar en el código anterior, la primera columna no tiene nombre, decidimos imprimir todas las columnas para comprobar que es cierto que no tiene nombre dicha columna"
   ]
  },
  {
   "cell_type": "code",
   "execution_count": null,
   "metadata": {},
   "outputs": [],
   "source": []
  },
  {
   "cell_type": "code",
   "execution_count": 2,
   "metadata": {},
   "outputs": [],
   "source": [
    "import numpy as np\n",
    "import matplotlib.pyplot as plt\n",
    "import pandas as pd\n",
    "import seaborn as sns\n",
    "from pylab import *"
   ]
  },
  {
   "cell_type": "code",
   "execution_count": 2,
   "metadata": {
    "scrolled": true
   },
   "outputs": [
    {
     "data": {
      "text/html": [
       "<div>\n",
       "<style scoped>\n",
       "    .dataframe tbody tr th:only-of-type {\n",
       "        vertical-align: middle;\n",
       "    }\n",
       "\n",
       "    .dataframe tbody tr th {\n",
       "        vertical-align: top;\n",
       "    }\n",
       "\n",
       "    .dataframe thead th {\n",
       "        text-align: right;\n",
       "    }\n",
       "</style>\n",
       "<table border=\"1\" class=\"dataframe\">\n",
       "  <thead>\n",
       "    <tr style=\"text-align: right;\">\n",
       "      <th></th>\n",
       "      <th>Unnamed: 0</th>\n",
       "      <th>date_time</th>\n",
       "      <th>site_name</th>\n",
       "      <th>posa_continent</th>\n",
       "      <th>user_location_country</th>\n",
       "      <th>user_location_region</th>\n",
       "      <th>user_location_city</th>\n",
       "      <th>orig_destination_distance</th>\n",
       "      <th>user_id</th>\n",
       "      <th>is_mobile</th>\n",
       "      <th>...</th>\n",
       "      <th>hotel_continent</th>\n",
       "      <th>hotel_country</th>\n",
       "      <th>hotel_market</th>\n",
       "      <th>hotel_cluster</th>\n",
       "      <th>date</th>\n",
       "      <th>month-year</th>\n",
       "      <th>month</th>\n",
       "      <th>year</th>\n",
       "      <th>periodo</th>\n",
       "      <th>Categoría</th>\n",
       "    </tr>\n",
       "  </thead>\n",
       "  <tbody>\n",
       "    <tr>\n",
       "      <th>0</th>\n",
       "      <td>101940</td>\n",
       "      <td>2013-01-14 09:57:25</td>\n",
       "      <td>2</td>\n",
       "      <td>3</td>\n",
       "      <td>66</td>\n",
       "      <td>442</td>\n",
       "      <td>35390</td>\n",
       "      <td>799.9374</td>\n",
       "      <td>397128</td>\n",
       "      <td>0</td>\n",
       "      <td>...</td>\n",
       "      <td>4.0</td>\n",
       "      <td>8.0</td>\n",
       "      <td>110.0</td>\n",
       "      <td>83.0</td>\n",
       "      <td>2013-01-14</td>\n",
       "      <td>2013-01</td>\n",
       "      <td>1</td>\n",
       "      <td>2013</td>\n",
       "      <td>1</td>\n",
       "      <td>9</td>\n",
       "    </tr>\n",
       "  </tbody>\n",
       "</table>\n",
       "<p>1 rows × 29 columns</p>\n",
       "</div>"
      ],
      "text/plain": [
       "   Unnamed: 0            date_time  site_name  posa_continent  \\\n",
       "0      101940  2013-01-14 09:57:25          2               3   \n",
       "\n",
       "   user_location_country  user_location_region  user_location_city  \\\n",
       "0                     66                   442               35390   \n",
       "\n",
       "   orig_destination_distance  user_id  is_mobile  ...  hotel_continent  \\\n",
       "0                   799.9374   397128          0  ...              4.0   \n",
       "\n",
       "   hotel_country  hotel_market  hotel_cluster        date  month-year  month  \\\n",
       "0            8.0         110.0           83.0  2013-01-14     2013-01      1   \n",
       "\n",
       "   year  periodo  Categoría  \n",
       "0  2013        1          9  \n",
       "\n",
       "[1 rows x 29 columns]"
      ]
     },
     "execution_count": 2,
     "metadata": {},
     "output_type": "execute_result"
    }
   ],
   "source": [
    "myData = pd.read_csv('expediaBueno.csv')\n",
    "myData.head(1)"
   ]
  },
  {
   "cell_type": "code",
   "execution_count": 3,
   "metadata": {},
   "outputs": [
    {
     "data": {
      "text/plain": [
       "Unnamed: 0                   243444\n",
       "date_time                    243444\n",
       "site_name                    243444\n",
       "posa_continent               243444\n",
       "user_location_country        243444\n",
       "user_location_region         243444\n",
       "user_location_city           243444\n",
       "orig_destination_distance    158548\n",
       "user_id                      243444\n",
       "is_mobile                    243444\n",
       "is_package                   243444\n",
       "channel                      243444\n",
       "srch_adults_cnt              243444\n",
       "srch_children_cnt            243444\n",
       "srch_rm_cnt                  243444\n",
       "srch_destination_id          243444\n",
       "srch_destination_type_id     243444\n",
       "is_booking                   243444\n",
       "cnt                          243444\n",
       "hotel_continent              243444\n",
       "hotel_country                243444\n",
       "hotel_market                 243444\n",
       "hotel_cluster                243444\n",
       "date                         243444\n",
       "month-year                   243444\n",
       "month                        243444\n",
       "year                         243444\n",
       "periodo                      243444\n",
       "Categoría                    243444\n",
       "dtype: int64"
      ]
     },
     "execution_count": 3,
     "metadata": {},
     "output_type": "execute_result"
    }
   ],
   "source": [
    "myData.count()"
   ]
  },
  {
   "cell_type": "markdown",
   "metadata": {},
   "source": [
    "Comprobamos que se había guardado bien el dataSet del final de la actividad. Y que el número de valores nulos es el adecuado"
   ]
  },
  {
   "cell_type": "code",
   "execution_count": 4,
   "metadata": {
    "scrolled": true
   },
   "outputs": [
    {
     "data": {
      "text/plain": [
       "Unnamed: 0                       0\n",
       "date_time                        0\n",
       "site_name                        0\n",
       "posa_continent                   0\n",
       "user_location_country            0\n",
       "user_location_region             0\n",
       "user_location_city               0\n",
       "orig_destination_distance    84896\n",
       "user_id                          0\n",
       "is_mobile                        0\n",
       "is_package                       0\n",
       "channel                          0\n",
       "srch_adults_cnt                  0\n",
       "srch_children_cnt                0\n",
       "srch_rm_cnt                      0\n",
       "srch_destination_id              0\n",
       "srch_destination_type_id         0\n",
       "is_booking                       0\n",
       "cnt                              0\n",
       "hotel_continent                  0\n",
       "hotel_country                    0\n",
       "hotel_market                     0\n",
       "hotel_cluster                    0\n",
       "date                             0\n",
       "month-year                       0\n",
       "month                            0\n",
       "year                             0\n",
       "periodo                          0\n",
       "Categoría                        0\n",
       "dtype: int64"
      ]
     },
     "execution_count": 4,
     "metadata": {},
     "output_type": "execute_result"
    }
   ],
   "source": [
    "myData.isnull().sum()"
   ]
  },
  {
   "cell_type": "code",
   "execution_count": 5,
   "metadata": {},
   "outputs": [],
   "source": [
    "df_na = myData.dropna()"
   ]
  },
  {
   "cell_type": "code",
   "execution_count": 6,
   "metadata": {},
   "outputs": [
    {
     "data": {
      "text/plain": [
       "Unnamed: 0                   158548\n",
       "date_time                    158548\n",
       "site_name                    158548\n",
       "posa_continent               158548\n",
       "user_location_country        158548\n",
       "user_location_region         158548\n",
       "user_location_city           158548\n",
       "orig_destination_distance    158548\n",
       "user_id                      158548\n",
       "is_mobile                    158548\n",
       "is_package                   158548\n",
       "channel                      158548\n",
       "srch_adults_cnt              158548\n",
       "srch_children_cnt            158548\n",
       "srch_rm_cnt                  158548\n",
       "srch_destination_id          158548\n",
       "srch_destination_type_id     158548\n",
       "is_booking                   158548\n",
       "cnt                          158548\n",
       "hotel_continent              158548\n",
       "hotel_country                158548\n",
       "hotel_market                 158548\n",
       "hotel_cluster                158548\n",
       "date                         158548\n",
       "month-year                   158548\n",
       "month                        158548\n",
       "year                         158548\n",
       "periodo                      158548\n",
       "Categoría                    158548\n",
       "dtype: int64"
      ]
     },
     "execution_count": 6,
     "metadata": {},
     "output_type": "execute_result"
    }
   ],
   "source": [
    "df_na.count()"
   ]
  },
  {
   "cell_type": "code",
   "execution_count": 7,
   "metadata": {},
   "outputs": [
    {
     "data": {
      "text/plain": [
       "Unnamed: 0                   0\n",
       "date_time                    0\n",
       "site_name                    0\n",
       "posa_continent               0\n",
       "user_location_country        0\n",
       "user_location_region         0\n",
       "user_location_city           0\n",
       "orig_destination_distance    0\n",
       "user_id                      0\n",
       "is_mobile                    0\n",
       "is_package                   0\n",
       "channel                      0\n",
       "srch_adults_cnt              0\n",
       "srch_children_cnt            0\n",
       "srch_rm_cnt                  0\n",
       "srch_destination_id          0\n",
       "srch_destination_type_id     0\n",
       "is_booking                   0\n",
       "cnt                          0\n",
       "hotel_continent              0\n",
       "hotel_country                0\n",
       "hotel_market                 0\n",
       "hotel_cluster                0\n",
       "date                         0\n",
       "month-year                   0\n",
       "month                        0\n",
       "year                         0\n",
       "periodo                      0\n",
       "Categoría                    0\n",
       "dtype: int64"
      ]
     },
     "execution_count": 7,
     "metadata": {},
     "output_type": "execute_result"
    }
   ],
   "source": [
    "df_na.isnull().sum()"
   ]
  },
  {
   "cell_type": "code",
   "execution_count": 8,
   "metadata": {},
   "outputs": [],
   "source": [
    "dfNaN=myData[pd.isnull(myData).any(axis=1)]"
   ]
  },
  {
   "cell_type": "code",
   "execution_count": 9,
   "metadata": {},
   "outputs": [
    {
     "data": {
      "text/plain": [
       "Unnamed: 0                   84896\n",
       "date_time                    84896\n",
       "site_name                    84896\n",
       "posa_continent               84896\n",
       "user_location_country        84896\n",
       "user_location_region         84896\n",
       "user_location_city           84896\n",
       "orig_destination_distance        0\n",
       "user_id                      84896\n",
       "is_mobile                    84896\n",
       "is_package                   84896\n",
       "channel                      84896\n",
       "srch_adults_cnt              84896\n",
       "srch_children_cnt            84896\n",
       "srch_rm_cnt                  84896\n",
       "srch_destination_id          84896\n",
       "srch_destination_type_id     84896\n",
       "is_booking                   84896\n",
       "cnt                          84896\n",
       "hotel_continent              84896\n",
       "hotel_country                84896\n",
       "hotel_market                 84896\n",
       "hotel_cluster                84896\n",
       "date                         84896\n",
       "month-year                   84896\n",
       "month                        84896\n",
       "year                         84896\n",
       "periodo                      84896\n",
       "Categoría                    84896\n",
       "dtype: int64"
      ]
     },
     "execution_count": 9,
     "metadata": {},
     "output_type": "execute_result"
    }
   ],
   "source": [
    "dfNaN.count()"
   ]
  },
  {
   "cell_type": "code",
   "execution_count": 10,
   "metadata": {},
   "outputs": [],
   "source": [
    "# Guarda datos en CSV:\n",
    "df_na.to_csv('dfNoNulos.csv', index=False)"
   ]
  },
  {
   "cell_type": "code",
   "execution_count": 11,
   "metadata": {},
   "outputs": [],
   "source": [
    "# Guarda datos en CSV:\n",
    "dfNaN.to_csv('dfNULOS.csv', index=False)"
   ]
  },
  {
   "cell_type": "markdown",
   "metadata": {},
   "source": [
    "Hemos dividido el dataset original en elm dataset con nulos y con no nulos y a continuacion los pasaremos a csv y cargaremos en pysprk"
   ]
  },
  {
   "cell_type": "markdown",
   "metadata": {},
   "source": [
    "A continuación empezamos con pyspark. Lo primero de todo es importar todo aquello que vayamos a necesitar a lo largo del trabajo"
   ]
  },
  {
   "cell_type": "code",
   "execution_count": 3,
   "metadata": {},
   "outputs": [
    {
     "name": "stdout",
     "output_type": "stream",
     "text": [
      "<SparkContext master=local[3] appName=pyspark-shell>\n"
     ]
    }
   ],
   "source": [
    "import findspark\n",
    "findspark.init()\n",
    "findspark.find()\n",
    "from pyspark import SparkContext\n",
    "sc=SparkContext(master=\"local[3]\")\n",
    "print(sc)"
   ]
  },
  {
   "cell_type": "code",
   "execution_count": 111,
   "metadata": {},
   "outputs": [
    {
     "name": "stderr",
     "output_type": "stream",
     "text": [
      "ERROR:py4j.java_gateway:An error occurred while trying to connect to the Java server (127.0.0.1:62326)\n",
      "Traceback (most recent call last):\n",
      "  File \"C:\\spark\\spark-2.3.3-bin-hadoop2.7\\python\\lib\\py4j-0.10.7-src.zip\\py4j\\java_gateway.py\", line 1145, in send_command\n",
      "    self.socket.sendall(command.encode(\"utf-8\"))\n",
      "ConnectionResetError: [WinError 10054] Se ha forzado la interrupción de una conexión existente por el host remoto\n",
      "\n",
      "During handling of the above exception, another exception occurred:\n",
      "\n",
      "Traceback (most recent call last):\n",
      "  File \"C:\\spark\\spark-2.3.3-bin-hadoop2.7\\python\\lib\\py4j-0.10.7-src.zip\\py4j\\java_gateway.py\", line 985, in send_command\n",
      "    response = connection.send_command(command)\n",
      "  File \"C:\\spark\\spark-2.3.3-bin-hadoop2.7\\python\\lib\\py4j-0.10.7-src.zip\\py4j\\java_gateway.py\", line 1149, in send_command\n",
      "    \"Error while sending\", e, proto.ERROR_ON_SEND)\n",
      "py4j.protocol.Py4JNetworkError: Error while sending\n",
      "\n",
      "During handling of the above exception, another exception occurred:\n",
      "\n",
      "Traceback (most recent call last):\n",
      "  File \"C:\\spark\\spark-2.3.3-bin-hadoop2.7\\python\\lib\\py4j-0.10.7-src.zip\\py4j\\java_gateway.py\", line 1145, in send_command\n",
      "    self.socket.sendall(command.encode(\"utf-8\"))\n",
      "ConnectionResetError: [WinError 10054] Se ha forzado la interrupción de una conexión existente por el host remoto\n",
      "\n",
      "During handling of the above exception, another exception occurred:\n",
      "\n",
      "Traceback (most recent call last):\n",
      "  File \"C:\\spark\\spark-2.3.3-bin-hadoop2.7\\python\\lib\\py4j-0.10.7-src.zip\\py4j\\java_gateway.py\", line 985, in send_command\n",
      "    response = connection.send_command(command)\n",
      "  File \"C:\\spark\\spark-2.3.3-bin-hadoop2.7\\python\\lib\\py4j-0.10.7-src.zip\\py4j\\java_gateway.py\", line 1149, in send_command\n",
      "    \"Error while sending\", e, proto.ERROR_ON_SEND)\n",
      "py4j.protocol.Py4JNetworkError: Error while sending\n",
      "\n",
      "During handling of the above exception, another exception occurred:\n",
      "\n",
      "Traceback (most recent call last):\n",
      "  File \"C:\\spark\\spark-2.3.3-bin-hadoop2.7\\python\\lib\\py4j-0.10.7-src.zip\\py4j\\java_gateway.py\", line 929, in _get_connection\n",
      "    connection = self.deque.pop()\n",
      "IndexError: pop from an empty deque\n",
      "\n",
      "During handling of the above exception, another exception occurred:\n",
      "\n",
      "Traceback (most recent call last):\n",
      "  File \"C:\\spark\\spark-2.3.3-bin-hadoop2.7\\python\\lib\\py4j-0.10.7-src.zip\\py4j\\java_gateway.py\", line 1067, in start\n",
      "    self.socket.connect((self.address, self.port))\n",
      "ConnectionRefusedError: [WinError 10061] No se puede establecer una conexión ya que el equipo de destino denegó expresamente dicha conexión\n"
     ]
    },
    {
     "ename": "Py4JNetworkError",
     "evalue": "An error occurred while trying to connect to the Java server (127.0.0.1:62326)",
     "output_type": "error",
     "traceback": [
      "\u001b[1;31m---------------------------------------------------------------------------\u001b[0m",
      "\u001b[1;31mConnectionResetError\u001b[0m                      Traceback (most recent call last)",
      "\u001b[1;32mC:\\spark\\spark-2.3.3-bin-hadoop2.7\\python\\lib\\py4j-0.10.7-src.zip\\py4j\\java_gateway.py\u001b[0m in \u001b[0;36msend_command\u001b[1;34m(self, command)\u001b[0m\n\u001b[0;32m   1144\u001b[0m             \u001b[1;31m# if it sent a RST packet (SO_LINGER)\u001b[0m\u001b[1;33m\u001b[0m\u001b[1;33m\u001b[0m\u001b[1;33m\u001b[0m\u001b[0m\n\u001b[1;32m-> 1145\u001b[1;33m             \u001b[0mself\u001b[0m\u001b[1;33m.\u001b[0m\u001b[0msocket\u001b[0m\u001b[1;33m.\u001b[0m\u001b[0msendall\u001b[0m\u001b[1;33m(\u001b[0m\u001b[0mcommand\u001b[0m\u001b[1;33m.\u001b[0m\u001b[0mencode\u001b[0m\u001b[1;33m(\u001b[0m\u001b[1;34m\"utf-8\"\u001b[0m\u001b[1;33m)\u001b[0m\u001b[1;33m)\u001b[0m\u001b[1;33m\u001b[0m\u001b[1;33m\u001b[0m\u001b[0m\n\u001b[0m\u001b[0;32m   1146\u001b[0m         \u001b[1;32mexcept\u001b[0m \u001b[0mException\u001b[0m \u001b[1;32mas\u001b[0m \u001b[0me\u001b[0m\u001b[1;33m:\u001b[0m\u001b[1;33m\u001b[0m\u001b[1;33m\u001b[0m\u001b[0m\n",
      "\u001b[1;31mConnectionResetError\u001b[0m: [WinError 10054] Se ha forzado la interrupción de una conexión existente por el host remoto",
      "\nDuring handling of the above exception, another exception occurred:\n",
      "\u001b[1;31mPy4JNetworkError\u001b[0m                          Traceback (most recent call last)",
      "\u001b[1;32mC:\\spark\\spark-2.3.3-bin-hadoop2.7\\python\\lib\\py4j-0.10.7-src.zip\\py4j\\java_gateway.py\u001b[0m in \u001b[0;36msend_command\u001b[1;34m(self, command, retry, binary)\u001b[0m\n\u001b[0;32m    984\u001b[0m         \u001b[1;32mtry\u001b[0m\u001b[1;33m:\u001b[0m\u001b[1;33m\u001b[0m\u001b[1;33m\u001b[0m\u001b[0m\n\u001b[1;32m--> 985\u001b[1;33m             \u001b[0mresponse\u001b[0m \u001b[1;33m=\u001b[0m \u001b[0mconnection\u001b[0m\u001b[1;33m.\u001b[0m\u001b[0msend_command\u001b[0m\u001b[1;33m(\u001b[0m\u001b[0mcommand\u001b[0m\u001b[1;33m)\u001b[0m\u001b[1;33m\u001b[0m\u001b[1;33m\u001b[0m\u001b[0m\n\u001b[0m\u001b[0;32m    986\u001b[0m             \u001b[1;32mif\u001b[0m \u001b[0mbinary\u001b[0m\u001b[1;33m:\u001b[0m\u001b[1;33m\u001b[0m\u001b[1;33m\u001b[0m\u001b[0m\n",
      "\u001b[1;32mC:\\spark\\spark-2.3.3-bin-hadoop2.7\\python\\lib\\py4j-0.10.7-src.zip\\py4j\\java_gateway.py\u001b[0m in \u001b[0;36msend_command\u001b[1;34m(self, command)\u001b[0m\n\u001b[0;32m   1148\u001b[0m             raise Py4JNetworkError(\n\u001b[1;32m-> 1149\u001b[1;33m                 \"Error while sending\", e, proto.ERROR_ON_SEND)\n\u001b[0m\u001b[0;32m   1150\u001b[0m \u001b[1;33m\u001b[0m\u001b[0m\n",
      "\u001b[1;31mPy4JNetworkError\u001b[0m: Error while sending",
      "\nDuring handling of the above exception, another exception occurred:\n",
      "\u001b[1;31mConnectionResetError\u001b[0m                      Traceback (most recent call last)",
      "\u001b[1;32mC:\\spark\\spark-2.3.3-bin-hadoop2.7\\python\\lib\\py4j-0.10.7-src.zip\\py4j\\java_gateway.py\u001b[0m in \u001b[0;36msend_command\u001b[1;34m(self, command)\u001b[0m\n\u001b[0;32m   1144\u001b[0m             \u001b[1;31m# if it sent a RST packet (SO_LINGER)\u001b[0m\u001b[1;33m\u001b[0m\u001b[1;33m\u001b[0m\u001b[1;33m\u001b[0m\u001b[0m\n\u001b[1;32m-> 1145\u001b[1;33m             \u001b[0mself\u001b[0m\u001b[1;33m.\u001b[0m\u001b[0msocket\u001b[0m\u001b[1;33m.\u001b[0m\u001b[0msendall\u001b[0m\u001b[1;33m(\u001b[0m\u001b[0mcommand\u001b[0m\u001b[1;33m.\u001b[0m\u001b[0mencode\u001b[0m\u001b[1;33m(\u001b[0m\u001b[1;34m\"utf-8\"\u001b[0m\u001b[1;33m)\u001b[0m\u001b[1;33m)\u001b[0m\u001b[1;33m\u001b[0m\u001b[1;33m\u001b[0m\u001b[0m\n\u001b[0m\u001b[0;32m   1146\u001b[0m         \u001b[1;32mexcept\u001b[0m \u001b[0mException\u001b[0m \u001b[1;32mas\u001b[0m \u001b[0me\u001b[0m\u001b[1;33m:\u001b[0m\u001b[1;33m\u001b[0m\u001b[1;33m\u001b[0m\u001b[0m\n",
      "\u001b[1;31mConnectionResetError\u001b[0m: [WinError 10054] Se ha forzado la interrupción de una conexión existente por el host remoto",
      "\nDuring handling of the above exception, another exception occurred:\n",
      "\u001b[1;31mPy4JNetworkError\u001b[0m                          Traceback (most recent call last)",
      "\u001b[1;32mC:\\spark\\spark-2.3.3-bin-hadoop2.7\\python\\lib\\py4j-0.10.7-src.zip\\py4j\\java_gateway.py\u001b[0m in \u001b[0;36msend_command\u001b[1;34m(self, command, retry, binary)\u001b[0m\n\u001b[0;32m    984\u001b[0m         \u001b[1;32mtry\u001b[0m\u001b[1;33m:\u001b[0m\u001b[1;33m\u001b[0m\u001b[1;33m\u001b[0m\u001b[0m\n\u001b[1;32m--> 985\u001b[1;33m             \u001b[0mresponse\u001b[0m \u001b[1;33m=\u001b[0m \u001b[0mconnection\u001b[0m\u001b[1;33m.\u001b[0m\u001b[0msend_command\u001b[0m\u001b[1;33m(\u001b[0m\u001b[0mcommand\u001b[0m\u001b[1;33m)\u001b[0m\u001b[1;33m\u001b[0m\u001b[1;33m\u001b[0m\u001b[0m\n\u001b[0m\u001b[0;32m    986\u001b[0m             \u001b[1;32mif\u001b[0m \u001b[0mbinary\u001b[0m\u001b[1;33m:\u001b[0m\u001b[1;33m\u001b[0m\u001b[1;33m\u001b[0m\u001b[0m\n",
      "\u001b[1;32mC:\\spark\\spark-2.3.3-bin-hadoop2.7\\python\\lib\\py4j-0.10.7-src.zip\\py4j\\java_gateway.py\u001b[0m in \u001b[0;36msend_command\u001b[1;34m(self, command)\u001b[0m\n\u001b[0;32m   1148\u001b[0m             raise Py4JNetworkError(\n\u001b[1;32m-> 1149\u001b[1;33m                 \"Error while sending\", e, proto.ERROR_ON_SEND)\n\u001b[0m\u001b[0;32m   1150\u001b[0m \u001b[1;33m\u001b[0m\u001b[0m\n",
      "\u001b[1;31mPy4JNetworkError\u001b[0m: Error while sending",
      "\nDuring handling of the above exception, another exception occurred:\n",
      "\u001b[1;31mIndexError\u001b[0m                                Traceback (most recent call last)",
      "\u001b[1;32mC:\\spark\\spark-2.3.3-bin-hadoop2.7\\python\\lib\\py4j-0.10.7-src.zip\\py4j\\java_gateway.py\u001b[0m in \u001b[0;36m_get_connection\u001b[1;34m(self)\u001b[0m\n\u001b[0;32m    928\u001b[0m         \u001b[1;32mtry\u001b[0m\u001b[1;33m:\u001b[0m\u001b[1;33m\u001b[0m\u001b[1;33m\u001b[0m\u001b[0m\n\u001b[1;32m--> 929\u001b[1;33m             \u001b[0mconnection\u001b[0m \u001b[1;33m=\u001b[0m \u001b[0mself\u001b[0m\u001b[1;33m.\u001b[0m\u001b[0mdeque\u001b[0m\u001b[1;33m.\u001b[0m\u001b[0mpop\u001b[0m\u001b[1;33m(\u001b[0m\u001b[1;33m)\u001b[0m\u001b[1;33m\u001b[0m\u001b[1;33m\u001b[0m\u001b[0m\n\u001b[0m\u001b[0;32m    930\u001b[0m         \u001b[1;32mexcept\u001b[0m \u001b[0mIndexError\u001b[0m\u001b[1;33m:\u001b[0m\u001b[1;33m\u001b[0m\u001b[1;33m\u001b[0m\u001b[0m\n",
      "\u001b[1;31mIndexError\u001b[0m: pop from an empty deque",
      "\nDuring handling of the above exception, another exception occurred:\n",
      "\u001b[1;31mConnectionRefusedError\u001b[0m                    Traceback (most recent call last)",
      "\u001b[1;32mC:\\spark\\spark-2.3.3-bin-hadoop2.7\\python\\lib\\py4j-0.10.7-src.zip\\py4j\\java_gateway.py\u001b[0m in \u001b[0;36mstart\u001b[1;34m(self)\u001b[0m\n\u001b[0;32m   1066\u001b[0m         \u001b[1;32mtry\u001b[0m\u001b[1;33m:\u001b[0m\u001b[1;33m\u001b[0m\u001b[1;33m\u001b[0m\u001b[0m\n\u001b[1;32m-> 1067\u001b[1;33m             \u001b[0mself\u001b[0m\u001b[1;33m.\u001b[0m\u001b[0msocket\u001b[0m\u001b[1;33m.\u001b[0m\u001b[0mconnect\u001b[0m\u001b[1;33m(\u001b[0m\u001b[1;33m(\u001b[0m\u001b[0mself\u001b[0m\u001b[1;33m.\u001b[0m\u001b[0maddress\u001b[0m\u001b[1;33m,\u001b[0m \u001b[0mself\u001b[0m\u001b[1;33m.\u001b[0m\u001b[0mport\u001b[0m\u001b[1;33m)\u001b[0m\u001b[1;33m)\u001b[0m\u001b[1;33m\u001b[0m\u001b[1;33m\u001b[0m\u001b[0m\n\u001b[0m\u001b[0;32m   1068\u001b[0m             \u001b[0mself\u001b[0m\u001b[1;33m.\u001b[0m\u001b[0mstream\u001b[0m \u001b[1;33m=\u001b[0m \u001b[0mself\u001b[0m\u001b[1;33m.\u001b[0m\u001b[0msocket\u001b[0m\u001b[1;33m.\u001b[0m\u001b[0mmakefile\u001b[0m\u001b[1;33m(\u001b[0m\u001b[1;34m\"rb\"\u001b[0m\u001b[1;33m)\u001b[0m\u001b[1;33m\u001b[0m\u001b[1;33m\u001b[0m\u001b[0m\n",
      "\u001b[1;31mConnectionRefusedError\u001b[0m: [WinError 10061] No se puede establecer una conexión ya que el equipo de destino denegó expresamente dicha conexión",
      "\nDuring handling of the above exception, another exception occurred:\n",
      "\u001b[1;31mPy4JNetworkError\u001b[0m                          Traceback (most recent call last)",
      "\u001b[1;32m<ipython-input-111-3d24b9c57d80>\u001b[0m in \u001b[0;36m<module>\u001b[1;34m\u001b[0m\n\u001b[0;32m      4\u001b[0m     \u001b[1;33m.\u001b[0m\u001b[0mmaster\u001b[0m\u001b[1;33m(\u001b[0m\u001b[1;34m'local[*]'\u001b[0m\u001b[1;33m)\u001b[0m\u001b[0;31m \u001b[0m\u001b[0;31m\\\u001b[0m\u001b[1;33m\u001b[0m\u001b[1;33m\u001b[0m\u001b[0m\n\u001b[0;32m      5\u001b[0m     \u001b[1;33m.\u001b[0m\u001b[0mconfig\u001b[0m\u001b[1;33m(\u001b[0m\u001b[1;34m\"spark.driver.memory\"\u001b[0m\u001b[1;33m,\u001b[0m \u001b[1;34m\"15g\"\u001b[0m\u001b[1;33m)\u001b[0m\u001b[0;31m \u001b[0m\u001b[0;31m\\\u001b[0m\u001b[1;33m\u001b[0m\u001b[1;33m\u001b[0m\u001b[0m\n\u001b[1;32m----> 6\u001b[1;33m     \u001b[1;33m.\u001b[0m\u001b[0mappName\u001b[0m\u001b[1;33m(\u001b[0m\u001b[1;34m'my-cool-app'\u001b[0m\u001b[1;33m)\u001b[0m\u001b[0;31m \u001b[0m\u001b[0;31m\\\u001b[0m\u001b[1;33m\u001b[0m\u001b[1;33m\u001b[0m\u001b[0m\n\u001b[0m\u001b[0;32m      7\u001b[0m     \u001b[1;33m.\u001b[0m\u001b[0mgetOrCreate\u001b[0m\u001b[1;33m(\u001b[0m\u001b[1;33m)\u001b[0m\u001b[1;33m\u001b[0m\u001b[1;33m\u001b[0m\u001b[0m\n",
      "\u001b[1;32mC:\\spark\\spark-2.3.3-bin-hadoop2.7\\python\\pyspark\\sql\\session.py\u001b[0m in \u001b[0;36mgetOrCreate\u001b[1;34m(self)\u001b[0m\n\u001b[0;32m    181\u001b[0m                     \u001b[0msession\u001b[0m \u001b[1;33m=\u001b[0m \u001b[0mSparkSession\u001b[0m\u001b[1;33m(\u001b[0m\u001b[0msc\u001b[0m\u001b[1;33m)\u001b[0m\u001b[1;33m\u001b[0m\u001b[1;33m\u001b[0m\u001b[0m\n\u001b[0;32m    182\u001b[0m                 \u001b[1;32mfor\u001b[0m \u001b[0mkey\u001b[0m\u001b[1;33m,\u001b[0m \u001b[0mvalue\u001b[0m \u001b[1;32min\u001b[0m \u001b[0mself\u001b[0m\u001b[1;33m.\u001b[0m\u001b[0m_options\u001b[0m\u001b[1;33m.\u001b[0m\u001b[0mitems\u001b[0m\u001b[1;33m(\u001b[0m\u001b[1;33m)\u001b[0m\u001b[1;33m:\u001b[0m\u001b[1;33m\u001b[0m\u001b[1;33m\u001b[0m\u001b[0m\n\u001b[1;32m--> 183\u001b[1;33m                     \u001b[0msession\u001b[0m\u001b[1;33m.\u001b[0m\u001b[0m_jsparkSession\u001b[0m\u001b[1;33m.\u001b[0m\u001b[0msessionState\u001b[0m\u001b[1;33m(\u001b[0m\u001b[1;33m)\u001b[0m\u001b[1;33m.\u001b[0m\u001b[0mconf\u001b[0m\u001b[1;33m(\u001b[0m\u001b[1;33m)\u001b[0m\u001b[1;33m.\u001b[0m\u001b[0msetConfString\u001b[0m\u001b[1;33m(\u001b[0m\u001b[0mkey\u001b[0m\u001b[1;33m,\u001b[0m \u001b[0mvalue\u001b[0m\u001b[1;33m)\u001b[0m\u001b[1;33m\u001b[0m\u001b[1;33m\u001b[0m\u001b[0m\n\u001b[0m\u001b[0;32m    184\u001b[0m                 \u001b[1;32mfor\u001b[0m \u001b[0mkey\u001b[0m\u001b[1;33m,\u001b[0m \u001b[0mvalue\u001b[0m \u001b[1;32min\u001b[0m \u001b[0mself\u001b[0m\u001b[1;33m.\u001b[0m\u001b[0m_options\u001b[0m\u001b[1;33m.\u001b[0m\u001b[0mitems\u001b[0m\u001b[1;33m(\u001b[0m\u001b[1;33m)\u001b[0m\u001b[1;33m:\u001b[0m\u001b[1;33m\u001b[0m\u001b[1;33m\u001b[0m\u001b[0m\n\u001b[0;32m    185\u001b[0m                     \u001b[0msession\u001b[0m\u001b[1;33m.\u001b[0m\u001b[0msparkContext\u001b[0m\u001b[1;33m.\u001b[0m\u001b[0m_conf\u001b[0m\u001b[1;33m.\u001b[0m\u001b[0mset\u001b[0m\u001b[1;33m(\u001b[0m\u001b[0mkey\u001b[0m\u001b[1;33m,\u001b[0m \u001b[0mvalue\u001b[0m\u001b[1;33m)\u001b[0m\u001b[1;33m\u001b[0m\u001b[1;33m\u001b[0m\u001b[0m\n",
      "\u001b[1;32mC:\\spark\\spark-2.3.3-bin-hadoop2.7\\python\\lib\\py4j-0.10.7-src.zip\\py4j\\java_gateway.py\u001b[0m in \u001b[0;36m__call__\u001b[1;34m(self, *args)\u001b[0m\n\u001b[0;32m   1253\u001b[0m             \u001b[0mproto\u001b[0m\u001b[1;33m.\u001b[0m\u001b[0mEND_COMMAND_PART\u001b[0m\u001b[1;33m\u001b[0m\u001b[1;33m\u001b[0m\u001b[0m\n\u001b[0;32m   1254\u001b[0m \u001b[1;33m\u001b[0m\u001b[0m\n\u001b[1;32m-> 1255\u001b[1;33m         \u001b[0manswer\u001b[0m \u001b[1;33m=\u001b[0m \u001b[0mself\u001b[0m\u001b[1;33m.\u001b[0m\u001b[0mgateway_client\u001b[0m\u001b[1;33m.\u001b[0m\u001b[0msend_command\u001b[0m\u001b[1;33m(\u001b[0m\u001b[0mcommand\u001b[0m\u001b[1;33m)\u001b[0m\u001b[1;33m\u001b[0m\u001b[1;33m\u001b[0m\u001b[0m\n\u001b[0m\u001b[0;32m   1256\u001b[0m         return_value = get_return_value(\n\u001b[0;32m   1257\u001b[0m             answer, self.gateway_client, self.target_id, self.name)\n",
      "\u001b[1;32mC:\\spark\\spark-2.3.3-bin-hadoop2.7\\python\\lib\\py4j-0.10.7-src.zip\\py4j\\java_gateway.py\u001b[0m in \u001b[0;36msend_command\u001b[1;34m(self, command, retry, binary)\u001b[0m\n\u001b[0;32m    998\u001b[0m             \u001b[1;32mif\u001b[0m \u001b[0mself\u001b[0m\u001b[1;33m.\u001b[0m\u001b[0m_should_retry\u001b[0m\u001b[1;33m(\u001b[0m\u001b[0mretry\u001b[0m\u001b[1;33m,\u001b[0m \u001b[0mconnection\u001b[0m\u001b[1;33m,\u001b[0m \u001b[0mpne\u001b[0m\u001b[1;33m)\u001b[0m\u001b[1;33m:\u001b[0m\u001b[1;33m\u001b[0m\u001b[1;33m\u001b[0m\u001b[0m\n\u001b[0;32m    999\u001b[0m                 \u001b[0mlogging\u001b[0m\u001b[1;33m.\u001b[0m\u001b[0minfo\u001b[0m\u001b[1;33m(\u001b[0m\u001b[1;34m\"Exception while sending command.\"\u001b[0m\u001b[1;33m,\u001b[0m \u001b[0mexc_info\u001b[0m\u001b[1;33m=\u001b[0m\u001b[1;32mTrue\u001b[0m\u001b[1;33m)\u001b[0m\u001b[1;33m\u001b[0m\u001b[1;33m\u001b[0m\u001b[0m\n\u001b[1;32m-> 1000\u001b[1;33m                 \u001b[0mresponse\u001b[0m \u001b[1;33m=\u001b[0m \u001b[0mself\u001b[0m\u001b[1;33m.\u001b[0m\u001b[0msend_command\u001b[0m\u001b[1;33m(\u001b[0m\u001b[0mcommand\u001b[0m\u001b[1;33m,\u001b[0m \u001b[0mbinary\u001b[0m\u001b[1;33m=\u001b[0m\u001b[0mbinary\u001b[0m\u001b[1;33m)\u001b[0m\u001b[1;33m\u001b[0m\u001b[1;33m\u001b[0m\u001b[0m\n\u001b[0m\u001b[0;32m   1001\u001b[0m             \u001b[1;32melse\u001b[0m\u001b[1;33m:\u001b[0m\u001b[1;33m\u001b[0m\u001b[1;33m\u001b[0m\u001b[0m\n\u001b[0;32m   1002\u001b[0m                 logging.exception(\n",
      "\u001b[1;32mC:\\spark\\spark-2.3.3-bin-hadoop2.7\\python\\lib\\py4j-0.10.7-src.zip\\py4j\\java_gateway.py\u001b[0m in \u001b[0;36msend_command\u001b[1;34m(self, command, retry, binary)\u001b[0m\n\u001b[0;32m    998\u001b[0m             \u001b[1;32mif\u001b[0m \u001b[0mself\u001b[0m\u001b[1;33m.\u001b[0m\u001b[0m_should_retry\u001b[0m\u001b[1;33m(\u001b[0m\u001b[0mretry\u001b[0m\u001b[1;33m,\u001b[0m \u001b[0mconnection\u001b[0m\u001b[1;33m,\u001b[0m \u001b[0mpne\u001b[0m\u001b[1;33m)\u001b[0m\u001b[1;33m:\u001b[0m\u001b[1;33m\u001b[0m\u001b[1;33m\u001b[0m\u001b[0m\n\u001b[0;32m    999\u001b[0m                 \u001b[0mlogging\u001b[0m\u001b[1;33m.\u001b[0m\u001b[0minfo\u001b[0m\u001b[1;33m(\u001b[0m\u001b[1;34m\"Exception while sending command.\"\u001b[0m\u001b[1;33m,\u001b[0m \u001b[0mexc_info\u001b[0m\u001b[1;33m=\u001b[0m\u001b[1;32mTrue\u001b[0m\u001b[1;33m)\u001b[0m\u001b[1;33m\u001b[0m\u001b[1;33m\u001b[0m\u001b[0m\n\u001b[1;32m-> 1000\u001b[1;33m                 \u001b[0mresponse\u001b[0m \u001b[1;33m=\u001b[0m \u001b[0mself\u001b[0m\u001b[1;33m.\u001b[0m\u001b[0msend_command\u001b[0m\u001b[1;33m(\u001b[0m\u001b[0mcommand\u001b[0m\u001b[1;33m,\u001b[0m \u001b[0mbinary\u001b[0m\u001b[1;33m=\u001b[0m\u001b[0mbinary\u001b[0m\u001b[1;33m)\u001b[0m\u001b[1;33m\u001b[0m\u001b[1;33m\u001b[0m\u001b[0m\n\u001b[0m\u001b[0;32m   1001\u001b[0m             \u001b[1;32melse\u001b[0m\u001b[1;33m:\u001b[0m\u001b[1;33m\u001b[0m\u001b[1;33m\u001b[0m\u001b[0m\n\u001b[0;32m   1002\u001b[0m                 logging.exception(\n",
      "\u001b[1;32mC:\\spark\\spark-2.3.3-bin-hadoop2.7\\python\\lib\\py4j-0.10.7-src.zip\\py4j\\java_gateway.py\u001b[0m in \u001b[0;36msend_command\u001b[1;34m(self, command, retry, binary)\u001b[0m\n\u001b[0;32m    981\u001b[0m          \u001b[1;32mif\u001b[0m\u001b[0;31m \u001b[0m\u001b[0;31m`\u001b[0m\u001b[0mbinary\u001b[0m\u001b[0;31m`\u001b[0m \u001b[1;32mis\u001b[0m\u001b[0;31m \u001b[0m\u001b[0;31m`\u001b[0m\u001b[1;32mTrue\u001b[0m\u001b[0;31m`\u001b[0m\u001b[1;33m.\u001b[0m\u001b[1;33m\u001b[0m\u001b[1;33m\u001b[0m\u001b[0m\n\u001b[0;32m    982\u001b[0m         \"\"\"\n\u001b[1;32m--> 983\u001b[1;33m         \u001b[0mconnection\u001b[0m \u001b[1;33m=\u001b[0m \u001b[0mself\u001b[0m\u001b[1;33m.\u001b[0m\u001b[0m_get_connection\u001b[0m\u001b[1;33m(\u001b[0m\u001b[1;33m)\u001b[0m\u001b[1;33m\u001b[0m\u001b[1;33m\u001b[0m\u001b[0m\n\u001b[0m\u001b[0;32m    984\u001b[0m         \u001b[1;32mtry\u001b[0m\u001b[1;33m:\u001b[0m\u001b[1;33m\u001b[0m\u001b[1;33m\u001b[0m\u001b[0m\n\u001b[0;32m    985\u001b[0m             \u001b[0mresponse\u001b[0m \u001b[1;33m=\u001b[0m \u001b[0mconnection\u001b[0m\u001b[1;33m.\u001b[0m\u001b[0msend_command\u001b[0m\u001b[1;33m(\u001b[0m\u001b[0mcommand\u001b[0m\u001b[1;33m)\u001b[0m\u001b[1;33m\u001b[0m\u001b[1;33m\u001b[0m\u001b[0m\n",
      "\u001b[1;32mC:\\spark\\spark-2.3.3-bin-hadoop2.7\\python\\lib\\py4j-0.10.7-src.zip\\py4j\\java_gateway.py\u001b[0m in \u001b[0;36m_get_connection\u001b[1;34m(self)\u001b[0m\n\u001b[0;32m    929\u001b[0m             \u001b[0mconnection\u001b[0m \u001b[1;33m=\u001b[0m \u001b[0mself\u001b[0m\u001b[1;33m.\u001b[0m\u001b[0mdeque\u001b[0m\u001b[1;33m.\u001b[0m\u001b[0mpop\u001b[0m\u001b[1;33m(\u001b[0m\u001b[1;33m)\u001b[0m\u001b[1;33m\u001b[0m\u001b[1;33m\u001b[0m\u001b[0m\n\u001b[0;32m    930\u001b[0m         \u001b[1;32mexcept\u001b[0m \u001b[0mIndexError\u001b[0m\u001b[1;33m:\u001b[0m\u001b[1;33m\u001b[0m\u001b[1;33m\u001b[0m\u001b[0m\n\u001b[1;32m--> 931\u001b[1;33m             \u001b[0mconnection\u001b[0m \u001b[1;33m=\u001b[0m \u001b[0mself\u001b[0m\u001b[1;33m.\u001b[0m\u001b[0m_create_connection\u001b[0m\u001b[1;33m(\u001b[0m\u001b[1;33m)\u001b[0m\u001b[1;33m\u001b[0m\u001b[1;33m\u001b[0m\u001b[0m\n\u001b[0m\u001b[0;32m    932\u001b[0m         \u001b[1;32mreturn\u001b[0m \u001b[0mconnection\u001b[0m\u001b[1;33m\u001b[0m\u001b[1;33m\u001b[0m\u001b[0m\n\u001b[0;32m    933\u001b[0m \u001b[1;33m\u001b[0m\u001b[0m\n",
      "\u001b[1;32mC:\\spark\\spark-2.3.3-bin-hadoop2.7\\python\\lib\\py4j-0.10.7-src.zip\\py4j\\java_gateway.py\u001b[0m in \u001b[0;36m_create_connection\u001b[1;34m(self)\u001b[0m\n\u001b[0;32m    935\u001b[0m         connection = GatewayConnection(\n\u001b[0;32m    936\u001b[0m             self.gateway_parameters, self.gateway_property)\n\u001b[1;32m--> 937\u001b[1;33m         \u001b[0mconnection\u001b[0m\u001b[1;33m.\u001b[0m\u001b[0mstart\u001b[0m\u001b[1;33m(\u001b[0m\u001b[1;33m)\u001b[0m\u001b[1;33m\u001b[0m\u001b[1;33m\u001b[0m\u001b[0m\n\u001b[0m\u001b[0;32m    938\u001b[0m         \u001b[1;32mreturn\u001b[0m \u001b[0mconnection\u001b[0m\u001b[1;33m\u001b[0m\u001b[1;33m\u001b[0m\u001b[0m\n\u001b[0;32m    939\u001b[0m \u001b[1;33m\u001b[0m\u001b[0m\n",
      "\u001b[1;32mC:\\spark\\spark-2.3.3-bin-hadoop2.7\\python\\lib\\py4j-0.10.7-src.zip\\py4j\\java_gateway.py\u001b[0m in \u001b[0;36mstart\u001b[1;34m(self)\u001b[0m\n\u001b[0;32m   1077\u001b[0m                 \u001b[1;34m\"server ({0}:{1})\"\u001b[0m\u001b[1;33m.\u001b[0m\u001b[0mformat\u001b[0m\u001b[1;33m(\u001b[0m\u001b[0mself\u001b[0m\u001b[1;33m.\u001b[0m\u001b[0maddress\u001b[0m\u001b[1;33m,\u001b[0m \u001b[0mself\u001b[0m\u001b[1;33m.\u001b[0m\u001b[0mport\u001b[0m\u001b[1;33m)\u001b[0m\u001b[1;33m\u001b[0m\u001b[1;33m\u001b[0m\u001b[0m\n\u001b[0;32m   1078\u001b[0m             \u001b[0mlogger\u001b[0m\u001b[1;33m.\u001b[0m\u001b[0mexception\u001b[0m\u001b[1;33m(\u001b[0m\u001b[0mmsg\u001b[0m\u001b[1;33m)\u001b[0m\u001b[1;33m\u001b[0m\u001b[1;33m\u001b[0m\u001b[0m\n\u001b[1;32m-> 1079\u001b[1;33m             \u001b[1;32mraise\u001b[0m \u001b[0mPy4JNetworkError\u001b[0m\u001b[1;33m(\u001b[0m\u001b[0mmsg\u001b[0m\u001b[1;33m,\u001b[0m \u001b[0me\u001b[0m\u001b[1;33m)\u001b[0m\u001b[1;33m\u001b[0m\u001b[1;33m\u001b[0m\u001b[0m\n\u001b[0m\u001b[0;32m   1080\u001b[0m \u001b[1;33m\u001b[0m\u001b[0m\n\u001b[0;32m   1081\u001b[0m     \u001b[1;32mdef\u001b[0m \u001b[0m_authenticate_connection\u001b[0m\u001b[1;33m(\u001b[0m\u001b[0mself\u001b[0m\u001b[1;33m)\u001b[0m\u001b[1;33m:\u001b[0m\u001b[1;33m\u001b[0m\u001b[1;33m\u001b[0m\u001b[0m\n",
      "\u001b[1;31mPy4JNetworkError\u001b[0m: An error occurred while trying to connect to the Java server (127.0.0.1:62326)"
     ]
    }
   ],
   "source": [
    "from pyspark.sql import SparkSession\n",
    "\n",
    "spark = SparkSession.builder \\\n",
    "    .master('local[*]') \\\n",
    "    .config(\"spark.driver.memory\", \"15g\") \\\n",
    "    .appName('my-cool-app') \\\n",
    "    .getOrCreate()"
   ]
  },
  {
   "cell_type": "code",
   "execution_count": 4,
   "metadata": {},
   "outputs": [],
   "source": [
    "from pyspark.sql.session import *\n",
    "from pyspark.sql.types import *\n",
    "from pyspark.sql.functions import *"
   ]
  },
  {
   "cell_type": "code",
   "execution_count": 5,
   "metadata": {},
   "outputs": [],
   "source": [
    "from pyspark.sql.session import SparkSession\n",
    "spark = SparkSession(sc)"
   ]
  },
  {
   "cell_type": "markdown",
   "metadata": {},
   "source": [
    "Cargamos nuestro dataSet mediante la librería spark"
   ]
  },
  {
   "cell_type": "code",
   "execution_count": 15,
   "metadata": {},
   "outputs": [],
   "source": [
    "Mkt_DF = spark.read.csv('expediaBueno.csv', header='true', inferSchema='true', sep=',')"
   ]
  },
  {
   "cell_type": "code",
   "execution_count": 16,
   "metadata": {},
   "outputs": [],
   "source": [
    "Mkt_DFNoNulos = spark.read.csv('dfNoNulos.csv', header='true', inferSchema='true', sep=',')"
   ]
  },
  {
   "cell_type": "code",
   "execution_count": 17,
   "metadata": {},
   "outputs": [],
   "source": [
    "Mkt_DFNULOS = spark.read.csv('dfNULOS.csv', header='true', inferSchema='true', sep=',')"
   ]
  },
  {
   "cell_type": "markdown",
   "metadata": {},
   "source": [
    "Comprobamos que se nos ha cargado bien el dataSet imprimiendo la primera fila de nuestro dataSet y viendo el número de columnas totales que tiene nuestro dataSet"
   ]
  },
  {
   "cell_type": "code",
   "execution_count": 18,
   "metadata": {},
   "outputs": [
    {
     "data": {
      "text/plain": [
       "[Row(_c0=101940, date_time=datetime.datetime(2013, 1, 14, 9, 57, 25), site_name=2, posa_continent=3, user_location_country=66, user_location_region=442, user_location_city=35390, orig_destination_distance=799.9374, user_id=397128, is_mobile=0, is_package=1, channel=0, srch_adults_cnt=3, srch_children_cnt=2, srch_rm_cnt=1.0, srch_destination_id=8791.0, srch_destination_type_id=1.0, is_booking=0.0, cnt=1.0, hotel_continent=4.0, hotel_country=8.0, hotel_market=110.0, hotel_cluster=83.0, date=datetime.datetime(2013, 1, 14, 0, 0), month-year='2013-01', month=1, year=2013, periodo=1, Categoría=9)]"
      ]
     },
     "execution_count": 18,
     "metadata": {},
     "output_type": "execute_result"
    }
   ],
   "source": [
    "Mkt_DF.head(1)"
   ]
  },
  {
   "cell_type": "code",
   "execution_count": 19,
   "metadata": {},
   "outputs": [
    {
     "data": {
      "text/plain": [
       "[Row(Unnamed: 0=101940, date_time=datetime.datetime(2013, 1, 14, 9, 57, 25), site_name=2, posa_continent=3, user_location_country=66, user_location_region=442, user_location_city=35390, orig_destination_distance=799.9374, user_id=397128, is_mobile=0, is_package=1, channel=0, srch_adults_cnt=3, srch_children_cnt=2, srch_rm_cnt=1.0, srch_destination_id=8791.0, srch_destination_type_id=1.0, is_booking=0.0, cnt=1.0, hotel_continent=4.0, hotel_country=8.0, hotel_market=110.0, hotel_cluster=83.0, date=datetime.datetime(2013, 1, 14, 0, 0), month-year='2013-01', month=1, year=2013, periodo=1, Categoría=9)]"
      ]
     },
     "execution_count": 19,
     "metadata": {},
     "output_type": "execute_result"
    }
   ],
   "source": [
    "Mkt_DFNoNulos.head(1)"
   ]
  },
  {
   "cell_type": "code",
   "execution_count": 20,
   "metadata": {},
   "outputs": [
    {
     "data": {
      "text/plain": [
       "[Row(Unnamed: 0=142252, date_time=datetime.datetime(2013, 1, 29, 12, 20, 45), site_name=37, posa_continent=1, user_location_country=69, user_location_region=908, user_location_city=28451, orig_destination_distance=None, user_id=552136, is_mobile=0, is_package=0, channel=9, srch_adults_cnt=2, srch_children_cnt=0, srch_rm_cnt=1.0, srch_destination_id=8238.0, srch_destination_type_id=1.0, is_booking=0.0, cnt=1.0, hotel_continent=6.0, hotel_country=31.0, hotel_market=155.0, hotel_cluster=42.0, date=datetime.datetime(2013, 1, 29, 0, 0), month-year='2013-01', month=1, year=2013, periodo=1, Categoría=4)]"
      ]
     },
     "execution_count": 20,
     "metadata": {},
     "output_type": "execute_result"
    }
   ],
   "source": [
    "Mkt_DFNULOS.head(1)"
   ]
  },
  {
   "cell_type": "code",
   "execution_count": 21,
   "metadata": {},
   "outputs": [
    {
     "data": {
      "text/plain": [
       "243444"
      ]
     },
     "execution_count": 21,
     "metadata": {},
     "output_type": "execute_result"
    }
   ],
   "source": [
    "Mkt_DF.count()"
   ]
  },
  {
   "cell_type": "code",
   "execution_count": 22,
   "metadata": {},
   "outputs": [
    {
     "data": {
      "text/plain": [
       "158548"
      ]
     },
     "execution_count": 22,
     "metadata": {},
     "output_type": "execute_result"
    }
   ],
   "source": [
    "Mkt_DFNoNulos.count()"
   ]
  },
  {
   "cell_type": "code",
   "execution_count": 23,
   "metadata": {},
   "outputs": [
    {
     "data": {
      "text/plain": [
       "84896"
      ]
     },
     "execution_count": 23,
     "metadata": {},
     "output_type": "execute_result"
    }
   ],
   "source": [
    "Mkt_DFNULOS.count()"
   ]
  },
  {
   "cell_type": "markdown",
   "metadata": {},
   "source": [
    "Como podemos observar en el código anterior, la primera columna no tiene nombre, decidimos imprimir todas las columnas para comprobar que es cierto que no tiene nombre dicha columna"
   ]
  },
  {
   "cell_type": "code",
   "execution_count": 24,
   "metadata": {},
   "outputs": [
    {
     "data": {
      "text/plain": [
       "['_c0',\n",
       " 'date_time',\n",
       " 'site_name',\n",
       " 'posa_continent',\n",
       " 'user_location_country',\n",
       " 'user_location_region',\n",
       " 'user_location_city',\n",
       " 'orig_destination_distance',\n",
       " 'user_id',\n",
       " 'is_mobile',\n",
       " 'is_package',\n",
       " 'channel',\n",
       " 'srch_adults_cnt',\n",
       " 'srch_children_cnt',\n",
       " 'srch_rm_cnt',\n",
       " 'srch_destination_id',\n",
       " 'srch_destination_type_id',\n",
       " 'is_booking',\n",
       " 'cnt',\n",
       " 'hotel_continent',\n",
       " 'hotel_country',\n",
       " 'hotel_market',\n",
       " 'hotel_cluster',\n",
       " 'date',\n",
       " 'month-year',\n",
       " 'month',\n",
       " 'year',\n",
       " 'periodo',\n",
       " 'Categoría']"
      ]
     },
     "execution_count": 24,
     "metadata": {},
     "output_type": "execute_result"
    }
   ],
   "source": [
    "Mkt_DF.columns"
   ]
  },
  {
   "cell_type": "markdown",
   "metadata": {},
   "source": [
    "**ESQUEMA**"
   ]
  },
  {
   "cell_type": "markdown",
   "metadata": {},
   "source": [
    "A continuación, pasamos a ver cual es la estructura predeterminada que tiene nuestro dataSet y ver si tenemos que corregir algo o no."
   ]
  },
  {
   "cell_type": "markdown",
   "metadata": {},
   "source": [
    "Una vez impreso el esquema decidimos realizar ciertos cambios en ella:\n",
    "\n",
    "La columana 'is_booking' la cambiamos. En la estructura predetermiada aparece que es de tipo Double, nosotros al ver que dicha columna era igual que las columnas 'is_package' e 'is_mobile' y estas últimas estaban predetermiandas como de tipo Integer, decidimos ponerlas todas del mismo tipo, es decir, Integer.\n",
    "\n",
    "La columna 'month-year' aparecía que era de typo String y decidimos cambiarla y ponerla del mismo tipo que aparece la columna 'data_time', es decir, de tipo Timestamp.\n",
    "\n",
    "Tanto la columna 'hotel_continent', 'hotel_county', 'hotel_market', 'hotel_cluster', aparecen de tipo Double. Nosotros al ver que todos los valores de dichas columnas eran enteros, decidimos modificar su tipo a Integer. "
   ]
  },
  {
   "cell_type": "markdown",
   "metadata": {},
   "source": [
    "A continuación imprimimos las columas por las que nos hemos guiado para cambiar el tipo de dato en el esquema"
   ]
  },
  {
   "cell_type": "code",
   "execution_count": 25,
   "metadata": {},
   "outputs": [
    {
     "name": "stdout",
     "output_type": "stream",
     "text": [
      "+----------+----------+---------+----------+-------------------+---------------+\n",
      "|is_booking|is_package|is_mobile|month-year|          date_time|hotel_continent|\n",
      "+----------+----------+---------+----------+-------------------+---------------+\n",
      "|       0.0|         1|        0|   2013-01|2013-01-14 09:57:25|            4.0|\n",
      "|       0.0|         0|        0|   2013-01|2013-01-29 12:20:45|            6.0|\n",
      "|       0.0|         0|        0|   2013-01|2013-01-29 12:30:08|            6.0|\n",
      "|       0.0|         0|        0|   2013-01|2013-01-29 12:30:48|            6.0|\n",
      "|       0.0|         1|        0|   2013-01|2013-01-29 13:11:18|            6.0|\n",
      "|       1.0|         1|        0|   2013-01|2013-01-29 13:24:55|            6.0|\n",
      "|       0.0|         0|        0|   2013-01|2013-01-29 17:03:13|            6.0|\n",
      "|       0.0|         0|        0|   2013-01|2013-01-31 11:07:07|            6.0|\n",
      "|       0.0|         1|        0|   2013-01|2013-01-28 19:43:15|            2.0|\n",
      "|       0.0|         1|        0|   2013-01|2013-01-29 14:26:19|            2.0|\n",
      "|       0.0|         0|        0|   2013-01|2013-01-29 12:18:17|            6.0|\n",
      "|       0.0|         1|        0|   2013-01|2013-01-30 08:13:13|            2.0|\n",
      "|       0.0|         1|        0|   2013-01|2013-01-30 08:22:49|            2.0|\n",
      "|       0.0|         1|        0|   2013-01|2013-01-30 08:30:44|            2.0|\n",
      "|       0.0|         1|        0|   2013-01|2013-01-31 06:06:06|            2.0|\n",
      "|       1.0|         1|        0|   2013-01|2013-01-31 06:18:28|            2.0|\n",
      "|       0.0|         0|        0|   2013-01|2013-01-28 10:06:16|            2.0|\n",
      "|       0.0|         0|        0|   2013-01|2013-01-28 09:56:43|            2.0|\n",
      "|       1.0|         0|        0|   2013-01|2013-01-28 09:56:30|            2.0|\n",
      "|       0.0|         0|        0|   2013-01|2013-01-28 09:45:16|            2.0|\n",
      "+----------+----------+---------+----------+-------------------+---------------+\n",
      "only showing top 20 rows\n",
      "\n"
     ]
    }
   ],
   "source": [
    "Mkt_DF.select(\"is_booking\",\"is_package\",\"is_mobile\",\"month-year\",\"date_time\",\"hotel_continent\").show()"
   ]
  },
  {
   "cell_type": "markdown",
   "metadata": {},
   "source": [
    "Creamos el nuevo esquema con los cambios que hemos comentado anteriormente"
   ]
  },
  {
   "cell_type": "code",
   "execution_count": 26,
   "metadata": {},
   "outputs": [
    {
     "data": {
      "text/plain": [
       "StructType(List(StructField(_c0,IntegerType,true),StructField(date_time,TimestampType,true),StructField(site_name,IntegerType,true),StructField(posa_continent,IntegerType,true),StructField(user_location_country,IntegerType,true),StructField(user_location_region,IntegerType,true),StructField(user_location_city,IntegerType,true),StructField(orig_destination_distance,DoubleType,true),StructField(user_id,IntegerType,true),StructField(is_mobile,IntegerType,true),StructField(is_package,IntegerType,true),StructField(channel,IntegerType,true),StructField(srch_adults_cnt,IntegerType,true),StructField(srch_children_cnt,IntegerType,true),StructField(srch_rm_cnt,DoubleType,true),StructField(srch_destination_id,DoubleType,true),StructField(srch_destination_type_id,DoubleType,true),StructField(is_booking,DoubleType,true),StructField(cnt,DoubleType,true),StructField(hotel_continent,DoubleType,true),StructField(hotel_country,DoubleType,true),StructField(hotel_market,DoubleType,true),StructField(hotel_cluster,DoubleType,true),StructField(date,TimestampType,true),StructField(month-year,StringType,true),StructField(month,IntegerType,true),StructField(year,IntegerType,true),StructField(periodo,IntegerType,true),StructField(Categoría,IntegerType,true)))"
      ]
     },
     "execution_count": 26,
     "metadata": {},
     "output_type": "execute_result"
    }
   ],
   "source": [
    "Mkt_DF.schema"
   ]
  },
  {
   "cell_type": "code",
   "execution_count": 27,
   "metadata": {},
   "outputs": [],
   "source": [
    "# El esquema se codifica en un string, usando StructType definimos el esquema usando varios pyspark.sql.types\n",
    "Estructura = StructType([\n",
    "    StructField(\"ID_Reserva\", IntegerType()),  \n",
    "    StructField(\"date_time\", TimestampType()),    \n",
    "    StructField(\"site_name\", IntegerType()),\n",
    "    StructField(\"posa_continent\", IntegerType()),\n",
    "    StructField(\"user_location_country\", IntegerType()),\n",
    "    StructField(\"user_location_region\", IntegerType()),\n",
    "    StructField(\"user_location_city\", IntegerType()),\n",
    "    StructField(\"orig_destination_distance\", DoubleType()),\n",
    "    StructField(\"user_id\", IntegerType()),\n",
    "    StructField(\"is_mobile\", DoubleType()),\n",
    "    StructField(\"is_package\", DoubleType()),\n",
    "    StructField(\"channel\", IntegerType()),\n",
    "    StructField(\"srch_adults_cnt\", IntegerType()),\n",
    "    StructField(\"srch_children_cnt\", IntegerType()),\n",
    "    StructField(\"srch_rm_cnt\", DoubleType()),\n",
    "    StructField(\"srch_destination_id\", DoubleType()),\n",
    "    StructField(\"srch_destination_type_id\", DoubleType()),\n",
    "    StructField(\"is_booking\", DoubleType()),\n",
    "    StructField(\"cnt\", DoubleType()),\n",
    "    StructField(\"hotel_continent\", DoubleType()),\n",
    "    StructField(\"hotel_country\", DoubleType()),\n",
    "    StructField(\"hotel_market\", DoubleType()),\n",
    "    StructField(\"hotel_cluster\", DoubleType()),\n",
    "    StructField(\"date\", TimestampType()),\n",
    "    StructField(\"month-year\", StringType()),\n",
    "    StructField(\"month\", IntegerType()),\n",
    "    StructField(\"year\", IntegerType()),\n",
    "    StructField(\"periodo\", IntegerType()),\n",
    "    StructField(\"Categoría\", IntegerType())\n",
    "])\n",
    "\n"
   ]
  },
  {
   "cell_type": "markdown",
   "metadata": {},
   "source": [
    "Indicamos a nuestro dataSet que queremos que los valores sigan el esquema que hemos formado nosotros y no el predeterminado"
   ]
  },
  {
   "cell_type": "code",
   "execution_count": 28,
   "metadata": {},
   "outputs": [],
   "source": [
    "df7 = spark.read.csv('expediaBueno.csv', schema=Estructura, header=True)"
   ]
  },
  {
   "cell_type": "code",
   "execution_count": 29,
   "metadata": {},
   "outputs": [
    {
     "data": {
      "text/plain": [
       "pyspark.sql.dataframe.DataFrame"
      ]
     },
     "execution_count": 29,
     "metadata": {},
     "output_type": "execute_result"
    }
   ],
   "source": [
    "type(df7)"
   ]
  },
  {
   "cell_type": "code",
   "execution_count": 30,
   "metadata": {
    "scrolled": true
   },
   "outputs": [],
   "source": [
    "df = spark.read.csv('expediaBueno.csv', header='true', inferSchema='false', schema=Estructura, sep=',') #index false"
   ]
  },
  {
   "cell_type": "code",
   "execution_count": 31,
   "metadata": {},
   "outputs": [],
   "source": [
    "cols = df.columns"
   ]
  },
  {
   "cell_type": "code",
   "execution_count": 32,
   "metadata": {
    "scrolled": true
   },
   "outputs": [
    {
     "data": {
      "text/plain": [
       "StructType(List(StructField(ID_Reserva,IntegerType,true),StructField(date_time,TimestampType,true),StructField(site_name,IntegerType,true),StructField(posa_continent,IntegerType,true),StructField(user_location_country,IntegerType,true),StructField(user_location_region,IntegerType,true),StructField(user_location_city,IntegerType,true),StructField(orig_destination_distance,DoubleType,true),StructField(user_id,IntegerType,true),StructField(is_mobile,DoubleType,true),StructField(is_package,DoubleType,true),StructField(channel,IntegerType,true),StructField(srch_adults_cnt,IntegerType,true),StructField(srch_children_cnt,IntegerType,true),StructField(srch_rm_cnt,DoubleType,true),StructField(srch_destination_id,DoubleType,true),StructField(srch_destination_type_id,DoubleType,true),StructField(is_booking,DoubleType,true),StructField(cnt,DoubleType,true),StructField(hotel_continent,DoubleType,true),StructField(hotel_country,DoubleType,true),StructField(hotel_market,DoubleType,true),StructField(hotel_cluster,DoubleType,true),StructField(date,TimestampType,true),StructField(month-year,StringType,true),StructField(month,IntegerType,true),StructField(year,IntegerType,true),StructField(periodo,IntegerType,true),StructField(Categoría,IntegerType,true)))"
      ]
     },
     "execution_count": 32,
     "metadata": {},
     "output_type": "execute_result"
    }
   ],
   "source": [
    "df.schema"
   ]
  },
  {
   "cell_type": "code",
   "execution_count": 33,
   "metadata": {},
   "outputs": [
    {
     "name": "stdout",
     "output_type": "stream",
     "text": [
      "root\n",
      " |-- ID_Reserva: integer (nullable = true)\n",
      " |-- date_time: timestamp (nullable = true)\n",
      " |-- site_name: integer (nullable = true)\n",
      " |-- posa_continent: integer (nullable = true)\n",
      " |-- user_location_country: integer (nullable = true)\n",
      " |-- user_location_region: integer (nullable = true)\n",
      " |-- user_location_city: integer (nullable = true)\n",
      " |-- orig_destination_distance: double (nullable = true)\n",
      " |-- user_id: integer (nullable = true)\n",
      " |-- is_mobile: double (nullable = true)\n",
      " |-- is_package: double (nullable = true)\n",
      " |-- channel: integer (nullable = true)\n",
      " |-- srch_adults_cnt: integer (nullable = true)\n",
      " |-- srch_children_cnt: integer (nullable = true)\n",
      " |-- srch_rm_cnt: double (nullable = true)\n",
      " |-- srch_destination_id: double (nullable = true)\n",
      " |-- srch_destination_type_id: double (nullable = true)\n",
      " |-- is_booking: double (nullable = true)\n",
      " |-- cnt: double (nullable = true)\n",
      " |-- hotel_continent: double (nullable = true)\n",
      " |-- hotel_country: double (nullable = true)\n",
      " |-- hotel_market: double (nullable = true)\n",
      " |-- hotel_cluster: double (nullable = true)\n",
      " |-- date: timestamp (nullable = true)\n",
      " |-- month-year: string (nullable = true)\n",
      " |-- month: integer (nullable = true)\n",
      " |-- year: integer (nullable = true)\n",
      " |-- periodo: integer (nullable = true)\n",
      " |-- Categoría: integer (nullable = true)\n",
      "\n"
     ]
    }
   ],
   "source": [
    "df.printSchema()"
   ]
  },
  {
   "cell_type": "code",
   "execution_count": 34,
   "metadata": {},
   "outputs": [
    {
     "data": {
      "text/plain": [
       "[Row(ID_Reserva=101940, date_time=datetime.datetime(2013, 1, 14, 9, 57, 25), site_name=2, posa_continent=3, user_location_country=66, user_location_region=442, user_location_city=35390, orig_destination_distance=799.9374, user_id=397128, is_mobile=0.0, is_package=1.0, channel=0, srch_adults_cnt=3, srch_children_cnt=2, srch_rm_cnt=1.0, srch_destination_id=8791.0, srch_destination_type_id=1.0, is_booking=0.0, cnt=1.0, hotel_continent=4.0, hotel_country=8.0, hotel_market=110.0, hotel_cluster=83.0, date=datetime.datetime(2013, 1, 14, 0, 0), month-year='2013-01', month=1, year=2013, periodo=1, Categoría=9)]"
      ]
     },
     "execution_count": 34,
     "metadata": {},
     "output_type": "execute_result"
    }
   ],
   "source": [
    "#df.drop('ID_Reserva').collect()\n",
    "df.head(1)\n",
    "#df.select(\"is_booking\",\"is_package\",\"is_mobile\",\"month-year\",\"hotel_continent\").show()\n",
    "#df.drop(df.DistanciaINT)"
   ]
  },
  {
   "cell_type": "code",
   "execution_count": 11,
   "metadata": {},
   "outputs": [],
   "source": [
    "from pyspark.ml import Pipeline\n",
    "from pyspark.ml.feature import StringIndexer, OneHotEncoder, VectorAssembler\n",
    "import pyspark.ml.feature as ft\n",
    "import pyspark.ml.tuning as tune"
   ]
  },
  {
   "cell_type": "markdown",
   "metadata": {},
   "source": [
    "fecha_df=maxfecha_df.select(date_format(sf.col(\"fecha_tms\"), \"yyyyMMdd\").alias(\"date_string\")) to_csv"
   ]
  },
  {
   "cell_type": "code",
   "execution_count": 39,
   "metadata": {},
   "outputs": [],
   "source": [
    "encoder1 = ft.OneHotEncoder(\n",
    "    inputCol='hotel_cluster', \n",
    "    outputCol='hotel_clusterVEC')"
   ]
  },
  {
   "cell_type": "markdown",
   "metadata": {},
   "source": [
    "encoder2 = ft.OneHotEncoder(\n",
    "    inputCol='user_id', \n",
    "    outputCol='user_idVEC')"
   ]
  },
  {
   "cell_type": "markdown",
   "metadata": {},
   "source": [
    "encoder3 = ft.OneHotEncoder(\n",
    "    inputCol='user_location_city', \n",
    "    outputCol='user_location_cityVEC')"
   ]
  },
  {
   "cell_type": "code",
   "execution_count": 40,
   "metadata": {},
   "outputs": [],
   "source": [
    "assembler1 = VectorAssembler(\n",
    "    inputCols=['site_name','posa_continent','user_location_country','user_location_region','user_location_city','user_id','is_mobile','is_package','channel','srch_adults_cnt','srch_children_cnt','srch_rm_cnt','srch_destination_id','srch_destination_type_id','is_booking','cnt','hotel_continent','hotel_country','hotel_market','hotel_cluster','month','year','periodo', 'Categoría'] + \\\n",
    "    [encoder1.getOutputCol()],\n",
    "   #,' [encoder2.getOutputCol()],\n",
    "  #,'  [encoder3.getOutputCol()],\n",
    "    outputCol=\"features\")\n",
    "#,'user_id','is_mobile','is_package','channel','srch_adults_cnt','srch_children_cnt','srch_rm_cnt','srch_destination_id','srch_destination_type_id','is_booking','cnt','hotel_continent','hotel_country','hotel_market','hotel_cluster','periodo', 'Categoría'"
   ]
  },
  {
   "cell_type": "code",
   "execution_count": 41,
   "metadata": {},
   "outputs": [
    {
     "data": {
      "text/plain": [
       "[Row(ID_Reserva=101940, date_time=datetime.datetime(2013, 1, 14, 9, 57, 25), site_name=2, posa_continent=3, user_location_country=66, user_location_region=442, user_location_city=35390, orig_destination_distance=799.9374, user_id=397128, is_mobile=0.0, is_package=1.0, channel=0, srch_adults_cnt=3, srch_children_cnt=2, srch_rm_cnt=1.0, srch_destination_id=8791.0, srch_destination_type_id=1.0, is_booking=0.0, cnt=1.0, hotel_continent=4.0, hotel_country=8.0, hotel_market=110.0, hotel_cluster=83.0, date=datetime.datetime(2013, 1, 14, 0, 0), month-year='2013-01', month=1, year=2013, periodo=1, Categoría=9)]"
      ]
     },
     "execution_count": 41,
     "metadata": {},
     "output_type": "execute_result"
    }
   ],
   "source": [
    "df.head(1)"
   ]
  },
  {
   "cell_type": "code",
   "execution_count": null,
   "metadata": {},
   "outputs": [],
   "source": [
    "ckeckpoint1"
   ]
  },
  {
   "cell_type": "code",
   "execution_count": 13,
   "metadata": {},
   "outputs": [],
   "source": [
    "import pyspark.ml.classification as cl\n",
    "\n",
    "logistic = cl.LogisticRegression(\n",
    "    #class_weight=\"balanced\",\n",
    "    maxIter=10, \n",
    "    regParam=0.01, \n",
    "    labelCol='hotel_cluster')#columna de salida que yo quiero estimar"
   ]
  },
  {
   "cell_type": "code",
   "execution_count": 14,
   "metadata": {},
   "outputs": [],
   "source": [
    "df_train, df_test = df \\\n",
    "    .randomSplit([0.7, 0.3], seed=666)\n",
    "#You need to make sure there are no missing values in your data -- that's why you get the NullPointerException. Also, make sure that all your input features to the VectorAssembler are numeric."
   ]
  },
  {
   "cell_type": "code",
   "execution_count": 15,
   "metadata": {},
   "outputs": [],
   "source": [
    "pipeline = Pipeline(stages=[assembler2, logistic])"
   ]
  },
  {
   "cell_type": "code",
   "execution_count": 16,
   "metadata": {},
   "outputs": [],
   "source": [
    "model = pipeline.fit(train)"
   ]
  },
  {
   "cell_type": "code",
   "execution_count": 17,
   "metadata": {},
   "outputs": [],
   "source": [
    "test_model = model.transform(df)"
   ]
  },
  {
   "cell_type": "code",
   "execution_count": 18,
   "metadata": {},
   "outputs": [
    {
     "data": {
      "text/plain": [
       "[Row(id=0, date_time=datetime.datetime(2015, 9, 3, 17, 9, 54), site_name=2, posa_continent=3, user_location_country=66, user_location_region=174, user_location_city=37449, orig_destination_distance=5539.0567, user_id=1, is_mobile=1, is_package=0, channel=3, srch_ci='2016-05-19', srch_co=datetime.datetime(2016, 5, 23, 0, 0), srch_adults_cnt=2, srch_children_cnt=0, srch_rm_cnt=1, srch_destination_id=12243, srch_destination_type_id=6, hotel_continent=6, hotel_country=204, hotel_market=27, hotel_cluster=1, features=DenseVector([2.0, 3.0, 66.0, 174.0, 37449.0, 5539.0567, 1.0, 1.0, 0.0, 3.0, 2.0, 0.0, 1.0, 12243.0, 6.0, 6.0, 204.0, 27.0]), rawPrediction=DenseVector([-0.5921, -1.024, 1.2076, -0.109, -0.3802, 1.5838, 0.2476, -0.6703, 0.6959, 0.9182, 0.2753, 1.0998, 0.3907, -0.4572, -0.1722, 0.1363, 0.0162, -0.133, -0.4248, -0.8227, 0.4659, 0.5089, 0.8641, -0.9165, -1.2783, 1.3398, 0.0612, -0.3815, 0.1013, 1.1352, 1.0295, -0.5634, -0.8455, 0.0756, -0.7929, -0.2759, 1.1387, 0.6696, 0.4572, -1.0058, 0.0997, 0.1914, -0.6141, 0.2433, 0.2911, -1.2159, 1.499, -0.1872, -0.2395, -0.5047, -0.4499, -0.3306, -0.0233, -0.4969, -1.1342, -0.0824, -1.1603, 0.4718, 1.5365, 1.1545, -0.0253, 0.8396, 1.225, 0.2896, 2.1698, -0.4333, -0.8404, 0.5712, 0.286, -0.2364, -0.6373, -1.4117, -0.2858, -0.0811, -1.5986, -0.169, -0.0122, -0.4804, 0.9202, -1.1542, -0.6444, 0.7619, 1.2788, 0.214, -0.8072, 0.7853, 0.2578, -0.5966, -1.5889, -0.0872, 0.0293, -0.7659, -0.137, -0.4893, -0.958, 0.0073, -0.547, 0.7325, -0.2092, 1.2067]), probability=DenseVector([0.004, 0.0026, 0.0242, 0.0065, 0.005, 0.0353, 0.0093, 0.0037, 0.0145, 0.0182, 0.0095, 0.0218, 0.0107, 0.0046, 0.0061, 0.0083, 0.0074, 0.0063, 0.0047, 0.0032, 0.0115, 0.0121, 0.0172, 0.0029, 0.002, 0.0277, 0.0077, 0.0049, 0.008, 0.0226, 0.0203, 0.0041, 0.0031, 0.0078, 0.0033, 0.0055, 0.0226, 0.0142, 0.0114, 0.0027, 0.008, 0.0088, 0.0039, 0.0092, 0.0097, 0.0021, 0.0324, 0.006, 0.0057, 0.0044, 0.0046, 0.0052, 0.0071, 0.0044, 0.0023, 0.0067, 0.0023, 0.0116, 0.0337, 0.023, 0.0071, 0.0168, 0.0247, 0.0097, 0.0635, 0.0047, 0.0031, 0.0128, 0.0096, 0.0057, 0.0038, 0.0018, 0.0054, 0.0067, 0.0015, 0.0061, 0.0072, 0.0045, 0.0182, 0.0023, 0.0038, 0.0155, 0.026, 0.009, 0.0032, 0.0159, 0.0094, 0.004, 0.0015, 0.0066, 0.0075, 0.0034, 0.0063, 0.0044, 0.0028, 0.0073, 0.0042, 0.0151, 0.0059, 0.0242]), prediction=64.0)]"
      ]
     },
     "execution_count": 18,
     "metadata": {},
     "output_type": "execute_result"
    }
   ],
   "source": [
    "test_model.take(1) #cakecake"
   ]
  },
  {
   "cell_type": "code",
   "execution_count": 22,
   "metadata": {},
   "outputs": [],
   "source": [
    "test_model.select('id','prediction').show()"
   ]
  },
  {
   "cell_type": "code",
   "execution_count": 20,
   "metadata": {},
   "outputs": [
    {
     "name": "stderr",
     "output_type": "stream",
     "text": [
      "ERROR:py4j.java_gateway:An error occurred while trying to connect to the Java server (127.0.0.1:63884)\n",
      "Traceback (most recent call last):\n",
      "  File \"C:\\spark\\spark-2.3.3-bin-hadoop2.7\\python\\lib\\py4j-0.10.7-src.zip\\py4j\\java_gateway.py\", line 1145, in send_command\n",
      "    self.socket.sendall(command.encode(\"utf-8\"))\n",
      "ConnectionResetError: [WinError 10054] Se ha forzado la interrupción de una conexión existente por el host remoto\n",
      "\n",
      "During handling of the above exception, another exception occurred:\n",
      "\n",
      "Traceback (most recent call last):\n",
      "  File \"C:\\spark\\spark-2.3.3-bin-hadoop2.7\\python\\lib\\py4j-0.10.7-src.zip\\py4j\\java_gateway.py\", line 985, in send_command\n",
      "    response = connection.send_command(command)\n",
      "  File \"C:\\spark\\spark-2.3.3-bin-hadoop2.7\\python\\lib\\py4j-0.10.7-src.zip\\py4j\\java_gateway.py\", line 1149, in send_command\n",
      "    \"Error while sending\", e, proto.ERROR_ON_SEND)\n",
      "py4j.protocol.Py4JNetworkError: Error while sending\n",
      "\n",
      "During handling of the above exception, another exception occurred:\n",
      "\n",
      "Traceback (most recent call last):\n",
      "  File \"C:\\spark\\spark-2.3.3-bin-hadoop2.7\\python\\lib\\py4j-0.10.7-src.zip\\py4j\\java_gateway.py\", line 929, in _get_connection\n",
      "    connection = self.deque.pop()\n",
      "IndexError: pop from an empty deque\n",
      "\n",
      "During handling of the above exception, another exception occurred:\n",
      "\n",
      "Traceback (most recent call last):\n",
      "  File \"C:\\spark\\spark-2.3.3-bin-hadoop2.7\\python\\lib\\py4j-0.10.7-src.zip\\py4j\\java_gateway.py\", line 1067, in start\n",
      "    self.socket.connect((self.address, self.port))\n",
      "ConnectionRefusedError: [WinError 10061] No se puede establecer una conexión ya que el equipo de destino denegó expresamente dicha conexión\n"
     ]
    },
    {
     "ename": "Py4JNetworkError",
     "evalue": "An error occurred while trying to connect to the Java server (127.0.0.1:63884)",
     "output_type": "error",
     "traceback": [
      "\u001b[1;31m---------------------------------------------------------------------------\u001b[0m",
      "\u001b[1;31mConnectionResetError\u001b[0m                      Traceback (most recent call last)",
      "\u001b[1;32mC:\\spark\\spark-2.3.3-bin-hadoop2.7\\python\\lib\\py4j-0.10.7-src.zip\\py4j\\java_gateway.py\u001b[0m in \u001b[0;36msend_command\u001b[1;34m(self, command)\u001b[0m\n\u001b[0;32m   1144\u001b[0m             \u001b[1;31m# if it sent a RST packet (SO_LINGER)\u001b[0m\u001b[1;33m\u001b[0m\u001b[1;33m\u001b[0m\u001b[1;33m\u001b[0m\u001b[0m\n\u001b[1;32m-> 1145\u001b[1;33m             \u001b[0mself\u001b[0m\u001b[1;33m.\u001b[0m\u001b[0msocket\u001b[0m\u001b[1;33m.\u001b[0m\u001b[0msendall\u001b[0m\u001b[1;33m(\u001b[0m\u001b[0mcommand\u001b[0m\u001b[1;33m.\u001b[0m\u001b[0mencode\u001b[0m\u001b[1;33m(\u001b[0m\u001b[1;34m\"utf-8\"\u001b[0m\u001b[1;33m)\u001b[0m\u001b[1;33m)\u001b[0m\u001b[1;33m\u001b[0m\u001b[1;33m\u001b[0m\u001b[0m\n\u001b[0m\u001b[0;32m   1146\u001b[0m         \u001b[1;32mexcept\u001b[0m \u001b[0mException\u001b[0m \u001b[1;32mas\u001b[0m \u001b[0me\u001b[0m\u001b[1;33m:\u001b[0m\u001b[1;33m\u001b[0m\u001b[1;33m\u001b[0m\u001b[0m\n",
      "\u001b[1;31mConnectionResetError\u001b[0m: [WinError 10054] Se ha forzado la interrupción de una conexión existente por el host remoto",
      "\nDuring handling of the above exception, another exception occurred:\n",
      "\u001b[1;31mPy4JNetworkError\u001b[0m                          Traceback (most recent call last)",
      "\u001b[1;32mC:\\spark\\spark-2.3.3-bin-hadoop2.7\\python\\lib\\py4j-0.10.7-src.zip\\py4j\\java_gateway.py\u001b[0m in \u001b[0;36msend_command\u001b[1;34m(self, command, retry, binary)\u001b[0m\n\u001b[0;32m    984\u001b[0m         \u001b[1;32mtry\u001b[0m\u001b[1;33m:\u001b[0m\u001b[1;33m\u001b[0m\u001b[1;33m\u001b[0m\u001b[0m\n\u001b[1;32m--> 985\u001b[1;33m             \u001b[0mresponse\u001b[0m \u001b[1;33m=\u001b[0m \u001b[0mconnection\u001b[0m\u001b[1;33m.\u001b[0m\u001b[0msend_command\u001b[0m\u001b[1;33m(\u001b[0m\u001b[0mcommand\u001b[0m\u001b[1;33m)\u001b[0m\u001b[1;33m\u001b[0m\u001b[1;33m\u001b[0m\u001b[0m\n\u001b[0m\u001b[0;32m    986\u001b[0m             \u001b[1;32mif\u001b[0m \u001b[0mbinary\u001b[0m\u001b[1;33m:\u001b[0m\u001b[1;33m\u001b[0m\u001b[1;33m\u001b[0m\u001b[0m\n",
      "\u001b[1;32mC:\\spark\\spark-2.3.3-bin-hadoop2.7\\python\\lib\\py4j-0.10.7-src.zip\\py4j\\java_gateway.py\u001b[0m in \u001b[0;36msend_command\u001b[1;34m(self, command)\u001b[0m\n\u001b[0;32m   1148\u001b[0m             raise Py4JNetworkError(\n\u001b[1;32m-> 1149\u001b[1;33m                 \"Error while sending\", e, proto.ERROR_ON_SEND)\n\u001b[0m\u001b[0;32m   1150\u001b[0m \u001b[1;33m\u001b[0m\u001b[0m\n",
      "\u001b[1;31mPy4JNetworkError\u001b[0m: Error while sending",
      "\nDuring handling of the above exception, another exception occurred:\n",
      "\u001b[1;31mIndexError\u001b[0m                                Traceback (most recent call last)",
      "\u001b[1;32mC:\\spark\\spark-2.3.3-bin-hadoop2.7\\python\\lib\\py4j-0.10.7-src.zip\\py4j\\java_gateway.py\u001b[0m in \u001b[0;36m_get_connection\u001b[1;34m(self)\u001b[0m\n\u001b[0;32m    928\u001b[0m         \u001b[1;32mtry\u001b[0m\u001b[1;33m:\u001b[0m\u001b[1;33m\u001b[0m\u001b[1;33m\u001b[0m\u001b[0m\n\u001b[1;32m--> 929\u001b[1;33m             \u001b[0mconnection\u001b[0m \u001b[1;33m=\u001b[0m \u001b[0mself\u001b[0m\u001b[1;33m.\u001b[0m\u001b[0mdeque\u001b[0m\u001b[1;33m.\u001b[0m\u001b[0mpop\u001b[0m\u001b[1;33m(\u001b[0m\u001b[1;33m)\u001b[0m\u001b[1;33m\u001b[0m\u001b[1;33m\u001b[0m\u001b[0m\n\u001b[0m\u001b[0;32m    930\u001b[0m         \u001b[1;32mexcept\u001b[0m \u001b[0mIndexError\u001b[0m\u001b[1;33m:\u001b[0m\u001b[1;33m\u001b[0m\u001b[1;33m\u001b[0m\u001b[0m\n",
      "\u001b[1;31mIndexError\u001b[0m: pop from an empty deque",
      "\nDuring handling of the above exception, another exception occurred:\n",
      "\u001b[1;31mConnectionRefusedError\u001b[0m                    Traceback (most recent call last)",
      "\u001b[1;32mC:\\spark\\spark-2.3.3-bin-hadoop2.7\\python\\lib\\py4j-0.10.7-src.zip\\py4j\\java_gateway.py\u001b[0m in \u001b[0;36mstart\u001b[1;34m(self)\u001b[0m\n\u001b[0;32m   1066\u001b[0m         \u001b[1;32mtry\u001b[0m\u001b[1;33m:\u001b[0m\u001b[1;33m\u001b[0m\u001b[1;33m\u001b[0m\u001b[0m\n\u001b[1;32m-> 1067\u001b[1;33m             \u001b[0mself\u001b[0m\u001b[1;33m.\u001b[0m\u001b[0msocket\u001b[0m\u001b[1;33m.\u001b[0m\u001b[0mconnect\u001b[0m\u001b[1;33m(\u001b[0m\u001b[1;33m(\u001b[0m\u001b[0mself\u001b[0m\u001b[1;33m.\u001b[0m\u001b[0maddress\u001b[0m\u001b[1;33m,\u001b[0m \u001b[0mself\u001b[0m\u001b[1;33m.\u001b[0m\u001b[0mport\u001b[0m\u001b[1;33m)\u001b[0m\u001b[1;33m)\u001b[0m\u001b[1;33m\u001b[0m\u001b[1;33m\u001b[0m\u001b[0m\n\u001b[0m\u001b[0;32m   1068\u001b[0m             \u001b[0mself\u001b[0m\u001b[1;33m.\u001b[0m\u001b[0mstream\u001b[0m \u001b[1;33m=\u001b[0m \u001b[0mself\u001b[0m\u001b[1;33m.\u001b[0m\u001b[0msocket\u001b[0m\u001b[1;33m.\u001b[0m\u001b[0mmakefile\u001b[0m\u001b[1;33m(\u001b[0m\u001b[1;34m\"rb\"\u001b[0m\u001b[1;33m)\u001b[0m\u001b[1;33m\u001b[0m\u001b[1;33m\u001b[0m\u001b[0m\n",
      "\u001b[1;31mConnectionRefusedError\u001b[0m: [WinError 10061] No se puede establecer una conexión ya que el equipo de destino denegó expresamente dicha conexión",
      "\nDuring handling of the above exception, another exception occurred:\n",
      "\u001b[1;31mPy4JNetworkError\u001b[0m                          Traceback (most recent call last)",
      "\u001b[1;32m~\\Anaconda3\\lib\\site-packages\\IPython\\core\\formatters.py\u001b[0m in \u001b[0;36m__call__\u001b[1;34m(self, obj)\u001b[0m\n\u001b[0;32m    700\u001b[0m                 \u001b[0mtype_pprinters\u001b[0m\u001b[1;33m=\u001b[0m\u001b[0mself\u001b[0m\u001b[1;33m.\u001b[0m\u001b[0mtype_printers\u001b[0m\u001b[1;33m,\u001b[0m\u001b[1;33m\u001b[0m\u001b[1;33m\u001b[0m\u001b[0m\n\u001b[0;32m    701\u001b[0m                 deferred_pprinters=self.deferred_printers)\n\u001b[1;32m--> 702\u001b[1;33m             \u001b[0mprinter\u001b[0m\u001b[1;33m.\u001b[0m\u001b[0mpretty\u001b[0m\u001b[1;33m(\u001b[0m\u001b[0mobj\u001b[0m\u001b[1;33m)\u001b[0m\u001b[1;33m\u001b[0m\u001b[1;33m\u001b[0m\u001b[0m\n\u001b[0m\u001b[0;32m    703\u001b[0m             \u001b[0mprinter\u001b[0m\u001b[1;33m.\u001b[0m\u001b[0mflush\u001b[0m\u001b[1;33m(\u001b[0m\u001b[1;33m)\u001b[0m\u001b[1;33m\u001b[0m\u001b[1;33m\u001b[0m\u001b[0m\n\u001b[0;32m    704\u001b[0m             \u001b[1;32mreturn\u001b[0m \u001b[0mstream\u001b[0m\u001b[1;33m.\u001b[0m\u001b[0mgetvalue\u001b[0m\u001b[1;33m(\u001b[0m\u001b[1;33m)\u001b[0m\u001b[1;33m\u001b[0m\u001b[1;33m\u001b[0m\u001b[0m\n",
      "\u001b[1;32m~\\Anaconda3\\lib\\site-packages\\IPython\\lib\\pretty.py\u001b[0m in \u001b[0;36mpretty\u001b[1;34m(self, obj)\u001b[0m\n\u001b[0;32m    383\u001b[0m                 \u001b[1;32mif\u001b[0m \u001b[0mcls\u001b[0m \u001b[1;32min\u001b[0m \u001b[0mself\u001b[0m\u001b[1;33m.\u001b[0m\u001b[0mtype_pprinters\u001b[0m\u001b[1;33m:\u001b[0m\u001b[1;33m\u001b[0m\u001b[1;33m\u001b[0m\u001b[0m\n\u001b[0;32m    384\u001b[0m                     \u001b[1;31m# printer registered in self.type_pprinters\u001b[0m\u001b[1;33m\u001b[0m\u001b[1;33m\u001b[0m\u001b[1;33m\u001b[0m\u001b[0m\n\u001b[1;32m--> 385\u001b[1;33m                     \u001b[1;32mreturn\u001b[0m \u001b[0mself\u001b[0m\u001b[1;33m.\u001b[0m\u001b[0mtype_pprinters\u001b[0m\u001b[1;33m[\u001b[0m\u001b[0mcls\u001b[0m\u001b[1;33m]\u001b[0m\u001b[1;33m(\u001b[0m\u001b[0mobj\u001b[0m\u001b[1;33m,\u001b[0m \u001b[0mself\u001b[0m\u001b[1;33m,\u001b[0m \u001b[0mcycle\u001b[0m\u001b[1;33m)\u001b[0m\u001b[1;33m\u001b[0m\u001b[1;33m\u001b[0m\u001b[0m\n\u001b[0m\u001b[0;32m    386\u001b[0m                 \u001b[1;32melse\u001b[0m\u001b[1;33m:\u001b[0m\u001b[1;33m\u001b[0m\u001b[1;33m\u001b[0m\u001b[0m\n\u001b[0;32m    387\u001b[0m                     \u001b[1;31m# deferred printer\u001b[0m\u001b[1;33m\u001b[0m\u001b[1;33m\u001b[0m\u001b[1;33m\u001b[0m\u001b[0m\n",
      "\u001b[1;32m~\\Anaconda3\\lib\\site-packages\\IPython\\lib\\pretty.py\u001b[0m in \u001b[0;36m_repr_pprint\u001b[1;34m(obj, p, cycle)\u001b[0m\n\u001b[0;32m    695\u001b[0m     \u001b[1;34m\"\"\"A pprint that just redirects to the normal repr function.\"\"\"\u001b[0m\u001b[1;33m\u001b[0m\u001b[1;33m\u001b[0m\u001b[0m\n\u001b[0;32m    696\u001b[0m     \u001b[1;31m# Find newlines and replace them with p.break_()\u001b[0m\u001b[1;33m\u001b[0m\u001b[1;33m\u001b[0m\u001b[1;33m\u001b[0m\u001b[0m\n\u001b[1;32m--> 697\u001b[1;33m     \u001b[0moutput\u001b[0m \u001b[1;33m=\u001b[0m \u001b[0mrepr\u001b[0m\u001b[1;33m(\u001b[0m\u001b[0mobj\u001b[0m\u001b[1;33m)\u001b[0m\u001b[1;33m\u001b[0m\u001b[1;33m\u001b[0m\u001b[0m\n\u001b[0m\u001b[0;32m    698\u001b[0m     \u001b[1;32mfor\u001b[0m \u001b[0midx\u001b[0m\u001b[1;33m,\u001b[0m\u001b[0moutput_line\u001b[0m \u001b[1;32min\u001b[0m \u001b[0menumerate\u001b[0m\u001b[1;33m(\u001b[0m\u001b[0moutput\u001b[0m\u001b[1;33m.\u001b[0m\u001b[0msplitlines\u001b[0m\u001b[1;33m(\u001b[0m\u001b[1;33m)\u001b[0m\u001b[1;33m)\u001b[0m\u001b[1;33m:\u001b[0m\u001b[1;33m\u001b[0m\u001b[1;33m\u001b[0m\u001b[0m\n\u001b[0;32m    699\u001b[0m         \u001b[1;32mif\u001b[0m \u001b[0midx\u001b[0m\u001b[1;33m:\u001b[0m\u001b[1;33m\u001b[0m\u001b[1;33m\u001b[0m\u001b[0m\n",
      "\u001b[1;32mC:\\spark\\spark-2.3.3-bin-hadoop2.7\\python\\pyspark\\sql\\dataframe.py\u001b[0m in \u001b[0;36m__repr__\u001b[1;34m(self)\u001b[0m\n\u001b[0;32m    353\u001b[0m \u001b[1;33m\u001b[0m\u001b[0m\n\u001b[0;32m    354\u001b[0m     \u001b[1;32mdef\u001b[0m \u001b[0m__repr__\u001b[0m\u001b[1;33m(\u001b[0m\u001b[0mself\u001b[0m\u001b[1;33m)\u001b[0m\u001b[1;33m:\u001b[0m\u001b[1;33m\u001b[0m\u001b[1;33m\u001b[0m\u001b[0m\n\u001b[1;32m--> 355\u001b[1;33m         \u001b[1;32mreturn\u001b[0m \u001b[1;34m\"DataFrame[%s]\"\u001b[0m \u001b[1;33m%\u001b[0m \u001b[1;33m(\u001b[0m\u001b[1;34m\", \"\u001b[0m\u001b[1;33m.\u001b[0m\u001b[0mjoin\u001b[0m\u001b[1;33m(\u001b[0m\u001b[1;34m\"%s: %s\"\u001b[0m \u001b[1;33m%\u001b[0m \u001b[0mc\u001b[0m \u001b[1;32mfor\u001b[0m \u001b[0mc\u001b[0m \u001b[1;32min\u001b[0m \u001b[0mself\u001b[0m\u001b[1;33m.\u001b[0m\u001b[0mdtypes\u001b[0m\u001b[1;33m)\u001b[0m\u001b[1;33m)\u001b[0m\u001b[1;33m\u001b[0m\u001b[1;33m\u001b[0m\u001b[0m\n\u001b[0m\u001b[0;32m    356\u001b[0m \u001b[1;33m\u001b[0m\u001b[0m\n\u001b[0;32m    357\u001b[0m     \u001b[1;33m@\u001b[0m\u001b[0msince\u001b[0m\u001b[1;33m(\u001b[0m\u001b[1;36m2.1\u001b[0m\u001b[1;33m)\u001b[0m\u001b[1;33m\u001b[0m\u001b[1;33m\u001b[0m\u001b[0m\n",
      "\u001b[1;32mC:\\spark\\spark-2.3.3-bin-hadoop2.7\\python\\pyspark\\sql\\dataframe.py\u001b[0m in \u001b[0;36mdtypes\u001b[1;34m(self)\u001b[0m\n\u001b[0;32m    808\u001b[0m         \u001b[1;33m[\u001b[0m\u001b[1;33m(\u001b[0m\u001b[1;34m'age'\u001b[0m\u001b[1;33m,\u001b[0m \u001b[1;34m'int'\u001b[0m\u001b[1;33m)\u001b[0m\u001b[1;33m,\u001b[0m \u001b[1;33m(\u001b[0m\u001b[1;34m'name'\u001b[0m\u001b[1;33m,\u001b[0m \u001b[1;34m'string'\u001b[0m\u001b[1;33m)\u001b[0m\u001b[1;33m]\u001b[0m\u001b[1;33m\u001b[0m\u001b[1;33m\u001b[0m\u001b[0m\n\u001b[0;32m    809\u001b[0m         \"\"\"\n\u001b[1;32m--> 810\u001b[1;33m         \u001b[1;32mreturn\u001b[0m \u001b[1;33m[\u001b[0m\u001b[1;33m(\u001b[0m\u001b[0mstr\u001b[0m\u001b[1;33m(\u001b[0m\u001b[0mf\u001b[0m\u001b[1;33m.\u001b[0m\u001b[0mname\u001b[0m\u001b[1;33m)\u001b[0m\u001b[1;33m,\u001b[0m \u001b[0mf\u001b[0m\u001b[1;33m.\u001b[0m\u001b[0mdataType\u001b[0m\u001b[1;33m.\u001b[0m\u001b[0msimpleString\u001b[0m\u001b[1;33m(\u001b[0m\u001b[1;33m)\u001b[0m\u001b[1;33m)\u001b[0m \u001b[1;32mfor\u001b[0m \u001b[0mf\u001b[0m \u001b[1;32min\u001b[0m \u001b[0mself\u001b[0m\u001b[1;33m.\u001b[0m\u001b[0mschema\u001b[0m\u001b[1;33m.\u001b[0m\u001b[0mfields\u001b[0m\u001b[1;33m]\u001b[0m\u001b[1;33m\u001b[0m\u001b[1;33m\u001b[0m\u001b[0m\n\u001b[0m\u001b[0;32m    811\u001b[0m \u001b[1;33m\u001b[0m\u001b[0m\n\u001b[0;32m    812\u001b[0m     \u001b[1;33m@\u001b[0m\u001b[0mproperty\u001b[0m\u001b[1;33m\u001b[0m\u001b[1;33m\u001b[0m\u001b[0m\n",
      "\u001b[1;32mC:\\spark\\spark-2.3.3-bin-hadoop2.7\\python\\pyspark\\sql\\dataframe.py\u001b[0m in \u001b[0;36mschema\u001b[1;34m(self)\u001b[0m\n\u001b[0;32m    248\u001b[0m         \u001b[1;32mif\u001b[0m \u001b[0mself\u001b[0m\u001b[1;33m.\u001b[0m\u001b[0m_schema\u001b[0m \u001b[1;32mis\u001b[0m \u001b[1;32mNone\u001b[0m\u001b[1;33m:\u001b[0m\u001b[1;33m\u001b[0m\u001b[1;33m\u001b[0m\u001b[0m\n\u001b[0;32m    249\u001b[0m             \u001b[1;32mtry\u001b[0m\u001b[1;33m:\u001b[0m\u001b[1;33m\u001b[0m\u001b[1;33m\u001b[0m\u001b[0m\n\u001b[1;32m--> 250\u001b[1;33m                 \u001b[0mself\u001b[0m\u001b[1;33m.\u001b[0m\u001b[0m_schema\u001b[0m \u001b[1;33m=\u001b[0m \u001b[0m_parse_datatype_json_string\u001b[0m\u001b[1;33m(\u001b[0m\u001b[0mself\u001b[0m\u001b[1;33m.\u001b[0m\u001b[0m_jdf\u001b[0m\u001b[1;33m.\u001b[0m\u001b[0mschema\u001b[0m\u001b[1;33m(\u001b[0m\u001b[1;33m)\u001b[0m\u001b[1;33m.\u001b[0m\u001b[0mjson\u001b[0m\u001b[1;33m(\u001b[0m\u001b[1;33m)\u001b[0m\u001b[1;33m)\u001b[0m\u001b[1;33m\u001b[0m\u001b[1;33m\u001b[0m\u001b[0m\n\u001b[0m\u001b[0;32m    251\u001b[0m             \u001b[1;32mexcept\u001b[0m \u001b[0mAttributeError\u001b[0m \u001b[1;32mas\u001b[0m \u001b[0me\u001b[0m\u001b[1;33m:\u001b[0m\u001b[1;33m\u001b[0m\u001b[1;33m\u001b[0m\u001b[0m\n\u001b[0;32m    252\u001b[0m                 raise Exception(\n",
      "\u001b[1;32mC:\\spark\\spark-2.3.3-bin-hadoop2.7\\python\\lib\\py4j-0.10.7-src.zip\\py4j\\java_gateway.py\u001b[0m in \u001b[0;36m__call__\u001b[1;34m(self, *args)\u001b[0m\n\u001b[0;32m   1253\u001b[0m             \u001b[0mproto\u001b[0m\u001b[1;33m.\u001b[0m\u001b[0mEND_COMMAND_PART\u001b[0m\u001b[1;33m\u001b[0m\u001b[1;33m\u001b[0m\u001b[0m\n\u001b[0;32m   1254\u001b[0m \u001b[1;33m\u001b[0m\u001b[0m\n\u001b[1;32m-> 1255\u001b[1;33m         \u001b[0manswer\u001b[0m \u001b[1;33m=\u001b[0m \u001b[0mself\u001b[0m\u001b[1;33m.\u001b[0m\u001b[0mgateway_client\u001b[0m\u001b[1;33m.\u001b[0m\u001b[0msend_command\u001b[0m\u001b[1;33m(\u001b[0m\u001b[0mcommand\u001b[0m\u001b[1;33m)\u001b[0m\u001b[1;33m\u001b[0m\u001b[1;33m\u001b[0m\u001b[0m\n\u001b[0m\u001b[0;32m   1256\u001b[0m         return_value = get_return_value(\n\u001b[0;32m   1257\u001b[0m             answer, self.gateway_client, self.target_id, self.name)\n",
      "\u001b[1;32mC:\\spark\\spark-2.3.3-bin-hadoop2.7\\python\\lib\\py4j-0.10.7-src.zip\\py4j\\java_gateway.py\u001b[0m in \u001b[0;36msend_command\u001b[1;34m(self, command, retry, binary)\u001b[0m\n\u001b[0;32m    998\u001b[0m             \u001b[1;32mif\u001b[0m \u001b[0mself\u001b[0m\u001b[1;33m.\u001b[0m\u001b[0m_should_retry\u001b[0m\u001b[1;33m(\u001b[0m\u001b[0mretry\u001b[0m\u001b[1;33m,\u001b[0m \u001b[0mconnection\u001b[0m\u001b[1;33m,\u001b[0m \u001b[0mpne\u001b[0m\u001b[1;33m)\u001b[0m\u001b[1;33m:\u001b[0m\u001b[1;33m\u001b[0m\u001b[1;33m\u001b[0m\u001b[0m\n\u001b[0;32m    999\u001b[0m                 \u001b[0mlogging\u001b[0m\u001b[1;33m.\u001b[0m\u001b[0minfo\u001b[0m\u001b[1;33m(\u001b[0m\u001b[1;34m\"Exception while sending command.\"\u001b[0m\u001b[1;33m,\u001b[0m \u001b[0mexc_info\u001b[0m\u001b[1;33m=\u001b[0m\u001b[1;32mTrue\u001b[0m\u001b[1;33m)\u001b[0m\u001b[1;33m\u001b[0m\u001b[1;33m\u001b[0m\u001b[0m\n\u001b[1;32m-> 1000\u001b[1;33m                 \u001b[0mresponse\u001b[0m \u001b[1;33m=\u001b[0m \u001b[0mself\u001b[0m\u001b[1;33m.\u001b[0m\u001b[0msend_command\u001b[0m\u001b[1;33m(\u001b[0m\u001b[0mcommand\u001b[0m\u001b[1;33m,\u001b[0m \u001b[0mbinary\u001b[0m\u001b[1;33m=\u001b[0m\u001b[0mbinary\u001b[0m\u001b[1;33m)\u001b[0m\u001b[1;33m\u001b[0m\u001b[1;33m\u001b[0m\u001b[0m\n\u001b[0m\u001b[0;32m   1001\u001b[0m             \u001b[1;32melse\u001b[0m\u001b[1;33m:\u001b[0m\u001b[1;33m\u001b[0m\u001b[1;33m\u001b[0m\u001b[0m\n\u001b[0;32m   1002\u001b[0m                 logging.exception(\n",
      "\u001b[1;32mC:\\spark\\spark-2.3.3-bin-hadoop2.7\\python\\lib\\py4j-0.10.7-src.zip\\py4j\\java_gateway.py\u001b[0m in \u001b[0;36msend_command\u001b[1;34m(self, command, retry, binary)\u001b[0m\n\u001b[0;32m    981\u001b[0m          \u001b[1;32mif\u001b[0m\u001b[0;31m \u001b[0m\u001b[0;31m`\u001b[0m\u001b[0mbinary\u001b[0m\u001b[0;31m`\u001b[0m \u001b[1;32mis\u001b[0m\u001b[0;31m \u001b[0m\u001b[0;31m`\u001b[0m\u001b[1;32mTrue\u001b[0m\u001b[0;31m`\u001b[0m\u001b[1;33m.\u001b[0m\u001b[1;33m\u001b[0m\u001b[1;33m\u001b[0m\u001b[0m\n\u001b[0;32m    982\u001b[0m         \"\"\"\n\u001b[1;32m--> 983\u001b[1;33m         \u001b[0mconnection\u001b[0m \u001b[1;33m=\u001b[0m \u001b[0mself\u001b[0m\u001b[1;33m.\u001b[0m\u001b[0m_get_connection\u001b[0m\u001b[1;33m(\u001b[0m\u001b[1;33m)\u001b[0m\u001b[1;33m\u001b[0m\u001b[1;33m\u001b[0m\u001b[0m\n\u001b[0m\u001b[0;32m    984\u001b[0m         \u001b[1;32mtry\u001b[0m\u001b[1;33m:\u001b[0m\u001b[1;33m\u001b[0m\u001b[1;33m\u001b[0m\u001b[0m\n\u001b[0;32m    985\u001b[0m             \u001b[0mresponse\u001b[0m \u001b[1;33m=\u001b[0m \u001b[0mconnection\u001b[0m\u001b[1;33m.\u001b[0m\u001b[0msend_command\u001b[0m\u001b[1;33m(\u001b[0m\u001b[0mcommand\u001b[0m\u001b[1;33m)\u001b[0m\u001b[1;33m\u001b[0m\u001b[1;33m\u001b[0m\u001b[0m\n",
      "\u001b[1;32mC:\\spark\\spark-2.3.3-bin-hadoop2.7\\python\\lib\\py4j-0.10.7-src.zip\\py4j\\java_gateway.py\u001b[0m in \u001b[0;36m_get_connection\u001b[1;34m(self)\u001b[0m\n\u001b[0;32m    929\u001b[0m             \u001b[0mconnection\u001b[0m \u001b[1;33m=\u001b[0m \u001b[0mself\u001b[0m\u001b[1;33m.\u001b[0m\u001b[0mdeque\u001b[0m\u001b[1;33m.\u001b[0m\u001b[0mpop\u001b[0m\u001b[1;33m(\u001b[0m\u001b[1;33m)\u001b[0m\u001b[1;33m\u001b[0m\u001b[1;33m\u001b[0m\u001b[0m\n\u001b[0;32m    930\u001b[0m         \u001b[1;32mexcept\u001b[0m \u001b[0mIndexError\u001b[0m\u001b[1;33m:\u001b[0m\u001b[1;33m\u001b[0m\u001b[1;33m\u001b[0m\u001b[0m\n\u001b[1;32m--> 931\u001b[1;33m             \u001b[0mconnection\u001b[0m \u001b[1;33m=\u001b[0m \u001b[0mself\u001b[0m\u001b[1;33m.\u001b[0m\u001b[0m_create_connection\u001b[0m\u001b[1;33m(\u001b[0m\u001b[1;33m)\u001b[0m\u001b[1;33m\u001b[0m\u001b[1;33m\u001b[0m\u001b[0m\n\u001b[0m\u001b[0;32m    932\u001b[0m         \u001b[1;32mreturn\u001b[0m \u001b[0mconnection\u001b[0m\u001b[1;33m\u001b[0m\u001b[1;33m\u001b[0m\u001b[0m\n\u001b[0;32m    933\u001b[0m \u001b[1;33m\u001b[0m\u001b[0m\n",
      "\u001b[1;32mC:\\spark\\spark-2.3.3-bin-hadoop2.7\\python\\lib\\py4j-0.10.7-src.zip\\py4j\\java_gateway.py\u001b[0m in \u001b[0;36m_create_connection\u001b[1;34m(self)\u001b[0m\n\u001b[0;32m    935\u001b[0m         connection = GatewayConnection(\n\u001b[0;32m    936\u001b[0m             self.gateway_parameters, self.gateway_property)\n\u001b[1;32m--> 937\u001b[1;33m         \u001b[0mconnection\u001b[0m\u001b[1;33m.\u001b[0m\u001b[0mstart\u001b[0m\u001b[1;33m(\u001b[0m\u001b[1;33m)\u001b[0m\u001b[1;33m\u001b[0m\u001b[1;33m\u001b[0m\u001b[0m\n\u001b[0m\u001b[0;32m    938\u001b[0m         \u001b[1;32mreturn\u001b[0m \u001b[0mconnection\u001b[0m\u001b[1;33m\u001b[0m\u001b[1;33m\u001b[0m\u001b[0m\n\u001b[0;32m    939\u001b[0m \u001b[1;33m\u001b[0m\u001b[0m\n",
      "\u001b[1;32mC:\\spark\\spark-2.3.3-bin-hadoop2.7\\python\\lib\\py4j-0.10.7-src.zip\\py4j\\java_gateway.py\u001b[0m in \u001b[0;36mstart\u001b[1;34m(self)\u001b[0m\n\u001b[0;32m   1077\u001b[0m                 \u001b[1;34m\"server ({0}:{1})\"\u001b[0m\u001b[1;33m.\u001b[0m\u001b[0mformat\u001b[0m\u001b[1;33m(\u001b[0m\u001b[0mself\u001b[0m\u001b[1;33m.\u001b[0m\u001b[0maddress\u001b[0m\u001b[1;33m,\u001b[0m \u001b[0mself\u001b[0m\u001b[1;33m.\u001b[0m\u001b[0mport\u001b[0m\u001b[1;33m)\u001b[0m\u001b[1;33m\u001b[0m\u001b[1;33m\u001b[0m\u001b[0m\n\u001b[0;32m   1078\u001b[0m             \u001b[0mlogger\u001b[0m\u001b[1;33m.\u001b[0m\u001b[0mexception\u001b[0m\u001b[1;33m(\u001b[0m\u001b[0mmsg\u001b[0m\u001b[1;33m)\u001b[0m\u001b[1;33m\u001b[0m\u001b[1;33m\u001b[0m\u001b[0m\n\u001b[1;32m-> 1079\u001b[1;33m             \u001b[1;32mraise\u001b[0m \u001b[0mPy4JNetworkError\u001b[0m\u001b[1;33m(\u001b[0m\u001b[0mmsg\u001b[0m\u001b[1;33m,\u001b[0m \u001b[0me\u001b[0m\u001b[1;33m)\u001b[0m\u001b[1;33m\u001b[0m\u001b[1;33m\u001b[0m\u001b[0m\n\u001b[0m\u001b[0;32m   1080\u001b[0m \u001b[1;33m\u001b[0m\u001b[0m\n\u001b[0;32m   1081\u001b[0m     \u001b[1;32mdef\u001b[0m \u001b[0m_authenticate_connection\u001b[0m\u001b[1;33m(\u001b[0m\u001b[0mself\u001b[0m\u001b[1;33m)\u001b[0m\u001b[1;33m:\u001b[0m\u001b[1;33m\u001b[0m\u001b[1;33m\u001b[0m\u001b[0m\n",
      "\u001b[1;31mPy4JNetworkError\u001b[0m: An error occurred while trying to connect to the Java server (127.0.0.1:63884)"
     ]
    }
   ],
   "source": [
    "test_model.toPandas"
   ]
  },
  {
   "cell_type": "code",
   "execution_count": null,
   "metadata": {},
   "outputs": [],
   "source": []
  },
  {
   "cell_type": "code",
   "execution_count": null,
   "metadata": {},
   "outputs": [],
   "source": []
  },
  {
   "cell_type": "code",
   "execution_count": 96,
   "metadata": {},
   "outputs": [
    {
     "name": "stdout",
     "output_type": "stream",
     "text": [
      "1.0\n",
      "1.0\n"
     ]
    }
   ],
   "source": [
    "import pyspark.ml.evaluation as ev\n",
    "\n",
    "evaluator = ev.BinaryClassificationEvaluator(\n",
    "    rawPredictionCol='probability', \n",
    "    labelCol='hotel_cluster')\n",
    "\n",
    "print(evaluator.evaluate(test_model, \n",
    "     {evaluator.metricName: 'areaUnderROC'}))\n",
    "print(evaluator.evaluate(test_model, {evaluator.metricName: 'areaUnderPR'}))"
   ]
  },
  {
   "cell_type": "code",
   "execution_count": 102,
   "metadata": {},
   "outputs": [],
   "source": [
    "import pyspark.ml.classification as cl\n",
    "\n",
    "logistic = cl.LogisticRegression(\n",
    "    #class_weight=\"balanced\",\n",
    "    maxIter=10, \n",
    "    regParam=0.01, \n",
    "    labelCol='hotel_cluster')#columna de salida que yo quiero estimar"
   ]
  },
  {
   "cell_type": "code",
   "execution_count": 103,
   "metadata": {},
   "outputs": [],
   "source": [
    "pipeline = Pipeline(stages=[assembler2, logistic])"
   ]
  },
  {
   "cell_type": "code",
   "execution_count": 104,
   "metadata": {},
   "outputs": [],
   "source": [
    "model = pipeline.fit(train)"
   ]
  },
  {
   "cell_type": "code",
   "execution_count": 105,
   "metadata": {},
   "outputs": [],
   "source": [
    "test_model1 = model.transform(df)"
   ]
  },
  {
   "cell_type": "code",
   "execution_count": 106,
   "metadata": {},
   "outputs": [
    {
     "name": "stdout",
     "output_type": "stream",
     "text": [
      "1.0\n",
      "1.0\n"
     ]
    }
   ],
   "source": [
    "import pyspark.ml.evaluation as ev\n",
    "\n",
    "evaluator = ev.BinaryClassificationEvaluator(\n",
    "    rawPredictionCol='probability', \n",
    "    labelCol='hotel_cluster')\n",
    "\n",
    "print(evaluator.evaluate(test_model, \n",
    "     {evaluator.metricName: 'areaUnderROC'}))\n",
    "print(evaluator.evaluate(test_model, {evaluator.metricName: 'areaUnderPR'}))"
   ]
  },
  {
   "cell_type": "code",
   "execution_count": 107,
   "metadata": {},
   "outputs": [
    {
     "data": {
      "text/plain": [
       "[Row(id=0, date_time=datetime.datetime(2015, 9, 3, 17, 9, 54), site_name=2, posa_continent=3, user_location_country=66, user_location_region=174, user_location_city=37449, orig_destination_distance=5539.0567, user_id=1, is_mobile=1, is_package=0, channel=3, srch_ci='2016-05-19', srch_co=datetime.datetime(2016, 5, 23, 0, 0), srch_adults_cnt=2, srch_children_cnt=0, srch_rm_cnt=1, srch_destination_id=12243, srch_destination_type_id=6, hotel_continent=6, hotel_country=204, hotel_market=27, hotel_cluster=1, features=DenseVector([2.0, 3.0, 66.0, 174.0, 37449.0, 5539.0567, 1.0, 1.0, 0.0, 3.0, 2.0, 0.0, 1.0, 12243.0, 6.0, 6.0, 204.0, 27.0]), rawPrediction=DenseVector([-0.5921, -1.024, 1.2076, -0.109, -0.3802, 1.5838, 0.2476, -0.6703, 0.6959, 0.9182, 0.2753, 1.0998, 0.3907, -0.4572, -0.1722, 0.1363, 0.0162, -0.133, -0.4248, -0.8227, 0.4659, 0.5089, 0.8641, -0.9165, -1.2783, 1.3398, 0.0612, -0.3815, 0.1013, 1.1352, 1.0295, -0.5634, -0.8455, 0.0756, -0.7929, -0.2759, 1.1387, 0.6696, 0.4572, -1.0058, 0.0997, 0.1914, -0.6141, 0.2433, 0.2911, -1.2159, 1.499, -0.1872, -0.2395, -0.5047, -0.4499, -0.3306, -0.0233, -0.4969, -1.1342, -0.0824, -1.1603, 0.4718, 1.5365, 1.1545, -0.0253, 0.8396, 1.225, 0.2896, 2.1698, -0.4333, -0.8404, 0.5712, 0.286, -0.2364, -0.6373, -1.4117, -0.2858, -0.0811, -1.5986, -0.169, -0.0122, -0.4804, 0.9202, -1.1542, -0.6444, 0.7619, 1.2788, 0.214, -0.8072, 0.7853, 0.2578, -0.5966, -1.5889, -0.0872, 0.0293, -0.7659, -0.137, -0.4893, -0.958, 0.0073, -0.547, 0.7325, -0.2092, 1.2067]), probability=DenseVector([0.004, 0.0026, 0.0242, 0.0065, 0.005, 0.0353, 0.0093, 0.0037, 0.0145, 0.0182, 0.0095, 0.0218, 0.0107, 0.0046, 0.0061, 0.0083, 0.0074, 0.0063, 0.0047, 0.0032, 0.0115, 0.0121, 0.0172, 0.0029, 0.002, 0.0277, 0.0077, 0.0049, 0.008, 0.0226, 0.0203, 0.0041, 0.0031, 0.0078, 0.0033, 0.0055, 0.0226, 0.0142, 0.0114, 0.0027, 0.008, 0.0088, 0.0039, 0.0092, 0.0097, 0.0021, 0.0324, 0.006, 0.0057, 0.0044, 0.0046, 0.0052, 0.0071, 0.0044, 0.0023, 0.0067, 0.0023, 0.0116, 0.0337, 0.023, 0.0071, 0.0168, 0.0247, 0.0097, 0.0635, 0.0047, 0.0031, 0.0128, 0.0096, 0.0057, 0.0038, 0.0018, 0.0054, 0.0067, 0.0015, 0.0061, 0.0072, 0.0045, 0.0182, 0.0023, 0.0038, 0.0155, 0.026, 0.009, 0.0032, 0.0159, 0.0094, 0.004, 0.0015, 0.0066, 0.0075, 0.0034, 0.0063, 0.0044, 0.0028, 0.0073, 0.0042, 0.0151, 0.0059, 0.0242]), prediction=64.0)]"
      ]
     },
     "execution_count": 107,
     "metadata": {},
     "output_type": "execute_result"
    }
   ],
   "source": [
    "test_model1.take(1)"
   ]
  },
  {
   "cell_type": "code",
   "execution_count": 110,
   "metadata": {},
   "outputs": [
    {
     "ename": "Py4JJavaError",
     "evalue": "An error occurred while calling o2591.collectToPython.\n: org.apache.spark.SparkException: Job aborted due to stage failure: Task 1 in stage 288.0 failed 1 times, most recent failure: Lost task 1.0 in stage 288.0 (TID 665, localhost, executor driver): java.lang.OutOfMemoryError: Java heap space\r\n\tat java.util.Arrays.copyOf(Unknown Source)\r\n\tat java.io.ByteArrayOutputStream.grow(Unknown Source)\r\n\tat java.io.ByteArrayOutputStream.ensureCapacity(Unknown Source)\r\n\tat java.io.ByteArrayOutputStream.write(Unknown Source)\r\n\tat net.jpountz.lz4.LZ4BlockOutputStream.flushBufferedData(LZ4BlockOutputStream.java:220)\r\n\tat net.jpountz.lz4.LZ4BlockOutputStream.write(LZ4BlockOutputStream.java:173)\r\n\tat java.io.DataOutputStream.write(Unknown Source)\r\n\tat org.apache.spark.sql.catalyst.expressions.UnsafeRow.writeToStream(UnsafeRow.java:552)\r\n\tat org.apache.spark.sql.execution.SparkPlan$$anonfun$2.apply(SparkPlan.scala:256)\r\n\tat org.apache.spark.sql.execution.SparkPlan$$anonfun$2.apply(SparkPlan.scala:247)\r\n\tat org.apache.spark.rdd.RDD$$anonfun$mapPartitionsInternal$1$$anonfun$apply$25.apply(RDD.scala:836)\r\n\tat org.apache.spark.rdd.RDD$$anonfun$mapPartitionsInternal$1$$anonfun$apply$25.apply(RDD.scala:836)\r\n\tat org.apache.spark.rdd.MapPartitionsRDD.compute(MapPartitionsRDD.scala:49)\r\n\tat org.apache.spark.rdd.RDD.computeOrReadCheckpoint(RDD.scala:324)\r\n\tat org.apache.spark.rdd.RDD.iterator(RDD.scala:288)\r\n\tat org.apache.spark.scheduler.ResultTask.runTask(ResultTask.scala:87)\r\n\tat org.apache.spark.scheduler.Task.run(Task.scala:109)\r\n\tat org.apache.spark.executor.Executor$TaskRunner.run(Executor.scala:345)\r\n\tat java.util.concurrent.ThreadPoolExecutor.runWorker(Unknown Source)\r\n\tat java.util.concurrent.ThreadPoolExecutor$Worker.run(Unknown Source)\r\n\tat java.lang.Thread.run(Unknown Source)\r\n\nDriver stacktrace:\r\n\tat org.apache.spark.scheduler.DAGScheduler.org$apache$spark$scheduler$DAGScheduler$$failJobAndIndependentStages(DAGScheduler.scala:1661)\r\n\tat org.apache.spark.scheduler.DAGScheduler$$anonfun$abortStage$1.apply(DAGScheduler.scala:1649)\r\n\tat org.apache.spark.scheduler.DAGScheduler$$anonfun$abortStage$1.apply(DAGScheduler.scala:1648)\r\n\tat scala.collection.mutable.ResizableArray$class.foreach(ResizableArray.scala:59)\r\n\tat scala.collection.mutable.ArrayBuffer.foreach(ArrayBuffer.scala:48)\r\n\tat org.apache.spark.scheduler.DAGScheduler.abortStage(DAGScheduler.scala:1648)\r\n\tat org.apache.spark.scheduler.DAGScheduler$$anonfun$handleTaskSetFailed$1.apply(DAGScheduler.scala:831)\r\n\tat org.apache.spark.scheduler.DAGScheduler$$anonfun$handleTaskSetFailed$1.apply(DAGScheduler.scala:831)\r\n\tat scala.Option.foreach(Option.scala:257)\r\n\tat org.apache.spark.scheduler.DAGScheduler.handleTaskSetFailed(DAGScheduler.scala:831)\r\n\tat org.apache.spark.scheduler.DAGSchedulerEventProcessLoop.doOnReceive(DAGScheduler.scala:1882)\r\n\tat org.apache.spark.scheduler.DAGSchedulerEventProcessLoop.onReceive(DAGScheduler.scala:1831)\r\n\tat org.apache.spark.scheduler.DAGSchedulerEventProcessLoop.onReceive(DAGScheduler.scala:1820)\r\n\tat org.apache.spark.util.EventLoop$$anon$1.run(EventLoop.scala:48)\r\n\tat org.apache.spark.scheduler.DAGScheduler.runJob(DAGScheduler.scala:642)\r\n\tat org.apache.spark.SparkContext.runJob(SparkContext.scala:2034)\r\n\tat org.apache.spark.SparkContext.runJob(SparkContext.scala:2055)\r\n\tat org.apache.spark.SparkContext.runJob(SparkContext.scala:2074)\r\n\tat org.apache.spark.SparkContext.runJob(SparkContext.scala:2099)\r\n\tat org.apache.spark.rdd.RDD$$anonfun$collect$1.apply(RDD.scala:945)\r\n\tat org.apache.spark.rdd.RDDOperationScope$.withScope(RDDOperationScope.scala:151)\r\n\tat org.apache.spark.rdd.RDDOperationScope$.withScope(RDDOperationScope.scala:112)\r\n\tat org.apache.spark.rdd.RDD.withScope(RDD.scala:363)\r\n\tat org.apache.spark.rdd.RDD.collect(RDD.scala:944)\r\n\tat org.apache.spark.sql.execution.SparkPlan.executeCollect(SparkPlan.scala:297)\r\n\tat org.apache.spark.sql.Dataset$$anonfun$collectToPython$1.apply(Dataset.scala:3200)\r\n\tat org.apache.spark.sql.Dataset$$anonfun$collectToPython$1.apply(Dataset.scala:3197)\r\n\tat org.apache.spark.sql.Dataset$$anonfun$52.apply(Dataset.scala:3259)\r\n\tat org.apache.spark.sql.execution.SQLExecution$.withNewExecutionId(SQLExecution.scala:77)\r\n\tat org.apache.spark.sql.Dataset.withAction(Dataset.scala:3258)\r\n\tat org.apache.spark.sql.Dataset.collectToPython(Dataset.scala:3197)\r\n\tat sun.reflect.GeneratedMethodAccessor168.invoke(Unknown Source)\r\n\tat sun.reflect.DelegatingMethodAccessorImpl.invoke(Unknown Source)\r\n\tat java.lang.reflect.Method.invoke(Unknown Source)\r\n\tat py4j.reflection.MethodInvoker.invoke(MethodInvoker.java:244)\r\n\tat py4j.reflection.ReflectionEngine.invoke(ReflectionEngine.java:357)\r\n\tat py4j.Gateway.invoke(Gateway.java:282)\r\n\tat py4j.commands.AbstractCommand.invokeMethod(AbstractCommand.java:132)\r\n\tat py4j.commands.CallCommand.execute(CallCommand.java:79)\r\n\tat py4j.GatewayConnection.run(GatewayConnection.java:238)\r\n\tat java.lang.Thread.run(Unknown Source)\r\nCaused by: java.lang.OutOfMemoryError: Java heap space\r\n\tat java.util.Arrays.copyOf(Unknown Source)\r\n\tat java.io.ByteArrayOutputStream.grow(Unknown Source)\r\n\tat java.io.ByteArrayOutputStream.ensureCapacity(Unknown Source)\r\n\tat java.io.ByteArrayOutputStream.write(Unknown Source)\r\n\tat net.jpountz.lz4.LZ4BlockOutputStream.flushBufferedData(LZ4BlockOutputStream.java:220)\r\n\tat net.jpountz.lz4.LZ4BlockOutputStream.write(LZ4BlockOutputStream.java:173)\r\n\tat java.io.DataOutputStream.write(Unknown Source)\r\n\tat org.apache.spark.sql.catalyst.expressions.UnsafeRow.writeToStream(UnsafeRow.java:552)\r\n\tat org.apache.spark.sql.execution.SparkPlan$$anonfun$2.apply(SparkPlan.scala:256)\r\n\tat org.apache.spark.sql.execution.SparkPlan$$anonfun$2.apply(SparkPlan.scala:247)\r\n\tat org.apache.spark.rdd.RDD$$anonfun$mapPartitionsInternal$1$$anonfun$apply$25.apply(RDD.scala:836)\r\n\tat org.apache.spark.rdd.RDD$$anonfun$mapPartitionsInternal$1$$anonfun$apply$25.apply(RDD.scala:836)\r\n\tat org.apache.spark.rdd.MapPartitionsRDD.compute(MapPartitionsRDD.scala:49)\r\n\tat org.apache.spark.rdd.RDD.computeOrReadCheckpoint(RDD.scala:324)\r\n\tat org.apache.spark.rdd.RDD.iterator(RDD.scala:288)\r\n\tat org.apache.spark.scheduler.ResultTask.runTask(ResultTask.scala:87)\r\n\tat org.apache.spark.scheduler.Task.run(Task.scala:109)\r\n\tat org.apache.spark.executor.Executor$TaskRunner.run(Executor.scala:345)\r\n\tat java.util.concurrent.ThreadPoolExecutor.runWorker(Unknown Source)\r\n\tat java.util.concurrent.ThreadPoolExecutor$Worker.run(Unknown Source)\r\n\t... 1 more\r\n",
     "output_type": "error",
     "traceback": [
      "\u001b[1;31m---------------------------------------------------------------------------\u001b[0m",
      "\u001b[1;31mPy4JJavaError\u001b[0m                             Traceback (most recent call last)",
      "\u001b[1;32m<ipython-input-110-37e1485a4329>\u001b[0m in \u001b[0;36m<module>\u001b[1;34m\u001b[0m\n\u001b[1;32m----> 1\u001b[1;33m \u001b[0mtestDfntv\u001b[0m\u001b[1;33m=\u001b[0m\u001b[0mtest_model1\u001b[0m\u001b[1;33m.\u001b[0m\u001b[0mtoPandas\u001b[0m\u001b[1;33m(\u001b[0m\u001b[1;33m)\u001b[0m\u001b[1;33m\u001b[0m\u001b[1;33m\u001b[0m\u001b[0m\n\u001b[0m",
      "\u001b[1;32mC:\\spark\\spark-2.3.3-bin-hadoop2.7\\python\\pyspark\\sql\\dataframe.py\u001b[0m in \u001b[0;36mtoPandas\u001b[1;34m(self)\u001b[0m\n\u001b[0;32m   1966\u001b[0m                 \u001b[1;32mraise\u001b[0m \u001b[0mRuntimeError\u001b[0m\u001b[1;33m(\u001b[0m\u001b[1;34m\"%s\\n%s\"\u001b[0m \u001b[1;33m%\u001b[0m \u001b[1;33m(\u001b[0m\u001b[0m_exception_message\u001b[0m\u001b[1;33m(\u001b[0m\u001b[0me\u001b[0m\u001b[1;33m)\u001b[0m\u001b[1;33m,\u001b[0m \u001b[0mmsg\u001b[0m\u001b[1;33m)\u001b[0m\u001b[1;33m)\u001b[0m\u001b[1;33m\u001b[0m\u001b[1;33m\u001b[0m\u001b[0m\n\u001b[0;32m   1967\u001b[0m         \u001b[1;32melse\u001b[0m\u001b[1;33m:\u001b[0m\u001b[1;33m\u001b[0m\u001b[1;33m\u001b[0m\u001b[0m\n\u001b[1;32m-> 1968\u001b[1;33m             \u001b[0mpdf\u001b[0m \u001b[1;33m=\u001b[0m \u001b[0mpd\u001b[0m\u001b[1;33m.\u001b[0m\u001b[0mDataFrame\u001b[0m\u001b[1;33m.\u001b[0m\u001b[0mfrom_records\u001b[0m\u001b[1;33m(\u001b[0m\u001b[0mself\u001b[0m\u001b[1;33m.\u001b[0m\u001b[0mcollect\u001b[0m\u001b[1;33m(\u001b[0m\u001b[1;33m)\u001b[0m\u001b[1;33m,\u001b[0m \u001b[0mcolumns\u001b[0m\u001b[1;33m=\u001b[0m\u001b[0mself\u001b[0m\u001b[1;33m.\u001b[0m\u001b[0mcolumns\u001b[0m\u001b[1;33m)\u001b[0m\u001b[1;33m\u001b[0m\u001b[1;33m\u001b[0m\u001b[0m\n\u001b[0m\u001b[0;32m   1969\u001b[0m \u001b[1;33m\u001b[0m\u001b[0m\n\u001b[0;32m   1970\u001b[0m             \u001b[0mdtype\u001b[0m \u001b[1;33m=\u001b[0m \u001b[1;33m{\u001b[0m\u001b[1;33m}\u001b[0m\u001b[1;33m\u001b[0m\u001b[1;33m\u001b[0m\u001b[0m\n",
      "\u001b[1;32mC:\\spark\\spark-2.3.3-bin-hadoop2.7\\python\\pyspark\\sql\\dataframe.py\u001b[0m in \u001b[0;36mcollect\u001b[1;34m(self)\u001b[0m\n\u001b[0;32m    464\u001b[0m         \"\"\"\n\u001b[0;32m    465\u001b[0m         \u001b[1;32mwith\u001b[0m \u001b[0mSCCallSiteSync\u001b[0m\u001b[1;33m(\u001b[0m\u001b[0mself\u001b[0m\u001b[1;33m.\u001b[0m\u001b[0m_sc\u001b[0m\u001b[1;33m)\u001b[0m \u001b[1;32mas\u001b[0m \u001b[0mcss\u001b[0m\u001b[1;33m:\u001b[0m\u001b[1;33m\u001b[0m\u001b[1;33m\u001b[0m\u001b[0m\n\u001b[1;32m--> 466\u001b[1;33m             \u001b[0msock_info\u001b[0m \u001b[1;33m=\u001b[0m \u001b[0mself\u001b[0m\u001b[1;33m.\u001b[0m\u001b[0m_jdf\u001b[0m\u001b[1;33m.\u001b[0m\u001b[0mcollectToPython\u001b[0m\u001b[1;33m(\u001b[0m\u001b[1;33m)\u001b[0m\u001b[1;33m\u001b[0m\u001b[1;33m\u001b[0m\u001b[0m\n\u001b[0m\u001b[0;32m    467\u001b[0m         \u001b[1;32mreturn\u001b[0m \u001b[0mlist\u001b[0m\u001b[1;33m(\u001b[0m\u001b[0m_load_from_socket\u001b[0m\u001b[1;33m(\u001b[0m\u001b[0msock_info\u001b[0m\u001b[1;33m,\u001b[0m \u001b[0mBatchedSerializer\u001b[0m\u001b[1;33m(\u001b[0m\u001b[0mPickleSerializer\u001b[0m\u001b[1;33m(\u001b[0m\u001b[1;33m)\u001b[0m\u001b[1;33m)\u001b[0m\u001b[1;33m)\u001b[0m\u001b[1;33m)\u001b[0m\u001b[1;33m\u001b[0m\u001b[1;33m\u001b[0m\u001b[0m\n\u001b[0;32m    468\u001b[0m \u001b[1;33m\u001b[0m\u001b[0m\n",
      "\u001b[1;32mC:\\spark\\spark-2.3.3-bin-hadoop2.7\\python\\lib\\py4j-0.10.7-src.zip\\py4j\\java_gateway.py\u001b[0m in \u001b[0;36m__call__\u001b[1;34m(self, *args)\u001b[0m\n\u001b[0;32m   1255\u001b[0m         \u001b[0manswer\u001b[0m \u001b[1;33m=\u001b[0m \u001b[0mself\u001b[0m\u001b[1;33m.\u001b[0m\u001b[0mgateway_client\u001b[0m\u001b[1;33m.\u001b[0m\u001b[0msend_command\u001b[0m\u001b[1;33m(\u001b[0m\u001b[0mcommand\u001b[0m\u001b[1;33m)\u001b[0m\u001b[1;33m\u001b[0m\u001b[1;33m\u001b[0m\u001b[0m\n\u001b[0;32m   1256\u001b[0m         return_value = get_return_value(\n\u001b[1;32m-> 1257\u001b[1;33m             answer, self.gateway_client, self.target_id, self.name)\n\u001b[0m\u001b[0;32m   1258\u001b[0m \u001b[1;33m\u001b[0m\u001b[0m\n\u001b[0;32m   1259\u001b[0m         \u001b[1;32mfor\u001b[0m \u001b[0mtemp_arg\u001b[0m \u001b[1;32min\u001b[0m \u001b[0mtemp_args\u001b[0m\u001b[1;33m:\u001b[0m\u001b[1;33m\u001b[0m\u001b[1;33m\u001b[0m\u001b[0m\n",
      "\u001b[1;32mC:\\spark\\spark-2.3.3-bin-hadoop2.7\\python\\pyspark\\sql\\utils.py\u001b[0m in \u001b[0;36mdeco\u001b[1;34m(*a, **kw)\u001b[0m\n\u001b[0;32m     61\u001b[0m     \u001b[1;32mdef\u001b[0m \u001b[0mdeco\u001b[0m\u001b[1;33m(\u001b[0m\u001b[1;33m*\u001b[0m\u001b[0ma\u001b[0m\u001b[1;33m,\u001b[0m \u001b[1;33m**\u001b[0m\u001b[0mkw\u001b[0m\u001b[1;33m)\u001b[0m\u001b[1;33m:\u001b[0m\u001b[1;33m\u001b[0m\u001b[1;33m\u001b[0m\u001b[0m\n\u001b[0;32m     62\u001b[0m         \u001b[1;32mtry\u001b[0m\u001b[1;33m:\u001b[0m\u001b[1;33m\u001b[0m\u001b[1;33m\u001b[0m\u001b[0m\n\u001b[1;32m---> 63\u001b[1;33m             \u001b[1;32mreturn\u001b[0m \u001b[0mf\u001b[0m\u001b[1;33m(\u001b[0m\u001b[1;33m*\u001b[0m\u001b[0ma\u001b[0m\u001b[1;33m,\u001b[0m \u001b[1;33m**\u001b[0m\u001b[0mkw\u001b[0m\u001b[1;33m)\u001b[0m\u001b[1;33m\u001b[0m\u001b[1;33m\u001b[0m\u001b[0m\n\u001b[0m\u001b[0;32m     64\u001b[0m         \u001b[1;32mexcept\u001b[0m \u001b[0mpy4j\u001b[0m\u001b[1;33m.\u001b[0m\u001b[0mprotocol\u001b[0m\u001b[1;33m.\u001b[0m\u001b[0mPy4JJavaError\u001b[0m \u001b[1;32mas\u001b[0m \u001b[0me\u001b[0m\u001b[1;33m:\u001b[0m\u001b[1;33m\u001b[0m\u001b[1;33m\u001b[0m\u001b[0m\n\u001b[0;32m     65\u001b[0m             \u001b[0ms\u001b[0m \u001b[1;33m=\u001b[0m \u001b[0me\u001b[0m\u001b[1;33m.\u001b[0m\u001b[0mjava_exception\u001b[0m\u001b[1;33m.\u001b[0m\u001b[0mtoString\u001b[0m\u001b[1;33m(\u001b[0m\u001b[1;33m)\u001b[0m\u001b[1;33m\u001b[0m\u001b[1;33m\u001b[0m\u001b[0m\n",
      "\u001b[1;32mC:\\spark\\spark-2.3.3-bin-hadoop2.7\\python\\lib\\py4j-0.10.7-src.zip\\py4j\\protocol.py\u001b[0m in \u001b[0;36mget_return_value\u001b[1;34m(answer, gateway_client, target_id, name)\u001b[0m\n\u001b[0;32m    326\u001b[0m                 raise Py4JJavaError(\n\u001b[0;32m    327\u001b[0m                     \u001b[1;34m\"An error occurred while calling {0}{1}{2}.\\n\"\u001b[0m\u001b[1;33m.\u001b[0m\u001b[1;33m\u001b[0m\u001b[1;33m\u001b[0m\u001b[0m\n\u001b[1;32m--> 328\u001b[1;33m                     format(target_id, \".\", name), value)\n\u001b[0m\u001b[0;32m    329\u001b[0m             \u001b[1;32melse\u001b[0m\u001b[1;33m:\u001b[0m\u001b[1;33m\u001b[0m\u001b[1;33m\u001b[0m\u001b[0m\n\u001b[0;32m    330\u001b[0m                 raise Py4JError(\n",
      "\u001b[1;31mPy4JJavaError\u001b[0m: An error occurred while calling o2591.collectToPython.\n: org.apache.spark.SparkException: Job aborted due to stage failure: Task 1 in stage 288.0 failed 1 times, most recent failure: Lost task 1.0 in stage 288.0 (TID 665, localhost, executor driver): java.lang.OutOfMemoryError: Java heap space\r\n\tat java.util.Arrays.copyOf(Unknown Source)\r\n\tat java.io.ByteArrayOutputStream.grow(Unknown Source)\r\n\tat java.io.ByteArrayOutputStream.ensureCapacity(Unknown Source)\r\n\tat java.io.ByteArrayOutputStream.write(Unknown Source)\r\n\tat net.jpountz.lz4.LZ4BlockOutputStream.flushBufferedData(LZ4BlockOutputStream.java:220)\r\n\tat net.jpountz.lz4.LZ4BlockOutputStream.write(LZ4BlockOutputStream.java:173)\r\n\tat java.io.DataOutputStream.write(Unknown Source)\r\n\tat org.apache.spark.sql.catalyst.expressions.UnsafeRow.writeToStream(UnsafeRow.java:552)\r\n\tat org.apache.spark.sql.execution.SparkPlan$$anonfun$2.apply(SparkPlan.scala:256)\r\n\tat org.apache.spark.sql.execution.SparkPlan$$anonfun$2.apply(SparkPlan.scala:247)\r\n\tat org.apache.spark.rdd.RDD$$anonfun$mapPartitionsInternal$1$$anonfun$apply$25.apply(RDD.scala:836)\r\n\tat org.apache.spark.rdd.RDD$$anonfun$mapPartitionsInternal$1$$anonfun$apply$25.apply(RDD.scala:836)\r\n\tat org.apache.spark.rdd.MapPartitionsRDD.compute(MapPartitionsRDD.scala:49)\r\n\tat org.apache.spark.rdd.RDD.computeOrReadCheckpoint(RDD.scala:324)\r\n\tat org.apache.spark.rdd.RDD.iterator(RDD.scala:288)\r\n\tat org.apache.spark.scheduler.ResultTask.runTask(ResultTask.scala:87)\r\n\tat org.apache.spark.scheduler.Task.run(Task.scala:109)\r\n\tat org.apache.spark.executor.Executor$TaskRunner.run(Executor.scala:345)\r\n\tat java.util.concurrent.ThreadPoolExecutor.runWorker(Unknown Source)\r\n\tat java.util.concurrent.ThreadPoolExecutor$Worker.run(Unknown Source)\r\n\tat java.lang.Thread.run(Unknown Source)\r\n\nDriver stacktrace:\r\n\tat org.apache.spark.scheduler.DAGScheduler.org$apache$spark$scheduler$DAGScheduler$$failJobAndIndependentStages(DAGScheduler.scala:1661)\r\n\tat org.apache.spark.scheduler.DAGScheduler$$anonfun$abortStage$1.apply(DAGScheduler.scala:1649)\r\n\tat org.apache.spark.scheduler.DAGScheduler$$anonfun$abortStage$1.apply(DAGScheduler.scala:1648)\r\n\tat scala.collection.mutable.ResizableArray$class.foreach(ResizableArray.scala:59)\r\n\tat scala.collection.mutable.ArrayBuffer.foreach(ArrayBuffer.scala:48)\r\n\tat org.apache.spark.scheduler.DAGScheduler.abortStage(DAGScheduler.scala:1648)\r\n\tat org.apache.spark.scheduler.DAGScheduler$$anonfun$handleTaskSetFailed$1.apply(DAGScheduler.scala:831)\r\n\tat org.apache.spark.scheduler.DAGScheduler$$anonfun$handleTaskSetFailed$1.apply(DAGScheduler.scala:831)\r\n\tat scala.Option.foreach(Option.scala:257)\r\n\tat org.apache.spark.scheduler.DAGScheduler.handleTaskSetFailed(DAGScheduler.scala:831)\r\n\tat org.apache.spark.scheduler.DAGSchedulerEventProcessLoop.doOnReceive(DAGScheduler.scala:1882)\r\n\tat org.apache.spark.scheduler.DAGSchedulerEventProcessLoop.onReceive(DAGScheduler.scala:1831)\r\n\tat org.apache.spark.scheduler.DAGSchedulerEventProcessLoop.onReceive(DAGScheduler.scala:1820)\r\n\tat org.apache.spark.util.EventLoop$$anon$1.run(EventLoop.scala:48)\r\n\tat org.apache.spark.scheduler.DAGScheduler.runJob(DAGScheduler.scala:642)\r\n\tat org.apache.spark.SparkContext.runJob(SparkContext.scala:2034)\r\n\tat org.apache.spark.SparkContext.runJob(SparkContext.scala:2055)\r\n\tat org.apache.spark.SparkContext.runJob(SparkContext.scala:2074)\r\n\tat org.apache.spark.SparkContext.runJob(SparkContext.scala:2099)\r\n\tat org.apache.spark.rdd.RDD$$anonfun$collect$1.apply(RDD.scala:945)\r\n\tat org.apache.spark.rdd.RDDOperationScope$.withScope(RDDOperationScope.scala:151)\r\n\tat org.apache.spark.rdd.RDDOperationScope$.withScope(RDDOperationScope.scala:112)\r\n\tat org.apache.spark.rdd.RDD.withScope(RDD.scala:363)\r\n\tat org.apache.spark.rdd.RDD.collect(RDD.scala:944)\r\n\tat org.apache.spark.sql.execution.SparkPlan.executeCollect(SparkPlan.scala:297)\r\n\tat org.apache.spark.sql.Dataset$$anonfun$collectToPython$1.apply(Dataset.scala:3200)\r\n\tat org.apache.spark.sql.Dataset$$anonfun$collectToPython$1.apply(Dataset.scala:3197)\r\n\tat org.apache.spark.sql.Dataset$$anonfun$52.apply(Dataset.scala:3259)\r\n\tat org.apache.spark.sql.execution.SQLExecution$.withNewExecutionId(SQLExecution.scala:77)\r\n\tat org.apache.spark.sql.Dataset.withAction(Dataset.scala:3258)\r\n\tat org.apache.spark.sql.Dataset.collectToPython(Dataset.scala:3197)\r\n\tat sun.reflect.GeneratedMethodAccessor168.invoke(Unknown Source)\r\n\tat sun.reflect.DelegatingMethodAccessorImpl.invoke(Unknown Source)\r\n\tat java.lang.reflect.Method.invoke(Unknown Source)\r\n\tat py4j.reflection.MethodInvoker.invoke(MethodInvoker.java:244)\r\n\tat py4j.reflection.ReflectionEngine.invoke(ReflectionEngine.java:357)\r\n\tat py4j.Gateway.invoke(Gateway.java:282)\r\n\tat py4j.commands.AbstractCommand.invokeMethod(AbstractCommand.java:132)\r\n\tat py4j.commands.CallCommand.execute(CallCommand.java:79)\r\n\tat py4j.GatewayConnection.run(GatewayConnection.java:238)\r\n\tat java.lang.Thread.run(Unknown Source)\r\nCaused by: java.lang.OutOfMemoryError: Java heap space\r\n\tat java.util.Arrays.copyOf(Unknown Source)\r\n\tat java.io.ByteArrayOutputStream.grow(Unknown Source)\r\n\tat java.io.ByteArrayOutputStream.ensureCapacity(Unknown Source)\r\n\tat java.io.ByteArrayOutputStream.write(Unknown Source)\r\n\tat net.jpountz.lz4.LZ4BlockOutputStream.flushBufferedData(LZ4BlockOutputStream.java:220)\r\n\tat net.jpountz.lz4.LZ4BlockOutputStream.write(LZ4BlockOutputStream.java:173)\r\n\tat java.io.DataOutputStream.write(Unknown Source)\r\n\tat org.apache.spark.sql.catalyst.expressions.UnsafeRow.writeToStream(UnsafeRow.java:552)\r\n\tat org.apache.spark.sql.execution.SparkPlan$$anonfun$2.apply(SparkPlan.scala:256)\r\n\tat org.apache.spark.sql.execution.SparkPlan$$anonfun$2.apply(SparkPlan.scala:247)\r\n\tat org.apache.spark.rdd.RDD$$anonfun$mapPartitionsInternal$1$$anonfun$apply$25.apply(RDD.scala:836)\r\n\tat org.apache.spark.rdd.RDD$$anonfun$mapPartitionsInternal$1$$anonfun$apply$25.apply(RDD.scala:836)\r\n\tat org.apache.spark.rdd.MapPartitionsRDD.compute(MapPartitionsRDD.scala:49)\r\n\tat org.apache.spark.rdd.RDD.computeOrReadCheckpoint(RDD.scala:324)\r\n\tat org.apache.spark.rdd.RDD.iterator(RDD.scala:288)\r\n\tat org.apache.spark.scheduler.ResultTask.runTask(ResultTask.scala:87)\r\n\tat org.apache.spark.scheduler.Task.run(Task.scala:109)\r\n\tat org.apache.spark.executor.Executor$TaskRunner.run(Executor.scala:345)\r\n\tat java.util.concurrent.ThreadPoolExecutor.runWorker(Unknown Source)\r\n\tat java.util.concurrent.ThreadPoolExecutor$Worker.run(Unknown Source)\r\n\t... 1 more\r\n"
     ]
    }
   ],
   "source": [
    "testDfntv=test_model1.toPandas()"
   ]
  },
  {
   "cell_type": "code",
   "execution_count": null,
   "metadata": {},
   "outputs": [],
   "source": [
    "df=df.toPandas()"
   ]
  },
  {
   "cell_type": "code",
   "execution_count": null,
   "metadata": {},
   "outputs": [],
   "source": [
    "df.hotel_cluster[:]=testDfntv.prediction[:]"
   ]
  },
  {
   "cell_type": "code",
   "execution_count": null,
   "metadata": {},
   "outputs": [],
   "source": []
  },
  {
   "cell_type": "code",
   "execution_count": 84,
   "metadata": {},
   "outputs": [],
   "source": [
    "assembler2 = VectorAssembler(\n",
    "    inputCols=['site_name','posa_continent','user_location_country','user_location_region','user_location_city','orig_destination_distance','user_id','is_mobile','is_package','channel','srch_adults_cnt','srch_children_cnt','srch_rm_cnt','srch_destination_id','srch_destination_type_id','hotel_continent','hotel_country','hotel_cluster','hotel_market'],\n",
    "   #,' [encoder2.getOutputCol()],\n",
    "  #,'  [encoder3.getOutputCol()],\n",
    "    outputCol=\"features\")\n",
    "#,'user_id','is_mobile','is_package','channel','srch_adults_cnt','srch_children_cnt','srch_rm_cnt','srch_destination_id','srch_destination_type_id','is_booking','cnt','hotel_continent','hotel_country','hotel_market','hotel_cluster','periodo', 'Categoría'\n",
    "#,'user_id','is_mobile','is_package','channel','srch_adults_cnt','srch_children_cnt','srch_rm_cnt','srch_destination_id','srch_destination_type_id','is_booking','cnt','hotel_continent','hotel_country','hotel_market','hotel_cluster','periodo', 'Categoría'\n"
   ]
  },
  {
   "cell_type": "code",
   "execution_count": 85,
   "metadata": {},
   "outputs": [
    {
     "ename": "Py4JJavaError",
     "evalue": "An error occurred while calling o1993.fit.\n: org.apache.spark.SparkException: Job aborted due to stage failure: Task 2 in stage 181.0 failed 1 times, most recent failure: Lost task 2.0 in stage 181.0 (TID 432, localhost, executor driver): java.lang.IllegalArgumentException: requirement failed: Naive Bayes requires nonnegative feature values but found [13.0,1.0,5.0,9.0,43175.0,-49.64967799614407,775045.0,0.0,1.0,2.0,1.0,0.0,1.0,597.0,1.0,6.0,21.0,85.0,14.0].\r\n\tat scala.Predef$.require(Predef.scala:224)\r\n\tat org.apache.spark.ml.classification.NaiveBayes$.requireNonnegativeValues(NaiveBayes.scala:232)\r\n\tat org.apache.spark.ml.classification.NaiveBayes$$anonfun$4.apply(NaiveBayes.scala:140)\r\n\tat org.apache.spark.ml.classification.NaiveBayes$$anonfun$4.apply(NaiveBayes.scala:140)\r\n\tat org.apache.spark.ml.classification.NaiveBayes$$anonfun$7.apply(NaiveBayes.scala:165)\r\n\tat org.apache.spark.ml.classification.NaiveBayes$$anonfun$7.apply(NaiveBayes.scala:163)\r\n\tat org.apache.spark.util.collection.ExternalSorter$$anonfun$5.apply(ExternalSorter.scala:189)\r\n\tat org.apache.spark.util.collection.ExternalSorter$$anonfun$5.apply(ExternalSorter.scala:188)\r\n\tat org.apache.spark.util.collection.AppendOnlyMap.changeValue(AppendOnlyMap.scala:150)\r\n\tat org.apache.spark.util.collection.SizeTrackingAppendOnlyMap.changeValue(SizeTrackingAppendOnlyMap.scala:32)\r\n\tat org.apache.spark.util.collection.ExternalSorter.insertAll(ExternalSorter.scala:194)\r\n\tat org.apache.spark.shuffle.sort.SortShuffleWriter.write(SortShuffleWriter.scala:63)\r\n\tat org.apache.spark.scheduler.ShuffleMapTask.runTask(ShuffleMapTask.scala:96)\r\n\tat org.apache.spark.scheduler.ShuffleMapTask.runTask(ShuffleMapTask.scala:53)\r\n\tat org.apache.spark.scheduler.Task.run(Task.scala:109)\r\n\tat org.apache.spark.executor.Executor$TaskRunner.run(Executor.scala:345)\r\n\tat java.util.concurrent.ThreadPoolExecutor.runWorker(Unknown Source)\r\n\tat java.util.concurrent.ThreadPoolExecutor$Worker.run(Unknown Source)\r\n\tat java.lang.Thread.run(Unknown Source)\r\n\nDriver stacktrace:\r\n\tat org.apache.spark.scheduler.DAGScheduler.org$apache$spark$scheduler$DAGScheduler$$failJobAndIndependentStages(DAGScheduler.scala:1661)\r\n\tat org.apache.spark.scheduler.DAGScheduler$$anonfun$abortStage$1.apply(DAGScheduler.scala:1649)\r\n\tat org.apache.spark.scheduler.DAGScheduler$$anonfun$abortStage$1.apply(DAGScheduler.scala:1648)\r\n\tat scala.collection.mutable.ResizableArray$class.foreach(ResizableArray.scala:59)\r\n\tat scala.collection.mutable.ArrayBuffer.foreach(ArrayBuffer.scala:48)\r\n\tat org.apache.spark.scheduler.DAGScheduler.abortStage(DAGScheduler.scala:1648)\r\n\tat org.apache.spark.scheduler.DAGScheduler$$anonfun$handleTaskSetFailed$1.apply(DAGScheduler.scala:831)\r\n\tat org.apache.spark.scheduler.DAGScheduler$$anonfun$handleTaskSetFailed$1.apply(DAGScheduler.scala:831)\r\n\tat scala.Option.foreach(Option.scala:257)\r\n\tat org.apache.spark.scheduler.DAGScheduler.handleTaskSetFailed(DAGScheduler.scala:831)\r\n\tat org.apache.spark.scheduler.DAGSchedulerEventProcessLoop.doOnReceive(DAGScheduler.scala:1882)\r\n\tat org.apache.spark.scheduler.DAGSchedulerEventProcessLoop.onReceive(DAGScheduler.scala:1831)\r\n\tat org.apache.spark.scheduler.DAGSchedulerEventProcessLoop.onReceive(DAGScheduler.scala:1820)\r\n\tat org.apache.spark.util.EventLoop$$anon$1.run(EventLoop.scala:48)\r\n\tat org.apache.spark.scheduler.DAGScheduler.runJob(DAGScheduler.scala:642)\r\n\tat org.apache.spark.SparkContext.runJob(SparkContext.scala:2034)\r\n\tat org.apache.spark.SparkContext.runJob(SparkContext.scala:2055)\r\n\tat org.apache.spark.SparkContext.runJob(SparkContext.scala:2074)\r\n\tat org.apache.spark.SparkContext.runJob(SparkContext.scala:2099)\r\n\tat org.apache.spark.rdd.RDD$$anonfun$collect$1.apply(RDD.scala:945)\r\n\tat org.apache.spark.rdd.RDDOperationScope$.withScope(RDDOperationScope.scala:151)\r\n\tat org.apache.spark.rdd.RDDOperationScope$.withScope(RDDOperationScope.scala:112)\r\n\tat org.apache.spark.rdd.RDD.withScope(RDD.scala:363)\r\n\tat org.apache.spark.rdd.RDD.collect(RDD.scala:944)\r\n\tat org.apache.spark.ml.classification.NaiveBayes.trainWithLabelCheck(NaiveBayes.scala:173)\r\n\tat org.apache.spark.ml.classification.NaiveBayes.train(NaiveBayes.scala:117)\r\n\tat org.apache.spark.ml.classification.NaiveBayes.train(NaiveBayes.scala:77)\r\n\tat org.apache.spark.ml.Predictor.fit(Predictor.scala:118)\r\n\tat sun.reflect.NativeMethodAccessorImpl.invoke0(Native Method)\r\n\tat sun.reflect.NativeMethodAccessorImpl.invoke(Unknown Source)\r\n\tat sun.reflect.DelegatingMethodAccessorImpl.invoke(Unknown Source)\r\n\tat java.lang.reflect.Method.invoke(Unknown Source)\r\n\tat py4j.reflection.MethodInvoker.invoke(MethodInvoker.java:244)\r\n\tat py4j.reflection.ReflectionEngine.invoke(ReflectionEngine.java:357)\r\n\tat py4j.Gateway.invoke(Gateway.java:282)\r\n\tat py4j.commands.AbstractCommand.invokeMethod(AbstractCommand.java:132)\r\n\tat py4j.commands.CallCommand.execute(CallCommand.java:79)\r\n\tat py4j.GatewayConnection.run(GatewayConnection.java:238)\r\n\tat java.lang.Thread.run(Unknown Source)\r\nCaused by: java.lang.IllegalArgumentException: requirement failed: Naive Bayes requires nonnegative feature values but found [13.0,1.0,5.0,9.0,43175.0,-49.64967799614407,775045.0,0.0,1.0,2.0,1.0,0.0,1.0,597.0,1.0,6.0,21.0,85.0,14.0].\r\n\tat scala.Predef$.require(Predef.scala:224)\r\n\tat org.apache.spark.ml.classification.NaiveBayes$.requireNonnegativeValues(NaiveBayes.scala:232)\r\n\tat org.apache.spark.ml.classification.NaiveBayes$$anonfun$4.apply(NaiveBayes.scala:140)\r\n\tat org.apache.spark.ml.classification.NaiveBayes$$anonfun$4.apply(NaiveBayes.scala:140)\r\n\tat org.apache.spark.ml.classification.NaiveBayes$$anonfun$7.apply(NaiveBayes.scala:165)\r\n\tat org.apache.spark.ml.classification.NaiveBayes$$anonfun$7.apply(NaiveBayes.scala:163)\r\n\tat org.apache.spark.util.collection.ExternalSorter$$anonfun$5.apply(ExternalSorter.scala:189)\r\n\tat org.apache.spark.util.collection.ExternalSorter$$anonfun$5.apply(ExternalSorter.scala:188)\r\n\tat org.apache.spark.util.collection.AppendOnlyMap.changeValue(AppendOnlyMap.scala:150)\r\n\tat org.apache.spark.util.collection.SizeTrackingAppendOnlyMap.changeValue(SizeTrackingAppendOnlyMap.scala:32)\r\n\tat org.apache.spark.util.collection.ExternalSorter.insertAll(ExternalSorter.scala:194)\r\n\tat org.apache.spark.shuffle.sort.SortShuffleWriter.write(SortShuffleWriter.scala:63)\r\n\tat org.apache.spark.scheduler.ShuffleMapTask.runTask(ShuffleMapTask.scala:96)\r\n\tat org.apache.spark.scheduler.ShuffleMapTask.runTask(ShuffleMapTask.scala:53)\r\n\tat org.apache.spark.scheduler.Task.run(Task.scala:109)\r\n\tat org.apache.spark.executor.Executor$TaskRunner.run(Executor.scala:345)\r\n\tat java.util.concurrent.ThreadPoolExecutor.runWorker(Unknown Source)\r\n\tat java.util.concurrent.ThreadPoolExecutor$Worker.run(Unknown Source)\r\n\t... 1 more\r\n",
     "output_type": "error",
     "traceback": [
      "\u001b[1;31m---------------------------------------------------------------------------\u001b[0m",
      "\u001b[1;31mPy4JJavaError\u001b[0m                             Traceback (most recent call last)",
      "\u001b[1;32m<ipython-input-85-542b2cb6bba8>\u001b[0m in \u001b[0;36m<module>\u001b[1;34m\u001b[0m\n\u001b[0;32m     11\u001b[0m         classifier])\n\u001b[0;32m     12\u001b[0m \u001b[1;33m\u001b[0m\u001b[0m\n\u001b[1;32m---> 13\u001b[1;33m \u001b[0mmodel\u001b[0m \u001b[1;33m=\u001b[0m \u001b[0mpipeline\u001b[0m\u001b[1;33m.\u001b[0m\u001b[0mfit\u001b[0m\u001b[1;33m(\u001b[0m\u001b[0mtrain\u001b[0m\u001b[1;33m)\u001b[0m\u001b[1;33m\u001b[0m\u001b[1;33m\u001b[0m\u001b[0m\n\u001b[0m",
      "\u001b[1;32mC:\\spark\\spark-2.3.3-bin-hadoop2.7\\python\\pyspark\\ml\\base.py\u001b[0m in \u001b[0;36mfit\u001b[1;34m(self, dataset, params)\u001b[0m\n\u001b[0;32m    130\u001b[0m                 \u001b[1;32mreturn\u001b[0m \u001b[0mself\u001b[0m\u001b[1;33m.\u001b[0m\u001b[0mcopy\u001b[0m\u001b[1;33m(\u001b[0m\u001b[0mparams\u001b[0m\u001b[1;33m)\u001b[0m\u001b[1;33m.\u001b[0m\u001b[0m_fit\u001b[0m\u001b[1;33m(\u001b[0m\u001b[0mdataset\u001b[0m\u001b[1;33m)\u001b[0m\u001b[1;33m\u001b[0m\u001b[1;33m\u001b[0m\u001b[0m\n\u001b[0;32m    131\u001b[0m             \u001b[1;32melse\u001b[0m\u001b[1;33m:\u001b[0m\u001b[1;33m\u001b[0m\u001b[1;33m\u001b[0m\u001b[0m\n\u001b[1;32m--> 132\u001b[1;33m                 \u001b[1;32mreturn\u001b[0m \u001b[0mself\u001b[0m\u001b[1;33m.\u001b[0m\u001b[0m_fit\u001b[0m\u001b[1;33m(\u001b[0m\u001b[0mdataset\u001b[0m\u001b[1;33m)\u001b[0m\u001b[1;33m\u001b[0m\u001b[1;33m\u001b[0m\u001b[0m\n\u001b[0m\u001b[0;32m    133\u001b[0m         \u001b[1;32melse\u001b[0m\u001b[1;33m:\u001b[0m\u001b[1;33m\u001b[0m\u001b[1;33m\u001b[0m\u001b[0m\n\u001b[0;32m    134\u001b[0m             raise ValueError(\"Params must be either a param map or a list/tuple of param maps, \"\n",
      "\u001b[1;32mC:\\spark\\spark-2.3.3-bin-hadoop2.7\\python\\pyspark\\ml\\pipeline.py\u001b[0m in \u001b[0;36m_fit\u001b[1;34m(self, dataset)\u001b[0m\n\u001b[0;32m    107\u001b[0m                     \u001b[0mdataset\u001b[0m \u001b[1;33m=\u001b[0m \u001b[0mstage\u001b[0m\u001b[1;33m.\u001b[0m\u001b[0mtransform\u001b[0m\u001b[1;33m(\u001b[0m\u001b[0mdataset\u001b[0m\u001b[1;33m)\u001b[0m\u001b[1;33m\u001b[0m\u001b[1;33m\u001b[0m\u001b[0m\n\u001b[0;32m    108\u001b[0m                 \u001b[1;32melse\u001b[0m\u001b[1;33m:\u001b[0m  \u001b[1;31m# must be an Estimator\u001b[0m\u001b[1;33m\u001b[0m\u001b[1;33m\u001b[0m\u001b[0m\n\u001b[1;32m--> 109\u001b[1;33m                     \u001b[0mmodel\u001b[0m \u001b[1;33m=\u001b[0m \u001b[0mstage\u001b[0m\u001b[1;33m.\u001b[0m\u001b[0mfit\u001b[0m\u001b[1;33m(\u001b[0m\u001b[0mdataset\u001b[0m\u001b[1;33m)\u001b[0m\u001b[1;33m\u001b[0m\u001b[1;33m\u001b[0m\u001b[0m\n\u001b[0m\u001b[0;32m    110\u001b[0m                     \u001b[0mtransformers\u001b[0m\u001b[1;33m.\u001b[0m\u001b[0mappend\u001b[0m\u001b[1;33m(\u001b[0m\u001b[0mmodel\u001b[0m\u001b[1;33m)\u001b[0m\u001b[1;33m\u001b[0m\u001b[1;33m\u001b[0m\u001b[0m\n\u001b[0;32m    111\u001b[0m                     \u001b[1;32mif\u001b[0m \u001b[0mi\u001b[0m \u001b[1;33m<\u001b[0m \u001b[0mindexOfLastEstimator\u001b[0m\u001b[1;33m:\u001b[0m\u001b[1;33m\u001b[0m\u001b[1;33m\u001b[0m\u001b[0m\n",
      "\u001b[1;32mC:\\spark\\spark-2.3.3-bin-hadoop2.7\\python\\pyspark\\ml\\base.py\u001b[0m in \u001b[0;36mfit\u001b[1;34m(self, dataset, params)\u001b[0m\n\u001b[0;32m    130\u001b[0m                 \u001b[1;32mreturn\u001b[0m \u001b[0mself\u001b[0m\u001b[1;33m.\u001b[0m\u001b[0mcopy\u001b[0m\u001b[1;33m(\u001b[0m\u001b[0mparams\u001b[0m\u001b[1;33m)\u001b[0m\u001b[1;33m.\u001b[0m\u001b[0m_fit\u001b[0m\u001b[1;33m(\u001b[0m\u001b[0mdataset\u001b[0m\u001b[1;33m)\u001b[0m\u001b[1;33m\u001b[0m\u001b[1;33m\u001b[0m\u001b[0m\n\u001b[0;32m    131\u001b[0m             \u001b[1;32melse\u001b[0m\u001b[1;33m:\u001b[0m\u001b[1;33m\u001b[0m\u001b[1;33m\u001b[0m\u001b[0m\n\u001b[1;32m--> 132\u001b[1;33m                 \u001b[1;32mreturn\u001b[0m \u001b[0mself\u001b[0m\u001b[1;33m.\u001b[0m\u001b[0m_fit\u001b[0m\u001b[1;33m(\u001b[0m\u001b[0mdataset\u001b[0m\u001b[1;33m)\u001b[0m\u001b[1;33m\u001b[0m\u001b[1;33m\u001b[0m\u001b[0m\n\u001b[0m\u001b[0;32m    133\u001b[0m         \u001b[1;32melse\u001b[0m\u001b[1;33m:\u001b[0m\u001b[1;33m\u001b[0m\u001b[1;33m\u001b[0m\u001b[0m\n\u001b[0;32m    134\u001b[0m             raise ValueError(\"Params must be either a param map or a list/tuple of param maps, \"\n",
      "\u001b[1;32mC:\\spark\\spark-2.3.3-bin-hadoop2.7\\python\\pyspark\\ml\\wrapper.py\u001b[0m in \u001b[0;36m_fit\u001b[1;34m(self, dataset)\u001b[0m\n\u001b[0;32m    286\u001b[0m \u001b[1;33m\u001b[0m\u001b[0m\n\u001b[0;32m    287\u001b[0m     \u001b[1;32mdef\u001b[0m \u001b[0m_fit\u001b[0m\u001b[1;33m(\u001b[0m\u001b[0mself\u001b[0m\u001b[1;33m,\u001b[0m \u001b[0mdataset\u001b[0m\u001b[1;33m)\u001b[0m\u001b[1;33m:\u001b[0m\u001b[1;33m\u001b[0m\u001b[1;33m\u001b[0m\u001b[0m\n\u001b[1;32m--> 288\u001b[1;33m         \u001b[0mjava_model\u001b[0m \u001b[1;33m=\u001b[0m \u001b[0mself\u001b[0m\u001b[1;33m.\u001b[0m\u001b[0m_fit_java\u001b[0m\u001b[1;33m(\u001b[0m\u001b[0mdataset\u001b[0m\u001b[1;33m)\u001b[0m\u001b[1;33m\u001b[0m\u001b[1;33m\u001b[0m\u001b[0m\n\u001b[0m\u001b[0;32m    289\u001b[0m         \u001b[0mmodel\u001b[0m \u001b[1;33m=\u001b[0m \u001b[0mself\u001b[0m\u001b[1;33m.\u001b[0m\u001b[0m_create_model\u001b[0m\u001b[1;33m(\u001b[0m\u001b[0mjava_model\u001b[0m\u001b[1;33m)\u001b[0m\u001b[1;33m\u001b[0m\u001b[1;33m\u001b[0m\u001b[0m\n\u001b[0;32m    290\u001b[0m         \u001b[1;32mreturn\u001b[0m \u001b[0mself\u001b[0m\u001b[1;33m.\u001b[0m\u001b[0m_copyValues\u001b[0m\u001b[1;33m(\u001b[0m\u001b[0mmodel\u001b[0m\u001b[1;33m)\u001b[0m\u001b[1;33m\u001b[0m\u001b[1;33m\u001b[0m\u001b[0m\n",
      "\u001b[1;32mC:\\spark\\spark-2.3.3-bin-hadoop2.7\\python\\pyspark\\ml\\wrapper.py\u001b[0m in \u001b[0;36m_fit_java\u001b[1;34m(self, dataset)\u001b[0m\n\u001b[0;32m    283\u001b[0m         \"\"\"\n\u001b[0;32m    284\u001b[0m         \u001b[0mself\u001b[0m\u001b[1;33m.\u001b[0m\u001b[0m_transfer_params_to_java\u001b[0m\u001b[1;33m(\u001b[0m\u001b[1;33m)\u001b[0m\u001b[1;33m\u001b[0m\u001b[1;33m\u001b[0m\u001b[0m\n\u001b[1;32m--> 285\u001b[1;33m         \u001b[1;32mreturn\u001b[0m \u001b[0mself\u001b[0m\u001b[1;33m.\u001b[0m\u001b[0m_java_obj\u001b[0m\u001b[1;33m.\u001b[0m\u001b[0mfit\u001b[0m\u001b[1;33m(\u001b[0m\u001b[0mdataset\u001b[0m\u001b[1;33m.\u001b[0m\u001b[0m_jdf\u001b[0m\u001b[1;33m)\u001b[0m\u001b[1;33m\u001b[0m\u001b[1;33m\u001b[0m\u001b[0m\n\u001b[0m\u001b[0;32m    286\u001b[0m \u001b[1;33m\u001b[0m\u001b[0m\n\u001b[0;32m    287\u001b[0m     \u001b[1;32mdef\u001b[0m \u001b[0m_fit\u001b[0m\u001b[1;33m(\u001b[0m\u001b[0mself\u001b[0m\u001b[1;33m,\u001b[0m \u001b[0mdataset\u001b[0m\u001b[1;33m)\u001b[0m\u001b[1;33m:\u001b[0m\u001b[1;33m\u001b[0m\u001b[1;33m\u001b[0m\u001b[0m\n",
      "\u001b[1;32mC:\\spark\\spark-2.3.3-bin-hadoop2.7\\python\\lib\\py4j-0.10.7-src.zip\\py4j\\java_gateway.py\u001b[0m in \u001b[0;36m__call__\u001b[1;34m(self, *args)\u001b[0m\n\u001b[0;32m   1255\u001b[0m         \u001b[0manswer\u001b[0m \u001b[1;33m=\u001b[0m \u001b[0mself\u001b[0m\u001b[1;33m.\u001b[0m\u001b[0mgateway_client\u001b[0m\u001b[1;33m.\u001b[0m\u001b[0msend_command\u001b[0m\u001b[1;33m(\u001b[0m\u001b[0mcommand\u001b[0m\u001b[1;33m)\u001b[0m\u001b[1;33m\u001b[0m\u001b[1;33m\u001b[0m\u001b[0m\n\u001b[0;32m   1256\u001b[0m         return_value = get_return_value(\n\u001b[1;32m-> 1257\u001b[1;33m             answer, self.gateway_client, self.target_id, self.name)\n\u001b[0m\u001b[0;32m   1258\u001b[0m \u001b[1;33m\u001b[0m\u001b[0m\n\u001b[0;32m   1259\u001b[0m         \u001b[1;32mfor\u001b[0m \u001b[0mtemp_arg\u001b[0m \u001b[1;32min\u001b[0m \u001b[0mtemp_args\u001b[0m\u001b[1;33m:\u001b[0m\u001b[1;33m\u001b[0m\u001b[1;33m\u001b[0m\u001b[0m\n",
      "\u001b[1;32mC:\\spark\\spark-2.3.3-bin-hadoop2.7\\python\\pyspark\\sql\\utils.py\u001b[0m in \u001b[0;36mdeco\u001b[1;34m(*a, **kw)\u001b[0m\n\u001b[0;32m     61\u001b[0m     \u001b[1;32mdef\u001b[0m \u001b[0mdeco\u001b[0m\u001b[1;33m(\u001b[0m\u001b[1;33m*\u001b[0m\u001b[0ma\u001b[0m\u001b[1;33m,\u001b[0m \u001b[1;33m**\u001b[0m\u001b[0mkw\u001b[0m\u001b[1;33m)\u001b[0m\u001b[1;33m:\u001b[0m\u001b[1;33m\u001b[0m\u001b[1;33m\u001b[0m\u001b[0m\n\u001b[0;32m     62\u001b[0m         \u001b[1;32mtry\u001b[0m\u001b[1;33m:\u001b[0m\u001b[1;33m\u001b[0m\u001b[1;33m\u001b[0m\u001b[0m\n\u001b[1;32m---> 63\u001b[1;33m             \u001b[1;32mreturn\u001b[0m \u001b[0mf\u001b[0m\u001b[1;33m(\u001b[0m\u001b[1;33m*\u001b[0m\u001b[0ma\u001b[0m\u001b[1;33m,\u001b[0m \u001b[1;33m**\u001b[0m\u001b[0mkw\u001b[0m\u001b[1;33m)\u001b[0m\u001b[1;33m\u001b[0m\u001b[1;33m\u001b[0m\u001b[0m\n\u001b[0m\u001b[0;32m     64\u001b[0m         \u001b[1;32mexcept\u001b[0m \u001b[0mpy4j\u001b[0m\u001b[1;33m.\u001b[0m\u001b[0mprotocol\u001b[0m\u001b[1;33m.\u001b[0m\u001b[0mPy4JJavaError\u001b[0m \u001b[1;32mas\u001b[0m \u001b[0me\u001b[0m\u001b[1;33m:\u001b[0m\u001b[1;33m\u001b[0m\u001b[1;33m\u001b[0m\u001b[0m\n\u001b[0;32m     65\u001b[0m             \u001b[0ms\u001b[0m \u001b[1;33m=\u001b[0m \u001b[0me\u001b[0m\u001b[1;33m.\u001b[0m\u001b[0mjava_exception\u001b[0m\u001b[1;33m.\u001b[0m\u001b[0mtoString\u001b[0m\u001b[1;33m(\u001b[0m\u001b[1;33m)\u001b[0m\u001b[1;33m\u001b[0m\u001b[1;33m\u001b[0m\u001b[0m\n",
      "\u001b[1;32mC:\\spark\\spark-2.3.3-bin-hadoop2.7\\python\\lib\\py4j-0.10.7-src.zip\\py4j\\protocol.py\u001b[0m in \u001b[0;36mget_return_value\u001b[1;34m(answer, gateway_client, target_id, name)\u001b[0m\n\u001b[0;32m    326\u001b[0m                 raise Py4JJavaError(\n\u001b[0;32m    327\u001b[0m                     \u001b[1;34m\"An error occurred while calling {0}{1}{2}.\\n\"\u001b[0m\u001b[1;33m.\u001b[0m\u001b[1;33m\u001b[0m\u001b[1;33m\u001b[0m\u001b[0m\n\u001b[1;32m--> 328\u001b[1;33m                     format(target_id, \".\", name), value)\n\u001b[0m\u001b[0;32m    329\u001b[0m             \u001b[1;32melse\u001b[0m\u001b[1;33m:\u001b[0m\u001b[1;33m\u001b[0m\u001b[1;33m\u001b[0m\u001b[0m\n\u001b[0;32m    330\u001b[0m                 raise Py4JError(\n",
      "\u001b[1;31mPy4JJavaError\u001b[0m: An error occurred while calling o1993.fit.\n: org.apache.spark.SparkException: Job aborted due to stage failure: Task 2 in stage 181.0 failed 1 times, most recent failure: Lost task 2.0 in stage 181.0 (TID 432, localhost, executor driver): java.lang.IllegalArgumentException: requirement failed: Naive Bayes requires nonnegative feature values but found [13.0,1.0,5.0,9.0,43175.0,-49.64967799614407,775045.0,0.0,1.0,2.0,1.0,0.0,1.0,597.0,1.0,6.0,21.0,85.0,14.0].\r\n\tat scala.Predef$.require(Predef.scala:224)\r\n\tat org.apache.spark.ml.classification.NaiveBayes$.requireNonnegativeValues(NaiveBayes.scala:232)\r\n\tat org.apache.spark.ml.classification.NaiveBayes$$anonfun$4.apply(NaiveBayes.scala:140)\r\n\tat org.apache.spark.ml.classification.NaiveBayes$$anonfun$4.apply(NaiveBayes.scala:140)\r\n\tat org.apache.spark.ml.classification.NaiveBayes$$anonfun$7.apply(NaiveBayes.scala:165)\r\n\tat org.apache.spark.ml.classification.NaiveBayes$$anonfun$7.apply(NaiveBayes.scala:163)\r\n\tat org.apache.spark.util.collection.ExternalSorter$$anonfun$5.apply(ExternalSorter.scala:189)\r\n\tat org.apache.spark.util.collection.ExternalSorter$$anonfun$5.apply(ExternalSorter.scala:188)\r\n\tat org.apache.spark.util.collection.AppendOnlyMap.changeValue(AppendOnlyMap.scala:150)\r\n\tat org.apache.spark.util.collection.SizeTrackingAppendOnlyMap.changeValue(SizeTrackingAppendOnlyMap.scala:32)\r\n\tat org.apache.spark.util.collection.ExternalSorter.insertAll(ExternalSorter.scala:194)\r\n\tat org.apache.spark.shuffle.sort.SortShuffleWriter.write(SortShuffleWriter.scala:63)\r\n\tat org.apache.spark.scheduler.ShuffleMapTask.runTask(ShuffleMapTask.scala:96)\r\n\tat org.apache.spark.scheduler.ShuffleMapTask.runTask(ShuffleMapTask.scala:53)\r\n\tat org.apache.spark.scheduler.Task.run(Task.scala:109)\r\n\tat org.apache.spark.executor.Executor$TaskRunner.run(Executor.scala:345)\r\n\tat java.util.concurrent.ThreadPoolExecutor.runWorker(Unknown Source)\r\n\tat java.util.concurrent.ThreadPoolExecutor$Worker.run(Unknown Source)\r\n\tat java.lang.Thread.run(Unknown Source)\r\n\nDriver stacktrace:\r\n\tat org.apache.spark.scheduler.DAGScheduler.org$apache$spark$scheduler$DAGScheduler$$failJobAndIndependentStages(DAGScheduler.scala:1661)\r\n\tat org.apache.spark.scheduler.DAGScheduler$$anonfun$abortStage$1.apply(DAGScheduler.scala:1649)\r\n\tat org.apache.spark.scheduler.DAGScheduler$$anonfun$abortStage$1.apply(DAGScheduler.scala:1648)\r\n\tat scala.collection.mutable.ResizableArray$class.foreach(ResizableArray.scala:59)\r\n\tat scala.collection.mutable.ArrayBuffer.foreach(ArrayBuffer.scala:48)\r\n\tat org.apache.spark.scheduler.DAGScheduler.abortStage(DAGScheduler.scala:1648)\r\n\tat org.apache.spark.scheduler.DAGScheduler$$anonfun$handleTaskSetFailed$1.apply(DAGScheduler.scala:831)\r\n\tat org.apache.spark.scheduler.DAGScheduler$$anonfun$handleTaskSetFailed$1.apply(DAGScheduler.scala:831)\r\n\tat scala.Option.foreach(Option.scala:257)\r\n\tat org.apache.spark.scheduler.DAGScheduler.handleTaskSetFailed(DAGScheduler.scala:831)\r\n\tat org.apache.spark.scheduler.DAGSchedulerEventProcessLoop.doOnReceive(DAGScheduler.scala:1882)\r\n\tat org.apache.spark.scheduler.DAGSchedulerEventProcessLoop.onReceive(DAGScheduler.scala:1831)\r\n\tat org.apache.spark.scheduler.DAGSchedulerEventProcessLoop.onReceive(DAGScheduler.scala:1820)\r\n\tat org.apache.spark.util.EventLoop$$anon$1.run(EventLoop.scala:48)\r\n\tat org.apache.spark.scheduler.DAGScheduler.runJob(DAGScheduler.scala:642)\r\n\tat org.apache.spark.SparkContext.runJob(SparkContext.scala:2034)\r\n\tat org.apache.spark.SparkContext.runJob(SparkContext.scala:2055)\r\n\tat org.apache.spark.SparkContext.runJob(SparkContext.scala:2074)\r\n\tat org.apache.spark.SparkContext.runJob(SparkContext.scala:2099)\r\n\tat org.apache.spark.rdd.RDD$$anonfun$collect$1.apply(RDD.scala:945)\r\n\tat org.apache.spark.rdd.RDDOperationScope$.withScope(RDDOperationScope.scala:151)\r\n\tat org.apache.spark.rdd.RDDOperationScope$.withScope(RDDOperationScope.scala:112)\r\n\tat org.apache.spark.rdd.RDD.withScope(RDD.scala:363)\r\n\tat org.apache.spark.rdd.RDD.collect(RDD.scala:944)\r\n\tat org.apache.spark.ml.classification.NaiveBayes.trainWithLabelCheck(NaiveBayes.scala:173)\r\n\tat org.apache.spark.ml.classification.NaiveBayes.train(NaiveBayes.scala:117)\r\n\tat org.apache.spark.ml.classification.NaiveBayes.train(NaiveBayes.scala:77)\r\n\tat org.apache.spark.ml.Predictor.fit(Predictor.scala:118)\r\n\tat sun.reflect.NativeMethodAccessorImpl.invoke0(Native Method)\r\n\tat sun.reflect.NativeMethodAccessorImpl.invoke(Unknown Source)\r\n\tat sun.reflect.DelegatingMethodAccessorImpl.invoke(Unknown Source)\r\n\tat java.lang.reflect.Method.invoke(Unknown Source)\r\n\tat py4j.reflection.MethodInvoker.invoke(MethodInvoker.java:244)\r\n\tat py4j.reflection.ReflectionEngine.invoke(ReflectionEngine.java:357)\r\n\tat py4j.Gateway.invoke(Gateway.java:282)\r\n\tat py4j.commands.AbstractCommand.invokeMethod(AbstractCommand.java:132)\r\n\tat py4j.commands.CallCommand.execute(CallCommand.java:79)\r\n\tat py4j.GatewayConnection.run(GatewayConnection.java:238)\r\n\tat java.lang.Thread.run(Unknown Source)\r\nCaused by: java.lang.IllegalArgumentException: requirement failed: Naive Bayes requires nonnegative feature values but found [13.0,1.0,5.0,9.0,43175.0,-49.64967799614407,775045.0,0.0,1.0,2.0,1.0,0.0,1.0,597.0,1.0,6.0,21.0,85.0,14.0].\r\n\tat scala.Predef$.require(Predef.scala:224)\r\n\tat org.apache.spark.ml.classification.NaiveBayes$.requireNonnegativeValues(NaiveBayes.scala:232)\r\n\tat org.apache.spark.ml.classification.NaiveBayes$$anonfun$4.apply(NaiveBayes.scala:140)\r\n\tat org.apache.spark.ml.classification.NaiveBayes$$anonfun$4.apply(NaiveBayes.scala:140)\r\n\tat org.apache.spark.ml.classification.NaiveBayes$$anonfun$7.apply(NaiveBayes.scala:165)\r\n\tat org.apache.spark.ml.classification.NaiveBayes$$anonfun$7.apply(NaiveBayes.scala:163)\r\n\tat org.apache.spark.util.collection.ExternalSorter$$anonfun$5.apply(ExternalSorter.scala:189)\r\n\tat org.apache.spark.util.collection.ExternalSorter$$anonfun$5.apply(ExternalSorter.scala:188)\r\n\tat org.apache.spark.util.collection.AppendOnlyMap.changeValue(AppendOnlyMap.scala:150)\r\n\tat org.apache.spark.util.collection.SizeTrackingAppendOnlyMap.changeValue(SizeTrackingAppendOnlyMap.scala:32)\r\n\tat org.apache.spark.util.collection.ExternalSorter.insertAll(ExternalSorter.scala:194)\r\n\tat org.apache.spark.shuffle.sort.SortShuffleWriter.write(SortShuffleWriter.scala:63)\r\n\tat org.apache.spark.scheduler.ShuffleMapTask.runTask(ShuffleMapTask.scala:96)\r\n\tat org.apache.spark.scheduler.ShuffleMapTask.runTask(ShuffleMapTask.scala:53)\r\n\tat org.apache.spark.scheduler.Task.run(Task.scala:109)\r\n\tat org.apache.spark.executor.Executor$TaskRunner.run(Executor.scala:345)\r\n\tat java.util.concurrent.ThreadPoolExecutor.runWorker(Unknown Source)\r\n\tat java.util.concurrent.ThreadPoolExecutor$Worker.run(Unknown Source)\r\n\t... 1 more\r\n"
     ]
    }
   ],
   "source": [
    "from pyspark.ml.classification import NaiveBayes\n",
    "classifier = cl.NaiveBayes(smoothing=1.0,modelType=\"multinomial\",\n",
    "   # maxDepth=5, \n",
    "    labelCol='hotel_cluster')\n",
    "\n",
    "#indexer = StringIndexer(inputCol=\"INFANT_ALIVE_AT_REPORT\", outputCol=\"INFANT_ALIVE_AT_REPORT_indexer\").fit(birthsDF)\n",
    "\n",
    "pipeline = Pipeline(\n",
    "    stages=[\n",
    "        assembler2, \n",
    "        classifier])\n",
    "\n",
    "model = pipeline.fit(train)\n"
   ]
  },
  {
   "cell_type": "code",
   "execution_count": null,
   "metadata": {},
   "outputs": [],
   "source": [
    "test = model.transform(Expedia_DF_test)"
   ]
  },
  {
   "cell_type": "code",
   "execution_count": 82,
   "metadata": {},
   "outputs": [
    {
     "ename": "Py4JJavaError",
     "evalue": "An error occurred while calling o1912.showString.\n: org.apache.spark.SparkException: Job aborted due to stage failure: Task 0 in stage 179.0 failed 1 times, most recent failure: Lost task 0.0 in stage 179.0 (TID 428, localhost, executor driver): org.apache.spark.SparkException: Failed to execute user defined function($anonfun$1: (vector) => vector)\r\n\tat org.apache.spark.sql.catalyst.expressions.GeneratedClass$GeneratedIteratorForCodegenStage1.processNext(Unknown Source)\r\n\tat org.apache.spark.sql.execution.BufferedRowIterator.hasNext(BufferedRowIterator.java:43)\r\n\tat org.apache.spark.sql.execution.WholeStageCodegenExec$$anonfun$10$$anon$1.hasNext(WholeStageCodegenExec.scala:619)\r\n\tat org.apache.spark.sql.execution.SparkPlan$$anonfun$2.apply(SparkPlan.scala:253)\r\n\tat org.apache.spark.sql.execution.SparkPlan$$anonfun$2.apply(SparkPlan.scala:247)\r\n\tat org.apache.spark.rdd.RDD$$anonfun$mapPartitionsInternal$1$$anonfun$apply$25.apply(RDD.scala:836)\r\n\tat org.apache.spark.rdd.RDD$$anonfun$mapPartitionsInternal$1$$anonfun$apply$25.apply(RDD.scala:836)\r\n\tat org.apache.spark.rdd.MapPartitionsRDD.compute(MapPartitionsRDD.scala:49)\r\n\tat org.apache.spark.rdd.RDD.computeOrReadCheckpoint(RDD.scala:324)\r\n\tat org.apache.spark.rdd.RDD.iterator(RDD.scala:288)\r\n\tat org.apache.spark.rdd.MapPartitionsRDD.compute(MapPartitionsRDD.scala:49)\r\n\tat org.apache.spark.rdd.RDD.computeOrReadCheckpoint(RDD.scala:324)\r\n\tat org.apache.spark.rdd.RDD.iterator(RDD.scala:288)\r\n\tat org.apache.spark.scheduler.ResultTask.runTask(ResultTask.scala:87)\r\n\tat org.apache.spark.scheduler.Task.run(Task.scala:109)\r\n\tat org.apache.spark.executor.Executor$TaskRunner.run(Executor.scala:345)\r\n\tat java.util.concurrent.ThreadPoolExecutor.runWorker(Unknown Source)\r\n\tat java.util.concurrent.ThreadPoolExecutor$Worker.run(Unknown Source)\r\n\tat java.lang.Thread.run(Unknown Source)\r\nCaused by: java.lang.IllegalArgumentException: requirement failed: The columns of A don't match the number of elements of x. A: 118, x: 20\r\n\tat scala.Predef$.require(Predef.scala:224)\r\n\tat org.apache.spark.ml.linalg.BLAS$.gemv(BLAS.scala:539)\r\n\tat org.apache.spark.ml.classification.LogisticRegressionModel$$anonfun$34.apply(LogisticRegression.scala:1004)\r\n\tat org.apache.spark.ml.classification.LogisticRegressionModel$$anonfun$34.apply(LogisticRegression.scala:1002)\r\n\tat org.apache.spark.ml.classification.LogisticRegressionModel.predictRaw(LogisticRegression.scala:1152)\r\n\tat org.apache.spark.ml.classification.LogisticRegressionModel.predictRaw(LogisticRegression.scala:927)\r\n\tat org.apache.spark.ml.classification.ProbabilisticClassificationModel$$anonfun$1.apply(ProbabilisticClassifier.scala:117)\r\n\tat org.apache.spark.ml.classification.ProbabilisticClassificationModel$$anonfun$1.apply(ProbabilisticClassifier.scala:116)\r\n\t... 19 more\r\n\nDriver stacktrace:\r\n\tat org.apache.spark.scheduler.DAGScheduler.org$apache$spark$scheduler$DAGScheduler$$failJobAndIndependentStages(DAGScheduler.scala:1661)\r\n\tat org.apache.spark.scheduler.DAGScheduler$$anonfun$abortStage$1.apply(DAGScheduler.scala:1649)\r\n\tat org.apache.spark.scheduler.DAGScheduler$$anonfun$abortStage$1.apply(DAGScheduler.scala:1648)\r\n\tat scala.collection.mutable.ResizableArray$class.foreach(ResizableArray.scala:59)\r\n\tat scala.collection.mutable.ArrayBuffer.foreach(ArrayBuffer.scala:48)\r\n\tat org.apache.spark.scheduler.DAGScheduler.abortStage(DAGScheduler.scala:1648)\r\n\tat org.apache.spark.scheduler.DAGScheduler$$anonfun$handleTaskSetFailed$1.apply(DAGScheduler.scala:831)\r\n\tat org.apache.spark.scheduler.DAGScheduler$$anonfun$handleTaskSetFailed$1.apply(DAGScheduler.scala:831)\r\n\tat scala.Option.foreach(Option.scala:257)\r\n\tat org.apache.spark.scheduler.DAGScheduler.handleTaskSetFailed(DAGScheduler.scala:831)\r\n\tat org.apache.spark.scheduler.DAGSchedulerEventProcessLoop.doOnReceive(DAGScheduler.scala:1882)\r\n\tat org.apache.spark.scheduler.DAGSchedulerEventProcessLoop.onReceive(DAGScheduler.scala:1831)\r\n\tat org.apache.spark.scheduler.DAGSchedulerEventProcessLoop.onReceive(DAGScheduler.scala:1820)\r\n\tat org.apache.spark.util.EventLoop$$anon$1.run(EventLoop.scala:48)\r\n\tat org.apache.spark.scheduler.DAGScheduler.runJob(DAGScheduler.scala:642)\r\n\tat org.apache.spark.SparkContext.runJob(SparkContext.scala:2034)\r\n\tat org.apache.spark.SparkContext.runJob(SparkContext.scala:2055)\r\n\tat org.apache.spark.SparkContext.runJob(SparkContext.scala:2074)\r\n\tat org.apache.spark.sql.execution.SparkPlan.executeTake(SparkPlan.scala:363)\r\n\tat org.apache.spark.sql.execution.CollectLimitExec.executeCollect(limit.scala:38)\r\n\tat org.apache.spark.sql.Dataset.org$apache$spark$sql$Dataset$$collectFromPlan(Dataset.scala:3278)\r\n\tat org.apache.spark.sql.Dataset$$anonfun$head$1.apply(Dataset.scala:2489)\r\n\tat org.apache.spark.sql.Dataset$$anonfun$head$1.apply(Dataset.scala:2489)\r\n\tat org.apache.spark.sql.Dataset$$anonfun$52.apply(Dataset.scala:3259)\r\n\tat org.apache.spark.sql.execution.SQLExecution$.withNewExecutionId(SQLExecution.scala:77)\r\n\tat org.apache.spark.sql.Dataset.withAction(Dataset.scala:3258)\r\n\tat org.apache.spark.sql.Dataset.head(Dataset.scala:2489)\r\n\tat org.apache.spark.sql.Dataset.take(Dataset.scala:2703)\r\n\tat org.apache.spark.sql.Dataset.showString(Dataset.scala:254)\r\n\tat sun.reflect.NativeMethodAccessorImpl.invoke0(Native Method)\r\n\tat sun.reflect.NativeMethodAccessorImpl.invoke(Unknown Source)\r\n\tat sun.reflect.DelegatingMethodAccessorImpl.invoke(Unknown Source)\r\n\tat java.lang.reflect.Method.invoke(Unknown Source)\r\n\tat py4j.reflection.MethodInvoker.invoke(MethodInvoker.java:244)\r\n\tat py4j.reflection.ReflectionEngine.invoke(ReflectionEngine.java:357)\r\n\tat py4j.Gateway.invoke(Gateway.java:282)\r\n\tat py4j.commands.AbstractCommand.invokeMethod(AbstractCommand.java:132)\r\n\tat py4j.commands.CallCommand.execute(CallCommand.java:79)\r\n\tat py4j.GatewayConnection.run(GatewayConnection.java:238)\r\n\tat java.lang.Thread.run(Unknown Source)\r\nCaused by: org.apache.spark.SparkException: Failed to execute user defined function($anonfun$1: (vector) => vector)\r\n\tat org.apache.spark.sql.catalyst.expressions.GeneratedClass$GeneratedIteratorForCodegenStage1.processNext(Unknown Source)\r\n\tat org.apache.spark.sql.execution.BufferedRowIterator.hasNext(BufferedRowIterator.java:43)\r\n\tat org.apache.spark.sql.execution.WholeStageCodegenExec$$anonfun$10$$anon$1.hasNext(WholeStageCodegenExec.scala:619)\r\n\tat org.apache.spark.sql.execution.SparkPlan$$anonfun$2.apply(SparkPlan.scala:253)\r\n\tat org.apache.spark.sql.execution.SparkPlan$$anonfun$2.apply(SparkPlan.scala:247)\r\n\tat org.apache.spark.rdd.RDD$$anonfun$mapPartitionsInternal$1$$anonfun$apply$25.apply(RDD.scala:836)\r\n\tat org.apache.spark.rdd.RDD$$anonfun$mapPartitionsInternal$1$$anonfun$apply$25.apply(RDD.scala:836)\r\n\tat org.apache.spark.rdd.MapPartitionsRDD.compute(MapPartitionsRDD.scala:49)\r\n\tat org.apache.spark.rdd.RDD.computeOrReadCheckpoint(RDD.scala:324)\r\n\tat org.apache.spark.rdd.RDD.iterator(RDD.scala:288)\r\n\tat org.apache.spark.rdd.MapPartitionsRDD.compute(MapPartitionsRDD.scala:49)\r\n\tat org.apache.spark.rdd.RDD.computeOrReadCheckpoint(RDD.scala:324)\r\n\tat org.apache.spark.rdd.RDD.iterator(RDD.scala:288)\r\n\tat org.apache.spark.scheduler.ResultTask.runTask(ResultTask.scala:87)\r\n\tat org.apache.spark.scheduler.Task.run(Task.scala:109)\r\n\tat org.apache.spark.executor.Executor$TaskRunner.run(Executor.scala:345)\r\n\tat java.util.concurrent.ThreadPoolExecutor.runWorker(Unknown Source)\r\n\tat java.util.concurrent.ThreadPoolExecutor$Worker.run(Unknown Source)\r\n\t... 1 more\r\nCaused by: java.lang.IllegalArgumentException: requirement failed: The columns of A don't match the number of elements of x. A: 118, x: 20\r\n\tat scala.Predef$.require(Predef.scala:224)\r\n\tat org.apache.spark.ml.linalg.BLAS$.gemv(BLAS.scala:539)\r\n\tat org.apache.spark.ml.classification.LogisticRegressionModel$$anonfun$34.apply(LogisticRegression.scala:1004)\r\n\tat org.apache.spark.ml.classification.LogisticRegressionModel$$anonfun$34.apply(LogisticRegression.scala:1002)\r\n\tat org.apache.spark.ml.classification.LogisticRegressionModel.predictRaw(LogisticRegression.scala:1152)\r\n\tat org.apache.spark.ml.classification.LogisticRegressionModel.predictRaw(LogisticRegression.scala:927)\r\n\tat org.apache.spark.ml.classification.ProbabilisticClassificationModel$$anonfun$1.apply(ProbabilisticClassifier.scala:117)\r\n\tat org.apache.spark.ml.classification.ProbabilisticClassificationModel$$anonfun$1.apply(ProbabilisticClassifier.scala:116)\r\n\t... 19 more\r\n",
     "output_type": "error",
     "traceback": [
      "\u001b[1;31m---------------------------------------------------------------------------\u001b[0m",
      "\u001b[1;31mPy4JJavaError\u001b[0m                             Traceback (most recent call last)",
      "\u001b[1;32m<ipython-input-82-2a2771457ff4>\u001b[0m in \u001b[0;36m<module>\u001b[1;34m\u001b[0m\n\u001b[1;32m----> 1\u001b[1;33m \u001b[0mtest_model\u001b[0m\u001b[1;33m.\u001b[0m\u001b[0mselect\u001b[0m\u001b[1;33m(\u001b[0m\u001b[1;34m\"prediction\"\u001b[0m\u001b[1;33m)\u001b[0m\u001b[1;33m.\u001b[0m\u001b[0mshow\u001b[0m\u001b[1;33m(\u001b[0m\u001b[1;33m)\u001b[0m\u001b[1;33m\u001b[0m\u001b[1;33m\u001b[0m\u001b[0m\n\u001b[0m",
      "\u001b[1;32mC:\\spark\\spark-2.3.3-bin-hadoop2.7\\python\\pyspark\\sql\\dataframe.py\u001b[0m in \u001b[0;36mshow\u001b[1;34m(self, n, truncate, vertical)\u001b[0m\n\u001b[0;32m    348\u001b[0m         \"\"\"\n\u001b[0;32m    349\u001b[0m         \u001b[1;32mif\u001b[0m \u001b[0misinstance\u001b[0m\u001b[1;33m(\u001b[0m\u001b[0mtruncate\u001b[0m\u001b[1;33m,\u001b[0m \u001b[0mbool\u001b[0m\u001b[1;33m)\u001b[0m \u001b[1;32mand\u001b[0m \u001b[0mtruncate\u001b[0m\u001b[1;33m:\u001b[0m\u001b[1;33m\u001b[0m\u001b[1;33m\u001b[0m\u001b[0m\n\u001b[1;32m--> 350\u001b[1;33m             \u001b[0mprint\u001b[0m\u001b[1;33m(\u001b[0m\u001b[0mself\u001b[0m\u001b[1;33m.\u001b[0m\u001b[0m_jdf\u001b[0m\u001b[1;33m.\u001b[0m\u001b[0mshowString\u001b[0m\u001b[1;33m(\u001b[0m\u001b[0mn\u001b[0m\u001b[1;33m,\u001b[0m \u001b[1;36m20\u001b[0m\u001b[1;33m,\u001b[0m \u001b[0mvertical\u001b[0m\u001b[1;33m)\u001b[0m\u001b[1;33m)\u001b[0m\u001b[1;33m\u001b[0m\u001b[1;33m\u001b[0m\u001b[0m\n\u001b[0m\u001b[0;32m    351\u001b[0m         \u001b[1;32melse\u001b[0m\u001b[1;33m:\u001b[0m\u001b[1;33m\u001b[0m\u001b[1;33m\u001b[0m\u001b[0m\n\u001b[0;32m    352\u001b[0m             \u001b[0mprint\u001b[0m\u001b[1;33m(\u001b[0m\u001b[0mself\u001b[0m\u001b[1;33m.\u001b[0m\u001b[0m_jdf\u001b[0m\u001b[1;33m.\u001b[0m\u001b[0mshowString\u001b[0m\u001b[1;33m(\u001b[0m\u001b[0mn\u001b[0m\u001b[1;33m,\u001b[0m \u001b[0mint\u001b[0m\u001b[1;33m(\u001b[0m\u001b[0mtruncate\u001b[0m\u001b[1;33m)\u001b[0m\u001b[1;33m,\u001b[0m \u001b[0mvertical\u001b[0m\u001b[1;33m)\u001b[0m\u001b[1;33m)\u001b[0m\u001b[1;33m\u001b[0m\u001b[1;33m\u001b[0m\u001b[0m\n",
      "\u001b[1;32mC:\\spark\\spark-2.3.3-bin-hadoop2.7\\python\\lib\\py4j-0.10.7-src.zip\\py4j\\java_gateway.py\u001b[0m in \u001b[0;36m__call__\u001b[1;34m(self, *args)\u001b[0m\n\u001b[0;32m   1255\u001b[0m         \u001b[0manswer\u001b[0m \u001b[1;33m=\u001b[0m \u001b[0mself\u001b[0m\u001b[1;33m.\u001b[0m\u001b[0mgateway_client\u001b[0m\u001b[1;33m.\u001b[0m\u001b[0msend_command\u001b[0m\u001b[1;33m(\u001b[0m\u001b[0mcommand\u001b[0m\u001b[1;33m)\u001b[0m\u001b[1;33m\u001b[0m\u001b[1;33m\u001b[0m\u001b[0m\n\u001b[0;32m   1256\u001b[0m         return_value = get_return_value(\n\u001b[1;32m-> 1257\u001b[1;33m             answer, self.gateway_client, self.target_id, self.name)\n\u001b[0m\u001b[0;32m   1258\u001b[0m \u001b[1;33m\u001b[0m\u001b[0m\n\u001b[0;32m   1259\u001b[0m         \u001b[1;32mfor\u001b[0m \u001b[0mtemp_arg\u001b[0m \u001b[1;32min\u001b[0m \u001b[0mtemp_args\u001b[0m\u001b[1;33m:\u001b[0m\u001b[1;33m\u001b[0m\u001b[1;33m\u001b[0m\u001b[0m\n",
      "\u001b[1;32mC:\\spark\\spark-2.3.3-bin-hadoop2.7\\python\\pyspark\\sql\\utils.py\u001b[0m in \u001b[0;36mdeco\u001b[1;34m(*a, **kw)\u001b[0m\n\u001b[0;32m     61\u001b[0m     \u001b[1;32mdef\u001b[0m \u001b[0mdeco\u001b[0m\u001b[1;33m(\u001b[0m\u001b[1;33m*\u001b[0m\u001b[0ma\u001b[0m\u001b[1;33m,\u001b[0m \u001b[1;33m**\u001b[0m\u001b[0mkw\u001b[0m\u001b[1;33m)\u001b[0m\u001b[1;33m:\u001b[0m\u001b[1;33m\u001b[0m\u001b[1;33m\u001b[0m\u001b[0m\n\u001b[0;32m     62\u001b[0m         \u001b[1;32mtry\u001b[0m\u001b[1;33m:\u001b[0m\u001b[1;33m\u001b[0m\u001b[1;33m\u001b[0m\u001b[0m\n\u001b[1;32m---> 63\u001b[1;33m             \u001b[1;32mreturn\u001b[0m \u001b[0mf\u001b[0m\u001b[1;33m(\u001b[0m\u001b[1;33m*\u001b[0m\u001b[0ma\u001b[0m\u001b[1;33m,\u001b[0m \u001b[1;33m**\u001b[0m\u001b[0mkw\u001b[0m\u001b[1;33m)\u001b[0m\u001b[1;33m\u001b[0m\u001b[1;33m\u001b[0m\u001b[0m\n\u001b[0m\u001b[0;32m     64\u001b[0m         \u001b[1;32mexcept\u001b[0m \u001b[0mpy4j\u001b[0m\u001b[1;33m.\u001b[0m\u001b[0mprotocol\u001b[0m\u001b[1;33m.\u001b[0m\u001b[0mPy4JJavaError\u001b[0m \u001b[1;32mas\u001b[0m \u001b[0me\u001b[0m\u001b[1;33m:\u001b[0m\u001b[1;33m\u001b[0m\u001b[1;33m\u001b[0m\u001b[0m\n\u001b[0;32m     65\u001b[0m             \u001b[0ms\u001b[0m \u001b[1;33m=\u001b[0m \u001b[0me\u001b[0m\u001b[1;33m.\u001b[0m\u001b[0mjava_exception\u001b[0m\u001b[1;33m.\u001b[0m\u001b[0mtoString\u001b[0m\u001b[1;33m(\u001b[0m\u001b[1;33m)\u001b[0m\u001b[1;33m\u001b[0m\u001b[1;33m\u001b[0m\u001b[0m\n",
      "\u001b[1;32mC:\\spark\\spark-2.3.3-bin-hadoop2.7\\python\\lib\\py4j-0.10.7-src.zip\\py4j\\protocol.py\u001b[0m in \u001b[0;36mget_return_value\u001b[1;34m(answer, gateway_client, target_id, name)\u001b[0m\n\u001b[0;32m    326\u001b[0m                 raise Py4JJavaError(\n\u001b[0;32m    327\u001b[0m                     \u001b[1;34m\"An error occurred while calling {0}{1}{2}.\\n\"\u001b[0m\u001b[1;33m.\u001b[0m\u001b[1;33m\u001b[0m\u001b[1;33m\u001b[0m\u001b[0m\n\u001b[1;32m--> 328\u001b[1;33m                     format(target_id, \".\", name), value)\n\u001b[0m\u001b[0;32m    329\u001b[0m             \u001b[1;32melse\u001b[0m\u001b[1;33m:\u001b[0m\u001b[1;33m\u001b[0m\u001b[1;33m\u001b[0m\u001b[0m\n\u001b[0;32m    330\u001b[0m                 raise Py4JError(\n",
      "\u001b[1;31mPy4JJavaError\u001b[0m: An error occurred while calling o1912.showString.\n: org.apache.spark.SparkException: Job aborted due to stage failure: Task 0 in stage 179.0 failed 1 times, most recent failure: Lost task 0.0 in stage 179.0 (TID 428, localhost, executor driver): org.apache.spark.SparkException: Failed to execute user defined function($anonfun$1: (vector) => vector)\r\n\tat org.apache.spark.sql.catalyst.expressions.GeneratedClass$GeneratedIteratorForCodegenStage1.processNext(Unknown Source)\r\n\tat org.apache.spark.sql.execution.BufferedRowIterator.hasNext(BufferedRowIterator.java:43)\r\n\tat org.apache.spark.sql.execution.WholeStageCodegenExec$$anonfun$10$$anon$1.hasNext(WholeStageCodegenExec.scala:619)\r\n\tat org.apache.spark.sql.execution.SparkPlan$$anonfun$2.apply(SparkPlan.scala:253)\r\n\tat org.apache.spark.sql.execution.SparkPlan$$anonfun$2.apply(SparkPlan.scala:247)\r\n\tat org.apache.spark.rdd.RDD$$anonfun$mapPartitionsInternal$1$$anonfun$apply$25.apply(RDD.scala:836)\r\n\tat org.apache.spark.rdd.RDD$$anonfun$mapPartitionsInternal$1$$anonfun$apply$25.apply(RDD.scala:836)\r\n\tat org.apache.spark.rdd.MapPartitionsRDD.compute(MapPartitionsRDD.scala:49)\r\n\tat org.apache.spark.rdd.RDD.computeOrReadCheckpoint(RDD.scala:324)\r\n\tat org.apache.spark.rdd.RDD.iterator(RDD.scala:288)\r\n\tat org.apache.spark.rdd.MapPartitionsRDD.compute(MapPartitionsRDD.scala:49)\r\n\tat org.apache.spark.rdd.RDD.computeOrReadCheckpoint(RDD.scala:324)\r\n\tat org.apache.spark.rdd.RDD.iterator(RDD.scala:288)\r\n\tat org.apache.spark.scheduler.ResultTask.runTask(ResultTask.scala:87)\r\n\tat org.apache.spark.scheduler.Task.run(Task.scala:109)\r\n\tat org.apache.spark.executor.Executor$TaskRunner.run(Executor.scala:345)\r\n\tat java.util.concurrent.ThreadPoolExecutor.runWorker(Unknown Source)\r\n\tat java.util.concurrent.ThreadPoolExecutor$Worker.run(Unknown Source)\r\n\tat java.lang.Thread.run(Unknown Source)\r\nCaused by: java.lang.IllegalArgumentException: requirement failed: The columns of A don't match the number of elements of x. A: 118, x: 20\r\n\tat scala.Predef$.require(Predef.scala:224)\r\n\tat org.apache.spark.ml.linalg.BLAS$.gemv(BLAS.scala:539)\r\n\tat org.apache.spark.ml.classification.LogisticRegressionModel$$anonfun$34.apply(LogisticRegression.scala:1004)\r\n\tat org.apache.spark.ml.classification.LogisticRegressionModel$$anonfun$34.apply(LogisticRegression.scala:1002)\r\n\tat org.apache.spark.ml.classification.LogisticRegressionModel.predictRaw(LogisticRegression.scala:1152)\r\n\tat org.apache.spark.ml.classification.LogisticRegressionModel.predictRaw(LogisticRegression.scala:927)\r\n\tat org.apache.spark.ml.classification.ProbabilisticClassificationModel$$anonfun$1.apply(ProbabilisticClassifier.scala:117)\r\n\tat org.apache.spark.ml.classification.ProbabilisticClassificationModel$$anonfun$1.apply(ProbabilisticClassifier.scala:116)\r\n\t... 19 more\r\n\nDriver stacktrace:\r\n\tat org.apache.spark.scheduler.DAGScheduler.org$apache$spark$scheduler$DAGScheduler$$failJobAndIndependentStages(DAGScheduler.scala:1661)\r\n\tat org.apache.spark.scheduler.DAGScheduler$$anonfun$abortStage$1.apply(DAGScheduler.scala:1649)\r\n\tat org.apache.spark.scheduler.DAGScheduler$$anonfun$abortStage$1.apply(DAGScheduler.scala:1648)\r\n\tat scala.collection.mutable.ResizableArray$class.foreach(ResizableArray.scala:59)\r\n\tat scala.collection.mutable.ArrayBuffer.foreach(ArrayBuffer.scala:48)\r\n\tat org.apache.spark.scheduler.DAGScheduler.abortStage(DAGScheduler.scala:1648)\r\n\tat org.apache.spark.scheduler.DAGScheduler$$anonfun$handleTaskSetFailed$1.apply(DAGScheduler.scala:831)\r\n\tat org.apache.spark.scheduler.DAGScheduler$$anonfun$handleTaskSetFailed$1.apply(DAGScheduler.scala:831)\r\n\tat scala.Option.foreach(Option.scala:257)\r\n\tat org.apache.spark.scheduler.DAGScheduler.handleTaskSetFailed(DAGScheduler.scala:831)\r\n\tat org.apache.spark.scheduler.DAGSchedulerEventProcessLoop.doOnReceive(DAGScheduler.scala:1882)\r\n\tat org.apache.spark.scheduler.DAGSchedulerEventProcessLoop.onReceive(DAGScheduler.scala:1831)\r\n\tat org.apache.spark.scheduler.DAGSchedulerEventProcessLoop.onReceive(DAGScheduler.scala:1820)\r\n\tat org.apache.spark.util.EventLoop$$anon$1.run(EventLoop.scala:48)\r\n\tat org.apache.spark.scheduler.DAGScheduler.runJob(DAGScheduler.scala:642)\r\n\tat org.apache.spark.SparkContext.runJob(SparkContext.scala:2034)\r\n\tat org.apache.spark.SparkContext.runJob(SparkContext.scala:2055)\r\n\tat org.apache.spark.SparkContext.runJob(SparkContext.scala:2074)\r\n\tat org.apache.spark.sql.execution.SparkPlan.executeTake(SparkPlan.scala:363)\r\n\tat org.apache.spark.sql.execution.CollectLimitExec.executeCollect(limit.scala:38)\r\n\tat org.apache.spark.sql.Dataset.org$apache$spark$sql$Dataset$$collectFromPlan(Dataset.scala:3278)\r\n\tat org.apache.spark.sql.Dataset$$anonfun$head$1.apply(Dataset.scala:2489)\r\n\tat org.apache.spark.sql.Dataset$$anonfun$head$1.apply(Dataset.scala:2489)\r\n\tat org.apache.spark.sql.Dataset$$anonfun$52.apply(Dataset.scala:3259)\r\n\tat org.apache.spark.sql.execution.SQLExecution$.withNewExecutionId(SQLExecution.scala:77)\r\n\tat org.apache.spark.sql.Dataset.withAction(Dataset.scala:3258)\r\n\tat org.apache.spark.sql.Dataset.head(Dataset.scala:2489)\r\n\tat org.apache.spark.sql.Dataset.take(Dataset.scala:2703)\r\n\tat org.apache.spark.sql.Dataset.showString(Dataset.scala:254)\r\n\tat sun.reflect.NativeMethodAccessorImpl.invoke0(Native Method)\r\n\tat sun.reflect.NativeMethodAccessorImpl.invoke(Unknown Source)\r\n\tat sun.reflect.DelegatingMethodAccessorImpl.invoke(Unknown Source)\r\n\tat java.lang.reflect.Method.invoke(Unknown Source)\r\n\tat py4j.reflection.MethodInvoker.invoke(MethodInvoker.java:244)\r\n\tat py4j.reflection.ReflectionEngine.invoke(ReflectionEngine.java:357)\r\n\tat py4j.Gateway.invoke(Gateway.java:282)\r\n\tat py4j.commands.AbstractCommand.invokeMethod(AbstractCommand.java:132)\r\n\tat py4j.commands.CallCommand.execute(CallCommand.java:79)\r\n\tat py4j.GatewayConnection.run(GatewayConnection.java:238)\r\n\tat java.lang.Thread.run(Unknown Source)\r\nCaused by: org.apache.spark.SparkException: Failed to execute user defined function($anonfun$1: (vector) => vector)\r\n\tat org.apache.spark.sql.catalyst.expressions.GeneratedClass$GeneratedIteratorForCodegenStage1.processNext(Unknown Source)\r\n\tat org.apache.spark.sql.execution.BufferedRowIterator.hasNext(BufferedRowIterator.java:43)\r\n\tat org.apache.spark.sql.execution.WholeStageCodegenExec$$anonfun$10$$anon$1.hasNext(WholeStageCodegenExec.scala:619)\r\n\tat org.apache.spark.sql.execution.SparkPlan$$anonfun$2.apply(SparkPlan.scala:253)\r\n\tat org.apache.spark.sql.execution.SparkPlan$$anonfun$2.apply(SparkPlan.scala:247)\r\n\tat org.apache.spark.rdd.RDD$$anonfun$mapPartitionsInternal$1$$anonfun$apply$25.apply(RDD.scala:836)\r\n\tat org.apache.spark.rdd.RDD$$anonfun$mapPartitionsInternal$1$$anonfun$apply$25.apply(RDD.scala:836)\r\n\tat org.apache.spark.rdd.MapPartitionsRDD.compute(MapPartitionsRDD.scala:49)\r\n\tat org.apache.spark.rdd.RDD.computeOrReadCheckpoint(RDD.scala:324)\r\n\tat org.apache.spark.rdd.RDD.iterator(RDD.scala:288)\r\n\tat org.apache.spark.rdd.MapPartitionsRDD.compute(MapPartitionsRDD.scala:49)\r\n\tat org.apache.spark.rdd.RDD.computeOrReadCheckpoint(RDD.scala:324)\r\n\tat org.apache.spark.rdd.RDD.iterator(RDD.scala:288)\r\n\tat org.apache.spark.scheduler.ResultTask.runTask(ResultTask.scala:87)\r\n\tat org.apache.spark.scheduler.Task.run(Task.scala:109)\r\n\tat org.apache.spark.executor.Executor$TaskRunner.run(Executor.scala:345)\r\n\tat java.util.concurrent.ThreadPoolExecutor.runWorker(Unknown Source)\r\n\tat java.util.concurrent.ThreadPoolExecutor$Worker.run(Unknown Source)\r\n\t... 1 more\r\nCaused by: java.lang.IllegalArgumentException: requirement failed: The columns of A don't match the number of elements of x. A: 118, x: 20\r\n\tat scala.Predef$.require(Predef.scala:224)\r\n\tat org.apache.spark.ml.linalg.BLAS$.gemv(BLAS.scala:539)\r\n\tat org.apache.spark.ml.classification.LogisticRegressionModel$$anonfun$34.apply(LogisticRegression.scala:1004)\r\n\tat org.apache.spark.ml.classification.LogisticRegressionModel$$anonfun$34.apply(LogisticRegression.scala:1002)\r\n\tat org.apache.spark.ml.classification.LogisticRegressionModel.predictRaw(LogisticRegression.scala:1152)\r\n\tat org.apache.spark.ml.classification.LogisticRegressionModel.predictRaw(LogisticRegression.scala:927)\r\n\tat org.apache.spark.ml.classification.ProbabilisticClassificationModel$$anonfun$1.apply(ProbabilisticClassifier.scala:117)\r\n\tat org.apache.spark.ml.classification.ProbabilisticClassificationModel$$anonfun$1.apply(ProbabilisticClassifier.scala:116)\r\n\t... 19 more\r\n"
     ]
    }
   ],
   "source": [
    "test_model.select(\"prediction\").show()"
   ]
  },
  {
   "cell_type": "code",
   "execution_count": 45,
   "metadata": {},
   "outputs": [
    {
     "name": "stdout",
     "output_type": "stream",
     "text": [
      "0.3612153312303974\n",
      "0.9897574132565843\n"
     ]
    }
   ],
   "source": [
    "import pyspark.ml.evaluation as ev\n",
    "\n",
    "evaluator = ev.BinaryClassificationEvaluator(\n",
    "    rawPredictionCol='probability', \n",
    "    labelCol='hotel_cluster')\n",
    "\n",
    "print(evaluator.evaluate(test_model, \n",
    "     {evaluator.metricName: 'areaUnderROC'}))\n",
    "print(evaluator.evaluate(test_model, {evaluator.metricName: 'areaUnderPR'}))"
   ]
  },
  {
   "cell_type": "code",
   "execution_count": 44,
   "metadata": {},
   "outputs": [],
   "source": [
    "grid = tune.ParamGridBuilder().addGrid(logistic.maxIter, [6, 10]).addGrid(logistic.regParam, [0.04, 0.03]).build()"
   ]
  },
  {
   "cell_type": "code",
   "execution_count": 37,
   "metadata": {},
   "outputs": [],
   "source": [
    "import pyspark.ml.evaluation as ev\n",
    "evaluator = ev.BinaryClassificationEvaluator(rawPredictionCol='probability', labelCol='hotel_cluster')"
   ]
  },
  {
   "cell_type": "code",
   "execution_count": 38,
   "metadata": {},
   "outputs": [],
   "source": [
    "cv = tune.CrossValidator(estimator=logistic, estimatorParamMaps=grid, evaluator=evaluator,numFolds=2)"
   ]
  },
  {
   "cell_type": "markdown",
   "metadata": {},
   "source": [
    "Lo que nos hace  el k-fold es que divide un conjunto de datos en k bloques 2 en nuestro caso. A continuación, considera uno de ellos como conjunto de validación y el resto como conjunto de entrenamiento, devolviendo las k combinaciones posibles (la primera combinación es la que considera el primer bloque como conjunto de validación y el resto como conjunto de entrenamiento, la segunda es la que considera el segundo bloque como conjunto de validación y el resto como conjunto de entrenamiento, etc.)."
   ]
  },
  {
   "cell_type": "code",
   "execution_count": 39,
   "metadata": {},
   "outputs": [],
   "source": [
    "from pyspark.ml import Pipeline\n",
    "pipeline = Pipeline(stages=[encoder1, assembler1])\n",
    "data_transformer = pipeline.fit(df_train)"
   ]
  },
  {
   "cell_type": "code",
   "execution_count": 40,
   "metadata": {},
   "outputs": [],
   "source": [
    "cvModel = cv.fit(data_transformer.transform(df_train))"
   ]
  },
  {
   "cell_type": "code",
   "execution_count": 41,
   "metadata": {},
   "outputs": [
    {
     "name": "stdout",
     "output_type": "stream",
     "text": [
      "0.3181832810896423\n",
      "0.9884884487523362\n"
     ]
    }
   ],
   "source": [
    "data_train = data_transformer.transform(df_test)\n",
    "results = cvModel.transform(data_train)\n",
    "\n",
    "print(evaluator.evaluate(results, {evaluator.metricName: 'areaUnderROC'}))\n",
    "print(evaluator.evaluate(results, {evaluator.metricName: 'areaUnderPR'})) #<<NO TENGAS LOS prints EN CUENTA DAN PEOR NOSE PORQUÉ"
   ]
  },
  {
   "cell_type": "code",
   "execution_count": 42,
   "metadata": {},
   "outputs": [
    {
     "data": {
      "text/plain": [
       "([{'maxIter': 10}, {'regParam': 0.03}], 0.45126156530038397)"
      ]
     },
     "execution_count": 42,
     "metadata": {},
     "output_type": "execute_result"
    }
   ],
   "source": [
    "results = [\n",
    "    (\n",
    "        [\n",
    "            {key.name: paramValue} \n",
    "            for key, paramValue \n",
    "            in zip(\n",
    "                params.keys(), \n",
    "                params.values())\n",
    "        ], metric\n",
    "    ) \n",
    "    for params, metric \n",
    "    in zip(\n",
    "        cvModel.getEstimatorParamMaps(), \n",
    "        cvModel.avgMetrics\n",
    "    )\n",
    "]\n",
    "\n",
    "sorted(results, key=lambda el: el[1], reverse=True)[0]"
   ]
  },
  {
   "cell_type": "code",
   "execution_count": 47,
   "metadata": {},
   "outputs": [],
   "source": [
    "from pyspark.ml.feature import StringIndexer\n",
    "indexer = StringIndexer(inputCol=\"hotel_cluster\", outputCol=\"hotel_clusterINDEX\").fit(df)"
   ]
  },
  {
   "cell_type": "code",
   "execution_count": 48,
   "metadata": {},
   "outputs": [],
   "source": [
    "assembler2 = VectorAssembler(\n",
    "    inputCols=['site_name','posa_continent','user_location_country','user_location_region','user_location_city','user_id','is_mobile','is_package','channel','srch_adults_cnt','srch_children_cnt','srch_rm_cnt','srch_destination_id','srch_destination_type_id','is_booking','cnt','hotel_continent','hotel_country','hotel_market','hotel_cluster','month','year','periodo', 'Categoría'] + \\\n",
    "    [encoder1.getOutputCol()],\n",
    "   #,' [encoder2.getOutputCol()],\n",
    "  #,'  [encoder3.getOutputCol()],\n",
    "    outputCol=\"features\")\n",
    "#,'user_id','is_mobile','is_package','channel','srch_adults_cnt','srch_children_cnt','srch_rm_cnt','srch_destination_id','srch_destination_type_id','is_booking','cnt','hotel_continent','hotel_country','hotel_market','hotel_cluster','periodo', 'Categoría'\n",
    "#,'user_id','is_mobile','is_package','channel','srch_adults_cnt','srch_children_cnt','srch_rm_cnt','srch_destination_id','srch_destination_type_id','is_booking','cnt','hotel_continent','hotel_country','hotel_market','hotel_cluster','periodo', 'Categoría'"
   ]
  },
  {
   "cell_type": "code",
   "execution_count": 49,
   "metadata": {},
   "outputs": [],
   "source": [
    "classifier = cl.RandomForestClassifier(\n",
    "    numTrees=2, \n",
    "    maxDepth=3, \n",
    "    labelCol='hotel_clusterINDEX')\n",
    "\n",
    "#indexer = StringIndexer(inputCol=\"INFANT_ALIVE_AT_REPORT\", outputCol=\"INFANT_ALIVE_AT_REPORT_indexer\").fit(birthsDF)\n",
    "\n",
    "pipeline = Pipeline(\n",
    "    stages=[\n",
    "        indexer,\n",
    "        encoder1,\n",
    "        assembler2, \n",
    "        classifier])\n",
    "\n",
    "model = pipeline.fit(df_train)\n",
    "test = model.transform(df_test)"
   ]
  },
  {
   "cell_type": "code",
   "execution_count": 50,
   "metadata": {},
   "outputs": [
    {
     "data": {
      "text/plain": [
       "[Row(ID_Reserva=17, date_time=datetime.datetime(2014, 1, 24, 11, 52, 4), site_name=2, posa_continent=3, user_location_country=66, user_location_region=318, user_location_city=22418, orig_destination_distance=421.8551, user_id=756, is_mobile=0.0, is_package=1.0, channel=9, srch_adults_cnt=2, srch_children_cnt=0, srch_rm_cnt=1.0, srch_destination_id=8291.0, srch_destination_type_id=1.0, is_booking=0.0, cnt=1.0, hotel_continent=2.0, hotel_country=50.0, hotel_market=191.0, hotel_cluster=25.0, date=datetime.datetime(2014, 1, 24, 0, 0), month-year='2014-01', month=1, year=2014, periodo=1, Categoría=4, hotel_clusterINDEX=9.0, hotel_clusterVEC=SparseVector(99, {25: 1.0}), features=SparseVector(123, {0: 2.0, 1: 3.0, 2: 66.0, 3: 318.0, 4: 22418.0, 5: 756.0, 7: 1.0, 8: 9.0, 9: 2.0, 11: 1.0, 12: 8291.0, 13: 1.0, 15: 1.0, 16: 2.0, 17: 50.0, 18: 191.0, 19: 25.0, 20: 1.0, 21: 2014.0, 22: 1.0, 23: 4.0, 49: 1.0}), rawPrediction=DenseVector([0.0297, 0.0221, 0.0422, 0.0402, 0.0369, 0.0171, 0.033, 0.0321, 0.0331, 0.0316, 0.0314, 0.0304, 0.015, 0.0302, 0.0284, 0.029, 0.014, 0.0283, 0.0283, 0.0267, 0.0279, 0.027, 0.0271, 0.0272, 0.0263, 0.0254, 0.0267, 0.026, 0.026, 0.0248, 0.024, 0.0238, 0.0246, 0.0239, 0.0231, 0.0117, 0.0217, 0.0233, 0.0224, 0.0223, 0.0221, 0.021, 0.0215, 0.0216, 0.0203, 0.0206, 0.0214, 0.0209, 0.0203, 0.02, 0.0191, 0.0203, 0.0194, 0.0202, 0.0197, 0.019, 0.0192, 0.0192, 0.0184, 0.0181, 0.0178, 0.0178, 0.0174, 0.0166, 0.0162, 0.0168, 0.0162, 0.0169, 0.0163, 0.0161, 0.015, 0.0147, 0.015, 0.0154, 0.0148, 0.0154, 0.0146, 0.0154, 0.0145, 0.0139, 0.0138, 0.0132, 0.0137, 0.0129, 0.013, 0.0128, 0.0128, 0.0127, 0.0123, 0.0124, 0.0123, 0.0124, 0.0114, 0.0095, 0.0095, 0.0079, 0.008, 0.0078, 0.0053, 0.0027]), probability=DenseVector([0.0149, 0.0111, 0.0211, 0.0201, 0.0184, 0.0085, 0.0165, 0.016, 0.0165, 0.0158, 0.0157, 0.0152, 0.0075, 0.0151, 0.0142, 0.0145, 0.007, 0.0142, 0.0141, 0.0133, 0.0139, 0.0135, 0.0135, 0.0136, 0.0131, 0.0127, 0.0134, 0.013, 0.013, 0.0124, 0.012, 0.0119, 0.0123, 0.012, 0.0115, 0.0058, 0.0109, 0.0116, 0.0112, 0.0111, 0.0111, 0.0105, 0.0108, 0.0108, 0.0101, 0.0103, 0.0107, 0.0104, 0.0101, 0.01, 0.0095, 0.0102, 0.0097, 0.0101, 0.0098, 0.0095, 0.0096, 0.0096, 0.0092, 0.0091, 0.0089, 0.0089, 0.0087, 0.0083, 0.0081, 0.0084, 0.0081, 0.0085, 0.0082, 0.0081, 0.0075, 0.0074, 0.0075, 0.0077, 0.0074, 0.0077, 0.0073, 0.0077, 0.0073, 0.007, 0.0069, 0.0066, 0.0068, 0.0065, 0.0065, 0.0064, 0.0064, 0.0063, 0.0061, 0.0062, 0.0061, 0.0062, 0.0057, 0.0048, 0.0047, 0.0039, 0.004, 0.0039, 0.0026, 0.0014]), prediction=2.0)]"
      ]
     },
     "execution_count": 50,
     "metadata": {},
     "output_type": "execute_result"
    }
   ],
   "source": [
    "test.take(1)"
   ]
  },
  {
   "cell_type": "code",
   "execution_count": 51,
   "metadata": {},
   "outputs": [
    {
     "name": "stdout",
     "output_type": "stream",
     "text": [
      "0.9841620056775064\n",
      "0.9995447311634205\n"
     ]
    }
   ],
   "source": [
    "import pyspark.ml.evaluation as ev\n",
    "\n",
    "evaluator = ev.BinaryClassificationEvaluator(\n",
    "    rawPredictionCol='probability', \n",
    "    labelCol='hotel_clusterINDEX')\n",
    "\n",
    "print(evaluator.evaluate(test, \n",
    "     {evaluator.metricName: 'areaUnderROC'}))\n",
    "print(evaluator.evaluate(test, {evaluator.metricName: 'areaUnderPR'}))"
   ]
  },
  {
   "cell_type": "code",
   "execution_count": 52,
   "metadata": {},
   "outputs": [
    {
     "name": "stderr",
     "output_type": "stream",
     "text": [
      "C:\\Users\\javie\\Anaconda3\\lib\\site-packages\\sklearn\\metrics\\classification.py:1437: UndefinedMetricWarning: Precision and F-score are ill-defined and being set to 0.0 in labels with no predicted samples.\n",
      "  'precision', 'predicted', average, warn_for)\n"
     ]
    },
    {
     "name": "stdout",
     "output_type": "stream",
     "text": [
      "              precision    recall  f1-score   support\n",
      "\n",
      "         0.0       1.00      1.00      1.00      2106\n",
      "         1.0       1.00      1.00      1.00      1501\n",
      "         2.0       0.02      1.00      0.05      1573\n",
      "         3.0       0.00      0.00      0.00      1403\n",
      "         4.0       0.00      0.00      0.00      1156\n",
      "         5.0       1.00      1.00      1.00      1218\n",
      "         6.0       0.00      0.00      0.00      1086\n",
      "         7.0       0.00      0.00      0.00      1170\n",
      "         8.0       0.00      0.00      0.00      1091\n",
      "         9.0       0.00      0.00      0.00      1097\n",
      "        10.0       0.00      0.00      0.00      1058\n",
      "        11.0       0.00      0.00      0.00      1013\n",
      "        12.0       1.00      1.00      1.00      1022\n",
      "        13.0       0.00      0.00      0.00      1028\n",
      "        14.0       0.00      0.00      0.00      1084\n",
      "        15.0       0.00      0.00      0.00      1019\n",
      "        16.0       1.00      1.00      1.00      1036\n",
      "        17.0       0.00      0.00      0.00       986\n",
      "        18.0       0.00      0.00      0.00       974\n",
      "        19.0       0.00      0.00      0.00       995\n",
      "        20.0       0.00      0.00      0.00       958\n",
      "        21.0       0.00      0.00      0.00       983\n",
      "        22.0       0.00      0.00      0.00       966\n",
      "        23.0       0.00      0.00      0.00       954\n",
      "        24.0       0.00      0.00      0.00       966\n",
      "        25.0       0.00      0.00      0.00       923\n",
      "        26.0       0.00      0.00      0.00       935\n",
      "        27.0       0.00      0.00      0.00       965\n",
      "        28.0       0.00      0.00      0.00       861\n",
      "        29.0       0.00      0.00      0.00       855\n",
      "        30.0       0.00      0.00      0.00       874\n",
      "        31.0       0.00      0.00      0.00       865\n",
      "        32.0       0.00      0.00      0.00       881\n",
      "        33.0       0.00      0.00      0.00       830\n",
      "        34.0       0.00      0.00      0.00       790\n",
      "        35.0       1.00      1.00      1.00       791\n",
      "        36.0       0.00      0.00      0.00       853\n",
      "        37.0       0.00      0.00      0.00       764\n",
      "        38.0       0.00      0.00      0.00       790\n",
      "        39.0       0.00      0.00      0.00       759\n",
      "        40.0       0.00      0.00      0.00       771\n",
      "        41.0       0.00      0.00      0.00       759\n",
      "        42.0       0.00      0.00      0.00       711\n",
      "        43.0       0.00      0.00      0.00       727\n",
      "        44.0       0.00      0.00      0.00       748\n",
      "        45.0       0.00      0.00      0.00       736\n",
      "        46.0       0.00      0.00      0.00       726\n",
      "        47.0       0.00      0.00      0.00       694\n",
      "        48.0       0.00      0.00      0.00       702\n",
      "        49.0       0.00      0.00      0.00       717\n",
      "        50.0       0.00      0.00      0.00       743\n",
      "        51.0       0.00      0.00      0.00       677\n",
      "        52.0       0.00      0.00      0.00       681\n",
      "        53.0       0.00      0.00      0.00       650\n",
      "        54.0       0.00      0.00      0.00       660\n",
      "        55.0       0.00      0.00      0.00       639\n",
      "        56.0       0.00      0.00      0.00       663\n",
      "        57.0       0.00      0.00      0.00       592\n",
      "        58.0       0.00      0.00      0.00       597\n",
      "        59.0       0.00      0.00      0.00       617\n",
      "        60.0       0.00      0.00      0.00       642\n",
      "        61.0       0.00      0.00      0.00       601\n",
      "        62.0       0.00      0.00      0.00       587\n",
      "        63.0       0.00      0.00      0.00       596\n",
      "        64.0       0.00      0.00      0.00       611\n",
      "        65.0       0.00      0.00      0.00       577\n",
      "        66.0       0.00      0.00      0.00       572\n",
      "        67.0       0.00      0.00      0.00       532\n",
      "        68.0       0.00      0.00      0.00       544\n",
      "        69.0       0.00      0.00      0.00       526\n",
      "        70.0       0.00      0.00      0.00       576\n",
      "        71.0       0.00      0.00      0.00       528\n",
      "        72.0       0.00      0.00      0.00       529\n",
      "        73.0       0.00      0.00      0.00       528\n",
      "        74.0       0.00      0.00      0.00       505\n",
      "        75.0       0.00      0.00      0.00       480\n",
      "        76.0       0.00      0.00      0.00       495\n",
      "        77.0       0.00      0.00      0.00       491\n",
      "        78.0       0.00      0.00      0.00       526\n",
      "        79.0       0.00      0.00      0.00       471\n",
      "        80.0       0.00      0.00      0.00       473\n",
      "        81.0       0.00      0.00      0.00       456\n",
      "        82.0       0.00      0.00      0.00       435\n",
      "        83.0       0.00      0.00      0.00       468\n",
      "        84.0       0.00      0.00      0.00       438\n",
      "        85.0       0.00      0.00      0.00       457\n",
      "        86.0       0.00      0.00      0.00       405\n",
      "        87.0       0.00      0.00      0.00       416\n",
      "        88.0       0.00      0.00      0.00       405\n",
      "        89.0       0.00      0.00      0.00       425\n",
      "        90.0       0.00      0.00      0.00       409\n",
      "        91.0       0.00      0.00      0.00       402\n",
      "        92.0       0.00      0.00      0.00       408\n",
      "        93.0       0.00      0.00      0.00       329\n",
      "        94.0       0.00      0.00      0.00       307\n",
      "        95.0       0.00      0.00      0.00       288\n",
      "        96.0       0.00      0.00      0.00       280\n",
      "        97.0       0.00      0.00      0.00       249\n",
      "        98.0       0.00      0.00      0.00       217\n",
      "        99.0       0.00      0.00      0.00        91\n",
      "\n",
      "    accuracy                           0.13     73264\n",
      "   macro avg       0.06      0.07      0.06     73264\n",
      "weighted avg       0.11      0.13      0.11     73264\n",
      "\n"
     ]
    }
   ],
   "source": [
    "y_true = test.select(['hotel_clusterINDEX']).collect()\n",
    "y_pred = test.select(['prediction']).collect()\n",
    "\n",
    "from sklearn.metrics import classification_report, confusion_matrix\n",
    "print(classification_report(y_true, y_pred))"
   ]
  },
  {
   "cell_type": "code",
   "execution_count": 76,
   "metadata": {},
   "outputs": [
    {
     "data": {
      "text/plain": [
       "[Row(Unnamed: 0=142252, date_time=datetime.datetime(2013, 1, 29, 12, 20, 45), site_name=37, posa_continent=1, user_location_country=69, user_location_region=908, user_location_city=28451, orig_destination_distance=None, user_id=552136, is_mobile=0, is_package=0, channel=9, srch_adults_cnt=2, srch_children_cnt=0, srch_rm_cnt=1.0, srch_destination_id=8238.0, srch_destination_type_id=1.0, is_booking=0.0, cnt=1.0, hotel_continent=6.0, hotel_country=31.0, hotel_market=155.0, hotel_cluster=42.0, date=datetime.datetime(2013, 1, 29, 0, 0), month-year='2013-01', month=1, year=2013, periodo=1, Categoría=4, rawFeatures=DenseVector([142252.0, 37.0, 1.0, 69.0, 908.0, 28451.0, 552136.0, 0.0, 0.0, 9.0, 2.0, 0.0, 1.0, 8238.0, 1.0, 0.0, 1.0, 6.0, 31.0, 155.0, 42.0, 1.0, 2013.0, 1.0, 4.0]), features=DenseVector([142252.0, 37.0, 1.0, 69.0, 908.0, 28451.0, 552136.0, 0.0, 0.0, 9.0, 2.0, 0.0, 1.0, 8238.0, 1.0, 0.0, 1.0, 6.0, 31.0, 155.0, 42.0, 1.0, 0.0, 0.0, 4.0]), prediction=2833.0919452377625)]"
      ]
     },
     "execution_count": 76,
     "metadata": {},
     "output_type": "execute_result"
    }
   ],
   "source": [
    "test.take(1)"
   ]
  },
  {
   "cell_type": "code",
   "execution_count": null,
   "metadata": {},
   "outputs": [],
   "source": []
  },
  {
   "cell_type": "code",
   "execution_count": 53,
   "metadata": {},
   "outputs": [],
   "source": [
    "from pyspark.ml.classification import DecisionTreeClassifier\n",
    "classifier = cl.DecisionTreeClassifier(\n",
    "    maxDepth=5, \n",
    "    labelCol='hotel_clusterINDEX')\n",
    "\n",
    "#indexer = StringIndexer(inputCol=\"INFANT_ALIVE_AT_REPORT\", outputCol=\"INFANT_ALIVE_AT_REPORT_indexer\").fit(birthsDF)\n",
    "\n",
    "pipeline = Pipeline(\n",
    "    stages=[\n",
    "        indexer,\n",
    "        encoder1,\n",
    "        assembler2, \n",
    "        classifier])\n",
    "\n",
    "model = pipeline.fit(df_train)\n",
    "test = model.transform(df_test)"
   ]
  },
  {
   "cell_type": "code",
   "execution_count": 54,
   "metadata": {},
   "outputs": [
    {
     "data": {
      "text/plain": [
       "[Row(ID_Reserva=17, date_time=datetime.datetime(2014, 1, 24, 11, 52, 4), site_name=2, posa_continent=3, user_location_country=66, user_location_region=318, user_location_city=22418, orig_destination_distance=421.8551, user_id=756, is_mobile=0.0, is_package=1.0, channel=9, srch_adults_cnt=2, srch_children_cnt=0, srch_rm_cnt=1.0, srch_destination_id=8291.0, srch_destination_type_id=1.0, is_booking=0.0, cnt=1.0, hotel_continent=2.0, hotel_country=50.0, hotel_market=191.0, hotel_cluster=25.0, date=datetime.datetime(2014, 1, 24, 0, 0), month-year='2014-01', month=1, year=2014, periodo=1, Categoría=4, hotel_clusterINDEX=9.0, hotel_clusterVEC=SparseVector(99, {25: 1.0}), features=SparseVector(123, {0: 2.0, 1: 3.0, 2: 66.0, 3: 318.0, 4: 22418.0, 5: 756.0, 7: 1.0, 8: 9.0, 9: 2.0, 11: 1.0, 12: 8291.0, 13: 1.0, 15: 1.0, 16: 2.0, 17: 50.0, 18: 191.0, 19: 25.0, 20: 1.0, 21: 2014.0, 22: 1.0, 23: 4.0, 49: 1.0}), rawPrediction=DenseVector([0.0, 0.0, 0.0, 0.0, 0.0, 2807.0, 2719.0, 2572.0, 2636.0, 2501.0, 2513.0, 2483.0, 2427.0, 2396.0, 2280.0, 2326.0, 2296.0, 2313.0, 2303.0, 2235.0, 2270.0, 2204.0, 2216.0, 2212.0, 2149.0, 2143.0, 2104.0, 2073.0, 2138.0, 2012.0, 1970.0, 1946.0, 1928.0, 1907.0, 1836.0, 1831.0, 1763.0, 1832.0, 1800.0, 1811.0, 1782.0, 1699.0, 1731.0, 1707.0, 1679.0, 1689.0, 1661.0, 1675.0, 1655.0, 1629.0, 1557.0, 1622.0, 1596.0, 1626.0, 1560.0, 1568.0, 1516.0, 1519.0, 1469.0, 1435.0, 1377.0, 1408.0, 1398.0, 1369.0, 1342.0, 1359.0, 1343.0, 1299.0, 1274.0, 1278.0, 1205.0, 1206.0, 1204.0, 1200.0, 1217.0, 1242.0, 1199.0, 1202.0, 1151.0, 1105.0, 1100.0, 1096.0, 1099.0, 1039.0, 1064.0, 1038.0, 1040.0, 1012.0, 1010.0, 977.0, 982.0, 975.0, 912.0, 786.0, 748.0, 643.0, 635.0, 622.0, 458.0, 236.0]), probability=DenseVector([0.0, 0.0, 0.0, 0.0, 0.0, 0.0184, 0.0179, 0.0169, 0.0173, 0.0164, 0.0165, 0.0163, 0.0159, 0.0157, 0.015, 0.0153, 0.0151, 0.0152, 0.0151, 0.0147, 0.0149, 0.0145, 0.0146, 0.0145, 0.0141, 0.0141, 0.0138, 0.0136, 0.014, 0.0132, 0.0129, 0.0128, 0.0127, 0.0125, 0.0121, 0.012, 0.0116, 0.012, 0.0118, 0.0119, 0.0117, 0.0112, 0.0114, 0.0112, 0.011, 0.0111, 0.0109, 0.011, 0.0109, 0.0107, 0.0102, 0.0107, 0.0105, 0.0107, 0.0103, 0.0103, 0.01, 0.01, 0.0097, 0.0094, 0.009, 0.0093, 0.0092, 0.009, 0.0088, 0.0089, 0.0088, 0.0085, 0.0084, 0.0084, 0.0079, 0.0079, 0.0079, 0.0079, 0.008, 0.0082, 0.0079, 0.0079, 0.0076, 0.0073, 0.0072, 0.0072, 0.0072, 0.0068, 0.007, 0.0068, 0.0068, 0.0067, 0.0066, 0.0064, 0.0065, 0.0064, 0.006, 0.0052, 0.0049, 0.0042, 0.0042, 0.0041, 0.003, 0.0016]), prediction=5.0)]"
      ]
     },
     "execution_count": 54,
     "metadata": {},
     "output_type": "execute_result"
    }
   ],
   "source": [
    "test.take(1)"
   ]
  },
  {
   "cell_type": "code",
   "execution_count": 55,
   "metadata": {},
   "outputs": [
    {
     "name": "stdout",
     "output_type": "stream",
     "text": [
      "0.5105469518536215\n",
      "0.9859304962956394\n"
     ]
    }
   ],
   "source": [
    "import pyspark.ml.evaluation as ev\n",
    "\n",
    "evaluator = ev.BinaryClassificationEvaluator(\n",
    "    rawPredictionCol='probability', \n",
    "    labelCol='hotel_clusterINDEX')\n",
    "\n",
    "print(evaluator.evaluate(test, \n",
    "     {evaluator.metricName: 'areaUnderROC'}))\n",
    "print(evaluator.evaluate(test, {evaluator.metricName: 'areaUnderPR'}))"
   ]
  },
  {
   "cell_type": "code",
   "execution_count": 56,
   "metadata": {},
   "outputs": [
    {
     "data": {
      "text/plain": [
       "['ID_Reserva',\n",
       " 'date_time',\n",
       " 'site_name',\n",
       " 'posa_continent',\n",
       " 'user_location_country',\n",
       " 'user_location_region',\n",
       " 'user_location_city',\n",
       " 'orig_destination_distance',\n",
       " 'user_id',\n",
       " 'is_mobile',\n",
       " 'is_package',\n",
       " 'channel',\n",
       " 'srch_adults_cnt',\n",
       " 'srch_children_cnt',\n",
       " 'srch_rm_cnt',\n",
       " 'srch_destination_id',\n",
       " 'srch_destination_type_id',\n",
       " 'is_booking',\n",
       " 'cnt',\n",
       " 'hotel_continent',\n",
       " 'hotel_country',\n",
       " 'hotel_market',\n",
       " 'hotel_cluster',\n",
       " 'date',\n",
       " 'month-year',\n",
       " 'month',\n",
       " 'year',\n",
       " 'periodo',\n",
       " 'Categoría']"
      ]
     },
     "execution_count": 56,
     "metadata": {},
     "output_type": "execute_result"
    }
   ],
   "source": [
    "df.columns"
   ]
  },
  {
   "cell_type": "markdown",
   "metadata": {},
   "source": [
    "ahora habiendo dividido el dataset en NoNulos y NUlos en funcion de la distancia vamos a crear un modelo con GBTRegresor para predecir aquellos nulos en la variable continua distancia, para entrenaremos el modelo con el dataSet que contiene solo los vallores NoNulos y luego haremos un modelo test con los valores que solo tienen distancias NULAs, para poder predecirlas"
   ]
  },
  {
   "cell_type": "code",
   "execution_count": 44,
   "metadata": {},
   "outputs": [],
   "source": [
    "from pyspark.ml.feature import VectorAssembler, VectorIndexer\n",
    "featuresCols = Mkt_DFNoNulos.columns\n",
    "#Agrupamos las variables independientes que van a influir sobre la variable que vamos a predecir hotel_cluster, y eliminamos aqueelas que no necesitamos\n",
    "#featuresCols.remove('DistanciaINT')\n",
    "featuresCols.remove('month-year')\n",
    "#featuresCols.remove('hotel_cluster')\n",
    "#featuresCols.remove('ID_Reserva')\n",
    "featuresCols.remove('date_time')\n",
    "featuresCols.remove('date')\n",
    "featuresCols.remove('orig_destination_distance')\n",
    "# This concatenates all feature columns into a single feature vector in a new column \"rawFeatures\".  ,'','','','','','','','','','',''\n",
    "vectorAssembler = VectorAssembler(inputCols=featuresCols, outputCol=\"rawFeatures\")\n",
    "# This identifies categorical features and indexes them.\n",
    "vectorIndexer = VectorIndexer(inputCol=\"rawFeatures\", outputCol=\"features\", maxCategories=4)"
   ]
  },
  {
   "cell_type": "markdown",
   "metadata": {},
   "source": [
    "Lo primero que hacemos es agrupar las variables independientes que van a influir sobre nuestra variable objetivo, nuestra variable a predecir, que en nuestro caso es orig_destination_distance. Por eso hacemos remove de esa columna porque pertenec e a las variables independientes que influyen sobre la dependiente, ella es la dependiente.\n",
    "Luego juntamos estas variables con el transformador del vector assembler para obtener un vector que almacene la información de todas nuestras variables. Luego hacemos un vecotor Index para teniendo el vector assembler, indexarlo identificando las categorias."
   ]
  },
  {
   "cell_type": "code",
   "execution_count": 45,
   "metadata": {},
   "outputs": [],
   "source": [
    "from pyspark.ml.regression import GBTRegressor\n",
    "# Takes the \"features\" column and learns to predict \"hotel_cluster\"\n",
    "gbt = GBTRegressor(labelCol=\"orig_destination_distance\")"
   ]
  },
  {
   "cell_type": "markdown",
   "metadata": {},
   "source": [
    "Ahora definimos el estimador del modelo que en este caso es un GBTRegressor que va a tomar las variables independientes anteriormente mencionadas va a aprender de ellas para predecir la categoriaa de nuestra variable objetivo"
   ]
  },
  {
   "cell_type": "code",
   "execution_count": 46,
   "metadata": {},
   "outputs": [],
   "source": [
    "from pyspark.ml.tuning import CrossValidator, ParamGridBuilder\n",
    "from pyspark.ml.evaluation import RegressionEvaluator\n",
    "# Define a grid of hyperparameters to test:\n",
    "#  - maxDepth: max depth of each decision tree in the GBT ensemble\n",
    "#  - maxIter: iterations, i.e., number of trees in each GBT ensemble\n",
    "# In this example notebook, we keep these values small.  In practice, to get the highest accuracy, you would likely want to try deeper trees (10 or higher) and more trees in the ensemble (>100).\n",
    "paramGrid = ParamGridBuilder()\\\n",
    "  .addGrid(gbt.maxDepth, [2, 5])\\\n",
    "  .addGrid(gbt.maxIter, [10, 100])\\\n",
    "  .build()\n",
    "# We define an evaluation metric.  This tells CrossValidator how well we are doing by comparing the true labels with predictions.\n",
    "evaluator = RegressionEvaluator(metricName=\"rmse\", labelCol=gbt.getLabelCol(), predictionCol=gbt.getPredictionCol())\n",
    "# Declare the CrossValidator, which runs model tuning for us.\n",
    "\n",
    "cv = CrossValidator(estimator=gbt, evaluator=evaluator, estimatorParamMaps=paramGrid)\n",
    "\n"
   ]
  },
  {
   "cell_type": "markdown",
   "metadata": {},
   "source": [
    "Ahora lo que hemos hecho ha sido, agrupar el futuro modelo de entrenamiento(aun sin definir)dentro de un CrossValitator para llamar al algoritmo GBT con diferentes tipos de hiperparametros. Lo que hace el CrossValitator, es internamente realizar multiples operaciones y combinaciones para escoger los parametros del algoritmo que mejor encajan, y para saber y medir la calidad de lo bien o mal que funcionan los hiperparametros nos guiamos y ayudamos del error cuadratico medio (rmse) Root Mean Squared Error \n",
    "\n"
   ]
  },
  {
   "cell_type": "code",
   "execution_count": 47,
   "metadata": {},
   "outputs": [],
   "source": [
    "from pyspark.ml import Pipeline\n",
    "pipeline = Pipeline(stages=[vectorAssembler, vectorIndexer, cv])"
   ]
  },
  {
   "cell_type": "markdown",
   "metadata": {},
   "source": [
    "Finalmente hemos atado nuestras caracteristicas proecesasdas y hemos modelado los escenarios de entrenamiento juntos en un único y mismo pipeline\n",
    "\n",
    "\n",
    "Ahora entrenamos con el perteneciente a los NoNulos y testeamos con el conjunto de la variable que contiene NULOS"
   ]
  },
  {
   "cell_type": "code",
   "execution_count": 48,
   "metadata": {},
   "outputs": [],
   "source": [
    "pipelineModel = pipeline.fit(Mkt_DFNoNulos)"
   ]
  },
  {
   "cell_type": "code",
   "execution_count": 49,
   "metadata": {},
   "outputs": [],
   "source": [
    "test = pipelineModel.transform(Mkt_DFNULOS)"
   ]
  },
  {
   "cell_type": "code",
   "execution_count": 50,
   "metadata": {},
   "outputs": [
    {
     "data": {
      "text/plain": [
       "[Row(Unnamed: 0=142252, date_time=datetime.datetime(2013, 1, 29, 12, 20, 45), site_name=37, posa_continent=1, user_location_country=69, user_location_region=908, user_location_city=28451, orig_destination_distance=None, user_id=552136, is_mobile=0, is_package=0, channel=9, srch_adults_cnt=2, srch_children_cnt=0, srch_rm_cnt=1.0, srch_destination_id=8238.0, srch_destination_type_id=1.0, is_booking=0.0, cnt=1.0, hotel_continent=6.0, hotel_country=31.0, hotel_market=155.0, hotel_cluster=42.0, date=datetime.datetime(2013, 1, 29, 0, 0), month-year='2013-01', month=1, year=2013, periodo=1, Categoría=4, rawFeatures=DenseVector([142252.0, 37.0, 1.0, 69.0, 908.0, 28451.0, 552136.0, 0.0, 0.0, 9.0, 2.0, 0.0, 1.0, 8238.0, 1.0, 0.0, 1.0, 6.0, 31.0, 155.0, 42.0, 1.0, 2013.0, 1.0, 4.0]), features=DenseVector([142252.0, 37.0, 1.0, 69.0, 908.0, 28451.0, 552136.0, 0.0, 0.0, 9.0, 2.0, 0.0, 1.0, 8238.0, 1.0, 0.0, 1.0, 6.0, 31.0, 155.0, 42.0, 1.0, 0.0, 0.0, 4.0]), prediction=2866.736273177664)]"
      ]
     },
     "execution_count": 50,
     "metadata": {},
     "output_type": "execute_result"
    }
   ],
   "source": [
    "test.take(1)"
   ]
  },
  {
   "cell_type": "code",
   "execution_count": 51,
   "metadata": {},
   "outputs": [
    {
     "data": {
      "text/plain": [
       "pyspark.sql.dataframe.DataFrame"
      ]
     },
     "execution_count": 51,
     "metadata": {},
     "output_type": "execute_result"
    }
   ],
   "source": [
    "type(test)"
   ]
  },
  {
   "cell_type": "code",
   "execution_count": 54,
   "metadata": {},
   "outputs": [
    {
     "name": "stdout",
     "output_type": "stream",
     "text": [
      "0.3862463577434694\n",
      "0.9846024973987825\n"
     ]
    }
   ],
   "source": [
    "import pyspark.ml.evaluation as ev\n",
    "\n",
    "evaluator = ev.BinaryClassificationEvaluator(\n",
    "    rawPredictionCol='features', \n",
    "    labelCol='prediction')\n",
    "\n",
    "print(evaluator.evaluate(test, \n",
    "     {evaluator.metricName: 'areaUnderROC'}))\n",
    "print(evaluator.evaluate(test, {evaluator.metricName: 'areaUnderPR'}))"
   ]
  },
  {
   "cell_type": "code",
   "execution_count": 55,
   "metadata": {},
   "outputs": [
    {
     "name": "stdout",
     "output_type": "stream",
     "text": [
      "1780.2521074489587\n"
     ]
    }
   ],
   "source": [
    "print(test.collect()[1]['prediction'])"
   ]
  },
  {
   "cell_type": "markdown",
   "metadata": {},
   "source": [
    "Ahora vamos a pasar a pandas ek test creado contenedor de las predicciones para poder crear el dataset definitivo sin nulos, con las prediciones en lugar de los nulos."
   ]
  },
  {
   "cell_type": "code",
   "execution_count": 52,
   "metadata": {},
   "outputs": [],
   "source": [
    "testDfntv=test.toPandas()"
   ]
  },
  {
   "cell_type": "code",
   "execution_count": 53,
   "metadata": {},
   "outputs": [
    {
     "name": "stderr",
     "output_type": "stream",
     "text": [
      "C:\\Users\\javie\\Anaconda3\\lib\\site-packages\\ipykernel_launcher.py:1: SettingWithCopyWarning: \n",
      "A value is trying to be set on a copy of a slice from a DataFrame\n",
      "\n",
      "See the caveats in the documentation: http://pandas.pydata.org/pandas-docs/stable/indexing.html#indexing-view-versus-copy\n",
      "  \"\"\"Entry point for launching an IPython kernel.\n",
      "C:\\Users\\javie\\Anaconda3\\lib\\site-packages\\pandas\\core\\series.py:1035: SettingWithCopyWarning: \n",
      "A value is trying to be set on a copy of a slice from a DataFrame\n",
      "\n",
      "See the caveats in the documentation: http://pandas.pydata.org/pandas-docs/stable/indexing.html#indexing-view-versus-copy\n",
      "  self._set_with(key, value)\n",
      "C:\\Users\\javie\\Anaconda3\\lib\\site-packages\\IPython\\core\\interactiveshell.py:3325: SettingWithCopyWarning: \n",
      "A value is trying to be set on a copy of a slice from a DataFrame\n",
      "\n",
      "See the caveats in the documentation: http://pandas.pydata.org/pandas-docs/stable/indexing.html#indexing-view-versus-copy\n",
      "  exec(code_obj, self.user_global_ns, self.user_ns)\n"
     ]
    }
   ],
   "source": [
    "dfNaN.orig_destination_distance[:]=testDfntv.prediction[:]"
   ]
  },
  {
   "cell_type": "code",
   "execution_count": 54,
   "metadata": {},
   "outputs": [
    {
     "data": {
      "text/plain": [
       "Unnamed: 0                   0\n",
       "date_time                    0\n",
       "site_name                    0\n",
       "posa_continent               0\n",
       "user_location_country        0\n",
       "user_location_region         0\n",
       "user_location_city           0\n",
       "orig_destination_distance    0\n",
       "user_id                      0\n",
       "is_mobile                    0\n",
       "is_package                   0\n",
       "channel                      0\n",
       "srch_adults_cnt              0\n",
       "srch_children_cnt            0\n",
       "srch_rm_cnt                  0\n",
       "srch_destination_id          0\n",
       "srch_destination_type_id     0\n",
       "is_booking                   0\n",
       "cnt                          0\n",
       "hotel_continent              0\n",
       "hotel_country                0\n",
       "hotel_market                 0\n",
       "hotel_cluster                0\n",
       "date                         0\n",
       "month-year                   0\n",
       "month                        0\n",
       "year                         0\n",
       "periodo                      0\n",
       "Categoría                    0\n",
       "dtype: int64"
      ]
     },
     "execution_count": 54,
     "metadata": {},
     "output_type": "execute_result"
    }
   ],
   "source": [
    "dfNaN.isnull().sum()"
   ]
  },
  {
   "cell_type": "markdown",
   "metadata": {},
   "source": [
    "Despues de haber relacionado las prediciones con los valores nulos de nuestro dataset con nulos vemos como, este último ya no contiene valores nulos. Y ahora pasamos a unir los dos dataSets para crear el dataSets definitivo sin nulos, que es el resultado de unir los no Nulos con el dataset de nulos sustituidos por los valores predichos."
   ]
  },
  {
   "cell_type": "code",
   "execution_count": 55,
   "metadata": {},
   "outputs": [],
   "source": [
    "DataDefin = pd.concat([df_na, dfNaN])"
   ]
  },
  {
   "cell_type": "code",
   "execution_count": 56,
   "metadata": {},
   "outputs": [
    {
     "data": {
      "text/html": [
       "<div>\n",
       "<style scoped>\n",
       "    .dataframe tbody tr th:only-of-type {\n",
       "        vertical-align: middle;\n",
       "    }\n",
       "\n",
       "    .dataframe tbody tr th {\n",
       "        vertical-align: top;\n",
       "    }\n",
       "\n",
       "    .dataframe thead th {\n",
       "        text-align: right;\n",
       "    }\n",
       "</style>\n",
       "<table border=\"1\" class=\"dataframe\">\n",
       "  <thead>\n",
       "    <tr style=\"text-align: right;\">\n",
       "      <th></th>\n",
       "      <th>Unnamed: 0</th>\n",
       "      <th>date_time</th>\n",
       "      <th>site_name</th>\n",
       "      <th>posa_continent</th>\n",
       "      <th>user_location_country</th>\n",
       "      <th>user_location_region</th>\n",
       "      <th>user_location_city</th>\n",
       "      <th>orig_destination_distance</th>\n",
       "      <th>user_id</th>\n",
       "      <th>is_mobile</th>\n",
       "      <th>...</th>\n",
       "      <th>hotel_continent</th>\n",
       "      <th>hotel_country</th>\n",
       "      <th>hotel_market</th>\n",
       "      <th>hotel_cluster</th>\n",
       "      <th>date</th>\n",
       "      <th>month-year</th>\n",
       "      <th>month</th>\n",
       "      <th>year</th>\n",
       "      <th>periodo</th>\n",
       "      <th>Categoría</th>\n",
       "    </tr>\n",
       "  </thead>\n",
       "  <tbody>\n",
       "    <tr>\n",
       "      <th>0</th>\n",
       "      <td>101940</td>\n",
       "      <td>2013-01-14 09:57:25</td>\n",
       "      <td>2</td>\n",
       "      <td>3</td>\n",
       "      <td>66</td>\n",
       "      <td>442</td>\n",
       "      <td>35390</td>\n",
       "      <td>799.9374</td>\n",
       "      <td>397128</td>\n",
       "      <td>0</td>\n",
       "      <td>...</td>\n",
       "      <td>4.0</td>\n",
       "      <td>8.0</td>\n",
       "      <td>110.0</td>\n",
       "      <td>83.0</td>\n",
       "      <td>2013-01-14</td>\n",
       "      <td>2013-01</td>\n",
       "      <td>1</td>\n",
       "      <td>2013</td>\n",
       "      <td>1</td>\n",
       "      <td>9</td>\n",
       "    </tr>\n",
       "    <tr>\n",
       "      <th>8</th>\n",
       "      <td>22936</td>\n",
       "      <td>2013-01-28 19:43:15</td>\n",
       "      <td>2</td>\n",
       "      <td>3</td>\n",
       "      <td>66</td>\n",
       "      <td>220</td>\n",
       "      <td>35388</td>\n",
       "      <td>1998.0124</td>\n",
       "      <td>99366</td>\n",
       "      <td>0</td>\n",
       "      <td>...</td>\n",
       "      <td>2.0</td>\n",
       "      <td>50.0</td>\n",
       "      <td>1633.0</td>\n",
       "      <td>55.0</td>\n",
       "      <td>2013-01-28</td>\n",
       "      <td>2013-01</td>\n",
       "      <td>1</td>\n",
       "      <td>2013</td>\n",
       "      <td>1</td>\n",
       "      <td>3</td>\n",
       "    </tr>\n",
       "    <tr>\n",
       "      <th>9</th>\n",
       "      <td>22937</td>\n",
       "      <td>2013-01-29 14:26:19</td>\n",
       "      <td>2</td>\n",
       "      <td>3</td>\n",
       "      <td>66</td>\n",
       "      <td>220</td>\n",
       "      <td>35388</td>\n",
       "      <td>1054.5731</td>\n",
       "      <td>99366</td>\n",
       "      <td>0</td>\n",
       "      <td>...</td>\n",
       "      <td>2.0</td>\n",
       "      <td>50.0</td>\n",
       "      <td>675.0</td>\n",
       "      <td>18.0</td>\n",
       "      <td>2013-01-29</td>\n",
       "      <td>2013-01</td>\n",
       "      <td>1</td>\n",
       "      <td>2013</td>\n",
       "      <td>1</td>\n",
       "      <td>3</td>\n",
       "    </tr>\n",
       "    <tr>\n",
       "      <th>11</th>\n",
       "      <td>22938</td>\n",
       "      <td>2013-01-30 08:13:13</td>\n",
       "      <td>2</td>\n",
       "      <td>3</td>\n",
       "      <td>66</td>\n",
       "      <td>220</td>\n",
       "      <td>35388</td>\n",
       "      <td>1054.1490</td>\n",
       "      <td>99366</td>\n",
       "      <td>0</td>\n",
       "      <td>...</td>\n",
       "      <td>2.0</td>\n",
       "      <td>50.0</td>\n",
       "      <td>675.0</td>\n",
       "      <td>18.0</td>\n",
       "      <td>2013-01-30</td>\n",
       "      <td>2013-01</td>\n",
       "      <td>1</td>\n",
       "      <td>2013</td>\n",
       "      <td>1</td>\n",
       "      <td>3</td>\n",
       "    </tr>\n",
       "    <tr>\n",
       "      <th>12</th>\n",
       "      <td>22940</td>\n",
       "      <td>2013-01-30 08:22:49</td>\n",
       "      <td>2</td>\n",
       "      <td>3</td>\n",
       "      <td>66</td>\n",
       "      <td>220</td>\n",
       "      <td>35388</td>\n",
       "      <td>1055.1409</td>\n",
       "      <td>99366</td>\n",
       "      <td>0</td>\n",
       "      <td>...</td>\n",
       "      <td>2.0</td>\n",
       "      <td>50.0</td>\n",
       "      <td>675.0</td>\n",
       "      <td>55.0</td>\n",
       "      <td>2013-01-30</td>\n",
       "      <td>2013-01</td>\n",
       "      <td>1</td>\n",
       "      <td>2013</td>\n",
       "      <td>1</td>\n",
       "      <td>3</td>\n",
       "    </tr>\n",
       "  </tbody>\n",
       "</table>\n",
       "<p>5 rows × 29 columns</p>\n",
       "</div>"
      ],
      "text/plain": [
       "    Unnamed: 0            date_time  site_name  posa_continent  \\\n",
       "0       101940  2013-01-14 09:57:25          2               3   \n",
       "8        22936  2013-01-28 19:43:15          2               3   \n",
       "9        22937  2013-01-29 14:26:19          2               3   \n",
       "11       22938  2013-01-30 08:13:13          2               3   \n",
       "12       22940  2013-01-30 08:22:49          2               3   \n",
       "\n",
       "    user_location_country  user_location_region  user_location_city  \\\n",
       "0                      66                   442               35390   \n",
       "8                      66                   220               35388   \n",
       "9                      66                   220               35388   \n",
       "11                     66                   220               35388   \n",
       "12                     66                   220               35388   \n",
       "\n",
       "    orig_destination_distance  user_id  is_mobile  ...  hotel_continent  \\\n",
       "0                    799.9374   397128          0  ...              4.0   \n",
       "8                   1998.0124    99366          0  ...              2.0   \n",
       "9                   1054.5731    99366          0  ...              2.0   \n",
       "11                  1054.1490    99366          0  ...              2.0   \n",
       "12                  1055.1409    99366          0  ...              2.0   \n",
       "\n",
       "    hotel_country  hotel_market  hotel_cluster        date  month-year  month  \\\n",
       "0             8.0         110.0           83.0  2013-01-14     2013-01      1   \n",
       "8            50.0        1633.0           55.0  2013-01-28     2013-01      1   \n",
       "9            50.0         675.0           18.0  2013-01-29     2013-01      1   \n",
       "11           50.0         675.0           18.0  2013-01-30     2013-01      1   \n",
       "12           50.0         675.0           55.0  2013-01-30     2013-01      1   \n",
       "\n",
       "    year  periodo  Categoría  \n",
       "0   2013        1          9  \n",
       "8   2013        1          3  \n",
       "9   2013        1          3  \n",
       "11  2013        1          3  \n",
       "12  2013        1          3  \n",
       "\n",
       "[5 rows x 29 columns]"
      ]
     },
     "execution_count": 56,
     "metadata": {},
     "output_type": "execute_result"
    }
   ],
   "source": [
    "DataDefin.head(5)"
   ]
  },
  {
   "cell_type": "code",
   "execution_count": 57,
   "metadata": {},
   "outputs": [
    {
     "data": {
      "text/plain": [
       "Unnamed: 0                   0\n",
       "date_time                    0\n",
       "site_name                    0\n",
       "posa_continent               0\n",
       "user_location_country        0\n",
       "user_location_region         0\n",
       "user_location_city           0\n",
       "orig_destination_distance    0\n",
       "user_id                      0\n",
       "is_mobile                    0\n",
       "is_package                   0\n",
       "channel                      0\n",
       "srch_adults_cnt              0\n",
       "srch_children_cnt            0\n",
       "srch_rm_cnt                  0\n",
       "srch_destination_id          0\n",
       "srch_destination_type_id     0\n",
       "is_booking                   0\n",
       "cnt                          0\n",
       "hotel_continent              0\n",
       "hotel_country                0\n",
       "hotel_market                 0\n",
       "hotel_cluster                0\n",
       "date                         0\n",
       "month-year                   0\n",
       "month                        0\n",
       "year                         0\n",
       "periodo                      0\n",
       "Categoría                    0\n",
       "dtype: int64"
      ]
     },
     "execution_count": 57,
     "metadata": {},
     "output_type": "execute_result"
    }
   ],
   "source": [
    "DataDefin.isnull().sum()"
   ]
  },
  {
   "cell_type": "code",
   "execution_count": 58,
   "metadata": {},
   "outputs": [
    {
     "data": {
      "text/plain": [
       "Unnamed: 0                   243444\n",
       "date_time                    243444\n",
       "site_name                    243444\n",
       "posa_continent               243444\n",
       "user_location_country        243444\n",
       "user_location_region         243444\n",
       "user_location_city           243444\n",
       "orig_destination_distance    243444\n",
       "user_id                      243444\n",
       "is_mobile                    243444\n",
       "is_package                   243444\n",
       "channel                      243444\n",
       "srch_adults_cnt              243444\n",
       "srch_children_cnt            243444\n",
       "srch_rm_cnt                  243444\n",
       "srch_destination_id          243444\n",
       "srch_destination_type_id     243444\n",
       "is_booking                   243444\n",
       "cnt                          243444\n",
       "hotel_continent              243444\n",
       "hotel_country                243444\n",
       "hotel_market                 243444\n",
       "hotel_cluster                243444\n",
       "date                         243444\n",
       "month-year                   243444\n",
       "month                        243444\n",
       "year                         243444\n",
       "periodo                      243444\n",
       "Categoría                    243444\n",
       "dtype: int64"
      ]
     },
     "execution_count": 58,
     "metadata": {},
     "output_type": "execute_result"
    }
   ],
   "source": [
    "DataDefin.count()"
   ]
  },
  {
   "cell_type": "markdown",
   "metadata": {},
   "source": [
    "Por primera vez vemos que el count de las distancias(la variable contenedora de nulos) ya no contiene nulos y contiene valores, (el count no cuenta los nulos como vimos antes)"
   ]
  },
  {
   "cell_type": "markdown",
   "metadata": {},
   "source": [
    "ahora lo pasamos a CSV para poder manipular dicho dataset definitivo."
   ]
  },
  {
   "cell_type": "code",
   "execution_count": 59,
   "metadata": {},
   "outputs": [],
   "source": [
    "# Guarda datos en CSV:\n",
    "DataDefin.to_csv('dfDefinitivo.csv', index=False)"
   ]
  },
  {
   "cell_type": "code",
   "execution_count": 5,
   "metadata": {},
   "outputs": [],
   "source": [
    "myDataDefin = spark.read.csv('dfDefinitivo.csv', header='true', inferSchema='true', sep=',')"
   ]
  },
  {
   "cell_type": "code",
   "execution_count": 6,
   "metadata": {},
   "outputs": [],
   "source": [
    "from pyspark.ml import Pipeline\n",
    "from pyspark.ml.feature import StringIndexer, OneHotEncoder, VectorAssembler\n",
    "import pyspark.ml.feature as ft\n",
    "import pyspark.ml.tuning as tune"
   ]
  },
  {
   "cell_type": "code",
   "execution_count": 12,
   "metadata": {},
   "outputs": [],
   "source": [
    "encoder1 = ft.OneHotEncoder(\n",
    "    inputCol='hotel_cluster', \n",
    "    outputCol='hotel_clusterVEC')"
   ]
  },
  {
   "cell_type": "code",
   "execution_count": 24,
   "metadata": {},
   "outputs": [],
   "source": [
    "assembler1 = VectorAssembler(\n",
    "    inputCols=['site_name','posa_continent','user_location_country','user_location_region','user_location_city','orig_destination_distance','user_id','is_mobile','is_package','channel','srch_adults_cnt','srch_children_cnt','srch_rm_cnt','srch_destination_id','srch_destination_type_id','is_booking','cnt','hotel_continent','hotel_country','hotel_market','hotel_cluster','month','year','periodo', 'Categoría'] + \\\n",
    "    [encoder1.getOutputCol()],\n",
    "   #,' [encoder2.getOutputCol()],\n",
    "  #,'  [encoder3.getOutputCol()],\n",
    "    outputCol=\"features\")\n",
    "#,'user_id','is_mobile','is_package','channel','srch_adults_cnt','srch_children_cnt','srch_rm_cnt','srch_destination_id','srch_destination_type_id','is_booking','cnt','hotel_continent','hotel_country','hotel_market','hotel_cluster','periodo', 'Categoría'"
   ]
  },
  {
   "cell_type": "code",
   "execution_count": 25,
   "metadata": {},
   "outputs": [],
   "source": [
    "import pyspark.ml.classification as cl\n",
    "\n",
    "logistic = cl.LogisticRegression(\n",
    "    #class_weight=\"balanced\",\n",
    "    maxIter=10, \n",
    "    regParam=0.01, \n",
    "    labelCol='hotel_cluster')#columna de salida que yo quiero estimar"
   ]
  },
  {
   "cell_type": "code",
   "execution_count": 26,
   "metadata": {},
   "outputs": [],
   "source": [
    "df_train, df_test = myDataDefin \\\n",
    "    .randomSplit([0.7, 0.3], seed=666)\n",
    "#You need to make sure there are no missing values in your data -- that's why you get the NullPointerException. Also, make sure that all your input features to the VectorAssembler are numeric."
   ]
  },
  {
   "cell_type": "code",
   "execution_count": null,
   "metadata": {},
   "outputs": [],
   "source": [
    "pipeline = Pipeline(stages=[encoder1, assembler1, logistic])"
   ]
  },
  {
   "cell_type": "code",
   "execution_count": null,
   "metadata": {},
   "outputs": [],
   "source": [
    "model = pipeline.fit(df_train)"
   ]
  },
  {
   "cell_type": "code",
   "execution_count": null,
   "metadata": {},
   "outputs": [],
   "source": [
    "test_model = model.transform(df_test)"
   ]
  },
  {
   "cell_type": "code",
   "execution_count": null,
   "metadata": {},
   "outputs": [],
   "source": [
    "test_model.take(1)"
   ]
  },
  {
   "cell_type": "markdown",
   "metadata": {},
   "source": [
    "Si tenemos alguna variable continua en nuestro dataset, es difícil para nuestro modelo sacar alguna conclusión de la relación entre la misma y la salida.\n",
    "\n",
    "Vamos a realizar un ejemplo de discretización. "
   ]
  },
  {
   "cell_type": "code",
   "execution_count": null,
   "metadata": {},
   "outputs": [],
   "source": [
    "discretizer = ft.QuantileDiscretizer(\n",
    "    numBuckets=12, \n",
    "    inputCol='orig_destination_distance', \n",
    "    outputCol='discretized')"
   ]
  },
  {
   "cell_type": "code",
   "execution_count": null,
   "metadata": {},
   "outputs": [],
   "source": [
    "data_discretized = discretizer.fit(myDataDefin).transform(myDataDefin)\n",
    "\n",
    "data_discretized \\\n",
    "    .groupby('discretized')\\\n",
    "    .mean('orig_destination_distance')\\\n",
    "    .sort('discretized')\\\n",
    "    .collect()"
   ]
  },
  {
   "cell_type": "code",
   "execution_count": 7,
   "metadata": {},
   "outputs": [],
   "source": [
    "myDataDefin2 = spark.read.csv('dfDefinitivo.csv', header='true', inferSchema='true', sep=',')"
   ]
  },
  {
   "cell_type": "code",
   "execution_count": 8,
   "metadata": {},
   "outputs": [],
   "source": [
    "df_train, df_test = myDataDefin2 \\\n",
    "    .randomSplit([0.7, 0.3], seed=666)\n",
    "#You need to make sure there are no missing values in your data -- that's why you get the NullPointerException. Also, make sure that all your input features to the VectorAssembler are numeric."
   ]
  },
  {
   "cell_type": "code",
   "execution_count": 9,
   "metadata": {},
   "outputs": [],
   "source": [
    "from pyspark.ml.feature import StringIndexer\n",
    "indexer = StringIndexer(inputCol=\"hotel_cluster\", outputCol=\"hotel_clusterINDEX\").fit(myDataDefin2)"
   ]
  },
  {
   "cell_type": "code",
   "execution_count": 31,
   "metadata": {},
   "outputs": [],
   "source": [
    "from pyspark.ml.feature import StringIndexer\n",
    "indexer = StringIndexer(inputCol=\"hotel_cluster\", outputCol=\"hotel_clusterINDEX\").fit(myDataDefin)\n",
    "\n"
   ]
  },
  {
   "cell_type": "code",
   "execution_count": null,
   "metadata": {},
   "outputs": [],
   "source": []
  },
  {
   "cell_type": "code",
   "execution_count": 13,
   "metadata": {},
   "outputs": [],
   "source": [
    "assembler2 = VectorAssembler(\n",
    "    inputCols=['site_name','posa_continent','user_location_country','user_location_region','user_location_city','orig_destination_distance','user_id','is_mobile','is_package','channel','srch_adults_cnt','srch_children_cnt','srch_rm_cnt','srch_destination_id','srch_destination_type_id','is_booking','cnt','hotel_continent','hotel_country','hotel_market','month','year','periodo', 'Categoría'] + \\\n",
    "    [encoder1.getOutputCol()],\n",
    "   #,' [encoder2.getOutputCol()],\n",
    "  #,'  [encoder3.getOutputCol()],\n",
    "    outputCol=\"features\")\n",
    "#,'user_id','is_mobile','is_package','channel','srch_adults_cnt','srch_children_cnt','srch_rm_cnt','srch_destination_id','srch_destination_type_id','is_booking','cnt','hotel_continent','hotel_country','hotel_market','hotel_cluster','periodo', 'Categoría'\n",
    "#,'user_id','is_mobile','is_package','channel','srch_adults_cnt','srch_children_cnt','srch_rm_cnt','srch_destination_id','srch_destination_type_id','is_booking','cnt','hotel_continent','hotel_country','hotel_market','hotel_cluster','periodo', 'Categoría'\n"
   ]
  },
  {
   "cell_type": "code",
   "execution_count": 14,
   "metadata": {},
   "outputs": [],
   "source": [
    "import pyspark.ml.classification as cl\n",
    "classifier = cl.RandomForestClassifier(\n",
    "    numTrees=5, \n",
    "    maxDepth=8, \n",
    "    labelCol='hotel_clusterINDEX')\n",
    "\n",
    "#indexer = StringIndexer(inputCol=\"INFANT_ALIVE_AT_REPORT\", outputCol=\"INFANT_ALIVE_AT_REPORT_indexer\").fit(birthsDF)\n",
    "\n",
    "pipeline = Pipeline(\n",
    "    stages=[\n",
    "        indexer,\n",
    "        encoder1,\n",
    "        assembler2, \n",
    "        classifier])\n",
    "\n",
    "model = pipeline.fit(df_train)\n",
    "test = model.transform(df_test)"
   ]
  },
  {
   "cell_type": "code",
   "execution_count": 15,
   "metadata": {},
   "outputs": [
    {
     "name": "stdout",
     "output_type": "stream",
     "text": [
      "0.885833192733817\n",
      "0.9964409894605855\n"
     ]
    }
   ],
   "source": [
    "import pyspark.ml.evaluation as ev\n",
    "\n",
    "evaluator = ev.BinaryClassificationEvaluator(\n",
    "    rawPredictionCol='probability', \n",
    "    labelCol='hotel_clusterINDEX')\n",
    "\n",
    "print(evaluator.evaluate(test, \n",
    "     {evaluator.metricName: 'areaUnderROC'}))\n",
    "print(evaluator.evaluate(test, {evaluator.metricName: 'areaUnderPR'}))\n"
   ]
  },
  {
   "cell_type": "code",
   "execution_count": 36,
   "metadata": {},
   "outputs": [
    {
     "data": {
      "text/plain": [
       "[Row(Unnamed: 0=74, date_time=datetime.datetime(2013, 2, 15, 13, 18, 43), site_name=2, posa_continent=3, user_location_country=66, user_location_region=462, user_location_city=41898, orig_destination_distance=2716.6746, user_id=1482, is_mobile=0, is_package=0, channel=1, srch_adults_cnt=2, srch_children_cnt=0, srch_rm_cnt=1.0, srch_destination_id=8857.0, srch_destination_type_id=1.0, is_booking=0.0, cnt=1.0, hotel_continent=2.0, hotel_country=50.0, hotel_market=214.0, hotel_cluster=28.0, date=datetime.datetime(2013, 2, 15, 0, 0), month-year='2013-02', month=2, year=2013, periodo=4, Categoría=4, hotel_clusterINDEX=18.0, hotel_clusterVEC=SparseVector(99, {28: 1.0}), features=SparseVector(123, {0: 2.0, 1: 3.0, 2: 66.0, 3: 462.0, 4: 41898.0, 5: 2716.6746, 6: 1482.0, 9: 1.0, 10: 2.0, 12: 1.0, 13: 8857.0, 14: 1.0, 16: 1.0, 17: 2.0, 18: 50.0, 19: 214.0, 20: 2.0, 21: 2013.0, 22: 4.0, 23: 4.0, 52: 1.0}), rawPrediction=DenseVector([0.0643, 0.024, 0.0459, 0.0442, 0.0594, 0.0187, 0.0543, 0.0705, 0.0176, 0.0509, 0.0506, 0.0661, 0.065, 0.0335, 0.0321, 0.0322, 0.0475, 0.063, 1.0619, 0.03, 0.0608, 0.0288, 0.0596, 0.0615, 0.058, 0.0444, 0.0575, 0.0571, 0.0562, 0.0528, 0.0567, 0.0522, 0.0539, 0.0516, 0.0371, 0.0496, 0.0489, 0.0489, 0.0488, 0.0497, 0.0484, 0.0469, 0.0462, 0.0455, 0.0457, 0.0462, 0.0439, 0.044, 0.0454, 0.0455, 0.0436, 0.0442, 0.042, 0.0433, 0.0422, 0.0418, 0.0422, 0.0405, 0.0401, 0.0393, 0.0373, 0.037, 0.0383, 0.0374, 0.0377, 0.0359, 0.0357, 0.0347, 0.0348, 0.0331, 0.0332, 0.0332, 0.0327, 0.0338, 0.0331, 0.0341, 0.0327, 0.0314, 0.0315, 0.0298, 0.0299, 0.0283, 0.0289, 0.0285, 0.0291, 0.028, 0.0279, 0.027, 0.027, 0.0265, 0.0266, 0.0261, 0.0244, 0.0209, 0.0203, 0.0179, 0.0183, 0.0162, 0.012, 0.0062]), probability=DenseVector([0.0129, 0.0048, 0.0092, 0.0088, 0.0119, 0.0037, 0.0109, 0.0141, 0.0035, 0.0102, 0.0101, 0.0132, 0.013, 0.0067, 0.0064, 0.0064, 0.0095, 0.0126, 0.2124, 0.006, 0.0122, 0.0058, 0.0119, 0.0123, 0.0116, 0.0089, 0.0115, 0.0114, 0.0112, 0.0106, 0.0113, 0.0104, 0.0108, 0.0103, 0.0074, 0.0099, 0.0098, 0.0098, 0.0098, 0.0099, 0.0097, 0.0094, 0.0092, 0.0091, 0.0091, 0.0092, 0.0088, 0.0088, 0.0091, 0.0091, 0.0087, 0.0088, 0.0084, 0.0087, 0.0084, 0.0084, 0.0084, 0.0081, 0.008, 0.0079, 0.0075, 0.0074, 0.0077, 0.0075, 0.0075, 0.0072, 0.0071, 0.0069, 0.007, 0.0066, 0.0066, 0.0066, 0.0065, 0.0068, 0.0066, 0.0068, 0.0065, 0.0063, 0.0063, 0.006, 0.006, 0.0057, 0.0058, 0.0057, 0.0058, 0.0056, 0.0056, 0.0054, 0.0054, 0.0053, 0.0053, 0.0052, 0.0049, 0.0042, 0.0041, 0.0036, 0.0037, 0.0032, 0.0024, 0.0012]), prediction=18.0)]"
      ]
     },
     "execution_count": 36,
     "metadata": {},
     "output_type": "execute_result"
    }
   ],
   "source": [
    "test.take(1) checkpoint"
   ]
  },
  {
   "cell_type": "code",
   "execution_count": 6,
   "metadata": {},
   "outputs": [],
   "source": [
    "myDataDefin = spark.read.csv('test1.csv', header='true', inferSchema='true', sep=',')"
   ]
  },
  {
   "cell_type": "code",
   "execution_count": 7,
   "metadata": {},
   "outputs": [],
   "source": [
    "trainning = spark.read.csv('dfDefinitivo.csv', header='true', inferSchema='true', sep=',')"
   ]
  },
  {
   "cell_type": "code",
   "execution_count": 21,
   "metadata": {},
   "outputs": [
    {
     "data": {
      "text/plain": [
       "[Row(id=0, date_time=datetime.datetime(2015, 9, 3, 17, 9, 54), site_name=2, posa_continent=3, user_location_country=66, user_location_region=174, user_location_city=37449, orig_destination_distance=5539.0567, user_id=1, is_mobile=1, is_package=0, channel=3, srch_ci='2016-05-19', srch_co=datetime.datetime(2016, 5, 23, 0, 0), srch_adults_cnt=2, srch_children_cnt=0, srch_rm_cnt=1, srch_destination_id=12243, srch_destination_type_id=6, hotel_continent=6, hotel_country=204, hotel_market=27)]"
      ]
     },
     "execution_count": 21,
     "metadata": {},
     "output_type": "execute_result"
    }
   ],
   "source": [
    "myDataDefin.take(1)"
   ]
  },
  {
   "cell_type": "code",
   "execution_count": 22,
   "metadata": {},
   "outputs": [
    {
     "data": {
      "text/plain": [
       "[Row(Unnamed: 0=101940, date_time=datetime.datetime(2013, 1, 14, 9, 57, 25), site_name=2, posa_continent=3, user_location_country=66, user_location_region=442, user_location_city=35390, orig_destination_distance=799.9374, user_id=397128, is_mobile=0, is_package=1, channel=0, srch_adults_cnt=3, srch_children_cnt=2, srch_rm_cnt=1.0, srch_destination_id=8791.0, srch_destination_type_id=1.0, is_booking=0.0, cnt=1.0, hotel_continent=4.0, hotel_country=8.0, hotel_market=110.0, hotel_cluster=83.0, date=datetime.datetime(2013, 1, 14, 0, 0), month-year='2013-01', month=1, year=2013, periodo=1, Categoría=9)]"
      ]
     },
     "execution_count": 22,
     "metadata": {},
     "output_type": "execute_result"
    }
   ],
   "source": [
    "trainning.take(1)"
   ]
  },
  {
   "cell_type": "code",
   "execution_count": 91,
   "metadata": {},
   "outputs": [],
   "source": [
    "from pyspark.ml.feature import StringIndexer\n",
    "indexer = StringIndexer(inputCol=\"hotel_cluster\", outputCol=\"hotel_clusterINDEX\").fit(train)"
   ]
  },
  {
   "cell_type": "code",
   "execution_count": 45,
   "metadata": {},
   "outputs": [],
   "source": [
    "encoder1 = ft.OneHotEncoder(\n",
    "    inputCol='hotel_cluster', \n",
    "    outputCol='hotel_clusterVEC')"
   ]
  },
  {
   "cell_type": "code",
   "execution_count": 12,
   "metadata": {},
   "outputs": [],
   "source": [
    "assembler2 = VectorAssembler(\n",
    "    inputCols=['site_name','posa_continent','user_location_country','user_location_region','user_location_city','orig_destination_distance','user_id','is_mobile','is_package','channel','srch_adults_cnt','srch_children_cnt','srch_rm_cnt','srch_destination_id','srch_destination_type_id','hotel_continent','hotel_country','hotel_market'],\n",
    "   #,' [encoder2.getOutputCol()],\n",
    "  #,'  [encoder3.getOutputCol()],\n",
    "    outputCol=\"features\")\n",
    "#,'user_id','is_mobile','is_package','channel','srch_adults_cnt','srch_children_cnt','srch_rm_cnt','srch_destination_id','srch_destination_type_id','is_booking','cnt','hotel_continent','hotel_country','hotel_market','hotel_cluster','periodo', 'Categoría'\n",
    "#,'user_id','is_mobile','is_package','channel','srch_adults_cnt','srch_children_cnt','srch_rm_cnt','srch_destination_id','srch_destination_type_id','is_booking','cnt','hotel_continent','hotel_country','hotel_market','hotel_cluster','periodo', 'Categoría'\n"
   ]
  },
  {
   "cell_type": "code",
   "execution_count": null,
   "metadata": {},
   "outputs": [],
   "source": [
    "df_train, df_test = data_discretized \\\n",
    "    .randomSplit([0.7, 0.3], seed=666)"
   ]
  },
  {
   "cell_type": "code",
   "execution_count": 93,
   "metadata": {},
   "outputs": [],
   "source": [
    "classifier = cl.RandomForestClassifier(\n",
    "    numTrees=5, \n",
    "    maxDepth=8, \n",
    "    labelCol='hotel_clusterINDEX')\n",
    "\n",
    "#indexer = StringIndexer(inputCol=\"INFANT_ALIVE_AT_REPORT\", outputCol=\"INFANT_ALIVE_AT_REPORT_indexer\").fit(birthsDF)\n",
    "\n",
    "pipeline = Pipeline(\n",
    "    stages=[\n",
    "        indexer,\n",
    "        assembler2, \n",
    "        classifier])\n",
    "\n",
    "model = pipeline.fit(train)\n"
   ]
  },
  {
   "cell_type": "code",
   "execution_count": 38,
   "metadata": {},
   "outputs": [
    {
     "data": {
      "text/plain": [
       "[Row(Unnamed: 0=101940, date_time=datetime.datetime(2013, 1, 14, 9, 57, 25), site_name=2, posa_continent=3, user_location_country=66, user_location_region=442, user_location_city=35390, orig_destination_distance=799.9374, user_id=397128, is_mobile=0, is_package=1, channel=0, srch_adults_cnt=3, srch_children_cnt=2, srch_rm_cnt=1.0, srch_destination_id=8791.0, srch_destination_type_id=1.0, is_booking=0.0, cnt=1.0, hotel_continent=4.0, hotel_country=8.0, hotel_market=110.0, hotel_cluster=83.0, date=datetime.datetime(2013, 1, 14, 0, 0), month-year='2013-01', month=1, year=2013, periodo=1, Categoría=9)]"
      ]
     },
     "execution_count": 38,
     "metadata": {},
     "output_type": "execute_result"
    }
   ],
   "source": [
    "trainning.take(1) ckeckpoint\n"
   ]
  },
  {
   "cell_type": "code",
   "execution_count": 8,
   "metadata": {},
   "outputs": [],
   "source": [
    "columns_to_drop = ['cnt','month-year','is_booking','date','month','year','periodo', 'Categoría']\n",
    "train = trainning.drop(*columns_to_drop)"
   ]
  },
  {
   "cell_type": "code",
   "execution_count": 50,
   "metadata": {},
   "outputs": [
    {
     "data": {
      "text/plain": [
       "[Row(Unnamed: 0=101940, date_time=datetime.datetime(2013, 1, 14, 9, 57, 25), site_name=2, posa_continent=3, user_location_country=66, user_location_region=442, user_location_city=35390, orig_destination_distance=799.9374, user_id=397128, is_mobile=0, is_package=1, channel=0, srch_adults_cnt=3, srch_children_cnt=2, srch_rm_cnt=1.0, srch_destination_id=8791.0, srch_destination_type_id=1.0, hotel_continent=4.0, hotel_country=8.0, hotel_market=110.0, hotel_cluster=83.0)]"
      ]
     },
     "execution_count": 50,
     "metadata": {},
     "output_type": "execute_result"
    }
   ],
   "source": [
    "train.take(1)"
   ]
  },
  {
   "cell_type": "code",
   "execution_count": 63,
   "metadata": {},
   "outputs": [
    {
     "data": {
      "text/plain": [
       "DataFrame[Unnamed: 0: int, date_time: timestamp, site_name: int, posa_continent: int, user_location_country: int, user_location_region: int, user_location_city: int, orig_destination_distance: double, user_id: int, is_mobile: int, is_package: int, channel: int, srch_adults_cnt: int, srch_children_cnt: int, srch_rm_cnt: double, srch_destination_id: double, srch_destination_type_id: double, hotel_continent: double, hotel_country: double, hotel_market: double, hotel_cluster: double]"
      ]
     },
     "execution_count": 63,
     "metadata": {},
     "output_type": "execute_result"
    }
   ],
   "source": [
    "train.dropna()"
   ]
  },
  {
   "cell_type": "code",
   "execution_count": 9,
   "metadata": {},
   "outputs": [],
   "source": [
    "newdf = myDataDefin.withColumn(\"hotel_cluster\",lit(1))"
   ]
  },
  {
   "cell_type": "code",
   "execution_count": 36,
   "metadata": {},
   "outputs": [
    {
     "data": {
      "text/plain": [
       "[Row(id=0, date_time=datetime.datetime(2015, 9, 3, 17, 9, 54), site_name=2, posa_continent=3, user_location_country=66, user_location_region=174, user_location_city=37449, orig_destination_distance=5539.0567, user_id=1, is_mobile=1, is_package=0, channel=3, srch_ci='2016-05-19', srch_co=datetime.datetime(2016, 5, 23, 0, 0), srch_adults_cnt=2, srch_children_cnt=0, srch_rm_cnt=1, srch_destination_id=12243, srch_destination_type_id=6, hotel_continent=6, hotel_country=204, hotel_market=27, hotel_cluster=1)]"
      ]
     },
     "execution_count": 36,
     "metadata": {},
     "output_type": "execute_result"
    }
   ],
   "source": [
    "newdf.take(1)"
   ]
  },
  {
   "cell_type": "code",
   "execution_count": 10,
   "metadata": {},
   "outputs": [],
   "source": [
    "df=newdf.dropna()"
   ]
  },
  {
   "cell_type": "code",
   "execution_count": 94,
   "metadata": {},
   "outputs": [],
   "source": [
    "test = model.transform(df)"
   ]
  },
  {
   "cell_type": "code",
   "execution_count": 95,
   "metadata": {},
   "outputs": [
    {
     "ename": "Py4JJavaError",
     "evalue": "An error occurred while calling o2376.collectToPython.\n: org.apache.spark.SparkException: Job aborted due to stage failure: Task 0 in stage 220.0 failed 1 times, most recent failure: Lost task 0.0 in stage 220.0 (TID 538, localhost, executor driver): org.apache.spark.SparkException: Failed to execute user defined function($anonfun$9: (string) => double)\r\n\tat org.apache.spark.sql.catalyst.expressions.GeneratedClass$GeneratedIteratorForCodegenStage1.processNext(Unknown Source)\r\n\tat org.apache.spark.sql.execution.BufferedRowIterator.hasNext(BufferedRowIterator.java:43)\r\n\tat org.apache.spark.sql.execution.WholeStageCodegenExec$$anonfun$10$$anon$1.hasNext(WholeStageCodegenExec.scala:619)\r\n\tat org.apache.spark.sql.execution.SparkPlan$$anonfun$2.apply(SparkPlan.scala:253)\r\n\tat org.apache.spark.sql.execution.SparkPlan$$anonfun$2.apply(SparkPlan.scala:247)\r\n\tat org.apache.spark.rdd.RDD$$anonfun$mapPartitionsInternal$1$$anonfun$apply$25.apply(RDD.scala:836)\r\n\tat org.apache.spark.rdd.RDD$$anonfun$mapPartitionsInternal$1$$anonfun$apply$25.apply(RDD.scala:836)\r\n\tat org.apache.spark.rdd.MapPartitionsRDD.compute(MapPartitionsRDD.scala:49)\r\n\tat org.apache.spark.rdd.RDD.computeOrReadCheckpoint(RDD.scala:324)\r\n\tat org.apache.spark.rdd.RDD.iterator(RDD.scala:288)\r\n\tat org.apache.spark.rdd.MapPartitionsRDD.compute(MapPartitionsRDD.scala:49)\r\n\tat org.apache.spark.rdd.RDD.computeOrReadCheckpoint(RDD.scala:324)\r\n\tat org.apache.spark.rdd.RDD.iterator(RDD.scala:288)\r\n\tat org.apache.spark.scheduler.ResultTask.runTask(ResultTask.scala:87)\r\n\tat org.apache.spark.scheduler.Task.run(Task.scala:109)\r\n\tat org.apache.spark.executor.Executor$TaskRunner.run(Executor.scala:345)\r\n\tat java.util.concurrent.ThreadPoolExecutor.runWorker(Unknown Source)\r\n\tat java.util.concurrent.ThreadPoolExecutor$Worker.run(Unknown Source)\r\n\tat java.lang.Thread.run(Unknown Source)\r\nCaused by: org.apache.spark.SparkException: Unseen label: 1.  To handle unseen labels, set Param handleInvalid to keep.\r\n\tat org.apache.spark.ml.feature.StringIndexerModel$$anonfun$9.apply(StringIndexer.scala:260)\r\n\tat org.apache.spark.ml.feature.StringIndexerModel$$anonfun$9.apply(StringIndexer.scala:246)\r\n\t... 19 more\r\n\nDriver stacktrace:\r\n\tat org.apache.spark.scheduler.DAGScheduler.org$apache$spark$scheduler$DAGScheduler$$failJobAndIndependentStages(DAGScheduler.scala:1661)\r\n\tat org.apache.spark.scheduler.DAGScheduler$$anonfun$abortStage$1.apply(DAGScheduler.scala:1649)\r\n\tat org.apache.spark.scheduler.DAGScheduler$$anonfun$abortStage$1.apply(DAGScheduler.scala:1648)\r\n\tat scala.collection.mutable.ResizableArray$class.foreach(ResizableArray.scala:59)\r\n\tat scala.collection.mutable.ArrayBuffer.foreach(ArrayBuffer.scala:48)\r\n\tat org.apache.spark.scheduler.DAGScheduler.abortStage(DAGScheduler.scala:1648)\r\n\tat org.apache.spark.scheduler.DAGScheduler$$anonfun$handleTaskSetFailed$1.apply(DAGScheduler.scala:831)\r\n\tat org.apache.spark.scheduler.DAGScheduler$$anonfun$handleTaskSetFailed$1.apply(DAGScheduler.scala:831)\r\n\tat scala.Option.foreach(Option.scala:257)\r\n\tat org.apache.spark.scheduler.DAGScheduler.handleTaskSetFailed(DAGScheduler.scala:831)\r\n\tat org.apache.spark.scheduler.DAGSchedulerEventProcessLoop.doOnReceive(DAGScheduler.scala:1882)\r\n\tat org.apache.spark.scheduler.DAGSchedulerEventProcessLoop.onReceive(DAGScheduler.scala:1831)\r\n\tat org.apache.spark.scheduler.DAGSchedulerEventProcessLoop.onReceive(DAGScheduler.scala:1820)\r\n\tat org.apache.spark.util.EventLoop$$anon$1.run(EventLoop.scala:48)\r\n\tat org.apache.spark.scheduler.DAGScheduler.runJob(DAGScheduler.scala:642)\r\n\tat org.apache.spark.SparkContext.runJob(SparkContext.scala:2034)\r\n\tat org.apache.spark.SparkContext.runJob(SparkContext.scala:2055)\r\n\tat org.apache.spark.SparkContext.runJob(SparkContext.scala:2074)\r\n\tat org.apache.spark.sql.execution.SparkPlan.executeTake(SparkPlan.scala:363)\r\n\tat org.apache.spark.sql.execution.CollectLimitExec.executeCollect(limit.scala:38)\r\n\tat org.apache.spark.sql.Dataset$$anonfun$collectToPython$1.apply(Dataset.scala:3200)\r\n\tat org.apache.spark.sql.Dataset$$anonfun$collectToPython$1.apply(Dataset.scala:3197)\r\n\tat org.apache.spark.sql.Dataset$$anonfun$52.apply(Dataset.scala:3259)\r\n\tat org.apache.spark.sql.execution.SQLExecution$.withNewExecutionId(SQLExecution.scala:77)\r\n\tat org.apache.spark.sql.Dataset.withAction(Dataset.scala:3258)\r\n\tat org.apache.spark.sql.Dataset.collectToPython(Dataset.scala:3197)\r\n\tat sun.reflect.NativeMethodAccessorImpl.invoke0(Native Method)\r\n\tat sun.reflect.NativeMethodAccessorImpl.invoke(Unknown Source)\r\n\tat sun.reflect.DelegatingMethodAccessorImpl.invoke(Unknown Source)\r\n\tat java.lang.reflect.Method.invoke(Unknown Source)\r\n\tat py4j.reflection.MethodInvoker.invoke(MethodInvoker.java:244)\r\n\tat py4j.reflection.ReflectionEngine.invoke(ReflectionEngine.java:357)\r\n\tat py4j.Gateway.invoke(Gateway.java:282)\r\n\tat py4j.commands.AbstractCommand.invokeMethod(AbstractCommand.java:132)\r\n\tat py4j.commands.CallCommand.execute(CallCommand.java:79)\r\n\tat py4j.GatewayConnection.run(GatewayConnection.java:238)\r\n\tat java.lang.Thread.run(Unknown Source)\r\nCaused by: org.apache.spark.SparkException: Failed to execute user defined function($anonfun$9: (string) => double)\r\n\tat org.apache.spark.sql.catalyst.expressions.GeneratedClass$GeneratedIteratorForCodegenStage1.processNext(Unknown Source)\r\n\tat org.apache.spark.sql.execution.BufferedRowIterator.hasNext(BufferedRowIterator.java:43)\r\n\tat org.apache.spark.sql.execution.WholeStageCodegenExec$$anonfun$10$$anon$1.hasNext(WholeStageCodegenExec.scala:619)\r\n\tat org.apache.spark.sql.execution.SparkPlan$$anonfun$2.apply(SparkPlan.scala:253)\r\n\tat org.apache.spark.sql.execution.SparkPlan$$anonfun$2.apply(SparkPlan.scala:247)\r\n\tat org.apache.spark.rdd.RDD$$anonfun$mapPartitionsInternal$1$$anonfun$apply$25.apply(RDD.scala:836)\r\n\tat org.apache.spark.rdd.RDD$$anonfun$mapPartitionsInternal$1$$anonfun$apply$25.apply(RDD.scala:836)\r\n\tat org.apache.spark.rdd.MapPartitionsRDD.compute(MapPartitionsRDD.scala:49)\r\n\tat org.apache.spark.rdd.RDD.computeOrReadCheckpoint(RDD.scala:324)\r\n\tat org.apache.spark.rdd.RDD.iterator(RDD.scala:288)\r\n\tat org.apache.spark.rdd.MapPartitionsRDD.compute(MapPartitionsRDD.scala:49)\r\n\tat org.apache.spark.rdd.RDD.computeOrReadCheckpoint(RDD.scala:324)\r\n\tat org.apache.spark.rdd.RDD.iterator(RDD.scala:288)\r\n\tat org.apache.spark.scheduler.ResultTask.runTask(ResultTask.scala:87)\r\n\tat org.apache.spark.scheduler.Task.run(Task.scala:109)\r\n\tat org.apache.spark.executor.Executor$TaskRunner.run(Executor.scala:345)\r\n\tat java.util.concurrent.ThreadPoolExecutor.runWorker(Unknown Source)\r\n\tat java.util.concurrent.ThreadPoolExecutor$Worker.run(Unknown Source)\r\n\t... 1 more\r\nCaused by: org.apache.spark.SparkException: Unseen label: 1.  To handle unseen labels, set Param handleInvalid to keep.\r\n\tat org.apache.spark.ml.feature.StringIndexerModel$$anonfun$9.apply(StringIndexer.scala:260)\r\n\tat org.apache.spark.ml.feature.StringIndexerModel$$anonfun$9.apply(StringIndexer.scala:246)\r\n\t... 19 more\r\n",
     "output_type": "error",
     "traceback": [
      "\u001b[1;31m---------------------------------------------------------------------------\u001b[0m",
      "\u001b[1;31mPy4JJavaError\u001b[0m                             Traceback (most recent call last)",
      "\u001b[1;32m<ipython-input-95-c2284a5a5f00>\u001b[0m in \u001b[0;36m<module>\u001b[1;34m\u001b[0m\n\u001b[1;32m----> 1\u001b[1;33m \u001b[0mtest\u001b[0m\u001b[1;33m.\u001b[0m\u001b[0mtake\u001b[0m\u001b[1;33m(\u001b[0m\u001b[1;36m1\u001b[0m\u001b[1;33m)\u001b[0m\u001b[1;33m\u001b[0m\u001b[1;33m\u001b[0m\u001b[0m\n\u001b[0m",
      "\u001b[1;32mC:\\spark\\spark-2.3.3-bin-hadoop2.7\\python\\pyspark\\sql\\dataframe.py\u001b[0m in \u001b[0;36mtake\u001b[1;34m(self, num)\u001b[0m\n\u001b[0;32m    502\u001b[0m         \u001b[1;33m[\u001b[0m\u001b[0mRow\u001b[0m\u001b[1;33m(\u001b[0m\u001b[0mage\u001b[0m\u001b[1;33m=\u001b[0m\u001b[1;36m2\u001b[0m\u001b[1;33m,\u001b[0m \u001b[0mname\u001b[0m\u001b[1;33m=\u001b[0m\u001b[1;34mu'Alice'\u001b[0m\u001b[1;33m)\u001b[0m\u001b[1;33m,\u001b[0m \u001b[0mRow\u001b[0m\u001b[1;33m(\u001b[0m\u001b[0mage\u001b[0m\u001b[1;33m=\u001b[0m\u001b[1;36m5\u001b[0m\u001b[1;33m,\u001b[0m \u001b[0mname\u001b[0m\u001b[1;33m=\u001b[0m\u001b[1;34mu'Bob'\u001b[0m\u001b[1;33m)\u001b[0m\u001b[1;33m]\u001b[0m\u001b[1;33m\u001b[0m\u001b[1;33m\u001b[0m\u001b[0m\n\u001b[0;32m    503\u001b[0m         \"\"\"\n\u001b[1;32m--> 504\u001b[1;33m         \u001b[1;32mreturn\u001b[0m \u001b[0mself\u001b[0m\u001b[1;33m.\u001b[0m\u001b[0mlimit\u001b[0m\u001b[1;33m(\u001b[0m\u001b[0mnum\u001b[0m\u001b[1;33m)\u001b[0m\u001b[1;33m.\u001b[0m\u001b[0mcollect\u001b[0m\u001b[1;33m(\u001b[0m\u001b[1;33m)\u001b[0m\u001b[1;33m\u001b[0m\u001b[1;33m\u001b[0m\u001b[0m\n\u001b[0m\u001b[0;32m    505\u001b[0m \u001b[1;33m\u001b[0m\u001b[0m\n\u001b[0;32m    506\u001b[0m     \u001b[1;33m@\u001b[0m\u001b[0msince\u001b[0m\u001b[1;33m(\u001b[0m\u001b[1;36m1.3\u001b[0m\u001b[1;33m)\u001b[0m\u001b[1;33m\u001b[0m\u001b[1;33m\u001b[0m\u001b[0m\n",
      "\u001b[1;32mC:\\spark\\spark-2.3.3-bin-hadoop2.7\\python\\pyspark\\sql\\dataframe.py\u001b[0m in \u001b[0;36mcollect\u001b[1;34m(self)\u001b[0m\n\u001b[0;32m    464\u001b[0m         \"\"\"\n\u001b[0;32m    465\u001b[0m         \u001b[1;32mwith\u001b[0m \u001b[0mSCCallSiteSync\u001b[0m\u001b[1;33m(\u001b[0m\u001b[0mself\u001b[0m\u001b[1;33m.\u001b[0m\u001b[0m_sc\u001b[0m\u001b[1;33m)\u001b[0m \u001b[1;32mas\u001b[0m \u001b[0mcss\u001b[0m\u001b[1;33m:\u001b[0m\u001b[1;33m\u001b[0m\u001b[1;33m\u001b[0m\u001b[0m\n\u001b[1;32m--> 466\u001b[1;33m             \u001b[0msock_info\u001b[0m \u001b[1;33m=\u001b[0m \u001b[0mself\u001b[0m\u001b[1;33m.\u001b[0m\u001b[0m_jdf\u001b[0m\u001b[1;33m.\u001b[0m\u001b[0mcollectToPython\u001b[0m\u001b[1;33m(\u001b[0m\u001b[1;33m)\u001b[0m\u001b[1;33m\u001b[0m\u001b[1;33m\u001b[0m\u001b[0m\n\u001b[0m\u001b[0;32m    467\u001b[0m         \u001b[1;32mreturn\u001b[0m \u001b[0mlist\u001b[0m\u001b[1;33m(\u001b[0m\u001b[0m_load_from_socket\u001b[0m\u001b[1;33m(\u001b[0m\u001b[0msock_info\u001b[0m\u001b[1;33m,\u001b[0m \u001b[0mBatchedSerializer\u001b[0m\u001b[1;33m(\u001b[0m\u001b[0mPickleSerializer\u001b[0m\u001b[1;33m(\u001b[0m\u001b[1;33m)\u001b[0m\u001b[1;33m)\u001b[0m\u001b[1;33m)\u001b[0m\u001b[1;33m)\u001b[0m\u001b[1;33m\u001b[0m\u001b[1;33m\u001b[0m\u001b[0m\n\u001b[0;32m    468\u001b[0m \u001b[1;33m\u001b[0m\u001b[0m\n",
      "\u001b[1;32mC:\\spark\\spark-2.3.3-bin-hadoop2.7\\python\\lib\\py4j-0.10.7-src.zip\\py4j\\java_gateway.py\u001b[0m in \u001b[0;36m__call__\u001b[1;34m(self, *args)\u001b[0m\n\u001b[0;32m   1255\u001b[0m         \u001b[0manswer\u001b[0m \u001b[1;33m=\u001b[0m \u001b[0mself\u001b[0m\u001b[1;33m.\u001b[0m\u001b[0mgateway_client\u001b[0m\u001b[1;33m.\u001b[0m\u001b[0msend_command\u001b[0m\u001b[1;33m(\u001b[0m\u001b[0mcommand\u001b[0m\u001b[1;33m)\u001b[0m\u001b[1;33m\u001b[0m\u001b[1;33m\u001b[0m\u001b[0m\n\u001b[0;32m   1256\u001b[0m         return_value = get_return_value(\n\u001b[1;32m-> 1257\u001b[1;33m             answer, self.gateway_client, self.target_id, self.name)\n\u001b[0m\u001b[0;32m   1258\u001b[0m \u001b[1;33m\u001b[0m\u001b[0m\n\u001b[0;32m   1259\u001b[0m         \u001b[1;32mfor\u001b[0m \u001b[0mtemp_arg\u001b[0m \u001b[1;32min\u001b[0m \u001b[0mtemp_args\u001b[0m\u001b[1;33m:\u001b[0m\u001b[1;33m\u001b[0m\u001b[1;33m\u001b[0m\u001b[0m\n",
      "\u001b[1;32mC:\\spark\\spark-2.3.3-bin-hadoop2.7\\python\\pyspark\\sql\\utils.py\u001b[0m in \u001b[0;36mdeco\u001b[1;34m(*a, **kw)\u001b[0m\n\u001b[0;32m     61\u001b[0m     \u001b[1;32mdef\u001b[0m \u001b[0mdeco\u001b[0m\u001b[1;33m(\u001b[0m\u001b[1;33m*\u001b[0m\u001b[0ma\u001b[0m\u001b[1;33m,\u001b[0m \u001b[1;33m**\u001b[0m\u001b[0mkw\u001b[0m\u001b[1;33m)\u001b[0m\u001b[1;33m:\u001b[0m\u001b[1;33m\u001b[0m\u001b[1;33m\u001b[0m\u001b[0m\n\u001b[0;32m     62\u001b[0m         \u001b[1;32mtry\u001b[0m\u001b[1;33m:\u001b[0m\u001b[1;33m\u001b[0m\u001b[1;33m\u001b[0m\u001b[0m\n\u001b[1;32m---> 63\u001b[1;33m             \u001b[1;32mreturn\u001b[0m \u001b[0mf\u001b[0m\u001b[1;33m(\u001b[0m\u001b[1;33m*\u001b[0m\u001b[0ma\u001b[0m\u001b[1;33m,\u001b[0m \u001b[1;33m**\u001b[0m\u001b[0mkw\u001b[0m\u001b[1;33m)\u001b[0m\u001b[1;33m\u001b[0m\u001b[1;33m\u001b[0m\u001b[0m\n\u001b[0m\u001b[0;32m     64\u001b[0m         \u001b[1;32mexcept\u001b[0m \u001b[0mpy4j\u001b[0m\u001b[1;33m.\u001b[0m\u001b[0mprotocol\u001b[0m\u001b[1;33m.\u001b[0m\u001b[0mPy4JJavaError\u001b[0m \u001b[1;32mas\u001b[0m \u001b[0me\u001b[0m\u001b[1;33m:\u001b[0m\u001b[1;33m\u001b[0m\u001b[1;33m\u001b[0m\u001b[0m\n\u001b[0;32m     65\u001b[0m             \u001b[0ms\u001b[0m \u001b[1;33m=\u001b[0m \u001b[0me\u001b[0m\u001b[1;33m.\u001b[0m\u001b[0mjava_exception\u001b[0m\u001b[1;33m.\u001b[0m\u001b[0mtoString\u001b[0m\u001b[1;33m(\u001b[0m\u001b[1;33m)\u001b[0m\u001b[1;33m\u001b[0m\u001b[1;33m\u001b[0m\u001b[0m\n",
      "\u001b[1;32mC:\\spark\\spark-2.3.3-bin-hadoop2.7\\python\\lib\\py4j-0.10.7-src.zip\\py4j\\protocol.py\u001b[0m in \u001b[0;36mget_return_value\u001b[1;34m(answer, gateway_client, target_id, name)\u001b[0m\n\u001b[0;32m    326\u001b[0m                 raise Py4JJavaError(\n\u001b[0;32m    327\u001b[0m                     \u001b[1;34m\"An error occurred while calling {0}{1}{2}.\\n\"\u001b[0m\u001b[1;33m.\u001b[0m\u001b[1;33m\u001b[0m\u001b[1;33m\u001b[0m\u001b[0m\n\u001b[1;32m--> 328\u001b[1;33m                     format(target_id, \".\", name), value)\n\u001b[0m\u001b[0;32m    329\u001b[0m             \u001b[1;32melse\u001b[0m\u001b[1;33m:\u001b[0m\u001b[1;33m\u001b[0m\u001b[1;33m\u001b[0m\u001b[0m\n\u001b[0;32m    330\u001b[0m                 raise Py4JError(\n",
      "\u001b[1;31mPy4JJavaError\u001b[0m: An error occurred while calling o2376.collectToPython.\n: org.apache.spark.SparkException: Job aborted due to stage failure: Task 0 in stage 220.0 failed 1 times, most recent failure: Lost task 0.0 in stage 220.0 (TID 538, localhost, executor driver): org.apache.spark.SparkException: Failed to execute user defined function($anonfun$9: (string) => double)\r\n\tat org.apache.spark.sql.catalyst.expressions.GeneratedClass$GeneratedIteratorForCodegenStage1.processNext(Unknown Source)\r\n\tat org.apache.spark.sql.execution.BufferedRowIterator.hasNext(BufferedRowIterator.java:43)\r\n\tat org.apache.spark.sql.execution.WholeStageCodegenExec$$anonfun$10$$anon$1.hasNext(WholeStageCodegenExec.scala:619)\r\n\tat org.apache.spark.sql.execution.SparkPlan$$anonfun$2.apply(SparkPlan.scala:253)\r\n\tat org.apache.spark.sql.execution.SparkPlan$$anonfun$2.apply(SparkPlan.scala:247)\r\n\tat org.apache.spark.rdd.RDD$$anonfun$mapPartitionsInternal$1$$anonfun$apply$25.apply(RDD.scala:836)\r\n\tat org.apache.spark.rdd.RDD$$anonfun$mapPartitionsInternal$1$$anonfun$apply$25.apply(RDD.scala:836)\r\n\tat org.apache.spark.rdd.MapPartitionsRDD.compute(MapPartitionsRDD.scala:49)\r\n\tat org.apache.spark.rdd.RDD.computeOrReadCheckpoint(RDD.scala:324)\r\n\tat org.apache.spark.rdd.RDD.iterator(RDD.scala:288)\r\n\tat org.apache.spark.rdd.MapPartitionsRDD.compute(MapPartitionsRDD.scala:49)\r\n\tat org.apache.spark.rdd.RDD.computeOrReadCheckpoint(RDD.scala:324)\r\n\tat org.apache.spark.rdd.RDD.iterator(RDD.scala:288)\r\n\tat org.apache.spark.scheduler.ResultTask.runTask(ResultTask.scala:87)\r\n\tat org.apache.spark.scheduler.Task.run(Task.scala:109)\r\n\tat org.apache.spark.executor.Executor$TaskRunner.run(Executor.scala:345)\r\n\tat java.util.concurrent.ThreadPoolExecutor.runWorker(Unknown Source)\r\n\tat java.util.concurrent.ThreadPoolExecutor$Worker.run(Unknown Source)\r\n\tat java.lang.Thread.run(Unknown Source)\r\nCaused by: org.apache.spark.SparkException: Unseen label: 1.  To handle unseen labels, set Param handleInvalid to keep.\r\n\tat org.apache.spark.ml.feature.StringIndexerModel$$anonfun$9.apply(StringIndexer.scala:260)\r\n\tat org.apache.spark.ml.feature.StringIndexerModel$$anonfun$9.apply(StringIndexer.scala:246)\r\n\t... 19 more\r\n\nDriver stacktrace:\r\n\tat org.apache.spark.scheduler.DAGScheduler.org$apache$spark$scheduler$DAGScheduler$$failJobAndIndependentStages(DAGScheduler.scala:1661)\r\n\tat org.apache.spark.scheduler.DAGScheduler$$anonfun$abortStage$1.apply(DAGScheduler.scala:1649)\r\n\tat org.apache.spark.scheduler.DAGScheduler$$anonfun$abortStage$1.apply(DAGScheduler.scala:1648)\r\n\tat scala.collection.mutable.ResizableArray$class.foreach(ResizableArray.scala:59)\r\n\tat scala.collection.mutable.ArrayBuffer.foreach(ArrayBuffer.scala:48)\r\n\tat org.apache.spark.scheduler.DAGScheduler.abortStage(DAGScheduler.scala:1648)\r\n\tat org.apache.spark.scheduler.DAGScheduler$$anonfun$handleTaskSetFailed$1.apply(DAGScheduler.scala:831)\r\n\tat org.apache.spark.scheduler.DAGScheduler$$anonfun$handleTaskSetFailed$1.apply(DAGScheduler.scala:831)\r\n\tat scala.Option.foreach(Option.scala:257)\r\n\tat org.apache.spark.scheduler.DAGScheduler.handleTaskSetFailed(DAGScheduler.scala:831)\r\n\tat org.apache.spark.scheduler.DAGSchedulerEventProcessLoop.doOnReceive(DAGScheduler.scala:1882)\r\n\tat org.apache.spark.scheduler.DAGSchedulerEventProcessLoop.onReceive(DAGScheduler.scala:1831)\r\n\tat org.apache.spark.scheduler.DAGSchedulerEventProcessLoop.onReceive(DAGScheduler.scala:1820)\r\n\tat org.apache.spark.util.EventLoop$$anon$1.run(EventLoop.scala:48)\r\n\tat org.apache.spark.scheduler.DAGScheduler.runJob(DAGScheduler.scala:642)\r\n\tat org.apache.spark.SparkContext.runJob(SparkContext.scala:2034)\r\n\tat org.apache.spark.SparkContext.runJob(SparkContext.scala:2055)\r\n\tat org.apache.spark.SparkContext.runJob(SparkContext.scala:2074)\r\n\tat org.apache.spark.sql.execution.SparkPlan.executeTake(SparkPlan.scala:363)\r\n\tat org.apache.spark.sql.execution.CollectLimitExec.executeCollect(limit.scala:38)\r\n\tat org.apache.spark.sql.Dataset$$anonfun$collectToPython$1.apply(Dataset.scala:3200)\r\n\tat org.apache.spark.sql.Dataset$$anonfun$collectToPython$1.apply(Dataset.scala:3197)\r\n\tat org.apache.spark.sql.Dataset$$anonfun$52.apply(Dataset.scala:3259)\r\n\tat org.apache.spark.sql.execution.SQLExecution$.withNewExecutionId(SQLExecution.scala:77)\r\n\tat org.apache.spark.sql.Dataset.withAction(Dataset.scala:3258)\r\n\tat org.apache.spark.sql.Dataset.collectToPython(Dataset.scala:3197)\r\n\tat sun.reflect.NativeMethodAccessorImpl.invoke0(Native Method)\r\n\tat sun.reflect.NativeMethodAccessorImpl.invoke(Unknown Source)\r\n\tat sun.reflect.DelegatingMethodAccessorImpl.invoke(Unknown Source)\r\n\tat java.lang.reflect.Method.invoke(Unknown Source)\r\n\tat py4j.reflection.MethodInvoker.invoke(MethodInvoker.java:244)\r\n\tat py4j.reflection.ReflectionEngine.invoke(ReflectionEngine.java:357)\r\n\tat py4j.Gateway.invoke(Gateway.java:282)\r\n\tat py4j.commands.AbstractCommand.invokeMethod(AbstractCommand.java:132)\r\n\tat py4j.commands.CallCommand.execute(CallCommand.java:79)\r\n\tat py4j.GatewayConnection.run(GatewayConnection.java:238)\r\n\tat java.lang.Thread.run(Unknown Source)\r\nCaused by: org.apache.spark.SparkException: Failed to execute user defined function($anonfun$9: (string) => double)\r\n\tat org.apache.spark.sql.catalyst.expressions.GeneratedClass$GeneratedIteratorForCodegenStage1.processNext(Unknown Source)\r\n\tat org.apache.spark.sql.execution.BufferedRowIterator.hasNext(BufferedRowIterator.java:43)\r\n\tat org.apache.spark.sql.execution.WholeStageCodegenExec$$anonfun$10$$anon$1.hasNext(WholeStageCodegenExec.scala:619)\r\n\tat org.apache.spark.sql.execution.SparkPlan$$anonfun$2.apply(SparkPlan.scala:253)\r\n\tat org.apache.spark.sql.execution.SparkPlan$$anonfun$2.apply(SparkPlan.scala:247)\r\n\tat org.apache.spark.rdd.RDD$$anonfun$mapPartitionsInternal$1$$anonfun$apply$25.apply(RDD.scala:836)\r\n\tat org.apache.spark.rdd.RDD$$anonfun$mapPartitionsInternal$1$$anonfun$apply$25.apply(RDD.scala:836)\r\n\tat org.apache.spark.rdd.MapPartitionsRDD.compute(MapPartitionsRDD.scala:49)\r\n\tat org.apache.spark.rdd.RDD.computeOrReadCheckpoint(RDD.scala:324)\r\n\tat org.apache.spark.rdd.RDD.iterator(RDD.scala:288)\r\n\tat org.apache.spark.rdd.MapPartitionsRDD.compute(MapPartitionsRDD.scala:49)\r\n\tat org.apache.spark.rdd.RDD.computeOrReadCheckpoint(RDD.scala:324)\r\n\tat org.apache.spark.rdd.RDD.iterator(RDD.scala:288)\r\n\tat org.apache.spark.scheduler.ResultTask.runTask(ResultTask.scala:87)\r\n\tat org.apache.spark.scheduler.Task.run(Task.scala:109)\r\n\tat org.apache.spark.executor.Executor$TaskRunner.run(Executor.scala:345)\r\n\tat java.util.concurrent.ThreadPoolExecutor.runWorker(Unknown Source)\r\n\tat java.util.concurrent.ThreadPoolExecutor$Worker.run(Unknown Source)\r\n\t... 1 more\r\nCaused by: org.apache.spark.SparkException: Unseen label: 1.  To handle unseen labels, set Param handleInvalid to keep.\r\n\tat org.apache.spark.ml.feature.StringIndexerModel$$anonfun$9.apply(StringIndexer.scala:260)\r\n\tat org.apache.spark.ml.feature.StringIndexerModel$$anonfun$9.apply(StringIndexer.scala:246)\r\n\t... 19 more\r\n"
     ]
    }
   ],
   "source": [
    "test.take(1)"
   ]
  },
  {
   "cell_type": "code",
   "execution_count": 72,
   "metadata": {},
   "outputs": [
    {
     "data": {
      "text/plain": [
       "DataFrame[id: int, date_time: timestamp, site_name: int, posa_continent: int, user_location_country: int, user_location_region: int, user_location_city: int, orig_destination_distance: double, user_id: int, is_mobile: int, is_package: int, channel: int, srch_ci: string, srch_co: timestamp, srch_adults_cnt: int, srch_children_cnt: int, srch_rm_cnt: int, srch_destination_id: int, srch_destination_type_id: int, hotel_continent: int, hotel_country: int, hotel_market: int, hotel_cluster: int, hotel_clusterINDEX: double, hotel_clusterVEC: vector, features: vector, rawPrediction: vector, probability: vector, prediction: double]"
      ]
     },
     "execution_count": 72,
     "metadata": {},
     "output_type": "execute_result"
    }
   ],
   "source": [
    "test.dropna()"
   ]
  },
  {
   "cell_type": "code",
   "execution_count": 70,
   "metadata": {},
   "outputs": [],
   "source": [
    "testdn=test.dropna()"
   ]
  },
  {
   "cell_type": "code",
   "execution_count": 74,
   "metadata": {},
   "outputs": [
    {
     "ename": "Py4JJavaError",
     "evalue": "An error occurred while calling o1674.showString.\n: org.apache.spark.SparkException: Job aborted due to stage failure: Task 0 in stage 159.0 failed 1 times, most recent failure: Lost task 0.0 in stage 159.0 (TID 374, localhost, executor driver): org.apache.spark.SparkException: Failed to execute user defined function($anonfun$3: (struct<site_name_double_VectorAssembler_4266878a9aea17020e19:double,posa_continent_double_VectorAssembler_4266878a9aea17020e19:double,user_location_country_double_VectorAssembler_4266878a9aea17020e19:double,user_location_region_double_VectorAssembler_4266878a9aea17020e19:double,user_location_city_double_VectorAssembler_4266878a9aea17020e19:double,orig_destination_distance:double,user_id_double_VectorAssembler_4266878a9aea17020e19:double,is_mobile_double_VectorAssembler_4266878a9aea17020e19:double,is_package_double_VectorAssembler_4266878a9aea17020e19:double,channel_double_VectorAssembler_4266878a9aea17020e19:double,srch_adults_cnt_double_VectorAssembler_4266878a9aea17020e19:double,srch_children_cnt_double_VectorAssembler_4266878a9aea17020e19:double,srch_rm_cnt_double_VectorAssembler_4266878a9aea17020e19:double,srch_destination_id_double_VectorAssembler_4266878a9aea17020e19:double,srch_destination_type_id_double_VectorAssembler_4266878a9aea17020e19:double,hotel_continent_double_VectorAssembler_4266878a9aea17020e19:double,hotel_country_double_VectorAssembler_4266878a9aea17020e19:double,hotel_cluster_double_VectorAssembler_4266878a9aea17020e19:double,hotel_market_double_VectorAssembler_4266878a9aea17020e19:double,hotel_clusterVEC:vector>) => vector)\r\n\tat org.apache.spark.sql.catalyst.expressions.GeneratedClass$GeneratedIteratorForCodegenStage1.processNext(Unknown Source)\r\n\tat org.apache.spark.sql.execution.BufferedRowIterator.hasNext(BufferedRowIterator.java:43)\r\n\tat org.apache.spark.sql.execution.WholeStageCodegenExec$$anonfun$10$$anon$1.hasNext(WholeStageCodegenExec.scala:619)\r\n\tat org.apache.spark.sql.execution.SparkPlan$$anonfun$2.apply(SparkPlan.scala:253)\r\n\tat org.apache.spark.sql.execution.SparkPlan$$anonfun$2.apply(SparkPlan.scala:247)\r\n\tat org.apache.spark.rdd.RDD$$anonfun$mapPartitionsInternal$1$$anonfun$apply$25.apply(RDD.scala:836)\r\n\tat org.apache.spark.rdd.RDD$$anonfun$mapPartitionsInternal$1$$anonfun$apply$25.apply(RDD.scala:836)\r\n\tat org.apache.spark.rdd.MapPartitionsRDD.compute(MapPartitionsRDD.scala:49)\r\n\tat org.apache.spark.rdd.RDD.computeOrReadCheckpoint(RDD.scala:324)\r\n\tat org.apache.spark.rdd.RDD.iterator(RDD.scala:288)\r\n\tat org.apache.spark.rdd.MapPartitionsRDD.compute(MapPartitionsRDD.scala:49)\r\n\tat org.apache.spark.rdd.RDD.computeOrReadCheckpoint(RDD.scala:324)\r\n\tat org.apache.spark.rdd.RDD.iterator(RDD.scala:288)\r\n\tat org.apache.spark.scheduler.ResultTask.runTask(ResultTask.scala:87)\r\n\tat org.apache.spark.scheduler.Task.run(Task.scala:109)\r\n\tat org.apache.spark.executor.Executor$TaskRunner.run(Executor.scala:345)\r\n\tat java.util.concurrent.ThreadPoolExecutor.runWorker(Unknown Source)\r\n\tat java.util.concurrent.ThreadPoolExecutor$Worker.run(Unknown Source)\r\n\tat java.lang.Thread.run(Unknown Source)\r\nCaused by: org.apache.spark.SparkException: Values to assemble cannot be null.\r\n\tat org.apache.spark.ml.feature.VectorAssembler$$anonfun$assemble$1.apply(VectorAssembler.scala:163)\r\n\tat org.apache.spark.ml.feature.VectorAssembler$$anonfun$assemble$1.apply(VectorAssembler.scala:146)\r\n\tat scala.collection.IndexedSeqOptimized$class.foreach(IndexedSeqOptimized.scala:33)\r\n\tat scala.collection.mutable.WrappedArray.foreach(WrappedArray.scala:35)\r\n\tat org.apache.spark.ml.feature.VectorAssembler$.assemble(VectorAssembler.scala:146)\r\n\tat org.apache.spark.ml.feature.VectorAssembler$$anonfun$3.apply(VectorAssembler.scala:99)\r\n\tat org.apache.spark.ml.feature.VectorAssembler$$anonfun$3.apply(VectorAssembler.scala:98)\r\n\t... 19 more\r\n\nDriver stacktrace:\r\n\tat org.apache.spark.scheduler.DAGScheduler.org$apache$spark$scheduler$DAGScheduler$$failJobAndIndependentStages(DAGScheduler.scala:1661)\r\n\tat org.apache.spark.scheduler.DAGScheduler$$anonfun$abortStage$1.apply(DAGScheduler.scala:1649)\r\n\tat org.apache.spark.scheduler.DAGScheduler$$anonfun$abortStage$1.apply(DAGScheduler.scala:1648)\r\n\tat scala.collection.mutable.ResizableArray$class.foreach(ResizableArray.scala:59)\r\n\tat scala.collection.mutable.ArrayBuffer.foreach(ArrayBuffer.scala:48)\r\n\tat org.apache.spark.scheduler.DAGScheduler.abortStage(DAGScheduler.scala:1648)\r\n\tat org.apache.spark.scheduler.DAGScheduler$$anonfun$handleTaskSetFailed$1.apply(DAGScheduler.scala:831)\r\n\tat org.apache.spark.scheduler.DAGScheduler$$anonfun$handleTaskSetFailed$1.apply(DAGScheduler.scala:831)\r\n\tat scala.Option.foreach(Option.scala:257)\r\n\tat org.apache.spark.scheduler.DAGScheduler.handleTaskSetFailed(DAGScheduler.scala:831)\r\n\tat org.apache.spark.scheduler.DAGSchedulerEventProcessLoop.doOnReceive(DAGScheduler.scala:1882)\r\n\tat org.apache.spark.scheduler.DAGSchedulerEventProcessLoop.onReceive(DAGScheduler.scala:1831)\r\n\tat org.apache.spark.scheduler.DAGSchedulerEventProcessLoop.onReceive(DAGScheduler.scala:1820)\r\n\tat org.apache.spark.util.EventLoop$$anon$1.run(EventLoop.scala:48)\r\n\tat org.apache.spark.scheduler.DAGScheduler.runJob(DAGScheduler.scala:642)\r\n\tat org.apache.spark.SparkContext.runJob(SparkContext.scala:2034)\r\n\tat org.apache.spark.SparkContext.runJob(SparkContext.scala:2055)\r\n\tat org.apache.spark.SparkContext.runJob(SparkContext.scala:2074)\r\n\tat org.apache.spark.sql.execution.SparkPlan.executeTake(SparkPlan.scala:363)\r\n\tat org.apache.spark.sql.execution.CollectLimitExec.executeCollect(limit.scala:38)\r\n\tat org.apache.spark.sql.Dataset.org$apache$spark$sql$Dataset$$collectFromPlan(Dataset.scala:3278)\r\n\tat org.apache.spark.sql.Dataset$$anonfun$head$1.apply(Dataset.scala:2489)\r\n\tat org.apache.spark.sql.Dataset$$anonfun$head$1.apply(Dataset.scala:2489)\r\n\tat org.apache.spark.sql.Dataset$$anonfun$52.apply(Dataset.scala:3259)\r\n\tat org.apache.spark.sql.execution.SQLExecution$.withNewExecutionId(SQLExecution.scala:77)\r\n\tat org.apache.spark.sql.Dataset.withAction(Dataset.scala:3258)\r\n\tat org.apache.spark.sql.Dataset.head(Dataset.scala:2489)\r\n\tat org.apache.spark.sql.Dataset.take(Dataset.scala:2703)\r\n\tat org.apache.spark.sql.Dataset.showString(Dataset.scala:254)\r\n\tat sun.reflect.NativeMethodAccessorImpl.invoke0(Native Method)\r\n\tat sun.reflect.NativeMethodAccessorImpl.invoke(Unknown Source)\r\n\tat sun.reflect.DelegatingMethodAccessorImpl.invoke(Unknown Source)\r\n\tat java.lang.reflect.Method.invoke(Unknown Source)\r\n\tat py4j.reflection.MethodInvoker.invoke(MethodInvoker.java:244)\r\n\tat py4j.reflection.ReflectionEngine.invoke(ReflectionEngine.java:357)\r\n\tat py4j.Gateway.invoke(Gateway.java:282)\r\n\tat py4j.commands.AbstractCommand.invokeMethod(AbstractCommand.java:132)\r\n\tat py4j.commands.CallCommand.execute(CallCommand.java:79)\r\n\tat py4j.GatewayConnection.run(GatewayConnection.java:238)\r\n\tat java.lang.Thread.run(Unknown Source)\r\nCaused by: org.apache.spark.SparkException: Failed to execute user defined function($anonfun$3: (struct<site_name_double_VectorAssembler_4266878a9aea17020e19:double,posa_continent_double_VectorAssembler_4266878a9aea17020e19:double,user_location_country_double_VectorAssembler_4266878a9aea17020e19:double,user_location_region_double_VectorAssembler_4266878a9aea17020e19:double,user_location_city_double_VectorAssembler_4266878a9aea17020e19:double,orig_destination_distance:double,user_id_double_VectorAssembler_4266878a9aea17020e19:double,is_mobile_double_VectorAssembler_4266878a9aea17020e19:double,is_package_double_VectorAssembler_4266878a9aea17020e19:double,channel_double_VectorAssembler_4266878a9aea17020e19:double,srch_adults_cnt_double_VectorAssembler_4266878a9aea17020e19:double,srch_children_cnt_double_VectorAssembler_4266878a9aea17020e19:double,srch_rm_cnt_double_VectorAssembler_4266878a9aea17020e19:double,srch_destination_id_double_VectorAssembler_4266878a9aea17020e19:double,srch_destination_type_id_double_VectorAssembler_4266878a9aea17020e19:double,hotel_continent_double_VectorAssembler_4266878a9aea17020e19:double,hotel_country_double_VectorAssembler_4266878a9aea17020e19:double,hotel_cluster_double_VectorAssembler_4266878a9aea17020e19:double,hotel_market_double_VectorAssembler_4266878a9aea17020e19:double,hotel_clusterVEC:vector>) => vector)\r\n\tat org.apache.spark.sql.catalyst.expressions.GeneratedClass$GeneratedIteratorForCodegenStage1.processNext(Unknown Source)\r\n\tat org.apache.spark.sql.execution.BufferedRowIterator.hasNext(BufferedRowIterator.java:43)\r\n\tat org.apache.spark.sql.execution.WholeStageCodegenExec$$anonfun$10$$anon$1.hasNext(WholeStageCodegenExec.scala:619)\r\n\tat org.apache.spark.sql.execution.SparkPlan$$anonfun$2.apply(SparkPlan.scala:253)\r\n\tat org.apache.spark.sql.execution.SparkPlan$$anonfun$2.apply(SparkPlan.scala:247)\r\n\tat org.apache.spark.rdd.RDD$$anonfun$mapPartitionsInternal$1$$anonfun$apply$25.apply(RDD.scala:836)\r\n\tat org.apache.spark.rdd.RDD$$anonfun$mapPartitionsInternal$1$$anonfun$apply$25.apply(RDD.scala:836)\r\n\tat org.apache.spark.rdd.MapPartitionsRDD.compute(MapPartitionsRDD.scala:49)\r\n\tat org.apache.spark.rdd.RDD.computeOrReadCheckpoint(RDD.scala:324)\r\n\tat org.apache.spark.rdd.RDD.iterator(RDD.scala:288)\r\n\tat org.apache.spark.rdd.MapPartitionsRDD.compute(MapPartitionsRDD.scala:49)\r\n\tat org.apache.spark.rdd.RDD.computeOrReadCheckpoint(RDD.scala:324)\r\n\tat org.apache.spark.rdd.RDD.iterator(RDD.scala:288)\r\n\tat org.apache.spark.scheduler.ResultTask.runTask(ResultTask.scala:87)\r\n\tat org.apache.spark.scheduler.Task.run(Task.scala:109)\r\n\tat org.apache.spark.executor.Executor$TaskRunner.run(Executor.scala:345)\r\n\tat java.util.concurrent.ThreadPoolExecutor.runWorker(Unknown Source)\r\n\tat java.util.concurrent.ThreadPoolExecutor$Worker.run(Unknown Source)\r\n\t... 1 more\r\nCaused by: org.apache.spark.SparkException: Values to assemble cannot be null.\r\n\tat org.apache.spark.ml.feature.VectorAssembler$$anonfun$assemble$1.apply(VectorAssembler.scala:163)\r\n\tat org.apache.spark.ml.feature.VectorAssembler$$anonfun$assemble$1.apply(VectorAssembler.scala:146)\r\n\tat scala.collection.IndexedSeqOptimized$class.foreach(IndexedSeqOptimized.scala:33)\r\n\tat scala.collection.mutable.WrappedArray.foreach(WrappedArray.scala:35)\r\n\tat org.apache.spark.ml.feature.VectorAssembler$.assemble(VectorAssembler.scala:146)\r\n\tat org.apache.spark.ml.feature.VectorAssembler$$anonfun$3.apply(VectorAssembler.scala:99)\r\n\tat org.apache.spark.ml.feature.VectorAssembler$$anonfun$3.apply(VectorAssembler.scala:98)\r\n\t... 19 more\r\n",
     "output_type": "error",
     "traceback": [
      "\u001b[1;31m---------------------------------------------------------------------------\u001b[0m",
      "\u001b[1;31mPy4JJavaError\u001b[0m                             Traceback (most recent call last)",
      "\u001b[1;32m<ipython-input-74-fadbf34bd9b2>\u001b[0m in \u001b[0;36m<module>\u001b[1;34m\u001b[0m\n\u001b[1;32m----> 1\u001b[1;33m \u001b[0mtest\u001b[0m\u001b[1;33m.\u001b[0m\u001b[0mselect\u001b[0m\u001b[1;33m(\u001b[0m\u001b[1;34m\"features\"\u001b[0m\u001b[1;33m)\u001b[0m\u001b[1;33m.\u001b[0m\u001b[0mshow\u001b[0m\u001b[1;33m(\u001b[0m\u001b[1;33m)\u001b[0m\u001b[1;33m\u001b[0m\u001b[1;33m\u001b[0m\u001b[0m\n\u001b[0m",
      "\u001b[1;32mC:\\spark\\spark-2.3.3-bin-hadoop2.7\\python\\pyspark\\sql\\dataframe.py\u001b[0m in \u001b[0;36mshow\u001b[1;34m(self, n, truncate, vertical)\u001b[0m\n\u001b[0;32m    348\u001b[0m         \"\"\"\n\u001b[0;32m    349\u001b[0m         \u001b[1;32mif\u001b[0m \u001b[0misinstance\u001b[0m\u001b[1;33m(\u001b[0m\u001b[0mtruncate\u001b[0m\u001b[1;33m,\u001b[0m \u001b[0mbool\u001b[0m\u001b[1;33m)\u001b[0m \u001b[1;32mand\u001b[0m \u001b[0mtruncate\u001b[0m\u001b[1;33m:\u001b[0m\u001b[1;33m\u001b[0m\u001b[1;33m\u001b[0m\u001b[0m\n\u001b[1;32m--> 350\u001b[1;33m             \u001b[0mprint\u001b[0m\u001b[1;33m(\u001b[0m\u001b[0mself\u001b[0m\u001b[1;33m.\u001b[0m\u001b[0m_jdf\u001b[0m\u001b[1;33m.\u001b[0m\u001b[0mshowString\u001b[0m\u001b[1;33m(\u001b[0m\u001b[0mn\u001b[0m\u001b[1;33m,\u001b[0m \u001b[1;36m20\u001b[0m\u001b[1;33m,\u001b[0m \u001b[0mvertical\u001b[0m\u001b[1;33m)\u001b[0m\u001b[1;33m)\u001b[0m\u001b[1;33m\u001b[0m\u001b[1;33m\u001b[0m\u001b[0m\n\u001b[0m\u001b[0;32m    351\u001b[0m         \u001b[1;32melse\u001b[0m\u001b[1;33m:\u001b[0m\u001b[1;33m\u001b[0m\u001b[1;33m\u001b[0m\u001b[0m\n\u001b[0;32m    352\u001b[0m             \u001b[0mprint\u001b[0m\u001b[1;33m(\u001b[0m\u001b[0mself\u001b[0m\u001b[1;33m.\u001b[0m\u001b[0m_jdf\u001b[0m\u001b[1;33m.\u001b[0m\u001b[0mshowString\u001b[0m\u001b[1;33m(\u001b[0m\u001b[0mn\u001b[0m\u001b[1;33m,\u001b[0m \u001b[0mint\u001b[0m\u001b[1;33m(\u001b[0m\u001b[0mtruncate\u001b[0m\u001b[1;33m)\u001b[0m\u001b[1;33m,\u001b[0m \u001b[0mvertical\u001b[0m\u001b[1;33m)\u001b[0m\u001b[1;33m)\u001b[0m\u001b[1;33m\u001b[0m\u001b[1;33m\u001b[0m\u001b[0m\n",
      "\u001b[1;32mC:\\spark\\spark-2.3.3-bin-hadoop2.7\\python\\lib\\py4j-0.10.7-src.zip\\py4j\\java_gateway.py\u001b[0m in \u001b[0;36m__call__\u001b[1;34m(self, *args)\u001b[0m\n\u001b[0;32m   1255\u001b[0m         \u001b[0manswer\u001b[0m \u001b[1;33m=\u001b[0m \u001b[0mself\u001b[0m\u001b[1;33m.\u001b[0m\u001b[0mgateway_client\u001b[0m\u001b[1;33m.\u001b[0m\u001b[0msend_command\u001b[0m\u001b[1;33m(\u001b[0m\u001b[0mcommand\u001b[0m\u001b[1;33m)\u001b[0m\u001b[1;33m\u001b[0m\u001b[1;33m\u001b[0m\u001b[0m\n\u001b[0;32m   1256\u001b[0m         return_value = get_return_value(\n\u001b[1;32m-> 1257\u001b[1;33m             answer, self.gateway_client, self.target_id, self.name)\n\u001b[0m\u001b[0;32m   1258\u001b[0m \u001b[1;33m\u001b[0m\u001b[0m\n\u001b[0;32m   1259\u001b[0m         \u001b[1;32mfor\u001b[0m \u001b[0mtemp_arg\u001b[0m \u001b[1;32min\u001b[0m \u001b[0mtemp_args\u001b[0m\u001b[1;33m:\u001b[0m\u001b[1;33m\u001b[0m\u001b[1;33m\u001b[0m\u001b[0m\n",
      "\u001b[1;32mC:\\spark\\spark-2.3.3-bin-hadoop2.7\\python\\pyspark\\sql\\utils.py\u001b[0m in \u001b[0;36mdeco\u001b[1;34m(*a, **kw)\u001b[0m\n\u001b[0;32m     61\u001b[0m     \u001b[1;32mdef\u001b[0m \u001b[0mdeco\u001b[0m\u001b[1;33m(\u001b[0m\u001b[1;33m*\u001b[0m\u001b[0ma\u001b[0m\u001b[1;33m,\u001b[0m \u001b[1;33m**\u001b[0m\u001b[0mkw\u001b[0m\u001b[1;33m)\u001b[0m\u001b[1;33m:\u001b[0m\u001b[1;33m\u001b[0m\u001b[1;33m\u001b[0m\u001b[0m\n\u001b[0;32m     62\u001b[0m         \u001b[1;32mtry\u001b[0m\u001b[1;33m:\u001b[0m\u001b[1;33m\u001b[0m\u001b[1;33m\u001b[0m\u001b[0m\n\u001b[1;32m---> 63\u001b[1;33m             \u001b[1;32mreturn\u001b[0m \u001b[0mf\u001b[0m\u001b[1;33m(\u001b[0m\u001b[1;33m*\u001b[0m\u001b[0ma\u001b[0m\u001b[1;33m,\u001b[0m \u001b[1;33m**\u001b[0m\u001b[0mkw\u001b[0m\u001b[1;33m)\u001b[0m\u001b[1;33m\u001b[0m\u001b[1;33m\u001b[0m\u001b[0m\n\u001b[0m\u001b[0;32m     64\u001b[0m         \u001b[1;32mexcept\u001b[0m \u001b[0mpy4j\u001b[0m\u001b[1;33m.\u001b[0m\u001b[0mprotocol\u001b[0m\u001b[1;33m.\u001b[0m\u001b[0mPy4JJavaError\u001b[0m \u001b[1;32mas\u001b[0m \u001b[0me\u001b[0m\u001b[1;33m:\u001b[0m\u001b[1;33m\u001b[0m\u001b[1;33m\u001b[0m\u001b[0m\n\u001b[0;32m     65\u001b[0m             \u001b[0ms\u001b[0m \u001b[1;33m=\u001b[0m \u001b[0me\u001b[0m\u001b[1;33m.\u001b[0m\u001b[0mjava_exception\u001b[0m\u001b[1;33m.\u001b[0m\u001b[0mtoString\u001b[0m\u001b[1;33m(\u001b[0m\u001b[1;33m)\u001b[0m\u001b[1;33m\u001b[0m\u001b[1;33m\u001b[0m\u001b[0m\n",
      "\u001b[1;32mC:\\spark\\spark-2.3.3-bin-hadoop2.7\\python\\lib\\py4j-0.10.7-src.zip\\py4j\\protocol.py\u001b[0m in \u001b[0;36mget_return_value\u001b[1;34m(answer, gateway_client, target_id, name)\u001b[0m\n\u001b[0;32m    326\u001b[0m                 raise Py4JJavaError(\n\u001b[0;32m    327\u001b[0m                     \u001b[1;34m\"An error occurred while calling {0}{1}{2}.\\n\"\u001b[0m\u001b[1;33m.\u001b[0m\u001b[1;33m\u001b[0m\u001b[1;33m\u001b[0m\u001b[0m\n\u001b[1;32m--> 328\u001b[1;33m                     format(target_id, \".\", name), value)\n\u001b[0m\u001b[0;32m    329\u001b[0m             \u001b[1;32melse\u001b[0m\u001b[1;33m:\u001b[0m\u001b[1;33m\u001b[0m\u001b[1;33m\u001b[0m\u001b[0m\n\u001b[0;32m    330\u001b[0m                 raise Py4JError(\n",
      "\u001b[1;31mPy4JJavaError\u001b[0m: An error occurred while calling o1674.showString.\n: org.apache.spark.SparkException: Job aborted due to stage failure: Task 0 in stage 159.0 failed 1 times, most recent failure: Lost task 0.0 in stage 159.0 (TID 374, localhost, executor driver): org.apache.spark.SparkException: Failed to execute user defined function($anonfun$3: (struct<site_name_double_VectorAssembler_4266878a9aea17020e19:double,posa_continent_double_VectorAssembler_4266878a9aea17020e19:double,user_location_country_double_VectorAssembler_4266878a9aea17020e19:double,user_location_region_double_VectorAssembler_4266878a9aea17020e19:double,user_location_city_double_VectorAssembler_4266878a9aea17020e19:double,orig_destination_distance:double,user_id_double_VectorAssembler_4266878a9aea17020e19:double,is_mobile_double_VectorAssembler_4266878a9aea17020e19:double,is_package_double_VectorAssembler_4266878a9aea17020e19:double,channel_double_VectorAssembler_4266878a9aea17020e19:double,srch_adults_cnt_double_VectorAssembler_4266878a9aea17020e19:double,srch_children_cnt_double_VectorAssembler_4266878a9aea17020e19:double,srch_rm_cnt_double_VectorAssembler_4266878a9aea17020e19:double,srch_destination_id_double_VectorAssembler_4266878a9aea17020e19:double,srch_destination_type_id_double_VectorAssembler_4266878a9aea17020e19:double,hotel_continent_double_VectorAssembler_4266878a9aea17020e19:double,hotel_country_double_VectorAssembler_4266878a9aea17020e19:double,hotel_cluster_double_VectorAssembler_4266878a9aea17020e19:double,hotel_market_double_VectorAssembler_4266878a9aea17020e19:double,hotel_clusterVEC:vector>) => vector)\r\n\tat org.apache.spark.sql.catalyst.expressions.GeneratedClass$GeneratedIteratorForCodegenStage1.processNext(Unknown Source)\r\n\tat org.apache.spark.sql.execution.BufferedRowIterator.hasNext(BufferedRowIterator.java:43)\r\n\tat org.apache.spark.sql.execution.WholeStageCodegenExec$$anonfun$10$$anon$1.hasNext(WholeStageCodegenExec.scala:619)\r\n\tat org.apache.spark.sql.execution.SparkPlan$$anonfun$2.apply(SparkPlan.scala:253)\r\n\tat org.apache.spark.sql.execution.SparkPlan$$anonfun$2.apply(SparkPlan.scala:247)\r\n\tat org.apache.spark.rdd.RDD$$anonfun$mapPartitionsInternal$1$$anonfun$apply$25.apply(RDD.scala:836)\r\n\tat org.apache.spark.rdd.RDD$$anonfun$mapPartitionsInternal$1$$anonfun$apply$25.apply(RDD.scala:836)\r\n\tat org.apache.spark.rdd.MapPartitionsRDD.compute(MapPartitionsRDD.scala:49)\r\n\tat org.apache.spark.rdd.RDD.computeOrReadCheckpoint(RDD.scala:324)\r\n\tat org.apache.spark.rdd.RDD.iterator(RDD.scala:288)\r\n\tat org.apache.spark.rdd.MapPartitionsRDD.compute(MapPartitionsRDD.scala:49)\r\n\tat org.apache.spark.rdd.RDD.computeOrReadCheckpoint(RDD.scala:324)\r\n\tat org.apache.spark.rdd.RDD.iterator(RDD.scala:288)\r\n\tat org.apache.spark.scheduler.ResultTask.runTask(ResultTask.scala:87)\r\n\tat org.apache.spark.scheduler.Task.run(Task.scala:109)\r\n\tat org.apache.spark.executor.Executor$TaskRunner.run(Executor.scala:345)\r\n\tat java.util.concurrent.ThreadPoolExecutor.runWorker(Unknown Source)\r\n\tat java.util.concurrent.ThreadPoolExecutor$Worker.run(Unknown Source)\r\n\tat java.lang.Thread.run(Unknown Source)\r\nCaused by: org.apache.spark.SparkException: Values to assemble cannot be null.\r\n\tat org.apache.spark.ml.feature.VectorAssembler$$anonfun$assemble$1.apply(VectorAssembler.scala:163)\r\n\tat org.apache.spark.ml.feature.VectorAssembler$$anonfun$assemble$1.apply(VectorAssembler.scala:146)\r\n\tat scala.collection.IndexedSeqOptimized$class.foreach(IndexedSeqOptimized.scala:33)\r\n\tat scala.collection.mutable.WrappedArray.foreach(WrappedArray.scala:35)\r\n\tat org.apache.spark.ml.feature.VectorAssembler$.assemble(VectorAssembler.scala:146)\r\n\tat org.apache.spark.ml.feature.VectorAssembler$$anonfun$3.apply(VectorAssembler.scala:99)\r\n\tat org.apache.spark.ml.feature.VectorAssembler$$anonfun$3.apply(VectorAssembler.scala:98)\r\n\t... 19 more\r\n\nDriver stacktrace:\r\n\tat org.apache.spark.scheduler.DAGScheduler.org$apache$spark$scheduler$DAGScheduler$$failJobAndIndependentStages(DAGScheduler.scala:1661)\r\n\tat org.apache.spark.scheduler.DAGScheduler$$anonfun$abortStage$1.apply(DAGScheduler.scala:1649)\r\n\tat org.apache.spark.scheduler.DAGScheduler$$anonfun$abortStage$1.apply(DAGScheduler.scala:1648)\r\n\tat scala.collection.mutable.ResizableArray$class.foreach(ResizableArray.scala:59)\r\n\tat scala.collection.mutable.ArrayBuffer.foreach(ArrayBuffer.scala:48)\r\n\tat org.apache.spark.scheduler.DAGScheduler.abortStage(DAGScheduler.scala:1648)\r\n\tat org.apache.spark.scheduler.DAGScheduler$$anonfun$handleTaskSetFailed$1.apply(DAGScheduler.scala:831)\r\n\tat org.apache.spark.scheduler.DAGScheduler$$anonfun$handleTaskSetFailed$1.apply(DAGScheduler.scala:831)\r\n\tat scala.Option.foreach(Option.scala:257)\r\n\tat org.apache.spark.scheduler.DAGScheduler.handleTaskSetFailed(DAGScheduler.scala:831)\r\n\tat org.apache.spark.scheduler.DAGSchedulerEventProcessLoop.doOnReceive(DAGScheduler.scala:1882)\r\n\tat org.apache.spark.scheduler.DAGSchedulerEventProcessLoop.onReceive(DAGScheduler.scala:1831)\r\n\tat org.apache.spark.scheduler.DAGSchedulerEventProcessLoop.onReceive(DAGScheduler.scala:1820)\r\n\tat org.apache.spark.util.EventLoop$$anon$1.run(EventLoop.scala:48)\r\n\tat org.apache.spark.scheduler.DAGScheduler.runJob(DAGScheduler.scala:642)\r\n\tat org.apache.spark.SparkContext.runJob(SparkContext.scala:2034)\r\n\tat org.apache.spark.SparkContext.runJob(SparkContext.scala:2055)\r\n\tat org.apache.spark.SparkContext.runJob(SparkContext.scala:2074)\r\n\tat org.apache.spark.sql.execution.SparkPlan.executeTake(SparkPlan.scala:363)\r\n\tat org.apache.spark.sql.execution.CollectLimitExec.executeCollect(limit.scala:38)\r\n\tat org.apache.spark.sql.Dataset.org$apache$spark$sql$Dataset$$collectFromPlan(Dataset.scala:3278)\r\n\tat org.apache.spark.sql.Dataset$$anonfun$head$1.apply(Dataset.scala:2489)\r\n\tat org.apache.spark.sql.Dataset$$anonfun$head$1.apply(Dataset.scala:2489)\r\n\tat org.apache.spark.sql.Dataset$$anonfun$52.apply(Dataset.scala:3259)\r\n\tat org.apache.spark.sql.execution.SQLExecution$.withNewExecutionId(SQLExecution.scala:77)\r\n\tat org.apache.spark.sql.Dataset.withAction(Dataset.scala:3258)\r\n\tat org.apache.spark.sql.Dataset.head(Dataset.scala:2489)\r\n\tat org.apache.spark.sql.Dataset.take(Dataset.scala:2703)\r\n\tat org.apache.spark.sql.Dataset.showString(Dataset.scala:254)\r\n\tat sun.reflect.NativeMethodAccessorImpl.invoke0(Native Method)\r\n\tat sun.reflect.NativeMethodAccessorImpl.invoke(Unknown Source)\r\n\tat sun.reflect.DelegatingMethodAccessorImpl.invoke(Unknown Source)\r\n\tat java.lang.reflect.Method.invoke(Unknown Source)\r\n\tat py4j.reflection.MethodInvoker.invoke(MethodInvoker.java:244)\r\n\tat py4j.reflection.ReflectionEngine.invoke(ReflectionEngine.java:357)\r\n\tat py4j.Gateway.invoke(Gateway.java:282)\r\n\tat py4j.commands.AbstractCommand.invokeMethod(AbstractCommand.java:132)\r\n\tat py4j.commands.CallCommand.execute(CallCommand.java:79)\r\n\tat py4j.GatewayConnection.run(GatewayConnection.java:238)\r\n\tat java.lang.Thread.run(Unknown Source)\r\nCaused by: org.apache.spark.SparkException: Failed to execute user defined function($anonfun$3: (struct<site_name_double_VectorAssembler_4266878a9aea17020e19:double,posa_continent_double_VectorAssembler_4266878a9aea17020e19:double,user_location_country_double_VectorAssembler_4266878a9aea17020e19:double,user_location_region_double_VectorAssembler_4266878a9aea17020e19:double,user_location_city_double_VectorAssembler_4266878a9aea17020e19:double,orig_destination_distance:double,user_id_double_VectorAssembler_4266878a9aea17020e19:double,is_mobile_double_VectorAssembler_4266878a9aea17020e19:double,is_package_double_VectorAssembler_4266878a9aea17020e19:double,channel_double_VectorAssembler_4266878a9aea17020e19:double,srch_adults_cnt_double_VectorAssembler_4266878a9aea17020e19:double,srch_children_cnt_double_VectorAssembler_4266878a9aea17020e19:double,srch_rm_cnt_double_VectorAssembler_4266878a9aea17020e19:double,srch_destination_id_double_VectorAssembler_4266878a9aea17020e19:double,srch_destination_type_id_double_VectorAssembler_4266878a9aea17020e19:double,hotel_continent_double_VectorAssembler_4266878a9aea17020e19:double,hotel_country_double_VectorAssembler_4266878a9aea17020e19:double,hotel_cluster_double_VectorAssembler_4266878a9aea17020e19:double,hotel_market_double_VectorAssembler_4266878a9aea17020e19:double,hotel_clusterVEC:vector>) => vector)\r\n\tat org.apache.spark.sql.catalyst.expressions.GeneratedClass$GeneratedIteratorForCodegenStage1.processNext(Unknown Source)\r\n\tat org.apache.spark.sql.execution.BufferedRowIterator.hasNext(BufferedRowIterator.java:43)\r\n\tat org.apache.spark.sql.execution.WholeStageCodegenExec$$anonfun$10$$anon$1.hasNext(WholeStageCodegenExec.scala:619)\r\n\tat org.apache.spark.sql.execution.SparkPlan$$anonfun$2.apply(SparkPlan.scala:253)\r\n\tat org.apache.spark.sql.execution.SparkPlan$$anonfun$2.apply(SparkPlan.scala:247)\r\n\tat org.apache.spark.rdd.RDD$$anonfun$mapPartitionsInternal$1$$anonfun$apply$25.apply(RDD.scala:836)\r\n\tat org.apache.spark.rdd.RDD$$anonfun$mapPartitionsInternal$1$$anonfun$apply$25.apply(RDD.scala:836)\r\n\tat org.apache.spark.rdd.MapPartitionsRDD.compute(MapPartitionsRDD.scala:49)\r\n\tat org.apache.spark.rdd.RDD.computeOrReadCheckpoint(RDD.scala:324)\r\n\tat org.apache.spark.rdd.RDD.iterator(RDD.scala:288)\r\n\tat org.apache.spark.rdd.MapPartitionsRDD.compute(MapPartitionsRDD.scala:49)\r\n\tat org.apache.spark.rdd.RDD.computeOrReadCheckpoint(RDD.scala:324)\r\n\tat org.apache.spark.rdd.RDD.iterator(RDD.scala:288)\r\n\tat org.apache.spark.scheduler.ResultTask.runTask(ResultTask.scala:87)\r\n\tat org.apache.spark.scheduler.Task.run(Task.scala:109)\r\n\tat org.apache.spark.executor.Executor$TaskRunner.run(Executor.scala:345)\r\n\tat java.util.concurrent.ThreadPoolExecutor.runWorker(Unknown Source)\r\n\tat java.util.concurrent.ThreadPoolExecutor$Worker.run(Unknown Source)\r\n\t... 1 more\r\nCaused by: org.apache.spark.SparkException: Values to assemble cannot be null.\r\n\tat org.apache.spark.ml.feature.VectorAssembler$$anonfun$assemble$1.apply(VectorAssembler.scala:163)\r\n\tat org.apache.spark.ml.feature.VectorAssembler$$anonfun$assemble$1.apply(VectorAssembler.scala:146)\r\n\tat scala.collection.IndexedSeqOptimized$class.foreach(IndexedSeqOptimized.scala:33)\r\n\tat scala.collection.mutable.WrappedArray.foreach(WrappedArray.scala:35)\r\n\tat org.apache.spark.ml.feature.VectorAssembler$.assemble(VectorAssembler.scala:146)\r\n\tat org.apache.spark.ml.feature.VectorAssembler$$anonfun$3.apply(VectorAssembler.scala:99)\r\n\tat org.apache.spark.ml.feature.VectorAssembler$$anonfun$3.apply(VectorAssembler.scala:98)\r\n\t... 19 more\r\n"
     ]
    }
   ],
   "source": [
    "test.select(\"features\").show()"
   ]
  },
  {
   "cell_type": "code",
   "execution_count": 65,
   "metadata": {},
   "outputs": [
    {
     "name": "stdout",
     "output_type": "stream",
     "text": [
      "+---------------+\n",
      "|hotel_continent|\n",
      "+---------------+\n",
      "|              6|\n",
      "|              6|\n",
      "|              2|\n",
      "|              2|\n",
      "|              2|\n",
      "|              2|\n",
      "|              2|\n",
      "|              2|\n",
      "|              2|\n",
      "|              2|\n",
      "|              2|\n",
      "|              6|\n",
      "|              2|\n",
      "|              4|\n",
      "|              2|\n",
      "|              2|\n",
      "|              2|\n",
      "|              2|\n",
      "|              2|\n",
      "|              2|\n",
      "+---------------+\n",
      "only showing top 20 rows\n",
      "\n"
     ]
    }
   ],
   "source": [
    "test.select(\"hotel_continent\").show()"
   ]
  },
  {
   "cell_type": "code",
   "execution_count": 74,
   "metadata": {
    "scrolled": true
   },
   "outputs": [
    {
     "name": "stdout",
     "output_type": "stream",
     "text": [
      "0.8410052524073534\n",
      "0.9897177075445687\n"
     ]
    }
   ],
   "source": [
    "import pyspark.ml.evaluation as ev\n",
    "\n",
    "evaluator = ev.BinaryClassificationEvaluator(\n",
    "    rawPredictionCol='probability', \n",
    "    labelCol='discretizedINDEX')\n",
    "\n",
    "print(evaluator.evaluate(test, \n",
    "     {evaluator.metricName: 'areaUnderROC'}))\n",
    "print(evaluator.evaluate(test, {evaluator.metricName: 'areaUnderPR'}))\n"
   ]
  },
  {
   "cell_type": "code",
   "execution_count": 75,
   "metadata": {
    "scrolled": false
   },
   "outputs": [
    {
     "name": "stdout",
     "output_type": "stream",
     "text": [
      "              precision    recall  f1-score   support\n",
      "\n",
      "         0.0       1.00      1.00      1.00      4739\n",
      "         1.0       1.00      1.00      1.00      4015\n",
      "         2.0       1.00      1.00      1.00      4002\n",
      "         3.0       1.00      1.00      1.00      3884\n",
      "         4.0       1.00      1.00      1.00      3819\n",
      "         5.0       1.00      1.00      1.00      3819\n",
      "         6.0       1.00      1.00      1.00      3767\n",
      "         7.0       1.00      1.00      1.00      3780\n",
      "         8.0       1.00      1.00      1.00      3759\n",
      "         9.0       1.00      1.00      1.00      3720\n",
      "        10.0       0.55      1.00      0.71      3743\n",
      "        11.0       1.00      1.00      1.00      3608\n",
      "        12.0       1.00      1.00      1.00      3650\n",
      "        13.0       1.00      1.00      1.00      3612\n",
      "        14.0       1.00      1.00      1.00      3605\n",
      "        15.0       1.00      1.00      1.00      3591\n",
      "        16.0       1.00      1.00      1.00      3168\n",
      "        17.0       0.00      0.00      0.00      3061\n",
      "        18.0       1.00      1.00      1.00      2981\n",
      "        19.0       1.00      1.00      1.00      2956\n",
      "\n",
      "    accuracy                           0.96     73279\n",
      "   macro avg       0.93      0.95      0.94     73279\n",
      "weighted avg       0.94      0.96      0.94     73279\n",
      "\n"
     ]
    }
   ],
   "source": [
    "y_true = test.select(['discretizedINDEX']).collect()\n",
    "y_pred = test.select(['prediction']).collect()\n",
    "\n",
    "from sklearn.metrics import classification_report, confusion_matrix\n",
    "print(classification_report(y_true, y_pred))\n",
    "\n",
    "#al tener valores que no se pueden predecir salta un error y mirando en mil foros esta es la manera que he encontrado para representar el recall y la precision\n"
   ]
  },
  {
   "cell_type": "code",
   "execution_count": 76,
   "metadata": {},
   "outputs": [
    {
     "name": "stdout",
     "output_type": "stream",
     "text": [
      "Accuracy = 0.958228\n",
      "f1 = 0.943404\n",
      "weightedPrecision = 0.935249\n",
      "weightedRecall = 0.958228\n"
     ]
    }
   ],
   "source": [
    "from pyspark.ml.evaluation import MulticlassClassificationEvaluator\n",
    "\n",
    "evaluator = MulticlassClassificationEvaluator(labelCol='discretizedINDEX', predictionCol='prediction', metricName='accuracy')\n",
    "accuracy = evaluator.evaluate(test)\n",
    "print('Accuracy = %g'  % accuracy)\n",
    " \n",
    "    \n",
    "\n",
    "evaluatorf1 = MulticlassClassificationEvaluator(labelCol='discretizedINDEX', predictionCol='prediction', metricName='f1')\n",
    "f1 = evaluatorf1.evaluate(test)\n",
    "print('f1 = %g' % f1)\n",
    " \n",
    "evaluatorwp = MulticlassClassificationEvaluator(labelCol='discretizedINDEX', predictionCol='prediction', metricName='weightedPrecision')\n",
    "wp = evaluatorwp.evaluate(test)\n",
    "print('weightedPrecision = %g' % wp)\n",
    " \n",
    "evaluatorwr = MulticlassClassificationEvaluator(labelCol='discretizedINDEX', predictionCol='prediction', metricName='weightedRecall')\n",
    "wr = evaluatorwr.evaluate(test)\n",
    "print('weightedRecall = %g' % wr)"
   ]
  },
  {
   "cell_type": "code",
   "execution_count": 68,
   "metadata": {},
   "outputs": [
    {
     "ename": "Py4JJavaError",
     "evalue": "An error occurred while calling o1557.fit.\n: org.apache.spark.SparkException: Job aborted due to stage failure: Task 1 in stage 156.0 failed 1 times, most recent failure: Lost task 1.0 in stage 156.0 (TID 370, localhost, executor driver): org.apache.spark.SparkException: Failed to execute user defined function($anonfun$3: (struct<site_name_double_VectorAssembler_4266878a9aea17020e19:double,posa_continent_double_VectorAssembler_4266878a9aea17020e19:double,user_location_country_double_VectorAssembler_4266878a9aea17020e19:double,user_location_region_double_VectorAssembler_4266878a9aea17020e19:double,user_location_city_double_VectorAssembler_4266878a9aea17020e19:double,orig_destination_distance:double,user_id_double_VectorAssembler_4266878a9aea17020e19:double,is_mobile_double_VectorAssembler_4266878a9aea17020e19:double,is_package_double_VectorAssembler_4266878a9aea17020e19:double,channel_double_VectorAssembler_4266878a9aea17020e19:double,srch_adults_cnt_double_VectorAssembler_4266878a9aea17020e19:double,srch_children_cnt_double_VectorAssembler_4266878a9aea17020e19:double,srch_rm_cnt_double_VectorAssembler_4266878a9aea17020e19:double,srch_destination_id_double_VectorAssembler_4266878a9aea17020e19:double,srch_destination_type_id_double_VectorAssembler_4266878a9aea17020e19:double,hotel_continent_double_VectorAssembler_4266878a9aea17020e19:double,hotel_country_double_VectorAssembler_4266878a9aea17020e19:double,hotel_cluster_double_VectorAssembler_4266878a9aea17020e19:double,hotel_market_double_VectorAssembler_4266878a9aea17020e19:double,hotel_clusterVEC:vector>) => vector)\r\n\tat org.apache.spark.sql.catalyst.expressions.GeneratedClass$GeneratedIteratorForCodegenStage1.processNext(Unknown Source)\r\n\tat org.apache.spark.sql.execution.BufferedRowIterator.hasNext(BufferedRowIterator.java:43)\r\n\tat org.apache.spark.sql.execution.WholeStageCodegenExec$$anonfun$10$$anon$1.hasNext(WholeStageCodegenExec.scala:619)\r\n\tat scala.collection.Iterator$$anon$11.hasNext(Iterator.scala:408)\r\n\tat scala.collection.Iterator$$anon$11.hasNext(Iterator.scala:408)\r\n\tat scala.collection.Iterator$$anon$11.hasNext(Iterator.scala:408)\r\n\tat scala.collection.Iterator$class.foreach(Iterator.scala:893)\r\n\tat scala.collection.AbstractIterator.foreach(Iterator.scala:1336)\r\n\tat scala.collection.TraversableOnce$class.foldLeft(TraversableOnce.scala:157)\r\n\tat scala.collection.AbstractIterator.foldLeft(Iterator.scala:1336)\r\n\tat scala.collection.TraversableOnce$class.aggregate(TraversableOnce.scala:214)\r\n\tat scala.collection.AbstractIterator.aggregate(Iterator.scala:1336)\r\n\tat org.apache.spark.rdd.RDD$$anonfun$treeAggregate$1$$anonfun$23.apply(RDD.scala:1145)\r\n\tat org.apache.spark.rdd.RDD$$anonfun$treeAggregate$1$$anonfun$23.apply(RDD.scala:1145)\r\n\tat org.apache.spark.rdd.RDD$$anonfun$treeAggregate$1$$anonfun$24.apply(RDD.scala:1146)\r\n\tat org.apache.spark.rdd.RDD$$anonfun$treeAggregate$1$$anonfun$24.apply(RDD.scala:1146)\r\n\tat org.apache.spark.rdd.RDD$$anonfun$mapPartitions$1$$anonfun$apply$23.apply(RDD.scala:801)\r\n\tat org.apache.spark.rdd.RDD$$anonfun$mapPartitions$1$$anonfun$apply$23.apply(RDD.scala:801)\r\n\tat org.apache.spark.rdd.MapPartitionsRDD.compute(MapPartitionsRDD.scala:49)\r\n\tat org.apache.spark.rdd.RDD.computeOrReadCheckpoint(RDD.scala:324)\r\n\tat org.apache.spark.rdd.RDD.iterator(RDD.scala:288)\r\n\tat org.apache.spark.scheduler.ResultTask.runTask(ResultTask.scala:87)\r\n\tat org.apache.spark.scheduler.Task.run(Task.scala:109)\r\n\tat org.apache.spark.executor.Executor$TaskRunner.run(Executor.scala:345)\r\n\tat java.util.concurrent.ThreadPoolExecutor.runWorker(Unknown Source)\r\n\tat java.util.concurrent.ThreadPoolExecutor$Worker.run(Unknown Source)\r\n\tat java.lang.Thread.run(Unknown Source)\r\nCaused by: org.apache.spark.SparkException: Values to assemble cannot be null.\r\n\tat org.apache.spark.ml.feature.VectorAssembler$$anonfun$assemble$1.apply(VectorAssembler.scala:163)\r\n\tat org.apache.spark.ml.feature.VectorAssembler$$anonfun$assemble$1.apply(VectorAssembler.scala:146)\r\n\tat scala.collection.IndexedSeqOptimized$class.foreach(IndexedSeqOptimized.scala:33)\r\n\tat scala.collection.mutable.WrappedArray.foreach(WrappedArray.scala:35)\r\n\tat org.apache.spark.ml.feature.VectorAssembler$.assemble(VectorAssembler.scala:146)\r\n\tat org.apache.spark.ml.feature.VectorAssembler$$anonfun$3.apply(VectorAssembler.scala:99)\r\n\tat org.apache.spark.ml.feature.VectorAssembler$$anonfun$3.apply(VectorAssembler.scala:98)\r\n\t... 27 more\r\n\nDriver stacktrace:\r\n\tat org.apache.spark.scheduler.DAGScheduler.org$apache$spark$scheduler$DAGScheduler$$failJobAndIndependentStages(DAGScheduler.scala:1661)\r\n\tat org.apache.spark.scheduler.DAGScheduler$$anonfun$abortStage$1.apply(DAGScheduler.scala:1649)\r\n\tat org.apache.spark.scheduler.DAGScheduler$$anonfun$abortStage$1.apply(DAGScheduler.scala:1648)\r\n\tat scala.collection.mutable.ResizableArray$class.foreach(ResizableArray.scala:59)\r\n\tat scala.collection.mutable.ArrayBuffer.foreach(ArrayBuffer.scala:48)\r\n\tat org.apache.spark.scheduler.DAGScheduler.abortStage(DAGScheduler.scala:1648)\r\n\tat org.apache.spark.scheduler.DAGScheduler$$anonfun$handleTaskSetFailed$1.apply(DAGScheduler.scala:831)\r\n\tat org.apache.spark.scheduler.DAGScheduler$$anonfun$handleTaskSetFailed$1.apply(DAGScheduler.scala:831)\r\n\tat scala.Option.foreach(Option.scala:257)\r\n\tat org.apache.spark.scheduler.DAGScheduler.handleTaskSetFailed(DAGScheduler.scala:831)\r\n\tat org.apache.spark.scheduler.DAGSchedulerEventProcessLoop.doOnReceive(DAGScheduler.scala:1882)\r\n\tat org.apache.spark.scheduler.DAGSchedulerEventProcessLoop.onReceive(DAGScheduler.scala:1831)\r\n\tat org.apache.spark.scheduler.DAGSchedulerEventProcessLoop.onReceive(DAGScheduler.scala:1820)\r\n\tat org.apache.spark.util.EventLoop$$anon$1.run(EventLoop.scala:48)\r\n\tat org.apache.spark.scheduler.DAGScheduler.runJob(DAGScheduler.scala:642)\r\n\tat org.apache.spark.SparkContext.runJob(SparkContext.scala:2034)\r\n\tat org.apache.spark.SparkContext.runJob(SparkContext.scala:2131)\r\n\tat org.apache.spark.rdd.RDD$$anonfun$fold$1.apply(RDD.scala:1098)\r\n\tat org.apache.spark.rdd.RDDOperationScope$.withScope(RDDOperationScope.scala:151)\r\n\tat org.apache.spark.rdd.RDDOperationScope$.withScope(RDDOperationScope.scala:112)\r\n\tat org.apache.spark.rdd.RDD.withScope(RDD.scala:363)\r\n\tat org.apache.spark.rdd.RDD.fold(RDD.scala:1092)\r\n\tat org.apache.spark.rdd.RDD$$anonfun$treeAggregate$1.apply(RDD.scala:1161)\r\n\tat org.apache.spark.rdd.RDDOperationScope$.withScope(RDDOperationScope.scala:151)\r\n\tat org.apache.spark.rdd.RDDOperationScope$.withScope(RDDOperationScope.scala:112)\r\n\tat org.apache.spark.rdd.RDD.withScope(RDD.scala:363)\r\n\tat org.apache.spark.rdd.RDD.treeAggregate(RDD.scala:1137)\r\n\tat org.apache.spark.mllib.linalg.distributed.RowMatrix.computeColumnSummaryStatistics(RowMatrix.scala:433)\r\n\tat org.apache.spark.mllib.linalg.distributed.RowMatrix.computeCovariance(RowMatrix.scala:348)\r\n\tat org.apache.spark.mllib.linalg.distributed.RowMatrix.computePrincipalComponentsAndExplainedVariance(RowMatrix.scala:401)\r\n\tat org.apache.spark.mllib.feature.PCA.fit(PCA.scala:53)\r\n\tat org.apache.spark.ml.feature.PCA.fit(PCA.scala:99)\r\n\tat org.apache.spark.ml.feature.PCA.fit(PCA.scala:70)\r\n\tat sun.reflect.NativeMethodAccessorImpl.invoke0(Native Method)\r\n\tat sun.reflect.NativeMethodAccessorImpl.invoke(Unknown Source)\r\n\tat sun.reflect.DelegatingMethodAccessorImpl.invoke(Unknown Source)\r\n\tat java.lang.reflect.Method.invoke(Unknown Source)\r\n\tat py4j.reflection.MethodInvoker.invoke(MethodInvoker.java:244)\r\n\tat py4j.reflection.ReflectionEngine.invoke(ReflectionEngine.java:357)\r\n\tat py4j.Gateway.invoke(Gateway.java:282)\r\n\tat py4j.commands.AbstractCommand.invokeMethod(AbstractCommand.java:132)\r\n\tat py4j.commands.CallCommand.execute(CallCommand.java:79)\r\n\tat py4j.GatewayConnection.run(GatewayConnection.java:238)\r\n\tat java.lang.Thread.run(Unknown Source)\r\nCaused by: org.apache.spark.SparkException: Failed to execute user defined function($anonfun$3: (struct<site_name_double_VectorAssembler_4266878a9aea17020e19:double,posa_continent_double_VectorAssembler_4266878a9aea17020e19:double,user_location_country_double_VectorAssembler_4266878a9aea17020e19:double,user_location_region_double_VectorAssembler_4266878a9aea17020e19:double,user_location_city_double_VectorAssembler_4266878a9aea17020e19:double,orig_destination_distance:double,user_id_double_VectorAssembler_4266878a9aea17020e19:double,is_mobile_double_VectorAssembler_4266878a9aea17020e19:double,is_package_double_VectorAssembler_4266878a9aea17020e19:double,channel_double_VectorAssembler_4266878a9aea17020e19:double,srch_adults_cnt_double_VectorAssembler_4266878a9aea17020e19:double,srch_children_cnt_double_VectorAssembler_4266878a9aea17020e19:double,srch_rm_cnt_double_VectorAssembler_4266878a9aea17020e19:double,srch_destination_id_double_VectorAssembler_4266878a9aea17020e19:double,srch_destination_type_id_double_VectorAssembler_4266878a9aea17020e19:double,hotel_continent_double_VectorAssembler_4266878a9aea17020e19:double,hotel_country_double_VectorAssembler_4266878a9aea17020e19:double,hotel_cluster_double_VectorAssembler_4266878a9aea17020e19:double,hotel_market_double_VectorAssembler_4266878a9aea17020e19:double,hotel_clusterVEC:vector>) => vector)\r\n\tat org.apache.spark.sql.catalyst.expressions.GeneratedClass$GeneratedIteratorForCodegenStage1.processNext(Unknown Source)\r\n\tat org.apache.spark.sql.execution.BufferedRowIterator.hasNext(BufferedRowIterator.java:43)\r\n\tat org.apache.spark.sql.execution.WholeStageCodegenExec$$anonfun$10$$anon$1.hasNext(WholeStageCodegenExec.scala:619)\r\n\tat scala.collection.Iterator$$anon$11.hasNext(Iterator.scala:408)\r\n\tat scala.collection.Iterator$$anon$11.hasNext(Iterator.scala:408)\r\n\tat scala.collection.Iterator$$anon$11.hasNext(Iterator.scala:408)\r\n\tat scala.collection.Iterator$class.foreach(Iterator.scala:893)\r\n\tat scala.collection.AbstractIterator.foreach(Iterator.scala:1336)\r\n\tat scala.collection.TraversableOnce$class.foldLeft(TraversableOnce.scala:157)\r\n\tat scala.collection.AbstractIterator.foldLeft(Iterator.scala:1336)\r\n\tat scala.collection.TraversableOnce$class.aggregate(TraversableOnce.scala:214)\r\n\tat scala.collection.AbstractIterator.aggregate(Iterator.scala:1336)\r\n\tat org.apache.spark.rdd.RDD$$anonfun$treeAggregate$1$$anonfun$23.apply(RDD.scala:1145)\r\n\tat org.apache.spark.rdd.RDD$$anonfun$treeAggregate$1$$anonfun$23.apply(RDD.scala:1145)\r\n\tat org.apache.spark.rdd.RDD$$anonfun$treeAggregate$1$$anonfun$24.apply(RDD.scala:1146)\r\n\tat org.apache.spark.rdd.RDD$$anonfun$treeAggregate$1$$anonfun$24.apply(RDD.scala:1146)\r\n\tat org.apache.spark.rdd.RDD$$anonfun$mapPartitions$1$$anonfun$apply$23.apply(RDD.scala:801)\r\n\tat org.apache.spark.rdd.RDD$$anonfun$mapPartitions$1$$anonfun$apply$23.apply(RDD.scala:801)\r\n\tat org.apache.spark.rdd.MapPartitionsRDD.compute(MapPartitionsRDD.scala:49)\r\n\tat org.apache.spark.rdd.RDD.computeOrReadCheckpoint(RDD.scala:324)\r\n\tat org.apache.spark.rdd.RDD.iterator(RDD.scala:288)\r\n\tat org.apache.spark.scheduler.ResultTask.runTask(ResultTask.scala:87)\r\n\tat org.apache.spark.scheduler.Task.run(Task.scala:109)\r\n\tat org.apache.spark.executor.Executor$TaskRunner.run(Executor.scala:345)\r\n\tat java.util.concurrent.ThreadPoolExecutor.runWorker(Unknown Source)\r\n\tat java.util.concurrent.ThreadPoolExecutor$Worker.run(Unknown Source)\r\n\t... 1 more\r\nCaused by: org.apache.spark.SparkException: Values to assemble cannot be null.\r\n\tat org.apache.spark.ml.feature.VectorAssembler$$anonfun$assemble$1.apply(VectorAssembler.scala:163)\r\n\tat org.apache.spark.ml.feature.VectorAssembler$$anonfun$assemble$1.apply(VectorAssembler.scala:146)\r\n\tat scala.collection.IndexedSeqOptimized$class.foreach(IndexedSeqOptimized.scala:33)\r\n\tat scala.collection.mutable.WrappedArray.foreach(WrappedArray.scala:35)\r\n\tat org.apache.spark.ml.feature.VectorAssembler$.assemble(VectorAssembler.scala:146)\r\n\tat org.apache.spark.ml.feature.VectorAssembler$$anonfun$3.apply(VectorAssembler.scala:99)\r\n\tat org.apache.spark.ml.feature.VectorAssembler$$anonfun$3.apply(VectorAssembler.scala:98)\r\n\t... 27 more\r\n",
     "output_type": "error",
     "traceback": [
      "\u001b[1;31m---------------------------------------------------------------------------\u001b[0m",
      "\u001b[1;31mPy4JJavaError\u001b[0m                             Traceback (most recent call last)",
      "\u001b[1;32m<ipython-input-68-bd6c5fff9837>\u001b[0m in \u001b[0;36m<module>\u001b[1;34m\u001b[0m\n\u001b[0;32m      2\u001b[0m \u001b[1;32mfrom\u001b[0m \u001b[0mpyspark\u001b[0m\u001b[1;33m.\u001b[0m\u001b[0mml\u001b[0m\u001b[1;33m.\u001b[0m\u001b[0mlinalg\u001b[0m \u001b[1;32mimport\u001b[0m \u001b[0mVectors\u001b[0m\u001b[1;33m\u001b[0m\u001b[1;33m\u001b[0m\u001b[0m\n\u001b[0;32m      3\u001b[0m \u001b[0mpca\u001b[0m \u001b[1;33m=\u001b[0m \u001b[0mPCA\u001b[0m\u001b[1;33m(\u001b[0m\u001b[0mk\u001b[0m\u001b[1;33m=\u001b[0m\u001b[1;36m6\u001b[0m\u001b[1;33m,\u001b[0m \u001b[0minputCol\u001b[0m\u001b[1;33m=\u001b[0m\u001b[1;34m\"features\"\u001b[0m\u001b[1;33m,\u001b[0m \u001b[0moutputCol\u001b[0m\u001b[1;33m=\u001b[0m\u001b[1;34m\"pca_features\"\u001b[0m\u001b[1;33m)\u001b[0m\u001b[1;33m\u001b[0m\u001b[1;33m\u001b[0m\u001b[0m\n\u001b[1;32m----> 4\u001b[1;33m \u001b[0mmodel\u001b[0m \u001b[1;33m=\u001b[0m \u001b[0mpca\u001b[0m\u001b[1;33m.\u001b[0m\u001b[0mfit\u001b[0m\u001b[1;33m(\u001b[0m\u001b[0mtest\u001b[0m\u001b[1;33m)\u001b[0m\u001b[1;33m\u001b[0m\u001b[1;33m\u001b[0m\u001b[0m\n\u001b[0m\u001b[0;32m      5\u001b[0m \u001b[0mtestdefin\u001b[0m\u001b[1;33m=\u001b[0m\u001b[0mmodel\u001b[0m\u001b[1;33m.\u001b[0m\u001b[0mtransform\u001b[0m\u001b[1;33m(\u001b[0m\u001b[0mtest\u001b[0m\u001b[1;33m)\u001b[0m\u001b[1;33m\u001b[0m\u001b[1;33m\u001b[0m\u001b[0m\n\u001b[0;32m      6\u001b[0m \u001b[0mtestdefin\u001b[0m\u001b[1;33m.\u001b[0m\u001b[0mcollect\u001b[0m\u001b[1;33m(\u001b[0m\u001b[1;33m)\u001b[0m\u001b[1;33m[\u001b[0m\u001b[1;36m0\u001b[0m\u001b[1;33m]\u001b[0m\u001b[1;33m.\u001b[0m\u001b[0mpca_features\u001b[0m\u001b[1;33m\u001b[0m\u001b[1;33m\u001b[0m\u001b[0m\n",
      "\u001b[1;32mC:\\spark\\spark-2.3.3-bin-hadoop2.7\\python\\pyspark\\ml\\base.py\u001b[0m in \u001b[0;36mfit\u001b[1;34m(self, dataset, params)\u001b[0m\n\u001b[0;32m    130\u001b[0m                 \u001b[1;32mreturn\u001b[0m \u001b[0mself\u001b[0m\u001b[1;33m.\u001b[0m\u001b[0mcopy\u001b[0m\u001b[1;33m(\u001b[0m\u001b[0mparams\u001b[0m\u001b[1;33m)\u001b[0m\u001b[1;33m.\u001b[0m\u001b[0m_fit\u001b[0m\u001b[1;33m(\u001b[0m\u001b[0mdataset\u001b[0m\u001b[1;33m)\u001b[0m\u001b[1;33m\u001b[0m\u001b[1;33m\u001b[0m\u001b[0m\n\u001b[0;32m    131\u001b[0m             \u001b[1;32melse\u001b[0m\u001b[1;33m:\u001b[0m\u001b[1;33m\u001b[0m\u001b[1;33m\u001b[0m\u001b[0m\n\u001b[1;32m--> 132\u001b[1;33m                 \u001b[1;32mreturn\u001b[0m \u001b[0mself\u001b[0m\u001b[1;33m.\u001b[0m\u001b[0m_fit\u001b[0m\u001b[1;33m(\u001b[0m\u001b[0mdataset\u001b[0m\u001b[1;33m)\u001b[0m\u001b[1;33m\u001b[0m\u001b[1;33m\u001b[0m\u001b[0m\n\u001b[0m\u001b[0;32m    133\u001b[0m         \u001b[1;32melse\u001b[0m\u001b[1;33m:\u001b[0m\u001b[1;33m\u001b[0m\u001b[1;33m\u001b[0m\u001b[0m\n\u001b[0;32m    134\u001b[0m             raise ValueError(\"Params must be either a param map or a list/tuple of param maps, \"\n",
      "\u001b[1;32mC:\\spark\\spark-2.3.3-bin-hadoop2.7\\python\\pyspark\\ml\\wrapper.py\u001b[0m in \u001b[0;36m_fit\u001b[1;34m(self, dataset)\u001b[0m\n\u001b[0;32m    286\u001b[0m \u001b[1;33m\u001b[0m\u001b[0m\n\u001b[0;32m    287\u001b[0m     \u001b[1;32mdef\u001b[0m \u001b[0m_fit\u001b[0m\u001b[1;33m(\u001b[0m\u001b[0mself\u001b[0m\u001b[1;33m,\u001b[0m \u001b[0mdataset\u001b[0m\u001b[1;33m)\u001b[0m\u001b[1;33m:\u001b[0m\u001b[1;33m\u001b[0m\u001b[1;33m\u001b[0m\u001b[0m\n\u001b[1;32m--> 288\u001b[1;33m         \u001b[0mjava_model\u001b[0m \u001b[1;33m=\u001b[0m \u001b[0mself\u001b[0m\u001b[1;33m.\u001b[0m\u001b[0m_fit_java\u001b[0m\u001b[1;33m(\u001b[0m\u001b[0mdataset\u001b[0m\u001b[1;33m)\u001b[0m\u001b[1;33m\u001b[0m\u001b[1;33m\u001b[0m\u001b[0m\n\u001b[0m\u001b[0;32m    289\u001b[0m         \u001b[0mmodel\u001b[0m \u001b[1;33m=\u001b[0m \u001b[0mself\u001b[0m\u001b[1;33m.\u001b[0m\u001b[0m_create_model\u001b[0m\u001b[1;33m(\u001b[0m\u001b[0mjava_model\u001b[0m\u001b[1;33m)\u001b[0m\u001b[1;33m\u001b[0m\u001b[1;33m\u001b[0m\u001b[0m\n\u001b[0;32m    290\u001b[0m         \u001b[1;32mreturn\u001b[0m \u001b[0mself\u001b[0m\u001b[1;33m.\u001b[0m\u001b[0m_copyValues\u001b[0m\u001b[1;33m(\u001b[0m\u001b[0mmodel\u001b[0m\u001b[1;33m)\u001b[0m\u001b[1;33m\u001b[0m\u001b[1;33m\u001b[0m\u001b[0m\n",
      "\u001b[1;32mC:\\spark\\spark-2.3.3-bin-hadoop2.7\\python\\pyspark\\ml\\wrapper.py\u001b[0m in \u001b[0;36m_fit_java\u001b[1;34m(self, dataset)\u001b[0m\n\u001b[0;32m    283\u001b[0m         \"\"\"\n\u001b[0;32m    284\u001b[0m         \u001b[0mself\u001b[0m\u001b[1;33m.\u001b[0m\u001b[0m_transfer_params_to_java\u001b[0m\u001b[1;33m(\u001b[0m\u001b[1;33m)\u001b[0m\u001b[1;33m\u001b[0m\u001b[1;33m\u001b[0m\u001b[0m\n\u001b[1;32m--> 285\u001b[1;33m         \u001b[1;32mreturn\u001b[0m \u001b[0mself\u001b[0m\u001b[1;33m.\u001b[0m\u001b[0m_java_obj\u001b[0m\u001b[1;33m.\u001b[0m\u001b[0mfit\u001b[0m\u001b[1;33m(\u001b[0m\u001b[0mdataset\u001b[0m\u001b[1;33m.\u001b[0m\u001b[0m_jdf\u001b[0m\u001b[1;33m)\u001b[0m\u001b[1;33m\u001b[0m\u001b[1;33m\u001b[0m\u001b[0m\n\u001b[0m\u001b[0;32m    286\u001b[0m \u001b[1;33m\u001b[0m\u001b[0m\n\u001b[0;32m    287\u001b[0m     \u001b[1;32mdef\u001b[0m \u001b[0m_fit\u001b[0m\u001b[1;33m(\u001b[0m\u001b[0mself\u001b[0m\u001b[1;33m,\u001b[0m \u001b[0mdataset\u001b[0m\u001b[1;33m)\u001b[0m\u001b[1;33m:\u001b[0m\u001b[1;33m\u001b[0m\u001b[1;33m\u001b[0m\u001b[0m\n",
      "\u001b[1;32mC:\\spark\\spark-2.3.3-bin-hadoop2.7\\python\\lib\\py4j-0.10.7-src.zip\\py4j\\java_gateway.py\u001b[0m in \u001b[0;36m__call__\u001b[1;34m(self, *args)\u001b[0m\n\u001b[0;32m   1255\u001b[0m         \u001b[0manswer\u001b[0m \u001b[1;33m=\u001b[0m \u001b[0mself\u001b[0m\u001b[1;33m.\u001b[0m\u001b[0mgateway_client\u001b[0m\u001b[1;33m.\u001b[0m\u001b[0msend_command\u001b[0m\u001b[1;33m(\u001b[0m\u001b[0mcommand\u001b[0m\u001b[1;33m)\u001b[0m\u001b[1;33m\u001b[0m\u001b[1;33m\u001b[0m\u001b[0m\n\u001b[0;32m   1256\u001b[0m         return_value = get_return_value(\n\u001b[1;32m-> 1257\u001b[1;33m             answer, self.gateway_client, self.target_id, self.name)\n\u001b[0m\u001b[0;32m   1258\u001b[0m \u001b[1;33m\u001b[0m\u001b[0m\n\u001b[0;32m   1259\u001b[0m         \u001b[1;32mfor\u001b[0m \u001b[0mtemp_arg\u001b[0m \u001b[1;32min\u001b[0m \u001b[0mtemp_args\u001b[0m\u001b[1;33m:\u001b[0m\u001b[1;33m\u001b[0m\u001b[1;33m\u001b[0m\u001b[0m\n",
      "\u001b[1;32mC:\\spark\\spark-2.3.3-bin-hadoop2.7\\python\\pyspark\\sql\\utils.py\u001b[0m in \u001b[0;36mdeco\u001b[1;34m(*a, **kw)\u001b[0m\n\u001b[0;32m     61\u001b[0m     \u001b[1;32mdef\u001b[0m \u001b[0mdeco\u001b[0m\u001b[1;33m(\u001b[0m\u001b[1;33m*\u001b[0m\u001b[0ma\u001b[0m\u001b[1;33m,\u001b[0m \u001b[1;33m**\u001b[0m\u001b[0mkw\u001b[0m\u001b[1;33m)\u001b[0m\u001b[1;33m:\u001b[0m\u001b[1;33m\u001b[0m\u001b[1;33m\u001b[0m\u001b[0m\n\u001b[0;32m     62\u001b[0m         \u001b[1;32mtry\u001b[0m\u001b[1;33m:\u001b[0m\u001b[1;33m\u001b[0m\u001b[1;33m\u001b[0m\u001b[0m\n\u001b[1;32m---> 63\u001b[1;33m             \u001b[1;32mreturn\u001b[0m \u001b[0mf\u001b[0m\u001b[1;33m(\u001b[0m\u001b[1;33m*\u001b[0m\u001b[0ma\u001b[0m\u001b[1;33m,\u001b[0m \u001b[1;33m**\u001b[0m\u001b[0mkw\u001b[0m\u001b[1;33m)\u001b[0m\u001b[1;33m\u001b[0m\u001b[1;33m\u001b[0m\u001b[0m\n\u001b[0m\u001b[0;32m     64\u001b[0m         \u001b[1;32mexcept\u001b[0m \u001b[0mpy4j\u001b[0m\u001b[1;33m.\u001b[0m\u001b[0mprotocol\u001b[0m\u001b[1;33m.\u001b[0m\u001b[0mPy4JJavaError\u001b[0m \u001b[1;32mas\u001b[0m \u001b[0me\u001b[0m\u001b[1;33m:\u001b[0m\u001b[1;33m\u001b[0m\u001b[1;33m\u001b[0m\u001b[0m\n\u001b[0;32m     65\u001b[0m             \u001b[0ms\u001b[0m \u001b[1;33m=\u001b[0m \u001b[0me\u001b[0m\u001b[1;33m.\u001b[0m\u001b[0mjava_exception\u001b[0m\u001b[1;33m.\u001b[0m\u001b[0mtoString\u001b[0m\u001b[1;33m(\u001b[0m\u001b[1;33m)\u001b[0m\u001b[1;33m\u001b[0m\u001b[1;33m\u001b[0m\u001b[0m\n",
      "\u001b[1;32mC:\\spark\\spark-2.3.3-bin-hadoop2.7\\python\\lib\\py4j-0.10.7-src.zip\\py4j\\protocol.py\u001b[0m in \u001b[0;36mget_return_value\u001b[1;34m(answer, gateway_client, target_id, name)\u001b[0m\n\u001b[0;32m    326\u001b[0m                 raise Py4JJavaError(\n\u001b[0;32m    327\u001b[0m                     \u001b[1;34m\"An error occurred while calling {0}{1}{2}.\\n\"\u001b[0m\u001b[1;33m.\u001b[0m\u001b[1;33m\u001b[0m\u001b[1;33m\u001b[0m\u001b[0m\n\u001b[1;32m--> 328\u001b[1;33m                     format(target_id, \".\", name), value)\n\u001b[0m\u001b[0;32m    329\u001b[0m             \u001b[1;32melse\u001b[0m\u001b[1;33m:\u001b[0m\u001b[1;33m\u001b[0m\u001b[1;33m\u001b[0m\u001b[0m\n\u001b[0;32m    330\u001b[0m                 raise Py4JError(\n",
      "\u001b[1;31mPy4JJavaError\u001b[0m: An error occurred while calling o1557.fit.\n: org.apache.spark.SparkException: Job aborted due to stage failure: Task 1 in stage 156.0 failed 1 times, most recent failure: Lost task 1.0 in stage 156.0 (TID 370, localhost, executor driver): org.apache.spark.SparkException: Failed to execute user defined function($anonfun$3: (struct<site_name_double_VectorAssembler_4266878a9aea17020e19:double,posa_continent_double_VectorAssembler_4266878a9aea17020e19:double,user_location_country_double_VectorAssembler_4266878a9aea17020e19:double,user_location_region_double_VectorAssembler_4266878a9aea17020e19:double,user_location_city_double_VectorAssembler_4266878a9aea17020e19:double,orig_destination_distance:double,user_id_double_VectorAssembler_4266878a9aea17020e19:double,is_mobile_double_VectorAssembler_4266878a9aea17020e19:double,is_package_double_VectorAssembler_4266878a9aea17020e19:double,channel_double_VectorAssembler_4266878a9aea17020e19:double,srch_adults_cnt_double_VectorAssembler_4266878a9aea17020e19:double,srch_children_cnt_double_VectorAssembler_4266878a9aea17020e19:double,srch_rm_cnt_double_VectorAssembler_4266878a9aea17020e19:double,srch_destination_id_double_VectorAssembler_4266878a9aea17020e19:double,srch_destination_type_id_double_VectorAssembler_4266878a9aea17020e19:double,hotel_continent_double_VectorAssembler_4266878a9aea17020e19:double,hotel_country_double_VectorAssembler_4266878a9aea17020e19:double,hotel_cluster_double_VectorAssembler_4266878a9aea17020e19:double,hotel_market_double_VectorAssembler_4266878a9aea17020e19:double,hotel_clusterVEC:vector>) => vector)\r\n\tat org.apache.spark.sql.catalyst.expressions.GeneratedClass$GeneratedIteratorForCodegenStage1.processNext(Unknown Source)\r\n\tat org.apache.spark.sql.execution.BufferedRowIterator.hasNext(BufferedRowIterator.java:43)\r\n\tat org.apache.spark.sql.execution.WholeStageCodegenExec$$anonfun$10$$anon$1.hasNext(WholeStageCodegenExec.scala:619)\r\n\tat scala.collection.Iterator$$anon$11.hasNext(Iterator.scala:408)\r\n\tat scala.collection.Iterator$$anon$11.hasNext(Iterator.scala:408)\r\n\tat scala.collection.Iterator$$anon$11.hasNext(Iterator.scala:408)\r\n\tat scala.collection.Iterator$class.foreach(Iterator.scala:893)\r\n\tat scala.collection.AbstractIterator.foreach(Iterator.scala:1336)\r\n\tat scala.collection.TraversableOnce$class.foldLeft(TraversableOnce.scala:157)\r\n\tat scala.collection.AbstractIterator.foldLeft(Iterator.scala:1336)\r\n\tat scala.collection.TraversableOnce$class.aggregate(TraversableOnce.scala:214)\r\n\tat scala.collection.AbstractIterator.aggregate(Iterator.scala:1336)\r\n\tat org.apache.spark.rdd.RDD$$anonfun$treeAggregate$1$$anonfun$23.apply(RDD.scala:1145)\r\n\tat org.apache.spark.rdd.RDD$$anonfun$treeAggregate$1$$anonfun$23.apply(RDD.scala:1145)\r\n\tat org.apache.spark.rdd.RDD$$anonfun$treeAggregate$1$$anonfun$24.apply(RDD.scala:1146)\r\n\tat org.apache.spark.rdd.RDD$$anonfun$treeAggregate$1$$anonfun$24.apply(RDD.scala:1146)\r\n\tat org.apache.spark.rdd.RDD$$anonfun$mapPartitions$1$$anonfun$apply$23.apply(RDD.scala:801)\r\n\tat org.apache.spark.rdd.RDD$$anonfun$mapPartitions$1$$anonfun$apply$23.apply(RDD.scala:801)\r\n\tat org.apache.spark.rdd.MapPartitionsRDD.compute(MapPartitionsRDD.scala:49)\r\n\tat org.apache.spark.rdd.RDD.computeOrReadCheckpoint(RDD.scala:324)\r\n\tat org.apache.spark.rdd.RDD.iterator(RDD.scala:288)\r\n\tat org.apache.spark.scheduler.ResultTask.runTask(ResultTask.scala:87)\r\n\tat org.apache.spark.scheduler.Task.run(Task.scala:109)\r\n\tat org.apache.spark.executor.Executor$TaskRunner.run(Executor.scala:345)\r\n\tat java.util.concurrent.ThreadPoolExecutor.runWorker(Unknown Source)\r\n\tat java.util.concurrent.ThreadPoolExecutor$Worker.run(Unknown Source)\r\n\tat java.lang.Thread.run(Unknown Source)\r\nCaused by: org.apache.spark.SparkException: Values to assemble cannot be null.\r\n\tat org.apache.spark.ml.feature.VectorAssembler$$anonfun$assemble$1.apply(VectorAssembler.scala:163)\r\n\tat org.apache.spark.ml.feature.VectorAssembler$$anonfun$assemble$1.apply(VectorAssembler.scala:146)\r\n\tat scala.collection.IndexedSeqOptimized$class.foreach(IndexedSeqOptimized.scala:33)\r\n\tat scala.collection.mutable.WrappedArray.foreach(WrappedArray.scala:35)\r\n\tat org.apache.spark.ml.feature.VectorAssembler$.assemble(VectorAssembler.scala:146)\r\n\tat org.apache.spark.ml.feature.VectorAssembler$$anonfun$3.apply(VectorAssembler.scala:99)\r\n\tat org.apache.spark.ml.feature.VectorAssembler$$anonfun$3.apply(VectorAssembler.scala:98)\r\n\t... 27 more\r\n\nDriver stacktrace:\r\n\tat org.apache.spark.scheduler.DAGScheduler.org$apache$spark$scheduler$DAGScheduler$$failJobAndIndependentStages(DAGScheduler.scala:1661)\r\n\tat org.apache.spark.scheduler.DAGScheduler$$anonfun$abortStage$1.apply(DAGScheduler.scala:1649)\r\n\tat org.apache.spark.scheduler.DAGScheduler$$anonfun$abortStage$1.apply(DAGScheduler.scala:1648)\r\n\tat scala.collection.mutable.ResizableArray$class.foreach(ResizableArray.scala:59)\r\n\tat scala.collection.mutable.ArrayBuffer.foreach(ArrayBuffer.scala:48)\r\n\tat org.apache.spark.scheduler.DAGScheduler.abortStage(DAGScheduler.scala:1648)\r\n\tat org.apache.spark.scheduler.DAGScheduler$$anonfun$handleTaskSetFailed$1.apply(DAGScheduler.scala:831)\r\n\tat org.apache.spark.scheduler.DAGScheduler$$anonfun$handleTaskSetFailed$1.apply(DAGScheduler.scala:831)\r\n\tat scala.Option.foreach(Option.scala:257)\r\n\tat org.apache.spark.scheduler.DAGScheduler.handleTaskSetFailed(DAGScheduler.scala:831)\r\n\tat org.apache.spark.scheduler.DAGSchedulerEventProcessLoop.doOnReceive(DAGScheduler.scala:1882)\r\n\tat org.apache.spark.scheduler.DAGSchedulerEventProcessLoop.onReceive(DAGScheduler.scala:1831)\r\n\tat org.apache.spark.scheduler.DAGSchedulerEventProcessLoop.onReceive(DAGScheduler.scala:1820)\r\n\tat org.apache.spark.util.EventLoop$$anon$1.run(EventLoop.scala:48)\r\n\tat org.apache.spark.scheduler.DAGScheduler.runJob(DAGScheduler.scala:642)\r\n\tat org.apache.spark.SparkContext.runJob(SparkContext.scala:2034)\r\n\tat org.apache.spark.SparkContext.runJob(SparkContext.scala:2131)\r\n\tat org.apache.spark.rdd.RDD$$anonfun$fold$1.apply(RDD.scala:1098)\r\n\tat org.apache.spark.rdd.RDDOperationScope$.withScope(RDDOperationScope.scala:151)\r\n\tat org.apache.spark.rdd.RDDOperationScope$.withScope(RDDOperationScope.scala:112)\r\n\tat org.apache.spark.rdd.RDD.withScope(RDD.scala:363)\r\n\tat org.apache.spark.rdd.RDD.fold(RDD.scala:1092)\r\n\tat org.apache.spark.rdd.RDD$$anonfun$treeAggregate$1.apply(RDD.scala:1161)\r\n\tat org.apache.spark.rdd.RDDOperationScope$.withScope(RDDOperationScope.scala:151)\r\n\tat org.apache.spark.rdd.RDDOperationScope$.withScope(RDDOperationScope.scala:112)\r\n\tat org.apache.spark.rdd.RDD.withScope(RDD.scala:363)\r\n\tat org.apache.spark.rdd.RDD.treeAggregate(RDD.scala:1137)\r\n\tat org.apache.spark.mllib.linalg.distributed.RowMatrix.computeColumnSummaryStatistics(RowMatrix.scala:433)\r\n\tat org.apache.spark.mllib.linalg.distributed.RowMatrix.computeCovariance(RowMatrix.scala:348)\r\n\tat org.apache.spark.mllib.linalg.distributed.RowMatrix.computePrincipalComponentsAndExplainedVariance(RowMatrix.scala:401)\r\n\tat org.apache.spark.mllib.feature.PCA.fit(PCA.scala:53)\r\n\tat org.apache.spark.ml.feature.PCA.fit(PCA.scala:99)\r\n\tat org.apache.spark.ml.feature.PCA.fit(PCA.scala:70)\r\n\tat sun.reflect.NativeMethodAccessorImpl.invoke0(Native Method)\r\n\tat sun.reflect.NativeMethodAccessorImpl.invoke(Unknown Source)\r\n\tat sun.reflect.DelegatingMethodAccessorImpl.invoke(Unknown Source)\r\n\tat java.lang.reflect.Method.invoke(Unknown Source)\r\n\tat py4j.reflection.MethodInvoker.invoke(MethodInvoker.java:244)\r\n\tat py4j.reflection.ReflectionEngine.invoke(ReflectionEngine.java:357)\r\n\tat py4j.Gateway.invoke(Gateway.java:282)\r\n\tat py4j.commands.AbstractCommand.invokeMethod(AbstractCommand.java:132)\r\n\tat py4j.commands.CallCommand.execute(CallCommand.java:79)\r\n\tat py4j.GatewayConnection.run(GatewayConnection.java:238)\r\n\tat java.lang.Thread.run(Unknown Source)\r\nCaused by: org.apache.spark.SparkException: Failed to execute user defined function($anonfun$3: (struct<site_name_double_VectorAssembler_4266878a9aea17020e19:double,posa_continent_double_VectorAssembler_4266878a9aea17020e19:double,user_location_country_double_VectorAssembler_4266878a9aea17020e19:double,user_location_region_double_VectorAssembler_4266878a9aea17020e19:double,user_location_city_double_VectorAssembler_4266878a9aea17020e19:double,orig_destination_distance:double,user_id_double_VectorAssembler_4266878a9aea17020e19:double,is_mobile_double_VectorAssembler_4266878a9aea17020e19:double,is_package_double_VectorAssembler_4266878a9aea17020e19:double,channel_double_VectorAssembler_4266878a9aea17020e19:double,srch_adults_cnt_double_VectorAssembler_4266878a9aea17020e19:double,srch_children_cnt_double_VectorAssembler_4266878a9aea17020e19:double,srch_rm_cnt_double_VectorAssembler_4266878a9aea17020e19:double,srch_destination_id_double_VectorAssembler_4266878a9aea17020e19:double,srch_destination_type_id_double_VectorAssembler_4266878a9aea17020e19:double,hotel_continent_double_VectorAssembler_4266878a9aea17020e19:double,hotel_country_double_VectorAssembler_4266878a9aea17020e19:double,hotel_cluster_double_VectorAssembler_4266878a9aea17020e19:double,hotel_market_double_VectorAssembler_4266878a9aea17020e19:double,hotel_clusterVEC:vector>) => vector)\r\n\tat org.apache.spark.sql.catalyst.expressions.GeneratedClass$GeneratedIteratorForCodegenStage1.processNext(Unknown Source)\r\n\tat org.apache.spark.sql.execution.BufferedRowIterator.hasNext(BufferedRowIterator.java:43)\r\n\tat org.apache.spark.sql.execution.WholeStageCodegenExec$$anonfun$10$$anon$1.hasNext(WholeStageCodegenExec.scala:619)\r\n\tat scala.collection.Iterator$$anon$11.hasNext(Iterator.scala:408)\r\n\tat scala.collection.Iterator$$anon$11.hasNext(Iterator.scala:408)\r\n\tat scala.collection.Iterator$$anon$11.hasNext(Iterator.scala:408)\r\n\tat scala.collection.Iterator$class.foreach(Iterator.scala:893)\r\n\tat scala.collection.AbstractIterator.foreach(Iterator.scala:1336)\r\n\tat scala.collection.TraversableOnce$class.foldLeft(TraversableOnce.scala:157)\r\n\tat scala.collection.AbstractIterator.foldLeft(Iterator.scala:1336)\r\n\tat scala.collection.TraversableOnce$class.aggregate(TraversableOnce.scala:214)\r\n\tat scala.collection.AbstractIterator.aggregate(Iterator.scala:1336)\r\n\tat org.apache.spark.rdd.RDD$$anonfun$treeAggregate$1$$anonfun$23.apply(RDD.scala:1145)\r\n\tat org.apache.spark.rdd.RDD$$anonfun$treeAggregate$1$$anonfun$23.apply(RDD.scala:1145)\r\n\tat org.apache.spark.rdd.RDD$$anonfun$treeAggregate$1$$anonfun$24.apply(RDD.scala:1146)\r\n\tat org.apache.spark.rdd.RDD$$anonfun$treeAggregate$1$$anonfun$24.apply(RDD.scala:1146)\r\n\tat org.apache.spark.rdd.RDD$$anonfun$mapPartitions$1$$anonfun$apply$23.apply(RDD.scala:801)\r\n\tat org.apache.spark.rdd.RDD$$anonfun$mapPartitions$1$$anonfun$apply$23.apply(RDD.scala:801)\r\n\tat org.apache.spark.rdd.MapPartitionsRDD.compute(MapPartitionsRDD.scala:49)\r\n\tat org.apache.spark.rdd.RDD.computeOrReadCheckpoint(RDD.scala:324)\r\n\tat org.apache.spark.rdd.RDD.iterator(RDD.scala:288)\r\n\tat org.apache.spark.scheduler.ResultTask.runTask(ResultTask.scala:87)\r\n\tat org.apache.spark.scheduler.Task.run(Task.scala:109)\r\n\tat org.apache.spark.executor.Executor$TaskRunner.run(Executor.scala:345)\r\n\tat java.util.concurrent.ThreadPoolExecutor.runWorker(Unknown Source)\r\n\tat java.util.concurrent.ThreadPoolExecutor$Worker.run(Unknown Source)\r\n\t... 1 more\r\nCaused by: org.apache.spark.SparkException: Values to assemble cannot be null.\r\n\tat org.apache.spark.ml.feature.VectorAssembler$$anonfun$assemble$1.apply(VectorAssembler.scala:163)\r\n\tat org.apache.spark.ml.feature.VectorAssembler$$anonfun$assemble$1.apply(VectorAssembler.scala:146)\r\n\tat scala.collection.IndexedSeqOptimized$class.foreach(IndexedSeqOptimized.scala:33)\r\n\tat scala.collection.mutable.WrappedArray.foreach(WrappedArray.scala:35)\r\n\tat org.apache.spark.ml.feature.VectorAssembler$.assemble(VectorAssembler.scala:146)\r\n\tat org.apache.spark.ml.feature.VectorAssembler$$anonfun$3.apply(VectorAssembler.scala:99)\r\n\tat org.apache.spark.ml.feature.VectorAssembler$$anonfun$3.apply(VectorAssembler.scala:98)\r\n\t... 27 more\r\n"
     ]
    }
   ],
   "source": [
    "from pyspark.ml.feature import PCA\n",
    "from pyspark.ml.linalg import Vectors\n",
    "pca = PCA(k=6, inputCol=\"features\", outputCol=\"pca_features\")\n",
    "model = pca.fit(test)\n",
    "testdefin=model.transform(test)\n",
    "testdefin.collect()[0].pca_features"
   ]
  },
  {
   "cell_type": "code",
   "execution_count": 102,
   "metadata": {},
   "outputs": [
    {
     "data": {
      "text/plain": [
       "[Row(Unnamed: 0=74, date_time=datetime.datetime(2013, 2, 15, 13, 18, 43), site_name=2, posa_continent=3, user_location_country=66, user_location_region=462, user_location_city=41898, orig_destination_distance=2716.6746, user_id=1482, is_mobile=0, is_package=0, channel=1, srch_adults_cnt=2, srch_children_cnt=0, srch_rm_cnt=1.0, srch_destination_id=8857.0, srch_destination_type_id=1.0, is_booking=0.0, cnt=1.0, hotel_continent=2.0, hotel_country=50.0, hotel_market=214.0, hotel_cluster=28.0, date=datetime.datetime(2013, 2, 15, 0, 0), month-year='2013-02', month=2, year=2013, periodo=4, Categoría=4, discretized=5.0, discretizedINDEX=3.0, discretizedVEC=SparseVector(19, {5: 1.0}), features=SparseVector(44, {0: 2.0, 1: 3.0, 2: 66.0, 3: 462.0, 4: 41898.0, 5: 2716.6746, 6: 1482.0, 9: 1.0, 10: 2.0, 12: 1.0, 13: 8857.0, 14: 1.0, 16: 1.0, 17: 2.0, 18: 50.0, 19: 28.0, 20: 214.0, 21: 2.0, 22: 2013.0, 23: 4.0, 24: 4.0, 30: 1.0}), rawPrediction=DenseVector([0.0, 0.0945, 0.0, 2.3039, 0.0, 0.0865, 0.1787, 0.1177, 0.0848, 0.285, 0.2864, 0.2037, 0.1714, 0.2848, 0.0842, 0.1676, 0.1727, 0.242, 0.1641, 0.072]), probability=DenseVector([0.0, 0.0189, 0.0, 0.4608, 0.0, 0.0173, 0.0357, 0.0235, 0.017, 0.057, 0.0573, 0.0407, 0.0343, 0.057, 0.0168, 0.0335, 0.0345, 0.0484, 0.0328, 0.0144]), prediction=3.0, pca_features=DenseVector([-1488.2403, -41831.8193, -9117.0793, -2874.553, 221.2082, -423.438]))]"
      ]
     },
     "execution_count": 102,
     "metadata": {},
     "output_type": "execute_result"
    }
   ],
   "source": [
    "testdefin.take(1)"
   ]
  },
  {
   "cell_type": "markdown",
   "metadata": {},
   "source": [
    "Eliminamos aquellas columnas ya testeadas y entrenadas con el objetivo de crear un data set sin entrenar pero con las pcaFEATURES definidas."
   ]
  },
  {
   "cell_type": "code",
   "execution_count": 104,
   "metadata": {},
   "outputs": [],
   "source": [
    "columns_to_drop = ['prediction', 'probability','rawPrediction','features','discretizedVEC','discretizedINDEX']\n",
    "dfinitivo = testdefin.drop(*columns_to_drop)"
   ]
  },
  {
   "cell_type": "code",
   "execution_count": 105,
   "metadata": {},
   "outputs": [
    {
     "data": {
      "text/plain": [
       "[Row(Unnamed: 0=74, date_time=datetime.datetime(2013, 2, 15, 13, 18, 43), site_name=2, posa_continent=3, user_location_country=66, user_location_region=462, user_location_city=41898, orig_destination_distance=2716.6746, user_id=1482, is_mobile=0, is_package=0, channel=1, srch_adults_cnt=2, srch_children_cnt=0, srch_rm_cnt=1.0, srch_destination_id=8857.0, srch_destination_type_id=1.0, is_booking=0.0, cnt=1.0, hotel_continent=2.0, hotel_country=50.0, hotel_market=214.0, hotel_cluster=28.0, date=datetime.datetime(2013, 2, 15, 0, 0), month-year='2013-02', month=2, year=2013, periodo=4, Categoría=4, discretized=5.0, pca_features=DenseVector([-1488.2403, -41831.8193, -9117.0793, -2874.553, 221.2082, -423.438]))]"
      ]
     },
     "execution_count": 105,
     "metadata": {},
     "output_type": "execute_result"
    }
   ],
   "source": [
    "dfinitivo.take(1)"
   ]
  },
  {
   "cell_type": "markdown",
   "metadata": {},
   "source": [
    "Volvemos a entrenar está vez escogiendo y teniendo en cuenta solo las PCAfeatures:"
   ]
  },
  {
   "cell_type": "code",
   "execution_count": 106,
   "metadata": {},
   "outputs": [],
   "source": [
    "from pyspark.ml.feature import StringIndexer\n",
    "indexer = StringIndexer(inputCol=\"discretized\", outputCol=\"discretizedINDEX1\").fit(dfinitivo)"
   ]
  },
  {
   "cell_type": "code",
   "execution_count": 107,
   "metadata": {},
   "outputs": [],
   "source": [
    "encoder1 = ft.OneHotEncoder(\n",
    "    inputCol='discretized', \n",
    "    outputCol='discretizedVEC1')"
   ]
  },
  {
   "cell_type": "code",
   "execution_count": 108,
   "metadata": {},
   "outputs": [],
   "source": [
    "assembler3 = VectorAssembler(\n",
    "    inputCols=['pca_features'] + \\\n",
    "    [encoder1.getOutputCol()],\n",
    "   #,' [encoder2.getOutputCol()],\n",
    "  #,'  [encoder3.getOutputCol()],\n",
    "    outputCol=\"features\")\n",
    "#,'user_id','is_mobile','is_package','channel','srch_adults_cnt','srch_children_cnt','srch_rm_cnt','srch_destination_id','srch_destination_type_id','is_booking','cnt','hotel_continent','hotel_country','hotel_market','hotel_cluster','periodo', 'Categoría'\n",
    "#,'user_id','is_mobile','is_package','channel','srch_adults_cnt','srch_children_cnt','srch_rm_cnt','srch_destination_id','srch_destination_type_id','is_booking','cnt','hotel_continent','hotel_country','hotel_market','hotel_cluster','periodo', 'Categoría'\n"
   ]
  },
  {
   "cell_type": "code",
   "execution_count": 109,
   "metadata": {},
   "outputs": [],
   "source": [
    "df_train, df_test = dfinitivo \\\n",
    "    .randomSplit([0.7, 0.3], seed=666)"
   ]
  },
  {
   "cell_type": "code",
   "execution_count": 110,
   "metadata": {},
   "outputs": [],
   "source": [
    "classifier = cl.RandomForestClassifier(\n",
    "    numTrees=5, \n",
    "    maxDepth=8, \n",
    "    labelCol='discretizedINDEX1')\n",
    "\n",
    "#indexer = StringIndexer(inputCol=\"INFANT_ALIVE_AT_REPORT\", outputCol=\"INFANT_ALIVE_AT_REPORT_indexer\").fit(birthsDF)\n",
    "\n",
    "pipeline = Pipeline(\n",
    "    stages=[\n",
    "        indexer,\n",
    "        encoder1,\n",
    "        assembler3, \n",
    "        classifier])\n",
    "\n",
    "model = pipeline.fit(df_train)\n",
    "test = model.transform(df_test)"
   ]
  },
  {
   "cell_type": "code",
   "execution_count": 112,
   "metadata": {},
   "outputs": [
    {
     "name": "stdout",
     "output_type": "stream",
     "text": [
      "0.30219753913917746\n",
      "0.929264319672691\n"
     ]
    }
   ],
   "source": [
    "import pyspark.ml.evaluation as ev\n",
    "\n",
    "evaluator = ev.BinaryClassificationEvaluator(\n",
    "    rawPredictionCol='probability', \n",
    "    labelCol='discretizedINDEX1')\n",
    "\n",
    "print(evaluator.evaluate(test, \n",
    "     {evaluator.metricName: 'areaUnderROC'}))\n",
    "print(evaluator.evaluate(test, {evaluator.metricName: 'areaUnderPR'}))\n"
   ]
  },
  {
   "cell_type": "code",
   "execution_count": 113,
   "metadata": {},
   "outputs": [
    {
     "name": "stdout",
     "output_type": "stream",
     "text": [
      "              precision    recall  f1-score   support\n",
      "\n",
      "         0.0       0.27      1.00      0.43      1413\n",
      "         1.0       1.00      1.00      1.00      1267\n",
      "         2.0       1.00      1.00      1.00      1231\n",
      "         3.0       1.00      1.00      1.00      1195\n",
      "         4.0       1.00      1.00      1.00      1178\n",
      "         5.0       1.00      1.00      1.00      1145\n",
      "         6.0       1.00      1.00      1.00      1123\n",
      "         7.0       1.00      1.00      1.00      1127\n",
      "         8.0       1.00      1.00      1.00      1134\n",
      "         9.0       1.00      1.00      1.00      1177\n",
      "        10.0       1.00      1.00      1.00      1152\n",
      "        11.0       1.00      1.00      1.00      1127\n",
      "        12.0       1.00      1.00      1.00      1087\n",
      "        13.0       1.00      1.00      1.00      1117\n",
      "        14.0       0.00      0.00      0.00      1079\n",
      "        15.0       1.00      1.00      1.00      1087\n",
      "        16.0       0.00      0.00      0.00       947\n",
      "        17.0       1.00      1.00      1.00       922\n",
      "        18.0       0.00      0.00      0.00       909\n",
      "        19.0       0.00      0.00      0.00       883\n",
      "\n",
      "    accuracy                           0.83     22300\n",
      "   macro avg       0.76      0.80      0.77     22300\n",
      "weighted avg       0.78      0.83      0.79     22300\n",
      "\n"
     ]
    }
   ],
   "source": [
    "y_true = test.select(['discretizedINDEX1']).collect()\n",
    "y_pred = test.select(['prediction']).collect()\n",
    "\n",
    "from sklearn.metrics import classification_report, confusion_matrix\n",
    "print(classification_report(y_true, y_pred))\n",
    "\n",
    "#al tener valores que no se pueden predecir salta un error y mirando en mil foros esta es la manera que he encontrado para representar el recall y la precision\n"
   ]
  },
  {
   "cell_type": "markdown",
   "metadata": {},
   "source": [
    "Los resultados arrojados bajan un poco los resultados anteriores en cuanto a la evaluación"
   ]
  },
  {
   "cell_type": "markdown",
   "metadata": {},
   "source": [
    "Aquí vemos que nos salen los mismos resultados que antes desgranandolas una a una y sumandolas al final. Sale tan pequeña porque se le asocia a 0 y 0 aquellos valores que no han sido el resultado de una prediccion, ejemplo ninguna reserva se le ha asocido el valor 99, y por tanto el recall y la precision se pone un 0 y un 0. Estos valores influyen mucho en la preciosion y recall final. Una primera idea para solucionar este es categorizar a un más la variable que queremos predecir para que en vez de tener 99 variables distintas tenga un tercio y puedan usarse todos los valores de salida como predicción. Ejemplo categorizamos los parecidos y si del 90 al 99 son similares los agrupamos en la misma categoria para que los valores que no se han podido usar en predicciones como es el 98 o 99, no se queden vacios sin ser predichos. Este proceso de categorización se hace usando transformadores. Siguiendo esto, también podemos aplicar el PCA para mejorar los resultados."
   ]
  },
  {
   "cell_type": "markdown",
   "metadata": {},
   "source": [
    "#Aqui se acaba el notebook#"
   ]
  },
  {
   "cell_type": "code",
   "execution_count": null,
   "metadata": {},
   "outputs": [],
   "source": []
  },
  {
   "cell_type": "code",
   "execution_count": null,
   "metadata": {},
   "outputs": [],
   "source": []
  },
  {
   "cell_type": "code",
   "execution_count": 150,
   "metadata": {},
   "outputs": [],
   "source": [
    "df_train, df_test = myDataDefin2 \\\n",
    "    .randomSplit([0.7, 0.3], seed=666)\n",
    "#You need to make sure there are no missing values in your data -- that's why you get the NullPointerException. Also, make sure that all your input features to the VectorAssembler are numeric."
   ]
  },
  {
   "cell_type": "code",
   "execution_count": 151,
   "metadata": {},
   "outputs": [],
   "source": [
    "from pyspark.ml.feature import StringIndexer\n",
    "indexer = StringIndexer(inputCol=\"hotel_cluster\", outputCol=\"hotel_clusterINDEX\").fit(myDataDefin2)\n"
   ]
  },
  {
   "cell_type": "code",
   "execution_count": 152,
   "metadata": {},
   "outputs": [],
   "source": [
    "assembler2 = VectorAssembler(\n",
    "    inputCols=['site_name','posa_continent','user_location_country','user_location_region','user_location_city','orig_destination_distance','user_id','is_mobile','is_package','channel','srch_adults_cnt','srch_children_cnt','srch_rm_cnt','srch_destination_id','srch_destination_type_id','is_booking','cnt','hotel_continent','hotel_country','hotel_market','month','year','periodo', 'Categoría'] + \\\n",
    "    [encoder1.getOutputCol()],\n",
    "   #,' [encoder2.getOutputCol()],\n",
    "  #,'  [encoder3.getOutputCol()],\n",
    "    outputCol=\"features\")"
   ]
  },
  {
   "cell_type": "code",
   "execution_count": 157,
   "metadata": {},
   "outputs": [
    {
     "data": {
      "text/plain": [
       "DenseVector([-1491.4925, -41781.8224])"
      ]
     },
     "execution_count": 157,
     "metadata": {},
     "output_type": "execute_result"
    }
   ],
   "source": [
    "from pyspark.ml.feature import PCA\n",
    "from pyspark.ml.linalg import Vectors\n",
    "pca = PCA(k=2, inputCol=\"features\", outputCol=\"pca_features\")\n",
    "model = pca.fit(test)\n",
    "model.transform(test).collect()[0].pca_features"
   ]
  },
  {
   "cell_type": "code",
   "execution_count": null,
   "metadata": {},
   "outputs": [],
   "source": [
    "classifier = cl.RandomForestClassifier(\n",
    "    numTrees=5, \n",
    "    maxDepth=8, \n",
    "    labelCol='hotel_clusterINDEX')\n",
    "\n",
    "#indexer = StringIndexer(inputCol=\"INFANT_ALIVE_AT_REPORT\", outputCol=\"INFANT_ALIVE_AT_REPORT_indexer\").fit(birthsDF)\n",
    "\n",
    "pipeline = Pipeline(\n",
    "    stages=[\n",
    "        indexer,\n",
    "        encoder1,\n",
    "        assembler2, \n",
    "        classifier])\n",
    "\n",
    "model = pipeline.fit(df_train)\n",
    "test = model.transform(df_test)"
   ]
  },
  {
   "cell_type": "code",
   "execution_count": null,
   "metadata": {},
   "outputs": [],
   "source": [
    "from pyspark.ml.feature import ChiSqSelector\n",
    "from pyspark.ml.linalg import Vectors\n",
    "\n",
    "\n",
    "    selector = ChiSqSelector(numTopFeatures=1, featuresCol=\"features\",\n",
    "                             outputCol=\"selectedFeatures\", labelCol=\"clicked\")\n",
    "\n",
    "    result = selector.fit(df).transform(df)\n",
    "\n",
    "    print(\"ChiSqSelector output with top %d features selected\" % selector.getNumTopFeatures())\n",
    "    result.show()\n"
   ]
  },
  {
   "cell_type": "code",
   "execution_count": null,
   "metadata": {},
   "outputs": [],
   "source": []
  },
  {
   "cell_type": "code",
   "execution_count": null,
   "metadata": {},
   "outputs": [],
   "source": []
  },
  {
   "cell_type": "code",
   "execution_count": null,
   "metadata": {},
   "outputs": [],
   "source": [
    "from pyspark.ml.feature import ChiSqSelector\n",
    "from pyspark.ml.linalg import Vectors\n",
    "\n",
    "\n",
    "    selector = ChiSqSelector(numTopFeatures=1, featuresCol=\"features\",\n",
    "                             outputCol=\"selectedFeatures\", labelCol=\"clicked\")\n",
    "\n",
    "    result = selector.fit(df).transform(df)\n",
    "\n",
    "    print(\"ChiSqSelector output with top %d features selected\" % selector.getNumTopFeatures())\n",
    "    result.show()\n"
   ]
  },
  {
   "cell_type": "code",
   "execution_count": 124,
   "metadata": {},
   "outputs": [
    {
     "name": "stdout",
     "output_type": "stream",
     "text": [
      "Test Error = 0.662186\n",
      "VectorAssembler_40c2a75ed13c6603a897\n"
     ]
    }
   ],
   "source": [
    "#predictions.select(\"predictedLabel\", \"label\", \"features\").show(5)\n",
    "from pyspark.ml.evaluation import MulticlassClassificationEvaluator\n",
    "# Select (prediction, true label) and compute test error\n",
    "evaluator = MulticlassClassificationEvaluator(\n",
    "    labelCol=\"hotel_clusterINDEX\", predictionCol=\"prediction\", metricName=\"accuracy\")\n",
    "accuracy = evaluator.evaluate(test)\n",
    "print(\"Test Error = %g\" % (1.0 - accuracy))\n",
    "\n",
    "rfModel = model.stages[2]\n",
    "print(rfModel)  # summary only"
   ]
  },
  {
   "cell_type": "code",
   "execution_count": 117,
   "metadata": {},
   "outputs": [
    {
     "ename": "Py4JJavaError",
     "evalue": "An error occurred while calling o7247.confusionMatrix.\n: org.apache.spark.SparkException: Job aborted due to stage failure: Task 1 in stage 9007.0 failed 1 times, most recent failure: Lost task 1.0 in stage 9007.0 (TID 25649, localhost, executor driver): org.apache.spark.api.python.PythonException: Traceback (most recent call last):\n  File \"C:\\spark\\spark-2.3.3-bin-hadoop2.7\\python\\lib\\pyspark.zip\\pyspark\\worker.py\", line 238, in main\n  File \"C:\\spark\\spark-2.3.3-bin-hadoop2.7\\python\\lib\\pyspark.zip\\pyspark\\serializers.py\", line 690, in read_int\n    length = stream.read(4)\n  File \"C:\\Users\\javie\\Anaconda3\\lib\\socket.py\", line 589, in readinto\n    return self._sock.recv_into(b)\nsocket.timeout: timed out\n\r\n\tat org.apache.spark.api.python.BasePythonRunner$ReaderIterator.handlePythonException(PythonRunner.scala:332)\r\n\tat org.apache.spark.api.python.PythonRunner$$anon$1.read(PythonRunner.scala:471)\r\n\tat org.apache.spark.api.python.PythonRunner$$anon$1.read(PythonRunner.scala:454)\r\n\tat org.apache.spark.api.python.BasePythonRunner$ReaderIterator.hasNext(PythonRunner.scala:286)\r\n\tat org.apache.spark.InterruptibleIterator.hasNext(InterruptibleIterator.scala:37)\r\n\tat scala.collection.Iterator$$anon$12.hasNext(Iterator.scala:439)\r\n\tat scala.collection.Iterator$$anon$11.hasNext(Iterator.scala:408)\r\n\tat scala.collection.Iterator$$anon$11.hasNext(Iterator.scala:408)\r\n\tat scala.collection.Iterator$$anon$11.hasNext(Iterator.scala:408)\r\n\tat scala.collection.Iterator$$anon$11.hasNext(Iterator.scala:408)\r\n\tat scala.collection.Iterator$$anon$11.hasNext(Iterator.scala:408)\r\n\tat scala.collection.Iterator$$anon$11.hasNext(Iterator.scala:408)\r\n\tat scala.collection.Iterator$$anon$11.hasNext(Iterator.scala:408)\r\n\tat org.apache.spark.util.collection.ExternalSorter.insertAll(ExternalSorter.scala:191)\r\n\tat org.apache.spark.shuffle.sort.SortShuffleWriter.write(SortShuffleWriter.scala:63)\r\n\tat org.apache.spark.scheduler.ShuffleMapTask.runTask(ShuffleMapTask.scala:96)\r\n\tat org.apache.spark.scheduler.ShuffleMapTask.runTask(ShuffleMapTask.scala:53)\r\n\tat org.apache.spark.scheduler.Task.run(Task.scala:109)\r\n\tat org.apache.spark.executor.Executor$TaskRunner.run(Executor.scala:345)\r\n\tat java.util.concurrent.ThreadPoolExecutor.runWorker(Unknown Source)\r\n\tat java.util.concurrent.ThreadPoolExecutor$Worker.run(Unknown Source)\r\n\tat java.lang.Thread.run(Unknown Source)\r\n\nDriver stacktrace:\r\n\tat org.apache.spark.scheduler.DAGScheduler.org$apache$spark$scheduler$DAGScheduler$$failJobAndIndependentStages(DAGScheduler.scala:1661)\r\n\tat org.apache.spark.scheduler.DAGScheduler$$anonfun$abortStage$1.apply(DAGScheduler.scala:1649)\r\n\tat org.apache.spark.scheduler.DAGScheduler$$anonfun$abortStage$1.apply(DAGScheduler.scala:1648)\r\n\tat scala.collection.mutable.ResizableArray$class.foreach(ResizableArray.scala:59)\r\n\tat scala.collection.mutable.ArrayBuffer.foreach(ArrayBuffer.scala:48)\r\n\tat org.apache.spark.scheduler.DAGScheduler.abortStage(DAGScheduler.scala:1648)\r\n\tat org.apache.spark.scheduler.DAGScheduler$$anonfun$handleTaskSetFailed$1.apply(DAGScheduler.scala:831)\r\n\tat org.apache.spark.scheduler.DAGScheduler$$anonfun$handleTaskSetFailed$1.apply(DAGScheduler.scala:831)\r\n\tat scala.Option.foreach(Option.scala:257)\r\n\tat org.apache.spark.scheduler.DAGScheduler.handleTaskSetFailed(DAGScheduler.scala:831)\r\n\tat org.apache.spark.scheduler.DAGSchedulerEventProcessLoop.doOnReceive(DAGScheduler.scala:1882)\r\n\tat org.apache.spark.scheduler.DAGSchedulerEventProcessLoop.onReceive(DAGScheduler.scala:1831)\r\n\tat org.apache.spark.scheduler.DAGSchedulerEventProcessLoop.onReceive(DAGScheduler.scala:1820)\r\n\tat org.apache.spark.util.EventLoop$$anon$1.run(EventLoop.scala:48)\r\n\tat org.apache.spark.scheduler.DAGScheduler.runJob(DAGScheduler.scala:642)\r\n\tat org.apache.spark.SparkContext.runJob(SparkContext.scala:2034)\r\n\tat org.apache.spark.SparkContext.runJob(SparkContext.scala:2055)\r\n\tat org.apache.spark.SparkContext.runJob(SparkContext.scala:2074)\r\n\tat org.apache.spark.SparkContext.runJob(SparkContext.scala:2099)\r\n\tat org.apache.spark.rdd.RDD$$anonfun$collect$1.apply(RDD.scala:945)\r\n\tat org.apache.spark.rdd.RDDOperationScope$.withScope(RDDOperationScope.scala:151)\r\n\tat org.apache.spark.rdd.RDDOperationScope$.withScope(RDDOperationScope.scala:112)\r\n\tat org.apache.spark.rdd.RDD.withScope(RDD.scala:363)\r\n\tat org.apache.spark.rdd.RDD.collect(RDD.scala:944)\r\n\tat org.apache.spark.rdd.PairRDDFunctions$$anonfun$collectAsMap$1.apply(PairRDDFunctions.scala:743)\r\n\tat org.apache.spark.rdd.PairRDDFunctions$$anonfun$collectAsMap$1.apply(PairRDDFunctions.scala:742)\r\n\tat org.apache.spark.rdd.RDDOperationScope$.withScope(RDDOperationScope.scala:151)\r\n\tat org.apache.spark.rdd.RDDOperationScope$.withScope(RDDOperationScope.scala:112)\r\n\tat org.apache.spark.rdd.RDD.withScope(RDD.scala:363)\r\n\tat org.apache.spark.rdd.PairRDDFunctions.collectAsMap(PairRDDFunctions.scala:742)\r\n\tat org.apache.spark.mllib.evaluation.MulticlassMetrics.tpByClass$lzycompute(MulticlassMetrics.scala:48)\r\n\tat org.apache.spark.mllib.evaluation.MulticlassMetrics.tpByClass(MulticlassMetrics.scala:44)\r\n\tat org.apache.spark.mllib.evaluation.MulticlassMetrics.labels$lzycompute(MulticlassMetrics.scala:223)\r\n\tat org.apache.spark.mllib.evaluation.MulticlassMetrics.labels(MulticlassMetrics.scala:223)\r\n\tat org.apache.spark.mllib.evaluation.MulticlassMetrics.confusionMatrix(MulticlassMetrics.scala:68)\r\n\tat sun.reflect.NativeMethodAccessorImpl.invoke0(Native Method)\r\n\tat sun.reflect.NativeMethodAccessorImpl.invoke(Unknown Source)\r\n\tat sun.reflect.DelegatingMethodAccessorImpl.invoke(Unknown Source)\r\n\tat java.lang.reflect.Method.invoke(Unknown Source)\r\n\tat py4j.reflection.MethodInvoker.invoke(MethodInvoker.java:244)\r\n\tat py4j.reflection.ReflectionEngine.invoke(ReflectionEngine.java:357)\r\n\tat py4j.Gateway.invoke(Gateway.java:282)\r\n\tat py4j.commands.AbstractCommand.invokeMethod(AbstractCommand.java:132)\r\n\tat py4j.commands.CallCommand.execute(CallCommand.java:79)\r\n\tat py4j.GatewayConnection.run(GatewayConnection.java:238)\r\n\tat java.lang.Thread.run(Unknown Source)\r\nCaused by: org.apache.spark.api.python.PythonException: Traceback (most recent call last):\n  File \"C:\\spark\\spark-2.3.3-bin-hadoop2.7\\python\\lib\\pyspark.zip\\pyspark\\worker.py\", line 238, in main\n  File \"C:\\spark\\spark-2.3.3-bin-hadoop2.7\\python\\lib\\pyspark.zip\\pyspark\\serializers.py\", line 690, in read_int\n    length = stream.read(4)\n  File \"C:\\Users\\javie\\Anaconda3\\lib\\socket.py\", line 589, in readinto\n    return self._sock.recv_into(b)\nsocket.timeout: timed out\n\r\n\tat org.apache.spark.api.python.BasePythonRunner$ReaderIterator.handlePythonException(PythonRunner.scala:332)\r\n\tat org.apache.spark.api.python.PythonRunner$$anon$1.read(PythonRunner.scala:471)\r\n\tat org.apache.spark.api.python.PythonRunner$$anon$1.read(PythonRunner.scala:454)\r\n\tat org.apache.spark.api.python.BasePythonRunner$ReaderIterator.hasNext(PythonRunner.scala:286)\r\n\tat org.apache.spark.InterruptibleIterator.hasNext(InterruptibleIterator.scala:37)\r\n\tat scala.collection.Iterator$$anon$12.hasNext(Iterator.scala:439)\r\n\tat scala.collection.Iterator$$anon$11.hasNext(Iterator.scala:408)\r\n\tat scala.collection.Iterator$$anon$11.hasNext(Iterator.scala:408)\r\n\tat scala.collection.Iterator$$anon$11.hasNext(Iterator.scala:408)\r\n\tat scala.collection.Iterator$$anon$11.hasNext(Iterator.scala:408)\r\n\tat scala.collection.Iterator$$anon$11.hasNext(Iterator.scala:408)\r\n\tat scala.collection.Iterator$$anon$11.hasNext(Iterator.scala:408)\r\n\tat scala.collection.Iterator$$anon$11.hasNext(Iterator.scala:408)\r\n\tat org.apache.spark.util.collection.ExternalSorter.insertAll(ExternalSorter.scala:191)\r\n\tat org.apache.spark.shuffle.sort.SortShuffleWriter.write(SortShuffleWriter.scala:63)\r\n\tat org.apache.spark.scheduler.ShuffleMapTask.runTask(ShuffleMapTask.scala:96)\r\n\tat org.apache.spark.scheduler.ShuffleMapTask.runTask(ShuffleMapTask.scala:53)\r\n\tat org.apache.spark.scheduler.Task.run(Task.scala:109)\r\n\tat org.apache.spark.executor.Executor$TaskRunner.run(Executor.scala:345)\r\n\tat java.util.concurrent.ThreadPoolExecutor.runWorker(Unknown Source)\r\n\tat java.util.concurrent.ThreadPoolExecutor$Worker.run(Unknown Source)\r\n\t... 1 more\r\n",
     "output_type": "error",
     "traceback": [
      "\u001b[1;31m---------------------------------------------------------------------------\u001b[0m",
      "\u001b[1;31mPy4JJavaError\u001b[0m                             Traceback (most recent call last)",
      "\u001b[1;32m<ipython-input-117-3b4ed7d07e66>\u001b[0m in \u001b[0;36m<module>\u001b[1;34m\u001b[0m\n\u001b[0;32m      8\u001b[0m \u001b[0mmetrics\u001b[0m \u001b[1;33m=\u001b[0m \u001b[0mMulticlassMetrics\u001b[0m\u001b[1;33m(\u001b[0m\u001b[0mpredictionAndLabels\u001b[0m\u001b[1;33m)\u001b[0m\u001b[1;33m\u001b[0m\u001b[1;33m\u001b[0m\u001b[0m\n\u001b[0;32m      9\u001b[0m \u001b[1;33m\u001b[0m\u001b[0m\n\u001b[1;32m---> 10\u001b[1;33m \u001b[0mcm\u001b[0m\u001b[1;33m=\u001b[0m\u001b[0mmetrics\u001b[0m\u001b[1;33m.\u001b[0m\u001b[0mconfusionMatrix\u001b[0m\u001b[1;33m(\u001b[0m\u001b[1;33m)\u001b[0m\u001b[1;33m.\u001b[0m\u001b[0mtoArray\u001b[0m\u001b[1;33m(\u001b[0m\u001b[1;33m)\u001b[0m\u001b[1;33m\u001b[0m\u001b[1;33m\u001b[0m\u001b[0m\n\u001b[0m\u001b[0;32m     11\u001b[0m \u001b[0maccuracy\u001b[0m\u001b[1;33m=\u001b[0m\u001b[1;33m(\u001b[0m\u001b[0mcm\u001b[0m\u001b[1;33m[\u001b[0m\u001b[1;36m0\u001b[0m\u001b[1;33m]\u001b[0m\u001b[1;33m[\u001b[0m\u001b[1;36m0\u001b[0m\u001b[1;33m]\u001b[0m\u001b[1;33m+\u001b[0m\u001b[0mcm\u001b[0m\u001b[1;33m[\u001b[0m\u001b[1;36m1\u001b[0m\u001b[1;33m]\u001b[0m\u001b[1;33m[\u001b[0m\u001b[1;36m1\u001b[0m\u001b[1;33m]\u001b[0m\u001b[1;33m)\u001b[0m\u001b[1;33m/\u001b[0m\u001b[0mcm\u001b[0m\u001b[1;33m.\u001b[0m\u001b[0msum\u001b[0m\u001b[1;33m(\u001b[0m\u001b[1;33m)\u001b[0m\u001b[1;33m\u001b[0m\u001b[1;33m\u001b[0m\u001b[0m\n\u001b[0;32m     12\u001b[0m \u001b[0mprecision\u001b[0m\u001b[1;33m=\u001b[0m\u001b[1;33m(\u001b[0m\u001b[0mcm\u001b[0m\u001b[1;33m[\u001b[0m\u001b[1;36m0\u001b[0m\u001b[1;33m]\u001b[0m\u001b[1;33m[\u001b[0m\u001b[1;36m0\u001b[0m\u001b[1;33m]\u001b[0m\u001b[1;33m)\u001b[0m\u001b[1;33m/\u001b[0m\u001b[1;33m(\u001b[0m\u001b[0mcm\u001b[0m\u001b[1;33m[\u001b[0m\u001b[1;36m0\u001b[0m\u001b[1;33m]\u001b[0m\u001b[1;33m[\u001b[0m\u001b[1;36m0\u001b[0m\u001b[1;33m]\u001b[0m\u001b[1;33m+\u001b[0m\u001b[0mcm\u001b[0m\u001b[1;33m[\u001b[0m\u001b[1;36m1\u001b[0m\u001b[1;33m]\u001b[0m\u001b[1;33m[\u001b[0m\u001b[1;36m0\u001b[0m\u001b[1;33m]\u001b[0m\u001b[1;33m)\u001b[0m\u001b[1;33m\u001b[0m\u001b[1;33m\u001b[0m\u001b[0m\n",
      "\u001b[1;32mC:\\spark\\spark-2.3.3-bin-hadoop2.7\\python\\pyspark\\mllib\\evaluation.py\u001b[0m in \u001b[0;36mconfusionMatrix\u001b[1;34m(self)\u001b[0m\n\u001b[0;32m    212\u001b[0m         \u001b[0mthey\u001b[0m \u001b[0mare\u001b[0m \u001b[0mordered\u001b[0m \u001b[0mby\u001b[0m \u001b[1;32mclass\u001b[0m \u001b[0mlabel\u001b[0m \u001b[0mascending\u001b[0m\u001b[1;33m,\u001b[0m \u001b[1;32mas\u001b[0m \u001b[1;32min\u001b[0m \u001b[1;34m\"labels\"\u001b[0m\u001b[1;33m.\u001b[0m\u001b[1;33m\u001b[0m\u001b[1;33m\u001b[0m\u001b[0m\n\u001b[0;32m    213\u001b[0m         \"\"\"\n\u001b[1;32m--> 214\u001b[1;33m         \u001b[1;32mreturn\u001b[0m \u001b[0mself\u001b[0m\u001b[1;33m.\u001b[0m\u001b[0mcall\u001b[0m\u001b[1;33m(\u001b[0m\u001b[1;34m\"confusionMatrix\"\u001b[0m\u001b[1;33m)\u001b[0m\u001b[1;33m\u001b[0m\u001b[1;33m\u001b[0m\u001b[0m\n\u001b[0m\u001b[0;32m    215\u001b[0m \u001b[1;33m\u001b[0m\u001b[0m\n\u001b[0;32m    216\u001b[0m     \u001b[1;33m@\u001b[0m\u001b[0msince\u001b[0m\u001b[1;33m(\u001b[0m\u001b[1;34m'1.4.0'\u001b[0m\u001b[1;33m)\u001b[0m\u001b[1;33m\u001b[0m\u001b[1;33m\u001b[0m\u001b[0m\n",
      "\u001b[1;32mC:\\spark\\spark-2.3.3-bin-hadoop2.7\\python\\pyspark\\mllib\\common.py\u001b[0m in \u001b[0;36mcall\u001b[1;34m(self, name, *a)\u001b[0m\n\u001b[0;32m    144\u001b[0m     \u001b[1;32mdef\u001b[0m \u001b[0mcall\u001b[0m\u001b[1;33m(\u001b[0m\u001b[0mself\u001b[0m\u001b[1;33m,\u001b[0m \u001b[0mname\u001b[0m\u001b[1;33m,\u001b[0m \u001b[1;33m*\u001b[0m\u001b[0ma\u001b[0m\u001b[1;33m)\u001b[0m\u001b[1;33m:\u001b[0m\u001b[1;33m\u001b[0m\u001b[1;33m\u001b[0m\u001b[0m\n\u001b[0;32m    145\u001b[0m         \u001b[1;34m\"\"\"Call method of java_model\"\"\"\u001b[0m\u001b[1;33m\u001b[0m\u001b[1;33m\u001b[0m\u001b[0m\n\u001b[1;32m--> 146\u001b[1;33m         \u001b[1;32mreturn\u001b[0m \u001b[0mcallJavaFunc\u001b[0m\u001b[1;33m(\u001b[0m\u001b[0mself\u001b[0m\u001b[1;33m.\u001b[0m\u001b[0m_sc\u001b[0m\u001b[1;33m,\u001b[0m \u001b[0mgetattr\u001b[0m\u001b[1;33m(\u001b[0m\u001b[0mself\u001b[0m\u001b[1;33m.\u001b[0m\u001b[0m_java_model\u001b[0m\u001b[1;33m,\u001b[0m \u001b[0mname\u001b[0m\u001b[1;33m)\u001b[0m\u001b[1;33m,\u001b[0m \u001b[1;33m*\u001b[0m\u001b[0ma\u001b[0m\u001b[1;33m)\u001b[0m\u001b[1;33m\u001b[0m\u001b[1;33m\u001b[0m\u001b[0m\n\u001b[0m\u001b[0;32m    147\u001b[0m \u001b[1;33m\u001b[0m\u001b[0m\n\u001b[0;32m    148\u001b[0m \u001b[1;33m\u001b[0m\u001b[0m\n",
      "\u001b[1;32mC:\\spark\\spark-2.3.3-bin-hadoop2.7\\python\\pyspark\\mllib\\common.py\u001b[0m in \u001b[0;36mcallJavaFunc\u001b[1;34m(sc, func, *args)\u001b[0m\n\u001b[0;32m    121\u001b[0m     \u001b[1;34m\"\"\" Call Java Function \"\"\"\u001b[0m\u001b[1;33m\u001b[0m\u001b[1;33m\u001b[0m\u001b[0m\n\u001b[0;32m    122\u001b[0m     \u001b[0margs\u001b[0m \u001b[1;33m=\u001b[0m \u001b[1;33m[\u001b[0m\u001b[0m_py2java\u001b[0m\u001b[1;33m(\u001b[0m\u001b[0msc\u001b[0m\u001b[1;33m,\u001b[0m \u001b[0ma\u001b[0m\u001b[1;33m)\u001b[0m \u001b[1;32mfor\u001b[0m \u001b[0ma\u001b[0m \u001b[1;32min\u001b[0m \u001b[0margs\u001b[0m\u001b[1;33m]\u001b[0m\u001b[1;33m\u001b[0m\u001b[1;33m\u001b[0m\u001b[0m\n\u001b[1;32m--> 123\u001b[1;33m     \u001b[1;32mreturn\u001b[0m \u001b[0m_java2py\u001b[0m\u001b[1;33m(\u001b[0m\u001b[0msc\u001b[0m\u001b[1;33m,\u001b[0m \u001b[0mfunc\u001b[0m\u001b[1;33m(\u001b[0m\u001b[1;33m*\u001b[0m\u001b[0margs\u001b[0m\u001b[1;33m)\u001b[0m\u001b[1;33m)\u001b[0m\u001b[1;33m\u001b[0m\u001b[1;33m\u001b[0m\u001b[0m\n\u001b[0m\u001b[0;32m    124\u001b[0m \u001b[1;33m\u001b[0m\u001b[0m\n\u001b[0;32m    125\u001b[0m \u001b[1;33m\u001b[0m\u001b[0m\n",
      "\u001b[1;32mC:\\spark\\spark-2.3.3-bin-hadoop2.7\\python\\lib\\py4j-0.10.7-src.zip\\py4j\\java_gateway.py\u001b[0m in \u001b[0;36m__call__\u001b[1;34m(self, *args)\u001b[0m\n\u001b[0;32m   1255\u001b[0m         \u001b[0manswer\u001b[0m \u001b[1;33m=\u001b[0m \u001b[0mself\u001b[0m\u001b[1;33m.\u001b[0m\u001b[0mgateway_client\u001b[0m\u001b[1;33m.\u001b[0m\u001b[0msend_command\u001b[0m\u001b[1;33m(\u001b[0m\u001b[0mcommand\u001b[0m\u001b[1;33m)\u001b[0m\u001b[1;33m\u001b[0m\u001b[1;33m\u001b[0m\u001b[0m\n\u001b[0;32m   1256\u001b[0m         return_value = get_return_value(\n\u001b[1;32m-> 1257\u001b[1;33m             answer, self.gateway_client, self.target_id, self.name)\n\u001b[0m\u001b[0;32m   1258\u001b[0m \u001b[1;33m\u001b[0m\u001b[0m\n\u001b[0;32m   1259\u001b[0m         \u001b[1;32mfor\u001b[0m \u001b[0mtemp_arg\u001b[0m \u001b[1;32min\u001b[0m \u001b[0mtemp_args\u001b[0m\u001b[1;33m:\u001b[0m\u001b[1;33m\u001b[0m\u001b[1;33m\u001b[0m\u001b[0m\n",
      "\u001b[1;32mC:\\spark\\spark-2.3.3-bin-hadoop2.7\\python\\pyspark\\sql\\utils.py\u001b[0m in \u001b[0;36mdeco\u001b[1;34m(*a, **kw)\u001b[0m\n\u001b[0;32m     61\u001b[0m     \u001b[1;32mdef\u001b[0m \u001b[0mdeco\u001b[0m\u001b[1;33m(\u001b[0m\u001b[1;33m*\u001b[0m\u001b[0ma\u001b[0m\u001b[1;33m,\u001b[0m \u001b[1;33m**\u001b[0m\u001b[0mkw\u001b[0m\u001b[1;33m)\u001b[0m\u001b[1;33m:\u001b[0m\u001b[1;33m\u001b[0m\u001b[1;33m\u001b[0m\u001b[0m\n\u001b[0;32m     62\u001b[0m         \u001b[1;32mtry\u001b[0m\u001b[1;33m:\u001b[0m\u001b[1;33m\u001b[0m\u001b[1;33m\u001b[0m\u001b[0m\n\u001b[1;32m---> 63\u001b[1;33m             \u001b[1;32mreturn\u001b[0m \u001b[0mf\u001b[0m\u001b[1;33m(\u001b[0m\u001b[1;33m*\u001b[0m\u001b[0ma\u001b[0m\u001b[1;33m,\u001b[0m \u001b[1;33m**\u001b[0m\u001b[0mkw\u001b[0m\u001b[1;33m)\u001b[0m\u001b[1;33m\u001b[0m\u001b[1;33m\u001b[0m\u001b[0m\n\u001b[0m\u001b[0;32m     64\u001b[0m         \u001b[1;32mexcept\u001b[0m \u001b[0mpy4j\u001b[0m\u001b[1;33m.\u001b[0m\u001b[0mprotocol\u001b[0m\u001b[1;33m.\u001b[0m\u001b[0mPy4JJavaError\u001b[0m \u001b[1;32mas\u001b[0m \u001b[0me\u001b[0m\u001b[1;33m:\u001b[0m\u001b[1;33m\u001b[0m\u001b[1;33m\u001b[0m\u001b[0m\n\u001b[0;32m     65\u001b[0m             \u001b[0ms\u001b[0m \u001b[1;33m=\u001b[0m \u001b[0me\u001b[0m\u001b[1;33m.\u001b[0m\u001b[0mjava_exception\u001b[0m\u001b[1;33m.\u001b[0m\u001b[0mtoString\u001b[0m\u001b[1;33m(\u001b[0m\u001b[1;33m)\u001b[0m\u001b[1;33m\u001b[0m\u001b[1;33m\u001b[0m\u001b[0m\n",
      "\u001b[1;32mC:\\spark\\spark-2.3.3-bin-hadoop2.7\\python\\lib\\py4j-0.10.7-src.zip\\py4j\\protocol.py\u001b[0m in \u001b[0;36mget_return_value\u001b[1;34m(answer, gateway_client, target_id, name)\u001b[0m\n\u001b[0;32m    326\u001b[0m                 raise Py4JJavaError(\n\u001b[0;32m    327\u001b[0m                     \u001b[1;34m\"An error occurred while calling {0}{1}{2}.\\n\"\u001b[0m\u001b[1;33m.\u001b[0m\u001b[1;33m\u001b[0m\u001b[1;33m\u001b[0m\u001b[0m\n\u001b[1;32m--> 328\u001b[1;33m                     format(target_id, \".\", name), value)\n\u001b[0m\u001b[0;32m    329\u001b[0m             \u001b[1;32melse\u001b[0m\u001b[1;33m:\u001b[0m\u001b[1;33m\u001b[0m\u001b[1;33m\u001b[0m\u001b[0m\n\u001b[0;32m    330\u001b[0m                 raise Py4JError(\n",
      "\u001b[1;31mPy4JJavaError\u001b[0m: An error occurred while calling o7247.confusionMatrix.\n: org.apache.spark.SparkException: Job aborted due to stage failure: Task 1 in stage 9007.0 failed 1 times, most recent failure: Lost task 1.0 in stage 9007.0 (TID 25649, localhost, executor driver): org.apache.spark.api.python.PythonException: Traceback (most recent call last):\n  File \"C:\\spark\\spark-2.3.3-bin-hadoop2.7\\python\\lib\\pyspark.zip\\pyspark\\worker.py\", line 238, in main\n  File \"C:\\spark\\spark-2.3.3-bin-hadoop2.7\\python\\lib\\pyspark.zip\\pyspark\\serializers.py\", line 690, in read_int\n    length = stream.read(4)\n  File \"C:\\Users\\javie\\Anaconda3\\lib\\socket.py\", line 589, in readinto\n    return self._sock.recv_into(b)\nsocket.timeout: timed out\n\r\n\tat org.apache.spark.api.python.BasePythonRunner$ReaderIterator.handlePythonException(PythonRunner.scala:332)\r\n\tat org.apache.spark.api.python.PythonRunner$$anon$1.read(PythonRunner.scala:471)\r\n\tat org.apache.spark.api.python.PythonRunner$$anon$1.read(PythonRunner.scala:454)\r\n\tat org.apache.spark.api.python.BasePythonRunner$ReaderIterator.hasNext(PythonRunner.scala:286)\r\n\tat org.apache.spark.InterruptibleIterator.hasNext(InterruptibleIterator.scala:37)\r\n\tat scala.collection.Iterator$$anon$12.hasNext(Iterator.scala:439)\r\n\tat scala.collection.Iterator$$anon$11.hasNext(Iterator.scala:408)\r\n\tat scala.collection.Iterator$$anon$11.hasNext(Iterator.scala:408)\r\n\tat scala.collection.Iterator$$anon$11.hasNext(Iterator.scala:408)\r\n\tat scala.collection.Iterator$$anon$11.hasNext(Iterator.scala:408)\r\n\tat scala.collection.Iterator$$anon$11.hasNext(Iterator.scala:408)\r\n\tat scala.collection.Iterator$$anon$11.hasNext(Iterator.scala:408)\r\n\tat scala.collection.Iterator$$anon$11.hasNext(Iterator.scala:408)\r\n\tat org.apache.spark.util.collection.ExternalSorter.insertAll(ExternalSorter.scala:191)\r\n\tat org.apache.spark.shuffle.sort.SortShuffleWriter.write(SortShuffleWriter.scala:63)\r\n\tat org.apache.spark.scheduler.ShuffleMapTask.runTask(ShuffleMapTask.scala:96)\r\n\tat org.apache.spark.scheduler.ShuffleMapTask.runTask(ShuffleMapTask.scala:53)\r\n\tat org.apache.spark.scheduler.Task.run(Task.scala:109)\r\n\tat org.apache.spark.executor.Executor$TaskRunner.run(Executor.scala:345)\r\n\tat java.util.concurrent.ThreadPoolExecutor.runWorker(Unknown Source)\r\n\tat java.util.concurrent.ThreadPoolExecutor$Worker.run(Unknown Source)\r\n\tat java.lang.Thread.run(Unknown Source)\r\n\nDriver stacktrace:\r\n\tat org.apache.spark.scheduler.DAGScheduler.org$apache$spark$scheduler$DAGScheduler$$failJobAndIndependentStages(DAGScheduler.scala:1661)\r\n\tat org.apache.spark.scheduler.DAGScheduler$$anonfun$abortStage$1.apply(DAGScheduler.scala:1649)\r\n\tat org.apache.spark.scheduler.DAGScheduler$$anonfun$abortStage$1.apply(DAGScheduler.scala:1648)\r\n\tat scala.collection.mutable.ResizableArray$class.foreach(ResizableArray.scala:59)\r\n\tat scala.collection.mutable.ArrayBuffer.foreach(ArrayBuffer.scala:48)\r\n\tat org.apache.spark.scheduler.DAGScheduler.abortStage(DAGScheduler.scala:1648)\r\n\tat org.apache.spark.scheduler.DAGScheduler$$anonfun$handleTaskSetFailed$1.apply(DAGScheduler.scala:831)\r\n\tat org.apache.spark.scheduler.DAGScheduler$$anonfun$handleTaskSetFailed$1.apply(DAGScheduler.scala:831)\r\n\tat scala.Option.foreach(Option.scala:257)\r\n\tat org.apache.spark.scheduler.DAGScheduler.handleTaskSetFailed(DAGScheduler.scala:831)\r\n\tat org.apache.spark.scheduler.DAGSchedulerEventProcessLoop.doOnReceive(DAGScheduler.scala:1882)\r\n\tat org.apache.spark.scheduler.DAGSchedulerEventProcessLoop.onReceive(DAGScheduler.scala:1831)\r\n\tat org.apache.spark.scheduler.DAGSchedulerEventProcessLoop.onReceive(DAGScheduler.scala:1820)\r\n\tat org.apache.spark.util.EventLoop$$anon$1.run(EventLoop.scala:48)\r\n\tat org.apache.spark.scheduler.DAGScheduler.runJob(DAGScheduler.scala:642)\r\n\tat org.apache.spark.SparkContext.runJob(SparkContext.scala:2034)\r\n\tat org.apache.spark.SparkContext.runJob(SparkContext.scala:2055)\r\n\tat org.apache.spark.SparkContext.runJob(SparkContext.scala:2074)\r\n\tat org.apache.spark.SparkContext.runJob(SparkContext.scala:2099)\r\n\tat org.apache.spark.rdd.RDD$$anonfun$collect$1.apply(RDD.scala:945)\r\n\tat org.apache.spark.rdd.RDDOperationScope$.withScope(RDDOperationScope.scala:151)\r\n\tat org.apache.spark.rdd.RDDOperationScope$.withScope(RDDOperationScope.scala:112)\r\n\tat org.apache.spark.rdd.RDD.withScope(RDD.scala:363)\r\n\tat org.apache.spark.rdd.RDD.collect(RDD.scala:944)\r\n\tat org.apache.spark.rdd.PairRDDFunctions$$anonfun$collectAsMap$1.apply(PairRDDFunctions.scala:743)\r\n\tat org.apache.spark.rdd.PairRDDFunctions$$anonfun$collectAsMap$1.apply(PairRDDFunctions.scala:742)\r\n\tat org.apache.spark.rdd.RDDOperationScope$.withScope(RDDOperationScope.scala:151)\r\n\tat org.apache.spark.rdd.RDDOperationScope$.withScope(RDDOperationScope.scala:112)\r\n\tat org.apache.spark.rdd.RDD.withScope(RDD.scala:363)\r\n\tat org.apache.spark.rdd.PairRDDFunctions.collectAsMap(PairRDDFunctions.scala:742)\r\n\tat org.apache.spark.mllib.evaluation.MulticlassMetrics.tpByClass$lzycompute(MulticlassMetrics.scala:48)\r\n\tat org.apache.spark.mllib.evaluation.MulticlassMetrics.tpByClass(MulticlassMetrics.scala:44)\r\n\tat org.apache.spark.mllib.evaluation.MulticlassMetrics.labels$lzycompute(MulticlassMetrics.scala:223)\r\n\tat org.apache.spark.mllib.evaluation.MulticlassMetrics.labels(MulticlassMetrics.scala:223)\r\n\tat org.apache.spark.mllib.evaluation.MulticlassMetrics.confusionMatrix(MulticlassMetrics.scala:68)\r\n\tat sun.reflect.NativeMethodAccessorImpl.invoke0(Native Method)\r\n\tat sun.reflect.NativeMethodAccessorImpl.invoke(Unknown Source)\r\n\tat sun.reflect.DelegatingMethodAccessorImpl.invoke(Unknown Source)\r\n\tat java.lang.reflect.Method.invoke(Unknown Source)\r\n\tat py4j.reflection.MethodInvoker.invoke(MethodInvoker.java:244)\r\n\tat py4j.reflection.ReflectionEngine.invoke(ReflectionEngine.java:357)\r\n\tat py4j.Gateway.invoke(Gateway.java:282)\r\n\tat py4j.commands.AbstractCommand.invokeMethod(AbstractCommand.java:132)\r\n\tat py4j.commands.CallCommand.execute(CallCommand.java:79)\r\n\tat py4j.GatewayConnection.run(GatewayConnection.java:238)\r\n\tat java.lang.Thread.run(Unknown Source)\r\nCaused by: org.apache.spark.api.python.PythonException: Traceback (most recent call last):\n  File \"C:\\spark\\spark-2.3.3-bin-hadoop2.7\\python\\lib\\pyspark.zip\\pyspark\\worker.py\", line 238, in main\n  File \"C:\\spark\\spark-2.3.3-bin-hadoop2.7\\python\\lib\\pyspark.zip\\pyspark\\serializers.py\", line 690, in read_int\n    length = stream.read(4)\n  File \"C:\\Users\\javie\\Anaconda3\\lib\\socket.py\", line 589, in readinto\n    return self._sock.recv_into(b)\nsocket.timeout: timed out\n\r\n\tat org.apache.spark.api.python.BasePythonRunner$ReaderIterator.handlePythonException(PythonRunner.scala:332)\r\n\tat org.apache.spark.api.python.PythonRunner$$anon$1.read(PythonRunner.scala:471)\r\n\tat org.apache.spark.api.python.PythonRunner$$anon$1.read(PythonRunner.scala:454)\r\n\tat org.apache.spark.api.python.BasePythonRunner$ReaderIterator.hasNext(PythonRunner.scala:286)\r\n\tat org.apache.spark.InterruptibleIterator.hasNext(InterruptibleIterator.scala:37)\r\n\tat scala.collection.Iterator$$anon$12.hasNext(Iterator.scala:439)\r\n\tat scala.collection.Iterator$$anon$11.hasNext(Iterator.scala:408)\r\n\tat scala.collection.Iterator$$anon$11.hasNext(Iterator.scala:408)\r\n\tat scala.collection.Iterator$$anon$11.hasNext(Iterator.scala:408)\r\n\tat scala.collection.Iterator$$anon$11.hasNext(Iterator.scala:408)\r\n\tat scala.collection.Iterator$$anon$11.hasNext(Iterator.scala:408)\r\n\tat scala.collection.Iterator$$anon$11.hasNext(Iterator.scala:408)\r\n\tat scala.collection.Iterator$$anon$11.hasNext(Iterator.scala:408)\r\n\tat org.apache.spark.util.collection.ExternalSorter.insertAll(ExternalSorter.scala:191)\r\n\tat org.apache.spark.shuffle.sort.SortShuffleWriter.write(SortShuffleWriter.scala:63)\r\n\tat org.apache.spark.scheduler.ShuffleMapTask.runTask(ShuffleMapTask.scala:96)\r\n\tat org.apache.spark.scheduler.ShuffleMapTask.runTask(ShuffleMapTask.scala:53)\r\n\tat org.apache.spark.scheduler.Task.run(Task.scala:109)\r\n\tat org.apache.spark.executor.Executor$TaskRunner.run(Executor.scala:345)\r\n\tat java.util.concurrent.ThreadPoolExecutor.runWorker(Unknown Source)\r\n\tat java.util.concurrent.ThreadPoolExecutor$Worker.run(Unknown Source)\r\n\t... 1 more\r\n"
     ]
    }
   ],
   "source": [
    "from pyspark.ml.classification import RandomForestClassifier\n",
    "from pyspark.mllib.evaluation import MulticlassMetrics\n",
    "\n",
    "\n",
    "\n",
    "results = test.select(['prediction', 'hotel_clusterINDEX'])\n",
    "predictionAndLabels=results.rdd\n",
    "metrics = MulticlassMetrics(predictionAndLabels)\n",
    "\n",
    "cm=metrics.confusionMatrix().toArray()\n",
    "accuracy=(cm[0][0]+cm[1][1])/cm.sum()\n",
    "precision=(cm[0][0])/(cm[0][0]+cm[1][0])\n",
    "recall=(cm[0][0])/(cm[0][0]+cm[0][1])\n",
    "print(\"RandomForestClassifier: accuracy,precision,recall\",accuracy,precision,recall)"
   ]
  },
  {
   "cell_type": "code",
   "execution_count": null,
   "metadata": {},
   "outputs": [],
   "source": []
  },
  {
   "cell_type": "code",
   "execution_count": null,
   "metadata": {},
   "outputs": [],
   "source": []
  },
  {
   "cell_type": "code",
   "execution_count": 74,
   "metadata": {},
   "outputs": [
    {
     "ename": "IllegalArgumentException",
     "evalue": "'requirement failed: Column orig_destination_distance must be of type NumericType but was actually of type StringType.'",
     "output_type": "error",
     "traceback": [
      "\u001b[1;31m---------------------------------------------------------------------------\u001b[0m",
      "\u001b[1;31mPy4JJavaError\u001b[0m                             Traceback (most recent call last)",
      "\u001b[1;32mC:\\spark\\spark-2.3.3-bin-hadoop2.7\\python\\pyspark\\sql\\utils.py\u001b[0m in \u001b[0;36mdeco\u001b[1;34m(*a, **kw)\u001b[0m\n\u001b[0;32m     62\u001b[0m         \u001b[1;32mtry\u001b[0m\u001b[1;33m:\u001b[0m\u001b[1;33m\u001b[0m\u001b[1;33m\u001b[0m\u001b[0m\n\u001b[1;32m---> 63\u001b[1;33m             \u001b[1;32mreturn\u001b[0m \u001b[0mf\u001b[0m\u001b[1;33m(\u001b[0m\u001b[1;33m*\u001b[0m\u001b[0ma\u001b[0m\u001b[1;33m,\u001b[0m \u001b[1;33m**\u001b[0m\u001b[0mkw\u001b[0m\u001b[1;33m)\u001b[0m\u001b[1;33m\u001b[0m\u001b[1;33m\u001b[0m\u001b[0m\n\u001b[0m\u001b[0;32m     64\u001b[0m         \u001b[1;32mexcept\u001b[0m \u001b[0mpy4j\u001b[0m\u001b[1;33m.\u001b[0m\u001b[0mprotocol\u001b[0m\u001b[1;33m.\u001b[0m\u001b[0mPy4JJavaError\u001b[0m \u001b[1;32mas\u001b[0m \u001b[0me\u001b[0m\u001b[1;33m:\u001b[0m\u001b[1;33m\u001b[0m\u001b[1;33m\u001b[0m\u001b[0m\n",
      "\u001b[1;32mC:\\spark\\spark-2.3.3-bin-hadoop2.7\\python\\lib\\py4j-0.10.7-src.zip\\py4j\\protocol.py\u001b[0m in \u001b[0;36mget_return_value\u001b[1;34m(answer, gateway_client, target_id, name)\u001b[0m\n\u001b[0;32m    327\u001b[0m                     \u001b[1;34m\"An error occurred while calling {0}{1}{2}.\\n\"\u001b[0m\u001b[1;33m.\u001b[0m\u001b[1;33m\u001b[0m\u001b[1;33m\u001b[0m\u001b[0m\n\u001b[1;32m--> 328\u001b[1;33m                     format(target_id, \".\", name), value)\n\u001b[0m\u001b[0;32m    329\u001b[0m             \u001b[1;32melse\u001b[0m\u001b[1;33m:\u001b[0m\u001b[1;33m\u001b[0m\u001b[1;33m\u001b[0m\u001b[0m\n",
      "\u001b[1;31mPy4JJavaError\u001b[0m: An error occurred while calling o4021.evaluate.\n: java.lang.IllegalArgumentException: requirement failed: Column orig_destination_distance must be of type NumericType but was actually of type StringType.\r\n\tat scala.Predef$.require(Predef.scala:224)\r\n\tat org.apache.spark.ml.util.SchemaUtils$.checkNumericType(SchemaUtils.scala:73)\r\n\tat org.apache.spark.ml.evaluation.RegressionEvaluator.evaluate(RegressionEvaluator.scala:78)\r\n\tat sun.reflect.GeneratedMethodAccessor154.invoke(Unknown Source)\r\n\tat sun.reflect.DelegatingMethodAccessorImpl.invoke(Unknown Source)\r\n\tat java.lang.reflect.Method.invoke(Unknown Source)\r\n\tat py4j.reflection.MethodInvoker.invoke(MethodInvoker.java:244)\r\n\tat py4j.reflection.ReflectionEngine.invoke(ReflectionEngine.java:357)\r\n\tat py4j.Gateway.invoke(Gateway.java:282)\r\n\tat py4j.commands.AbstractCommand.invokeMethod(AbstractCommand.java:132)\r\n\tat py4j.commands.CallCommand.execute(CallCommand.java:79)\r\n\tat py4j.GatewayConnection.run(GatewayConnection.java:238)\r\n\tat java.lang.Thread.run(Unknown Source)\r\n",
      "\nDuring handling of the above exception, another exception occurred:\n",
      "\u001b[1;31mIllegalArgumentException\u001b[0m                  Traceback (most recent call last)",
      "\u001b[1;32m<ipython-input-74-0e04f2af84c1>\u001b[0m in \u001b[0;36m<module>\u001b[1;34m\u001b[0m\n\u001b[0;32m      1\u001b[0m \u001b[1;31m# Select (prediction, true label) and compute test error\u001b[0m\u001b[1;33m\u001b[0m\u001b[1;33m\u001b[0m\u001b[1;33m\u001b[0m\u001b[0m\n\u001b[0;32m      2\u001b[0m \u001b[0mevaluator\u001b[0m \u001b[1;33m=\u001b[0m \u001b[0mRegressionEvaluator\u001b[0m\u001b[1;33m(\u001b[0m\u001b[0mmetricName\u001b[0m\u001b[1;33m=\u001b[0m\u001b[1;34m\"rmse\"\u001b[0m\u001b[1;33m,\u001b[0m \u001b[0mlabelCol\u001b[0m\u001b[1;33m=\u001b[0m\u001b[0mgbt\u001b[0m\u001b[1;33m.\u001b[0m\u001b[0mgetLabelCol\u001b[0m\u001b[1;33m(\u001b[0m\u001b[1;33m)\u001b[0m\u001b[1;33m,\u001b[0m \u001b[0mpredictionCol\u001b[0m\u001b[1;33m=\u001b[0m\u001b[0mgbt\u001b[0m\u001b[1;33m.\u001b[0m\u001b[0mgetPredictionCol\u001b[0m\u001b[1;33m(\u001b[0m\u001b[1;33m)\u001b[0m\u001b[1;33m)\u001b[0m\u001b[1;33m\u001b[0m\u001b[1;33m\u001b[0m\u001b[0m\n\u001b[1;32m----> 3\u001b[1;33m \u001b[0mrmse\u001b[0m \u001b[1;33m=\u001b[0m \u001b[0mevaluator\u001b[0m\u001b[1;33m.\u001b[0m\u001b[0mevaluate\u001b[0m\u001b[1;33m(\u001b[0m\u001b[0mtest\u001b[0m\u001b[1;33m)\u001b[0m\u001b[1;33m\u001b[0m\u001b[1;33m\u001b[0m\u001b[0m\n\u001b[0m\u001b[0;32m      4\u001b[0m \u001b[0mprint\u001b[0m\u001b[1;33m(\u001b[0m\u001b[1;34m\"Root Mean Squared Error (RMSE) on test data = %g\"\u001b[0m \u001b[1;33m%\u001b[0m \u001b[0mrmse\u001b[0m\u001b[1;33m)\u001b[0m\u001b[1;33m\u001b[0m\u001b[1;33m\u001b[0m\u001b[0m\n",
      "\u001b[1;32mC:\\spark\\spark-2.3.3-bin-hadoop2.7\\python\\pyspark\\ml\\evaluation.py\u001b[0m in \u001b[0;36mevaluate\u001b[1;34m(self, dataset, params)\u001b[0m\n\u001b[0;32m     68\u001b[0m                 \u001b[1;32mreturn\u001b[0m \u001b[0mself\u001b[0m\u001b[1;33m.\u001b[0m\u001b[0mcopy\u001b[0m\u001b[1;33m(\u001b[0m\u001b[0mparams\u001b[0m\u001b[1;33m)\u001b[0m\u001b[1;33m.\u001b[0m\u001b[0m_evaluate\u001b[0m\u001b[1;33m(\u001b[0m\u001b[0mdataset\u001b[0m\u001b[1;33m)\u001b[0m\u001b[1;33m\u001b[0m\u001b[1;33m\u001b[0m\u001b[0m\n\u001b[0;32m     69\u001b[0m             \u001b[1;32melse\u001b[0m\u001b[1;33m:\u001b[0m\u001b[1;33m\u001b[0m\u001b[1;33m\u001b[0m\u001b[0m\n\u001b[1;32m---> 70\u001b[1;33m                 \u001b[1;32mreturn\u001b[0m \u001b[0mself\u001b[0m\u001b[1;33m.\u001b[0m\u001b[0m_evaluate\u001b[0m\u001b[1;33m(\u001b[0m\u001b[0mdataset\u001b[0m\u001b[1;33m)\u001b[0m\u001b[1;33m\u001b[0m\u001b[1;33m\u001b[0m\u001b[0m\n\u001b[0m\u001b[0;32m     71\u001b[0m         \u001b[1;32melse\u001b[0m\u001b[1;33m:\u001b[0m\u001b[1;33m\u001b[0m\u001b[1;33m\u001b[0m\u001b[0m\n\u001b[0;32m     72\u001b[0m             \u001b[1;32mraise\u001b[0m \u001b[0mValueError\u001b[0m\u001b[1;33m(\u001b[0m\u001b[1;34m\"Params must be a param map but got %s.\"\u001b[0m \u001b[1;33m%\u001b[0m \u001b[0mtype\u001b[0m\u001b[1;33m(\u001b[0m\u001b[0mparams\u001b[0m\u001b[1;33m)\u001b[0m\u001b[1;33m)\u001b[0m\u001b[1;33m\u001b[0m\u001b[1;33m\u001b[0m\u001b[0m\n",
      "\u001b[1;32mC:\\spark\\spark-2.3.3-bin-hadoop2.7\\python\\pyspark\\ml\\evaluation.py\u001b[0m in \u001b[0;36m_evaluate\u001b[1;34m(self, dataset)\u001b[0m\n\u001b[0;32m     98\u001b[0m         \"\"\"\n\u001b[0;32m     99\u001b[0m         \u001b[0mself\u001b[0m\u001b[1;33m.\u001b[0m\u001b[0m_transfer_params_to_java\u001b[0m\u001b[1;33m(\u001b[0m\u001b[1;33m)\u001b[0m\u001b[1;33m\u001b[0m\u001b[1;33m\u001b[0m\u001b[0m\n\u001b[1;32m--> 100\u001b[1;33m         \u001b[1;32mreturn\u001b[0m \u001b[0mself\u001b[0m\u001b[1;33m.\u001b[0m\u001b[0m_java_obj\u001b[0m\u001b[1;33m.\u001b[0m\u001b[0mevaluate\u001b[0m\u001b[1;33m(\u001b[0m\u001b[0mdataset\u001b[0m\u001b[1;33m.\u001b[0m\u001b[0m_jdf\u001b[0m\u001b[1;33m)\u001b[0m\u001b[1;33m\u001b[0m\u001b[1;33m\u001b[0m\u001b[0m\n\u001b[0m\u001b[0;32m    101\u001b[0m \u001b[1;33m\u001b[0m\u001b[0m\n\u001b[0;32m    102\u001b[0m     \u001b[1;32mdef\u001b[0m \u001b[0misLargerBetter\u001b[0m\u001b[1;33m(\u001b[0m\u001b[0mself\u001b[0m\u001b[1;33m)\u001b[0m\u001b[1;33m:\u001b[0m\u001b[1;33m\u001b[0m\u001b[1;33m\u001b[0m\u001b[0m\n",
      "\u001b[1;32mC:\\spark\\spark-2.3.3-bin-hadoop2.7\\python\\lib\\py4j-0.10.7-src.zip\\py4j\\java_gateway.py\u001b[0m in \u001b[0;36m__call__\u001b[1;34m(self, *args)\u001b[0m\n\u001b[0;32m   1255\u001b[0m         \u001b[0manswer\u001b[0m \u001b[1;33m=\u001b[0m \u001b[0mself\u001b[0m\u001b[1;33m.\u001b[0m\u001b[0mgateway_client\u001b[0m\u001b[1;33m.\u001b[0m\u001b[0msend_command\u001b[0m\u001b[1;33m(\u001b[0m\u001b[0mcommand\u001b[0m\u001b[1;33m)\u001b[0m\u001b[1;33m\u001b[0m\u001b[1;33m\u001b[0m\u001b[0m\n\u001b[0;32m   1256\u001b[0m         return_value = get_return_value(\n\u001b[1;32m-> 1257\u001b[1;33m             answer, self.gateway_client, self.target_id, self.name)\n\u001b[0m\u001b[0;32m   1258\u001b[0m \u001b[1;33m\u001b[0m\u001b[0m\n\u001b[0;32m   1259\u001b[0m         \u001b[1;32mfor\u001b[0m \u001b[0mtemp_arg\u001b[0m \u001b[1;32min\u001b[0m \u001b[0mtemp_args\u001b[0m\u001b[1;33m:\u001b[0m\u001b[1;33m\u001b[0m\u001b[1;33m\u001b[0m\u001b[0m\n",
      "\u001b[1;32mC:\\spark\\spark-2.3.3-bin-hadoop2.7\\python\\pyspark\\sql\\utils.py\u001b[0m in \u001b[0;36mdeco\u001b[1;34m(*a, **kw)\u001b[0m\n\u001b[0;32m     77\u001b[0m                 \u001b[1;32mraise\u001b[0m \u001b[0mQueryExecutionException\u001b[0m\u001b[1;33m(\u001b[0m\u001b[0ms\u001b[0m\u001b[1;33m.\u001b[0m\u001b[0msplit\u001b[0m\u001b[1;33m(\u001b[0m\u001b[1;34m': '\u001b[0m\u001b[1;33m,\u001b[0m \u001b[1;36m1\u001b[0m\u001b[1;33m)\u001b[0m\u001b[1;33m[\u001b[0m\u001b[1;36m1\u001b[0m\u001b[1;33m]\u001b[0m\u001b[1;33m,\u001b[0m \u001b[0mstackTrace\u001b[0m\u001b[1;33m)\u001b[0m\u001b[1;33m\u001b[0m\u001b[1;33m\u001b[0m\u001b[0m\n\u001b[0;32m     78\u001b[0m             \u001b[1;32mif\u001b[0m \u001b[0ms\u001b[0m\u001b[1;33m.\u001b[0m\u001b[0mstartswith\u001b[0m\u001b[1;33m(\u001b[0m\u001b[1;34m'java.lang.IllegalArgumentException: '\u001b[0m\u001b[1;33m)\u001b[0m\u001b[1;33m:\u001b[0m\u001b[1;33m\u001b[0m\u001b[1;33m\u001b[0m\u001b[0m\n\u001b[1;32m---> 79\u001b[1;33m                 \u001b[1;32mraise\u001b[0m \u001b[0mIllegalArgumentException\u001b[0m\u001b[1;33m(\u001b[0m\u001b[0ms\u001b[0m\u001b[1;33m.\u001b[0m\u001b[0msplit\u001b[0m\u001b[1;33m(\u001b[0m\u001b[1;34m': '\u001b[0m\u001b[1;33m,\u001b[0m \u001b[1;36m1\u001b[0m\u001b[1;33m)\u001b[0m\u001b[1;33m[\u001b[0m\u001b[1;36m1\u001b[0m\u001b[1;33m]\u001b[0m\u001b[1;33m,\u001b[0m \u001b[0mstackTrace\u001b[0m\u001b[1;33m)\u001b[0m\u001b[1;33m\u001b[0m\u001b[1;33m\u001b[0m\u001b[0m\n\u001b[0m\u001b[0;32m     80\u001b[0m             \u001b[1;32mraise\u001b[0m\u001b[1;33m\u001b[0m\u001b[1;33m\u001b[0m\u001b[0m\n\u001b[0;32m     81\u001b[0m     \u001b[1;32mreturn\u001b[0m \u001b[0mdeco\u001b[0m\u001b[1;33m\u001b[0m\u001b[1;33m\u001b[0m\u001b[0m\n",
      "\u001b[1;31mIllegalArgumentException\u001b[0m: 'requirement failed: Column orig_destination_distance must be of type NumericType but was actually of type StringType.'"
     ]
    }
   ],
   "source": [
    "# Select (prediction, true label) and compute test error\n",
    "evaluator = RegressionEvaluator(metricName=\"rmse\", labelCol=gbt.getLabelCol(), predictionCol=gbt.getPredictionCol())\n",
    "rmse = evaluator.evaluate(test)\n",
    "print(\"Root Mean Squared Error (RMSE) on test data = %g\" % rmse)"
   ]
  },
  {
   "cell_type": "markdown",
   "metadata": {},
   "source": [
    "estandarizar las vaariables continuas nos sirve para poder comparar las variables de un modo mas eficiente y ayuda a que el modelo comprenda mejor la relación entre las variables para sacar los coeficientes, pues se intenta que las variables peryenezcan al mismos rango de valores facilitando la relacion entre variables."
   ]
  },
  {
   "cell_type": "code",
   "execution_count": 146,
   "metadata": {},
   "outputs": [],
   "source": [
    "vectorizer = ft.VectorAssembler(inputCols=['user_id','site_name','srch_destination_id','user_location_city','user_location_region','hotel_country','hotel_market','hotel_cluster'], outputCol= 'cont_vec')"
   ]
  },
  {
   "cell_type": "code",
   "execution_count": 147,
   "metadata": {},
   "outputs": [],
   "source": [
    "normalizer = ft.StandardScaler(\n",
    "    inputCol=vectorizer.getOutputCol(), #aqui estoy normalizando el vectoricer \n",
    "    outputCol='normalized', \n",
    "    withMean=True,\n",
    "    withStd=True\n",
    ")"
   ]
  },
  {
   "cell_type": "code",
   "execution_count": 148,
   "metadata": {},
   "outputs": [],
   "source": [
    "from pyspark.ml import Pipeline\n",
    "\n",
    "pipeline = Pipeline(stages=[vectorizer, normalizer])\n",
    "data_standardized = pipeline.fit(df).transform(df)"
   ]
  },
  {
   "cell_type": "code",
   "execution_count": 149,
   "metadata": {},
   "outputs": [],
   "source": [
    "import pyspark.ml.classification as cl\n",
    "\n",
    "logistic = cl.LogisticRegression(\n",
    "    maxIter=10, \n",
    "    regParam=0.01, \n",
    "    labelCol='hotel_cluster')#columna de salida que yo quiero estimar"
   ]
  },
  {
   "cell_type": "code",
   "execution_count": 150,
   "metadata": {},
   "outputs": [],
   "source": [
    "df_train, df_test = df \\\n",
    "    .randomSplit([0.7, 0.3], seed=666)"
   ]
  },
  {
   "cell_type": "code",
   "execution_count": 151,
   "metadata": {},
   "outputs": [],
   "source": [
    "pipeline = Pipeline(stages=[encoder1, vectorizer, normalizer, assembler1, logistic])"
   ]
  },
  {
   "cell_type": "code",
   "execution_count": 152,
   "metadata": {},
   "outputs": [],
   "source": [
    "model = pipeline.fit(df_train)"
   ]
  },
  {
   "cell_type": "code",
   "execution_count": 153,
   "metadata": {},
   "outputs": [],
   "source": [
    "test_model = model.transform(df_test)"
   ]
  },
  {
   "cell_type": "code",
   "execution_count": 154,
   "metadata": {},
   "outputs": [
    {
     "data": {
      "text/plain": [
       "[Row(ID_Reserva=17, date_time=datetime.datetime(2014, 1, 24, 11, 52, 4), site_name=2, posa_continent=3, user_location_country=66, user_location_region=318, user_location_city=22418, orig_destination_distance=421.8551, user_id=756, is_mobile=0.0, is_package=1.0, channel=9, srch_adults_cnt=2, srch_children_cnt=0, srch_rm_cnt=1.0, srch_destination_id=8291.0, srch_destination_type_id=1.0, is_booking=0.0, cnt=1.0, hotel_continent=2.0, hotel_country=50.0, hotel_market=191.0, hotel_cluster=25.0, date=datetime.datetime(2014, 1, 24, 0, 0), month-year='2014-01', month=1, year=2014, periodo=1, Categoría=4, hotel_clusterVEC=SparseVector(99, {25: 1.0}), cont_vec=DenseVector([756.0, 2.0, 8291.0, 22418.0, 318.0, 50.0, 191.0, 25.0]), normalized=DenseVector([-1.7939, -0.5978, -0.5681, -0.3417, -0.0006, -0.5452, -0.8058, -0.852]), features=SparseVector(123, {0: 2.0, 1: 3.0, 2: 66.0, 3: 318.0, 4: 22418.0, 5: 756.0, 7: 1.0, 8: 9.0, 9: 2.0, 11: 1.0, 12: 8291.0, 13: 1.0, 15: 1.0, 16: 2.0, 17: 50.0, 18: 191.0, 19: 25.0, 20: 1.0, 21: 2014.0, 22: 1.0, 23: 4.0, 49: 1.0}), rawPrediction=DenseVector([8.0989, 8.3777, 8.2326, 1.2874, 7.9773, 8.7034, 8.1599, 7.3096, 7.9145, 8.1595, 8.1186, 7.8728, 6.9083, 7.9381, -0.5814, 7.7655, 8.1554, 7.9384, 7.8968, 7.3964, 7.761, 7.8348, 7.6432, 6.9691, -28.5815, 12.1894, 8.2924, -52.58, 7.9638, 7.9462, 8.1052, 7.1518, 7.5529, 8.0995, 7.8641, -68.1289, 7.9998, 7.9861, 7.3035, 7.8831, 8.2008, 8.5489, 7.7883, 6.6485, 7.6528, 4.5651, 7.7623, 8.2129, 6.5415, 6.7421, 8.0384, 7.9804, 8.0666, -60.3853, 7.3483, 8.111, 7.9641, 7.6697, 8.1106, 7.8715, 4.0116, 7.8679, 7.9415, 7.4833, 8.7505, 9.3069, 7.5723, 7.3236, 7.8584, 7.9306, 7.9145, 5.2069, 8.1458, 7.8711, -299.5906, -20.0073, 7.6924, 8.0741, 7.8646, 7.303, 6.2957, 7.6522, 7.8, 8.0018, 7.6831, 7.8221, 5.8197, 3.8968, -153.8471, 4.4841, 8.008, -5.6162, 7.3289, 5.8451, 7.4814, 8.0098, 8.0092, 8.1095, 8.1204, 8.2506]), probability=DenseVector([0.0077, 0.0102, 0.0088, 0.0, 0.0068, 0.0141, 0.0082, 0.0035, 0.0064, 0.0082, 0.0079, 0.0062, 0.0023, 0.0066, 0.0, 0.0055, 0.0082, 0.0066, 0.0063, 0.0038, 0.0055, 0.0059, 0.0049, 0.0025, 0.0, 0.4614, 0.0094, 0.0, 0.0067, 0.0066, 0.0078, 0.003, 0.0045, 0.0077, 0.0061, 0.0, 0.007, 0.0069, 0.0035, 0.0062, 0.0085, 0.0121, 0.0057, 0.0018, 0.0049, 0.0002, 0.0055, 0.0087, 0.0016, 0.002, 0.0073, 0.0069, 0.0075, 0.0, 0.0036, 0.0078, 0.0067, 0.005, 0.0078, 0.0061, 0.0001, 0.0061, 0.0066, 0.0042, 0.0148, 0.0258, 0.0046, 0.0036, 0.0061, 0.0065, 0.0064, 0.0004, 0.0081, 0.0061, 0.0, 0.0, 0.0051, 0.0075, 0.0061, 0.0035, 0.0013, 0.0049, 0.0057, 0.007, 0.0051, 0.0059, 0.0008, 0.0001, 0.0, 0.0002, 0.007, 0.0, 0.0036, 0.0008, 0.0042, 0.0071, 0.0071, 0.0078, 0.0079, 0.009]), prediction=25.0)]"
      ]
     },
     "execution_count": 154,
     "metadata": {},
     "output_type": "execute_result"
    }
   ],
   "source": [
    "test_model.take(1)"
   ]
  },
  {
   "cell_type": "code",
   "execution_count": 155,
   "metadata": {},
   "outputs": [
    {
     "name": "stdout",
     "output_type": "stream",
     "text": [
      "0.36121533123039734\n",
      "0.9897574132565794\n"
     ]
    }
   ],
   "source": [
    "import pyspark.ml.evaluation as ev\n",
    "\n",
    "evaluator = ev.BinaryClassificationEvaluator(\n",
    "    rawPredictionCol='probability', \n",
    "    labelCol='hotel_cluster')\n",
    "\n",
    "print(evaluator.evaluate(test_model, \n",
    "     {evaluator.metricName: 'areaUnderROC'}))\n",
    "print(evaluator.evaluate(test_model, {evaluator.metricName: 'areaUnderPR'}))"
   ]
  },
  {
   "cell_type": "markdown",
   "metadata": {},
   "source": [
    "En este caso la evaluacion es casi la misma porque no hemos usado bieen el normalizer, el normalizer trabaja sobre variables contiunuas y no categoricas en nuestro caso solo tenemos variables categoricas y por eso no funciona tan bien"
   ]
  },
  {
   "cell_type": "code",
   "execution_count": null,
   "metadata": {},
   "outputs": [],
   "source": []
  },
  {
   "cell_type": "code",
   "execution_count": null,
   "metadata": {},
   "outputs": [],
   "source": []
  },
  {
   "cell_type": "code",
   "execution_count": 133,
   "metadata": {},
   "outputs": [
    {
     "data": {
      "text/plain": [
       "pyspark.sql.dataframe.DataFrame"
      ]
     },
     "execution_count": 133,
     "metadata": {},
     "output_type": "execute_result"
    }
   ],
   "source": [
    "type(data_standardized)"
   ]
  },
  {
   "cell_type": "code",
   "execution_count": null,
   "metadata": {},
   "outputs": [],
   "source": [
    "from pyspark.ml.feature import ChiSqSelector\n",
    "from pyspark.ml.linalg import Vectors\n",
    "\n",
    "df = spark.createDataFrame([\n",
    "        (7, Vectors.dense([0.0, 0.0, 18.0, 1.0]), 1.0,),\n",
    "        (8, Vectors.dense([0.0, 1.0, 12.0, 0.0]), 0.0,),\n",
    "        (9, Vectors.dense([1.0, 0.0, 15.0, 0.1]), 0.0,)], [\"id\", \"features\", \"clicked\"])\n",
    "\n",
    "    selector = ChiSqSelector(numTopFeatures=1, featuresCol=\"features\",\n",
    "                             outputCol=\"selectedFeatures\", labelCol=\"clicked\")\n",
    "\n",
    "    result = selector.fit(df).transform(df)\n",
    "\n",
    "    print(\"ChiSqSelector output with top %d features selected\" % selector.getNumTopFeatures())\n",
    "    result.show()"
   ]
  },
  {
   "cell_type": "markdown",
   "metadata": {},
   "source": [
    "from pyspark.ml.feature import OneHotEncoder, StringIndexer\n",
    "\n",
    "df = spark.createDataFrame([\n",
    "    (0, \"lunes\"),\n",
    "    (1, \"martes\"),\n",
    "    (2, \"miércoles\"),\n",
    "    (3, \"lunes\"),\n",
    "    (4, \"lunes\"),\n",
    "    (5, \"miércoles\")\n",
    "], [\"id\", \"category\"])\n",
    "\n",
    "miStringindexer = StringIndexer(inputCol=\"category\", outputCol=\"categoryIndex\")\n",
    "pipeline[miStringindex,miModelo]\n",
    "\n",
    "model = stringIndexer.fit(df)\n",
    "indexed = model.transform(df)\n",
    "\n",
    "encoder = OneHotEncoder(inputCol=\"categoryIndex\", outputCol=\"categoryVec\")\n",
    "encoded = encoder.transform(indexed)\n",
    "encoded.show()"
   ]
  },
  {
   "cell_type": "code",
   "execution_count": 67,
   "metadata": {},
   "outputs": [
    {
     "name": "stdout",
     "output_type": "stream",
     "text": [
      "+----------+---------+--------------+---------------------+--------------------+------------------+-------------------------+-------+---------+----------+-------+---------------+-----------------+-----------+-------------------+------------------------+----------+---+---------------+-------------+------------+-------------+----------+-----+----+-------+---------+------------+\n",
      "|ID_Reserva|site_name|posa_continent|user_location_country|user_location_region|user_location_city|orig_destination_distance|user_id|is_mobile|is_package|channel|srch_adults_cnt|srch_children_cnt|srch_rm_cnt|srch_destination_id|srch_destination_type_id|is_booking|cnt|hotel_continent|hotel_country|hotel_market|hotel_cluster|month-year|month|year|periodo|Categoría|DistanciaINT|\n",
      "+----------+---------+--------------+---------------------+--------------------+------------------+-------------------------+-------+---------+----------+-------+---------------+-----------------+-----------+-------------------+------------------------+----------+---+---------------+-------------+------------+-------------+----------+-----+----+-------+---------+------------+\n",
      "|         0|        0|             0|                    0|                   0|                 0|                        0|      0|        0|         0|      0|              0|                0|          0|                  0|                       0|         0|  0|              0|            0|           0|            0|         0|    0|   0|      0|        0|           0|\n",
      "+----------+---------+--------------+---------------------+--------------------+------------------+-------------------------+-------+---------+----------+-------+---------------+-----------------+-----------+-------------------+------------------------+----------+---+---------------+-------------+------------+-------------+----------+-----+----+-------+---------+------------+\n",
      "\n"
     ]
    }
   ],
   "source": [
    "from pyspark.sql.functions import isnan, when, count, col\n",
    "\n",
    "featuresCols1 = df.columns\n",
    "#Agrupamos las variables independientes que van a influir sobre la variable que vamos a predecir hotel_cluster, y eliminamos aqueelas que no necesitamos\n",
    "#featuresCols.remove('DistanciaINT')\n",
    "#featuresCols.remove('month-year')\n",
    "#featuresCols.remove('hotel_cluster')\n",
    "#featuresCols.remove('ID_Reserva')\n",
    "featuresCols1.remove('date_time')\n",
    "featuresCols1.remove('date')\n",
    "#featuresCols.remove('orig_destination_distance')\n",
    "\n",
    "\n",
    "df.select([count(when(isnan(c), c)).alias(c) for c in featuresCols1]).show()"
   ]
  },
  {
   "cell_type": "code",
   "execution_count": 68,
   "metadata": {},
   "outputs": [],
   "source": [
    "import numpy as np"
   ]
  },
  {
   "cell_type": "code",
   "execution_count": null,
   "metadata": {},
   "outputs": [],
   "source": []
  },
  {
   "cell_type": "code",
   "execution_count": 69,
   "metadata": {},
   "outputs": [],
   "source": [
    "df_na = df.dropna()"
   ]
  },
  {
   "cell_type": "code",
   "execution_count": 80,
   "metadata": {},
   "outputs": [],
   "source": [
    "df.createOrReplaceTempView(\"myTablaA\")"
   ]
  },
  {
   "cell_type": "code",
   "execution_count": 168,
   "metadata": {},
   "outputs": [],
   "source": [
    "import pandas as pd\n",
    "import numpy as np\n",
    "import matplotlib.pyplot as plt\n",
    "import seaborn as sns\n",
    "\n",
    "from sklearn.metrics import confusion_matrix\n",
    "from sklearn.metrics import classification_report\n",
    "from sklearn.model_selection import train_test_split\n",
    "from sklearn.linear_model import LogisticRegression\n",
    "from sklearn.decomposition import PCA\n",
    "from sklearn.tree import DecisionTreeClassifier\n",
    "\n",
    "from pylab import rcParams\n",
    "\n",
    "\n",
    "\n",
    "from collections import Counter"
   ]
  },
  {
   "cell_type": "code",
   "execution_count": 169,
   "metadata": {},
   "outputs": [
    {
     "name": "stderr",
     "output_type": "stream",
     "text": [
      "ERROR:py4j.java_gateway:An error occurred while trying to connect to the Java server (127.0.0.1:50317)\n",
      "Traceback (most recent call last):\n",
      "  File \"C:\\spark\\spark-2.3.3-bin-hadoop2.7\\python\\lib\\py4j-0.10.7-src.zip\\py4j\\java_gateway.py\", line 929, in _get_connection\n",
      "    connection = self.deque.pop()\n",
      "IndexError: pop from an empty deque\n",
      "\n",
      "During handling of the above exception, another exception occurred:\n",
      "\n",
      "Traceback (most recent call last):\n",
      "  File \"C:\\spark\\spark-2.3.3-bin-hadoop2.7\\python\\lib\\py4j-0.10.7-src.zip\\py4j\\java_gateway.py\", line 1067, in start\n",
      "    self.socket.connect((self.address, self.port))\n",
      "ConnectionRefusedError: [WinError 10061] No se puede establecer una conexión ya que el equipo de destino denegó expresamente dicha conexión\n"
     ]
    },
    {
     "ename": "Py4JNetworkError",
     "evalue": "An error occurred while trying to connect to the Java server (127.0.0.1:50317)",
     "output_type": "error",
     "traceback": [
      "\u001b[1;31m---------------------------------------------------------------------------\u001b[0m",
      "\u001b[1;31mIndexError\u001b[0m                                Traceback (most recent call last)",
      "\u001b[1;32mC:\\spark\\spark-2.3.3-bin-hadoop2.7\\python\\lib\\py4j-0.10.7-src.zip\\py4j\\java_gateway.py\u001b[0m in \u001b[0;36m_get_connection\u001b[1;34m(self)\u001b[0m\n\u001b[0;32m    928\u001b[0m         \u001b[1;32mtry\u001b[0m\u001b[1;33m:\u001b[0m\u001b[1;33m\u001b[0m\u001b[1;33m\u001b[0m\u001b[0m\n\u001b[1;32m--> 929\u001b[1;33m             \u001b[0mconnection\u001b[0m \u001b[1;33m=\u001b[0m \u001b[0mself\u001b[0m\u001b[1;33m.\u001b[0m\u001b[0mdeque\u001b[0m\u001b[1;33m.\u001b[0m\u001b[0mpop\u001b[0m\u001b[1;33m(\u001b[0m\u001b[1;33m)\u001b[0m\u001b[1;33m\u001b[0m\u001b[1;33m\u001b[0m\u001b[0m\n\u001b[0m\u001b[0;32m    930\u001b[0m         \u001b[1;32mexcept\u001b[0m \u001b[0mIndexError\u001b[0m\u001b[1;33m:\u001b[0m\u001b[1;33m\u001b[0m\u001b[1;33m\u001b[0m\u001b[0m\n",
      "\u001b[1;31mIndexError\u001b[0m: pop from an empty deque",
      "\nDuring handling of the above exception, another exception occurred:\n",
      "\u001b[1;31mConnectionRefusedError\u001b[0m                    Traceback (most recent call last)",
      "\u001b[1;32mC:\\spark\\spark-2.3.3-bin-hadoop2.7\\python\\lib\\py4j-0.10.7-src.zip\\py4j\\java_gateway.py\u001b[0m in \u001b[0;36mstart\u001b[1;34m(self)\u001b[0m\n\u001b[0;32m   1066\u001b[0m         \u001b[1;32mtry\u001b[0m\u001b[1;33m:\u001b[0m\u001b[1;33m\u001b[0m\u001b[1;33m\u001b[0m\u001b[0m\n\u001b[1;32m-> 1067\u001b[1;33m             \u001b[0mself\u001b[0m\u001b[1;33m.\u001b[0m\u001b[0msocket\u001b[0m\u001b[1;33m.\u001b[0m\u001b[0mconnect\u001b[0m\u001b[1;33m(\u001b[0m\u001b[1;33m(\u001b[0m\u001b[0mself\u001b[0m\u001b[1;33m.\u001b[0m\u001b[0maddress\u001b[0m\u001b[1;33m,\u001b[0m \u001b[0mself\u001b[0m\u001b[1;33m.\u001b[0m\u001b[0mport\u001b[0m\u001b[1;33m)\u001b[0m\u001b[1;33m)\u001b[0m\u001b[1;33m\u001b[0m\u001b[1;33m\u001b[0m\u001b[0m\n\u001b[0m\u001b[0;32m   1068\u001b[0m             \u001b[0mself\u001b[0m\u001b[1;33m.\u001b[0m\u001b[0mstream\u001b[0m \u001b[1;33m=\u001b[0m \u001b[0mself\u001b[0m\u001b[1;33m.\u001b[0m\u001b[0msocket\u001b[0m\u001b[1;33m.\u001b[0m\u001b[0mmakefile\u001b[0m\u001b[1;33m(\u001b[0m\u001b[1;34m\"rb\"\u001b[0m\u001b[1;33m)\u001b[0m\u001b[1;33m\u001b[0m\u001b[1;33m\u001b[0m\u001b[0m\n",
      "\u001b[1;31mConnectionRefusedError\u001b[0m: [WinError 10061] No se puede establecer una conexión ya que el equipo de destino denegó expresamente dicha conexión",
      "\nDuring handling of the above exception, another exception occurred:\n",
      "\u001b[1;31mPy4JNetworkError\u001b[0m                          Traceback (most recent call last)",
      "\u001b[1;32m<ipython-input-169-cf4f06c02a2b>\u001b[0m in \u001b[0;36m<module>\u001b[1;34m\u001b[0m\n\u001b[0;32m      1\u001b[0m \u001b[1;31m#definimos nuestras etiquetas y features\u001b[0m\u001b[1;33m\u001b[0m\u001b[1;33m\u001b[0m\u001b[1;33m\u001b[0m\u001b[0m\n\u001b[1;32m----> 2\u001b[1;33m \u001b[0my\u001b[0m \u001b[1;33m=\u001b[0m \u001b[0mdf\u001b[0m\u001b[1;33m[\u001b[0m\u001b[1;34m'hotel_cluster'\u001b[0m\u001b[1;33m]\u001b[0m\u001b[1;33m\u001b[0m\u001b[1;33m\u001b[0m\u001b[0m\n\u001b[0m\u001b[0;32m      3\u001b[0m \u001b[0mX\u001b[0m\u001b[1;33m=\u001b[0m\u001b[0mdf\u001b[0m\u001b[1;33m[\u001b[0m\u001b[1;34m'site_name'\u001b[0m\u001b[1;33m,\u001b[0m\u001b[1;34m'posa_continent'\u001b[0m\u001b[1;33m,\u001b[0m\u001b[1;34m'user_location_country'\u001b[0m\u001b[1;33m,\u001b[0m\u001b[1;34m'user_location_region'\u001b[0m\u001b[1;33m,\u001b[0m\u001b[1;34m'user_location_city'\u001b[0m\u001b[1;33m,\u001b[0m\u001b[1;34m'user_id'\u001b[0m\u001b[1;33m,\u001b[0m\u001b[1;34m'is_mobile'\u001b[0m\u001b[1;33m,\u001b[0m\u001b[1;34m'is_package'\u001b[0m\u001b[1;33m,\u001b[0m\u001b[1;34m'channel'\u001b[0m\u001b[1;33m,\u001b[0m\u001b[1;34m'srch_adults_cnt'\u001b[0m\u001b[1;33m,\u001b[0m\u001b[1;34m'srch_children_cnt'\u001b[0m\u001b[1;33m,\u001b[0m\u001b[1;34m'srch_rm_cnt'\u001b[0m\u001b[1;33m,\u001b[0m\u001b[1;34m'srch_destination_id'\u001b[0m\u001b[1;33m,\u001b[0m\u001b[1;34m'srch_destination_type_id'\u001b[0m\u001b[1;33m,\u001b[0m\u001b[1;34m'is_booking'\u001b[0m\u001b[1;33m,\u001b[0m\u001b[1;34m'cnt'\u001b[0m\u001b[1;33m,\u001b[0m\u001b[1;34m'hotel_continent'\u001b[0m\u001b[1;33m,\u001b[0m\u001b[1;34m'hotel_country'\u001b[0m\u001b[1;33m,\u001b[0m\u001b[1;34m'hotel_market'\u001b[0m\u001b[1;33m,\u001b[0m\u001b[1;34m'month'\u001b[0m\u001b[1;33m,\u001b[0m\u001b[1;34m'year'\u001b[0m\u001b[1;33m,\u001b[0m\u001b[1;34m'periodo'\u001b[0m\u001b[1;33m,\u001b[0m \u001b[1;34m'Categoría'\u001b[0m\u001b[1;33m]\u001b[0m\u001b[1;33m\u001b[0m\u001b[1;33m\u001b[0m\u001b[0m\n\u001b[0;32m      4\u001b[0m \u001b[1;33m\u001b[0m\u001b[0m\n\u001b[0;32m      5\u001b[0m \u001b[1;31m#dividimos en sets de entrenamiento y test\u001b[0m\u001b[1;33m\u001b[0m\u001b[1;33m\u001b[0m\u001b[1;33m\u001b[0m\u001b[0m\n",
      "\u001b[1;32mC:\\spark\\spark-2.3.3-bin-hadoop2.7\\python\\pyspark\\sql\\dataframe.py\u001b[0m in \u001b[0;36m__getitem__\u001b[1;34m(self, item)\u001b[0m\n\u001b[0;32m   1159\u001b[0m         \"\"\"\n\u001b[0;32m   1160\u001b[0m         \u001b[1;32mif\u001b[0m \u001b[0misinstance\u001b[0m\u001b[1;33m(\u001b[0m\u001b[0mitem\u001b[0m\u001b[1;33m,\u001b[0m \u001b[0mbasestring\u001b[0m\u001b[1;33m)\u001b[0m\u001b[1;33m:\u001b[0m\u001b[1;33m\u001b[0m\u001b[1;33m\u001b[0m\u001b[0m\n\u001b[1;32m-> 1161\u001b[1;33m             \u001b[0mjc\u001b[0m \u001b[1;33m=\u001b[0m \u001b[0mself\u001b[0m\u001b[1;33m.\u001b[0m\u001b[0m_jdf\u001b[0m\u001b[1;33m.\u001b[0m\u001b[0mapply\u001b[0m\u001b[1;33m(\u001b[0m\u001b[0mitem\u001b[0m\u001b[1;33m)\u001b[0m\u001b[1;33m\u001b[0m\u001b[1;33m\u001b[0m\u001b[0m\n\u001b[0m\u001b[0;32m   1162\u001b[0m             \u001b[1;32mreturn\u001b[0m \u001b[0mColumn\u001b[0m\u001b[1;33m(\u001b[0m\u001b[0mjc\u001b[0m\u001b[1;33m)\u001b[0m\u001b[1;33m\u001b[0m\u001b[1;33m\u001b[0m\u001b[0m\n\u001b[0;32m   1163\u001b[0m         \u001b[1;32melif\u001b[0m \u001b[0misinstance\u001b[0m\u001b[1;33m(\u001b[0m\u001b[0mitem\u001b[0m\u001b[1;33m,\u001b[0m \u001b[0mColumn\u001b[0m\u001b[1;33m)\u001b[0m\u001b[1;33m:\u001b[0m\u001b[1;33m\u001b[0m\u001b[1;33m\u001b[0m\u001b[0m\n",
      "\u001b[1;32mC:\\spark\\spark-2.3.3-bin-hadoop2.7\\python\\lib\\py4j-0.10.7-src.zip\\py4j\\java_gateway.py\u001b[0m in \u001b[0;36m__call__\u001b[1;34m(self, *args)\u001b[0m\n\u001b[0;32m   1253\u001b[0m             \u001b[0mproto\u001b[0m\u001b[1;33m.\u001b[0m\u001b[0mEND_COMMAND_PART\u001b[0m\u001b[1;33m\u001b[0m\u001b[1;33m\u001b[0m\u001b[0m\n\u001b[0;32m   1254\u001b[0m \u001b[1;33m\u001b[0m\u001b[0m\n\u001b[1;32m-> 1255\u001b[1;33m         \u001b[0manswer\u001b[0m \u001b[1;33m=\u001b[0m \u001b[0mself\u001b[0m\u001b[1;33m.\u001b[0m\u001b[0mgateway_client\u001b[0m\u001b[1;33m.\u001b[0m\u001b[0msend_command\u001b[0m\u001b[1;33m(\u001b[0m\u001b[0mcommand\u001b[0m\u001b[1;33m)\u001b[0m\u001b[1;33m\u001b[0m\u001b[1;33m\u001b[0m\u001b[0m\n\u001b[0m\u001b[0;32m   1256\u001b[0m         return_value = get_return_value(\n\u001b[0;32m   1257\u001b[0m             answer, self.gateway_client, self.target_id, self.name)\n",
      "\u001b[1;32mC:\\spark\\spark-2.3.3-bin-hadoop2.7\\python\\lib\\py4j-0.10.7-src.zip\\py4j\\java_gateway.py\u001b[0m in \u001b[0;36msend_command\u001b[1;34m(self, command, retry, binary)\u001b[0m\n\u001b[0;32m    981\u001b[0m          \u001b[1;32mif\u001b[0m\u001b[0;31m \u001b[0m\u001b[0;31m`\u001b[0m\u001b[0mbinary\u001b[0m\u001b[0;31m`\u001b[0m \u001b[1;32mis\u001b[0m\u001b[0;31m \u001b[0m\u001b[0;31m`\u001b[0m\u001b[1;32mTrue\u001b[0m\u001b[0;31m`\u001b[0m\u001b[1;33m.\u001b[0m\u001b[1;33m\u001b[0m\u001b[1;33m\u001b[0m\u001b[0m\n\u001b[0;32m    982\u001b[0m         \"\"\"\n\u001b[1;32m--> 983\u001b[1;33m         \u001b[0mconnection\u001b[0m \u001b[1;33m=\u001b[0m \u001b[0mself\u001b[0m\u001b[1;33m.\u001b[0m\u001b[0m_get_connection\u001b[0m\u001b[1;33m(\u001b[0m\u001b[1;33m)\u001b[0m\u001b[1;33m\u001b[0m\u001b[1;33m\u001b[0m\u001b[0m\n\u001b[0m\u001b[0;32m    984\u001b[0m         \u001b[1;32mtry\u001b[0m\u001b[1;33m:\u001b[0m\u001b[1;33m\u001b[0m\u001b[1;33m\u001b[0m\u001b[0m\n\u001b[0;32m    985\u001b[0m             \u001b[0mresponse\u001b[0m \u001b[1;33m=\u001b[0m \u001b[0mconnection\u001b[0m\u001b[1;33m.\u001b[0m\u001b[0msend_command\u001b[0m\u001b[1;33m(\u001b[0m\u001b[0mcommand\u001b[0m\u001b[1;33m)\u001b[0m\u001b[1;33m\u001b[0m\u001b[1;33m\u001b[0m\u001b[0m\n",
      "\u001b[1;32mC:\\spark\\spark-2.3.3-bin-hadoop2.7\\python\\lib\\py4j-0.10.7-src.zip\\py4j\\java_gateway.py\u001b[0m in \u001b[0;36m_get_connection\u001b[1;34m(self)\u001b[0m\n\u001b[0;32m    929\u001b[0m             \u001b[0mconnection\u001b[0m \u001b[1;33m=\u001b[0m \u001b[0mself\u001b[0m\u001b[1;33m.\u001b[0m\u001b[0mdeque\u001b[0m\u001b[1;33m.\u001b[0m\u001b[0mpop\u001b[0m\u001b[1;33m(\u001b[0m\u001b[1;33m)\u001b[0m\u001b[1;33m\u001b[0m\u001b[1;33m\u001b[0m\u001b[0m\n\u001b[0;32m    930\u001b[0m         \u001b[1;32mexcept\u001b[0m \u001b[0mIndexError\u001b[0m\u001b[1;33m:\u001b[0m\u001b[1;33m\u001b[0m\u001b[1;33m\u001b[0m\u001b[0m\n\u001b[1;32m--> 931\u001b[1;33m             \u001b[0mconnection\u001b[0m \u001b[1;33m=\u001b[0m \u001b[0mself\u001b[0m\u001b[1;33m.\u001b[0m\u001b[0m_create_connection\u001b[0m\u001b[1;33m(\u001b[0m\u001b[1;33m)\u001b[0m\u001b[1;33m\u001b[0m\u001b[1;33m\u001b[0m\u001b[0m\n\u001b[0m\u001b[0;32m    932\u001b[0m         \u001b[1;32mreturn\u001b[0m \u001b[0mconnection\u001b[0m\u001b[1;33m\u001b[0m\u001b[1;33m\u001b[0m\u001b[0m\n\u001b[0;32m    933\u001b[0m \u001b[1;33m\u001b[0m\u001b[0m\n",
      "\u001b[1;32mC:\\spark\\spark-2.3.3-bin-hadoop2.7\\python\\lib\\py4j-0.10.7-src.zip\\py4j\\java_gateway.py\u001b[0m in \u001b[0;36m_create_connection\u001b[1;34m(self)\u001b[0m\n\u001b[0;32m    935\u001b[0m         connection = GatewayConnection(\n\u001b[0;32m    936\u001b[0m             self.gateway_parameters, self.gateway_property)\n\u001b[1;32m--> 937\u001b[1;33m         \u001b[0mconnection\u001b[0m\u001b[1;33m.\u001b[0m\u001b[0mstart\u001b[0m\u001b[1;33m(\u001b[0m\u001b[1;33m)\u001b[0m\u001b[1;33m\u001b[0m\u001b[1;33m\u001b[0m\u001b[0m\n\u001b[0m\u001b[0;32m    938\u001b[0m         \u001b[1;32mreturn\u001b[0m \u001b[0mconnection\u001b[0m\u001b[1;33m\u001b[0m\u001b[1;33m\u001b[0m\u001b[0m\n\u001b[0;32m    939\u001b[0m \u001b[1;33m\u001b[0m\u001b[0m\n",
      "\u001b[1;32mC:\\spark\\spark-2.3.3-bin-hadoop2.7\\python\\lib\\py4j-0.10.7-src.zip\\py4j\\java_gateway.py\u001b[0m in \u001b[0;36mstart\u001b[1;34m(self)\u001b[0m\n\u001b[0;32m   1077\u001b[0m                 \u001b[1;34m\"server ({0}:{1})\"\u001b[0m\u001b[1;33m.\u001b[0m\u001b[0mformat\u001b[0m\u001b[1;33m(\u001b[0m\u001b[0mself\u001b[0m\u001b[1;33m.\u001b[0m\u001b[0maddress\u001b[0m\u001b[1;33m,\u001b[0m \u001b[0mself\u001b[0m\u001b[1;33m.\u001b[0m\u001b[0mport\u001b[0m\u001b[1;33m)\u001b[0m\u001b[1;33m\u001b[0m\u001b[1;33m\u001b[0m\u001b[0m\n\u001b[0;32m   1078\u001b[0m             \u001b[0mlogger\u001b[0m\u001b[1;33m.\u001b[0m\u001b[0mexception\u001b[0m\u001b[1;33m(\u001b[0m\u001b[0mmsg\u001b[0m\u001b[1;33m)\u001b[0m\u001b[1;33m\u001b[0m\u001b[1;33m\u001b[0m\u001b[0m\n\u001b[1;32m-> 1079\u001b[1;33m             \u001b[1;32mraise\u001b[0m \u001b[0mPy4JNetworkError\u001b[0m\u001b[1;33m(\u001b[0m\u001b[0mmsg\u001b[0m\u001b[1;33m,\u001b[0m \u001b[0me\u001b[0m\u001b[1;33m)\u001b[0m\u001b[1;33m\u001b[0m\u001b[1;33m\u001b[0m\u001b[0m\n\u001b[0m\u001b[0;32m   1080\u001b[0m \u001b[1;33m\u001b[0m\u001b[0m\n\u001b[0;32m   1081\u001b[0m     \u001b[1;32mdef\u001b[0m \u001b[0m_authenticate_connection\u001b[0m\u001b[1;33m(\u001b[0m\u001b[0mself\u001b[0m\u001b[1;33m)\u001b[0m\u001b[1;33m:\u001b[0m\u001b[1;33m\u001b[0m\u001b[1;33m\u001b[0m\u001b[0m\n",
      "\u001b[1;31mPy4JNetworkError\u001b[0m: An error occurred while trying to connect to the Java server (127.0.0.1:50317)"
     ]
    }
   ],
   "source": [
    "#definimos nuestras etiquetas y features\n",
    "y = df['hotel_cluster']\n",
    "X=df['site_name','posa_continent','user_location_country','user_location_region','user_location_city','user_id','is_mobile','is_package','channel','srch_adults_cnt','srch_children_cnt','srch_rm_cnt','srch_destination_id','srch_destination_type_id','is_booking','cnt','hotel_continent','hotel_country','hotel_market','month','year','periodo', 'Categoría'] \n",
    "    \n",
    "#dividimos en sets de entrenamiento y test\n",
    "X_train, X_test, y_train, y_test = train_test_split(X, y, train_size=0.7)\n",
    "\n",
    "#creamos una función que crea el modelo que usaremos cada vez\n",
    "def run_model(X_train, X_test, y_train, y_test):\n",
    "    clf_base = LogisticRegression(C=1.0,penalty='l2',random_state=1,solver=\"newton-cg\")\n",
    "    clf_base.fit(X_train, y_train)\n",
    "    return clf_base\n",
    "\n",
    "#ejecutamos el modelo \"tal cual\"\n",
    "model = run_model(X_train, X_test, y_train, y_test)\n",
    "\n",
    "#definimos funciona para mostrar los resultados\n",
    "def mostrar_resultados(y_test, pred_y):\n",
    "    conf_matrix = confusion_matrix(y_test, pred_y)\n",
    "    plt.figure(figsize=(12, 12))\n",
    "    sns.heatmap(conf_matrix, xticklabels=LABELS, yticklabels=LABELS, annot=True, fmt=\"d\");\n",
    "    plt.title(\"Confusion matrix\")\n",
    "    plt.ylabel('True class')\n",
    "    plt.xlabel('Predicted class')\n",
    "    plt.show()\n",
    "    print (classification_report(y_test, pred_y))\n",
    "\n",
    "pred_y = model.predict(X_test)\n",
    "mostrar_resultados(y_test, pred_y)"
   ]
  },
  {
   "cell_type": "code",
   "execution_count": 92,
   "metadata": {},
   "outputs": [],
   "source": [
    "DFnan=df['orig_destination_distance'].isNull()"
   ]
  },
  {
   "cell_type": "code",
   "execution_count": 104,
   "metadata": {},
   "outputs": [
    {
     "data": {
      "text/plain": [
       "pyspark.sql.dataframe.DataFrame"
      ]
     },
     "execution_count": 104,
     "metadata": {},
     "output_type": "execute_result"
    }
   ],
   "source": [
    "type(df)"
   ]
  },
  {
   "cell_type": "code",
   "execution_count": 102,
   "metadata": {},
   "outputs": [
    {
     "data": {
      "text/plain": [
       "Column<b'(orig_destination_distance IS NULL)[2]'>"
      ]
     },
     "execution_count": 102,
     "metadata": {},
     "output_type": "execute_result"
    }
   ],
   "source": [
    "DFnan.getItem(2)"
   ]
  },
  {
   "cell_type": "code",
   "execution_count": 72,
   "metadata": {},
   "outputs": [
    {
     "name": "stdout",
     "output_type": "stream",
     "text": [
      "+--------------+\n",
      "|posa_continent|\n",
      "+--------------+\n",
      "|             1|\n",
      "|             3|\n",
      "|             4|\n",
      "|             2|\n",
      "|             0|\n",
      "+--------------+\n",
      "\n"
     ]
    }
   ],
   "source": [
    "df.select('posa_continent').distinct().show()"
   ]
  },
  {
   "cell_type": "code",
   "execution_count": 70,
   "metadata": {},
   "outputs": [
    {
     "data": {
      "text/plain": [
       "[Row(ID_Reserva=101940, date_time=datetime.datetime(2013, 1, 14, 9, 57, 25), site_name=2, posa_continent=3, user_location_country=66, user_location_region=442, user_location_city=35390, orig_destination_distance=799.9374, user_id=397128, is_mobile=0.0, is_package=1.0, channel=0, srch_adults_cnt=3, srch_children_cnt=2, srch_rm_cnt=1.0, srch_destination_id=8791.0, srch_destination_type_id=1.0, is_booking=0.0, cnt=1.0, hotel_continent=4.0, hotel_country=8.0, hotel_market=110.0, hotel_cluster=83.0, date=datetime.datetime(2013, 1, 14, 0, 0), month-year='2013-01', month=1, year=2013, periodo=1, Categoría=9, DistanciaINT=800),\n",
       " Row(ID_Reserva=22936, date_time=datetime.datetime(2013, 1, 28, 19, 43, 15), site_name=2, posa_continent=3, user_location_country=66, user_location_region=220, user_location_city=35388, orig_destination_distance=1998.0124, user_id=99366, is_mobile=0.0, is_package=1.0, channel=1, srch_adults_cnt=1, srch_children_cnt=0, srch_rm_cnt=1.0, srch_destination_id=44976.0, srch_destination_type_id=1.0, is_booking=0.0, cnt=1.0, hotel_continent=2.0, hotel_country=50.0, hotel_market=1633.0, hotel_cluster=55.0, date=datetime.datetime(2013, 1, 28, 0, 0), month-year='2013-01', month=1, year=2013, periodo=1, Categoría=3, DistanciaINT=1998)]"
      ]
     },
     "execution_count": 70,
     "metadata": {},
     "output_type": "execute_result"
    }
   ],
   "source": [
    "df_na.head(2)"
   ]
  },
  {
   "cell_type": "code",
   "execution_count": 76,
   "metadata": {},
   "outputs": [
    {
     "ename": "AttributeError",
     "evalue": "'DataFrame' object has no attribute 'isnull'",
     "output_type": "error",
     "traceback": [
      "\u001b[1;31m---------------------------------------------------------------------------\u001b[0m",
      "\u001b[1;31mAttributeError\u001b[0m                            Traceback (most recent call last)",
      "\u001b[1;32m<ipython-input-76-629914d6d1c7>\u001b[0m in \u001b[0;36m<module>\u001b[1;34m\u001b[0m\n\u001b[1;32m----> 1\u001b[1;33m \u001b[0mdf\u001b[0m\u001b[1;33m.\u001b[0m\u001b[0misnull\u001b[0m\u001b[1;33m(\u001b[0m\u001b[1;33m)\u001b[0m\u001b[1;33m.\u001b[0m\u001b[0msum\u001b[0m\u001b[1;33m(\u001b[0m\u001b[1;33m)\u001b[0m\u001b[1;33m\u001b[0m\u001b[1;33m\u001b[0m\u001b[0m\n\u001b[0m",
      "\u001b[1;32mC:\\spark\\spark-2.3.3-bin-hadoop2.7\\python\\pyspark\\sql\\dataframe.py\u001b[0m in \u001b[0;36m__getattr__\u001b[1;34m(self, name)\u001b[0m\n\u001b[0;32m   1180\u001b[0m         \u001b[1;32mif\u001b[0m \u001b[0mname\u001b[0m \u001b[1;32mnot\u001b[0m \u001b[1;32min\u001b[0m \u001b[0mself\u001b[0m\u001b[1;33m.\u001b[0m\u001b[0mcolumns\u001b[0m\u001b[1;33m:\u001b[0m\u001b[1;33m\u001b[0m\u001b[1;33m\u001b[0m\u001b[0m\n\u001b[0;32m   1181\u001b[0m             raise AttributeError(\n\u001b[1;32m-> 1182\u001b[1;33m                 \"'%s' object has no attribute '%s'\" % (self.__class__.__name__, name))\n\u001b[0m\u001b[0;32m   1183\u001b[0m         \u001b[0mjc\u001b[0m \u001b[1;33m=\u001b[0m \u001b[0mself\u001b[0m\u001b[1;33m.\u001b[0m\u001b[0m_jdf\u001b[0m\u001b[1;33m.\u001b[0m\u001b[0mapply\u001b[0m\u001b[1;33m(\u001b[0m\u001b[0mname\u001b[0m\u001b[1;33m)\u001b[0m\u001b[1;33m\u001b[0m\u001b[1;33m\u001b[0m\u001b[0m\n\u001b[0;32m   1184\u001b[0m         \u001b[1;32mreturn\u001b[0m \u001b[0mColumn\u001b[0m\u001b[1;33m(\u001b[0m\u001b[0mjc\u001b[0m\u001b[1;33m)\u001b[0m\u001b[1;33m\u001b[0m\u001b[1;33m\u001b[0m\u001b[0m\n",
      "\u001b[1;31mAttributeError\u001b[0m: 'DataFrame' object has no attribute 'isnull'"
     ]
    }
   ],
   "source": [
    "df.isnull().sum()"
   ]
  },
  {
   "cell_type": "code",
   "execution_count": null,
   "metadata": {},
   "outputs": [],
   "source": [
    "empty_weights = surveys_df[pd.isnull(surveys_df['weight'])]['weight']\n",
    "print(empty_weights)"
   ]
  },
  {
   "cell_type": "code",
   "execution_count": null,
   "metadata": {},
   "outputs": [],
   "source": []
  },
  {
   "cell_type": "markdown",
   "metadata": {},
   "source": [
    "from pyspark.ml.feature import OneHotEncoderEstimator, StringIndexer, VectorAssembler\n",
    "categoricalColumns = ['site_name', 'posa_continent',['user_id', 'srch_destination_id', 'user_location_country', 'user_location_region', 'user_location_city', 'is_mobile', 'is_package', 'channel', 'srch_adults_cnt', 'srch_children_cnt', 'srch_rm_cnt', 'srch_destination_type_id', 'is_booking', 'cnt', 'hotel_continent',  'hotel_country', 'hotel_market','hotel_cluster', 'month', 'year','Categoría']\n",
    "stages = []\n",
    "for categoricalCol in categoricalColumns:\n",
    "    stringIndexer = StringIndexer(inputCol = categoricalCol, outputCol = categoricalCol + 'Index2')\n",
    "    encoder = OneHotEncoderEstimator(inputCols=[stringIndexer.getOutputCol()], outputCols=[categoricalCol + \"classVec\"])\n",
    "    stages += [stringIndexer, encoder]\n",
    "label_stringIdx = StringIndexer(inputCol = 'hotel_cluster', outputCol = 'label')\n",
    "stages += [label_stringIdx]\n",
    "numericCols = ['user_id', 'srch_destination_id']  #orig_destination_distance\n",
    "TassemblerInputs = [c + \"classVec\" for c in categoricalColumns] + numericCols\n",
    "Tassembler3 = VectorAssembler(inputCols=assemblerInputs, outputCol=\"features2\")\n",
    "\n",
    "\n",
    "#The above code are taken from databricks’ official site and it indexes each categorical column using the StringIndexer,\n",
    "#then converts the indexed categories into one-hot encoded variables. \n",
    "#The resulting output has the binary vectors appended to the end of each row. \n",
    "#We use the StringIndexer again to encode our labels to label indices.\n",
    "#Next, we use the VectorAssembler to combine all the feature columns into a single vector column."
   ]
  },
  {
   "cell_type": "code",
   "execution_count": null,
   "metadata": {},
   "outputs": [],
   "source": []
  },
  {
   "cell_type": "markdown",
   "metadata": {},
   "source": [
    "from pyspark.ml import Pipeline\n",
    "pipeline1 = Pipeline(stages = stages)\n",
    "train2, test2 = df.randomSplit([0.7, 0.3], seed = 2018)\n",
    "print(\"Training Dataset Count: \" + str(train2.count()))\n",
    "print(\"Test Dataset Count: \" + str(test2.count()))\n",
    "\n",
    "model2 = pipeline1.fit(train2)\n",
    "test2 = model.transform(test2)\n"
   ]
  },
  {
   "cell_type": "code",
   "execution_count": null,
   "metadata": {},
   "outputs": [],
   "source": [
    "print(\"Training Dataset Count: \" + str(train.count()))\n",
    "print(\"Test Dataset Count: \" + str(test.count()))"
   ]
  },
  {
   "cell_type": "code",
   "execution_count": null,
   "metadata": {},
   "outputs": [],
   "source": []
  },
  {
   "cell_type": "code",
   "execution_count": null,
   "metadata": {},
   "outputs": [],
   "source": []
  },
  {
   "cell_type": "code",
   "execution_count": 30,
   "metadata": {},
   "outputs": [
    {
     "data": {
      "text/html": [
       "<div>\n",
       "<style scoped>\n",
       "    .dataframe tbody tr th:only-of-type {\n",
       "        vertical-align: middle;\n",
       "    }\n",
       "\n",
       "    .dataframe tbody tr th {\n",
       "        vertical-align: top;\n",
       "    }\n",
       "\n",
       "    .dataframe thead th {\n",
       "        text-align: right;\n",
       "    }\n",
       "</style>\n",
       "<table border=\"1\" class=\"dataframe\">\n",
       "  <thead>\n",
       "    <tr style=\"text-align: right;\">\n",
       "      <th></th>\n",
       "      <th>0</th>\n",
       "      <th>1</th>\n",
       "      <th>2</th>\n",
       "      <th>3</th>\n",
       "      <th>4</th>\n",
       "    </tr>\n",
       "  </thead>\n",
       "  <tbody>\n",
       "    <tr>\n",
       "      <th>ID_Reserva</th>\n",
       "      <td>101940</td>\n",
       "      <td>142252</td>\n",
       "      <td>142253</td>\n",
       "      <td>142254</td>\n",
       "      <td>142255</td>\n",
       "    </tr>\n",
       "    <tr>\n",
       "      <th>date_time</th>\n",
       "      <td>2013-01-14 09:57:25</td>\n",
       "      <td>2013-01-29 12:20:45</td>\n",
       "      <td>2013-01-29 12:30:08</td>\n",
       "      <td>2013-01-29 12:30:48</td>\n",
       "      <td>2013-01-29 13:11:18</td>\n",
       "    </tr>\n",
       "    <tr>\n",
       "      <th>site_name</th>\n",
       "      <td>2</td>\n",
       "      <td>37</td>\n",
       "      <td>37</td>\n",
       "      <td>37</td>\n",
       "      <td>37</td>\n",
       "    </tr>\n",
       "    <tr>\n",
       "      <th>posa_continent</th>\n",
       "      <td>3</td>\n",
       "      <td>1</td>\n",
       "      <td>1</td>\n",
       "      <td>1</td>\n",
       "      <td>1</td>\n",
       "    </tr>\n",
       "    <tr>\n",
       "      <th>user_location_country</th>\n",
       "      <td>66</td>\n",
       "      <td>69</td>\n",
       "      <td>69</td>\n",
       "      <td>69</td>\n",
       "      <td>69</td>\n",
       "    </tr>\n",
       "    <tr>\n",
       "      <th>user_location_region</th>\n",
       "      <td>442</td>\n",
       "      <td>908</td>\n",
       "      <td>908</td>\n",
       "      <td>908</td>\n",
       "      <td>908</td>\n",
       "    </tr>\n",
       "    <tr>\n",
       "      <th>user_location_city</th>\n",
       "      <td>35390</td>\n",
       "      <td>28451</td>\n",
       "      <td>28451</td>\n",
       "      <td>28451</td>\n",
       "      <td>28451</td>\n",
       "    </tr>\n",
       "    <tr>\n",
       "      <th>orig_destination_distance</th>\n",
       "      <td>799.937</td>\n",
       "      <td>NaN</td>\n",
       "      <td>NaN</td>\n",
       "      <td>NaN</td>\n",
       "      <td>NaN</td>\n",
       "    </tr>\n",
       "    <tr>\n",
       "      <th>user_id</th>\n",
       "      <td>397128</td>\n",
       "      <td>552136</td>\n",
       "      <td>552136</td>\n",
       "      <td>552136</td>\n",
       "      <td>552136</td>\n",
       "    </tr>\n",
       "    <tr>\n",
       "      <th>is_mobile</th>\n",
       "      <td>0</td>\n",
       "      <td>0</td>\n",
       "      <td>0</td>\n",
       "      <td>0</td>\n",
       "      <td>0</td>\n",
       "    </tr>\n",
       "    <tr>\n",
       "      <th>is_package</th>\n",
       "      <td>1</td>\n",
       "      <td>0</td>\n",
       "      <td>0</td>\n",
       "      <td>0</td>\n",
       "      <td>1</td>\n",
       "    </tr>\n",
       "    <tr>\n",
       "      <th>channel</th>\n",
       "      <td>0</td>\n",
       "      <td>9</td>\n",
       "      <td>9</td>\n",
       "      <td>9</td>\n",
       "      <td>5</td>\n",
       "    </tr>\n",
       "    <tr>\n",
       "      <th>srch_adults_cnt</th>\n",
       "      <td>3</td>\n",
       "      <td>2</td>\n",
       "      <td>2</td>\n",
       "      <td>2</td>\n",
       "      <td>2</td>\n",
       "    </tr>\n",
       "    <tr>\n",
       "      <th>srch_children_cnt</th>\n",
       "      <td>2</td>\n",
       "      <td>0</td>\n",
       "      <td>0</td>\n",
       "      <td>0</td>\n",
       "      <td>0</td>\n",
       "    </tr>\n",
       "    <tr>\n",
       "      <th>srch_rm_cnt</th>\n",
       "      <td>1</td>\n",
       "      <td>1</td>\n",
       "      <td>1</td>\n",
       "      <td>1</td>\n",
       "      <td>1</td>\n",
       "    </tr>\n",
       "    <tr>\n",
       "      <th>srch_destination_id</th>\n",
       "      <td>8791</td>\n",
       "      <td>8238</td>\n",
       "      <td>8238</td>\n",
       "      <td>8238</td>\n",
       "      <td>8213</td>\n",
       "    </tr>\n",
       "    <tr>\n",
       "      <th>srch_destination_type_id</th>\n",
       "      <td>1</td>\n",
       "      <td>1</td>\n",
       "      <td>1</td>\n",
       "      <td>1</td>\n",
       "      <td>1</td>\n",
       "    </tr>\n",
       "    <tr>\n",
       "      <th>is_booking</th>\n",
       "      <td>0</td>\n",
       "      <td>0</td>\n",
       "      <td>0</td>\n",
       "      <td>0</td>\n",
       "      <td>0</td>\n",
       "    </tr>\n",
       "    <tr>\n",
       "      <th>cnt</th>\n",
       "      <td>1</td>\n",
       "      <td>1</td>\n",
       "      <td>1</td>\n",
       "      <td>1</td>\n",
       "      <td>2</td>\n",
       "    </tr>\n",
       "    <tr>\n",
       "      <th>hotel_continent</th>\n",
       "      <td>4</td>\n",
       "      <td>6</td>\n",
       "      <td>6</td>\n",
       "      <td>6</td>\n",
       "      <td>6</td>\n",
       "    </tr>\n",
       "    <tr>\n",
       "      <th>hotel_country</th>\n",
       "      <td>8</td>\n",
       "      <td>31</td>\n",
       "      <td>31</td>\n",
       "      <td>31</td>\n",
       "      <td>68</td>\n",
       "    </tr>\n",
       "    <tr>\n",
       "      <th>hotel_market</th>\n",
       "      <td>110</td>\n",
       "      <td>155</td>\n",
       "      <td>155</td>\n",
       "      <td>155</td>\n",
       "      <td>275</td>\n",
       "    </tr>\n",
       "    <tr>\n",
       "      <th>hotel_cluster</th>\n",
       "      <td>83</td>\n",
       "      <td>42</td>\n",
       "      <td>15</td>\n",
       "      <td>5</td>\n",
       "      <td>46</td>\n",
       "    </tr>\n",
       "    <tr>\n",
       "      <th>date</th>\n",
       "      <td>2013-01-14 00:00:00</td>\n",
       "      <td>2013-01-29 00:00:00</td>\n",
       "      <td>2013-01-29 00:00:00</td>\n",
       "      <td>2013-01-29 00:00:00</td>\n",
       "      <td>2013-01-29 00:00:00</td>\n",
       "    </tr>\n",
       "    <tr>\n",
       "      <th>month-year</th>\n",
       "      <td>2013-01</td>\n",
       "      <td>2013-01</td>\n",
       "      <td>2013-01</td>\n",
       "      <td>2013-01</td>\n",
       "      <td>2013-01</td>\n",
       "    </tr>\n",
       "    <tr>\n",
       "      <th>month</th>\n",
       "      <td>1</td>\n",
       "      <td>1</td>\n",
       "      <td>1</td>\n",
       "      <td>1</td>\n",
       "      <td>1</td>\n",
       "    </tr>\n",
       "    <tr>\n",
       "      <th>year</th>\n",
       "      <td>2013</td>\n",
       "      <td>2013</td>\n",
       "      <td>2013</td>\n",
       "      <td>2013</td>\n",
       "      <td>2013</td>\n",
       "    </tr>\n",
       "    <tr>\n",
       "      <th>periodo</th>\n",
       "      <td>1</td>\n",
       "      <td>1</td>\n",
       "      <td>1</td>\n",
       "      <td>1</td>\n",
       "      <td>1</td>\n",
       "    </tr>\n",
       "    <tr>\n",
       "      <th>Categoría</th>\n",
       "      <td>9</td>\n",
       "      <td>4</td>\n",
       "      <td>4</td>\n",
       "      <td>4</td>\n",
       "      <td>4</td>\n",
       "    </tr>\n",
       "    <tr>\n",
       "      <th>DistanciaINT</th>\n",
       "      <td>800</td>\n",
       "      <td>NaN</td>\n",
       "      <td>NaN</td>\n",
       "      <td>NaN</td>\n",
       "      <td>NaN</td>\n",
       "    </tr>\n",
       "  </tbody>\n",
       "</table>\n",
       "</div>"
      ],
      "text/plain": [
       "                                             0                    1  \\\n",
       "ID_Reserva                              101940               142252   \n",
       "date_time                  2013-01-14 09:57:25  2013-01-29 12:20:45   \n",
       "site_name                                    2                   37   \n",
       "posa_continent                               3                    1   \n",
       "user_location_country                       66                   69   \n",
       "user_location_region                       442                  908   \n",
       "user_location_city                       35390                28451   \n",
       "orig_destination_distance              799.937                  NaN   \n",
       "user_id                                 397128               552136   \n",
       "is_mobile                                    0                    0   \n",
       "is_package                                   1                    0   \n",
       "channel                                      0                    9   \n",
       "srch_adults_cnt                              3                    2   \n",
       "srch_children_cnt                            2                    0   \n",
       "srch_rm_cnt                                  1                    1   \n",
       "srch_destination_id                       8791                 8238   \n",
       "srch_destination_type_id                     1                    1   \n",
       "is_booking                                   0                    0   \n",
       "cnt                                          1                    1   \n",
       "hotel_continent                              4                    6   \n",
       "hotel_country                                8                   31   \n",
       "hotel_market                               110                  155   \n",
       "hotel_cluster                               83                   42   \n",
       "date                       2013-01-14 00:00:00  2013-01-29 00:00:00   \n",
       "month-year                             2013-01              2013-01   \n",
       "month                                        1                    1   \n",
       "year                                      2013                 2013   \n",
       "periodo                                      1                    1   \n",
       "Categoría                                    9                    4   \n",
       "DistanciaINT                               800                  NaN   \n",
       "\n",
       "                                             2                    3  \\\n",
       "ID_Reserva                              142253               142254   \n",
       "date_time                  2013-01-29 12:30:08  2013-01-29 12:30:48   \n",
       "site_name                                   37                   37   \n",
       "posa_continent                               1                    1   \n",
       "user_location_country                       69                   69   \n",
       "user_location_region                       908                  908   \n",
       "user_location_city                       28451                28451   \n",
       "orig_destination_distance                  NaN                  NaN   \n",
       "user_id                                 552136               552136   \n",
       "is_mobile                                    0                    0   \n",
       "is_package                                   0                    0   \n",
       "channel                                      9                    9   \n",
       "srch_adults_cnt                              2                    2   \n",
       "srch_children_cnt                            0                    0   \n",
       "srch_rm_cnt                                  1                    1   \n",
       "srch_destination_id                       8238                 8238   \n",
       "srch_destination_type_id                     1                    1   \n",
       "is_booking                                   0                    0   \n",
       "cnt                                          1                    1   \n",
       "hotel_continent                              6                    6   \n",
       "hotel_country                               31                   31   \n",
       "hotel_market                               155                  155   \n",
       "hotel_cluster                               15                    5   \n",
       "date                       2013-01-29 00:00:00  2013-01-29 00:00:00   \n",
       "month-year                             2013-01              2013-01   \n",
       "month                                        1                    1   \n",
       "year                                      2013                 2013   \n",
       "periodo                                      1                    1   \n",
       "Categoría                                    4                    4   \n",
       "DistanciaINT                               NaN                  NaN   \n",
       "\n",
       "                                             4  \n",
       "ID_Reserva                              142255  \n",
       "date_time                  2013-01-29 13:11:18  \n",
       "site_name                                   37  \n",
       "posa_continent                               1  \n",
       "user_location_country                       69  \n",
       "user_location_region                       908  \n",
       "user_location_city                       28451  \n",
       "orig_destination_distance                  NaN  \n",
       "user_id                                 552136  \n",
       "is_mobile                                    0  \n",
       "is_package                                   1  \n",
       "channel                                      5  \n",
       "srch_adults_cnt                              2  \n",
       "srch_children_cnt                            0  \n",
       "srch_rm_cnt                                  1  \n",
       "srch_destination_id                       8213  \n",
       "srch_destination_type_id                     1  \n",
       "is_booking                                   0  \n",
       "cnt                                          2  \n",
       "hotel_continent                              6  \n",
       "hotel_country                               68  \n",
       "hotel_market                               275  \n",
       "hotel_cluster                               46  \n",
       "date                       2013-01-29 00:00:00  \n",
       "month-year                             2013-01  \n",
       "month                                        1  \n",
       "year                                      2013  \n",
       "periodo                                      1  \n",
       "Categoría                                    4  \n",
       "DistanciaINT                               NaN  "
      ]
     },
     "execution_count": 30,
     "metadata": {},
     "output_type": "execute_result"
    }
   ],
   "source": [
    "import pandas as pd\n",
    "pd.DataFrame(df.take(5), columns=df.columns).transpose()"
   ]
  },
  {
   "cell_type": "code",
   "execution_count": 32,
   "metadata": {},
   "outputs": [
    {
     "data": {
      "text/html": [
       "<div>\n",
       "<style scoped>\n",
       "    .dataframe tbody tr th:only-of-type {\n",
       "        vertical-align: middle;\n",
       "    }\n",
       "\n",
       "    .dataframe tbody tr th {\n",
       "        vertical-align: top;\n",
       "    }\n",
       "\n",
       "    .dataframe thead th {\n",
       "        text-align: right;\n",
       "    }\n",
       "</style>\n",
       "<table border=\"1\" class=\"dataframe\">\n",
       "  <thead>\n",
       "    <tr style=\"text-align: right;\">\n",
       "      <th></th>\n",
       "      <th>0</th>\n",
       "      <th>1</th>\n",
       "      <th>2</th>\n",
       "      <th>3</th>\n",
       "      <th>4</th>\n",
       "    </tr>\n",
       "  </thead>\n",
       "  <tbody>\n",
       "    <tr>\n",
       "      <th>summary</th>\n",
       "      <td>count</td>\n",
       "      <td>mean</td>\n",
       "      <td>stddev</td>\n",
       "      <td>min</td>\n",
       "      <td>max</td>\n",
       "    </tr>\n",
       "    <tr>\n",
       "      <th>ID_Reserva</th>\n",
       "      <td>243444</td>\n",
       "      <td>121721.5</td>\n",
       "      <td>70276.37380371864</td>\n",
       "      <td>0</td>\n",
       "      <td>243443</td>\n",
       "    </tr>\n",
       "    <tr>\n",
       "      <th>site_name</th>\n",
       "      <td>243444</td>\n",
       "      <td>9.283917451241352</td>\n",
       "      <td>12.185438145803198</td>\n",
       "      <td>2</td>\n",
       "      <td>53</td>\n",
       "    </tr>\n",
       "    <tr>\n",
       "      <th>posa_continent</th>\n",
       "      <td>243444</td>\n",
       "      <td>2.63005044281231</td>\n",
       "      <td>0.781060133854638</td>\n",
       "      <td>0</td>\n",
       "      <td>4</td>\n",
       "    </tr>\n",
       "    <tr>\n",
       "      <th>user_location_country</th>\n",
       "      <td>243444</td>\n",
       "      <td>86.18248549974533</td>\n",
       "      <td>55.08337664808538</td>\n",
       "      <td>0</td>\n",
       "      <td>239</td>\n",
       "    </tr>\n",
       "    <tr>\n",
       "      <th>user_location_region</th>\n",
       "      <td>243444</td>\n",
       "      <td>317.80888007098144</td>\n",
       "      <td>213.13130093290218</td>\n",
       "      <td>0</td>\n",
       "      <td>1025</td>\n",
       "    </tr>\n",
       "    <tr>\n",
       "      <th>user_location_city</th>\n",
       "      <td>243444</td>\n",
       "      <td>28159.686215310296</td>\n",
       "      <td>16822.67808510821</td>\n",
       "      <td>3</td>\n",
       "      <td>56498</td>\n",
       "    </tr>\n",
       "    <tr>\n",
       "      <th>orig_destination_distance</th>\n",
       "      <td>158548</td>\n",
       "      <td>1958.1036483857877</td>\n",
       "      <td>2194.1038366294333</td>\n",
       "      <td>0.0056</td>\n",
       "      <td>11641.2242</td>\n",
       "    </tr>\n",
       "    <tr>\n",
       "      <th>user_id</th>\n",
       "      <td>243444</td>\n",
       "      <td>457983.90522666404</td>\n",
       "      <td>255291.1348647778</td>\n",
       "      <td>12</td>\n",
       "      <td>880346</td>\n",
       "    </tr>\n",
       "    <tr>\n",
       "      <th>is_mobile</th>\n",
       "      <td>243444</td>\n",
       "      <td>0.13272046137920837</td>\n",
       "      <td>0.339273066031911</td>\n",
       "      <td>0.0</td>\n",
       "      <td>1.0</td>\n",
       "    </tr>\n",
       "    <tr>\n",
       "      <th>is_package</th>\n",
       "      <td>243444</td>\n",
       "      <td>0.2550278503475132</td>\n",
       "      <td>0.435877765340435</td>\n",
       "      <td>0.0</td>\n",
       "      <td>1.0</td>\n",
       "    </tr>\n",
       "    <tr>\n",
       "      <th>channel</th>\n",
       "      <td>243444</td>\n",
       "      <td>5.850228389280492</td>\n",
       "      <td>3.734811684141284</td>\n",
       "      <td>0</td>\n",
       "      <td>10</td>\n",
       "    </tr>\n",
       "    <tr>\n",
       "      <th>srch_adults_cnt</th>\n",
       "      <td>243444</td>\n",
       "      <td>2.034126945005833</td>\n",
       "      <td>0.931775283420284</td>\n",
       "      <td>0</td>\n",
       "      <td>9</td>\n",
       "    </tr>\n",
       "    <tr>\n",
       "      <th>srch_children_cnt</th>\n",
       "      <td>243444</td>\n",
       "      <td>0.3315382593122032</td>\n",
       "      <td>0.7279134407589916</td>\n",
       "      <td>0</td>\n",
       "      <td>9</td>\n",
       "    </tr>\n",
       "    <tr>\n",
       "      <th>srch_rm_cnt</th>\n",
       "      <td>243444</td>\n",
       "      <td>1.1189924582244788</td>\n",
       "      <td>0.4628952719090253</td>\n",
       "      <td>0.0</td>\n",
       "      <td>8.0</td>\n",
       "    </tr>\n",
       "    <tr>\n",
       "      <th>srch_destination_id</th>\n",
       "      <td>243444</td>\n",
       "      <td>14566.312626312418</td>\n",
       "      <td>11037.863057735554</td>\n",
       "      <td>8.0</td>\n",
       "      <td>65035.0</td>\n",
       "    </tr>\n",
       "    <tr>\n",
       "      <th>srch_destination_type_id</th>\n",
       "      <td>243444</td>\n",
       "      <td>2.6135209740227734</td>\n",
       "      <td>2.1673946523905547</td>\n",
       "      <td>1.0</td>\n",
       "      <td>9.0</td>\n",
       "    </tr>\n",
       "    <tr>\n",
       "      <th>is_booking</th>\n",
       "      <td>243444</td>\n",
       "      <td>0.08392895285979528</td>\n",
       "      <td>0.27728180530751134</td>\n",
       "      <td>0.0</td>\n",
       "      <td>1.0</td>\n",
       "    </tr>\n",
       "    <tr>\n",
       "      <th>cnt</th>\n",
       "      <td>243444</td>\n",
       "      <td>1.4769022855358933</td>\n",
       "      <td>1.1981795786514755</td>\n",
       "      <td>1.0</td>\n",
       "      <td>59.0</td>\n",
       "    </tr>\n",
       "    <tr>\n",
       "      <th>hotel_continent</th>\n",
       "      <td>243444</td>\n",
       "      <td>3.209087100113373</td>\n",
       "      <td>1.6450941549475977</td>\n",
       "      <td>0.0</td>\n",
       "      <td>6.0</td>\n",
       "    </tr>\n",
       "    <tr>\n",
       "      <th>hotel_country</th>\n",
       "      <td>243444</td>\n",
       "      <td>80.46378222507025</td>\n",
       "      <td>55.83606036423737</td>\n",
       "      <td>0.0</td>\n",
       "      <td>212.0</td>\n",
       "    </tr>\n",
       "    <tr>\n",
       "      <th>hotel_market</th>\n",
       "      <td>243444</td>\n",
       "      <td>605.4655033601157</td>\n",
       "      <td>513.9620002682111</td>\n",
       "      <td>0.0</td>\n",
       "      <td>2117.0</td>\n",
       "    </tr>\n",
       "    <tr>\n",
       "      <th>hotel_cluster</th>\n",
       "      <td>243444</td>\n",
       "      <td>49.64414403312466</td>\n",
       "      <td>28.972730486304986</td>\n",
       "      <td>0.0</td>\n",
       "      <td>99.0</td>\n",
       "    </tr>\n",
       "    <tr>\n",
       "      <th>month-year</th>\n",
       "      <td>243444</td>\n",
       "      <td>None</td>\n",
       "      <td>None</td>\n",
       "      <td>2013-01</td>\n",
       "      <td>2014-12</td>\n",
       "    </tr>\n",
       "    <tr>\n",
       "      <th>month</th>\n",
       "      <td>243444</td>\n",
       "      <td>7.186572682013112</td>\n",
       "      <td>3.2641523712729676</td>\n",
       "      <td>1</td>\n",
       "      <td>12</td>\n",
       "    </tr>\n",
       "    <tr>\n",
       "      <th>year</th>\n",
       "      <td>243444</td>\n",
       "      <td>2013.7150350799363</td>\n",
       "      <td>0.45139866125625633</td>\n",
       "      <td>2013</td>\n",
       "      <td>2014</td>\n",
       "    </tr>\n",
       "    <tr>\n",
       "      <th>periodo</th>\n",
       "      <td>243444</td>\n",
       "      <td>2.8690992589671547</td>\n",
       "      <td>1.0264502762384757</td>\n",
       "      <td>1</td>\n",
       "      <td>4</td>\n",
       "    </tr>\n",
       "    <tr>\n",
       "      <th>Categoría</th>\n",
       "      <td>243444</td>\n",
       "      <td>4.0684921378222505</td>\n",
       "      <td>1.451417262451075</td>\n",
       "      <td>1</td>\n",
       "      <td>10</td>\n",
       "    </tr>\n",
       "    <tr>\n",
       "      <th>DistanciaINT</th>\n",
       "      <td>158548</td>\n",
       "      <td>1958.1010671847012</td>\n",
       "      <td>2194.1067862932186</td>\n",
       "      <td>0</td>\n",
       "      <td>11641</td>\n",
       "    </tr>\n",
       "  </tbody>\n",
       "</table>\n",
       "</div>"
      ],
      "text/plain": [
       "                                0                    1                    2  \\\n",
       "summary                     count                 mean               stddev   \n",
       "ID_Reserva                 243444             121721.5    70276.37380371864   \n",
       "site_name                  243444    9.283917451241352   12.185438145803198   \n",
       "posa_continent             243444     2.63005044281231    0.781060133854638   \n",
       "user_location_country      243444    86.18248549974533    55.08337664808538   \n",
       "user_location_region       243444   317.80888007098144   213.13130093290218   \n",
       "user_location_city         243444   28159.686215310296    16822.67808510821   \n",
       "orig_destination_distance  158548   1958.1036483857877   2194.1038366294333   \n",
       "user_id                    243444   457983.90522666404    255291.1348647778   \n",
       "is_mobile                  243444  0.13272046137920837    0.339273066031911   \n",
       "is_package                 243444   0.2550278503475132    0.435877765340435   \n",
       "channel                    243444    5.850228389280492    3.734811684141284   \n",
       "srch_adults_cnt            243444    2.034126945005833    0.931775283420284   \n",
       "srch_children_cnt          243444   0.3315382593122032   0.7279134407589916   \n",
       "srch_rm_cnt                243444   1.1189924582244788   0.4628952719090253   \n",
       "srch_destination_id        243444   14566.312626312418   11037.863057735554   \n",
       "srch_destination_type_id   243444   2.6135209740227734   2.1673946523905547   \n",
       "is_booking                 243444  0.08392895285979528  0.27728180530751134   \n",
       "cnt                        243444   1.4769022855358933   1.1981795786514755   \n",
       "hotel_continent            243444    3.209087100113373   1.6450941549475977   \n",
       "hotel_country              243444    80.46378222507025    55.83606036423737   \n",
       "hotel_market               243444    605.4655033601157    513.9620002682111   \n",
       "hotel_cluster              243444    49.64414403312466   28.972730486304986   \n",
       "month-year                 243444                 None                 None   \n",
       "month                      243444    7.186572682013112   3.2641523712729676   \n",
       "year                       243444   2013.7150350799363  0.45139866125625633   \n",
       "periodo                    243444   2.8690992589671547   1.0264502762384757   \n",
       "Categoría                  243444   4.0684921378222505    1.451417262451075   \n",
       "DistanciaINT               158548   1958.1010671847012   2194.1067862932186   \n",
       "\n",
       "                                 3           4  \n",
       "summary                        min         max  \n",
       "ID_Reserva                       0      243443  \n",
       "site_name                        2          53  \n",
       "posa_continent                   0           4  \n",
       "user_location_country            0         239  \n",
       "user_location_region             0        1025  \n",
       "user_location_city               3       56498  \n",
       "orig_destination_distance   0.0056  11641.2242  \n",
       "user_id                         12      880346  \n",
       "is_mobile                      0.0         1.0  \n",
       "is_package                     0.0         1.0  \n",
       "channel                          0          10  \n",
       "srch_adults_cnt                  0           9  \n",
       "srch_children_cnt                0           9  \n",
       "srch_rm_cnt                    0.0         8.0  \n",
       "srch_destination_id            8.0     65035.0  \n",
       "srch_destination_type_id       1.0         9.0  \n",
       "is_booking                     0.0         1.0  \n",
       "cnt                            1.0        59.0  \n",
       "hotel_continent                0.0         6.0  \n",
       "hotel_country                  0.0       212.0  \n",
       "hotel_market                   0.0      2117.0  \n",
       "hotel_cluster                  0.0        99.0  \n",
       "month-year                 2013-01     2014-12  \n",
       "month                            1          12  \n",
       "year                          2013        2014  \n",
       "periodo                          1           4  \n",
       "Categoría                        1          10  \n",
       "DistanciaINT                     0       11641  "
      ]
     },
     "execution_count": 32,
     "metadata": {},
     "output_type": "execute_result"
    }
   ],
   "source": [
    "numeric_features = [t[0] for t in df.dtypes if t[1] == 'int' or 'double']\n",
    "df.select(numeric_features).describe().toPandas().transpose()"
   ]
  },
  {
   "cell_type": "code",
   "execution_count": 68,
   "metadata": {},
   "outputs": [
    {
     "data": {
      "text/plain": [
       "Column<b'periodo[mean]'>"
      ]
     },
     "execution_count": 68,
     "metadata": {},
     "output_type": "execute_result"
    }
   ],
   "source": [
    "df['periodo'].mean\n"
   ]
  },
  {
   "cell_type": "code",
   "execution_count": null,
   "metadata": {},
   "outputs": [],
   "source": []
  },
  {
   "cell_type": "code",
   "execution_count": 69,
   "metadata": {},
   "outputs": [
    {
     "name": "stdout",
     "output_type": "stream",
     "text": [
      "+----------+----------+---------+----------+-------------------+---------------+\n",
      "|is_booking|ID_Reserva|is_mobile|month-year|          date_time|hotel_continent|\n",
      "+----------+----------+---------+----------+-------------------+---------------+\n",
      "|       0.0|    101940|      0.0|   2013-01|2013-01-14 09:57:25|            4.0|\n",
      "|       0.0|    142252|      0.0|   2013-01|2013-01-29 12:20:45|            6.0|\n",
      "|       0.0|    142253|      0.0|   2013-01|2013-01-29 12:30:08|            6.0|\n",
      "|       0.0|    142254|      0.0|   2013-01|2013-01-29 12:30:48|            6.0|\n",
      "|       0.0|    142255|      0.0|   2013-01|2013-01-29 13:11:18|            6.0|\n",
      "|       1.0|    142256|      0.0|   2013-01|2013-01-29 13:24:55|            6.0|\n",
      "|       0.0|    142257|      0.0|   2013-01|2013-01-29 17:03:13|            6.0|\n",
      "|       0.0|    142258|      0.0|   2013-01|2013-01-31 11:07:07|            6.0|\n",
      "|       0.0|     22936|      0.0|   2013-01|2013-01-28 19:43:15|            2.0|\n",
      "|       0.0|     22937|      0.0|   2013-01|2013-01-29 14:26:19|            2.0|\n",
      "|       0.0|    142251|      0.0|   2013-01|2013-01-29 12:18:17|            6.0|\n",
      "|       0.0|     22938|      0.0|   2013-01|2013-01-30 08:13:13|            2.0|\n",
      "|       0.0|     22940|      0.0|   2013-01|2013-01-30 08:22:49|            2.0|\n",
      "|       0.0|     22941|      0.0|   2013-01|2013-01-30 08:30:44|            2.0|\n",
      "|       0.0|     22942|      0.0|   2013-01|2013-01-31 06:06:06|            2.0|\n",
      "|       1.0|     22943|      0.0|   2013-01|2013-01-31 06:18:28|            2.0|\n",
      "|       0.0|    193539|      0.0|   2013-01|2013-01-28 10:06:16|            2.0|\n",
      "|       0.0|     92242|      0.0|   2013-01|2013-01-28 09:56:43|            2.0|\n",
      "|       1.0|     92241|      0.0|   2013-01|2013-01-28 09:56:30|            2.0|\n",
      "|       0.0|     92240|      0.0|   2013-01|2013-01-28 09:45:16|            2.0|\n",
      "+----------+----------+---------+----------+-------------------+---------------+\n",
      "only showing top 20 rows\n",
      "\n"
     ]
    }
   ],
   "source": [
    "df.select(\"is_booking\",\"ID_Reserva\",\"is_mobile\",\"month-year\",\"date_time\",\"hotel_continent\").show()"
   ]
  },
  {
   "cell_type": "code",
   "execution_count": 39,
   "metadata": {},
   "outputs": [],
   "source": [
    "import pyspark.ml.feature as ft\n",
    "encoder = ft.OneHotEncoder(\n",
    "    inputCol='ID_Reserva', \n",
    "    outputCol='ID_ReservaVEC')"
   ]
  },
  {
   "cell_type": "code",
   "execution_count": 23,
   "metadata": {
    "scrolled": true
   },
   "outputs": [
    {
     "name": "stdout",
     "output_type": "stream",
     "text": [
      "+----------+-------------------+---------+--------------+---------------------+--------------------+------------------+-------------------------+-------+---------+----------+-------+---------------+-----------------+-----------+-------------------+------------------------+----------+---+---------------+-------------+------------+-------------+-------------------+----------+-----+----+-------+---------+----------------------+------------------------------+-------------+\n",
      "|ID_Reserva|          date_time|site_name|posa_continent|user_location_country|user_location_region|user_location_city|orig_destination_distance|user_id|is_mobile|is_package|channel|srch_adults_cnt|srch_children_cnt|srch_rm_cnt|srch_destination_id|srch_destination_type_id|is_booking|cnt|hotel_continent|hotel_country|hotel_market|hotel_cluster|               date|month-year|month|year|periodo|Categoría|posa_continent_indexed|posa_continent_indexed_encoded|     features|\n",
      "+----------+-------------------+---------+--------------+---------------------+--------------------+------------------+-------------------------+-------+---------+----------+-------+---------------+-----------------+-----------+-------------------+------------------------+----------+---+---------------+-------------+------------+-------------+-------------------+----------+-----+----+-------+---------+----------------------+------------------------------+-------------+\n",
      "|    101940|2013-01-14 09:57:25|        2|             3|                   66|                 442|             35390|                 799.9374| 397128|      0.0|       1.0|      0|              3|                2|        1.0|             8791.0|                     1.0|       0.0|1.0|            4.0|          8.0|       110.0|         83.0|2013-01-14 00:00:00|   2013-01|    1|2013|      1|        9|                   0.0|                 (5,[0],[1.0])|(5,[0],[1.0])|\n",
      "+----------+-------------------+---------+--------------+---------------------+--------------------+------------------+-------------------------+-------+---------+----------+-------+---------------+-----------------+-----------+-------------------+------------------------+----------+---+---------------+-------------+------------+-------------+-------------------+----------+-----+----+-------+---------+----------------------+------------------------------+-------------+\n",
      "only showing top 1 row\n",
      "\n"
     ]
    }
   ],
   "source": [
    "from pyspark.ml import Pipeline\n",
    "from pyspark.ml.feature import StringIndexer, OneHotEncoder, VectorAssembler\n",
    "import pyspark.ml.feature as ft\n",
    "categorical_columns2= ['site_name','posa_continent','user_location_country','user_location_region','user_location_city','user_id','is_mobile','is_package','channel','srch_adults_cnt','srch_children_cnt','srch_rm_cnt','srch_destination_id','srch_destination_type_id','is_booking','cnt','hotel_continent','hotel_country','hotel_market','hotel_cluster','month-year','year','periodo', 'Categoría']\n",
    "categorical_columns= ['posa_continent']\n",
    "# The index of string vlaues multiple columns\n",
    "indexers = [\n",
    "    StringIndexer(inputCol=c, outputCol=\"{0}_indexed\".format(c))\n",
    "    for c in categorical_columns\n",
    "]\n",
    "\n",
    "# The encode of indexed vlaues multiple columns\n",
    "encoders = [OneHotEncoder(dropLast=False,inputCol=indexer.getOutputCol(),\n",
    "            outputCol=\"{0}_encoded\".format(indexer.getOutputCol())) \n",
    "    for indexer in indexers\n",
    "]\n",
    "\n",
    "#featuresCreator = ft.VectorAssembler(\n",
    "    #inputCols=[\n",
    "        #col[0] \n",
    "       # for col \n",
    "      # in Estructura[2:]] + \\\n",
    "    #[encoder.getOutputCol()], \n",
    "   # outputCol='features1'\n",
    "#)error de que hay un modo int o alguno q falla no es subscriptable\n",
    "# Vectorizing encoded values\n",
    "assembler = VectorAssembler(inputCols=[encoder.getOutputCol() for encoder in encoders],outputCol=\"features\")\n",
    "#and origindestinance and fecha\n",
    "pipeline = Pipeline(stages=indexers + encoders+[assembler])\n",
    "model=pipeline.fit(df)\n",
    "transformed = model.transform(df)\n",
    "transformed.show(1)"
   ]
  },
  {
   "cell_type": "code",
   "execution_count": 40,
   "metadata": {},
   "outputs": [
    {
     "data": {
      "text/plain": [
       "pyspark.sql.column.Column"
      ]
     },
     "execution_count": 40,
     "metadata": {},
     "output_type": "execute_result"
    }
   ],
   "source": [
    "#df.select(\"hotel_continent\").show()\n",
    "\n",
    "type(df['ID_Reserva'])  #donde esta la out col"
   ]
  },
  {
   "cell_type": "code",
   "execution_count": 57,
   "metadata": {},
   "outputs": [
    {
     "data": {
      "text/plain": [
       "Column<b'hotel_clusterINt'>"
      ]
     },
     "execution_count": 57,
     "metadata": {},
     "output_type": "execute_result"
    }
   ],
   "source": [
    "df = df.withColumn('is_bookingInt', df['is_booking'].cast(typ.DoubleType()))\n",
    "df = df.withColumn('is_mobileInt', df['is_mobile'].cast(typ.DoubleType()))\n",
    "df = df.withColumn('is_packageInt', df['is_package'].cast(typ.DoubleType()))\n",
    "df = df.withColumn('hotel_clusterInt', df['hotel_cluster'].cast(typ.DoubleType()))\n",
    "df = df.withColumn('orig_destination_distanceInt', df['orig_destination_distance'].cast(typ.DoubleType()))\n",
    "df = df.withColumn('hotel_clusterINt', df['hotel_cluster'].cast(typ.DoubleType()))\n",
    "#df[\"hotel_clusterINt\"]"
   ]
  },
  {
   "cell_type": "code",
   "execution_count": null,
   "metadata": {},
   "outputs": [],
   "source": [
    "tokenizer = Tokenizer(inputCol=\"SystemInfo\", outputCol=\"words\")\n",
    "hashingTF = HashingTF(inputCol=tokenizer.getOutputCol(), outputCol=\"features\")\n",
    "lr = LogisticRegression(maxIter=10, regParam=0.01)\n",
    "\n",
    "# Build the pipeline with our tokenizer, hashingTF, and logistic regression stages\n",
    "pipeline = Pipeline(stages=[tokenizer, hashingTF, lr])\n",
    "\n",
    "model = pipeline.fit(training)"
   ]
  },
  {
   "cell_type": "code",
   "execution_count": 54,
   "metadata": {},
   "outputs": [
    {
     "ename": "TypeError",
     "evalue": "'StructField' object is not subscriptable",
     "output_type": "error",
     "traceback": [
      "\u001b[1;31m---------------------------------------------------------------------------\u001b[0m",
      "\u001b[1;31mTypeError\u001b[0m                                 Traceback (most recent call last)",
      "\u001b[1;32m<ipython-input-54-9f776e7780be>\u001b[0m in \u001b[0;36m<module>\u001b[1;34m\u001b[0m\n\u001b[0;32m      1\u001b[0m \u001b[1;32mimport\u001b[0m \u001b[0mpyspark\u001b[0m\u001b[1;33m.\u001b[0m\u001b[0msql\u001b[0m\u001b[1;33m.\u001b[0m\u001b[0mtypes\u001b[0m \u001b[1;32mas\u001b[0m \u001b[0mtyp\u001b[0m\u001b[1;33m\u001b[0m\u001b[1;33m\u001b[0m\u001b[0m\n\u001b[0;32m      2\u001b[0m schema = typ.StructType([\n\u001b[1;32m----> 3\u001b[1;33m     \u001b[0mtyp\u001b[0m\u001b[1;33m.\u001b[0m\u001b[0mStructField\u001b[0m\u001b[1;33m(\u001b[0m\u001b[0me\u001b[0m\u001b[1;33m[\u001b[0m\u001b[1;36m0\u001b[0m\u001b[1;33m]\u001b[0m\u001b[1;33m,\u001b[0m \u001b[0me\u001b[0m\u001b[1;33m[\u001b[0m\u001b[1;36m1\u001b[0m\u001b[1;33m]\u001b[0m\u001b[1;33m,\u001b[0m \u001b[1;32mFalse\u001b[0m\u001b[1;33m)\u001b[0m \u001b[1;32mfor\u001b[0m \u001b[0me\u001b[0m \u001b[1;32min\u001b[0m \u001b[0mEstructura\u001b[0m\u001b[1;33m\u001b[0m\u001b[1;33m\u001b[0m\u001b[0m\n\u001b[0m\u001b[0;32m      4\u001b[0m ])\n",
      "\u001b[1;32m<ipython-input-54-9f776e7780be>\u001b[0m in \u001b[0;36m<listcomp>\u001b[1;34m(.0)\u001b[0m\n\u001b[0;32m      1\u001b[0m \u001b[1;32mimport\u001b[0m \u001b[0mpyspark\u001b[0m\u001b[1;33m.\u001b[0m\u001b[0msql\u001b[0m\u001b[1;33m.\u001b[0m\u001b[0mtypes\u001b[0m \u001b[1;32mas\u001b[0m \u001b[0mtyp\u001b[0m\u001b[1;33m\u001b[0m\u001b[1;33m\u001b[0m\u001b[0m\n\u001b[0;32m      2\u001b[0m schema = typ.StructType([\n\u001b[1;32m----> 3\u001b[1;33m     \u001b[0mtyp\u001b[0m\u001b[1;33m.\u001b[0m\u001b[0mStructField\u001b[0m\u001b[1;33m(\u001b[0m\u001b[0me\u001b[0m\u001b[1;33m[\u001b[0m\u001b[1;36m0\u001b[0m\u001b[1;33m]\u001b[0m\u001b[1;33m,\u001b[0m \u001b[0me\u001b[0m\u001b[1;33m[\u001b[0m\u001b[1;36m1\u001b[0m\u001b[1;33m]\u001b[0m\u001b[1;33m,\u001b[0m \u001b[1;32mFalse\u001b[0m\u001b[1;33m)\u001b[0m \u001b[1;32mfor\u001b[0m \u001b[0me\u001b[0m \u001b[1;32min\u001b[0m \u001b[0mEstructura\u001b[0m\u001b[1;33m\u001b[0m\u001b[1;33m\u001b[0m\u001b[0m\n\u001b[0m\u001b[0;32m      4\u001b[0m ])\n",
      "\u001b[1;31mTypeError\u001b[0m: 'StructField' object is not subscriptable"
     ]
    }
   ],
   "source": [
    "import pyspark.sql.types as typ\n",
    "schema = typ.StructType([\n",
    "    typ.StructField(e[0], e[1], False) for e in Estructura\n",
    "])"
   ]
  },
  {
   "cell_type": "code",
   "execution_count": 46,
   "metadata": {},
   "outputs": [
    {
     "ename": "TypeError",
     "evalue": "'StructField' object is not subscriptable",
     "output_type": "error",
     "traceback": [
      "\u001b[1;31m---------------------------------------------------------------------------\u001b[0m",
      "\u001b[1;31mTypeError\u001b[0m                                 Traceback (most recent call last)",
      "\u001b[1;32m<ipython-input-46-2efb1f19ab60>\u001b[0m in \u001b[0;36m<module>\u001b[1;34m\u001b[0m\n\u001b[1;32m----> 1\u001b[1;33m featuresCreator = ft.VectorAssembler(inputCols=[col[0] for col in Estructura[2:]] + [encoder.getOutputCol()],\n\u001b[0m\u001b[0;32m      2\u001b[0m                    outputCol='features')\n",
      "\u001b[1;32m<ipython-input-46-2efb1f19ab60>\u001b[0m in \u001b[0;36m<listcomp>\u001b[1;34m(.0)\u001b[0m\n\u001b[1;32m----> 1\u001b[1;33m featuresCreator = ft.VectorAssembler(inputCols=[col[0] for col in Estructura[2:]] + [encoder.getOutputCol()],\n\u001b[0m\u001b[0;32m      2\u001b[0m                    outputCol='features')\n",
      "\u001b[1;31mTypeError\u001b[0m: 'StructField' object is not subscriptable"
     ]
    }
   ],
   "source": [
    "featuresCreator = ft.VectorAssembler(inputCols=[col[0] for col in Estructura[2:]] + [encoder.getOutputCol()],\n",
    "                   outputCol='features')"
   ]
  },
  {
   "cell_type": "code",
   "execution_count": 42,
   "metadata": {},
   "outputs": [
    {
     "ename": "TypeError",
     "evalue": "'StructField' object is not subscriptable",
     "output_type": "error",
     "traceback": [
      "\u001b[1;31m---------------------------------------------------------------------------\u001b[0m",
      "\u001b[1;31mTypeError\u001b[0m                                 Traceback (most recent call last)",
      "\u001b[1;32m<ipython-input-42-319568522646>\u001b[0m in \u001b[0;36m<module>\u001b[1;34m\u001b[0m\n\u001b[0;32m      3\u001b[0m         \u001b[0mcol\u001b[0m\u001b[1;33m[\u001b[0m\u001b[1;36m0\u001b[0m\u001b[1;33m]\u001b[0m\u001b[1;33m\u001b[0m\u001b[1;33m\u001b[0m\u001b[0m\n\u001b[0;32m      4\u001b[0m         \u001b[1;32mfor\u001b[0m \u001b[0mcol\u001b[0m\u001b[1;33m\u001b[0m\u001b[1;33m\u001b[0m\u001b[0m\n\u001b[1;32m----> 5\u001b[1;33m         in Estructura[2:]] + \\\n\u001b[0m\u001b[0;32m      6\u001b[0m     \u001b[1;33m[\u001b[0m\u001b[0mencoder\u001b[0m\u001b[1;33m.\u001b[0m\u001b[0mgetOutputCol\u001b[0m\u001b[1;33m(\u001b[0m\u001b[1;33m)\u001b[0m\u001b[1;33m]\u001b[0m\u001b[1;33m,\u001b[0m\u001b[1;33m\u001b[0m\u001b[1;33m\u001b[0m\u001b[0m\n\u001b[0;32m      7\u001b[0m     \u001b[0moutputCol\u001b[0m\u001b[1;33m=\u001b[0m\u001b[1;34m'features'\u001b[0m\u001b[1;33m\u001b[0m\u001b[1;33m\u001b[0m\u001b[0m\n",
      "\u001b[1;32m<ipython-input-42-319568522646>\u001b[0m in \u001b[0;36m<listcomp>\u001b[1;34m(.0)\u001b[0m\n\u001b[0;32m      2\u001b[0m     inputCols=[\n\u001b[0;32m      3\u001b[0m         \u001b[0mcol\u001b[0m\u001b[1;33m[\u001b[0m\u001b[1;36m0\u001b[0m\u001b[1;33m]\u001b[0m\u001b[1;33m\u001b[0m\u001b[1;33m\u001b[0m\u001b[0m\n\u001b[1;32m----> 4\u001b[1;33m         \u001b[1;32mfor\u001b[0m \u001b[0mcol\u001b[0m\u001b[1;33m\u001b[0m\u001b[1;33m\u001b[0m\u001b[0m\n\u001b[0m\u001b[0;32m      5\u001b[0m         in Estructura[2:]] + \\\n\u001b[0;32m      6\u001b[0m     \u001b[1;33m[\u001b[0m\u001b[0mencoder\u001b[0m\u001b[1;33m.\u001b[0m\u001b[0mgetOutputCol\u001b[0m\u001b[1;33m(\u001b[0m\u001b[1;33m)\u001b[0m\u001b[1;33m]\u001b[0m\u001b[1;33m,\u001b[0m\u001b[1;33m\u001b[0m\u001b[1;33m\u001b[0m\u001b[0m\n",
      "\u001b[1;31mTypeError\u001b[0m: 'StructField' object is not subscriptable"
     ]
    }
   ],
   "source": [
    "featuresCreator = ft.VectorAssembler(\n",
    "    inputCols=[\n",
    "        col[0] \n",
    "        for col \n",
    "        in Estructura[2:]] + \\\n",
    "    [encoder.getOutputCol()], \n",
    "    outputCol='features'\n",
    ")"
   ]
  },
  {
   "cell_type": "markdown",
   "metadata": {},
   "source": [
    "**USO DE sql EN NUESTRO DATASET**"
   ]
  },
  {
   "cell_type": "markdown",
   "metadata": {},
   "source": []
  },
  {
   "cell_type": "code",
   "execution_count": 253,
   "metadata": {},
   "outputs": [
    {
     "data": {
      "text/plain": [
       "[Row(count(1)=243444)]"
      ]
     },
     "execution_count": 253,
     "metadata": {},
     "output_type": "execute_result"
    }
   ],
   "source": [
    "spark.sql(\"select count(*) from Mkt_tb\").collect()"
   ]
  },
  {
   "cell_type": "code",
   "execution_count": 254,
   "metadata": {
    "scrolled": true
   },
   "outputs": [
    {
     "data": {
      "text/plain": [
       "[Row(count(1)=3345, hotel_cluster=70.0),\n",
       " Row(count(1)=2207, hotel_cluster=8.0),\n",
       " Row(count(1)=1722, hotel_cluster=67.0),\n",
       " Row(count(1)=2299, hotel_cluster=69.0),\n",
       " Row(count(1)=2425, hotel_cluster=0.0),\n",
       " Row(count(1)=1693, hotel_cluster=7.0),\n",
       " Row(count(1)=675, hotel_cluster=88.0),\n",
       " Row(count(1)=1534, hotel_cluster=49.0),\n",
       " Row(count(1)=3805, hotel_cluster=98.0),\n",
       " Row(count(1)=2434, hotel_cluster=29.0),\n",
       " Row(count(1)=4645, hotel_cluster=64.0),\n",
       " Row(count(1)=1115, hotel_cluster=75.0),\n",
       " Row(count(1)=2844, hotel_cluster=47.0),\n",
       " Row(count(1)=3742, hotel_cluster=42.0),\n",
       " Row(count(1)=1936, hotel_cluster=44.0),\n",
       " Row(count(1)=2442, hotel_cluster=96.0),\n",
       " Row(count(1)=871, hotel_cluster=35.0),\n",
       " Row(count(1)=3182, hotel_cluster=62.0),\n",
       " Row(count(1)=3496, hotel_cluster=18.0),\n",
       " Row(count(1)=1495, hotel_cluster=86.0),\n",
       " Row(count(1)=1507, hotel_cluster=80.0),\n",
       " Row(count(1)=2179, hotel_cluster=39.0),\n",
       " Row(count(1)=2867, hotel_cluster=1.0),\n",
       " Row(count(1)=1818, hotel_cluster=94.0),\n",
       " Row(count(1)=3299, hotel_cluster=37.0),\n",
       " Row(count(1)=2066, hotel_cluster=34.0),\n",
       " Row(count(1)=3598, hotel_cluster=25.0),\n",
       " Row(count(1)=2616, hotel_cluster=36.0),\n",
       " Row(count(1)=5014, hotel_cluster=41.0),\n",
       " Row(count(1)=2346, hotel_cluster=4.0),\n",
       " Row(count(1)=2276, hotel_cluster=85.0),\n",
       " Row(count(1)=1576, hotel_cluster=23.0),\n",
       " Row(count(1)=2622, hotel_cluster=77.0),\n",
       " Row(count(1)=2357, hotel_cluster=56.0),\n",
       " Row(count(1)=3228, hotel_cluster=50.0),\n",
       " Row(count(1)=2458, hotel_cluster=78.0),\n",
       " Row(count(1)=1781, hotel_cluster=79.0),\n",
       " Row(count(1)=3230, hotel_cluster=83.0),\n",
       " Row(count(1)=1415, hotel_cluster=45.0),\n",
       " Row(count(1)=1428, hotel_cluster=71.0),\n",
       " Row(count(1)=1445, hotel_cluster=93.0),\n",
       " Row(count(1)=1677, hotel_cluster=31.0),\n",
       " Row(count(1)=2300, hotel_cluster=11.0),\n",
       " Row(count(1)=2999, hotel_cluster=58.0),\n",
       " Row(count(1)=3571, hotel_cluster=21.0),\n",
       " Row(count(1)=2427, hotel_cluster=51.0),\n",
       " Row(count(1)=3039, hotel_cluster=72.0),\n",
       " Row(count(1)=1320, hotel_cluster=14.0),\n",
       " Row(count(1)=1804, hotel_cluster=63.0),\n",
       " Row(count(1)=5047, hotel_cluster=48.0),\n",
       " Row(count(1)=1953, hotel_cluster=22.0),\n",
       " Row(count(1)=3332, hotel_cluster=82.0),\n",
       " Row(count(1)=327, hotel_cluster=74.0),\n",
       " Row(count(1)=1391, hotel_cluster=60.0),\n",
       " Row(count(1)=1722, hotel_cluster=66.0),\n",
       " Row(count(1)=3424, hotel_cluster=68.0),\n",
       " Row(count(1)=1734, hotel_cluster=19.0),\n",
       " Row(count(1)=915, hotel_cluster=53.0),\n",
       " Row(count(1)=1402, hotel_cluster=3.0),\n",
       " Row(count(1)=2369, hotel_cluster=61.0),\n",
       " Row(count(1)=3727, hotel_cluster=59.0),\n",
       " Row(count(1)=1985, hotel_cluster=81.0),\n",
       " Row(count(1)=3449, hotel_cluster=46.0),\n",
       " Row(count(1)=3277, hotel_cluster=28.0),\n",
       " Row(count(1)=3038, hotel_cluster=2.0),\n",
       " Row(count(1)=1965, hotel_cluster=57.0),\n",
       " Row(count(1)=1377, hotel_cluster=87.0),\n",
       " Row(count(1)=2220, hotel_cluster=17.0),\n",
       " Row(count(1)=1733, hotel_cluster=38.0),\n",
       " Row(count(1)=931, hotel_cluster=27.0),\n",
       " Row(count(1)=2553, hotel_cluster=10.0),\n",
       " Row(count(1)=2111, hotel_cluster=73.0),\n",
       " Row(count(1)=2809, hotel_cluster=40.0),\n",
       " Row(count(1)=3066, hotel_cluster=30.0),\n",
       " Row(count(1)=2277, hotel_cluster=13.0),\n",
       " Row(count(1)=2811, hotel_cluster=99.0),\n",
       " Row(count(1)=3364, hotel_cluster=95.0),\n",
       " Row(count(1)=1915, hotel_cluster=84.0),\n",
       " Row(count(1)=2590, hotel_cluster=33.0),\n",
       " Row(count(1)=1694, hotel_cluster=92.0),\n",
       " Row(count(1)=2596, hotel_cluster=6.0),\n",
       " Row(count(1)=2052, hotel_cluster=20.0),\n",
       " Row(count(1)=2387, hotel_cluster=52.0),\n",
       " Row(count(1)=1831, hotel_cluster=32.0),\n",
       " Row(count(1)=2009, hotel_cluster=15.0),\n",
       " Row(count(1)=4025, hotel_cluster=5.0),\n",
       " Row(count(1)=3115, hotel_cluster=97.0),\n",
       " Row(count(1)=1055, hotel_cluster=24.0),\n",
       " Row(count(1)=1502, hotel_cluster=89.0),\n",
       " Row(count(1)=2626, hotel_cluster=55.0),\n",
       " Row(count(1)=3166, hotel_cluster=9.0),\n",
       " Row(count(1)=2737, hotel_cluster=26.0),\n",
       " Row(count(1)=4070, hotel_cluster=65.0),\n",
       " Row(count(1)=3187, hotel_cluster=16.0),\n",
       " Row(count(1)=1552, hotel_cluster=12.0),\n",
       " Row(count(1)=1728, hotel_cluster=54.0),\n",
       " Row(count(1)=1573, hotel_cluster=43.0),\n",
       " Row(count(1)=2019, hotel_cluster=76.0),\n",
       " Row(count(1)=2570, hotel_cluster=90.0),\n",
       " Row(count(1)=6966, hotel_cluster=91.0)]"
      ]
     },
     "execution_count": 254,
     "metadata": {},
     "output_type": "execute_result"
    }
   ],
   "source": [
    "spark.sql(\"select count(*), hotel_cluster from Mkt_tb group by hotel_cluster\").collect()"
   ]
  },
  {
   "cell_type": "code",
   "execution_count": 255,
   "metadata": {},
   "outputs": [
    {
     "data": {
      "text/plain": [
       "243444"
      ]
     },
     "execution_count": 255,
     "metadata": {},
     "output_type": "execute_result"
    }
   ],
   "source": [
    "Mkt_DF.count()"
   ]
  },
  {
   "cell_type": "code",
   "execution_count": 256,
   "metadata": {},
   "outputs": [],
   "source": [
    "df_select1 = Mkt_DF.columns[1:]"
   ]
  },
  {
   "cell_type": "code",
   "execution_count": 257,
   "metadata": {
    "scrolled": true
   },
   "outputs": [
    {
     "name": "stdout",
     "output_type": "stream",
     "text": [
      "variable Column<b'ID_Reserva'> , count 243444\n",
      "variable Column<b'date_time'> , count 242629\n",
      "variable Column<b'site_name'> , count 42\n",
      "variable Column<b'posa_continent'> , count 5\n",
      "variable Column<b'user_location_country'> , count 148\n",
      "variable Column<b'user_location_region'> , count 609\n",
      "variable Column<b'user_location_city'> , count 6234\n",
      "variable Column<b'orig_destination_distance'> , count 105271\n",
      "variable Column<b'user_id'> , count 8186\n",
      "variable Column<b'is_mobile'> , count 2\n",
      "variable Column<b'is_package'> , count 2\n",
      "variable Column<b'channel'> , count 11\n",
      "variable Column<b'srch_adults_cnt'> , count 10\n",
      "variable Column<b'srch_children_cnt'> , count 10\n",
      "variable Column<b'srch_rm_cnt'> , count 9\n",
      "variable Column<b'srch_destination_id'> , count 8773\n",
      "variable Column<b'srch_destination_type_id'> , count 8\n",
      "variable Column<b'is_booking'> , count 2\n",
      "variable Column<b'cnt'> , count 36\n",
      "variable Column<b'hotel_continent'> , count 6\n",
      "variable Column<b'hotel_country'> , count 178\n",
      "variable Column<b'hotel_market'> , count 1826\n",
      "variable Column<b'hotel_cluster'> , count 100\n",
      "variable Column<b'date'> , count 724\n",
      "variable Column<b'month-year'> , count 24\n",
      "variable Column<b'month'> , count 12\n",
      "variable Column<b'year'> , count 2\n",
      "variable Column<b'periodo'> , count 4\n",
      "variable Column<b'Categor\\xc3\\xada'> , count 10\n"
     ]
    }
   ],
   "source": [
    "for col in Mkt_DF:\n",
    " col_count = Mkt_DF.select(col).distinct().count()\n",
    " print('variable {0} , count {1}'.format(col, col_count))"
   ]
  },
  {
   "cell_type": "code",
   "execution_count": 283,
   "metadata": {},
   "outputs": [],
   "source": [
    "Mkt_DF=Mkt_DF.withColumn(\"Viajeros\",Mkt_DF['srch_adults_cnt']+ Mkt_DF['srch_children_cnt'])"
   ]
  },
  {
   "cell_type": "code",
   "execution_count": 281,
   "metadata": {},
   "outputs": [],
   "source": [
    "NuevaColumna = Mkt_DF.withColumn(\"Viajeros\", lit('srch_adults_cnt + srch_children_cnt'))"
   ]
  },
  {
   "cell_type": "code",
   "execution_count": 285,
   "metadata": {},
   "outputs": [
    {
     "name": "stdout",
     "output_type": "stream",
     "text": [
      "+--------+\n",
      "|Viajeros|\n",
      "+--------+\n",
      "|       5|\n",
      "|       2|\n",
      "|       2|\n",
      "|       2|\n",
      "|       2|\n",
      "|       2|\n",
      "|       3|\n",
      "|       2|\n",
      "|       1|\n",
      "|       1|\n",
      "|       2|\n",
      "|       1|\n",
      "|       1|\n",
      "|       1|\n",
      "|       1|\n",
      "|       1|\n",
      "|       1|\n",
      "|       2|\n",
      "|       3|\n",
      "|       3|\n",
      "+--------+\n",
      "only showing top 20 rows\n",
      "\n"
     ]
    }
   ],
   "source": [
    "Mkt_DF.select(\"Viajeros\").show()"
   ]
  },
  {
   "cell_type": "code",
   "execution_count": 144,
   "metadata": {},
   "outputs": [
    {
     "ename": "SyntaxError",
     "evalue": "invalid syntax (<ipython-input-144-504c6a8e87fe>, line 1)",
     "output_type": "error",
     "traceback": [
      "\u001b[1;36m  File \u001b[1;32m\"<ipython-input-144-504c6a8e87fe>\"\u001b[1;36m, line \u001b[1;32m1\u001b[0m\n\u001b[1;33m    SELECT is_booking, AS cnt, hotel_cluster FROM hvac WHERE hotel_cluster = \\\"70\"\u001b[0m\n\u001b[1;37m                    ^\u001b[0m\n\u001b[1;31mSyntaxError\u001b[0m\u001b[1;31m:\u001b[0m invalid syntax\n"
     ]
    }
   ],
   "source": [
    "SELECT is_booking, AS cnt, hotel_cluster FROM hvac WHERE hotel_cluster = \\\"70\""
   ]
  },
  {
   "cell_type": "code",
   "execution_count": 155,
   "metadata": {},
   "outputs": [
    {
     "ename": "NameError",
     "evalue": "name 'lit' is not defined",
     "output_type": "error",
     "traceback": [
      "\u001b[1;31m---------------------------------------------------------------------------\u001b[0m",
      "\u001b[1;31mNameError\u001b[0m                                 Traceback (most recent call last)",
      "\u001b[1;32m<ipython-input-155-c08309661bbf>\u001b[0m in \u001b[0;36m<module>\u001b[1;34m\u001b[0m\n\u001b[0;32m      1\u001b[0m \u001b[0mextractiondateStr\u001b[0m\u001b[1;33m=\u001b[0m \u001b[0mdatetime\u001b[0m\u001b[1;33m.\u001b[0m\u001b[0mdatetime\u001b[0m\u001b[1;33m.\u001b[0m\u001b[0mfromtimestamp\u001b[0m\u001b[1;33m(\u001b[0m\u001b[0mtime\u001b[0m\u001b[1;33m.\u001b[0m\u001b[0mtime\u001b[0m\u001b[1;33m(\u001b[0m\u001b[1;33m)\u001b[0m\u001b[1;33m)\u001b[0m\u001b[1;33m.\u001b[0m\u001b[0mstrftime\u001b[0m\u001b[1;33m(\u001b[0m\u001b[1;34m'%Y%m%d'\u001b[0m\u001b[1;33m)\u001b[0m \u001b[1;31m#primero año, luego mes y luego día\u001b[0m\u001b[1;33m\u001b[0m\u001b[1;33m\u001b[0m\u001b[0m\n\u001b[0;32m      2\u001b[0m \u001b[0mfevaigStr\u001b[0m \u001b[1;33m=\u001b[0m \u001b[0mdatetime\u001b[0m\u001b[1;33m.\u001b[0m\u001b[0mdatetime\u001b[0m\u001b[1;33m.\u001b[0m\u001b[0mfromtimestamp\u001b[0m\u001b[1;33m(\u001b[0m\u001b[0mtime\u001b[0m\u001b[1;33m.\u001b[0m\u001b[0mtime\u001b[0m\u001b[1;33m(\u001b[0m\u001b[1;33m)\u001b[0m\u001b[1;33m)\u001b[0m\u001b[1;33m.\u001b[0m\u001b[0mstrftime\u001b[0m\u001b[1;33m(\u001b[0m\u001b[1;34m'%Y-%m-%d'\u001b[0m\u001b[1;33m)\u001b[0m\u001b[1;33m\u001b[0m\u001b[1;33m\u001b[0m\u001b[0m\n\u001b[1;32m----> 3\u001b[1;33m \u001b[0mMkt_DF\u001b[0m\u001b[1;33m=\u001b[0m\u001b[0mMkt_DF\u001b[0m\u001b[1;33m.\u001b[0m\u001b[0mwithColumn\u001b[0m\u001b[1;33m(\u001b[0m\u001b[1;34m'extractiondate'\u001b[0m\u001b[1;33m,\u001b[0m \u001b[0mlit\u001b[0m\u001b[1;33m(\u001b[0m\u001b[0mextractiondateStr\u001b[0m\u001b[1;33m)\u001b[0m\u001b[1;33m)\u001b[0m\u001b[1;33m\u001b[0m\u001b[1;33m\u001b[0m\u001b[0m\n\u001b[0m",
      "\u001b[1;31mNameError\u001b[0m: name 'lit' is not defined"
     ]
    }
   ],
   "source": [
    "extractiondateStr= datetime.datetime.fromtimestamp(time.time()).strftime('%Y%m%d') #primero año, luego mes y luego día\n",
    "fevaigStr = datetime.datetime.fromtimestamp(time.time()).strftime('%Y-%m-%d')\n",
    "Mkt_DF=Mkt_DF.withColumn('extractiondate', lit(extractiondateStr))\n"
   ]
  },
  {
   "cell_type": "code",
   "execution_count": 77,
   "metadata": {},
   "outputs": [
    {
     "data": {
      "text/plain": [
       "pyspark.sql.dataframe.DataFrame"
      ]
     },
     "execution_count": 77,
     "metadata": {},
     "output_type": "execute_result"
    }
   ],
   "source": [
    "type(df)"
   ]
  },
  {
   "cell_type": "markdown",
   "metadata": {},
   "source": [
    "**DIVISIÓN Y CRUCE DE TABLAS**"
   ]
  },
  {
   "cell_type": "code",
   "execution_count": 146,
   "metadata": {},
   "outputs": [],
   "source": [
    "PartitionA = Mkt_DF.select('hotel_cluster','date_time','site_name','posa_continent','user_location_country','user_location_region','user_location_city','orig_destination_distance','user_id','is_mobile','is_package','channel','srch_adults_cnt','srch_children_cnt','srch_rm_cnt')"
   ]
  },
  {
   "cell_type": "code",
   "execution_count": 147,
   "metadata": {},
   "outputs": [
    {
     "data": {
      "text/plain": [
       "pyspark.sql.dataframe.DataFrame"
      ]
     },
     "execution_count": 147,
     "metadata": {},
     "output_type": "execute_result"
    }
   ],
   "source": [
    "type(PartitionA)"
   ]
  },
  {
   "cell_type": "code",
   "execution_count": 148,
   "metadata": {
    "scrolled": true
   },
   "outputs": [
    {
     "name": "stdout",
     "output_type": "stream",
     "text": [
      "+-------------+-------------------+---------+--------------+---------------------+--------------------+------------------+-------------------------+-------+---------+----------+-------+---------------+-----------------+-----------+\n",
      "|hotel_cluster|          date_time|site_name|posa_continent|user_location_country|user_location_region|user_location_city|orig_destination_distance|user_id|is_mobile|is_package|channel|srch_adults_cnt|srch_children_cnt|srch_rm_cnt|\n",
      "+-------------+-------------------+---------+--------------+---------------------+--------------------+------------------+-------------------------+-------+---------+----------+-------+---------------+-----------------+-----------+\n",
      "|         83.0|2013-01-14 09:57:25|        2|             3|                   66|                 442|             35390|                 799.9374| 397128|        0|         1|      0|              3|                2|        1.0|\n",
      "|         42.0|2013-01-29 12:20:45|       37|             1|                   69|                 908|             28451|                     null| 552136|        0|         0|      9|              2|                0|        1.0|\n",
      "|         15.0|2013-01-29 12:30:08|       37|             1|                   69|                 908|             28451|                     null| 552136|        0|         0|      9|              2|                0|        1.0|\n",
      "|          5.0|2013-01-29 12:30:48|       37|             1|                   69|                 908|             28451|                     null| 552136|        0|         0|      9|              2|                0|        1.0|\n",
      "|         46.0|2013-01-29 13:11:18|       37|             1|                   69|                 908|             28451|                     null| 552136|        0|         1|      5|              2|                0|        1.0|\n",
      "|         46.0|2013-01-29 13:24:55|       37|             1|                   69|                 908|             28451|                     null| 552136|        0|         1|      5|              2|                0|        1.0|\n",
      "|         46.0|2013-01-29 17:03:13|       37|             1|                   69|                 908|             28451|                     null| 552136|        0|         0|      9|              2|                1|        1.0|\n",
      "|          5.0|2013-01-31 11:07:07|       37|             1|                   69|                 908|             28451|                     null| 552136|        0|         0|      5|              2|                0|        1.0|\n",
      "|         55.0|2013-01-28 19:43:15|        2|             3|                   66|                 220|             35388|                1998.0124|  99366|        0|         1|      1|              1|                0|        1.0|\n",
      "|         18.0|2013-01-29 14:26:19|        2|             3|                   66|                 220|             35388|                1054.5731|  99366|        0|         1|      1|              1|                0|        1.0|\n",
      "|         15.0|2013-01-29 12:18:17|       37|             1|                   69|                 908|             28451|                     null| 552136|        0|         0|      9|              2|                0|        1.0|\n",
      "|         18.0|2013-01-30 08:13:13|        2|             3|                   66|                 220|             35388|                 1054.149|  99366|        0|         1|      1|              1|                0|        1.0|\n",
      "|         55.0|2013-01-30 08:22:49|        2|             3|                   66|                 220|             35388|                1055.1409|  99366|        0|         1|      1|              1|                0|        1.0|\n",
      "|         21.0|2013-01-30 08:30:44|        2|             3|                   66|                 220|             35388|                1055.0051|  99366|        0|         1|      1|              1|                0|        1.0|\n",
      "|         17.0|2013-01-31 06:06:06|        2|             3|                   66|                 220|             35388|                1051.9542|  99366|        0|         1|      9|              1|                0|        1.0|\n",
      "|         17.0|2013-01-31 06:18:28|        2|             3|                   66|                 220|             35388|                1051.9542|  99366|        0|         1|      9|              1|                0|        1.0|\n",
      "|         21.0|2013-01-28 10:06:16|        2|             3|                   66|                 318|              3300|                 921.9641| 704789|        0|         0|      1|              1|                0|        1.0|\n",
      "|         91.0|2013-01-28 09:56:43|        2|             3|                   66|                 348|             22399|                 224.6851| 365943|        0|         0|      0|              2|                0|        1.0|\n",
      "|         91.0|2013-01-28 09:56:30|        2|             3|                   66|                 348|             22399|                 224.6851| 365943|        0|         0|      0|              3|                0|        1.0|\n",
      "|         91.0|2013-01-28 09:45:16|        2|             3|                   66|                 348|             22399|                 224.6851| 365943|        0|         0|      0|              3|                0|        1.0|\n",
      "+-------------+-------------------+---------+--------------+---------------------+--------------------+------------------+-------------------------+-------+---------+----------+-------+---------------+-----------------+-----------+\n",
      "only showing top 20 rows\n",
      "\n"
     ]
    }
   ],
   "source": [
    "PartitionA.show()"
   ]
  },
  {
   "cell_type": "code",
   "execution_count": 156,
   "metadata": {},
   "outputs": [],
   "source": [
    "PartitionA.createOrReplaceTempView(\"myTablaA\")"
   ]
  },
  {
   "cell_type": "code",
   "execution_count": 158,
   "metadata": {},
   "outputs": [],
   "source": [
    "PartitionB = Mkt_DF.select('hotel_cluster','srch_destination_id','srch_destination_type_id','is_booking','cnt','hotel_continent','hotel_country','hotel_market','date','month-year','month','year','periodo','Categoría')"
   ]
  },
  {
   "cell_type": "code",
   "execution_count": 159,
   "metadata": {},
   "outputs": [
    {
     "data": {
      "text/plain": [
       "pyspark.sql.dataframe.DataFrame"
      ]
     },
     "execution_count": 159,
     "metadata": {},
     "output_type": "execute_result"
    }
   ],
   "source": [
    "type(PartitionB)"
   ]
  },
  {
   "cell_type": "code",
   "execution_count": 160,
   "metadata": {
    "scrolled": true
   },
   "outputs": [
    {
     "name": "stdout",
     "output_type": "stream",
     "text": [
      "+-------------+-------------------+------------------------+----------+---+---------------+-------------+------------+-------------------+----------+-----+----+-------+---------+\n",
      "|hotel_cluster|srch_destination_id|srch_destination_type_id|is_booking|cnt|hotel_continent|hotel_country|hotel_market|               date|month-year|month|year|periodo|Categoría|\n",
      "+-------------+-------------------+------------------------+----------+---+---------------+-------------+------------+-------------------+----------+-----+----+-------+---------+\n",
      "|         83.0|             8791.0|                     1.0|       0.0|1.0|            4.0|          8.0|       110.0|2013-01-14 00:00:00|   2013-01|    1|2013|      1|        9|\n",
      "|         42.0|             8238.0|                     1.0|       0.0|1.0|            6.0|         31.0|       155.0|2013-01-29 00:00:00|   2013-01|    1|2013|      1|        4|\n",
      "|         15.0|             8238.0|                     1.0|       0.0|1.0|            6.0|         31.0|       155.0|2013-01-29 00:00:00|   2013-01|    1|2013|      1|        4|\n",
      "|          5.0|             8238.0|                     1.0|       0.0|1.0|            6.0|         31.0|       155.0|2013-01-29 00:00:00|   2013-01|    1|2013|      1|        4|\n",
      "|         46.0|             8213.0|                     1.0|       0.0|2.0|            6.0|         68.0|       275.0|2013-01-29 00:00:00|   2013-01|    1|2013|      1|        4|\n",
      "|         46.0|             8213.0|                     1.0|       1.0|1.0|            6.0|         68.0|       275.0|2013-01-29 00:00:00|   2013-01|    1|2013|      1|        4|\n",
      "|         46.0|             8213.0|                     1.0|       0.0|1.0|            6.0|         68.0|       275.0|2013-01-29 00:00:00|   2013-01|    1|2013|      1|        5|\n",
      "|          5.0|            51385.0|                     6.0|       0.0|1.0|            6.0|         31.0|       155.0|2013-01-31 00:00:00|   2013-01|    1|2013|      1|        4|\n",
      "|         55.0|            44976.0|                     1.0|       0.0|1.0|            2.0|         50.0|      1633.0|2013-01-28 00:00:00|   2013-01|    1|2013|      1|        3|\n",
      "|         18.0|             8267.0|                     1.0|       0.0|1.0|            2.0|         50.0|       675.0|2013-01-29 00:00:00|   2013-01|    1|2013|      1|        3|\n",
      "|         15.0|             8238.0|                     1.0|       0.0|1.0|            6.0|         31.0|       155.0|2013-01-29 00:00:00|   2013-01|    1|2013|      1|        4|\n",
      "|         18.0|             8267.0|                     1.0|       0.0|1.0|            2.0|         50.0|       675.0|2013-01-30 00:00:00|   2013-01|    1|2013|      1|        3|\n",
      "|         55.0|             8267.0|                     1.0|       0.0|1.0|            2.0|         50.0|       675.0|2013-01-30 00:00:00|   2013-01|    1|2013|      1|        3|\n",
      "|         21.0|             8267.0|                     1.0|       0.0|1.0|            2.0|         50.0|       675.0|2013-01-30 00:00:00|   2013-01|    1|2013|      1|        3|\n",
      "|         17.0|             8267.0|                     1.0|       0.0|1.0|            2.0|         50.0|       675.0|2013-01-31 00:00:00|   2013-01|    1|2013|      1|        3|\n",
      "|         17.0|             8267.0|                     1.0|       1.0|1.0|            2.0|         50.0|       675.0|2013-01-31 00:00:00|   2013-01|    1|2013|      1|        3|\n",
      "|         21.0|            12228.0|                     6.0|       0.0|2.0|            2.0|         50.0|       411.0|2013-01-28 00:00:00|   2013-01|    1|2013|      1|        3|\n",
      "|         91.0|            25733.0|                     1.0|       0.0|1.0|            2.0|         50.0|       738.0|2013-01-28 00:00:00|   2013-01|    1|2013|      1|        4|\n",
      "|         91.0|            25733.0|                     1.0|       1.0|1.0|            2.0|         50.0|       738.0|2013-01-28 00:00:00|   2013-01|    1|2013|      1|        2|\n",
      "|         91.0|            25733.0|                     1.0|       0.0|2.0|            2.0|         50.0|       738.0|2013-01-28 00:00:00|   2013-01|    1|2013|      1|        2|\n",
      "+-------------+-------------------+------------------------+----------+---+---------------+-------------+------------+-------------------+----------+-----+----+-------+---------+\n",
      "only showing top 20 rows\n",
      "\n"
     ]
    }
   ],
   "source": [
    "PartitionB.show()"
   ]
  },
  {
   "cell_type": "code",
   "execution_count": 161,
   "metadata": {},
   "outputs": [],
   "source": [
    "PartitionB.createOrReplaceTempView(\"myTablaB\")"
   ]
  },
  {
   "cell_type": "code",
   "execution_count": 197,
   "metadata": {},
   "outputs": [],
   "source": [
    "Filtro = spark.sql(\"select * from myTablaA where srch_adults_cnt < 4 AND srch_children_cnt < 4 \").collect()"
   ]
  },
  {
   "cell_type": "code",
   "execution_count": 198,
   "metadata": {},
   "outputs": [
    {
     "data": {
      "text/plain": [
       "[Row(hotel_cluster=83.0, date_time=datetime.datetime(2013, 1, 14, 9, 57, 25), site_name=2, posa_continent=3, user_location_country=66, user_location_region=442, user_location_city=35390, orig_destination_distance=799.9374, user_id=397128, is_mobile=0, is_package=1, channel=0, srch_adults_cnt=3, srch_children_cnt=2, srch_rm_cnt=1.0),\n",
       " Row(hotel_cluster=42.0, date_time=datetime.datetime(2013, 1, 29, 12, 20, 45), site_name=37, posa_continent=1, user_location_country=69, user_location_region=908, user_location_city=28451, orig_destination_distance=None, user_id=552136, is_mobile=0, is_package=0, channel=9, srch_adults_cnt=2, srch_children_cnt=0, srch_rm_cnt=1.0),\n",
       " Row(hotel_cluster=15.0, date_time=datetime.datetime(2013, 1, 29, 12, 30, 8), site_name=37, posa_continent=1, user_location_country=69, user_location_region=908, user_location_city=28451, orig_destination_distance=None, user_id=552136, is_mobile=0, is_package=0, channel=9, srch_adults_cnt=2, srch_children_cnt=0, srch_rm_cnt=1.0),\n",
       " Row(hotel_cluster=5.0, date_time=datetime.datetime(2013, 1, 29, 12, 30, 48), site_name=37, posa_continent=1, user_location_country=69, user_location_region=908, user_location_city=28451, orig_destination_distance=None, user_id=552136, is_mobile=0, is_package=0, channel=9, srch_adults_cnt=2, srch_children_cnt=0, srch_rm_cnt=1.0),\n",
       " Row(hotel_cluster=46.0, date_time=datetime.datetime(2013, 1, 29, 13, 11, 18), site_name=37, posa_continent=1, user_location_country=69, user_location_region=908, user_location_city=28451, orig_destination_distance=None, user_id=552136, is_mobile=0, is_package=1, channel=5, srch_adults_cnt=2, srch_children_cnt=0, srch_rm_cnt=1.0),\n",
       " Row(hotel_cluster=46.0, date_time=datetime.datetime(2013, 1, 29, 13, 24, 55), site_name=37, posa_continent=1, user_location_country=69, user_location_region=908, user_location_city=28451, orig_destination_distance=None, user_id=552136, is_mobile=0, is_package=1, channel=5, srch_adults_cnt=2, srch_children_cnt=0, srch_rm_cnt=1.0),\n",
       " Row(hotel_cluster=46.0, date_time=datetime.datetime(2013, 1, 29, 17, 3, 13), site_name=37, posa_continent=1, user_location_country=69, user_location_region=908, user_location_city=28451, orig_destination_distance=None, user_id=552136, is_mobile=0, is_package=0, channel=9, srch_adults_cnt=2, srch_children_cnt=1, srch_rm_cnt=1.0),\n",
       " Row(hotel_cluster=5.0, date_time=datetime.datetime(2013, 1, 31, 11, 7, 7), site_name=37, posa_continent=1, user_location_country=69, user_location_region=908, user_location_city=28451, orig_destination_distance=None, user_id=552136, is_mobile=0, is_package=0, channel=5, srch_adults_cnt=2, srch_children_cnt=0, srch_rm_cnt=1.0),\n",
       " Row(hotel_cluster=55.0, date_time=datetime.datetime(2013, 1, 28, 19, 43, 15), site_name=2, posa_continent=3, user_location_country=66, user_location_region=220, user_location_city=35388, orig_destination_distance=1998.0124, user_id=99366, is_mobile=0, is_package=1, channel=1, srch_adults_cnt=1, srch_children_cnt=0, srch_rm_cnt=1.0),\n",
       " Row(hotel_cluster=18.0, date_time=datetime.datetime(2013, 1, 29, 14, 26, 19), site_name=2, posa_continent=3, user_location_country=66, user_location_region=220, user_location_city=35388, orig_destination_distance=1054.5731, user_id=99366, is_mobile=0, is_package=1, channel=1, srch_adults_cnt=1, srch_children_cnt=0, srch_rm_cnt=1.0),\n",
       " Row(hotel_cluster=15.0, date_time=datetime.datetime(2013, 1, 29, 12, 18, 17), site_name=37, posa_continent=1, user_location_country=69, user_location_region=908, user_location_city=28451, orig_destination_distance=None, user_id=552136, is_mobile=0, is_package=0, channel=9, srch_adults_cnt=2, srch_children_cnt=0, srch_rm_cnt=1.0),\n",
       " Row(hotel_cluster=18.0, date_time=datetime.datetime(2013, 1, 30, 8, 13, 13), site_name=2, posa_continent=3, user_location_country=66, user_location_region=220, user_location_city=35388, orig_destination_distance=1054.149, user_id=99366, is_mobile=0, is_package=1, channel=1, srch_adults_cnt=1, srch_children_cnt=0, srch_rm_cnt=1.0),\n",
       " Row(hotel_cluster=55.0, date_time=datetime.datetime(2013, 1, 30, 8, 22, 49), site_name=2, posa_continent=3, user_location_country=66, user_location_region=220, user_location_city=35388, orig_destination_distance=1055.1409, user_id=99366, is_mobile=0, is_package=1, channel=1, srch_adults_cnt=1, srch_children_cnt=0, srch_rm_cnt=1.0),\n",
       " Row(hotel_cluster=21.0, date_time=datetime.datetime(2013, 1, 30, 8, 30, 44), site_name=2, posa_continent=3, user_location_country=66, user_location_region=220, user_location_city=35388, orig_destination_distance=1055.0051, user_id=99366, is_mobile=0, is_package=1, channel=1, srch_adults_cnt=1, srch_children_cnt=0, srch_rm_cnt=1.0),\n",
       " Row(hotel_cluster=17.0, date_time=datetime.datetime(2013, 1, 31, 6, 6, 6), site_name=2, posa_continent=3, user_location_country=66, user_location_region=220, user_location_city=35388, orig_destination_distance=1051.9542, user_id=99366, is_mobile=0, is_package=1, channel=9, srch_adults_cnt=1, srch_children_cnt=0, srch_rm_cnt=1.0),\n",
       " Row(hotel_cluster=17.0, date_time=datetime.datetime(2013, 1, 31, 6, 18, 28), site_name=2, posa_continent=3, user_location_country=66, user_location_region=220, user_location_city=35388, orig_destination_distance=1051.9542, user_id=99366, is_mobile=0, is_package=1, channel=9, srch_adults_cnt=1, srch_children_cnt=0, srch_rm_cnt=1.0),\n",
       " Row(hotel_cluster=21.0, date_time=datetime.datetime(2013, 1, 28, 10, 6, 16), site_name=2, posa_continent=3, user_location_country=66, user_location_region=318, user_location_city=3300, orig_destination_distance=921.9641, user_id=704789, is_mobile=0, is_package=0, channel=1, srch_adults_cnt=1, srch_children_cnt=0, srch_rm_cnt=1.0),\n",
       " Row(hotel_cluster=91.0, date_time=datetime.datetime(2013, 1, 28, 9, 56, 43), site_name=2, posa_continent=3, user_location_country=66, user_location_region=348, user_location_city=22399, orig_destination_distance=224.6851, user_id=365943, is_mobile=0, is_package=0, channel=0, srch_adults_cnt=2, srch_children_cnt=0, srch_rm_cnt=1.0),\n",
       " Row(hotel_cluster=91.0, date_time=datetime.datetime(2013, 1, 28, 9, 56, 30), site_name=2, posa_continent=3, user_location_country=66, user_location_region=348, user_location_city=22399, orig_destination_distance=224.6851, user_id=365943, is_mobile=0, is_package=0, channel=0, srch_adults_cnt=3, srch_children_cnt=0, srch_rm_cnt=1.0),\n",
       " Row(hotel_cluster=91.0, date_time=datetime.datetime(2013, 1, 28, 9, 45, 16), site_name=2, posa_continent=3, user_location_country=66, user_location_region=348, user_location_city=22399, orig_destination_distance=224.6851, user_id=365943, is_mobile=0, is_package=0, channel=0, srch_adults_cnt=3, srch_children_cnt=0, srch_rm_cnt=1.0),\n",
       " Row(hotel_cluster=6.0, date_time=datetime.datetime(2013, 1, 10, 12, 44, 25), site_name=2, posa_continent=3, user_location_country=66, user_location_region=462, user_location_city=11417, orig_destination_distance=966.3903, user_id=365730, is_mobile=0, is_package=0, channel=9, srch_adults_cnt=2, srch_children_cnt=2, srch_rm_cnt=1.0),\n",
       " Row(hotel_cluster=18.0, date_time=datetime.datetime(2013, 1, 30, 8, 16, 5), site_name=2, posa_continent=3, user_location_country=66, user_location_region=220, user_location_city=35388, orig_destination_distance=1054.5731, user_id=99366, is_mobile=0, is_package=1, channel=1, srch_adults_cnt=1, srch_children_cnt=0, srch_rm_cnt=1.0),\n",
       " Row(hotel_cluster=6.0, date_time=datetime.datetime(2013, 1, 10, 12, 42, 21), site_name=2, posa_continent=3, user_location_country=66, user_location_region=462, user_location_city=11417, orig_destination_distance=966.3903, user_id=365730, is_mobile=0, is_package=0, channel=9, srch_adults_cnt=2, srch_children_cnt=2, srch_rm_cnt=1.0),\n",
       " Row(hotel_cluster=10.0, date_time=datetime.datetime(2013, 1, 29, 12, 17, 51), site_name=37, posa_continent=1, user_location_country=69, user_location_region=908, user_location_city=28451, orig_destination_distance=None, user_id=552136, is_mobile=0, is_package=0, channel=9, srch_adults_cnt=2, srch_children_cnt=0, srch_rm_cnt=1.0),\n",
       " Row(hotel_cluster=13.0, date_time=datetime.datetime(2013, 1, 29, 12, 13, 34), site_name=37, posa_continent=1, user_location_country=69, user_location_region=908, user_location_city=28451, orig_destination_distance=None, user_id=552136, is_mobile=0, is_package=0, channel=9, srch_adults_cnt=2, srch_children_cnt=0, srch_rm_cnt=1.0),\n",
       " Row(hotel_cluster=39.0, date_time=datetime.datetime(2013, 1, 23, 18, 38, 50), site_name=11, posa_continent=3, user_location_country=205, user_location_region=155, user_location_city=19334, orig_destination_distance=1261.6615, user_id=849033, is_mobile=0, is_package=0, channel=9, srch_adults_cnt=2, srch_children_cnt=1, srch_rm_cnt=1.0),\n",
       " Row(hotel_cluster=48.0, date_time=datetime.datetime(2013, 1, 23, 18, 32, 30), site_name=11, posa_continent=3, user_location_country=205, user_location_region=155, user_location_city=19334, orig_destination_distance=1261.6782, user_id=849033, is_mobile=0, is_package=0, channel=9, srch_adults_cnt=2, srch_children_cnt=1, srch_rm_cnt=1.0),\n",
       " Row(hotel_cluster=94.0, date_time=datetime.datetime(2013, 1, 23, 18, 27, 51), site_name=11, posa_continent=3, user_location_country=205, user_location_region=155, user_location_city=19334, orig_destination_distance=1254.4527, user_id=849033, is_mobile=0, is_package=0, channel=9, srch_adults_cnt=2, srch_children_cnt=1, srch_rm_cnt=1.0),\n",
       " Row(hotel_cluster=47.0, date_time=datetime.datetime(2013, 1, 23, 18, 13, 16), site_name=11, posa_continent=3, user_location_country=205, user_location_region=155, user_location_city=19334, orig_destination_distance=1254.7341, user_id=849033, is_mobile=0, is_package=0, channel=9, srch_adults_cnt=2, srch_children_cnt=1, srch_rm_cnt=1.0),\n",
       " Row(hotel_cluster=48.0, date_time=datetime.datetime(2013, 1, 23, 18, 12, 23), site_name=11, posa_continent=3, user_location_country=205, user_location_region=155, user_location_city=19334, orig_destination_distance=1255.7563, user_id=849033, is_mobile=0, is_package=0, channel=9, srch_adults_cnt=2, srch_children_cnt=1, srch_rm_cnt=1.0),\n",
       " Row(hotel_cluster=37.0, date_time=datetime.datetime(2013, 1, 9, 19, 43, 36), site_name=2, posa_continent=3, user_location_country=66, user_location_region=442, user_location_city=28643, orig_destination_distance=990.1211, user_id=623018, is_mobile=0, is_package=0, channel=2, srch_adults_cnt=2, srch_children_cnt=0, srch_rm_cnt=1.0),\n",
       " Row(hotel_cluster=17.0, date_time=datetime.datetime(2013, 1, 9, 18, 55, 23), site_name=2, posa_continent=3, user_location_country=66, user_location_region=442, user_location_city=28643, orig_destination_distance=986.3294, user_id=623018, is_mobile=0, is_package=0, channel=2, srch_adults_cnt=2, srch_children_cnt=0, srch_rm_cnt=1.0),\n",
       " Row(hotel_cluster=31.0, date_time=datetime.datetime(2013, 1, 8, 20, 16, 48), site_name=2, posa_continent=3, user_location_country=66, user_location_region=442, user_location_city=28643, orig_destination_distance=987.1389, user_id=623018, is_mobile=0, is_package=0, channel=9, srch_adults_cnt=2, srch_children_cnt=1, srch_rm_cnt=1.0),\n",
       " Row(hotel_cluster=47.0, date_time=datetime.datetime(2013, 1, 30, 19, 57, 14), site_name=2, posa_continent=3, user_location_country=66, user_location_region=337, user_location_city=8447, orig_destination_distance=4972.0395, user_id=369431, is_mobile=0, is_package=1, channel=1, srch_adults_cnt=1, srch_children_cnt=1, srch_rm_cnt=1.0),\n",
       " Row(hotel_cluster=9.0, date_time=datetime.datetime(2013, 1, 29, 12, 15, 44), site_name=37, posa_continent=1, user_location_country=69, user_location_region=908, user_location_city=28451, orig_destination_distance=None, user_id=552136, is_mobile=0, is_package=0, channel=9, srch_adults_cnt=2, srch_children_cnt=0, srch_rm_cnt=1.0),\n",
       " Row(hotel_cluster=59.0, date_time=datetime.datetime(2013, 1, 28, 17, 50, 19), site_name=2, posa_continent=3, user_location_country=66, user_location_region=337, user_location_city=8447, orig_destination_distance=718.7354, user_id=369431, is_mobile=0, is_package=1, channel=1, srch_adults_cnt=1, srch_children_cnt=1, srch_rm_cnt=1.0),\n",
       " Row(hotel_cluster=21.0, date_time=datetime.datetime(2013, 1, 17, 10, 13, 23), site_name=2, posa_continent=3, user_location_country=66, user_location_region=220, user_location_city=1437, orig_destination_distance=766.2275, user_id=369265, is_mobile=0, is_package=0, channel=9, srch_adults_cnt=1, srch_children_cnt=0, srch_rm_cnt=1.0),\n",
       " Row(hotel_cluster=47.0, date_time=datetime.datetime(2013, 1, 23, 18, 9, 20), site_name=11, posa_continent=3, user_location_country=205, user_location_region=155, user_location_city=19334, orig_destination_distance=1254.5191, user_id=849033, is_mobile=0, is_package=0, channel=9, srch_adults_cnt=2, srch_children_cnt=1, srch_rm_cnt=1.0),\n",
       " Row(hotel_cluster=47.0, date_time=datetime.datetime(2013, 1, 23, 18, 8, 14), site_name=11, posa_continent=3, user_location_country=205, user_location_region=155, user_location_city=19334, orig_destination_distance=1255.7521, user_id=849033, is_mobile=0, is_package=0, channel=9, srch_adults_cnt=2, srch_children_cnt=1, srch_rm_cnt=1.0),\n",
       " Row(hotel_cluster=58.0, date_time=datetime.datetime(2013, 1, 16, 13, 15, 58), site_name=37, posa_continent=1, user_location_country=69, user_location_region=596, user_location_city=30031, orig_destination_distance=1882.3754, user_id=552136, is_mobile=0, is_package=1, channel=5, srch_adults_cnt=2, srch_children_cnt=0, srch_rm_cnt=1.0),\n",
       " Row(hotel_cluster=58.0, date_time=datetime.datetime(2013, 1, 16, 14, 42, 59), site_name=37, posa_continent=1, user_location_country=69, user_location_region=596, user_location_city=30031, orig_destination_distance=1882.3754, user_id=552136, is_mobile=0, is_package=1, channel=9, srch_adults_cnt=2, srch_children_cnt=0, srch_rm_cnt=1.0),\n",
       " Row(hotel_cluster=64.0, date_time=datetime.datetime(2013, 1, 28, 16, 7, 25), site_name=37, posa_continent=1, user_location_country=69, user_location_region=908, user_location_city=28451, orig_destination_distance=None, user_id=552136, is_mobile=0, is_package=0, channel=5, srch_adults_cnt=2, srch_children_cnt=1, srch_rm_cnt=1.0),\n",
       " Row(hotel_cluster=64.0, date_time=datetime.datetime(2013, 1, 28, 16, 8, 18), site_name=37, posa_continent=1, user_location_country=69, user_location_region=908, user_location_city=28451, orig_destination_distance=None, user_id=552136, is_mobile=0, is_package=0, channel=5, srch_adults_cnt=2, srch_children_cnt=1, srch_rm_cnt=1.0),\n",
       " Row(hotel_cluster=21.0, date_time=datetime.datetime(2013, 1, 28, 16, 11, 44), site_name=37, posa_continent=1, user_location_country=69, user_location_region=908, user_location_city=28451, orig_destination_distance=None, user_id=552136, is_mobile=0, is_package=0, channel=5, srch_adults_cnt=2, srch_children_cnt=1, srch_rm_cnt=1.0),\n",
       " Row(hotel_cluster=46.0, date_time=datetime.datetime(2013, 1, 28, 16, 15, 31), site_name=37, posa_continent=1, user_location_country=69, user_location_region=908, user_location_city=28451, orig_destination_distance=None, user_id=552136, is_mobile=0, is_package=0, channel=5, srch_adults_cnt=2, srch_children_cnt=1, srch_rm_cnt=1.0),\n",
       " Row(hotel_cluster=31.0, date_time=datetime.datetime(2013, 1, 8, 19, 8, 44), site_name=2, posa_continent=3, user_location_country=66, user_location_region=442, user_location_city=28643, orig_destination_distance=988.6816, user_id=623018, is_mobile=0, is_package=0, channel=9, srch_adults_cnt=2, srch_children_cnt=1, srch_rm_cnt=1.0),\n",
       " Row(hotel_cluster=1.0, date_time=datetime.datetime(2013, 1, 10, 12, 41, 18), site_name=2, posa_continent=3, user_location_country=66, user_location_region=462, user_location_city=11417, orig_destination_distance=884.7475, user_id=365730, is_mobile=0, is_package=0, channel=9, srch_adults_cnt=2, srch_children_cnt=2, srch_rm_cnt=1.0),\n",
       " Row(hotel_cluster=1.0, date_time=datetime.datetime(2013, 1, 10, 12, 38, 10), site_name=2, posa_continent=3, user_location_country=66, user_location_region=462, user_location_city=11417, orig_destination_distance=883.2437, user_id=365730, is_mobile=0, is_package=0, channel=9, srch_adults_cnt=2, srch_children_cnt=2, srch_rm_cnt=1.0),\n",
       " Row(hotel_cluster=79.0, date_time=datetime.datetime(2013, 1, 10, 12, 37, 14), site_name=2, posa_continent=3, user_location_country=66, user_location_region=462, user_location_city=11417, orig_destination_distance=883.7206, user_id=365730, is_mobile=0, is_package=0, channel=9, srch_adults_cnt=2, srch_children_cnt=2, srch_rm_cnt=1.0),\n",
       " Row(hotel_cluster=28.0, date_time=datetime.datetime(2013, 1, 24, 5, 45, 41), site_name=2, posa_continent=3, user_location_country=231, user_location_region=48, user_location_city=2982, orig_destination_distance=None, user_id=709851, is_mobile=0, is_package=0, channel=9, srch_adults_cnt=2, srch_children_cnt=0, srch_rm_cnt=1.0),\n",
       " Row(hotel_cluster=6.0, date_time=datetime.datetime(2013, 1, 24, 5, 55, 46), site_name=2, posa_continent=3, user_location_country=231, user_location_region=48, user_location_city=2982, orig_destination_distance=None, user_id=709851, is_mobile=0, is_package=0, channel=9, srch_adults_cnt=2, srch_children_cnt=0, srch_rm_cnt=1.0),\n",
       " Row(hotel_cluster=59.0, date_time=datetime.datetime(2013, 1, 25, 14, 56, 54), site_name=2, posa_continent=3, user_location_country=231, user_location_region=48, user_location_city=2982, orig_destination_distance=None, user_id=709851, is_mobile=0, is_package=0, channel=9, srch_adults_cnt=1, srch_children_cnt=0, srch_rm_cnt=1.0),\n",
       " Row(hotel_cluster=59.0, date_time=datetime.datetime(2013, 1, 25, 15, 0, 30), site_name=2, posa_continent=3, user_location_country=231, user_location_region=48, user_location_city=2982, orig_destination_distance=None, user_id=709851, is_mobile=0, is_package=0, channel=9, srch_adults_cnt=1, srch_children_cnt=0, srch_rm_cnt=1.0),\n",
       " Row(hotel_cluster=59.0, date_time=datetime.datetime(2013, 1, 25, 15, 0, 51), site_name=2, posa_continent=3, user_location_country=231, user_location_region=48, user_location_city=2982, orig_destination_distance=None, user_id=709851, is_mobile=0, is_package=0, channel=9, srch_adults_cnt=3, srch_children_cnt=0, srch_rm_cnt=2.0),\n",
       " Row(hotel_cluster=59.0, date_time=datetime.datetime(2013, 1, 25, 15, 1, 8), site_name=2, posa_continent=3, user_location_country=231, user_location_region=48, user_location_city=2982, orig_destination_distance=None, user_id=709851, is_mobile=0, is_package=0, channel=9, srch_adults_cnt=3, srch_children_cnt=0, srch_rm_cnt=2.0),\n",
       " Row(hotel_cluster=19.0, date_time=datetime.datetime(2013, 1, 25, 15, 7, 27), site_name=2, posa_continent=3, user_location_country=231, user_location_region=48, user_location_city=2982, orig_destination_distance=None, user_id=709851, is_mobile=0, is_package=0, channel=9, srch_adults_cnt=1, srch_children_cnt=0, srch_rm_cnt=1.0),\n",
       " Row(hotel_cluster=28.0, date_time=datetime.datetime(2013, 1, 25, 15, 9, 52), site_name=2, posa_continent=3, user_location_country=231, user_location_region=48, user_location_city=2982, orig_destination_distance=None, user_id=709851, is_mobile=0, is_package=0, channel=9, srch_adults_cnt=2, srch_children_cnt=0, srch_rm_cnt=1.0),\n",
       " Row(hotel_cluster=18.0, date_time=datetime.datetime(2013, 1, 26, 18, 26, 36), site_name=2, posa_continent=3, user_location_country=231, user_location_region=48, user_location_city=2982, orig_destination_distance=None, user_id=709851, is_mobile=0, is_package=0, channel=9, srch_adults_cnt=2, srch_children_cnt=0, srch_rm_cnt=1.0),\n",
       " Row(hotel_cluster=59.0, date_time=datetime.datetime(2013, 1, 24, 5, 40, 55), site_name=2, posa_continent=3, user_location_country=231, user_location_region=48, user_location_city=2982, orig_destination_distance=None, user_id=709851, is_mobile=0, is_package=0, channel=9, srch_adults_cnt=2, srch_children_cnt=0, srch_rm_cnt=1.0),\n",
       " Row(hotel_cluster=28.0, date_time=datetime.datetime(2013, 1, 26, 18, 54, 23), site_name=2, posa_continent=3, user_location_country=231, user_location_region=48, user_location_city=2982, orig_destination_distance=None, user_id=709851, is_mobile=0, is_package=0, channel=9, srch_adults_cnt=2, srch_children_cnt=0, srch_rm_cnt=1.0),\n",
       " Row(hotel_cluster=28.0, date_time=datetime.datetime(2013, 1, 26, 19, 11, 50), site_name=2, posa_continent=3, user_location_country=231, user_location_region=48, user_location_city=2982, orig_destination_distance=None, user_id=709851, is_mobile=0, is_package=0, channel=9, srch_adults_cnt=3, srch_children_cnt=0, srch_rm_cnt=2.0),\n",
       " Row(hotel_cluster=28.0, date_time=datetime.datetime(2013, 1, 26, 19, 15, 10), site_name=2, posa_continent=3, user_location_country=231, user_location_region=48, user_location_city=2982, orig_destination_distance=None, user_id=709851, is_mobile=0, is_package=0, channel=9, srch_adults_cnt=3, srch_children_cnt=0, srch_rm_cnt=2.0),\n",
       " Row(hotel_cluster=26.0, date_time=datetime.datetime(2013, 1, 29, 13, 41, 39), site_name=2, posa_continent=3, user_location_country=66, user_location_region=348, user_location_city=30038, orig_destination_distance=None, user_id=848109, is_mobile=0, is_package=1, channel=0, srch_adults_cnt=2, srch_children_cnt=2, srch_rm_cnt=1.0),\n",
       " Row(hotel_cluster=21.0, date_time=datetime.datetime(2013, 1, 29, 13, 39, 40), site_name=2, posa_continent=3, user_location_country=66, user_location_region=348, user_location_city=30038, orig_destination_distance=None, user_id=848109, is_mobile=0, is_package=1, channel=0, srch_adults_cnt=2, srch_children_cnt=2, srch_rm_cnt=1.0),\n",
       " Row(hotel_cluster=70.0, date_time=datetime.datetime(2013, 1, 29, 13, 37, 28), site_name=2, posa_continent=3, user_location_country=66, user_location_region=348, user_location_city=30038, orig_destination_distance=None, user_id=848109, is_mobile=0, is_package=1, channel=0, srch_adults_cnt=2, srch_children_cnt=2, srch_rm_cnt=1.0),\n",
       " Row(hotel_cluster=28.0, date_time=datetime.datetime(2013, 1, 29, 13, 35, 51), site_name=2, posa_continent=3, user_location_country=66, user_location_region=348, user_location_city=30038, orig_destination_distance=None, user_id=848109, is_mobile=0, is_package=1, channel=0, srch_adults_cnt=2, srch_children_cnt=2, srch_rm_cnt=1.0),\n",
       " Row(hotel_cluster=26.0, date_time=datetime.datetime(2013, 1, 29, 13, 34, 32), site_name=2, posa_continent=3, user_location_country=66, user_location_region=348, user_location_city=30038, orig_destination_distance=None, user_id=848109, is_mobile=0, is_package=1, channel=0, srch_adults_cnt=2, srch_children_cnt=2, srch_rm_cnt=1.0),\n",
       " Row(hotel_cluster=46.0, date_time=datetime.datetime(2013, 1, 13, 14, 16, 23), site_name=37, posa_continent=1, user_location_country=69, user_location_region=923, user_location_city=35532, orig_destination_distance=None, user_id=101613, is_mobile=1, is_package=0, channel=9, srch_adults_cnt=2, srch_children_cnt=1, srch_rm_cnt=1.0),\n",
       " Row(hotel_cluster=46.0, date_time=datetime.datetime(2013, 1, 13, 14, 20, 32), site_name=37, posa_continent=1, user_location_country=69, user_location_region=923, user_location_city=35532, orig_destination_distance=None, user_id=101613, is_mobile=1, is_package=0, channel=9, srch_adults_cnt=2, srch_children_cnt=1, srch_rm_cnt=1.0),\n",
       " Row(hotel_cluster=28.0, date_time=datetime.datetime(2013, 1, 26, 19, 9, 15), site_name=2, posa_continent=3, user_location_country=231, user_location_region=48, user_location_city=2982, orig_destination_distance=None, user_id=709851, is_mobile=0, is_package=0, channel=9, srch_adults_cnt=2, srch_children_cnt=0, srch_rm_cnt=1.0),\n",
       " Row(hotel_cluster=18.0, date_time=datetime.datetime(2013, 1, 24, 5, 37, 32), site_name=2, posa_continent=3, user_location_country=231, user_location_region=48, user_location_city=2982, orig_destination_distance=None, user_id=709851, is_mobile=0, is_package=0, channel=9, srch_adults_cnt=2, srch_children_cnt=0, srch_rm_cnt=1.0),\n",
       " Row(hotel_cluster=90.0, date_time=datetime.datetime(2013, 1, 19, 18, 13, 4), site_name=2, posa_continent=3, user_location_country=231, user_location_region=48, user_location_city=2982, orig_destination_distance=None, user_id=709851, is_mobile=0, is_package=0, channel=9, srch_adults_cnt=2, srch_children_cnt=0, srch_rm_cnt=1.0),\n",
       " Row(hotel_cluster=58.0, date_time=datetime.datetime(2013, 1, 11, 8, 57, 18), site_name=2, posa_continent=3, user_location_country=66, user_location_region=340, user_location_city=43356, orig_destination_distance=5435.8408, user_id=848669, is_mobile=0, is_package=0, channel=9, srch_adults_cnt=1, srch_children_cnt=0, srch_rm_cnt=1.0),\n",
       " Row(hotel_cluster=1.0, date_time=datetime.datetime(2013, 1, 10, 12, 34, 57), site_name=2, posa_continent=3, user_location_country=66, user_location_region=462, user_location_city=11417, orig_destination_distance=884.7475, user_id=365730, is_mobile=0, is_package=0, channel=9, srch_adults_cnt=2, srch_children_cnt=2, srch_rm_cnt=1.0),\n",
       " Row(hotel_cluster=1.0, date_time=datetime.datetime(2013, 1, 10, 12, 33, 18), site_name=2, posa_continent=3, user_location_country=66, user_location_region=462, user_location_city=11417, orig_destination_distance=884.4435, user_id=365730, is_mobile=0, is_package=0, channel=9, srch_adults_cnt=2, srch_children_cnt=2, srch_rm_cnt=1.0),\n",
       " Row(hotel_cluster=61.0, date_time=datetime.datetime(2013, 1, 15, 22, 7, 8), site_name=37, posa_continent=1, user_location_country=69, user_location_region=682, user_location_city=35131, orig_destination_distance=None, user_id=365646, is_mobile=1, is_package=0, channel=1, srch_adults_cnt=2, srch_children_cnt=0, srch_rm_cnt=1.0),\n",
       " Row(hotel_cluster=11.0, date_time=datetime.datetime(2013, 1, 15, 22, 5, 5), site_name=37, posa_continent=1, user_location_country=69, user_location_region=682, user_location_city=35131, orig_destination_distance=None, user_id=365646, is_mobile=1, is_package=0, channel=1, srch_adults_cnt=2, srch_children_cnt=0, srch_rm_cnt=1.0),\n",
       " Row(hotel_cluster=91.0, date_time=datetime.datetime(2013, 1, 16, 4, 45, 34), site_name=2, posa_continent=3, user_location_country=66, user_location_region=442, user_location_city=35390, orig_destination_distance=703.1669, user_id=365278, is_mobile=0, is_package=0, channel=9, srch_adults_cnt=1, srch_children_cnt=1, srch_rm_cnt=1.0),\n",
       " Row(hotel_cluster=91.0, date_time=datetime.datetime(2013, 1, 16, 4, 44, 27), site_name=2, posa_continent=3, user_location_country=66, user_location_region=442, user_location_city=35390, orig_destination_distance=703.1669, user_id=365278, is_mobile=0, is_package=0, channel=9, srch_adults_cnt=1, srch_children_cnt=1, srch_rm_cnt=1.0),\n",
       " Row(hotel_cluster=91.0, date_time=datetime.datetime(2013, 1, 16, 4, 43, 24), site_name=2, posa_continent=3, user_location_country=66, user_location_region=442, user_location_city=35390, orig_destination_distance=701.1126, user_id=365278, is_mobile=0, is_package=0, channel=9, srch_adults_cnt=1, srch_children_cnt=1, srch_rm_cnt=1.0),\n",
       " Row(hotel_cluster=8.0, date_time=datetime.datetime(2013, 1, 7, 10, 36, 38), site_name=2, posa_continent=3, user_location_country=66, user_location_region=351, user_location_city=7929, orig_destination_distance=440.8728, user_id=365090, is_mobile=0, is_package=0, channel=9, srch_adults_cnt=2, srch_children_cnt=2, srch_rm_cnt=1.0),\n",
       " Row(hotel_cluster=91.0, date_time=datetime.datetime(2013, 1, 13, 17, 28, 28), site_name=2, posa_continent=3, user_location_country=66, user_location_region=315, user_location_city=22202, orig_destination_distance=99.0124, user_id=365064, is_mobile=0, is_package=0, channel=9, srch_adults_cnt=2, srch_children_cnt=0, srch_rm_cnt=1.0),\n",
       " Row(hotel_cluster=18.0, date_time=datetime.datetime(2013, 1, 13, 17, 27, 57), site_name=2, posa_continent=3, user_location_country=66, user_location_region=315, user_location_city=22202, orig_destination_distance=99.3521, user_id=365064, is_mobile=0, is_package=0, channel=9, srch_adults_cnt=2, srch_children_cnt=0, srch_rm_cnt=1.0),\n",
       " Row(hotel_cluster=41.0, date_time=datetime.datetime(2013, 1, 13, 17, 26, 33), site_name=2, posa_continent=3, user_location_country=66, user_location_region=315, user_location_city=22202, orig_destination_distance=99.1339, user_id=365064, is_mobile=0, is_package=0, channel=9, srch_adults_cnt=2, srch_children_cnt=0, srch_rm_cnt=1.0),\n",
       " Row(hotel_cluster=18.0, date_time=datetime.datetime(2013, 1, 13, 17, 25, 11), site_name=2, posa_continent=3, user_location_country=66, user_location_region=315, user_location_city=22202, orig_destination_distance=2484.7286, user_id=365064, is_mobile=0, is_package=0, channel=9, srch_adults_cnt=2, srch_children_cnt=0, srch_rm_cnt=1.0),\n",
       " Row(hotel_cluster=95.0, date_time=datetime.datetime(2013, 1, 13, 17, 24, 16), site_name=2, posa_continent=3, user_location_country=66, user_location_region=315, user_location_city=22202, orig_destination_distance=2484.7148, user_id=365064, is_mobile=0, is_package=0, channel=9, srch_adults_cnt=2, srch_children_cnt=0, srch_rm_cnt=1.0),\n",
       " Row(hotel_cluster=68.0, date_time=datetime.datetime(2013, 1, 13, 17, 22, 41), site_name=2, posa_continent=3, user_location_country=66, user_location_region=315, user_location_city=22202, orig_destination_distance=2485.4461, user_id=365064, is_mobile=0, is_package=0, channel=9, srch_adults_cnt=2, srch_children_cnt=0, srch_rm_cnt=1.0),\n",
       " Row(hotel_cluster=68.0, date_time=datetime.datetime(2013, 1, 13, 17, 21, 37), site_name=2, posa_continent=3, user_location_country=66, user_location_region=315, user_location_city=22202, orig_destination_distance=2484.7366, user_id=365064, is_mobile=0, is_package=0, channel=9, srch_adults_cnt=2, srch_children_cnt=0, srch_rm_cnt=1.0),\n",
       " Row(hotel_cluster=11.0, date_time=datetime.datetime(2013, 1, 13, 17, 20, 30), site_name=2, posa_continent=3, user_location_country=66, user_location_region=315, user_location_city=22202, orig_destination_distance=2484.788, user_id=365064, is_mobile=0, is_package=0, channel=9, srch_adults_cnt=2, srch_children_cnt=0, srch_rm_cnt=1.0),\n",
       " Row(hotel_cluster=43.0, date_time=datetime.datetime(2013, 1, 11, 12, 36, 13), site_name=2, posa_continent=3, user_location_country=66, user_location_region=340, user_location_city=43356, orig_destination_distance=5434.6968, user_id=848669, is_mobile=0, is_package=0, channel=9, srch_adults_cnt=2, srch_children_cnt=0, srch_rm_cnt=1.0),\n",
       " Row(hotel_cluster=67.0, date_time=datetime.datetime(2013, 1, 11, 12, 35, 31), site_name=2, posa_continent=3, user_location_country=66, user_location_region=340, user_location_city=43356, orig_destination_distance=5435.8613, user_id=848669, is_mobile=0, is_package=0, channel=9, srch_adults_cnt=2, srch_children_cnt=0, srch_rm_cnt=1.0),\n",
       " Row(hotel_cluster=82.0, date_time=datetime.datetime(2013, 1, 11, 12, 33, 13), site_name=2, posa_continent=3, user_location_country=66, user_location_region=340, user_location_city=43356, orig_destination_distance=5435.5494, user_id=848669, is_mobile=0, is_package=0, channel=9, srch_adults_cnt=2, srch_children_cnt=0, srch_rm_cnt=1.0),\n",
       " Row(hotel_cluster=81.0, date_time=datetime.datetime(2013, 1, 11, 12, 22, 41), site_name=2, posa_continent=3, user_location_country=66, user_location_region=340, user_location_city=43356, orig_destination_distance=5433.8391, user_id=848669, is_mobile=0, is_package=0, channel=9, srch_adults_cnt=2, srch_children_cnt=0, srch_rm_cnt=1.0),\n",
       " Row(hotel_cluster=76.0, date_time=datetime.datetime(2013, 1, 11, 12, 20, 21), site_name=2, posa_continent=3, user_location_country=66, user_location_region=340, user_location_city=43356, orig_destination_distance=5435.3169, user_id=848669, is_mobile=0, is_package=0, channel=9, srch_adults_cnt=2, srch_children_cnt=0, srch_rm_cnt=1.0),\n",
       " Row(hotel_cluster=47.0, date_time=datetime.datetime(2013, 1, 23, 18, 44, 45), site_name=11, posa_continent=3, user_location_country=205, user_location_region=155, user_location_city=19334, orig_destination_distance=1254.5191, user_id=849033, is_mobile=0, is_package=0, channel=9, srch_adults_cnt=2, srch_children_cnt=1, srch_rm_cnt=1.0),\n",
       " Row(hotel_cluster=58.0, date_time=datetime.datetime(2013, 1, 13, 14, 22, 4), site_name=37, posa_continent=1, user_location_country=69, user_location_region=923, user_location_city=35532, orig_destination_distance=None, user_id=101613, is_mobile=1, is_package=0, channel=9, srch_adults_cnt=2, srch_children_cnt=1, srch_rm_cnt=1.0),\n",
       " Row(hotel_cluster=76.0, date_time=datetime.datetime(2013, 1, 23, 18, 45, 44), site_name=11, posa_continent=3, user_location_country=205, user_location_region=155, user_location_city=19334, orig_destination_distance=1262.6858, user_id=849033, is_mobile=0, is_package=0, channel=9, srch_adults_cnt=2, srch_children_cnt=1, srch_rm_cnt=1.0),\n",
       " Row(hotel_cluster=14.0, date_time=datetime.datetime(2013, 1, 23, 18, 47, 28), site_name=11, posa_continent=3, user_location_country=205, user_location_region=155, user_location_city=19334, orig_destination_distance=1259.6744, user_id=849033, is_mobile=0, is_package=0, channel=9, srch_adults_cnt=2, srch_children_cnt=1, srch_rm_cnt=1.0),\n",
       " Row(hotel_cluster=26.0, date_time=datetime.datetime(2013, 1, 22, 21, 14, 30), site_name=2, posa_continent=3, user_location_country=66, user_location_region=196, user_location_city=2428, orig_destination_distance=826.2195, user_id=372054, is_mobile=0, is_package=1, channel=9, srch_adults_cnt=2, srch_children_cnt=0, srch_rm_cnt=1.0),\n",
       " Row(hotel_cluster=53.0, date_time=datetime.datetime(2013, 1, 16, 8, 52, 6), site_name=34, posa_continent=3, user_location_country=205, user_location_region=354, user_location_city=43321, orig_destination_distance=None, user_id=702215, is_mobile=0, is_package=1, channel=9, srch_adults_cnt=2, srch_children_cnt=0, srch_rm_cnt=1.0),\n",
       " Row(hotel_cluster=97.0, date_time=datetime.datetime(2013, 1, 11, 4, 46, 40), site_name=2, posa_continent=3, user_location_country=66, user_location_region=442, user_location_city=35390, orig_destination_distance=753.0877, user_id=703358, is_mobile=0, is_package=0, channel=9, srch_adults_cnt=1, srch_children_cnt=0, srch_rm_cnt=1.0),\n",
       " Row(hotel_cluster=97.0, date_time=datetime.datetime(2013, 1, 11, 4, 47, 12), site_name=2, posa_continent=3, user_location_country=66, user_location_region=442, user_location_city=35390, orig_destination_distance=753.0877, user_id=703358, is_mobile=0, is_package=0, channel=9, srch_adults_cnt=1, srch_children_cnt=0, srch_rm_cnt=1.0),\n",
       " Row(hotel_cluster=1.0, date_time=datetime.datetime(2013, 1, 18, 4, 53, 55), site_name=2, posa_continent=3, user_location_country=66, user_location_region=435, user_location_city=30431, orig_destination_distance=1417.7697, user_id=371180, is_mobile=1, is_package=0, channel=9, srch_adults_cnt=1, srch_children_cnt=0, srch_rm_cnt=1.0),\n",
       " Row(hotel_cluster=54.0, date_time=datetime.datetime(2013, 1, 18, 4, 51, 4), site_name=2, posa_continent=3, user_location_country=66, user_location_region=435, user_location_city=30431, orig_destination_distance=1417.5646, user_id=371180, is_mobile=1, is_package=0, channel=9, srch_adults_cnt=1, srch_children_cnt=0, srch_rm_cnt=1.0),\n",
       " Row(hotel_cluster=71.0, date_time=datetime.datetime(2013, 1, 18, 4, 47, 20), site_name=2, posa_continent=3, user_location_country=66, user_location_region=435, user_location_city=30431, orig_destination_distance=1419.1099, user_id=371180, is_mobile=1, is_package=0, channel=9, srch_adults_cnt=1, srch_children_cnt=0, srch_rm_cnt=1.0),\n",
       " Row(hotel_cluster=51.0, date_time=datetime.datetime(2013, 1, 16, 9, 28, 14), site_name=2, posa_continent=3, user_location_country=66, user_location_region=442, user_location_city=25538, orig_destination_distance=1055.9361, user_id=371180, is_mobile=1, is_package=0, channel=9, srch_adults_cnt=1, srch_children_cnt=0, srch_rm_cnt=1.0),\n",
       " Row(hotel_cluster=71.0, date_time=datetime.datetime(2013, 1, 16, 5, 56, 2), site_name=2, posa_continent=3, user_location_country=66, user_location_region=442, user_location_city=25538, orig_destination_distance=1056.2637, user_id=371180, is_mobile=1, is_package=0, channel=9, srch_adults_cnt=1, srch_children_cnt=0, srch_rm_cnt=1.0),\n",
       " Row(hotel_cluster=26.0, date_time=datetime.datetime(2013, 1, 15, 17, 23, 1), site_name=2, posa_continent=3, user_location_country=66, user_location_region=337, user_location_city=47718, orig_destination_distance=1205.8968, user_id=372132, is_mobile=0, is_package=1, channel=9, srch_adults_cnt=2, srch_children_cnt=0, srch_rm_cnt=1.0),\n",
       " Row(hotel_cluster=54.0, date_time=datetime.datetime(2013, 1, 16, 5, 53, 4), site_name=2, posa_continent=3, user_location_country=66, user_location_region=442, user_location_city=25538, orig_destination_distance=1055.4233, user_id=371180, is_mobile=1, is_package=0, channel=9, srch_adults_cnt=1, srch_children_cnt=0, srch_rm_cnt=1.0),\n",
       " Row(hotel_cluster=1.0, date_time=datetime.datetime(2013, 1, 16, 4, 32, 17), site_name=2, posa_continent=3, user_location_country=66, user_location_region=442, user_location_city=25538, orig_destination_distance=1056.2134, user_id=371180, is_mobile=1, is_package=0, channel=9, srch_adults_cnt=1, srch_children_cnt=0, srch_rm_cnt=1.0),\n",
       " Row(hotel_cluster=54.0, date_time=datetime.datetime(2013, 1, 15, 12, 21, 11), site_name=2, posa_continent=3, user_location_country=66, user_location_region=442, user_location_city=18804, orig_destination_distance=1052.7426, user_id=371180, is_mobile=1, is_package=0, channel=9, srch_adults_cnt=2, srch_children_cnt=0, srch_rm_cnt=1.0),\n",
       " Row(hotel_cluster=71.0, date_time=datetime.datetime(2013, 1, 15, 10, 56, 14), site_name=2, posa_continent=3, user_location_country=66, user_location_region=442, user_location_city=18804, orig_destination_distance=1053.5505, user_id=371180, is_mobile=1, is_package=0, channel=9, srch_adults_cnt=2, srch_children_cnt=0, srch_rm_cnt=1.0),\n",
       " Row(hotel_cluster=54.0, date_time=datetime.datetime(2013, 1, 14, 9, 26, 43), site_name=2, posa_continent=3, user_location_country=66, user_location_region=442, user_location_city=7689, orig_destination_distance=1060.9096, user_id=371180, is_mobile=1, is_package=0, channel=9, srch_adults_cnt=2, srch_children_cnt=0, srch_rm_cnt=1.0),\n",
       " Row(hotel_cluster=54.0, date_time=datetime.datetime(2013, 1, 14, 6, 52, 48), site_name=2, posa_continent=3, user_location_country=66, user_location_region=442, user_location_city=7689, orig_destination_distance=1062.9354, user_id=371180, is_mobile=1, is_package=0, channel=9, srch_adults_cnt=2, srch_children_cnt=0, srch_rm_cnt=1.0),\n",
       " Row(hotel_cluster=71.0, date_time=datetime.datetime(2013, 1, 14, 6, 51, 48), site_name=2, posa_continent=3, user_location_country=66, user_location_region=442, user_location_city=7689, orig_destination_distance=1063.1705, user_id=371180, is_mobile=1, is_package=0, channel=9, srch_adults_cnt=2, srch_children_cnt=0, srch_rm_cnt=1.0),\n",
       " Row(hotel_cluster=54.0, date_time=datetime.datetime(2013, 1, 14, 5, 27, 59), site_name=2, posa_continent=3, user_location_country=66, user_location_region=442, user_location_city=7689, orig_destination_distance=1062.9354, user_id=371180, is_mobile=1, is_package=0, channel=9, srch_adults_cnt=2, srch_children_cnt=0, srch_rm_cnt=1.0),\n",
       " Row(hotel_cluster=1.0, date_time=datetime.datetime(2013, 1, 12, 16, 16, 57), site_name=2, posa_continent=3, user_location_country=66, user_location_region=442, user_location_city=35390, orig_destination_distance=1224.5889, user_id=371180, is_mobile=1, is_package=0, channel=9, srch_adults_cnt=2, srch_children_cnt=0, srch_rm_cnt=1.0),\n",
       " Row(hotel_cluster=1.0, date_time=datetime.datetime(2013, 1, 12, 16, 15, 18), site_name=2, posa_continent=3, user_location_country=66, user_location_region=442, user_location_city=35390, orig_destination_distance=1224.5889, user_id=371180, is_mobile=1, is_package=0, channel=9, srch_adults_cnt=2, srch_children_cnt=0, srch_rm_cnt=1.0),\n",
       " Row(hotel_cluster=54.0, date_time=datetime.datetime(2013, 1, 16, 5, 34, 21), site_name=2, posa_continent=3, user_location_country=66, user_location_region=442, user_location_city=25538, orig_destination_distance=1055.4233, user_id=371180, is_mobile=1, is_package=0, channel=9, srch_adults_cnt=1, srch_children_cnt=0, srch_rm_cnt=1.0),\n",
       " Row(hotel_cluster=54.0, date_time=datetime.datetime(2013, 1, 12, 15, 22, 46), site_name=2, posa_continent=3, user_location_country=66, user_location_region=435, user_location_city=30431, orig_destination_distance=1419.3304, user_id=371180, is_mobile=1, is_package=0, channel=9, srch_adults_cnt=2, srch_children_cnt=0, srch_rm_cnt=1.0),\n",
       " Row(hotel_cluster=84.0, date_time=datetime.datetime(2013, 1, 20, 10, 57, 5), site_name=2, posa_continent=3, user_location_country=66, user_location_region=337, user_location_city=47718, orig_destination_distance=1205.3211, user_id=372132, is_mobile=0, is_package=1, channel=9, srch_adults_cnt=2, srch_children_cnt=0, srch_rm_cnt=1.0),\n",
       " Row(hotel_cluster=28.0, date_time=datetime.datetime(2013, 1, 9, 7, 2, 30), site_name=2, posa_continent=3, user_location_country=66, user_location_region=442, user_location_city=76, orig_destination_distance=1481.0856, user_id=372179, is_mobile=0, is_package=0, channel=9, srch_adults_cnt=2, srch_children_cnt=0, srch_rm_cnt=1.0),\n",
       " Row(hotel_cluster=6.0, date_time=datetime.datetime(2013, 1, 28, 17, 38, 11), site_name=37, posa_continent=1, user_location_country=69, user_location_region=923, user_location_city=23649, orig_destination_distance=None, user_id=377814, is_mobile=0, is_package=1, channel=9, srch_adults_cnt=1, srch_children_cnt=0, srch_rm_cnt=1.0),\n",
       " Row(hotel_cluster=91.0, date_time=datetime.datetime(2013, 1, 28, 17, 33, 35), site_name=37, posa_continent=1, user_location_country=69, user_location_region=923, user_location_city=23649, orig_destination_distance=None, user_id=377814, is_mobile=0, is_package=1, channel=9, srch_adults_cnt=1, srch_children_cnt=0, srch_rm_cnt=1.0),\n",
       " Row(hotel_cluster=15.0, date_time=datetime.datetime(2013, 1, 8, 19, 28, 43), site_name=2, posa_continent=3, user_location_country=66, user_location_region=467, user_location_city=6667, orig_destination_distance=1158.51, user_id=696641, is_mobile=0, is_package=1, channel=2, srch_adults_cnt=1, srch_children_cnt=0, srch_rm_cnt=1.0),\n",
       " Row(hotel_cluster=72.0, date_time=datetime.datetime(2013, 1, 8, 19, 31, 54), site_name=2, posa_continent=3, user_location_country=66, user_location_region=467, user_location_city=6667, orig_destination_distance=1159.1346, user_id=696641, is_mobile=0, is_package=1, channel=2, srch_adults_cnt=1, srch_children_cnt=0, srch_rm_cnt=1.0),\n",
       " Row(hotel_cluster=48.0, date_time=datetime.datetime(2013, 1, 14, 19, 26, 34), site_name=2, posa_continent=3, user_location_country=66, user_location_region=448, user_location_city=39938, orig_destination_distance=0.2258, user_id=698335, is_mobile=0, is_package=0, channel=9, srch_adults_cnt=2, srch_children_cnt=0, srch_rm_cnt=1.0),\n",
       " Row(hotel_cluster=65.0, date_time=datetime.datetime(2013, 1, 14, 21, 41, 35), site_name=2, posa_continent=3, user_location_country=66, user_location_region=346, user_location_city=12236, orig_destination_distance=1288.5737, user_id=698679, is_mobile=0, is_package=1, channel=9, srch_adults_cnt=2, srch_children_cnt=0, srch_rm_cnt=1.0),\n",
       " Row(hotel_cluster=65.0, date_time=datetime.datetime(2013, 1, 14, 22, 2, 24), site_name=2, posa_continent=3, user_location_country=66, user_location_region=346, user_location_city=12236, orig_destination_distance=1288.5737, user_id=698679, is_mobile=0, is_package=1, channel=9, srch_adults_cnt=2, srch_children_cnt=0, srch_rm_cnt=1.0),\n",
       " Row(hotel_cluster=92.0, date_time=datetime.datetime(2013, 1, 18, 21, 48, 15), site_name=2, posa_continent=3, user_location_country=66, user_location_region=346, user_location_city=12236, orig_destination_distance=1288.7668, user_id=698679, is_mobile=0, is_package=1, channel=2, srch_adults_cnt=2, srch_children_cnt=0, srch_rm_cnt=1.0),\n",
       " Row(hotel_cluster=56.0, date_time=datetime.datetime(2013, 1, 25, 15, 7, 30), site_name=2, posa_continent=3, user_location_country=66, user_location_region=348, user_location_city=24960, orig_destination_distance=309.2923, user_id=372170, is_mobile=0, is_package=1, channel=7, srch_adults_cnt=2, srch_children_cnt=0, srch_rm_cnt=1.0),\n",
       " Row(hotel_cluster=10.0, date_time=datetime.datetime(2013, 1, 18, 22, 5, 36), site_name=2, posa_continent=3, user_location_country=66, user_location_region=346, user_location_city=12236, orig_destination_distance=1287.4921, user_id=698679, is_mobile=0, is_package=1, channel=2, srch_adults_cnt=2, srch_children_cnt=0, srch_rm_cnt=1.0),\n",
       " Row(hotel_cluster=41.0, date_time=datetime.datetime(2013, 1, 7, 21, 8, 18), site_name=2, posa_continent=3, user_location_country=66, user_location_region=174, user_location_city=26232, orig_destination_distance=27.636999999999997, user_id=96509, is_mobile=0, is_package=0, channel=3, srch_adults_cnt=2, srch_children_cnt=0, srch_rm_cnt=1.0),\n",
       " Row(hotel_cluster=18.0, date_time=datetime.datetime(2013, 1, 7, 21, 11, 7), site_name=2, posa_continent=3, user_location_country=66, user_location_region=174, user_location_city=26232, orig_destination_distance=30.8446, user_id=96509, is_mobile=0, is_package=0, channel=3, srch_adults_cnt=2, srch_children_cnt=0, srch_rm_cnt=1.0),\n",
       " Row(hotel_cluster=18.0, date_time=datetime.datetime(2013, 1, 7, 21, 11, 31), site_name=2, posa_continent=3, user_location_country=66, user_location_region=174, user_location_city=26232, orig_destination_distance=30.8446, user_id=96509, is_mobile=0, is_package=0, channel=3, srch_adults_cnt=1, srch_children_cnt=0, srch_rm_cnt=1.0),\n",
       " Row(hotel_cluster=42.0, date_time=datetime.datetime(2013, 1, 7, 21, 18, 13), site_name=2, posa_continent=3, user_location_country=66, user_location_region=174, user_location_city=26232, orig_destination_distance=37.3738, user_id=96509, is_mobile=0, is_package=0, channel=3, srch_adults_cnt=1, srch_children_cnt=1, srch_rm_cnt=1.0),\n",
       " Row(hotel_cluster=59.0, date_time=datetime.datetime(2013, 1, 7, 21, 20, 28), site_name=2, posa_continent=3, user_location_country=66, user_location_region=174, user_location_city=26232, orig_destination_distance=35.6723, user_id=96509, is_mobile=0, is_package=0, channel=3, srch_adults_cnt=1, srch_children_cnt=1, srch_rm_cnt=1.0),\n",
       " Row(hotel_cluster=42.0, date_time=datetime.datetime(2013, 1, 7, 21, 25, 33), site_name=2, posa_continent=3, user_location_country=66, user_location_region=174, user_location_city=26232, orig_destination_distance=37.3738, user_id=96509, is_mobile=0, is_package=0, channel=3, srch_adults_cnt=1, srch_children_cnt=1, srch_rm_cnt=2.0),\n",
       " Row(hotel_cluster=77.0, date_time=datetime.datetime(2013, 1, 26, 11, 2, 31), site_name=2, posa_continent=3, user_location_country=66, user_location_region=260, user_location_city=36620, orig_destination_distance=840.6492, user_id=372303, is_mobile=0, is_package=0, channel=9, srch_adults_cnt=2, srch_children_cnt=2, srch_rm_cnt=1.0),\n",
       " Row(hotel_cluster=31.0, date_time=datetime.datetime(2013, 1, 26, 10, 51, 17), site_name=2, posa_continent=3, user_location_country=66, user_location_region=260, user_location_city=36620, orig_destination_distance=661.5876, user_id=372303, is_mobile=0, is_package=0, channel=9, srch_adults_cnt=2, srch_children_cnt=2, srch_rm_cnt=1.0),\n",
       " Row(hotel_cluster=34.0, date_time=datetime.datetime(2013, 1, 26, 10, 28, 57), site_name=2, posa_continent=3, user_location_country=66, user_location_region=260, user_location_city=36620, orig_destination_distance=846.6789, user_id=372303, is_mobile=0, is_package=0, channel=9, srch_adults_cnt=2, srch_children_cnt=2, srch_rm_cnt=1.0),\n",
       " Row(hotel_cluster=68.0, date_time=datetime.datetime(2013, 1, 28, 8, 19, 3), site_name=2, posa_continent=3, user_location_country=66, user_location_region=258, user_location_city=4687, orig_destination_distance=0.3167, user_id=96156, is_mobile=0, is_package=0, channel=9, srch_adults_cnt=2, srch_children_cnt=0, srch_rm_cnt=1.0),\n",
       " Row(hotel_cluster=12.0, date_time=datetime.datetime(2013, 1, 12, 15, 22), site_name=2, posa_continent=3, user_location_country=66, user_location_region=435, user_location_city=30431, orig_destination_distance=1416.4111, user_id=371180, is_mobile=1, is_package=0, channel=9, srch_adults_cnt=2, srch_children_cnt=0, srch_rm_cnt=1.0),\n",
       " Row(hotel_cluster=71.0, date_time=datetime.datetime(2013, 1, 12, 15, 21, 2), site_name=2, posa_continent=3, user_location_country=66, user_location_region=435, user_location_city=30431, orig_destination_distance=1419.7155, user_id=371180, is_mobile=1, is_package=0, channel=9, srch_adults_cnt=2, srch_children_cnt=0, srch_rm_cnt=1.0),\n",
       " Row(hotel_cluster=1.0, date_time=datetime.datetime(2013, 1, 12, 15, 19, 43), site_name=2, posa_continent=3, user_location_country=66, user_location_region=435, user_location_city=30431, orig_destination_distance=1417.7697, user_id=371180, is_mobile=1, is_package=0, channel=9, srch_adults_cnt=2, srch_children_cnt=0, srch_rm_cnt=1.0),\n",
       " Row(hotel_cluster=92.0, date_time=datetime.datetime(2013, 1, 7, 10, 12, 12), site_name=2, posa_continent=3, user_location_country=66, user_location_region=346, user_location_city=31371, orig_destination_distance=2757.0428, user_id=370180, is_mobile=0, is_package=0, channel=9, srch_adults_cnt=2, srch_children_cnt=0, srch_rm_cnt=1.0),\n",
       " Row(hotel_cluster=92.0, date_time=datetime.datetime(2013, 1, 7, 10, 11, 31), site_name=2, posa_continent=3, user_location_country=66, user_location_region=346, user_location_city=31371, orig_destination_distance=2759.527, user_id=370180, is_mobile=0, is_package=0, channel=9, srch_adults_cnt=2, srch_children_cnt=0, srch_rm_cnt=1.0),\n",
       " Row(hotel_cluster=82.0, date_time=datetime.datetime(2013, 1, 30, 18, 34, 1), site_name=2, posa_continent=3, user_location_country=215, user_location_region=646, user_location_city=51733, orig_destination_distance=116.0043, user_id=623391, is_mobile=0, is_package=0, channel=9, srch_adults_cnt=2, srch_children_cnt=1, srch_rm_cnt=1.0),\n",
       " Row(hotel_cluster=82.0, date_time=datetime.datetime(2013, 1, 30, 18, 32, 47), site_name=2, posa_continent=3, user_location_country=215, user_location_region=646, user_location_city=51733, orig_destination_distance=116.0043, user_id=623391, is_mobile=0, is_package=0, channel=9, srch_adults_cnt=2, srch_children_cnt=1, srch_rm_cnt=1.0),\n",
       " Row(hotel_cluster=4.0, date_time=datetime.datetime(2013, 1, 7, 16, 6, 28), site_name=2, posa_continent=3, user_location_country=66, user_location_region=536, user_location_city=26793, orig_destination_distance=None, user_id=550648, is_mobile=0, is_package=0, channel=8, srch_adults_cnt=2, srch_children_cnt=0, srch_rm_cnt=1.0),\n",
       " Row(hotel_cluster=4.0, date_time=datetime.datetime(2013, 1, 7, 16, 10, 42), site_name=2, posa_continent=3, user_location_country=66, user_location_region=536, user_location_city=26793, orig_destination_distance=None, user_id=550648, is_mobile=0, is_package=0, channel=8, srch_adults_cnt=2, srch_children_cnt=0, srch_rm_cnt=1.0),\n",
       " Row(hotel_cluster=52.0, date_time=datetime.datetime(2013, 1, 26, 20, 50, 11), site_name=2, posa_continent=3, user_location_country=66, user_location_region=153, user_location_city=28865, orig_destination_distance=2859.8727, user_id=550683, is_mobile=1, is_package=1, channel=2, srch_adults_cnt=1, srch_children_cnt=0, srch_rm_cnt=1.0),\n",
       " Row(hotel_cluster=65.0, date_time=datetime.datetime(2013, 1, 26, 21, 7, 33), site_name=2, posa_continent=3, user_location_country=66, user_location_region=153, user_location_city=28865, orig_destination_distance=2860.5037, user_id=550683, is_mobile=1, is_package=1, channel=2, srch_adults_cnt=1, srch_children_cnt=0, srch_rm_cnt=1.0),\n",
       " Row(hotel_cluster=38.0, date_time=datetime.datetime(2013, 1, 26, 23, 17, 19), site_name=2, posa_continent=3, user_location_country=66, user_location_region=153, user_location_city=28865, orig_destination_distance=6729.3027, user_id=550683, is_mobile=1, is_package=1, channel=2, srch_adults_cnt=2, srch_children_cnt=0, srch_rm_cnt=1.0),\n",
       " Row(hotel_cluster=97.0, date_time=datetime.datetime(2013, 1, 7, 10, 12, 50), site_name=2, posa_continent=3, user_location_country=66, user_location_region=346, user_location_city=31371, orig_destination_distance=2756.4103, user_id=370180, is_mobile=0, is_package=0, channel=9, srch_adults_cnt=2, srch_children_cnt=0, srch_rm_cnt=1.0),\n",
       " Row(hotel_cluster=44.0, date_time=datetime.datetime(2013, 1, 26, 23, 34, 25), site_name=2, posa_continent=3, user_location_country=66, user_location_region=153, user_location_city=28865, orig_destination_distance=6730.5155, user_id=550683, is_mobile=1, is_package=1, channel=2, srch_adults_cnt=2, srch_children_cnt=0, srch_rm_cnt=1.0),\n",
       " Row(hotel_cluster=2.0, date_time=datetime.datetime(2013, 1, 16, 21, 35, 28), site_name=2, posa_continent=3, user_location_country=66, user_location_region=321, user_location_city=42936, orig_destination_distance=None, user_id=370028, is_mobile=0, is_package=0, channel=9, srch_adults_cnt=2, srch_children_cnt=0, srch_rm_cnt=1.0),\n",
       " Row(hotel_cluster=7.0, date_time=datetime.datetime(2013, 1, 30, 20, 33, 21), site_name=37, posa_continent=1, user_location_country=69, user_location_region=1005, user_location_city=48189, orig_destination_distance=None, user_id=704417, is_mobile=0, is_package=0, channel=4, srch_adults_cnt=2, srch_children_cnt=0, srch_rm_cnt=1.0),\n",
       " Row(hotel_cluster=7.0, date_time=datetime.datetime(2013, 1, 30, 20, 42, 1), site_name=37, posa_continent=1, user_location_country=69, user_location_region=1005, user_location_city=48189, orig_destination_distance=None, user_id=704417, is_mobile=0, is_package=0, channel=4, srch_adults_cnt=2, srch_children_cnt=0, srch_rm_cnt=1.0),\n",
       " Row(hotel_cluster=16.0, date_time=datetime.datetime(2013, 1, 31, 22, 12, 32), site_name=37, posa_continent=1, user_location_country=69, user_location_region=1005, user_location_city=48189, orig_destination_distance=None, user_id=704417, is_mobile=0, is_package=0, channel=9, srch_adults_cnt=2, srch_children_cnt=0, srch_rm_cnt=1.0),\n",
       " Row(hotel_cluster=47.0, date_time=datetime.datetime(2013, 1, 23, 20, 16, 15), site_name=11, posa_continent=3, user_location_country=205, user_location_region=155, user_location_city=19334, orig_destination_distance=1040.9664, user_id=849033, is_mobile=0, is_package=0, channel=9, srch_adults_cnt=2, srch_children_cnt=1, srch_rm_cnt=1.0),\n",
       " Row(hotel_cluster=40.0, date_time=datetime.datetime(2013, 1, 23, 20, 15, 5), site_name=11, posa_continent=3, user_location_country=205, user_location_region=155, user_location_city=19334, orig_destination_distance=1041.6446, user_id=849033, is_mobile=0, is_package=0, channel=9, srch_adults_cnt=2, srch_children_cnt=1, srch_rm_cnt=1.0),\n",
       " Row(hotel_cluster=48.0, date_time=datetime.datetime(2013, 1, 23, 19, 29, 44), site_name=11, posa_continent=3, user_location_country=205, user_location_region=155, user_location_city=19334, orig_destination_distance=1261.6782, user_id=849033, is_mobile=0, is_package=0, channel=9, srch_adults_cnt=2, srch_children_cnt=1, srch_rm_cnt=1.0),\n",
       " Row(hotel_cluster=76.0, date_time=datetime.datetime(2013, 1, 23, 18, 47, 56), site_name=11, posa_continent=3, user_location_country=205, user_location_region=155, user_location_city=19334, orig_destination_distance=1261.8208, user_id=849033, is_mobile=0, is_package=0, channel=9, srch_adults_cnt=2, srch_children_cnt=1, srch_rm_cnt=1.0),\n",
       " Row(hotel_cluster=47.0, date_time=datetime.datetime(2013, 1, 23, 18, 47, 42), site_name=11, posa_continent=3, user_location_country=205, user_location_region=155, user_location_city=19334, orig_destination_distance=1254.5871, user_id=849033, is_mobile=0, is_package=0, channel=9, srch_adults_cnt=2, srch_children_cnt=1, srch_rm_cnt=1.0),\n",
       " Row(hotel_cluster=67.0, date_time=datetime.datetime(2013, 1, 27, 0, 8, 20), site_name=2, posa_continent=3, user_location_country=66, user_location_region=153, user_location_city=28865, orig_destination_distance=6308.1243, user_id=550683, is_mobile=1, is_package=1, channel=2, srch_adults_cnt=2, srch_children_cnt=0, srch_rm_cnt=1.0),\n",
       " Row(hotel_cluster=96.0, date_time=datetime.datetime(2013, 1, 26, 11, 39, 44), site_name=11, posa_continent=3, user_location_country=205, user_location_region=385, user_location_city=46963, orig_destination_distance=1921.5732, user_id=98096, is_mobile=0, is_package=0, channel=9, srch_adults_cnt=2, srch_children_cnt=1, srch_rm_cnt=1.0),\n",
       " Row(hotel_cluster=96.0, date_time=datetime.datetime(2013, 1, 26, 11, 13, 33), site_name=11, posa_continent=3, user_location_country=205, user_location_region=385, user_location_city=46963, orig_destination_distance=1921.5732, user_id=98096, is_mobile=0, is_package=0, channel=9, srch_adults_cnt=2, srch_children_cnt=0, srch_rm_cnt=1.0),\n",
       " Row(hotel_cluster=26.0, date_time=datetime.datetime(2013, 1, 26, 11, 5, 50), site_name=11, posa_continent=3, user_location_country=205, user_location_region=385, user_location_city=46963, orig_destination_distance=1921.6808, user_id=98096, is_mobile=0, is_package=0, channel=9, srch_adults_cnt=2, srch_children_cnt=0, srch_rm_cnt=1.0),\n",
       " Row(hotel_cluster=54.0, date_time=datetime.datetime(2013, 1, 12, 15, 18, 53), site_name=2, posa_continent=3, user_location_country=66, user_location_region=435, user_location_city=30431, orig_destination_distance=1418.8739, user_id=371180, is_mobile=1, is_package=0, channel=9, srch_adults_cnt=2, srch_children_cnt=0, srch_rm_cnt=1.0),\n",
       " Row(hotel_cluster=88.0, date_time=datetime.datetime(2013, 1, 12, 15, 18, 12), site_name=2, posa_continent=3, user_location_country=66, user_location_region=435, user_location_city=30431, orig_destination_distance=1426.3613, user_id=371180, is_mobile=1, is_package=0, channel=9, srch_adults_cnt=2, srch_children_cnt=0, srch_rm_cnt=1.0),\n",
       " Row(hotel_cluster=54.0, date_time=datetime.datetime(2013, 1, 12, 15, 4, 8), site_name=2, posa_continent=3, user_location_country=66, user_location_region=435, user_location_city=30431, orig_destination_distance=1418.2314, user_id=371180, is_mobile=1, is_package=0, channel=9, srch_adults_cnt=2, srch_children_cnt=0, srch_rm_cnt=1.0),\n",
       " Row(hotel_cluster=71.0, date_time=datetime.datetime(2013, 1, 10, 21, 4, 30), site_name=2, posa_continent=3, user_location_country=66, user_location_region=435, user_location_city=30431, orig_destination_distance=1419.1099, user_id=371180, is_mobile=1, is_package=0, channel=9, srch_adults_cnt=2, srch_children_cnt=0, srch_rm_cnt=1.0),\n",
       " Row(hotel_cluster=54.0, date_time=datetime.datetime(2013, 1, 9, 21, 14, 40), site_name=2, posa_continent=3, user_location_country=66, user_location_region=435, user_location_city=30431, orig_destination_distance=1418.8739, user_id=371180, is_mobile=1, is_package=0, channel=2, srch_adults_cnt=2, srch_children_cnt=0, srch_rm_cnt=1.0),\n",
       " Row(hotel_cluster=71.0, date_time=datetime.datetime(2013, 1, 9, 11, 59, 2), site_name=2, posa_continent=3, user_location_country=66, user_location_region=442, user_location_city=35390, orig_destination_distance=1223.4947, user_id=371180, is_mobile=1, is_package=0, channel=9, srch_adults_cnt=2, srch_children_cnt=0, srch_rm_cnt=1.0),\n",
       " Row(hotel_cluster=71.0, date_time=datetime.datetime(2013, 1, 9, 11, 58, 14), site_name=2, posa_continent=3, user_location_country=66, user_location_region=442, user_location_city=35390, orig_destination_distance=1224.3904, user_id=371180, is_mobile=1, is_package=0, channel=9, srch_adults_cnt=2, srch_children_cnt=0, srch_rm_cnt=1.0),\n",
       " Row(hotel_cluster=71.0, date_time=datetime.datetime(2013, 1, 9, 8, 27, 55), site_name=2, posa_continent=3, user_location_country=66, user_location_region=442, user_location_city=35390, orig_destination_distance=1224.3904, user_id=371180, is_mobile=1, is_package=0, channel=9, srch_adults_cnt=2, srch_children_cnt=0, srch_rm_cnt=1.0),\n",
       " Row(hotel_cluster=1.0, date_time=datetime.datetime(2013, 1, 9, 8, 23, 19), site_name=2, posa_continent=3, user_location_country=66, user_location_region=442, user_location_city=35390, orig_destination_distance=1224.3613, user_id=371180, is_mobile=1, is_package=0, channel=9, srch_adults_cnt=2, srch_children_cnt=0, srch_rm_cnt=1.0),\n",
       " Row(hotel_cluster=54.0, date_time=datetime.datetime(2013, 1, 9, 8, 18, 44), site_name=2, posa_continent=3, user_location_country=66, user_location_region=442, user_location_city=35390, orig_destination_distance=1222.662, user_id=371180, is_mobile=1, is_package=0, channel=9, srch_adults_cnt=2, srch_children_cnt=0, srch_rm_cnt=1.0),\n",
       " Row(hotel_cluster=79.0, date_time=datetime.datetime(2013, 1, 9, 7, 32, 3), site_name=2, posa_continent=3, user_location_country=66, user_location_region=442, user_location_city=35390, orig_destination_distance=1223.3313, user_id=371180, is_mobile=1, is_package=0, channel=9, srch_adults_cnt=2, srch_children_cnt=0, srch_rm_cnt=1.0),\n",
       " Row(hotel_cluster=54.0, date_time=datetime.datetime(2013, 1, 9, 7, 22, 41), site_name=2, posa_continent=3, user_location_country=66, user_location_region=442, user_location_city=35390, orig_destination_distance=1222.662, user_id=371180, is_mobile=1, is_package=0, channel=9, srch_adults_cnt=2, srch_children_cnt=0, srch_rm_cnt=1.0),\n",
       " Row(hotel_cluster=1.0, date_time=datetime.datetime(2013, 1, 9, 7, 22, 5), site_name=2, posa_continent=3, user_location_country=66, user_location_region=442, user_location_city=35390, orig_destination_distance=1224.3477, user_id=371180, is_mobile=1, is_package=0, channel=9, srch_adults_cnt=2, srch_children_cnt=0, srch_rm_cnt=1.0),\n",
       " Row(hotel_cluster=1.0, date_time=datetime.datetime(2013, 1, 8, 17, 12, 31), site_name=2, posa_continent=3, user_location_country=66, user_location_region=442, user_location_city=76, orig_destination_distance=1069.133, user_id=371180, is_mobile=1, is_package=1, channel=9, srch_adults_cnt=2, srch_children_cnt=0, srch_rm_cnt=1.0),\n",
       " Row(hotel_cluster=49.0, date_time=datetime.datetime(2013, 1, 8, 17, 9, 39), site_name=2, posa_continent=3, user_location_country=66, user_location_region=442, user_location_city=76, orig_destination_distance=1068.4195, user_id=371180, is_mobile=1, is_package=1, channel=9, srch_adults_cnt=2, srch_children_cnt=0, srch_rm_cnt=1.0),\n",
       " Row(hotel_cluster=51.0, date_time=datetime.datetime(2013, 1, 8, 17, 6, 56), site_name=2, posa_continent=3, user_location_country=66, user_location_region=442, user_location_city=76, orig_destination_distance=1068.8308, user_id=371180, is_mobile=1, is_package=1, channel=9, srch_adults_cnt=2, srch_children_cnt=0, srch_rm_cnt=1.0),\n",
       " Row(hotel_cluster=49.0, date_time=datetime.datetime(2013, 1, 8, 16, 0, 1), site_name=2, posa_continent=3, user_location_country=66, user_location_region=442, user_location_city=76, orig_destination_distance=1068.4195, user_id=371180, is_mobile=1, is_package=1, channel=9, srch_adults_cnt=2, srch_children_cnt=0, srch_rm_cnt=1.0),\n",
       " Row(hotel_cluster=19.0, date_time=datetime.datetime(2013, 1, 10, 10, 40, 7), site_name=2, posa_continent=3, user_location_country=66, user_location_region=348, user_location_city=47997, orig_destination_distance=2460.8828, user_id=370835, is_mobile=0, is_package=0, channel=9, srch_adults_cnt=1, srch_children_cnt=0, srch_rm_cnt=1.0),\n",
       " Row(hotel_cluster=55.0, date_time=datetime.datetime(2013, 1, 10, 10, 27, 27), site_name=2, posa_continent=3, user_location_country=66, user_location_region=348, user_location_city=47997, orig_destination_distance=2461.7851, user_id=370835, is_mobile=0, is_package=0, channel=9, srch_adults_cnt=1, srch_children_cnt=0, srch_rm_cnt=1.0),\n",
       " Row(hotel_cluster=54.0, date_time=datetime.datetime(2013, 1, 7, 10, 38, 7), site_name=2, posa_continent=3, user_location_country=66, user_location_region=256, user_location_city=53274, orig_destination_distance=336.8698, user_id=97827, is_mobile=0, is_package=0, channel=3, srch_adults_cnt=2, srch_children_cnt=0, srch_rm_cnt=1.0),\n",
       " Row(hotel_cluster=48.0, date_time=datetime.datetime(2013, 1, 23, 18, 47, 15), site_name=11, posa_continent=3, user_location_country=205, user_location_region=155, user_location_city=19334, orig_destination_distance=1255.7563, user_id=849033, is_mobile=0, is_package=0, channel=9, srch_adults_cnt=2, srch_children_cnt=1, srch_rm_cnt=1.0),\n",
       " Row(hotel_cluster=6.0, date_time=datetime.datetime(2013, 1, 30, 12, 15, 37), site_name=37, posa_continent=1, user_location_country=69, user_location_region=923, user_location_city=23649, orig_destination_distance=None, user_id=377814, is_mobile=0, is_package=1, channel=9, srch_adults_cnt=1, srch_children_cnt=0, srch_rm_cnt=1.0),\n",
       " Row(hotel_cluster=56.0, date_time=datetime.datetime(2013, 1, 13, 20, 29, 17), site_name=37, posa_continent=1, user_location_country=69, user_location_region=923, user_location_city=35532, orig_destination_distance=None, user_id=101613, is_mobile=1, is_package=0, channel=9, srch_adults_cnt=2, srch_children_cnt=0, srch_rm_cnt=1.0),\n",
       " Row(hotel_cluster=95.0, date_time=datetime.datetime(2013, 1, 17, 14, 31, 5), site_name=2, posa_continent=3, user_location_country=66, user_location_region=348, user_location_city=48862, orig_destination_distance=2404.2332, user_id=359192, is_mobile=0, is_package=0, channel=9, srch_adults_cnt=1, srch_children_cnt=0, srch_rm_cnt=1.0),\n",
       " Row(hotel_cluster=18.0, date_time=datetime.datetime(2013, 1, 28, 11, 55, 21), site_name=2, posa_continent=3, user_location_country=66, user_location_region=331, user_location_city=40794, orig_destination_distance=135.054, user_id=350185, is_mobile=0, is_package=0, channel=2, srch_adults_cnt=2, srch_children_cnt=0, srch_rm_cnt=1.0),\n",
       " Row(hotel_cluster=73.0, date_time=datetime.datetime(2013, 1, 28, 11, 54, 33), site_name=2, posa_continent=3, user_location_country=66, user_location_region=331, user_location_city=40794, orig_destination_distance=131.5232, user_id=350185, is_mobile=0, is_package=0, channel=2, srch_adults_cnt=2, srch_children_cnt=0, srch_rm_cnt=1.0),\n",
       " Row(hotel_cluster=28.0, date_time=datetime.datetime(2013, 1, 25, 15, 2, 34), site_name=2, posa_continent=3, user_location_country=66, user_location_region=331, user_location_city=40794, orig_destination_distance=54.5098, user_id=350185, is_mobile=0, is_package=0, channel=9, srch_adults_cnt=1, srch_children_cnt=0, srch_rm_cnt=1.0),\n",
       " Row(hotel_cluster=42.0, date_time=datetime.datetime(2013, 1, 25, 15, 0, 39), site_name=2, posa_continent=3, user_location_country=66, user_location_region=331, user_location_city=40794, orig_destination_distance=54.6378, user_id=350185, is_mobile=0, is_package=0, channel=9, srch_adults_cnt=1, srch_children_cnt=0, srch_rm_cnt=1.0),\n",
       " Row(hotel_cluster=6.0, date_time=datetime.datetime(2013, 1, 16, 11, 9, 58), site_name=2, posa_continent=3, user_location_country=66, user_location_region=331, user_location_city=40794, orig_destination_distance=132.2676, user_id=350185, is_mobile=0, is_package=0, channel=0, srch_adults_cnt=2, srch_children_cnt=0, srch_rm_cnt=2.0),\n",
       " Row(hotel_cluster=42.0, date_time=datetime.datetime(2013, 1, 16, 11, 7, 42), site_name=2, posa_continent=3, user_location_country=66, user_location_region=331, user_location_city=40794, orig_destination_distance=138.5767, user_id=350185, is_mobile=0, is_package=0, channel=0, srch_adults_cnt=2, srch_children_cnt=0, srch_rm_cnt=2.0),\n",
       " Row(hotel_cluster=15.0, date_time=datetime.datetime(2013, 1, 16, 11, 6, 58), site_name=2, posa_continent=3, user_location_country=66, user_location_region=331, user_location_city=40794, orig_destination_distance=137.4297, user_id=350185, is_mobile=0, is_package=0, channel=0, srch_adults_cnt=2, srch_children_cnt=0, srch_rm_cnt=2.0),\n",
       " Row(hotel_cluster=6.0, date_time=datetime.datetime(2013, 1, 16, 11, 6, 1), site_name=2, posa_continent=3, user_location_country=66, user_location_region=331, user_location_city=40794, orig_destination_distance=130.5254, user_id=350185, is_mobile=0, is_package=0, channel=0, srch_adults_cnt=2, srch_children_cnt=0, srch_rm_cnt=2.0),\n",
       " Row(hotel_cluster=6.0, date_time=datetime.datetime(2013, 1, 16, 11, 3, 53), site_name=2, posa_continent=3, user_location_country=66, user_location_region=331, user_location_city=40794, orig_destination_distance=132.2676, user_id=350185, is_mobile=0, is_package=0, channel=0, srch_adults_cnt=2, srch_children_cnt=0, srch_rm_cnt=2.0),\n",
       " Row(hotel_cluster=18.0, date_time=datetime.datetime(2013, 1, 28, 11, 56, 56), site_name=2, posa_continent=3, user_location_country=66, user_location_region=331, user_location_city=40794, orig_destination_distance=135.054, user_id=350185, is_mobile=0, is_package=0, channel=2, srch_adults_cnt=1, srch_children_cnt=0, srch_rm_cnt=1.0),\n",
       " Row(hotel_cluster=59.0, date_time=datetime.datetime(2013, 1, 16, 11, 1, 46), site_name=2, posa_continent=3, user_location_country=66, user_location_region=331, user_location_city=40794, orig_destination_distance=136.1938, user_id=350185, is_mobile=0, is_package=0, channel=0, srch_adults_cnt=2, srch_children_cnt=0, srch_rm_cnt=2.0),\n",
       " Row(hotel_cluster=59.0, date_time=datetime.datetime(2013, 1, 16, 10, 57, 38), site_name=2, posa_continent=3, user_location_country=66, user_location_region=331, user_location_city=40794, orig_destination_distance=136.1938, user_id=350185, is_mobile=0, is_package=0, channel=0, srch_adults_cnt=2, srch_children_cnt=0, srch_rm_cnt=1.0),\n",
       " Row(hotel_cluster=42.0, date_time=datetime.datetime(2013, 1, 16, 10, 53, 16), site_name=2, posa_continent=3, user_location_country=66, user_location_region=331, user_location_city=40794, orig_destination_distance=144.1054, user_id=350185, is_mobile=0, is_package=0, channel=0, srch_adults_cnt=2, srch_children_cnt=0, srch_rm_cnt=1.0),\n",
       " Row(hotel_cluster=6.0, date_time=datetime.datetime(2013, 1, 16, 10, 52), site_name=2, posa_continent=3, user_location_country=66, user_location_region=331, user_location_city=40794, orig_destination_distance=130.5254, user_id=350185, is_mobile=0, is_package=0, channel=0, srch_adults_cnt=2, srch_children_cnt=0, srch_rm_cnt=2.0),\n",
       " Row(hotel_cluster=91.0, date_time=datetime.datetime(2013, 1, 16, 10, 51, 6), site_name=2, posa_continent=3, user_location_country=66, user_location_region=331, user_location_city=40794, orig_destination_distance=143.8666, user_id=350185, is_mobile=0, is_package=0, channel=0, srch_adults_cnt=2, srch_children_cnt=0, srch_rm_cnt=2.0),\n",
       " Row(hotel_cluster=77.0, date_time=datetime.datetime(2013, 1, 8, 13, 25, 37), site_name=2, posa_continent=3, user_location_country=66, user_location_region=331, user_location_city=40794, orig_destination_distance=424.1122, user_id=350185, is_mobile=0, is_package=1, channel=9, srch_adults_cnt=2, srch_children_cnt=0, srch_rm_cnt=2.0),\n",
       " Row(hotel_cluster=68.0, date_time=datetime.datetime(2013, 1, 8, 13, 10, 59), site_name=2, posa_continent=3, user_location_country=66, user_location_region=331, user_location_city=40794, orig_destination_distance=424.4416, user_id=350185, is_mobile=0, is_package=0, channel=9, srch_adults_cnt=2, srch_children_cnt=0, srch_rm_cnt=1.0),\n",
       " Row(hotel_cluster=77.0, date_time=datetime.datetime(2013, 1, 8, 12, 33, 34), site_name=2, posa_continent=3, user_location_country=66, user_location_region=331, user_location_city=40794, orig_destination_distance=424.1122, user_id=350185, is_mobile=0, is_package=1, channel=9, srch_adults_cnt=2, srch_children_cnt=0, srch_rm_cnt=2.0),\n",
       " Row(hotel_cluster=48.0, date_time=datetime.datetime(2013, 1, 8, 10, 43, 54), site_name=2, posa_continent=3, user_location_country=66, user_location_region=331, user_location_city=40794, orig_destination_distance=610.1848, user_id=350185, is_mobile=0, is_package=0, channel=1, srch_adults_cnt=2, srch_children_cnt=0, srch_rm_cnt=1.0),\n",
       " Row(hotel_cluster=18.0, date_time=datetime.datetime(2013, 1, 8, 9, 38, 9), site_name=2, posa_continent=3, user_location_country=66, user_location_region=331, user_location_city=40794, orig_destination_distance=456.8182, user_id=350185, is_mobile=0, is_package=0, channel=9, srch_adults_cnt=2, srch_children_cnt=0, srch_rm_cnt=1.0),\n",
       " Row(hotel_cluster=59.0, date_time=datetime.datetime(2013, 1, 16, 11, 1, 15), site_name=2, posa_continent=3, user_location_country=66, user_location_region=331, user_location_city=40794, orig_destination_distance=136.1938, user_id=350185, is_mobile=0, is_package=0, channel=0, srch_adults_cnt=2, srch_children_cnt=0, srch_rm_cnt=2.0),\n",
       " Row(hotel_cluster=18.0, date_time=datetime.datetime(2013, 1, 8, 9, 20, 12), site_name=2, posa_continent=3, user_location_country=66, user_location_region=331, user_location_city=40794, orig_destination_distance=456.4872, user_id=350185, is_mobile=0, is_package=0, channel=9, srch_adults_cnt=2, srch_children_cnt=0, srch_rm_cnt=1.0),\n",
       " Row(hotel_cluster=18.0, date_time=datetime.datetime(2013, 1, 28, 11, 59, 6), site_name=2, posa_continent=3, user_location_country=66, user_location_region=331, user_location_city=40794, orig_destination_distance=135.054, user_id=350185, is_mobile=0, is_package=0, channel=2, srch_adults_cnt=1, srch_children_cnt=0, srch_rm_cnt=1.0),\n",
       " Row(hotel_cluster=49.0, date_time=datetime.datetime(2013, 1, 8, 10, 50, 53), site_name=2, posa_continent=3, user_location_country=66, user_location_region=321, user_location_city=47535, orig_destination_distance=1532.3207, user_id=556408, is_mobile=0, is_package=1, channel=3, srch_adults_cnt=1, srch_children_cnt=0, srch_rm_cnt=1.0),\n",
       " Row(hotel_cluster=65.0, date_time=datetime.datetime(2013, 1, 17, 21, 9, 37), site_name=11, posa_continent=3, user_location_country=205, user_location_region=135, user_location_city=36086, orig_destination_distance=2570.6782, user_id=351621, is_mobile=0, is_package=1, channel=9, srch_adults_cnt=2, srch_children_cnt=0, srch_rm_cnt=1.0),\n",
       " Row(hotel_cluster=65.0, date_time=datetime.datetime(2013, 1, 17, 19, 32, 40), site_name=11, posa_continent=3, user_location_country=205, user_location_region=135, user_location_city=36086, orig_destination_distance=2570.6782, user_id=351621, is_mobile=0, is_package=1, channel=9, srch_adults_cnt=2, srch_children_cnt=0, srch_rm_cnt=1.0),\n",
       " Row(hotel_cluster=48.0, date_time=datetime.datetime(2013, 1, 7, 11, 24, 10), site_name=11, posa_continent=3, user_location_country=205, user_location_region=385, user_location_city=13813, orig_destination_distance=None, user_id=351456, is_mobile=0, is_package=0, channel=9, srch_adults_cnt=2, srch_children_cnt=1, srch_rm_cnt=1.0),\n",
       " Row(hotel_cluster=48.0, date_time=datetime.datetime(2013, 1, 7, 11, 20, 26), site_name=11, posa_continent=3, user_location_country=205, user_location_region=385, user_location_city=13813, orig_destination_distance=None, user_id=351456, is_mobile=0, is_package=0, channel=9, srch_adults_cnt=2, srch_children_cnt=1, srch_rm_cnt=1.0),\n",
       " Row(hotel_cluster=26.0, date_time=datetime.datetime(2013, 1, 30, 15, 40, 58), site_name=2, posa_continent=3, user_location_country=66, user_location_region=352, user_location_city=5807, orig_destination_distance=1457.1679, user_id=351165, is_mobile=0, is_package=0, channel=0, srch_adults_cnt=1, srch_children_cnt=0, srch_rm_cnt=1.0),\n",
       " Row(hotel_cluster=96.0, date_time=datetime.datetime(2013, 1, 11, 19, 20, 8), site_name=2, posa_continent=3, user_location_country=66, user_location_region=258, user_location_city=54770, orig_destination_distance=1020.3535, user_id=351119, is_mobile=0, is_package=0, channel=0, srch_adults_cnt=1, srch_children_cnt=1, srch_rm_cnt=1.0),\n",
       " Row(hotel_cluster=28.0, date_time=datetime.datetime(2013, 1, 11, 19, 19, 6), site_name=2, posa_continent=3, user_location_country=66, user_location_region=258, user_location_city=54770, orig_destination_distance=1020.9897, user_id=351119, is_mobile=0, is_package=0, channel=0, srch_adults_cnt=1, srch_children_cnt=1, srch_rm_cnt=1.0),\n",
       " Row(hotel_cluster=98.0, date_time=datetime.datetime(2013, 1, 28, 16, 8, 48), site_name=2, posa_continent=3, user_location_country=66, user_location_region=348, user_location_city=48862, orig_destination_distance=186.4399, user_id=350838, is_mobile=0, is_package=0, channel=9, srch_adults_cnt=1, srch_children_cnt=1, srch_rm_cnt=1.0),\n",
       " Row(hotel_cluster=95.0, date_time=datetime.datetime(2013, 1, 28, 16, 5, 39), site_name=2, posa_continent=3, user_location_country=66, user_location_region=348, user_location_city=48862, orig_destination_distance=186.0545, user_id=350838, is_mobile=0, is_package=0, channel=9, srch_adults_cnt=1, srch_children_cnt=1, srch_rm_cnt=1.0),\n",
       " Row(hotel_cluster=16.0, date_time=datetime.datetime(2013, 1, 8, 11, 0, 43), site_name=2, posa_continent=3, user_location_country=66, user_location_region=321, user_location_city=47535, orig_destination_distance=1531.7269, user_id=556408, is_mobile=0, is_package=0, channel=3, srch_adults_cnt=1, srch_children_cnt=0, srch_rm_cnt=1.0),\n",
       " Row(hotel_cluster=98.0, date_time=datetime.datetime(2013, 1, 28, 15, 59, 25), site_name=2, posa_continent=3, user_location_country=66, user_location_region=348, user_location_city=48862, orig_destination_distance=186.4399, user_id=350838, is_mobile=0, is_package=0, channel=9, srch_adults_cnt=1, srch_children_cnt=1, srch_rm_cnt=1.0),\n",
       " Row(hotel_cluster=5.0, date_time=datetime.datetime(2013, 1, 17, 8, 55, 38), site_name=2, posa_continent=3, user_location_country=82, user_location_region=862, user_location_city=48871, orig_destination_distance=None, user_id=350596, is_mobile=0, is_package=1, channel=9, srch_adults_cnt=2, srch_children_cnt=0, srch_rm_cnt=1.0),\n",
       " Row(hotel_cluster=10.0, date_time=datetime.datetime(2013, 1, 29, 20, 28, 52), site_name=2, posa_continent=3, user_location_country=66, user_location_region=348, user_location_city=48611, orig_destination_distance=None, user_id=350225, is_mobile=0, is_package=1, channel=9, srch_adults_cnt=1, srch_children_cnt=0, srch_rm_cnt=1.0),\n",
       " Row(hotel_cluster=58.0, date_time=datetime.datetime(2013, 1, 7, 3, 5), site_name=37, posa_continent=1, user_location_country=77, user_location_region=824, user_location_city=21021, orig_destination_distance=None, user_id=719366, is_mobile=1, is_package=0, channel=9, srch_adults_cnt=2, srch_children_cnt=0, srch_rm_cnt=1.0),\n",
       " Row(hotel_cluster=67.0, date_time=datetime.datetime(2013, 1, 7, 3, 5, 58), site_name=37, posa_continent=1, user_location_country=77, user_location_region=824, user_location_city=21021, orig_destination_distance=None, user_id=719366, is_mobile=1, is_package=0, channel=9, srch_adults_cnt=2, srch_children_cnt=0, srch_rm_cnt=1.0),\n",
       " Row(hotel_cluster=29.0, date_time=datetime.datetime(2013, 1, 7, 3, 8, 23), site_name=37, posa_continent=1, user_location_country=77, user_location_region=824, user_location_city=21021, orig_destination_distance=None, user_id=719366, is_mobile=1, is_package=0, channel=9, srch_adults_cnt=2, srch_children_cnt=0, srch_rm_cnt=1.0),\n",
       " Row(hotel_cluster=68.0, date_time=datetime.datetime(2013, 1, 22, 13, 24, 19), site_name=34, posa_continent=3, user_location_country=205, user_location_region=354, user_location_city=25315, orig_destination_distance=3889.2224, user_id=106322, is_mobile=0, is_package=0, channel=5, srch_adults_cnt=1, srch_children_cnt=1, srch_rm_cnt=1.0),\n",
       " Row(hotel_cluster=15.0, date_time=datetime.datetime(2013, 1, 7, 17, 27), site_name=2, posa_continent=3, user_location_country=66, user_location_region=331, user_location_city=9189, orig_destination_distance=424.0906, user_id=350185, is_mobile=0, is_package=0, channel=1, srch_adults_cnt=2, srch_children_cnt=1, srch_rm_cnt=1.0),\n",
       " Row(hotel_cluster=13.0, date_time=datetime.datetime(2013, 1, 7, 17, 19, 56), site_name=2, posa_continent=3, user_location_country=66, user_location_region=331, user_location_city=9189, orig_destination_distance=424.0184, user_id=350185, is_mobile=0, is_package=0, channel=1, srch_adults_cnt=2, srch_children_cnt=1, srch_rm_cnt=1.0),\n",
       " Row(hotel_cluster=94.0, date_time=datetime.datetime(2013, 1, 7, 17, 17, 39), site_name=2, posa_continent=3, user_location_country=66, user_location_region=331, user_location_city=9189, orig_destination_distance=425.6216, user_id=350185, is_mobile=0, is_package=0, channel=1, srch_adults_cnt=2, srch_children_cnt=1, srch_rm_cnt=1.0),\n",
       " Row(hotel_cluster=37.0, date_time=datetime.datetime(2013, 1, 14, 18, 58, 1), site_name=2, posa_continent=3, user_location_country=66, user_location_region=448, user_location_city=46588, orig_destination_distance=2421.8384, user_id=350179, is_mobile=0, is_package=0, channel=0, srch_adults_cnt=2, srch_children_cnt=0, srch_rm_cnt=1.0),\n",
       " Row(hotel_cluster=94.0, date_time=datetime.datetime(2013, 1, 14, 18, 51, 45), site_name=2, posa_continent=3, user_location_country=66, user_location_region=448, user_location_city=46588, orig_destination_distance=2420.2984, user_id=350179, is_mobile=0, is_package=0, channel=0, srch_adults_cnt=2, srch_children_cnt=0, srch_rm_cnt=1.0),\n",
       " Row(hotel_cluster=93.0, date_time=datetime.datetime(2013, 1, 14, 18, 49, 59), site_name=2, posa_continent=3, user_location_country=66, user_location_region=448, user_location_city=46588, orig_destination_distance=2420.3633, user_id=350179, is_mobile=0, is_package=0, channel=0, srch_adults_cnt=2, srch_children_cnt=0, srch_rm_cnt=1.0),\n",
       " Row(hotel_cluster=4.0, date_time=datetime.datetime(2013, 1, 14, 18, 48, 25), site_name=2, posa_continent=3, user_location_country=66, user_location_region=448, user_location_city=46588, orig_destination_distance=2420.8229, user_id=350179, is_mobile=0, is_package=0, channel=0, srch_adults_cnt=2, srch_children_cnt=0, srch_rm_cnt=1.0),\n",
       " Row(hotel_cluster=94.0, date_time=datetime.datetime(2013, 1, 14, 18, 37, 37), site_name=2, posa_continent=3, user_location_country=66, user_location_region=448, user_location_city=46588, orig_destination_distance=2421.2736, user_id=350179, is_mobile=0, is_package=0, channel=0, srch_adults_cnt=2, srch_children_cnt=0, srch_rm_cnt=1.0),\n",
       " Row(hotel_cluster=55.0, date_time=datetime.datetime(2013, 1, 14, 18, 22, 58), site_name=2, posa_continent=3, user_location_country=66, user_location_region=448, user_location_city=46588, orig_destination_distance=2421.5543, user_id=350179, is_mobile=0, is_package=0, channel=0, srch_adults_cnt=2, srch_children_cnt=0, srch_rm_cnt=1.0),\n",
       " Row(hotel_cluster=94.0, date_time=datetime.datetime(2013, 1, 14, 19, 0, 29), site_name=2, posa_continent=3, user_location_country=66, user_location_region=448, user_location_city=46588, orig_destination_distance=2421.8426, user_id=350179, is_mobile=0, is_package=1, channel=0, srch_adults_cnt=2, srch_children_cnt=0, srch_rm_cnt=1.0),\n",
       " Row(hotel_cluster=6.0, date_time=datetime.datetime(2013, 1, 23, 19, 24, 5), site_name=2, posa_continent=3, user_location_country=66, user_location_region=174, user_location_city=24103, orig_destination_distance=8.174, user_id=349732, is_mobile=0, is_package=0, channel=9, srch_adults_cnt=2, srch_children_cnt=0, srch_rm_cnt=1.0),\n",
       " Row(hotel_cluster=41.0, date_time=datetime.datetime(2013, 1, 8, 19, 14, 51), site_name=2, posa_continent=3, user_location_country=66, user_location_region=442, user_location_city=46296, orig_destination_distance=1582.9559, user_id=349387, is_mobile=1, is_package=1, channel=1, srch_adults_cnt=2, srch_children_cnt=0, srch_rm_cnt=1.0),\n",
       " Row(hotel_cluster=83.0, date_time=datetime.datetime(2013, 1, 8, 19, 11, 8), site_name=2, posa_continent=3, user_location_country=66, user_location_region=442, user_location_city=46296, orig_destination_distance=1581.5910000000001, user_id=349387, is_mobile=1, is_package=1, channel=1, srch_adults_cnt=2, srch_children_cnt=0, srch_rm_cnt=1.0),\n",
       " Row(hotel_cluster=68.0, date_time=datetime.datetime(2013, 1, 8, 18, 39, 14), site_name=2, posa_continent=3, user_location_country=66, user_location_region=442, user_location_city=46296, orig_destination_distance=5169.889, user_id=349387, is_mobile=1, is_package=1, channel=1, srch_adults_cnt=2, srch_children_cnt=0, srch_rm_cnt=1.0),\n",
       " Row(hotel_cluster=65.0, date_time=datetime.datetime(2013, 1, 28, 12, 14, 1), site_name=2, posa_continent=3, user_location_country=66, user_location_region=442, user_location_city=35390, orig_destination_distance=806.2759, user_id=349207, is_mobile=0, is_package=1, channel=9, srch_adults_cnt=2, srch_children_cnt=0, srch_rm_cnt=1.0),\n",
       " Row(hotel_cluster=65.0, date_time=datetime.datetime(2013, 1, 28, 11, 39, 44), site_name=2, posa_continent=3, user_location_country=66, user_location_region=442, user_location_city=35390, orig_destination_distance=806.2759, user_id=349207, is_mobile=0, is_package=0, channel=9, srch_adults_cnt=2, srch_children_cnt=0, srch_rm_cnt=1.0),\n",
       " Row(hotel_cluster=90.0, date_time=datetime.datetime(2013, 1, 12, 21, 35, 9), site_name=2, posa_continent=3, user_location_country=66, user_location_region=337, user_location_city=11026, orig_destination_distance=8682.0007, user_id=348898, is_mobile=0, is_package=1, channel=9, srch_adults_cnt=2, srch_children_cnt=0, srch_rm_cnt=1.0),\n",
       " Row(hotel_cluster=46.0, date_time=datetime.datetime(2013, 1, 12, 21, 30, 24), site_name=2, posa_continent=3, user_location_country=66, user_location_region=337, user_location_city=11026, orig_destination_distance=8680.8539, user_id=348898, is_mobile=0, is_package=1, channel=9, srch_adults_cnt=2, srch_children_cnt=0, srch_rm_cnt=1.0),\n",
       " Row(hotel_cluster=58.0, date_time=datetime.datetime(2013, 1, 12, 21, 28, 50), site_name=2, posa_continent=3, user_location_country=66, user_location_region=337, user_location_city=11026, orig_destination_distance=8681.8283, user_id=348898, is_mobile=0, is_package=1, channel=9, srch_adults_cnt=2, srch_children_cnt=0, srch_rm_cnt=1.0),\n",
       " Row(hotel_cluster=46.0, date_time=datetime.datetime(2013, 1, 12, 21, 25, 54), site_name=2, posa_continent=3, user_location_country=66, user_location_region=337, user_location_city=11026, orig_destination_distance=8681.8225, user_id=348898, is_mobile=0, is_package=1, channel=9, srch_adults_cnt=2, srch_children_cnt=0, srch_rm_cnt=1.0),\n",
       " Row(hotel_cluster=55.0, date_time=datetime.datetime(2013, 1, 9, 14, 13, 30), site_name=2, posa_continent=3, user_location_country=66, user_location_region=442, user_location_city=25538, orig_destination_distance=1389.4562, user_id=349387, is_mobile=1, is_package=1, channel=9, srch_adults_cnt=2, srch_children_cnt=0, srch_rm_cnt=1.0),\n",
       " Row(hotel_cluster=94.0, date_time=datetime.datetime(2013, 1, 14, 19, 0, 54), site_name=2, posa_continent=3, user_location_country=66, user_location_region=448, user_location_city=46588, orig_destination_distance=2421.8426, user_id=350179, is_mobile=0, is_package=1, channel=0, srch_adults_cnt=2, srch_children_cnt=0, srch_rm_cnt=1.0),\n",
       " Row(hotel_cluster=77.0, date_time=datetime.datetime(2013, 1, 14, 19, 1, 19), site_name=2, posa_continent=3, user_location_country=66, user_location_region=448, user_location_city=46588, orig_destination_distance=2421.7748, user_id=350179, is_mobile=0, is_package=0, channel=0, srch_adults_cnt=2, srch_children_cnt=0, srch_rm_cnt=1.0),\n",
       " Row(hotel_cluster=17.0, date_time=datetime.datetime(2013, 1, 14, 19, 2, 27), site_name=2, posa_continent=3, user_location_country=66, user_location_region=448, user_location_city=46588, orig_destination_distance=2421.8464, user_id=350179, is_mobile=0, is_package=0, channel=0, srch_adults_cnt=2, srch_children_cnt=0, srch_rm_cnt=1.0),\n",
       " Row(hotel_cluster=95.0, date_time=datetime.datetime(2013, 1, 23, 20, 37, 15), site_name=2, posa_continent=3, user_location_country=66, user_location_region=258, user_location_city=9418, orig_destination_distance=1835.2302, user_id=557897, is_mobile=1, is_package=1, channel=2, srch_adults_cnt=2, srch_children_cnt=0, srch_rm_cnt=1.0),\n",
       " Row(hotel_cluster=53.0, date_time=datetime.datetime(2013, 1, 12, 1, 24, 10), site_name=2, posa_continent=3, user_location_country=3, user_location_region=50, user_location_city=5703, orig_destination_distance=None, user_id=874737, is_mobile=0, is_package=0, channel=9, srch_adults_cnt=1, srch_children_cnt=0, srch_rm_cnt=1.0),\n",
       " Row(hotel_cluster=44.0, date_time=datetime.datetime(2013, 1, 12, 1, 30, 51), site_name=2, posa_continent=3, user_location_country=3, user_location_region=50, user_location_city=5703, orig_destination_distance=None, user_id=874737, is_mobile=0, is_package=0, channel=9, srch_adults_cnt=1, srch_children_cnt=1, srch_rm_cnt=1.0),\n",
       " Row(hotel_cluster=58.0, date_time=datetime.datetime(2013, 1, 12, 1, 51, 6), site_name=2, posa_continent=3, user_location_country=3, user_location_region=50, user_location_city=5703, orig_destination_distance=None, user_id=874737, is_mobile=0, is_package=0, channel=9, srch_adults_cnt=1, srch_children_cnt=1, srch_rm_cnt=1.0),\n",
       " Row(hotel_cluster=58.0, date_time=datetime.datetime(2013, 1, 12, 1, 58, 29), site_name=2, posa_continent=3, user_location_country=3, user_location_region=50, user_location_city=5703, orig_destination_distance=None, user_id=874737, is_mobile=0, is_package=0, channel=9, srch_adults_cnt=1, srch_children_cnt=1, srch_rm_cnt=1.0),\n",
       " Row(hotel_cluster=58.0, date_time=datetime.datetime(2013, 1, 12, 2, 5, 58), site_name=2, posa_continent=3, user_location_country=3, user_location_region=50, user_location_city=5703, orig_destination_distance=None, user_id=874737, is_mobile=0, is_package=0, channel=9, srch_adults_cnt=2, srch_children_cnt=1, srch_rm_cnt=1.0),\n",
       " Row(hotel_cluster=26.0, date_time=datetime.datetime(2013, 1, 12, 2, 12, 56), site_name=2, posa_continent=3, user_location_country=3, user_location_region=50, user_location_city=5703, orig_destination_distance=None, user_id=874737, is_mobile=0, is_package=0, channel=9, srch_adults_cnt=1, srch_children_cnt=1, srch_rm_cnt=1.0),\n",
       " Row(hotel_cluster=37.0, date_time=datetime.datetime(2013, 1, 12, 5, 18, 48), site_name=2, posa_continent=3, user_location_country=3, user_location_region=50, user_location_city=5703, orig_destination_distance=None, user_id=874737, is_mobile=0, is_package=0, channel=9, srch_adults_cnt=1, srch_children_cnt=0, srch_rm_cnt=1.0),\n",
       " Row(hotel_cluster=11.0, date_time=datetime.datetime(2013, 1, 12, 5, 21, 57), site_name=2, posa_continent=3, user_location_country=3, user_location_region=50, user_location_city=5703, orig_destination_distance=None, user_id=874737, is_mobile=0, is_package=0, channel=9, srch_adults_cnt=1, srch_children_cnt=1, srch_rm_cnt=1.0),\n",
       " Row(hotel_cluster=18.0, date_time=datetime.datetime(2013, 1, 12, 5, 24, 23), site_name=2, posa_continent=3, user_location_country=3, user_location_region=50, user_location_city=5703, orig_destination_distance=None, user_id=874737, is_mobile=0, is_package=0, channel=9, srch_adults_cnt=1, srch_children_cnt=1, srch_rm_cnt=1.0),\n",
       " Row(hotel_cluster=58.0, date_time=datetime.datetime(2013, 1, 12, 5, 25, 49), site_name=2, posa_continent=3, user_location_country=3, user_location_region=50, user_location_city=5703, orig_destination_distance=None, user_id=874737, is_mobile=0, is_package=0, channel=9, srch_adults_cnt=1, srch_children_cnt=1, srch_rm_cnt=1.0),\n",
       " Row(hotel_cluster=58.0, date_time=datetime.datetime(2013, 1, 13, 6, 27, 31), site_name=2, posa_continent=3, user_location_country=3, user_location_region=50, user_location_city=5703, orig_destination_distance=None, user_id=874737, is_mobile=0, is_package=0, channel=9, srch_adults_cnt=1, srch_children_cnt=0, srch_rm_cnt=1.0),\n",
       " Row(hotel_cluster=77.0, date_time=datetime.datetime(2013, 1, 7, 17, 15, 4), site_name=2, posa_continent=3, user_location_country=66, user_location_region=331, user_location_city=9189, orig_destination_distance=420.9969, user_id=350185, is_mobile=0, is_package=0, channel=1, srch_adults_cnt=2, srch_children_cnt=1, srch_rm_cnt=1.0),\n",
       " Row(hotel_cluster=19.0, date_time=datetime.datetime(2013, 1, 22, 16, 47, 20), site_name=2, posa_continent=3, user_location_country=66, user_location_region=351, user_location_city=50659, orig_destination_distance=367.3411, user_id=106813, is_mobile=0, is_package=1, channel=9, srch_adults_cnt=2, srch_children_cnt=0, srch_rm_cnt=1.0),\n",
       " Row(hotel_cluster=65.0, date_time=datetime.datetime(2013, 1, 23, 18, 22), site_name=2, posa_continent=3, user_location_country=66, user_location_region=351, user_location_city=53240, orig_destination_distance=1393.8053, user_id=106813, is_mobile=0, is_package=1, channel=2, srch_adults_cnt=2, srch_children_cnt=0, srch_rm_cnt=1.0),\n",
       " Row(hotel_cluster=26.0, date_time=datetime.datetime(2013, 1, 23, 18, 26, 18), site_name=2, posa_continent=3, user_location_country=66, user_location_region=351, user_location_city=53240, orig_destination_distance=1393.9466, user_id=106813, is_mobile=0, is_package=0, channel=2, srch_adults_cnt=2, srch_children_cnt=1, srch_rm_cnt=1.0),\n",
       " Row(hotel_cluster=14.0, date_time=datetime.datetime(2013, 1, 14, 19, 26, 32), site_name=2, posa_continent=3, user_location_country=66, user_location_region=448, user_location_city=46588, orig_destination_distance=2421.7844, user_id=350179, is_mobile=0, is_package=0, channel=0, srch_adults_cnt=2, srch_children_cnt=0, srch_rm_cnt=1.0),\n",
       " Row(hotel_cluster=48.0, date_time=datetime.datetime(2013, 1, 14, 19, 24, 43), site_name=2, posa_continent=3, user_location_country=66, user_location_region=448, user_location_city=46588, orig_destination_distance=2421.7945, user_id=350179, is_mobile=0, is_package=0, channel=0, srch_adults_cnt=2, srch_children_cnt=0, srch_rm_cnt=1.0),\n",
       " Row(hotel_cluster=5.0, date_time=datetime.datetime(2013, 1, 14, 19, 23, 24), site_name=2, posa_continent=3, user_location_country=66, user_location_region=448, user_location_city=46588, orig_destination_distance=2421.8192, user_id=350179, is_mobile=0, is_package=0, channel=0, srch_adults_cnt=2, srch_children_cnt=0, srch_rm_cnt=1.0),\n",
       " Row(hotel_cluster=91.0, date_time=datetime.datetime(2013, 1, 14, 19, 22, 31), site_name=2, posa_continent=3, user_location_country=66, user_location_region=448, user_location_city=46588, orig_destination_distance=2421.8232, user_id=350179, is_mobile=0, is_package=0, channel=0, srch_adults_cnt=2, srch_children_cnt=0, srch_rm_cnt=1.0),\n",
       " Row(hotel_cluster=55.0, date_time=datetime.datetime(2013, 1, 14, 19, 21, 8), site_name=2, posa_continent=3, user_location_country=66, user_location_region=448, user_location_city=46588, orig_destination_distance=2421.5543, user_id=350179, is_mobile=0, is_package=0, channel=0, srch_adults_cnt=2, srch_children_cnt=0, srch_rm_cnt=1.0),\n",
       " Row(hotel_cluster=97.0, date_time=datetime.datetime(2013, 1, 23, 18, 9, 6), site_name=11, posa_continent=3, user_location_country=205, user_location_region=135, user_location_city=36086, orig_destination_distance=2334.781, user_id=351621, is_mobile=0, is_package=1, channel=9, srch_adults_cnt=2, srch_children_cnt=0, srch_rm_cnt=1.0),\n",
       " Row(hotel_cluster=26.0, date_time=datetime.datetime(2013, 1, 17, 0, 26, 4), site_name=2, posa_continent=3, user_location_country=66, user_location_region=321, user_location_city=47535, orig_destination_distance=3925.156, user_id=360669, is_mobile=0, is_package=1, channel=0, srch_adults_cnt=2, srch_children_cnt=0, srch_rm_cnt=1.0),\n",
       " Row(hotel_cluster=58.0, date_time=datetime.datetime(2013, 1, 27, 19, 36, 2), site_name=11, posa_continent=3, user_location_country=205, user_location_region=135, user_location_city=36086, orig_destination_distance=2334.4695, user_id=351621, is_mobile=0, is_package=1, channel=9, srch_adults_cnt=2, srch_children_cnt=0, srch_rm_cnt=1.0),\n",
       " Row(hotel_cluster=59.0, date_time=datetime.datetime(2013, 1, 28, 16, 43, 59), site_name=11, posa_continent=3, user_location_country=205, user_location_region=135, user_location_city=36086, orig_destination_distance=2334.7964, user_id=351621, is_mobile=0, is_package=1, channel=9, srch_adults_cnt=2, srch_children_cnt=0, srch_rm_cnt=1.0),\n",
       " Row(hotel_cluster=46.0, date_time=datetime.datetime(2013, 1, 22, 8, 25, 42), site_name=2, posa_continent=3, user_location_country=66, user_location_region=220, user_location_city=54870, orig_destination_distance=8129.4687, user_id=554190, is_mobile=0, is_package=0, channel=9, srch_adults_cnt=2, srch_children_cnt=0, srch_rm_cnt=1.0),\n",
       " Row(hotel_cluster=58.0, date_time=datetime.datetime(2013, 1, 22, 8, 26, 23), site_name=2, posa_continent=3, user_location_country=66, user_location_region=220, user_location_city=54870, orig_destination_distance=8129.7977, user_id=554190, is_mobile=0, is_package=0, channel=9, srch_adults_cnt=1, srch_children_cnt=0, srch_rm_cnt=1.0),\n",
       " Row(hotel_cluster=97.0, date_time=datetime.datetime(2013, 1, 22, 8, 34, 39), site_name=2, posa_continent=3, user_location_country=66, user_location_region=220, user_location_city=54870, orig_destination_distance=8129.9392, user_id=554190, is_mobile=0, is_package=0, channel=9, srch_adults_cnt=1, srch_children_cnt=0, srch_rm_cnt=1.0),\n",
       " Row(hotel_cluster=97.0, date_time=datetime.datetime(2013, 1, 22, 8, 44, 56), site_name=2, posa_continent=3, user_location_country=66, user_location_region=220, user_location_city=54870, orig_destination_distance=8129.5563, user_id=554190, is_mobile=0, is_package=0, channel=9, srch_adults_cnt=1, srch_children_cnt=0, srch_rm_cnt=1.0),\n",
       " Row(hotel_cluster=64.0, date_time=datetime.datetime(2013, 1, 22, 8, 45, 8), site_name=2, posa_continent=3, user_location_country=66, user_location_region=220, user_location_city=54870, orig_destination_distance=8129.1736, user_id=554190, is_mobile=0, is_package=0, channel=9, srch_adults_cnt=1, srch_children_cnt=0, srch_rm_cnt=1.0),\n",
       " Row(hotel_cluster=38.0, date_time=datetime.datetime(2013, 1, 22, 8, 46, 41), site_name=2, posa_continent=3, user_location_country=66, user_location_region=220, user_location_city=54870, orig_destination_distance=8131.0325, user_id=554190, is_mobile=0, is_package=0, channel=9, srch_adults_cnt=1, srch_children_cnt=0, srch_rm_cnt=1.0),\n",
       " Row(hotel_cluster=64.0, date_time=datetime.datetime(2013, 1, 22, 8, 48, 57), site_name=2, posa_continent=3, user_location_country=66, user_location_region=220, user_location_city=54870, orig_destination_distance=8129.4688, user_id=554190, is_mobile=0, is_package=0, channel=9, srch_adults_cnt=1, srch_children_cnt=0, srch_rm_cnt=1.0),\n",
       " Row(hotel_cluster=64.0, date_time=datetime.datetime(2013, 1, 21, 5, 45, 16), site_name=2, posa_continent=3, user_location_country=66, user_location_region=189, user_location_city=5113, orig_destination_distance=1139.4627, user_id=103440, is_mobile=0, is_package=0, channel=9, srch_adults_cnt=2, srch_children_cnt=0, srch_rm_cnt=1.0),\n",
       " Row(hotel_cluster=64.0, date_time=datetime.datetime(2013, 1, 21, 5, 47, 12), site_name=2, posa_continent=3, user_location_country=66, user_location_region=189, user_location_city=5113, orig_destination_distance=1139.4627, user_id=103440, is_mobile=0, is_package=0, channel=9, srch_adults_cnt=2, srch_children_cnt=0, srch_rm_cnt=1.0),\n",
       " Row(hotel_cluster=38.0, date_time=datetime.datetime(2013, 1, 22, 8, 23, 38), site_name=2, posa_continent=3, user_location_country=66, user_location_region=220, user_location_city=54870, orig_destination_distance=8131.5472, user_id=554190, is_mobile=0, is_package=0, channel=9, srch_adults_cnt=1, srch_children_cnt=0, srch_rm_cnt=1.0),\n",
       " Row(hotel_cluster=59.0, date_time=datetime.datetime(2013, 1, 31, 13, 5, 19), site_name=11, posa_continent=3, user_location_country=205, user_location_region=354, user_location_city=2875, orig_destination_distance=4462.1129, user_id=353979, is_mobile=0, is_package=0, channel=1, srch_adults_cnt=3, srch_children_cnt=0, srch_rm_cnt=1.0),\n",
       " Row(hotel_cluster=61.0, date_time=datetime.datetime(2013, 1, 31, 12, 55, 2), site_name=11, posa_continent=3, user_location_country=205, user_location_region=354, user_location_city=2875, orig_destination_distance=4460.3786, user_id=353979, is_mobile=0, is_package=0, channel=1, srch_adults_cnt=3, srch_children_cnt=0, srch_rm_cnt=1.0),\n",
       " Row(hotel_cluster=8.0, date_time=datetime.datetime(2013, 1, 31, 12, 48, 54), site_name=11, posa_continent=3, user_location_country=205, user_location_region=354, user_location_city=2875, orig_destination_distance=4459.2733, user_id=353979, is_mobile=0, is_package=0, channel=1, srch_adults_cnt=3, srch_children_cnt=0, srch_rm_cnt=1.0),\n",
       " Row(hotel_cluster=5.0, date_time=datetime.datetime(2013, 1, 21, 10, 49, 15), site_name=2, posa_continent=3, user_location_country=66, user_location_region=348, user_location_city=30958, orig_destination_distance=1079.8186, user_id=717111, is_mobile=1, is_package=0, channel=2, srch_adults_cnt=2, srch_children_cnt=1, srch_rm_cnt=1.0),\n",
       " Row(hotel_cluster=5.0, date_time=datetime.datetime(2013, 1, 21, 10, 50, 22), site_name=2, posa_continent=3, user_location_country=66, user_location_region=348, user_location_city=30958, orig_destination_distance=1079.8186, user_id=717111, is_mobile=1, is_package=0, channel=2, srch_adults_cnt=1, srch_children_cnt=1, srch_rm_cnt=1.0),\n",
       " Row(hotel_cluster=68.0, date_time=datetime.datetime(2013, 1, 22, 13, 22, 24), site_name=2, posa_continent=3, user_location_country=66, user_location_region=348, user_location_city=30958, orig_destination_distance=1085.9502, user_id=717111, is_mobile=1, is_package=1, channel=9, srch_adults_cnt=2, srch_children_cnt=0, srch_rm_cnt=1.0),\n",
       " Row(hotel_cluster=41.0, date_time=datetime.datetime(2013, 1, 22, 17, 20, 6), site_name=2, posa_continent=3, user_location_country=66, user_location_region=348, user_location_city=30958, orig_destination_distance=1085.0124, user_id=717111, is_mobile=1, is_package=1, channel=2, srch_adults_cnt=2, srch_children_cnt=0, srch_rm_cnt=1.0),\n",
       " Row(hotel_cluster=83.0, date_time=datetime.datetime(2013, 1, 22, 17, 28, 31), site_name=2, posa_continent=3, user_location_country=66, user_location_region=348, user_location_city=30958, orig_destination_distance=1083.7863, user_id=717111, is_mobile=1, is_package=1, channel=2, srch_adults_cnt=1, srch_children_cnt=1, srch_rm_cnt=1.0),\n",
       " Row(hotel_cluster=0.0, date_time=datetime.datetime(2013, 1, 23, 14, 12, 11), site_name=2, posa_continent=3, user_location_country=66, user_location_region=348, user_location_city=30958, orig_destination_distance=1089.713, user_id=717111, is_mobile=1, is_package=1, channel=9, srch_adults_cnt=1, srch_children_cnt=1, srch_rm_cnt=1.0),\n",
       " Row(hotel_cluster=64.0, date_time=datetime.datetime(2013, 1, 23, 14, 15, 1), site_name=2, posa_continent=3, user_location_country=66, user_location_region=348, user_location_city=30958, orig_destination_distance=1087.5087, user_id=717111, is_mobile=1, is_package=0, channel=9, srch_adults_cnt=2, srch_children_cnt=1, srch_rm_cnt=1.0),\n",
       " Row(hotel_cluster=99.0, date_time=datetime.datetime(2013, 1, 31, 13, 1, 52), site_name=11, posa_continent=3, user_location_country=205, user_location_region=354, user_location_city=2875, orig_destination_distance=4460.6982, user_id=353979, is_mobile=0, is_package=0, channel=1, srch_adults_cnt=3, srch_children_cnt=0, srch_rm_cnt=1.0),\n",
       " Row(hotel_cluster=34.0, date_time=datetime.datetime(2013, 1, 18, 15, 26), site_name=2, posa_continent=3, user_location_country=66, user_location_region=337, user_location_city=29962, orig_destination_distance=1103.6751, user_id=847778, is_mobile=0, is_package=0, channel=0, srch_adults_cnt=2, srch_children_cnt=0, srch_rm_cnt=1.0),\n",
       " Row(hotel_cluster=54.0, date_time=datetime.datetime(2013, 1, 17, 19, 11, 17), site_name=2, posa_continent=3, user_location_country=66, user_location_region=174, user_location_city=36046, orig_destination_distance=176.3179, user_id=553143, is_mobile=0, is_package=0, channel=9, srch_adults_cnt=2, srch_children_cnt=0, srch_rm_cnt=1.0),\n",
       " Row(hotel_cluster=25.0, date_time=datetime.datetime(2013, 1, 26, 17, 45, 49), site_name=8, posa_continent=4, user_location_country=77, user_location_region=462, user_location_city=3492, orig_destination_distance=11622.6783, user_id=622364, is_mobile=0, is_package=0, channel=0, srch_adults_cnt=1, srch_children_cnt=1, srch_rm_cnt=1.0),\n",
       " Row(hotel_cluster=86.0, date_time=datetime.datetime(2013, 1, 12, 12, 51, 19), site_name=2, posa_continent=3, user_location_country=66, user_location_region=363, user_location_city=50617, orig_destination_distance=1493.037, user_id=359008, is_mobile=0, is_package=0, channel=9, srch_adults_cnt=2, srch_children_cnt=0, srch_rm_cnt=1.0),\n",
       " Row(hotel_cluster=95.0, date_time=datetime.datetime(2013, 1, 12, 12, 46, 31), site_name=2, posa_continent=3, user_location_country=66, user_location_region=363, user_location_city=50617, orig_destination_distance=2344.0867, user_id=359008, is_mobile=0, is_package=1, channel=9, srch_adults_cnt=2, srch_children_cnt=0, srch_rm_cnt=1.0),\n",
       " Row(hotel_cluster=91.0, date_time=datetime.datetime(2013, 1, 11, 10, 26, 32), site_name=2, posa_continent=3, user_location_country=66, user_location_region=363, user_location_city=54257, orig_destination_distance=None, user_id=359008, is_mobile=0, is_package=0, channel=9, srch_adults_cnt=2, srch_children_cnt=0, srch_rm_cnt=1.0),\n",
       " Row(hotel_cluster=54.0, date_time=datetime.datetime(2013, 1, 15, 12, 13, 43), site_name=2, posa_continent=3, user_location_country=66, user_location_region=447, user_location_city=902, orig_destination_distance=298.6745, user_id=358886, is_mobile=0, is_package=0, channel=1, srch_adults_cnt=1, srch_children_cnt=1, srch_rm_cnt=1.0),\n",
       " Row(hotel_cluster=54.0, date_time=datetime.datetime(2013, 1, 15, 12, 6, 20), site_name=2, posa_continent=3, user_location_country=66, user_location_region=447, user_location_city=902, orig_destination_distance=298.6745, user_id=358886, is_mobile=0, is_package=0, channel=1, srch_adults_cnt=1, srch_children_cnt=1, srch_rm_cnt=1.0),\n",
       " Row(hotel_cluster=94.0, date_time=datetime.datetime(2013, 1, 15, 12, 5, 35), site_name=2, posa_continent=3, user_location_country=66, user_location_region=447, user_location_city=902, orig_destination_distance=297.1908, user_id=358886, is_mobile=0, is_package=0, channel=1, srch_adults_cnt=1, srch_children_cnt=1, srch_rm_cnt=1.0),\n",
       " Row(hotel_cluster=94.0, date_time=datetime.datetime(2013, 1, 17, 19, 10, 3), site_name=2, posa_continent=3, user_location_country=66, user_location_region=174, user_location_city=36046, orig_destination_distance=176.3009, user_id=553143, is_mobile=0, is_package=0, channel=9, srch_adults_cnt=2, srch_children_cnt=0, srch_rm_cnt=1.0),\n",
       " Row(hotel_cluster=32.0, date_time=datetime.datetime(2013, 1, 14, 22, 31, 46), site_name=2, posa_continent=3, user_location_country=66, user_location_region=447, user_location_city=902, orig_destination_distance=297.1064, user_id=358886, is_mobile=1, is_package=0, channel=9, srch_adults_cnt=2, srch_children_cnt=1, srch_rm_cnt=1.0),\n",
       " Row(hotel_cluster=42.0, date_time=datetime.datetime(2013, 1, 26, 19, 18, 56), site_name=37, posa_continent=1, user_location_country=69, user_location_region=612, user_location_city=8937, orig_destination_distance=None, user_id=356654, is_mobile=0, is_package=1, channel=9, srch_adults_cnt=2, srch_children_cnt=0, srch_rm_cnt=1.0),\n",
       " Row(hotel_cluster=71.0, date_time=datetime.datetime(2013, 1, 15, 18, 53, 45), site_name=37, posa_continent=1, user_location_country=69, user_location_region=612, user_location_city=8937, orig_destination_distance=None, user_id=356654, is_mobile=0, is_package=0, channel=9, srch_adults_cnt=2, srch_children_cnt=1, srch_rm_cnt=1.0),\n",
       " Row(hotel_cluster=37.0, date_time=datetime.datetime(2013, 1, 15, 18, 52, 57), site_name=37, posa_continent=1, user_location_country=69, user_location_region=612, user_location_city=8937, orig_destination_distance=None, user_id=356654, is_mobile=0, is_package=1, channel=9, srch_adults_cnt=2, srch_children_cnt=1, srch_rm_cnt=1.0),\n",
       " Row(hotel_cluster=37.0, date_time=datetime.datetime(2013, 1, 15, 18, 52, 53), site_name=37, posa_continent=1, user_location_country=69, user_location_region=612, user_location_city=8937, orig_destination_distance=None, user_id=356654, is_mobile=0, is_package=1, channel=9, srch_adults_cnt=2, srch_children_cnt=1, srch_rm_cnt=1.0),\n",
       " Row(hotel_cluster=37.0, date_time=datetime.datetime(2013, 1, 12, 10, 17, 17), site_name=37, posa_continent=1, user_location_country=69, user_location_region=612, user_location_city=8937, orig_destination_distance=None, user_id=356654, is_mobile=0, is_package=1, channel=9, srch_adults_cnt=2, srch_children_cnt=1, srch_rm_cnt=1.0),\n",
       " Row(hotel_cluster=37.0, date_time=datetime.datetime(2013, 1, 12, 10, 17, 15), site_name=37, posa_continent=1, user_location_country=69, user_location_region=612, user_location_city=8937, orig_destination_distance=None, user_id=356654, is_mobile=0, is_package=0, channel=9, srch_adults_cnt=2, srch_children_cnt=1, srch_rm_cnt=1.0),\n",
       " Row(hotel_cluster=51.0, date_time=datetime.datetime(2013, 1, 10, 13, 30, 6), site_name=2, posa_continent=3, user_location_country=66, user_location_region=174, user_location_city=37838, orig_destination_distance=722.034, user_id=847852, is_mobile=0, is_package=0, channel=9, srch_adults_cnt=1, srch_children_cnt=0, srch_rm_cnt=1.0),\n",
       " Row(hotel_cluster=51.0, date_time=datetime.datetime(2013, 1, 10, 13, 27, 51), site_name=2, posa_continent=3, user_location_country=66, user_location_region=174, user_location_city=37838, orig_destination_distance=722.034, user_id=847852, is_mobile=0, is_package=0, channel=9, srch_adults_cnt=1, srch_children_cnt=0, srch_rm_cnt=1.0),\n",
       " Row(hotel_cluster=78.0, date_time=datetime.datetime(2013, 1, 26, 18, 7, 59), site_name=8, posa_continent=4, user_location_country=77, user_location_region=462, user_location_city=3492, orig_destination_distance=1610.2252, user_id=622364, is_mobile=0, is_package=1, channel=0, srch_adults_cnt=2, srch_children_cnt=0, srch_rm_cnt=1.0),\n",
       " Row(hotel_cluster=54.0, date_time=datetime.datetime(2013, 1, 14, 22, 20, 58), site_name=2, posa_continent=3, user_location_country=66, user_location_region=447, user_location_city=902, orig_destination_distance=298.6745, user_id=358886, is_mobile=1, is_package=0, channel=9, srch_adults_cnt=1, srch_children_cnt=1, srch_rm_cnt=1.0),\n",
       " Row(hotel_cluster=8.0, date_time=datetime.datetime(2013, 1, 18, 9, 27, 44), site_name=2, posa_continent=3, user_location_country=66, user_location_region=337, user_location_city=29962, orig_destination_distance=1104.7343, user_id=847778, is_mobile=0, is_package=0, channel=0, srch_adults_cnt=2, srch_children_cnt=0, srch_rm_cnt=1.0),\n",
       " Row(hotel_cluster=34.0, date_time=datetime.datetime(2013, 1, 18, 9, 7, 39), site_name=2, posa_continent=3, user_location_country=66, user_location_region=337, user_location_city=29962, orig_destination_distance=1103.6751, user_id=847778, is_mobile=0, is_package=0, channel=0, srch_adults_cnt=2, srch_children_cnt=0, srch_rm_cnt=1.0),\n",
       " Row(hotel_cluster=5.0, date_time=datetime.datetime(2013, 1, 24, 13, 15, 47), site_name=2, posa_continent=3, user_location_country=66, user_location_region=348, user_location_city=30958, orig_destination_distance=1079.8186, user_id=717111, is_mobile=1, is_package=1, channel=2, srch_adults_cnt=1, srch_children_cnt=1, srch_rm_cnt=1.0),\n",
       " Row(hotel_cluster=50.0, date_time=datetime.datetime(2013, 1, 17, 11, 55, 43), site_name=2, posa_continent=3, user_location_country=66, user_location_region=220, user_location_city=43026, orig_destination_distance=2053.5917, user_id=353573, is_mobile=0, is_package=0, channel=0, srch_adults_cnt=2, srch_children_cnt=0, srch_rm_cnt=1.0),\n",
       " Row(hotel_cluster=49.0, date_time=datetime.datetime(2013, 1, 15, 12, 38, 27), site_name=2, posa_continent=3, user_location_country=66, user_location_region=220, user_location_city=43026, orig_destination_distance=2053.5813, user_id=353573, is_mobile=0, is_package=0, channel=9, srch_adults_cnt=2, srch_children_cnt=0, srch_rm_cnt=1.0),\n",
       " Row(hotel_cluster=39.0, date_time=datetime.datetime(2013, 1, 15, 12, 37, 42), site_name=2, posa_continent=3, user_location_country=66, user_location_region=220, user_location_city=43026, orig_destination_distance=2052.9474, user_id=353573, is_mobile=0, is_package=0, channel=9, srch_adults_cnt=2, srch_children_cnt=0, srch_rm_cnt=1.0),\n",
       " Row(hotel_cluster=50.0, date_time=datetime.datetime(2013, 1, 15, 12, 32, 56), site_name=2, posa_continent=3, user_location_country=66, user_location_region=220, user_location_city=43026, orig_destination_distance=2053.5917, user_id=353573, is_mobile=0, is_package=0, channel=9, srch_adults_cnt=2, srch_children_cnt=0, srch_rm_cnt=1.0),\n",
       " Row(hotel_cluster=82.0, date_time=datetime.datetime(2013, 1, 9, 12, 26, 39), site_name=2, posa_continent=3, user_location_country=66, user_location_region=220, user_location_city=43026, orig_destination_distance=4233.8936, user_id=353573, is_mobile=0, is_package=0, channel=9, srch_adults_cnt=2, srch_children_cnt=0, srch_rm_cnt=1.0),\n",
       " Row(hotel_cluster=30.0, date_time=datetime.datetime(2013, 1, 9, 12, 23, 28), site_name=2, posa_continent=3, user_location_country=66, user_location_region=220, user_location_city=43026, orig_destination_distance=4232.4139, user_id=353573, is_mobile=0, is_package=0, channel=9, srch_adults_cnt=2, srch_children_cnt=0, srch_rm_cnt=1.0),\n",
       " Row(hotel_cluster=68.0, date_time=datetime.datetime(2013, 1, 9, 14, 24, 37), site_name=2, posa_continent=3, user_location_country=148, user_location_region=311, user_location_city=31798, orig_destination_distance=None, user_id=28470, is_mobile=0, is_package=0, channel=9, srch_adults_cnt=1, srch_children_cnt=1, srch_rm_cnt=1.0),\n",
       " Row(hotel_cluster=72.0, date_time=datetime.datetime(2013, 1, 17, 12, 3, 31), site_name=2, posa_continent=3, user_location_country=66, user_location_region=220, user_location_city=43026, orig_destination_distance=2053.5867, user_id=353573, is_mobile=0, is_package=0, channel=0, srch_adults_cnt=2, srch_children_cnt=0, srch_rm_cnt=1.0),\n",
       " Row(hotel_cluster=18.0, date_time=datetime.datetime(2013, 1, 7, 14, 42, 3), site_name=2, posa_continent=3, user_location_country=148, user_location_region=311, user_location_city=31798, orig_destination_distance=None, user_id=28470, is_mobile=0, is_package=0, channel=9, srch_adults_cnt=1, srch_children_cnt=1, srch_rm_cnt=1.0),\n",
       " Row(hotel_cluster=74.0, date_time=datetime.datetime(2013, 1, 7, 10, 17, 8), site_name=2, posa_continent=3, user_location_country=148, user_location_region=311, user_location_city=31798, orig_destination_distance=None, user_id=28470, is_mobile=0, is_package=0, channel=9, srch_adults_cnt=2, srch_children_cnt=0, srch_rm_cnt=1.0),\n",
       " Row(hotel_cluster=76.0, date_time=datetime.datetime(2013, 1, 15, 20, 19, 36), site_name=2, posa_continent=3, user_location_country=66, user_location_region=447, user_location_city=2966, orig_destination_distance=296.8999, user_id=352959, is_mobile=0, is_package=0, channel=9, srch_adults_cnt=1, srch_children_cnt=0, srch_rm_cnt=5.0),\n",
       " Row(hotel_cluster=0.0, date_time=datetime.datetime(2013, 1, 24, 21, 51, 25), site_name=2, posa_continent=3, user_location_country=66, user_location_region=184, user_location_city=25810, orig_destination_distance=68.4996, user_id=28447, is_mobile=0, is_package=0, channel=0, srch_adults_cnt=2, srch_children_cnt=2, srch_rm_cnt=1.0),\n",
       " Row(hotel_cluster=99.0, date_time=datetime.datetime(2013, 1, 24, 21, 46, 23), site_name=2, posa_continent=3, user_location_country=66, user_location_region=184, user_location_city=25810, orig_destination_distance=67.5075, user_id=28447, is_mobile=0, is_package=0, channel=0, srch_adults_cnt=2, srch_children_cnt=2, srch_rm_cnt=1.0),\n",
       " Row(hotel_cluster=73.0, date_time=datetime.datetime(2013, 1, 24, 21, 32, 28), site_name=2, posa_continent=3, user_location_country=66, user_location_region=184, user_location_city=25810, orig_destination_distance=64.2347, user_id=28447, is_mobile=0, is_package=0, channel=0, srch_adults_cnt=2, srch_children_cnt=2, srch_rm_cnt=1.0),\n",
       " Row(hotel_cluster=25.0, date_time=datetime.datetime(2013, 1, 24, 21, 31, 15), site_name=2, posa_continent=3, user_location_country=66, user_location_region=184, user_location_city=25810, orig_destination_distance=64.2347, user_id=28447, is_mobile=0, is_package=0, channel=0, srch_adults_cnt=2, srch_children_cnt=2, srch_rm_cnt=1.0),\n",
       " Row(hotel_cluster=76.0, date_time=datetime.datetime(2013, 1, 15, 20, 16, 35), site_name=2, posa_continent=3, user_location_country=66, user_location_region=447, user_location_city=2966, orig_destination_distance=296.8999, user_id=352959, is_mobile=0, is_package=0, channel=9, srch_adults_cnt=1, srch_children_cnt=0, srch_rm_cnt=5.0),\n",
       " Row(hotel_cluster=76.0, date_time=datetime.datetime(2013, 1, 15, 20, 11, 9), site_name=2, posa_continent=3, user_location_country=66, user_location_region=447, user_location_city=2966, orig_destination_distance=296.8999, user_id=352959, is_mobile=0, is_package=0, channel=9, srch_adults_cnt=2, srch_children_cnt=0, srch_rm_cnt=5.0),\n",
       " Row(hotel_cluster=11.0, date_time=datetime.datetime(2013, 1, 9, 13, 21, 5), site_name=2, posa_continent=3, user_location_country=66, user_location_region=447, user_location_city=902, orig_destination_distance=5069.9627, user_id=352959, is_mobile=0, is_package=0, channel=2, srch_adults_cnt=2, srch_children_cnt=0, srch_rm_cnt=1.0),\n",
       " Row(hotel_cluster=68.0, date_time=datetime.datetime(2013, 1, 7, 14, 40, 9), site_name=2, posa_continent=3, user_location_country=148, user_location_region=311, user_location_city=31798, orig_destination_distance=None, user_id=28470, is_mobile=0, is_package=0, channel=9, srch_adults_cnt=1, srch_children_cnt=1, srch_rm_cnt=1.0),\n",
       " Row(hotel_cluster=17.0, date_time=datetime.datetime(2013, 1, 17, 18, 28, 57), site_name=34, posa_continent=3, user_location_country=205, user_location_region=385, user_location_city=47462, orig_destination_distance=1947.6105, user_id=103532, is_mobile=1, is_package=0, channel=9, srch_adults_cnt=2, srch_children_cnt=0, srch_rm_cnt=1.0),\n",
       " Row(hotel_cluster=17.0, date_time=datetime.datetime(2013, 1, 17, 18, 17, 24), site_name=34, posa_continent=3, user_location_country=205, user_location_region=385, user_location_city=47462, orig_destination_distance=1947.6105, user_id=103532, is_mobile=1, is_package=0, channel=9, srch_adults_cnt=2, srch_children_cnt=0, srch_rm_cnt=1.0),\n",
       " Row(hotel_cluster=28.0, date_time=datetime.datetime(2013, 1, 13, 13, 5, 53), site_name=11, posa_continent=3, user_location_country=205, user_location_region=354, user_location_city=43201, orig_destination_distance=1199.1638, user_id=28560, is_mobile=0, is_package=1, channel=5, srch_adults_cnt=2, srch_children_cnt=1, srch_rm_cnt=1.0),\n",
       " Row(hotel_cluster=17.0, date_time=datetime.datetime(2013, 1, 7, 16, 53, 10), site_name=34, posa_continent=3, user_location_country=205, user_location_region=385, user_location_city=47462, orig_destination_distance=1947.6105, user_id=103532, is_mobile=1, is_package=0, channel=5, srch_adults_cnt=2, srch_children_cnt=0, srch_rm_cnt=1.0),\n",
       " Row(hotel_cluster=17.0, date_time=datetime.datetime(2013, 1, 11, 10, 36, 48), site_name=34, posa_continent=3, user_location_country=205, user_location_region=385, user_location_city=28521, orig_destination_distance=None, user_id=103532, is_mobile=0, is_package=0, channel=5, srch_adults_cnt=2, srch_children_cnt=0, srch_rm_cnt=1.0),\n",
       " Row(hotel_cluster=17.0, date_time=datetime.datetime(2013, 1, 11, 11, 1, 45), site_name=34, posa_continent=3, user_location_country=205, user_location_region=385, user_location_city=28521, orig_destination_distance=None, user_id=103532, is_mobile=0, is_package=0, channel=5, srch_adults_cnt=2, srch_children_cnt=0, srch_rm_cnt=1.0),\n",
       " Row(hotel_cluster=40.0, date_time=datetime.datetime(2013, 1, 11, 11, 12, 22), site_name=34, posa_continent=3, user_location_country=205, user_location_region=385, user_location_city=28521, orig_destination_distance=None, user_id=103532, is_mobile=0, is_package=0, channel=5, srch_adults_cnt=2, srch_children_cnt=0, srch_rm_cnt=1.0),\n",
       " Row(hotel_cluster=21.0, date_time=datetime.datetime(2013, 1, 11, 17, 46, 35), site_name=34, posa_continent=3, user_location_country=205, user_location_region=385, user_location_city=47462, orig_destination_distance=1946.3138, user_id=103532, is_mobile=1, is_package=0, channel=9, srch_adults_cnt=2, srch_children_cnt=0, srch_rm_cnt=1.0),\n",
       " Row(hotel_cluster=37.0, date_time=datetime.datetime(2013, 1, 11, 17, 50, 38), site_name=34, posa_continent=3, user_location_country=205, user_location_region=385, user_location_city=47462, orig_destination_distance=1949.3411, user_id=103532, is_mobile=1, is_package=0, channel=9, srch_adults_cnt=2, srch_children_cnt=0, srch_rm_cnt=1.0),\n",
       " Row(hotel_cluster=70.0, date_time=datetime.datetime(2013, 1, 11, 17, 58, 10), site_name=34, posa_continent=3, user_location_country=205, user_location_region=385, user_location_city=47462, orig_destination_distance=1949.1266, user_id=103532, is_mobile=1, is_package=0, channel=9, srch_adults_cnt=2, srch_children_cnt=0, srch_rm_cnt=1.0),\n",
       " Row(hotel_cluster=72.0, date_time=datetime.datetime(2013, 1, 12, 12, 7, 21), site_name=34, posa_continent=3, user_location_country=205, user_location_region=385, user_location_city=47462, orig_destination_distance=1947.3675, user_id=103532, is_mobile=1, is_package=0, channel=9, srch_adults_cnt=2, srch_children_cnt=0, srch_rm_cnt=1.0),\n",
       " Row(hotel_cluster=17.0, date_time=datetime.datetime(2013, 1, 12, 12, 12, 57), site_name=34, posa_continent=3, user_location_country=205, user_location_region=385, user_location_city=47462, orig_destination_distance=1947.6105, user_id=103532, is_mobile=1, is_package=0, channel=9, srch_adults_cnt=2, srch_children_cnt=0, srch_rm_cnt=1.0),\n",
       " Row(hotel_cluster=17.0, date_time=datetime.datetime(2013, 1, 17, 9, 38, 57), site_name=34, posa_continent=3, user_location_country=205, user_location_region=385, user_location_city=28521, orig_destination_distance=None, user_id=103532, is_mobile=0, is_package=0, channel=9, srch_adults_cnt=2, srch_children_cnt=0, srch_rm_cnt=1.0),\n",
       " Row(hotel_cluster=72.0, date_time=datetime.datetime(2013, 1, 17, 9, 45, 44), site_name=34, posa_continent=3, user_location_country=205, user_location_region=385, user_location_city=28521, orig_destination_distance=None, user_id=103532, is_mobile=0, is_package=0, channel=9, srch_adults_cnt=2, srch_children_cnt=0, srch_rm_cnt=1.0),\n",
       " Row(hotel_cluster=17.0, date_time=datetime.datetime(2013, 1, 17, 9, 51, 51), site_name=34, posa_continent=3, user_location_country=205, user_location_region=385, user_location_city=28521, orig_destination_distance=None, user_id=103532, is_mobile=0, is_package=0, channel=9, srch_adults_cnt=2, srch_children_cnt=0, srch_rm_cnt=1.0),\n",
       " Row(hotel_cluster=21.0, date_time=datetime.datetime(2013, 1, 17, 10, 28, 48), site_name=34, posa_continent=3, user_location_country=205, user_location_region=385, user_location_city=28521, orig_destination_distance=None, user_id=103532, is_mobile=0, is_package=0, channel=9, srch_adults_cnt=2, srch_children_cnt=1, srch_rm_cnt=1.0),\n",
       " Row(hotel_cluster=17.0, date_time=datetime.datetime(2013, 1, 17, 17, 45, 43), site_name=34, posa_continent=3, user_location_country=205, user_location_region=385, user_location_city=47462, orig_destination_distance=1947.2368, user_id=103532, is_mobile=1, is_package=0, channel=9, srch_adults_cnt=2, srch_children_cnt=0, srch_rm_cnt=1.0),\n",
       " Row(hotel_cluster=48.0, date_time=datetime.datetime(2013, 1, 17, 17, 49, 20), site_name=34, posa_continent=3, user_location_country=205, user_location_region=385, user_location_city=47462, orig_destination_distance=1947.486, user_id=103532, is_mobile=1, is_package=0, channel=9, srch_adults_cnt=2, srch_children_cnt=0, srch_rm_cnt=1.0),\n",
       " Row(hotel_cluster=89.0, date_time=datetime.datetime(2013, 1, 17, 17, 55, 6), site_name=34, posa_continent=3, user_location_country=205, user_location_region=385, user_location_city=47462, orig_destination_distance=1946.7598, user_id=103532, is_mobile=1, is_package=0, channel=9, srch_adults_cnt=2, srch_children_cnt=0, srch_rm_cnt=1.0),\n",
       " Row(hotel_cluster=90.0, date_time=datetime.datetime(2013, 1, 17, 17, 55, 24), site_name=34, posa_continent=3, user_location_country=205, user_location_region=385, user_location_city=47462, orig_destination_distance=1946.0851, user_id=103532, is_mobile=1, is_package=0, channel=9, srch_adults_cnt=2, srch_children_cnt=0, srch_rm_cnt=1.0),\n",
       " Row(hotel_cluster=89.0, date_time=datetime.datetime(2013, 1, 17, 17, 55, 55), site_name=34, posa_continent=3, user_location_country=205, user_location_region=385, user_location_city=47462, orig_destination_distance=1946.0676, user_id=103532, is_mobile=1, is_package=0, channel=9, srch_adults_cnt=2, srch_children_cnt=0, srch_rm_cnt=1.0),\n",
       " Row(hotel_cluster=83.0, date_time=datetime.datetime(2013, 1, 17, 18, 4, 26), site_name=34, posa_continent=3, user_location_country=205, user_location_region=385, user_location_city=47462, orig_destination_distance=1947.8897, user_id=103532, is_mobile=1, is_package=0, channel=9, srch_adults_cnt=2, srch_children_cnt=0, srch_rm_cnt=1.0),\n",
       " Row(hotel_cluster=72.0, date_time=datetime.datetime(2013, 1, 17, 18, 13, 12), site_name=34, posa_continent=3, user_location_country=205, user_location_region=385, user_location_city=47462, orig_destination_distance=1947.3675, user_id=103532, is_mobile=1, is_package=0, channel=9, srch_adults_cnt=2, srch_children_cnt=0, srch_rm_cnt=1.0),\n",
       " Row(hotel_cluster=28.0, date_time=datetime.datetime(2013, 1, 13, 13, 6, 57), site_name=11, posa_continent=3, user_location_country=205, user_location_region=354, user_location_city=43201, orig_destination_distance=1199.1638, user_id=28560, is_mobile=0, is_package=0, channel=5, srch_adults_cnt=2, srch_children_cnt=1, srch_rm_cnt=1.0),\n",
       " Row(hotel_cluster=59.0, date_time=datetime.datetime(2013, 1, 27, 19, 37, 9), site_name=11, posa_continent=3, user_location_country=205, user_location_region=135, user_location_city=36086, orig_destination_distance=2334.7964, user_id=351621, is_mobile=0, is_package=1, channel=9, srch_adults_cnt=2, srch_children_cnt=0, srch_rm_cnt=1.0),\n",
       " Row(hotel_cluster=6.0, date_time=datetime.datetime(2013, 1, 30, 12, 22, 5), site_name=37, posa_continent=1, user_location_country=69, user_location_region=923, user_location_city=23649, orig_destination_distance=None, user_id=377814, is_mobile=0, is_package=1, channel=9, srch_adults_cnt=1, srch_children_cnt=0, srch_rm_cnt=1.0),\n",
       " Row(hotel_cluster=18.0, date_time=datetime.datetime(2013, 1, 30, 12, 24, 49), site_name=37, posa_continent=1, user_location_country=69, user_location_region=923, user_location_city=23649, orig_destination_distance=None, user_id=377814, is_mobile=0, is_package=1, channel=9, srch_adults_cnt=1, srch_children_cnt=0, srch_rm_cnt=1.0),\n",
       " Row(hotel_cluster=18.0, date_time=datetime.datetime(2013, 1, 30, 13, 2, 33), site_name=37, posa_continent=1, user_location_country=69, user_location_region=923, user_location_city=23649, orig_destination_distance=None, user_id=377814, is_mobile=0, is_package=1, channel=9, srch_adults_cnt=1, srch_children_cnt=0, srch_rm_cnt=1.0),\n",
       " Row(hotel_cluster=76.0, date_time=datetime.datetime(2013, 1, 22, 18, 13, 52), site_name=2, posa_continent=3, user_location_country=66, user_location_region=348, user_location_city=40134, orig_destination_distance=1125.2463, user_id=394224, is_mobile=0, is_package=1, channel=9, srch_adults_cnt=3, srch_children_cnt=0, srch_rm_cnt=1.0),\n",
       " Row(hotel_cluster=7.0, date_time=datetime.datetime(2013, 1, 9, 18, 27, 15), site_name=2, posa_continent=3, user_location_country=66, user_location_region=311, user_location_city=47322, orig_destination_distance=338.8566, user_id=854222, is_mobile=0, is_package=0, channel=0, srch_adults_cnt=2, srch_children_cnt=0, srch_rm_cnt=1.0),\n",
       " Row(hotel_cluster=24.0, date_time=datetime.datetime(2013, 1, 8, 22, 4, 10), site_name=2, posa_continent=3, user_location_country=66, user_location_region=174, user_location_city=9444, orig_destination_distance=235.6683, user_id=685343, is_mobile=0, is_package=0, channel=9, srch_adults_cnt=2, srch_children_cnt=1, srch_rm_cnt=1.0),\n",
       " Row(hotel_cluster=91.0, date_time=datetime.datetime(2013, 1, 29, 14, 14, 3), site_name=2, posa_continent=3, user_location_country=66, user_location_region=153, user_location_city=24260, orig_destination_distance=859.3405, user_id=391462, is_mobile=0, is_package=0, channel=9, srch_adults_cnt=2, srch_children_cnt=0, srch_rm_cnt=1.0),\n",
       " Row(hotel_cluster=91.0, date_time=datetime.datetime(2013, 1, 29, 14, 12, 16), site_name=2, posa_continent=3, user_location_country=66, user_location_region=153, user_location_city=24260, orig_destination_distance=866.8703, user_id=391462, is_mobile=0, is_package=0, channel=9, srch_adults_cnt=2, srch_children_cnt=0, srch_rm_cnt=1.0),\n",
       " Row(hotel_cluster=91.0, date_time=datetime.datetime(2013, 1, 29, 14, 11, 17), site_name=2, posa_continent=3, user_location_country=66, user_location_region=153, user_location_city=24260, orig_destination_distance=868.8228, user_id=391462, is_mobile=0, is_package=0, channel=9, srch_adults_cnt=2, srch_children_cnt=0, srch_rm_cnt=1.0),\n",
       " Row(hotel_cluster=91.0, date_time=datetime.datetime(2013, 1, 29, 14, 8, 19), site_name=2, posa_continent=3, user_location_country=66, user_location_region=153, user_location_city=24260, orig_destination_distance=868.7571, user_id=391462, is_mobile=0, is_package=0, channel=9, srch_adults_cnt=2, srch_children_cnt=0, srch_rm_cnt=1.0),\n",
       " Row(hotel_cluster=13.0, date_time=datetime.datetime(2013, 1, 22, 18, 18, 18), site_name=2, posa_continent=3, user_location_country=66, user_location_region=348, user_location_city=40134, orig_destination_distance=1132.4589, user_id=394224, is_mobile=0, is_package=1, channel=9, srch_adults_cnt=3, srch_children_cnt=0, srch_rm_cnt=1.0),\n",
       " Row(hotel_cluster=42.0, date_time=datetime.datetime(2013, 1, 29, 14, 1, 58), site_name=2, posa_continent=3, user_location_country=66, user_location_region=153, user_location_city=24260, orig_destination_distance=866.3204, user_id=391462, is_mobile=0, is_package=0, channel=9, srch_adults_cnt=2, srch_children_cnt=0, srch_rm_cnt=1.0),\n",
       " Row(hotel_cluster=98.0, date_time=datetime.datetime(2013, 1, 25, 20, 51, 14), site_name=2, posa_continent=3, user_location_country=19, user_location_region=38, user_location_city=47318, orig_destination_distance=None, user_id=627060, is_mobile=0, is_package=0, channel=9, srch_adults_cnt=1, srch_children_cnt=1, srch_rm_cnt=1.0),\n",
       " Row(hotel_cluster=98.0, date_time=datetime.datetime(2013, 1, 14, 16, 38, 47), site_name=2, posa_continent=3, user_location_country=19, user_location_region=38, user_location_city=47318, orig_destination_distance=None, user_id=627060, is_mobile=0, is_package=1, channel=9, srch_adults_cnt=1, srch_children_cnt=0, srch_rm_cnt=1.0),\n",
       " Row(hotel_cluster=95.0, date_time=datetime.datetime(2013, 1, 27, 13, 15, 39), site_name=37, posa_continent=1, user_location_country=69, user_location_region=679, user_location_city=16880, orig_destination_distance=None, user_id=391007, is_mobile=0, is_package=1, channel=5, srch_adults_cnt=2, srch_children_cnt=0, srch_rm_cnt=1.0),\n",
       " Row(hotel_cluster=95.0, date_time=datetime.datetime(2013, 1, 26, 11, 8, 29), site_name=37, posa_continent=1, user_location_country=69, user_location_region=679, user_location_city=16880, orig_destination_distance=None, user_id=391007, is_mobile=0, is_package=1, channel=5, srch_adults_cnt=2, srch_children_cnt=0, srch_rm_cnt=1.0),\n",
       " Row(hotel_cluster=9.0, date_time=datetime.datetime(2013, 1, 22, 9, 14, 2), site_name=37, posa_continent=1, user_location_country=69, user_location_region=669, user_location_city=55281, orig_destination_distance=None, user_id=391007, is_mobile=0, is_package=0, channel=5, srch_adults_cnt=2, srch_children_cnt=0, srch_rm_cnt=1.0),\n",
       " Row(hotel_cluster=81.0, date_time=datetime.datetime(2013, 1, 17, 16, 55, 22), site_name=37, posa_continent=1, user_location_country=69, user_location_region=1008, user_location_city=13500, orig_destination_distance=None, user_id=391007, is_mobile=0, is_package=0, channel=5, srch_adults_cnt=2, srch_children_cnt=0, srch_rm_cnt=1.0),\n",
       " Row(hotel_cluster=43.0, date_time=datetime.datetime(2013, 1, 17, 16, 55, 5), site_name=37, posa_continent=1, user_location_country=69, user_location_region=1008, user_location_city=13500, orig_destination_distance=None, user_id=391007, is_mobile=0, is_package=0, channel=5, srch_adults_cnt=2, srch_children_cnt=0, srch_rm_cnt=1.0),\n",
       " Row(hotel_cluster=8.0, date_time=datetime.datetime(2013, 1, 24, 14, 14, 46), site_name=11, posa_continent=3, user_location_country=66, user_location_region=404, user_location_city=48127, orig_destination_distance=604.335, user_id=627000, is_mobile=0, is_package=1, channel=9, srch_adults_cnt=2, srch_children_cnt=0, srch_rm_cnt=1.0),\n",
       " Row(hotel_cluster=8.0, date_time=datetime.datetime(2013, 1, 24, 14, 14, 1), site_name=11, posa_continent=3, user_location_country=66, user_location_region=404, user_location_city=48127, orig_destination_distance=604.335, user_id=627000, is_mobile=0, is_package=1, channel=9, srch_adults_cnt=2, srch_children_cnt=0, srch_rm_cnt=1.0),\n",
       " Row(hotel_cluster=52.0, date_time=datetime.datetime(2013, 1, 10, 6, 46), site_name=2, posa_continent=3, user_location_country=66, user_location_region=442, user_location_city=76, orig_destination_distance=1535.5362, user_id=853691, is_mobile=0, is_package=0, channel=9, srch_adults_cnt=2, srch_children_cnt=0, srch_rm_cnt=1.0),\n",
       " Row(hotel_cluster=8.0, date_time=datetime.datetime(2013, 1, 24, 14, 13, 31), site_name=11, posa_continent=3, user_location_country=66, user_location_region=404, user_location_city=48127, orig_destination_distance=604.335, user_id=627000, is_mobile=0, is_package=1, channel=9, srch_adults_cnt=2, srch_children_cnt=0, srch_rm_cnt=1.0),\n",
       " Row(hotel_cluster=23.0, date_time=datetime.datetime(2013, 1, 22, 18, 25, 36), site_name=2, posa_continent=3, user_location_country=66, user_location_region=348, user_location_city=40134, orig_destination_distance=1130.9346, user_id=394224, is_mobile=0, is_package=1, channel=9, srch_adults_cnt=3, srch_children_cnt=0, srch_rm_cnt=1.0),\n",
       " Row(hotel_cluster=77.0, date_time=datetime.datetime(2013, 1, 28, 20, 49, 19), site_name=2, posa_continent=3, user_location_country=66, user_location_region=348, user_location_city=48862, orig_destination_distance=66.8173, user_id=854601, is_mobile=0, is_package=0, channel=9, srch_adults_cnt=1, srch_children_cnt=0, srch_rm_cnt=1.0),\n",
       " Row(hotel_cluster=26.0, date_time=datetime.datetime(2013, 1, 26, 19, 47, 57), site_name=2, posa_continent=3, user_location_country=66, user_location_region=184, user_location_city=18716, orig_destination_distance=8821.8844, user_id=540544, is_mobile=1, is_package=1, channel=9, srch_adults_cnt=2, srch_children_cnt=2, srch_rm_cnt=2.0),\n",
       " Row(hotel_cluster=92.0, date_time=datetime.datetime(2013, 1, 26, 19, 54, 8), site_name=2, posa_continent=3, user_location_country=66, user_location_region=184, user_location_city=18716, orig_destination_distance=8802.2426, user_id=540544, is_mobile=1, is_package=1, channel=9, srch_adults_cnt=2, srch_children_cnt=2, srch_rm_cnt=2.0),\n",
       " Row(hotel_cluster=26.0, date_time=datetime.datetime(2013, 1, 26, 20, 6, 34), site_name=2, posa_continent=3, user_location_country=66, user_location_region=184, user_location_city=18716, orig_destination_distance=8812.9598, user_id=540544, is_mobile=1, is_package=1, channel=9, srch_adults_cnt=2, srch_children_cnt=2, srch_rm_cnt=2.0),\n",
       " Row(hotel_cluster=34.0, date_time=datetime.datetime(2013, 1, 21, 8, 27, 23), site_name=2, posa_continent=3, user_location_country=66, user_location_region=226, user_location_city=16524, orig_destination_distance=508.3732, user_id=540679, is_mobile=0, is_package=0, channel=3, srch_adults_cnt=2, srch_children_cnt=0, srch_rm_cnt=1.0),\n",
       " Row(hotel_cluster=34.0, date_time=datetime.datetime(2013, 1, 26, 8, 48, 40), site_name=2, posa_continent=3, user_location_country=66, user_location_region=220, user_location_city=40803, orig_destination_distance=115.7141, user_id=540679, is_mobile=0, is_package=0, channel=9, srch_adults_cnt=2, srch_children_cnt=0, srch_rm_cnt=1.0),\n",
       " Row(hotel_cluster=51.0, date_time=datetime.datetime(2013, 1, 26, 9, 42, 6), site_name=2, posa_continent=3, user_location_country=66, user_location_region=220, user_location_city=40803, orig_destination_distance=182.0269, user_id=540679, is_mobile=0, is_package=0, channel=9, srch_adults_cnt=2, srch_children_cnt=0, srch_rm_cnt=1.0),\n",
       " Row(hotel_cluster=51.0, date_time=datetime.datetime(2013, 1, 26, 9, 45, 13), site_name=2, posa_continent=3, user_location_country=66, user_location_region=220, user_location_city=40803, orig_destination_distance=181.3595, user_id=540679, is_mobile=0, is_package=0, channel=9, srch_adults_cnt=2, srch_children_cnt=0, srch_rm_cnt=1.0),\n",
       " Row(hotel_cluster=76.0, date_time=datetime.datetime(2013, 1, 26, 14, 44, 3), site_name=2, posa_continent=3, user_location_country=66, user_location_region=220, user_location_city=40803, orig_destination_distance=182.0264, user_id=540679, is_mobile=0, is_package=0, channel=3, srch_adults_cnt=2, srch_children_cnt=0, srch_rm_cnt=1.0),\n",
       " Row(hotel_cluster=50.0, date_time=datetime.datetime(2013, 1, 27, 18, 35, 45), site_name=2, posa_continent=3, user_location_country=66, user_location_region=220, user_location_city=40803, orig_destination_distance=181.21400000000003, user_id=540679, is_mobile=0, is_package=0, channel=3, srch_adults_cnt=2, srch_children_cnt=0, srch_rm_cnt=1.0),\n",
       " Row(hotel_cluster=49.0, date_time=datetime.datetime(2013, 1, 22, 18, 42, 20), site_name=2, posa_continent=3, user_location_country=66, user_location_region=348, user_location_city=40134, orig_destination_distance=1130.8669, user_id=394224, is_mobile=0, is_package=1, channel=9, srch_adults_cnt=3, srch_children_cnt=0, srch_rm_cnt=1.0),\n",
       " Row(hotel_cluster=83.0, date_time=datetime.datetime(2013, 1, 27, 19, 1, 13), site_name=2, posa_continent=3, user_location_country=66, user_location_region=220, user_location_city=40803, orig_destination_distance=180.8802, user_id=540679, is_mobile=0, is_package=0, channel=3, srch_adults_cnt=2, srch_children_cnt=0, srch_rm_cnt=1.0),\n",
       " Row(hotel_cluster=51.0, date_time=datetime.datetime(2013, 1, 27, 19, 9, 44), site_name=2, posa_continent=3, user_location_country=66, user_location_region=220, user_location_city=40803, orig_destination_distance=181.3595, user_id=540679, is_mobile=0, is_package=0, channel=3, srch_adults_cnt=2, srch_children_cnt=0, srch_rm_cnt=1.0),\n",
       " Row(hotel_cluster=90.0, date_time=datetime.datetime(2013, 1, 27, 19, 58, 34), site_name=2, posa_continent=3, user_location_country=66, user_location_region=220, user_location_city=40803, orig_destination_distance=181.419, user_id=540679, is_mobile=0, is_package=0, channel=3, srch_adults_cnt=2, srch_children_cnt=0, srch_rm_cnt=1.0),\n",
       " Row(hotel_cluster=83.0, date_time=datetime.datetime(2013, 1, 27, 19, 59, 43), site_name=2, posa_continent=3, user_location_country=66, user_location_region=220, user_location_city=40803, orig_destination_distance=181.9101, user_id=540679, is_mobile=0, is_package=0, channel=3, srch_adults_cnt=2, srch_children_cnt=0, srch_rm_cnt=1.0),\n",
       " Row(hotel_cluster=10.0, date_time=datetime.datetime(2013, 1, 27, 20, 11, 29), site_name=2, posa_continent=3, user_location_country=66, user_location_region=220, user_location_city=40803, orig_destination_distance=181.8214, user_id=540679, is_mobile=0, is_package=0, channel=3, srch_adults_cnt=2, srch_children_cnt=0, srch_rm_cnt=1.0),\n",
       " Row(hotel_cluster=95.0, date_time=datetime.datetime(2013, 1, 7, 21, 44, 43), site_name=2, posa_continent=3, user_location_country=66, user_location_region=448, user_location_city=18390, orig_destination_distance=2215.2448, user_id=394231, is_mobile=0, is_package=0, channel=9, srch_adults_cnt=1, srch_children_cnt=0, srch_rm_cnt=1.0),\n",
       " Row(hotel_cluster=95.0, date_time=datetime.datetime(2013, 1, 7, 21, 42, 9), site_name=2, posa_continent=3, user_location_country=66, user_location_region=448, user_location_city=18390, orig_destination_distance=2215.2448, user_id=394231, is_mobile=0, is_package=0, channel=9, srch_adults_cnt=1, srch_children_cnt=0, srch_rm_cnt=1.0),\n",
       " Row(hotel_cluster=77.0, date_time=datetime.datetime(2013, 1, 30, 17, 2, 16), site_name=2, posa_continent=3, user_location_country=66, user_location_region=348, user_location_city=48862, orig_destination_distance=66.8173, user_id=854601, is_mobile=0, is_package=0, channel=9, srch_adults_cnt=1, srch_children_cnt=0, srch_rm_cnt=1.0),\n",
       " Row(hotel_cluster=77.0, date_time=datetime.datetime(2013, 1, 30, 17, 1, 15), site_name=2, posa_continent=3, user_location_country=66, user_location_region=348, user_location_city=48862, orig_destination_distance=66.8173, user_id=854601, is_mobile=0, is_package=0, channel=9, srch_adults_cnt=1, srch_children_cnt=0, srch_rm_cnt=1.0),\n",
       " Row(hotel_cluster=77.0, date_time=datetime.datetime(2013, 1, 28, 20, 50, 21), site_name=2, posa_continent=3, user_location_country=66, user_location_region=348, user_location_city=48862, orig_destination_distance=66.8173, user_id=854601, is_mobile=0, is_package=0, channel=9, srch_adults_cnt=1, srch_children_cnt=0, srch_rm_cnt=1.0),\n",
       " Row(hotel_cluster=10.0, date_time=datetime.datetime(2013, 1, 27, 19, 3, 25), site_name=2, posa_continent=3, user_location_country=66, user_location_region=220, user_location_city=40803, orig_destination_distance=181.8214, user_id=540679, is_mobile=0, is_package=0, channel=3, srch_adults_cnt=2, srch_children_cnt=0, srch_rm_cnt=1.0),\n",
       " Row(hotel_cluster=16.0, date_time=datetime.datetime(2013, 1, 7, 14, 49, 20), site_name=11, posa_continent=3, user_location_country=205, user_location_region=411, user_location_city=27098, orig_destination_distance=107.6885, user_id=627000, is_mobile=0, is_package=0, channel=9, srch_adults_cnt=2, srch_children_cnt=0, srch_rm_cnt=1.0),\n",
       " Row(hotel_cluster=16.0, date_time=datetime.datetime(2013, 1, 7, 14, 23, 42), site_name=11, posa_continent=3, user_location_country=205, user_location_region=411, user_location_city=27098, orig_destination_distance=107.6885, user_id=627000, is_mobile=0, is_package=0, channel=9, srch_adults_cnt=2, srch_children_cnt=0, srch_rm_cnt=1.0),\n",
       " Row(hotel_cluster=13.0, date_time=datetime.datetime(2013, 1, 7, 14, 13, 13), site_name=11, posa_continent=3, user_location_country=205, user_location_region=411, user_location_city=27098, orig_destination_distance=109.414, user_id=627000, is_mobile=0, is_package=0, channel=9, srch_adults_cnt=2, srch_children_cnt=0, srch_rm_cnt=1.0),\n",
       " Row(hotel_cluster=1.0, date_time=datetime.datetime(2013, 1, 12, 20, 26, 38), site_name=2, posa_continent=3, user_location_country=66, user_location_region=174, user_location_city=37838, orig_destination_distance=360.6958, user_id=92506, is_mobile=0, is_package=0, channel=9, srch_adults_cnt=2, srch_children_cnt=0, srch_rm_cnt=1.0),\n",
       " Row(hotel_cluster=1.0, date_time=datetime.datetime(2013, 1, 12, 20, 31, 14), site_name=2, posa_continent=3, user_location_country=66, user_location_region=174, user_location_city=37838, orig_destination_distance=360.8538, user_id=92506, is_mobile=0, is_package=0, channel=9, srch_adults_cnt=2, srch_children_cnt=0, srch_rm_cnt=1.0),\n",
       " Row(hotel_cluster=79.0, date_time=datetime.datetime(2013, 1, 12, 20, 33, 57), site_name=2, posa_continent=3, user_location_country=66, user_location_region=174, user_location_city=37838, orig_destination_distance=360.6624, user_id=92506, is_mobile=0, is_package=0, channel=9, srch_adults_cnt=2, srch_children_cnt=0, srch_rm_cnt=1.0),\n",
       " Row(hotel_cluster=54.0, date_time=datetime.datetime(2013, 1, 12, 20, 37, 30), site_name=2, posa_continent=3, user_location_country=66, user_location_region=174, user_location_city=37838, orig_destination_distance=362.2555, user_id=92506, is_mobile=0, is_package=0, channel=9, srch_adults_cnt=2, srch_children_cnt=0, srch_rm_cnt=1.0),\n",
       " Row(hotel_cluster=45.0, date_time=datetime.datetime(2013, 1, 12, 20, 39, 30), site_name=2, posa_continent=3, user_location_country=66, user_location_region=174, user_location_city=37838, orig_destination_distance=360.6684, user_id=92506, is_mobile=0, is_package=0, channel=9, srch_adults_cnt=2, srch_children_cnt=0, srch_rm_cnt=1.0),\n",
       " Row(hotel_cluster=18.0, date_time=datetime.datetime(2013, 1, 12, 20, 43, 36), site_name=2, posa_continent=3, user_location_country=66, user_location_region=174, user_location_city=37838, orig_destination_distance=361.5162, user_id=92506, is_mobile=0, is_package=0, channel=9, srch_adults_cnt=2, srch_children_cnt=0, srch_rm_cnt=1.0),\n",
       " Row(hotel_cluster=54.0, date_time=datetime.datetime(2013, 1, 12, 20, 47, 7), site_name=2, posa_continent=3, user_location_country=66, user_location_region=174, user_location_city=37838, orig_destination_distance=357.4518, user_id=92506, is_mobile=0, is_package=0, channel=9, srch_adults_cnt=2, srch_children_cnt=0, srch_rm_cnt=1.0),\n",
       " Row(hotel_cluster=54.0, date_time=datetime.datetime(2013, 1, 12, 20, 48, 8), site_name=2, posa_continent=3, user_location_country=66, user_location_region=174, user_location_city=37838, orig_destination_distance=360.9093, user_id=92506, is_mobile=0, is_package=0, channel=9, srch_adults_cnt=2, srch_children_cnt=0, srch_rm_cnt=1.0),\n",
       " Row(hotel_cluster=24.0, date_time=datetime.datetime(2013, 1, 12, 20, 53, 50), site_name=2, posa_continent=3, user_location_country=66, user_location_region=174, user_location_city=37838, orig_destination_distance=360.7401, user_id=92506, is_mobile=0, is_package=0, channel=9, srch_adults_cnt=2, srch_children_cnt=0, srch_rm_cnt=1.0),\n",
       " Row(hotel_cluster=54.0, date_time=datetime.datetime(2013, 1, 12, 20, 23, 33), site_name=2, posa_continent=3, user_location_country=66, user_location_region=174, user_location_city=37838, orig_destination_distance=359.496, user_id=92506, is_mobile=0, is_package=0, channel=9, srch_adults_cnt=2, srch_children_cnt=0, srch_rm_cnt=1.0),\n",
       " Row(hotel_cluster=88.0, date_time=datetime.datetime(2013, 1, 12, 20, 56, 52), site_name=2, posa_continent=3, user_location_country=66, user_location_region=174, user_location_city=37838, orig_destination_distance=360.5301, user_id=92506, is_mobile=0, is_package=0, channel=9, srch_adults_cnt=2, srch_children_cnt=0, srch_rm_cnt=1.0),\n",
       " Row(hotel_cluster=26.0, date_time=datetime.datetime(2013, 1, 23, 9, 36, 12), site_name=2, posa_continent=3, user_location_country=66, user_location_region=331, user_location_city=9654, orig_destination_distance=1393.7519, user_id=626474, is_mobile=0, is_package=1, channel=9, srch_adults_cnt=2, srch_children_cnt=2, srch_rm_cnt=1.0),\n",
       " Row(hotel_cluster=84.0, date_time=datetime.datetime(2013, 1, 23, 9, 34, 24), site_name=2, posa_continent=3, user_location_country=66, user_location_region=331, user_location_city=9654, orig_destination_distance=1400.1052, user_id=626474, is_mobile=0, is_package=1, channel=9, srch_adults_cnt=2, srch_children_cnt=2, srch_rm_cnt=1.0),\n",
       " Row(hotel_cluster=44.0, date_time=datetime.datetime(2013, 1, 22, 17, 18, 16), site_name=2, posa_continent=3, user_location_country=66, user_location_region=331, user_location_city=9654, orig_destination_distance=1667.293, user_id=626474, is_mobile=0, is_package=1, channel=9, srch_adults_cnt=2, srch_children_cnt=2, srch_rm_cnt=1.0),\n",
       " Row(hotel_cluster=69.0, date_time=datetime.datetime(2013, 1, 23, 7, 29, 9), site_name=2, posa_continent=3, user_location_country=166, user_location_region=0, user_location_city=11921, orig_destination_distance=None, user_id=543614, is_mobile=0, is_package=0, channel=1, srch_adults_cnt=1, srch_children_cnt=0, srch_rm_cnt=1.0),\n",
       " Row(hotel_cluster=97.0, date_time=datetime.datetime(2013, 1, 23, 7, 38, 51), site_name=2, posa_continent=3, user_location_country=166, user_location_region=0, user_location_city=11921, orig_destination_distance=None, user_id=543614, is_mobile=0, is_package=0, channel=1, srch_adults_cnt=1, srch_children_cnt=0, srch_rm_cnt=1.0),\n",
       " Row(hotel_cluster=46.0, date_time=datetime.datetime(2013, 1, 23, 7, 39, 31), site_name=2, posa_continent=3, user_location_country=166, user_location_region=0, user_location_city=11921, orig_destination_distance=None, user_id=543614, is_mobile=0, is_package=0, channel=1, srch_adults_cnt=1, srch_children_cnt=0, srch_rm_cnt=1.0),\n",
       " Row(hotel_cluster=46.0, date_time=datetime.datetime(2013, 1, 23, 7, 41, 17), site_name=2, posa_continent=3, user_location_country=166, user_location_region=0, user_location_city=11921, orig_destination_distance=None, user_id=543614, is_mobile=0, is_package=0, channel=1, srch_adults_cnt=1, srch_children_cnt=0, srch_rm_cnt=1.0),\n",
       " Row(hotel_cluster=67.0, date_time=datetime.datetime(2013, 1, 23, 7, 45, 30), site_name=2, posa_continent=3, user_location_country=166, user_location_region=0, user_location_city=11921, orig_destination_distance=None, user_id=543614, is_mobile=0, is_package=0, channel=1, srch_adults_cnt=1, srch_children_cnt=0, srch_rm_cnt=1.0),\n",
       " Row(hotel_cluster=58.0, date_time=datetime.datetime(2013, 1, 23, 7, 46, 17), site_name=2, posa_continent=3, user_location_country=166, user_location_region=0, user_location_city=11921, orig_destination_distance=None, user_id=543614, is_mobile=0, is_package=0, channel=1, srch_adults_cnt=1, srch_children_cnt=0, srch_rm_cnt=1.0),\n",
       " Row(hotel_cluster=1.0, date_time=datetime.datetime(2013, 1, 12, 21, 3, 28), site_name=2, posa_continent=3, user_location_country=66, user_location_region=174, user_location_city=37838, orig_destination_distance=361.4862, user_id=92506, is_mobile=0, is_package=0, channel=9, srch_adults_cnt=2, srch_children_cnt=0, srch_rm_cnt=1.0),\n",
       " Row(hotel_cluster=24.0, date_time=datetime.datetime(2013, 1, 12, 20, 22, 17), site_name=2, posa_continent=3, user_location_country=66, user_location_region=174, user_location_city=37838, orig_destination_distance=360.6827, user_id=92506, is_mobile=0, is_package=0, channel=9, srch_adults_cnt=2, srch_children_cnt=0, srch_rm_cnt=1.0),\n",
       " Row(hotel_cluster=1.0, date_time=datetime.datetime(2013, 1, 12, 20, 19, 54), site_name=2, posa_continent=3, user_location_country=66, user_location_region=174, user_location_city=37838, orig_destination_distance=360.8431, user_id=92506, is_mobile=0, is_package=0, channel=9, srch_adults_cnt=2, srch_children_cnt=0, srch_rm_cnt=1.0),\n",
       " Row(hotel_cluster=79.0, date_time=datetime.datetime(2013, 1, 12, 20, 19, 11), site_name=2, posa_continent=3, user_location_country=66, user_location_region=174, user_location_city=37838, orig_destination_distance=360.7592, user_id=92506, is_mobile=0, is_package=0, channel=9, srch_adults_cnt=2, srch_children_cnt=0, srch_rm_cnt=1.0),\n",
       " Row(hotel_cluster=89.0, date_time=datetime.datetime(2013, 1, 31, 20, 33, 40), site_name=37, posa_continent=1, user_location_country=69, user_location_region=603, user_location_city=56045, orig_destination_distance=None, user_id=92115, is_mobile=0, is_package=1, channel=0, srch_adults_cnt=2, srch_children_cnt=0, srch_rm_cnt=1.0),\n",
       " Row(hotel_cluster=30.0, date_time=datetime.datetime(2013, 1, 31, 20, 38, 29), site_name=37, posa_continent=1, user_location_country=69, user_location_region=603, user_location_city=56045, orig_destination_distance=None, user_id=92115, is_mobile=0, is_package=1, channel=0, srch_adults_cnt=2, srch_children_cnt=0, srch_rm_cnt=1.0),\n",
       " Row(hotel_cluster=9.0, date_time=datetime.datetime(2013, 1, 31, 21, 21, 48), site_name=37, posa_continent=1, user_location_country=69, user_location_region=603, user_location_city=56045, orig_destination_distance=None, user_id=92115, is_mobile=0, is_package=1, channel=0, srch_adults_cnt=2, srch_children_cnt=0, srch_rm_cnt=1.0),\n",
       " Row(hotel_cluster=55.0, date_time=datetime.datetime(2013, 1, 31, 22, 50, 47), site_name=37, posa_continent=1, user_location_country=69, user_location_region=603, user_location_city=56045, orig_destination_distance=None, user_id=92115, is_mobile=0, is_package=1, channel=0, srch_adults_cnt=2, srch_children_cnt=0, srch_rm_cnt=1.0),\n",
       " Row(hotel_cluster=95.0, date_time=datetime.datetime(2013, 1, 8, 17, 32, 49), site_name=23, posa_continent=1, user_location_country=1, user_location_region=436, user_location_city=21686, orig_destination_distance=521.4987, user_id=687069, is_mobile=0, is_package=1, channel=2, srch_adults_cnt=2, srch_children_cnt=0, srch_rm_cnt=1.0),\n",
       " Row(hotel_cluster=95.0, date_time=datetime.datetime(2013, 1, 8, 17, 39, 59), site_name=23, posa_continent=1, user_location_country=1, user_location_region=436, user_location_city=21686, orig_destination_distance=521.4987, user_id=687069, is_mobile=0, is_package=1, channel=2, srch_adults_cnt=2, srch_children_cnt=0, srch_rm_cnt=1.0),\n",
       " Row(hotel_cluster=6.0, date_time=datetime.datetime(2013, 1, 8, 17, 53, 58), site_name=23, posa_continent=1, user_location_country=1, user_location_region=436, user_location_city=21686, orig_destination_distance=521.6137, user_id=687069, is_mobile=0, is_package=1, channel=2, srch_adults_cnt=2, srch_children_cnt=0, srch_rm_cnt=1.0),\n",
       " Row(hotel_cluster=46.0, date_time=datetime.datetime(2013, 1, 8, 17, 57, 58), site_name=23, posa_continent=1, user_location_country=1, user_location_region=436, user_location_city=21686, orig_destination_distance=520.1345, user_id=687069, is_mobile=0, is_package=1, channel=2, srch_adults_cnt=2, srch_children_cnt=0, srch_rm_cnt=1.0),\n",
       " Row(hotel_cluster=68.0, date_time=datetime.datetime(2013, 1, 8, 17, 59, 23), site_name=23, posa_continent=1, user_location_country=1, user_location_region=436, user_location_city=21686, orig_destination_distance=519.0794, user_id=687069, is_mobile=0, is_package=1, channel=2, srch_adults_cnt=2, srch_children_cnt=0, srch_rm_cnt=1.0),\n",
       " Row(hotel_cluster=46.0, date_time=datetime.datetime(2013, 1, 8, 18, 3, 11), site_name=23, posa_continent=1, user_location_country=1, user_location_region=436, user_location_city=21686, orig_destination_distance=521.5375, user_id=687069, is_mobile=0, is_package=1, channel=2, srch_adults_cnt=2, srch_children_cnt=0, srch_rm_cnt=1.0),\n",
       " Row(hotel_cluster=1.0, date_time=datetime.datetime(2013, 1, 12, 19, 38, 9), site_name=2, posa_continent=3, user_location_country=66, user_location_region=174, user_location_city=37838, orig_destination_distance=361.4862, user_id=92506, is_mobile=0, is_package=0, channel=9, srch_adults_cnt=2, srch_children_cnt=0, srch_rm_cnt=1.0),\n",
       " Row(hotel_cluster=45.0, date_time=datetime.datetime(2013, 1, 12, 19, 40, 58), site_name=2, posa_continent=3, user_location_country=66, user_location_region=174, user_location_city=37838, orig_destination_distance=360.805, user_id=92506, is_mobile=0, is_package=0, channel=9, srch_adults_cnt=2, srch_children_cnt=0, srch_rm_cnt=1.0),\n",
       " Row(hotel_cluster=88.0, date_time=datetime.datetime(2013, 1, 12, 19, 56, 10), site_name=2, posa_continent=3, user_location_country=66, user_location_region=174, user_location_city=37838, orig_destination_distance=360.5136, user_id=92506, is_mobile=0, is_package=0, channel=9, srch_adults_cnt=2, srch_children_cnt=0, srch_rm_cnt=1.0),\n",
       " Row(hotel_cluster=79.0, date_time=datetime.datetime(2013, 1, 12, 19, 59, 56), site_name=2, posa_continent=3, user_location_country=66, user_location_region=174, user_location_city=37838, orig_destination_distance=359.9211, user_id=92506, is_mobile=0, is_package=0, channel=9, srch_adults_cnt=2, srch_children_cnt=0, srch_rm_cnt=1.0),\n",
       " Row(hotel_cluster=24.0, date_time=datetime.datetime(2013, 1, 12, 20, 2, 24), site_name=2, posa_continent=3, user_location_country=66, user_location_region=174, user_location_city=37838, orig_destination_distance=360.8023, user_id=92506, is_mobile=0, is_package=0, channel=9, srch_adults_cnt=2, srch_children_cnt=0, srch_rm_cnt=1.0),\n",
       " Row(hotel_cluster=47.0, date_time=datetime.datetime(2013, 1, 12, 20, 8, 26), site_name=2, posa_continent=3, user_location_country=66, user_location_region=174, user_location_city=37838, orig_destination_distance=361.5236, user_id=92506, is_mobile=0, is_package=0, channel=9, srch_adults_cnt=2, srch_children_cnt=0, srch_rm_cnt=1.0),\n",
       " Row(hotel_cluster=84.0, date_time=datetime.datetime(2013, 1, 12, 20, 11, 1), site_name=2, posa_continent=3, user_location_country=66, user_location_region=174, user_location_city=37838, orig_destination_distance=361.0568, user_id=92506, is_mobile=0, is_package=0, channel=9, srch_adults_cnt=2, srch_children_cnt=0, srch_rm_cnt=1.0),\n",
       " Row(hotel_cluster=88.0, date_time=datetime.datetime(2013, 1, 12, 20, 12, 23), site_name=2, posa_continent=3, user_location_country=66, user_location_region=174, user_location_city=37838, orig_destination_distance=361.1858, user_id=92506, is_mobile=0, is_package=0, channel=9, srch_adults_cnt=2, srch_children_cnt=0, srch_rm_cnt=1.0),\n",
       " Row(hotel_cluster=1.0, date_time=datetime.datetime(2013, 1, 12, 20, 14, 32), site_name=2, posa_continent=3, user_location_country=66, user_location_region=174, user_location_city=37838, orig_destination_distance=360.9046, user_id=92506, is_mobile=0, is_package=0, channel=9, srch_adults_cnt=2, srch_children_cnt=0, srch_rm_cnt=1.0),\n",
       " Row(hotel_cluster=1.0, date_time=datetime.datetime(2013, 1, 12, 20, 16, 46), site_name=2, posa_continent=3, user_location_country=66, user_location_region=174, user_location_city=37838, orig_destination_distance=360.9165, user_id=92506, is_mobile=0, is_package=0, channel=9, srch_adults_cnt=2, srch_children_cnt=0, srch_rm_cnt=1.0),\n",
       " Row(hotel_cluster=1.0, date_time=datetime.datetime(2013, 1, 12, 20, 17, 36), site_name=2, posa_continent=3, user_location_country=66, user_location_region=174, user_location_city=37838, orig_destination_distance=360.9822, user_id=92506, is_mobile=0, is_package=0, channel=9, srch_adults_cnt=2, srch_children_cnt=0, srch_rm_cnt=1.0),\n",
       " Row(hotel_cluster=26.0, date_time=datetime.datetime(2013, 1, 26, 18, 48, 28), site_name=2, posa_continent=3, user_location_country=66, user_location_region=184, user_location_city=18716, orig_destination_distance=8812.9598, user_id=540544, is_mobile=1, is_package=1, channel=9, srch_adults_cnt=2, srch_children_cnt=2, srch_rm_cnt=2.0),\n",
       " Row(hotel_cluster=58.0, date_time=datetime.datetime(2013, 1, 23, 7, 47, 2), site_name=2, posa_continent=3, user_location_country=166, user_location_region=0, user_location_city=11921, orig_destination_distance=None, user_id=543614, is_mobile=0, is_package=0, channel=1, srch_adults_cnt=1, srch_children_cnt=0, srch_rm_cnt=1.0),\n",
       " Row(hotel_cluster=41.0, date_time=datetime.datetime(2013, 1, 9, 18, 23, 19), site_name=2, posa_continent=3, user_location_country=66, user_location_region=318, user_location_city=876, orig_destination_distance=None, user_id=395265, is_mobile=0, is_package=0, channel=2, srch_adults_cnt=2, srch_children_cnt=0, srch_rm_cnt=1.0),\n",
       " Row(hotel_cluster=83.0, date_time=datetime.datetime(2013, 1, 9, 18, 26, 14), site_name=2, posa_continent=3, user_location_country=66, user_location_region=318, user_location_city=876, orig_destination_distance=None, user_id=395265, is_mobile=0, is_package=1, channel=2, srch_adults_cnt=2, srch_children_cnt=1, srch_rm_cnt=1.0),\n",
       " Row(hotel_cluster=41.0, date_time=datetime.datetime(2013, 1, 20, 19, 43, 14), site_name=2, posa_continent=3, user_location_country=66, user_location_region=153, user_location_city=20706, orig_destination_distance=303.9894, user_id=395804, is_mobile=0, is_package=0, channel=0, srch_adults_cnt=2, srch_children_cnt=1, srch_rm_cnt=1.0),\n",
       " Row(hotel_cluster=94.0, date_time=datetime.datetime(2013, 1, 20, 19, 33, 37), site_name=2, posa_continent=3, user_location_country=66, user_location_region=153, user_location_city=20706, orig_destination_distance=304.5302, user_id=395804, is_mobile=0, is_package=0, channel=0, srch_adults_cnt=2, srch_children_cnt=1, srch_rm_cnt=1.0),\n",
       " Row(hotel_cluster=94.0, date_time=datetime.datetime(2013, 1, 20, 19, 31, 26), site_name=2, posa_continent=3, user_location_country=66, user_location_region=153, user_location_city=20706, orig_destination_distance=293.8637, user_id=395804, is_mobile=0, is_package=0, channel=0, srch_adults_cnt=2, srch_children_cnt=1, srch_rm_cnt=1.0),\n",
       " Row(hotel_cluster=96.0, date_time=datetime.datetime(2013, 1, 20, 19, 30, 25), site_name=2, posa_continent=3, user_location_country=66, user_location_region=153, user_location_city=20706, orig_destination_distance=301.4965, user_id=395804, is_mobile=0, is_package=0, channel=0, srch_adults_cnt=2, srch_children_cnt=1, srch_rm_cnt=1.0),\n",
       " Row(hotel_cluster=18.0, date_time=datetime.datetime(2013, 1, 20, 19, 28, 59), site_name=2, posa_continent=3, user_location_country=66, user_location_region=153, user_location_city=20706, orig_destination_distance=292.4743, user_id=395804, is_mobile=0, is_package=0, channel=0, srch_adults_cnt=2, srch_children_cnt=1, srch_rm_cnt=1.0),\n",
       " Row(hotel_cluster=14.0, date_time=datetime.datetime(2013, 1, 20, 19, 27, 38), site_name=2, posa_continent=3, user_location_country=66, user_location_region=153, user_location_city=20706, orig_destination_distance=302.7, user_id=395804, is_mobile=0, is_package=0, channel=0, srch_adults_cnt=2, srch_children_cnt=1, srch_rm_cnt=1.0),\n",
       " Row(hotel_cluster=72.0, date_time=datetime.datetime(2013, 1, 20, 19, 24, 21), site_name=2, posa_continent=3, user_location_country=66, user_location_region=153, user_location_city=20706, orig_destination_distance=299.3775, user_id=395804, is_mobile=0, is_package=0, channel=0, srch_adults_cnt=2, srch_children_cnt=1, srch_rm_cnt=1.0),\n",
       " Row(hotel_cluster=18.0, date_time=datetime.datetime(2013, 1, 20, 19, 22, 44), site_name=2, posa_continent=3, user_location_country=66, user_location_region=153, user_location_city=20706, orig_destination_distance=300.3466, user_id=395804, is_mobile=0, is_package=0, channel=0, srch_adults_cnt=2, srch_children_cnt=1, srch_rm_cnt=1.0),\n",
       " Row(hotel_cluster=37.0, date_time=datetime.datetime(2013, 1, 20, 19, 17, 49), site_name=2, posa_continent=3, user_location_country=66, user_location_region=153, user_location_city=20706, orig_destination_distance=303.1472, user_id=395804, is_mobile=0, is_package=0, channel=0, srch_adults_cnt=2, srch_children_cnt=1, srch_rm_cnt=1.0),\n",
       " Row(hotel_cluster=59.0, date_time=datetime.datetime(2013, 1, 20, 19, 47, 4), site_name=2, posa_continent=3, user_location_country=66, user_location_region=153, user_location_city=20706, orig_destination_distance=303.1151, user_id=395804, is_mobile=0, is_package=0, channel=0, srch_adults_cnt=2, srch_children_cnt=1, srch_rm_cnt=1.0),\n",
       " Row(hotel_cluster=89.0, date_time=datetime.datetime(2013, 1, 20, 19, 15, 58), site_name=2, posa_continent=3, user_location_country=66, user_location_region=153, user_location_city=20706, orig_destination_distance=299.8618, user_id=395804, is_mobile=0, is_package=0, channel=0, srch_adults_cnt=2, srch_children_cnt=1, srch_rm_cnt=1.0),\n",
       " Row(hotel_cluster=54.0, date_time=datetime.datetime(2013, 1, 20, 19, 8, 15), site_name=2, posa_continent=3, user_location_country=66, user_location_region=153, user_location_city=20706, orig_destination_distance=301.5092, user_id=395804, is_mobile=0, is_package=0, channel=0, srch_adults_cnt=2, srch_children_cnt=1, srch_rm_cnt=1.0),\n",
       " Row(hotel_cluster=34.0, date_time=datetime.datetime(2013, 1, 20, 19, 3, 24), site_name=2, posa_continent=3, user_location_country=66, user_location_region=153, user_location_city=20706, orig_destination_distance=303.8672, user_id=395804, is_mobile=0, is_package=0, channel=0, srch_adults_cnt=2, srch_children_cnt=1, srch_rm_cnt=1.0),\n",
       " Row(hotel_cluster=5.0, date_time=datetime.datetime(2013, 1, 20, 18, 57, 29), site_name=2, posa_continent=3, user_location_country=66, user_location_region=153, user_location_city=20706, orig_destination_distance=301.0061, user_id=395804, is_mobile=0, is_package=0, channel=0, srch_adults_cnt=2, srch_children_cnt=1, srch_rm_cnt=1.0),\n",
       " Row(hotel_cluster=68.0, date_time=datetime.datetime(2013, 1, 20, 18, 53, 13), site_name=2, posa_continent=3, user_location_country=66, user_location_region=153, user_location_city=20706, orig_destination_distance=299.7156, user_id=395804, is_mobile=0, is_package=0, channel=0, srch_adults_cnt=2, srch_children_cnt=1, srch_rm_cnt=1.0),\n",
       " Row(hotel_cluster=37.0, date_time=datetime.datetime(2013, 1, 20, 18, 50, 41), site_name=2, posa_continent=3, user_location_country=66, user_location_region=153, user_location_city=20706, orig_destination_distance=299.7344, user_id=395804, is_mobile=0, is_package=0, channel=0, srch_adults_cnt=2, srch_children_cnt=1, srch_rm_cnt=1.0),\n",
       " Row(hotel_cluster=4.0, date_time=datetime.datetime(2013, 1, 20, 18, 48, 3), site_name=2, posa_continent=3, user_location_country=66, user_location_region=153, user_location_city=20706, orig_destination_distance=299.3627, user_id=395804, is_mobile=0, is_package=0, channel=0, srch_adults_cnt=2, srch_children_cnt=1, srch_rm_cnt=1.0),\n",
       " Row(hotel_cluster=41.0, date_time=datetime.datetime(2013, 1, 20, 18, 46, 21), site_name=2, posa_continent=3, user_location_country=66, user_location_region=153, user_location_city=20706, orig_destination_distance=303.9724, user_id=395804, is_mobile=0, is_package=0, channel=0, srch_adults_cnt=2, srch_children_cnt=1, srch_rm_cnt=1.0),\n",
       " Row(hotel_cluster=95.0, date_time=datetime.datetime(2013, 1, 20, 18, 44, 51), site_name=2, posa_continent=3, user_location_country=66, user_location_region=153, user_location_city=20706, orig_destination_distance=299.9389, user_id=395804, is_mobile=0, is_package=0, channel=0, srch_adults_cnt=2, srch_children_cnt=1, srch_rm_cnt=1.0),\n",
       " Row(hotel_cluster=37.0, date_time=datetime.datetime(2013, 1, 20, 18, 42, 49), site_name=2, posa_continent=3, user_location_country=66, user_location_region=153, user_location_city=20706, orig_destination_distance=299.6834, user_id=395804, is_mobile=0, is_package=0, channel=0, srch_adults_cnt=2, srch_children_cnt=1, srch_rm_cnt=1.0),\n",
       " Row(hotel_cluster=48.0, date_time=datetime.datetime(2013, 1, 20, 19, 12, 17), site_name=2, posa_continent=3, user_location_country=66, user_location_region=153, user_location_city=20706, orig_destination_distance=303.3184, user_id=395804, is_mobile=0, is_package=0, channel=0, srch_adults_cnt=2, srch_children_cnt=1, srch_rm_cnt=1.0),\n",
       " Row(hotel_cluster=68.0, date_time=datetime.datetime(2013, 1, 20, 18, 39, 43), site_name=2, posa_continent=3, user_location_country=66, user_location_region=153, user_location_city=20706, orig_destination_distance=299.5646, user_id=395804, is_mobile=0, is_package=0, channel=0, srch_adults_cnt=2, srch_children_cnt=1, srch_rm_cnt=1.0),\n",
       " Row(hotel_cluster=0.0, date_time=datetime.datetime(2013, 1, 20, 19, 52, 42), site_name=2, posa_continent=3, user_location_country=66, user_location_region=153, user_location_city=20706, orig_destination_distance=303.2175, user_id=395804, is_mobile=0, is_package=0, channel=0, srch_adults_cnt=2, srch_children_cnt=1, srch_rm_cnt=1.0),\n",
       " Row(hotel_cluster=94.0, date_time=datetime.datetime(2013, 1, 20, 20, 32, 48), site_name=2, posa_continent=3, user_location_country=66, user_location_region=153, user_location_city=20706, orig_destination_distance=299.2296, user_id=395804, is_mobile=0, is_package=0, channel=0, srch_adults_cnt=2, srch_children_cnt=1, srch_rm_cnt=1.0),\n",
       " Row(hotel_cluster=17.0, date_time=datetime.datetime(2013, 1, 29, 8, 59, 46), site_name=2, posa_continent=3, user_location_country=66, user_location_region=337, user_location_city=6988, orig_destination_distance=2421.7531, user_id=395804, is_mobile=0, is_package=0, channel=9, srch_adults_cnt=2, srch_children_cnt=1, srch_rm_cnt=1.0),\n",
       " Row(hotel_cluster=41.0, date_time=datetime.datetime(2013, 1, 22, 17, 6, 23), site_name=2, posa_continent=3, user_location_country=66, user_location_region=153, user_location_city=20706, orig_destination_distance=298.6013, user_id=395804, is_mobile=1, is_package=0, channel=2, srch_adults_cnt=2, srch_children_cnt=0, srch_rm_cnt=1.0),\n",
       " Row(hotel_cluster=37.0, date_time=datetime.datetime(2013, 1, 22, 16, 44, 25), site_name=2, posa_continent=3, user_location_country=66, user_location_region=153, user_location_city=20706, orig_destination_distance=303.1472, user_id=395804, is_mobile=1, is_package=0, channel=2, srch_adults_cnt=2, srch_children_cnt=0, srch_rm_cnt=1.0),\n",
       " Row(hotel_cluster=91.0, date_time=datetime.datetime(2013, 1, 22, 16, 39, 22), site_name=2, posa_continent=3, user_location_country=66, user_location_region=153, user_location_city=20706, orig_destination_distance=304.445, user_id=395804, is_mobile=1, is_package=0, channel=2, srch_adults_cnt=2, srch_children_cnt=0, srch_rm_cnt=1.0),\n",
       " Row(hotel_cluster=17.0, date_time=datetime.datetime(2013, 1, 22, 16, 28, 49), site_name=2, posa_continent=3, user_location_country=66, user_location_region=153, user_location_city=20706, orig_destination_distance=299.6262, user_id=395804, is_mobile=1, is_package=0, channel=2, srch_adults_cnt=2, srch_children_cnt=0, srch_rm_cnt=1.0),\n",
       " Row(hotel_cluster=48.0, date_time=datetime.datetime(2013, 1, 22, 16, 25, 32), site_name=2, posa_continent=3, user_location_country=66, user_location_region=153, user_location_city=20706, orig_destination_distance=303.3184, user_id=395804, is_mobile=1, is_package=0, channel=2, srch_adults_cnt=2, srch_children_cnt=0, srch_rm_cnt=1.0),\n",
       " Row(hotel_cluster=4.0, date_time=datetime.datetime(2013, 1, 22, 16, 20, 11), site_name=2, posa_continent=3, user_location_country=66, user_location_region=153, user_location_city=20706, orig_destination_distance=299.3627, user_id=395804, is_mobile=1, is_package=0, channel=2, srch_adults_cnt=2, srch_children_cnt=0, srch_rm_cnt=1.0),\n",
       " Row(hotel_cluster=34.0, date_time=datetime.datetime(2013, 1, 22, 15, 53, 30), site_name=2, posa_continent=3, user_location_country=66, user_location_region=153, user_location_city=20706, orig_destination_distance=303.8672, user_id=395804, is_mobile=1, is_package=0, channel=2, srch_adults_cnt=2, srch_children_cnt=0, srch_rm_cnt=1.0),\n",
       " Row(hotel_cluster=0.0, date_time=datetime.datetime(2013, 1, 22, 15, 49, 16), site_name=2, posa_continent=3, user_location_country=66, user_location_region=153, user_location_city=20706, orig_destination_distance=303.4296, user_id=395804, is_mobile=1, is_package=0, channel=2, srch_adults_cnt=2, srch_children_cnt=0, srch_rm_cnt=1.0),\n",
       " Row(hotel_cluster=18.0, date_time=datetime.datetime(2013, 1, 20, 20, 6, 54), site_name=2, posa_continent=3, user_location_country=66, user_location_region=153, user_location_city=20706, orig_destination_distance=299.6813, user_id=395804, is_mobile=0, is_package=0, channel=0, srch_adults_cnt=2, srch_children_cnt=1, srch_rm_cnt=1.0),\n",
       " Row(hotel_cluster=37.0, date_time=datetime.datetime(2013, 1, 22, 15, 39, 32), site_name=2, posa_continent=3, user_location_country=66, user_location_region=153, user_location_city=20706, orig_destination_distance=303.2064, user_id=395804, is_mobile=1, is_package=0, channel=2, srch_adults_cnt=2, srch_children_cnt=0, srch_rm_cnt=1.0),\n",
       " Row(hotel_cluster=17.0, date_time=datetime.datetime(2013, 1, 20, 21, 42, 59), site_name=2, posa_continent=3, user_location_country=66, user_location_region=153, user_location_city=20706, orig_destination_distance=299.8402, user_id=395804, is_mobile=0, is_package=0, channel=0, srch_adults_cnt=2, srch_children_cnt=1, srch_rm_cnt=1.0),\n",
       " Row(hotel_cluster=41.0, date_time=datetime.datetime(2013, 1, 20, 21, 29, 40), site_name=2, posa_continent=3, user_location_country=66, user_location_region=153, user_location_city=20706, orig_destination_distance=303.9724, user_id=395804, is_mobile=0, is_package=0, channel=0, srch_adults_cnt=2, srch_children_cnt=1, srch_rm_cnt=1.0),\n",
       " Row(hotel_cluster=6.0, date_time=datetime.datetime(2013, 1, 20, 21, 22, 50), site_name=2, posa_continent=3, user_location_country=66, user_location_region=153, user_location_city=20706, orig_destination_distance=297.8837, user_id=395804, is_mobile=0, is_package=0, channel=0, srch_adults_cnt=2, srch_children_cnt=1, srch_rm_cnt=1.0),\n",
       " Row(hotel_cluster=94.0, date_time=datetime.datetime(2013, 1, 20, 21, 21, 10), site_name=2, posa_continent=3, user_location_country=66, user_location_region=153, user_location_city=20706, orig_destination_distance=299.2296, user_id=395804, is_mobile=0, is_package=0, channel=0, srch_adults_cnt=2, srch_children_cnt=1, srch_rm_cnt=1.0),\n",
       " Row(hotel_cluster=18.0, date_time=datetime.datetime(2013, 1, 20, 21, 18, 23), site_name=2, posa_continent=3, user_location_country=66, user_location_region=153, user_location_city=20706, orig_destination_distance=299.5306, user_id=395804, is_mobile=0, is_package=0, channel=0, srch_adults_cnt=2, srch_children_cnt=1, srch_rm_cnt=1.0),\n",
       " Row(hotel_cluster=4.0, date_time=datetime.datetime(2013, 1, 20, 21, 14, 31), site_name=2, posa_continent=3, user_location_country=66, user_location_region=153, user_location_city=20706, orig_destination_distance=299.5034, user_id=395804, is_mobile=0, is_package=0, channel=0, srch_adults_cnt=2, srch_children_cnt=1, srch_rm_cnt=1.0),\n",
       " Row(hotel_cluster=37.0, date_time=datetime.datetime(2013, 1, 20, 21, 10, 20), site_name=2, posa_continent=3, user_location_country=66, user_location_region=153, user_location_city=20706, orig_destination_distance=299.6834, user_id=395804, is_mobile=0, is_package=0, channel=0, srch_adults_cnt=2, srch_children_cnt=1, srch_rm_cnt=1.0),\n",
       " Row(hotel_cluster=11.0, date_time=datetime.datetime(2013, 1, 20, 20, 57, 52), site_name=2, posa_continent=3, user_location_country=66, user_location_region=153, user_location_city=20706, orig_destination_distance=299.5282, user_id=395804, is_mobile=0, is_package=0, channel=0, srch_adults_cnt=2, srch_children_cnt=1, srch_rm_cnt=1.0),\n",
       " Row(hotel_cluster=55.0, date_time=datetime.datetime(2013, 1, 20, 20, 49), site_name=2, posa_continent=3, user_location_country=66, user_location_region=153, user_location_city=20706, orig_destination_distance=299.777, user_id=395804, is_mobile=0, is_package=0, channel=0, srch_adults_cnt=2, srch_children_cnt=1, srch_rm_cnt=1.0),\n",
       " Row(hotel_cluster=18.0, date_time=datetime.datetime(2013, 1, 22, 15, 37, 23), site_name=2, posa_continent=3, user_location_country=66, user_location_region=153, user_location_city=20706, orig_destination_distance=299.5306, user_id=395804, is_mobile=1, is_package=0, channel=2, srch_adults_cnt=2, srch_children_cnt=0, srch_rm_cnt=1.0),\n",
       " Row(hotel_cluster=21.0, date_time=datetime.datetime(2013, 1, 20, 18, 39, 2), site_name=2, posa_continent=3, user_location_country=66, user_location_region=153, user_location_city=20706, orig_destination_distance=299.6263, user_id=395804, is_mobile=0, is_package=0, channel=0, srch_adults_cnt=2, srch_children_cnt=1, srch_rm_cnt=1.0),\n",
       " Row(hotel_cluster=51.0, date_time=datetime.datetime(2013, 1, 20, 18, 36, 14), site_name=2, posa_continent=3, user_location_country=66, user_location_region=153, user_location_city=20706, orig_destination_distance=300.0639, user_id=395804, is_mobile=0, is_package=0, channel=0, srch_adults_cnt=2, srch_children_cnt=1, srch_rm_cnt=1.0),\n",
       " Row(hotel_cluster=55.0, date_time=datetime.datetime(2013, 1, 20, 18, 21, 28), site_name=2, posa_continent=3, user_location_country=66, user_location_region=153, user_location_city=20706, orig_destination_distance=299.777, user_id=395804, is_mobile=0, is_package=0, channel=0, srch_adults_cnt=2, srch_children_cnt=0, srch_rm_cnt=1.0),\n",
       " Row(hotel_cluster=69.0, date_time=datetime.datetime(2013, 1, 30, 5, 58, 4), site_name=2, posa_continent=3, user_location_country=239, user_location_region=359, user_location_city=9876, orig_destination_distance=None, user_id=683717, is_mobile=0, is_package=0, channel=9, srch_adults_cnt=1, srch_children_cnt=0, srch_rm_cnt=1.0),\n",
       " Row(hotel_cluster=69.0, date_time=datetime.datetime(2013, 1, 30, 15, 6, 12), site_name=2, posa_continent=3, user_location_country=239, user_location_region=359, user_location_city=9876, orig_destination_distance=None, user_id=683717, is_mobile=0, is_package=0, channel=9, srch_adults_cnt=1, srch_children_cnt=0, srch_rm_cnt=1.0),\n",
       " Row(hotel_cluster=89.0, date_time=datetime.datetime(2013, 1, 30, 15, 57, 13), site_name=2, posa_continent=3, user_location_country=239, user_location_region=359, user_location_city=9876, orig_destination_distance=None, user_id=683717, is_mobile=0, is_package=0, channel=9, srch_adults_cnt=2, srch_children_cnt=0, srch_rm_cnt=1.0),\n",
       " Row(hotel_cluster=35.0, date_time=datetime.datetime(2013, 1, 30, 15, 58, 37), site_name=2, posa_continent=3, user_location_country=239, user_location_region=359, user_location_city=9876, orig_destination_distance=None, user_id=683717, is_mobile=0, is_package=0, channel=9, srch_adults_cnt=2, srch_children_cnt=0, srch_rm_cnt=1.0),\n",
       " Row(hotel_cluster=30.0, date_time=datetime.datetime(2013, 1, 30, 16, 3, 56), site_name=2, posa_continent=3, user_location_country=239, user_location_region=359, user_location_city=9876, orig_destination_distance=None, user_id=683717, is_mobile=0, is_package=0, channel=9, srch_adults_cnt=2, srch_children_cnt=0, srch_rm_cnt=1.0),\n",
       " Row(hotel_cluster=6.0, date_time=datetime.datetime(2013, 1, 30, 16, 6, 8), site_name=2, posa_continent=3, user_location_country=239, user_location_region=359, user_location_city=9876, orig_destination_distance=None, user_id=683717, is_mobile=0, is_package=0, channel=9, srch_adults_cnt=2, srch_children_cnt=0, srch_rm_cnt=1.0),\n",
       " Row(hotel_cluster=43.0, date_time=datetime.datetime(2013, 1, 30, 16, 21, 53), site_name=2, posa_continent=3, user_location_country=239, user_location_region=359, user_location_city=9876, orig_destination_distance=None, user_id=683717, is_mobile=0, is_package=0, channel=9, srch_adults_cnt=2, srch_children_cnt=0, srch_rm_cnt=1.0),\n",
       " Row(hotel_cluster=33.0, date_time=datetime.datetime(2013, 1, 30, 16, 32, 37), site_name=2, posa_continent=3, user_location_country=239, user_location_region=359, user_location_city=9876, orig_destination_distance=None, user_id=683717, is_mobile=0, is_package=0, channel=9, srch_adults_cnt=2, srch_children_cnt=0, srch_rm_cnt=1.0),\n",
       " Row(hotel_cluster=6.0, date_time=datetime.datetime(2013, 1, 30, 16, 41, 16), site_name=2, posa_continent=3, user_location_country=239, user_location_region=359, user_location_city=9876, orig_destination_distance=None, user_id=683717, is_mobile=0, is_package=0, channel=9, srch_adults_cnt=2, srch_children_cnt=0, srch_rm_cnt=1.0),\n",
       " Row(hotel_cluster=40.0, date_time=datetime.datetime(2013, 1, 30, 5, 56, 22), site_name=2, posa_continent=3, user_location_country=239, user_location_region=359, user_location_city=9876, orig_destination_distance=None, user_id=683717, is_mobile=0, is_package=0, channel=9, srch_adults_cnt=1, srch_children_cnt=0, srch_rm_cnt=1.0),\n",
       " Row(hotel_cluster=5.0, date_time=datetime.datetime(2013, 1, 30, 16, 46, 26), site_name=2, posa_continent=3, user_location_country=239, user_location_region=359, user_location_city=9876, orig_destination_distance=None, user_id=683717, is_mobile=0, is_package=0, channel=9, srch_adults_cnt=2, srch_children_cnt=0, srch_rm_cnt=1.0),\n",
       " Row(hotel_cluster=91.0, date_time=datetime.datetime(2013, 1, 26, 22, 3, 20), site_name=2, posa_continent=3, user_location_country=66, user_location_region=174, user_location_city=22368, orig_destination_distance=1602.8776, user_id=395299, is_mobile=0, is_package=1, channel=3, srch_adults_cnt=0, srch_children_cnt=1, srch_rm_cnt=1.0),\n",
       " Row(hotel_cluster=95.0, date_time=datetime.datetime(2013, 1, 26, 22, 0, 40), site_name=2, posa_continent=3, user_location_country=66, user_location_region=174, user_location_city=22368, orig_destination_distance=1612.1377, user_id=395299, is_mobile=0, is_package=1, channel=3, srch_adults_cnt=0, srch_children_cnt=1, srch_rm_cnt=1.0),\n",
       " Row(hotel_cluster=15.0, date_time=datetime.datetime(2013, 1, 26, 21, 58, 41), site_name=2, posa_continent=3, user_location_country=66, user_location_region=174, user_location_city=22368, orig_destination_distance=1588.141, user_id=395299, is_mobile=0, is_package=1, channel=3, srch_adults_cnt=0, srch_children_cnt=1, srch_rm_cnt=1.0),\n",
       " Row(hotel_cluster=28.0, date_time=datetime.datetime(2013, 1, 26, 21, 56, 8), site_name=2, posa_continent=3, user_location_country=66, user_location_region=174, user_location_city=22368, orig_destination_distance=1612.1991, user_id=395299, is_mobile=0, is_package=1, channel=3, srch_adults_cnt=0, srch_children_cnt=1, srch_rm_cnt=1.0),\n",
       " Row(hotel_cluster=18.0, date_time=datetime.datetime(2013, 1, 24, 18, 39, 36), site_name=11, posa_continent=3, user_location_country=205, user_location_region=354, user_location_city=12328, orig_destination_distance=339.6278, user_id=34019, is_mobile=0, is_package=0, channel=1, srch_adults_cnt=2, srch_children_cnt=1, srch_rm_cnt=1.0),\n",
       " Row(hotel_cluster=28.0, date_time=datetime.datetime(2013, 1, 24, 18, 36, 13), site_name=11, posa_continent=3, user_location_country=205, user_location_region=354, user_location_city=12328, orig_destination_distance=141.1682, user_id=34019, is_mobile=0, is_package=0, channel=1, srch_adults_cnt=2, srch_children_cnt=0, srch_rm_cnt=1.0),\n",
       " Row(hotel_cluster=84.0, date_time=datetime.datetime(2013, 1, 9, 18, 36, 51), site_name=2, posa_continent=3, user_location_country=66, user_location_region=318, user_location_city=876, orig_destination_distance=None, user_id=395265, is_mobile=0, is_package=0, channel=2, srch_adults_cnt=2, srch_children_cnt=1, srch_rm_cnt=1.0),\n",
       " Row(hotel_cluster=83.0, date_time=datetime.datetime(2013, 1, 9, 18, 26, 58), site_name=2, posa_continent=3, user_location_country=66, user_location_region=318, user_location_city=876, orig_destination_distance=None, user_id=395265, is_mobile=0, is_package=1, channel=2, srch_adults_cnt=2, srch_children_cnt=1, srch_rm_cnt=1.0),\n",
       " Row(hotel_cluster=83.0, date_time=datetime.datetime(2013, 1, 9, 18, 26, 26), site_name=2, posa_continent=3, user_location_country=66, user_location_region=318, user_location_city=876, orig_destination_distance=None, user_id=395265, is_mobile=0, is_package=1, channel=2, srch_adults_cnt=2, srch_children_cnt=1, srch_rm_cnt=1.0),\n",
       " Row(hotel_cluster=95.0, date_time=datetime.datetime(2013, 1, 31, 17, 32, 35), site_name=2, posa_continent=3, user_location_country=239, user_location_region=359, user_location_city=9876, orig_destination_distance=None, user_id=683717, is_mobile=0, is_package=0, channel=9, srch_adults_cnt=2, srch_children_cnt=0, srch_rm_cnt=1.0),\n",
       " Row(hotel_cluster=83.0, date_time=datetime.datetime(2013, 1, 30, 5, 54, 28), site_name=2, posa_continent=3, user_location_country=239, user_location_region=359, user_location_city=9876, orig_destination_distance=None, user_id=683717, is_mobile=0, is_package=0, channel=9, srch_adults_cnt=1, srch_children_cnt=0, srch_rm_cnt=1.0),\n",
       " Row(hotel_cluster=41.0, date_time=datetime.datetime(2013, 1, 30, 5, 50, 41), site_name=2, posa_continent=3, user_location_country=239, user_location_region=359, user_location_city=9876, orig_destination_distance=None, user_id=683717, is_mobile=0, is_package=0, channel=9, srch_adults_cnt=1, srch_children_cnt=0, srch_rm_cnt=1.0),\n",
       " Row(hotel_cluster=49.0, date_time=datetime.datetime(2013, 1, 30, 5, 43, 3), site_name=2, posa_continent=3, user_location_country=239, user_location_region=359, user_location_city=9876, orig_destination_distance=None, user_id=683717, is_mobile=0, is_package=0, channel=9, srch_adults_cnt=1, srch_children_cnt=0, srch_rm_cnt=1.0),\n",
       " Row(hotel_cluster=94.0, date_time=datetime.datetime(2013, 1, 8, 9, 28, 53), site_name=2, posa_continent=3, user_location_country=66, user_location_region=184, user_location_city=7976, orig_destination_distance=None, user_id=395804, is_mobile=0, is_package=0, channel=9, srch_adults_cnt=1, srch_children_cnt=1, srch_rm_cnt=1.0),\n",
       " Row(hotel_cluster=83.0, date_time=datetime.datetime(2013, 1, 8, 8, 47, 59), site_name=2, posa_continent=3, user_location_country=66, user_location_region=184, user_location_city=7976, orig_destination_distance=None, user_id=395804, is_mobile=0, is_package=0, channel=9, srch_adults_cnt=1, srch_children_cnt=1, srch_rm_cnt=1.0),\n",
       " Row(hotel_cluster=49.0, date_time=datetime.datetime(2013, 1, 7, 23, 19, 9), site_name=2, posa_continent=3, user_location_country=66, user_location_region=153, user_location_city=20706, orig_destination_distance=303.2808, user_id=395804, is_mobile=0, is_package=0, channel=9, srch_adults_cnt=1, srch_children_cnt=0, srch_rm_cnt=1.0),\n",
       " Row(hotel_cluster=59.0, date_time=datetime.datetime(2013, 1, 7, 23, 17, 55), site_name=2, posa_continent=3, user_location_country=66, user_location_region=153, user_location_city=20706, orig_destination_distance=303.1151, user_id=395804, is_mobile=0, is_package=0, channel=9, srch_adults_cnt=1, srch_children_cnt=0, srch_rm_cnt=1.0),\n",
       " Row(hotel_cluster=28.0, date_time=datetime.datetime(2013, 1, 7, 23, 0, 35), site_name=2, posa_continent=3, user_location_country=66, user_location_region=153, user_location_city=20706, orig_destination_distance=303.3654, user_id=395804, is_mobile=0, is_package=0, channel=9, srch_adults_cnt=1, srch_children_cnt=0, srch_rm_cnt=1.0),\n",
       " Row(hotel_cluster=59.0, date_time=datetime.datetime(2013, 1, 7, 22, 53, 24), site_name=2, posa_continent=3, user_location_country=66, user_location_region=153, user_location_city=20706, orig_destination_distance=303.1151, user_id=395804, is_mobile=0, is_package=0, channel=9, srch_adults_cnt=1, srch_children_cnt=0, srch_rm_cnt=1.0),\n",
       " Row(hotel_cluster=94.0, date_time=datetime.datetime(2013, 1, 7, 22, 44, 39), site_name=2, posa_continent=3, user_location_country=66, user_location_region=153, user_location_city=20706, orig_destination_distance=299.2296, user_id=395804, is_mobile=0, is_package=0, channel=9, srch_adults_cnt=1, srch_children_cnt=0, srch_rm_cnt=1.0),\n",
       " Row(hotel_cluster=37.0, date_time=datetime.datetime(2013, 1, 7, 22, 40, 4), site_name=2, posa_continent=3, user_location_country=66, user_location_region=153, user_location_city=20706, orig_destination_distance=299.6834, user_id=395804, is_mobile=0, is_package=0, channel=9, srch_adults_cnt=1, srch_children_cnt=0, srch_rm_cnt=1.0),\n",
       " Row(hotel_cluster=37.0, date_time=datetime.datetime(2013, 1, 7, 22, 33, 40), site_name=2, posa_continent=3, user_location_country=66, user_location_region=153, user_location_city=20706, orig_destination_distance=299.7344, user_id=395804, is_mobile=0, is_package=0, channel=9, srch_adults_cnt=1, srch_children_cnt=0, srch_rm_cnt=1.0),\n",
       " Row(hotel_cluster=4.0, date_time=datetime.datetime(2013, 1, 7, 22, 32, 34), site_name=2, posa_continent=3, user_location_country=66, user_location_region=153, user_location_city=20706, orig_destination_distance=299.5034, user_id=395804, is_mobile=0, is_package=0, channel=9, srch_adults_cnt=1, srch_children_cnt=0, srch_rm_cnt=1.0),\n",
       " Row(hotel_cluster=83.0, date_time=datetime.datetime(2013, 1, 7, 22, 28, 58), site_name=2, posa_continent=3, user_location_country=66, user_location_region=153, user_location_city=20706, orig_destination_distance=304.332, user_id=395804, is_mobile=0, is_package=0, channel=9, srch_adults_cnt=1, srch_children_cnt=0, srch_rm_cnt=1.0),\n",
       " Row(hotel_cluster=42.0, date_time=datetime.datetime(2013, 1, 8, 12, 22, 30), site_name=2, posa_continent=3, user_location_country=66, user_location_region=352, user_location_city=30279, orig_destination_distance=100.6172, user_id=395688, is_mobile=0, is_package=0, channel=1, srch_adults_cnt=2, srch_children_cnt=0, srch_rm_cnt=1.0),\n",
       " Row(hotel_cluster=42.0, date_time=datetime.datetime(2013, 1, 8, 12, 19, 42), site_name=2, posa_continent=3, user_location_country=66, user_location_region=352, user_location_city=30279, orig_destination_distance=100.6172, user_id=395688, is_mobile=0, is_package=0, channel=1, srch_adults_cnt=2, srch_children_cnt=0, srch_rm_cnt=1.0),\n",
       " Row(hotel_cluster=47.0, date_time=datetime.datetime(2013, 1, 8, 12, 16, 36), site_name=2, posa_continent=3, user_location_country=66, user_location_region=352, user_location_city=30279, orig_destination_distance=363.1423, user_id=395688, is_mobile=0, is_package=0, channel=1, srch_adults_cnt=2, srch_children_cnt=0, srch_rm_cnt=1.0),\n",
       " Row(hotel_cluster=76.0, date_time=datetime.datetime(2013, 1, 8, 12, 15, 28), site_name=2, posa_continent=3, user_location_country=66, user_location_region=352, user_location_city=30279, orig_destination_distance=363.528, user_id=395688, is_mobile=0, is_package=0, channel=1, srch_adults_cnt=2, srch_children_cnt=0, srch_rm_cnt=1.0),\n",
       " Row(hotel_cluster=32.0, date_time=datetime.datetime(2013, 1, 8, 12, 12, 9), site_name=2, posa_continent=3, user_location_country=66, user_location_region=352, user_location_city=30279, orig_destination_distance=362.9488, user_id=395688, is_mobile=0, is_package=0, channel=1, srch_adults_cnt=2, srch_children_cnt=0, srch_rm_cnt=1.0),\n",
       " Row(hotel_cluster=33.0, date_time=datetime.datetime(2013, 1, 29, 18, 19, 13), site_name=2, posa_continent=3, user_location_country=239, user_location_region=359, user_location_city=9876, orig_destination_distance=None, user_id=683717, is_mobile=0, is_package=0, channel=2, srch_adults_cnt=2, srch_children_cnt=0, srch_rm_cnt=1.0),\n",
       " Row(hotel_cluster=5.0, date_time=datetime.datetime(2013, 1, 29, 18, 26, 41), site_name=2, posa_continent=3, user_location_country=239, user_location_region=359, user_location_city=9876, orig_destination_distance=None, user_id=683717, is_mobile=0, is_package=0, channel=2, srch_adults_cnt=2, srch_children_cnt=0, srch_rm_cnt=1.0),\n",
       " Row(hotel_cluster=41.0, date_time=datetime.datetime(2013, 1, 30, 5, 28, 21), site_name=2, posa_continent=3, user_location_country=239, user_location_region=359, user_location_city=9876, orig_destination_distance=None, user_id=683717, is_mobile=0, is_package=0, channel=9, srch_adults_cnt=1, srch_children_cnt=0, srch_rm_cnt=1.0),\n",
       " Row(hotel_cluster=10.0, date_time=datetime.datetime(2013, 1, 30, 5, 36, 47), site_name=2, posa_continent=3, user_location_country=239, user_location_region=359, user_location_city=9876, orig_destination_distance=None, user_id=683717, is_mobile=0, is_package=0, channel=9, srch_adults_cnt=1, srch_children_cnt=0, srch_rm_cnt=1.0),\n",
       " Row(hotel_cluster=41.0, date_time=datetime.datetime(2013, 1, 30, 5, 38, 7), site_name=2, posa_continent=3, user_location_country=239, user_location_region=359, user_location_city=9876, orig_destination_distance=None, user_id=683717, is_mobile=0, is_package=0, channel=9, srch_adults_cnt=1, srch_children_cnt=0, srch_rm_cnt=1.0),\n",
       " Row(hotel_cluster=83.0, date_time=datetime.datetime(2013, 1, 9, 18, 24, 20), site_name=2, posa_continent=3, user_location_country=66, user_location_region=318, user_location_city=876, orig_destination_distance=None, user_id=395265, is_mobile=0, is_package=1, channel=2, srch_adults_cnt=2, srch_children_cnt=1, srch_rm_cnt=1.0),\n",
       " Row(hotel_cluster=58.0, date_time=datetime.datetime(2013, 1, 23, 7, 47, 49), site_name=2, posa_continent=3, user_location_country=166, user_location_region=0, user_location_city=11921, orig_destination_distance=None, user_id=543614, is_mobile=0, is_package=0, channel=1, srch_adults_cnt=1, srch_children_cnt=0, srch_rm_cnt=1.0),\n",
       " Row(hotel_cluster=97.0, date_time=datetime.datetime(2013, 1, 23, 7, 48, 28), site_name=2, posa_continent=3, user_location_country=166, user_location_region=0, user_location_city=11921, orig_destination_distance=None, user_id=543614, is_mobile=0, is_package=0, channel=1, srch_adults_cnt=1, srch_children_cnt=0, srch_rm_cnt=1.0),\n",
       " Row(hotel_cluster=64.0, date_time=datetime.datetime(2013, 1, 29, 7, 48, 43), site_name=37, posa_continent=1, user_location_country=58, user_location_region=50, user_location_city=47668, orig_destination_distance=None, user_id=543633, is_mobile=1, is_package=0, channel=0, srch_adults_cnt=2, srch_children_cnt=0, srch_rm_cnt=1.0),\n",
       " Row(hotel_cluster=18.0, date_time=datetime.datetime(2013, 1, 15, 11, 16, 53), site_name=2, posa_continent=3, user_location_country=66, user_location_region=220, user_location_city=18876, orig_destination_distance=463.0043, user_id=378706, is_mobile=0, is_package=1, channel=9, srch_adults_cnt=1, srch_children_cnt=0, srch_rm_cnt=1.0),\n",
       " Row(hotel_cluster=18.0, date_time=datetime.datetime(2013, 1, 15, 10, 0, 6), site_name=2, posa_continent=3, user_location_country=66, user_location_region=220, user_location_city=18876, orig_destination_distance=463.0043, user_id=378706, is_mobile=0, is_package=1, channel=9, srch_adults_cnt=1, srch_children_cnt=0, srch_rm_cnt=1.0),\n",
       " Row(hotel_cluster=79.0, date_time=datetime.datetime(2013, 1, 20, 11, 33, 32), site_name=37, posa_continent=1, user_location_country=69, user_location_region=675, user_location_city=22539, orig_destination_distance=None, user_id=695160, is_mobile=0, is_package=1, channel=9, srch_adults_cnt=2, srch_children_cnt=0, srch_rm_cnt=1.0),\n",
       " Row(hotel_cluster=88.0, date_time=datetime.datetime(2013, 1, 22, 21, 55, 51), site_name=37, posa_continent=1, user_location_country=69, user_location_region=675, user_location_city=22539, orig_destination_distance=None, user_id=695160, is_mobile=0, is_package=0, channel=9, srch_adults_cnt=2, srch_children_cnt=1, srch_rm_cnt=1.0),\n",
       " Row(hotel_cluster=1.0, date_time=datetime.datetime(2013, 1, 22, 21, 56, 23), site_name=37, posa_continent=1, user_location_country=69, user_location_region=675, user_location_city=22539, orig_destination_distance=None, user_id=695160, is_mobile=0, is_package=0, channel=9, srch_adults_cnt=2, srch_children_cnt=1, srch_rm_cnt=1.0),\n",
       " Row(hotel_cluster=1.0, date_time=datetime.datetime(2013, 1, 22, 21, 57, 33), site_name=37, posa_continent=1, user_location_country=69, user_location_region=675, user_location_city=22539, orig_destination_distance=None, user_id=695160, is_mobile=0, is_package=0, channel=9, srch_adults_cnt=2, srch_children_cnt=1, srch_rm_cnt=1.0),\n",
       " Row(hotel_cluster=95.0, date_time=datetime.datetime(2013, 1, 13, 16, 35, 29), site_name=37, posa_continent=1, user_location_country=69, user_location_region=761, user_location_city=41949, orig_destination_distance=None, user_id=625211, is_mobile=0, is_package=0, channel=4, srch_adults_cnt=2, srch_children_cnt=1, srch_rm_cnt=1.0),\n",
       " Row(hotel_cluster=95.0, date_time=datetime.datetime(2013, 1, 13, 16, 32, 2), site_name=37, posa_continent=1, user_location_country=69, user_location_region=761, user_location_city=41949, orig_destination_distance=None, user_id=625211, is_mobile=0, is_package=0, channel=4, srch_adults_cnt=2, srch_children_cnt=1, srch_rm_cnt=1.0),\n",
       " Row(hotel_cluster=95.0, date_time=datetime.datetime(2013, 1, 13, 16, 27, 2), site_name=37, posa_continent=1, user_location_country=69, user_location_region=761, user_location_city=41949, orig_destination_distance=None, user_id=625211, is_mobile=0, is_package=1, channel=4, srch_adults_cnt=2, srch_children_cnt=1, srch_rm_cnt=1.0),\n",
       " Row(hotel_cluster=13.0, date_time=datetime.datetime(2013, 1, 17, 11, 51, 22), site_name=2, posa_continent=3, user_location_country=66, user_location_region=462, user_location_city=17112, orig_destination_distance=1975.4683, user_id=379838, is_mobile=0, is_package=1, channel=9, srch_adults_cnt=3, srch_children_cnt=0, srch_rm_cnt=1.0),\n",
       " Row(hotel_cluster=95.0, date_time=datetime.datetime(2013, 1, 13, 16, 15, 13), site_name=37, posa_continent=1, user_location_country=69, user_location_region=761, user_location_city=41949, orig_destination_distance=None, user_id=625211, is_mobile=0, is_package=0, channel=4, srch_adults_cnt=2, srch_children_cnt=1, srch_rm_cnt=1.0),\n",
       " Row(hotel_cluster=95.0, date_time=datetime.datetime(2013, 1, 13, 16, 4, 7), site_name=37, posa_continent=1, user_location_country=69, user_location_region=761, user_location_city=41949, orig_destination_distance=None, user_id=625211, is_mobile=0, is_package=1, channel=4, srch_adults_cnt=2, srch_children_cnt=1, srch_rm_cnt=1.0),\n",
       " Row(hotel_cluster=95.0, date_time=datetime.datetime(2013, 1, 13, 15, 58, 41), site_name=37, posa_continent=1, user_location_country=69, user_location_region=761, user_location_city=41949, orig_destination_distance=None, user_id=625211, is_mobile=0, is_package=0, channel=4, srch_adults_cnt=2, srch_children_cnt=1, srch_rm_cnt=1.0),\n",
       " Row(hotel_cluster=9.0, date_time=datetime.datetime(2013, 1, 12, 14, 23, 34), site_name=37, posa_continent=1, user_location_country=69, user_location_region=761, user_location_city=41949, orig_destination_distance=None, user_id=625211, is_mobile=0, is_package=0, channel=3, srch_adults_cnt=2, srch_children_cnt=1, srch_rm_cnt=1.0),\n",
       " Row(hotel_cluster=82.0, date_time=datetime.datetime(2013, 1, 8, 22, 40, 48), site_name=37, posa_continent=1, user_location_country=69, user_location_region=923, user_location_city=54859, orig_destination_distance=None, user_id=625211, is_mobile=0, is_package=1, channel=9, srch_adults_cnt=2, srch_children_cnt=1, srch_rm_cnt=1.0),\n",
       " Row(hotel_cluster=41.0, date_time=datetime.datetime(2013, 1, 8, 22, 17, 55), site_name=37, posa_continent=1, user_location_country=69, user_location_region=923, user_location_city=54859, orig_destination_distance=None, user_id=625211, is_mobile=1, is_package=1, channel=9, srch_adults_cnt=2, srch_children_cnt=1, srch_rm_cnt=1.0),\n",
       " Row(hotel_cluster=22.0, date_time=datetime.datetime(2013, 1, 8, 22, 0, 13), site_name=37, posa_continent=1, user_location_country=69, user_location_region=923, user_location_city=54859, orig_destination_distance=None, user_id=625211, is_mobile=1, is_package=1, channel=9, srch_adults_cnt=2, srch_children_cnt=1, srch_rm_cnt=1.0),\n",
       " Row(hotel_cluster=64.0, date_time=datetime.datetime(2013, 1, 8, 21, 57, 20), site_name=37, posa_continent=1, user_location_country=69, user_location_region=923, user_location_city=54859, orig_destination_distance=None, user_id=625211, is_mobile=1, is_package=1, channel=9, srch_adults_cnt=2, srch_children_cnt=1, srch_rm_cnt=1.0),\n",
       " Row(hotel_cluster=67.0, date_time=datetime.datetime(2013, 1, 8, 21, 43, 30), site_name=37, posa_continent=1, user_location_country=69, user_location_region=923, user_location_city=54859, orig_destination_distance=None, user_id=625211, is_mobile=1, is_package=1, channel=9, srch_adults_cnt=2, srch_children_cnt=1, srch_rm_cnt=1.0),\n",
       " Row(hotel_cluster=46.0, date_time=datetime.datetime(2013, 1, 8, 21, 41, 36), site_name=37, posa_continent=1, user_location_country=69, user_location_region=923, user_location_city=54859, orig_destination_distance=None, user_id=625211, is_mobile=1, is_package=1, channel=9, srch_adults_cnt=2, srch_children_cnt=1, srch_rm_cnt=1.0),\n",
       " Row(hotel_cluster=9.0, date_time=datetime.datetime(2013, 1, 13, 16, 10, 7), site_name=37, posa_continent=1, user_location_country=69, user_location_region=761, user_location_city=41949, orig_destination_distance=None, user_id=625211, is_mobile=0, is_package=0, channel=4, srch_adults_cnt=2, srch_children_cnt=1, srch_rm_cnt=1.0),\n",
       " Row(hotel_cluster=44.0, date_time=datetime.datetime(2013, 1, 8, 21, 33, 43), site_name=37, posa_continent=1, user_location_country=69, user_location_region=923, user_location_city=54859, orig_destination_distance=None, user_id=625211, is_mobile=1, is_package=1, channel=9, srch_adults_cnt=2, srch_children_cnt=1, srch_rm_cnt=1.0),\n",
       " Row(hotel_cluster=91.0, date_time=datetime.datetime(2013, 1, 17, 11, 57, 18), site_name=2, posa_continent=3, user_location_country=66, user_location_region=462, user_location_city=17112, orig_destination_distance=1975.3109, user_id=379838, is_mobile=0, is_package=1, channel=9, srch_adults_cnt=3, srch_children_cnt=0, srch_rm_cnt=1.0),\n",
       " Row(hotel_cluster=0.0, date_time=datetime.datetime(2013, 1, 22, 16, 37, 24), site_name=2, posa_continent=3, user_location_country=23, user_location_region=48, user_location_city=4924, orig_destination_distance=None, user_id=546340, is_mobile=0, is_package=0, channel=9, srch_adults_cnt=2, srch_children_cnt=0, srch_rm_cnt=1.0),\n",
       " Row(hotel_cluster=0.0, date_time=datetime.datetime(2013, 1, 17, 7, 44, 10), site_name=2, posa_continent=3, user_location_country=23, user_location_region=48, user_location_city=4924, orig_destination_distance=None, user_id=546340, is_mobile=0, is_package=0, channel=9, srch_adults_cnt=2, srch_children_cnt=0, srch_rm_cnt=1.0),\n",
       " Row(hotel_cluster=6.0, date_time=datetime.datetime(2013, 1, 17, 9, 25, 59), site_name=2, posa_continent=3, user_location_country=23, user_location_region=48, user_location_city=4924, orig_destination_distance=None, user_id=546340, is_mobile=0, is_package=0, channel=9, srch_adults_cnt=2, srch_children_cnt=0, srch_rm_cnt=1.0),\n",
       " Row(hotel_cluster=96.0, date_time=datetime.datetime(2013, 1, 17, 9, 28, 14), site_name=2, posa_continent=3, user_location_country=23, user_location_region=48, user_location_city=4924, orig_destination_distance=None, user_id=546340, is_mobile=0, is_package=0, channel=9, srch_adults_cnt=2, srch_children_cnt=0, srch_rm_cnt=1.0),\n",
       " Row(hotel_cluster=0.0, date_time=datetime.datetime(2013, 1, 18, 22, 31, 56), site_name=2, posa_continent=3, user_location_country=23, user_location_region=48, user_location_city=4924, orig_destination_distance=None, user_id=546340, is_mobile=0, is_package=0, channel=9, srch_adults_cnt=2, srch_children_cnt=0, srch_rm_cnt=1.0),\n",
       " Row(hotel_cluster=25.0, date_time=datetime.datetime(2013, 1, 18, 23, 13, 27), site_name=2, posa_continent=3, user_location_country=23, user_location_region=48, user_location_city=4924, orig_destination_distance=None, user_id=546340, is_mobile=0, is_package=0, channel=9, srch_adults_cnt=2, srch_children_cnt=0, srch_rm_cnt=1.0),\n",
       " Row(hotel_cluster=80.0, date_time=datetime.datetime(2013, 1, 19, 7, 8, 57), site_name=2, posa_continent=3, user_location_country=23, user_location_region=48, user_location_city=4924, orig_destination_distance=None, user_id=546340, is_mobile=0, is_package=0, channel=9, srch_adults_cnt=2, srch_children_cnt=0, srch_rm_cnt=1.0),\n",
       " Row(hotel_cluster=0.0, date_time=datetime.datetime(2013, 1, 19, 7, 10, 54), site_name=2, posa_continent=3, user_location_country=23, user_location_region=48, user_location_city=4924, orig_destination_distance=None, user_id=546340, is_mobile=0, is_package=0, channel=9, srch_adults_cnt=2, srch_children_cnt=0, srch_rm_cnt=1.0),\n",
       " Row(hotel_cluster=0.0, date_time=datetime.datetime(2013, 1, 21, 7, 33, 7), site_name=2, posa_continent=3, user_location_country=23, user_location_region=48, user_location_city=4924, orig_destination_distance=None, user_id=546340, is_mobile=0, is_package=0, channel=9, srch_adults_cnt=2, srch_children_cnt=1, srch_rm_cnt=1.0),\n",
       " Row(hotel_cluster=83.0, date_time=datetime.datetime(2013, 1, 21, 7, 35, 33), site_name=2, posa_continent=3, user_location_country=23, user_location_region=48, user_location_city=4924, orig_destination_distance=None, user_id=546340, is_mobile=0, is_package=0, channel=9, srch_adults_cnt=2, srch_children_cnt=1, srch_rm_cnt=1.0),\n",
       " Row(hotel_cluster=96.0, date_time=datetime.datetime(2013, 1, 25, 6, 7, 45), site_name=2, posa_continent=3, user_location_country=23, user_location_region=48, user_location_city=4924, orig_destination_distance=None, user_id=546340, is_mobile=0, is_package=0, channel=9, srch_adults_cnt=2, srch_children_cnt=1, srch_rm_cnt=1.0),\n",
       " Row(hotel_cluster=33.0, date_time=datetime.datetime(2013, 1, 21, 7, 36, 2), site_name=2, posa_continent=3, user_location_country=23, user_location_region=48, user_location_city=4924, orig_destination_distance=None, user_id=546340, is_mobile=0, is_package=0, channel=9, srch_adults_cnt=2, srch_children_cnt=1, srch_rm_cnt=1.0),\n",
       " Row(hotel_cluster=48.0, date_time=datetime.datetime(2013, 1, 21, 7, 40, 36), site_name=2, posa_continent=3, user_location_country=23, user_location_region=48, user_location_city=4924, orig_destination_distance=None, user_id=546340, is_mobile=0, is_package=0, channel=9, srch_adults_cnt=2, srch_children_cnt=1, srch_rm_cnt=1.0),\n",
       " Row(hotel_cluster=55.0, date_time=datetime.datetime(2013, 1, 21, 7, 41, 16), site_name=2, posa_continent=3, user_location_country=23, user_location_region=48, user_location_city=4924, orig_destination_distance=None, user_id=546340, is_mobile=0, is_package=0, channel=9, srch_adults_cnt=2, srch_children_cnt=1, srch_rm_cnt=1.0),\n",
       " Row(hotel_cluster=0.0, date_time=datetime.datetime(2013, 1, 22, 7, 23, 21), site_name=2, posa_continent=3, user_location_country=23, user_location_region=48, user_location_city=4924, orig_destination_distance=None, user_id=546340, is_mobile=0, is_package=0, channel=9, srch_adults_cnt=2, srch_children_cnt=0, srch_rm_cnt=1.0),\n",
       " Row(hotel_cluster=56.0, date_time=datetime.datetime(2013, 1, 22, 7, 32, 31), site_name=2, posa_continent=3, user_location_country=23, user_location_region=48, user_location_city=4924, orig_destination_distance=None, user_id=546340, is_mobile=0, is_package=0, channel=9, srch_adults_cnt=2, srch_children_cnt=0, srch_rm_cnt=1.0),\n",
       " Row(hotel_cluster=17.0, date_time=datetime.datetime(2013, 1, 22, 7, 37, 7), site_name=2, posa_continent=3, user_location_country=23, user_location_region=48, user_location_city=4924, orig_destination_distance=None, user_id=546340, is_mobile=0, is_package=0, channel=9, srch_adults_cnt=2, srch_children_cnt=0, srch_rm_cnt=1.0),\n",
       " Row(hotel_cluster=96.0, date_time=datetime.datetime(2013, 1, 22, 7, 40, 48), site_name=2, posa_continent=3, user_location_country=23, user_location_region=48, user_location_city=4924, orig_destination_distance=None, user_id=546340, is_mobile=0, is_package=0, channel=9, srch_adults_cnt=2, srch_children_cnt=1, srch_rm_cnt=1.0),\n",
       " Row(hotel_cluster=0.0, date_time=datetime.datetime(2013, 1, 22, 7, 57, 52), site_name=2, posa_continent=3, user_location_country=23, user_location_region=48, user_location_city=4924, orig_destination_distance=None, user_id=546340, is_mobile=0, is_package=0, channel=9, srch_adults_cnt=2, srch_children_cnt=1, srch_rm_cnt=1.0),\n",
       " Row(hotel_cluster=0.0, date_time=datetime.datetime(2013, 1, 22, 16, 16, 17), site_name=2, posa_continent=3, user_location_country=23, user_location_region=48, user_location_city=4924, orig_destination_distance=None, user_id=546340, is_mobile=0, is_package=0, channel=9, srch_adults_cnt=2, srch_children_cnt=0, srch_rm_cnt=1.0),\n",
       " Row(hotel_cluster=0.0, date_time=datetime.datetime(2013, 1, 22, 16, 18, 56), site_name=2, posa_continent=3, user_location_country=23, user_location_region=48, user_location_city=4924, orig_destination_distance=None, user_id=546340, is_mobile=0, is_package=0, channel=9, srch_adults_cnt=2, srch_children_cnt=0, srch_rm_cnt=1.0),\n",
       " Row(hotel_cluster=40.0, date_time=datetime.datetime(2013, 1, 21, 7, 39, 29), site_name=2, posa_continent=3, user_location_country=23, user_location_region=48, user_location_city=4924, orig_destination_distance=None, user_id=546340, is_mobile=0, is_package=0, channel=9, srch_adults_cnt=2, srch_children_cnt=1, srch_rm_cnt=1.0),\n",
       " Row(hotel_cluster=98.0, date_time=datetime.datetime(2013, 1, 8, 21, 32, 24), site_name=37, posa_continent=1, user_location_country=69, user_location_region=923, user_location_city=54859, orig_destination_distance=None, user_id=625211, is_mobile=1, is_package=1, channel=9, srch_adults_cnt=2, srch_children_cnt=1, srch_rm_cnt=1.0),\n",
       " Row(hotel_cluster=79.0, date_time=datetime.datetime(2013, 1, 22, 22, 5, 33), site_name=37, posa_continent=1, user_location_country=69, user_location_region=675, user_location_city=22539, orig_destination_distance=None, user_id=695160, is_mobile=0, is_package=0, channel=9, srch_adults_cnt=2, srch_children_cnt=1, srch_rm_cnt=1.0),\n",
       " Row(hotel_cluster=1.0, date_time=datetime.datetime(2013, 1, 22, 22, 6, 42), site_name=37, posa_continent=1, user_location_country=69, user_location_region=675, user_location_city=22539, orig_destination_distance=None, user_id=695160, is_mobile=0, is_package=0, channel=9, srch_adults_cnt=2, srch_children_cnt=1, srch_rm_cnt=1.0),\n",
       " Row(hotel_cluster=61.0, date_time=datetime.datetime(2013, 1, 17, 9, 12, 53), site_name=2, posa_continent=3, user_location_country=66, user_location_region=448, user_location_city=24848, orig_destination_distance=8514.9835, user_id=378594, is_mobile=0, is_package=0, channel=2, srch_adults_cnt=2, srch_children_cnt=1, srch_rm_cnt=1.0),\n",
       " Row(hotel_cluster=38.0, date_time=datetime.datetime(2013, 1, 17, 9, 1, 17), site_name=2, posa_continent=3, user_location_country=66, user_location_region=448, user_location_city=24848, orig_destination_distance=8511.1, user_id=378594, is_mobile=0, is_package=0, channel=2, srch_adults_cnt=2, srch_children_cnt=1, srch_rm_cnt=1.0),\n",
       " Row(hotel_cluster=61.0, date_time=datetime.datetime(2013, 1, 17, 8, 37, 53), site_name=2, posa_continent=3, user_location_country=66, user_location_region=448, user_location_city=24848, orig_destination_distance=8522.8039, user_id=378594, is_mobile=0, is_package=0, channel=2, srch_adults_cnt=2, srch_children_cnt=1, srch_rm_cnt=1.0),\n",
       " Row(hotel_cluster=81.0, date_time=datetime.datetime(2013, 1, 17, 8, 34, 58), site_name=2, posa_continent=3, user_location_country=66, user_location_region=448, user_location_city=24848, orig_destination_distance=8512.3167, user_id=378594, is_mobile=0, is_package=0, channel=2, srch_adults_cnt=2, srch_children_cnt=1, srch_rm_cnt=1.0),\n",
       " Row(hotel_cluster=81.0, date_time=datetime.datetime(2013, 1, 17, 8, 29, 26), site_name=2, posa_continent=3, user_location_country=66, user_location_region=448, user_location_city=24848, orig_destination_distance=8513.1787, user_id=378594, is_mobile=0, is_package=0, channel=2, srch_adults_cnt=2, srch_children_cnt=1, srch_rm_cnt=1.0),\n",
       " Row(hotel_cluster=81.0, date_time=datetime.datetime(2013, 1, 17, 8, 26, 19), site_name=2, posa_continent=3, user_location_country=66, user_location_region=448, user_location_city=24848, orig_destination_distance=8513.0307, user_id=378594, is_mobile=0, is_package=0, channel=2, srch_adults_cnt=2, srch_children_cnt=1, srch_rm_cnt=1.0),\n",
       " Row(hotel_cluster=38.0, date_time=datetime.datetime(2013, 1, 17, 8, 13, 38), site_name=2, posa_continent=3, user_location_country=66, user_location_region=448, user_location_city=24848, orig_destination_distance=8511.1, user_id=378594, is_mobile=0, is_package=0, channel=2, srch_adults_cnt=2, srch_children_cnt=1, srch_rm_cnt=1.0),\n",
       " Row(hotel_cluster=47.0, date_time=datetime.datetime(2013, 1, 10, 18, 46, 43), site_name=2, posa_continent=3, user_location_country=66, user_location_region=442, user_location_city=46296, orig_destination_distance=221.2668, user_id=378081, is_mobile=0, is_package=0, channel=9, srch_adults_cnt=2, srch_children_cnt=0, srch_rm_cnt=1.0),\n",
       " Row(hotel_cluster=77.0, date_time=datetime.datetime(2013, 1, 10, 18, 34, 41), site_name=2, posa_continent=3, user_location_country=66, user_location_region=442, user_location_city=46296, orig_destination_distance=222.646, user_id=378081, is_mobile=0, is_package=0, channel=9, srch_adults_cnt=2, srch_children_cnt=0, srch_rm_cnt=1.0),\n",
       " Row(hotel_cluster=20.0, date_time=datetime.datetime(2013, 1, 17, 9, 15, 35), site_name=2, posa_continent=3, user_location_country=66, user_location_region=448, user_location_city=24848, orig_destination_distance=8511.9455, user_id=378594, is_mobile=0, is_package=0, channel=2, srch_adults_cnt=2, srch_children_cnt=1, srch_rm_cnt=1.0),\n",
       " Row(hotel_cluster=62.0, date_time=datetime.datetime(2013, 1, 11, 11, 50, 20), site_name=2, posa_continent=3, user_location_country=66, user_location_region=348, user_location_city=5656, orig_destination_distance=None, user_id=624529, is_mobile=1, is_package=0, channel=2, srch_adults_cnt=2, srch_children_cnt=0, srch_rm_cnt=1.0),\n",
       " Row(hotel_cluster=61.0, date_time=datetime.datetime(2013, 1, 11, 11, 38, 36), site_name=2, posa_continent=3, user_location_country=66, user_location_region=348, user_location_city=5656, orig_destination_distance=None, user_id=624529, is_mobile=1, is_package=0, channel=2, srch_adults_cnt=2, srch_children_cnt=0, srch_rm_cnt=1.0),\n",
       " Row(hotel_cluster=39.0, date_time=datetime.datetime(2013, 1, 10, 18, 34, 13), site_name=2, posa_continent=3, user_location_country=66, user_location_region=442, user_location_city=46296, orig_destination_distance=223.0308, user_id=378081, is_mobile=0, is_package=0, channel=9, srch_adults_cnt=2, srch_children_cnt=0, srch_rm_cnt=1.0),\n",
       " Row(hotel_cluster=39.0, date_time=datetime.datetime(2013, 1, 10, 18, 33, 56), site_name=2, posa_continent=3, user_location_country=66, user_location_region=442, user_location_city=46296, orig_destination_distance=222.4981, user_id=378081, is_mobile=0, is_package=0, channel=9, srch_adults_cnt=2, srch_children_cnt=0, srch_rm_cnt=1.0),\n",
       " Row(hotel_cluster=47.0, date_time=datetime.datetime(2013, 1, 10, 18, 29, 53), site_name=2, posa_continent=3, user_location_country=66, user_location_region=442, user_location_city=46296, orig_destination_distance=221.2668, user_id=378081, is_mobile=0, is_package=0, channel=9, srch_adults_cnt=2, srch_children_cnt=0, srch_rm_cnt=1.0),\n",
       " Row(hotel_cluster=48.0, date_time=datetime.datetime(2013, 1, 10, 16, 29, 37), site_name=2, posa_continent=3, user_location_country=66, user_location_region=442, user_location_city=46296, orig_destination_distance=213.2188, user_id=378081, is_mobile=0, is_package=0, channel=1, srch_adults_cnt=2, srch_children_cnt=0, srch_rm_cnt=1.0),\n",
       " Row(hotel_cluster=48.0, date_time=datetime.datetime(2013, 1, 10, 16, 23, 24), site_name=2, posa_continent=3, user_location_country=66, user_location_region=442, user_location_city=46296, orig_destination_distance=208.5642, user_id=378081, is_mobile=0, is_package=0, channel=1, srch_adults_cnt=2, srch_children_cnt=0, srch_rm_cnt=1.0),\n",
       " Row(hotel_cluster=48.0, date_time=datetime.datetime(2013, 1, 10, 16, 18, 43), site_name=2, posa_continent=3, user_location_country=66, user_location_region=442, user_location_city=46296, orig_destination_distance=213.2188, user_id=378081, is_mobile=0, is_package=0, channel=1, srch_adults_cnt=2, srch_children_cnt=0, srch_rm_cnt=1.0),\n",
       " Row(hotel_cluster=77.0, date_time=datetime.datetime(2013, 1, 16, 18, 4, 4), site_name=2, posa_continent=3, user_location_country=66, user_location_region=142, user_location_city=17440, orig_destination_distance=1.5541, user_id=550303, is_mobile=0, is_package=0, channel=3, srch_adults_cnt=2, srch_children_cnt=0, srch_rm_cnt=1.0),\n",
       " Row(hotel_cluster=77.0, date_time=datetime.datetime(2013, 1, 25, 18, 55, 14), site_name=2, posa_continent=3, user_location_country=66, user_location_region=142, user_location_city=17440, orig_destination_distance=1.5541, user_id=550303, is_mobile=0, is_package=0, channel=9, srch_adults_cnt=1, srch_children_cnt=0, srch_rm_cnt=1.0),\n",
       " Row(hotel_cluster=62.0, date_time=datetime.datetime(2013, 1, 11, 11, 41, 15), site_name=2, posa_continent=3, user_location_country=66, user_location_region=348, user_location_city=5656, orig_destination_distance=None, user_id=624529, is_mobile=1, is_package=0, channel=2, srch_adults_cnt=2, srch_children_cnt=0, srch_rm_cnt=1.0),\n",
       " Row(hotel_cluster=38.0, date_time=datetime.datetime(2013, 1, 17, 9, 36, 47), site_name=2, posa_continent=3, user_location_country=66, user_location_region=448, user_location_city=24848, orig_destination_distance=8511.5849, user_id=378594, is_mobile=0, is_package=0, channel=2, srch_adults_cnt=2, srch_children_cnt=1, srch_rm_cnt=1.0),\n",
       " Row(hotel_cluster=81.0, date_time=datetime.datetime(2013, 1, 17, 9, 50, 43), site_name=2, posa_continent=3, user_location_country=66, user_location_region=448, user_location_city=24848, orig_destination_distance=8513.0307, user_id=378594, is_mobile=0, is_package=0, channel=2, srch_adults_cnt=2, srch_children_cnt=1, srch_rm_cnt=1.0),\n",
       " Row(hotel_cluster=11.0, date_time=datetime.datetime(2013, 1, 27, 8, 2, 42), site_name=2, posa_continent=3, user_location_country=66, user_location_region=448, user_location_city=24848, orig_destination_distance=9674.8734, user_id=378594, is_mobile=0, is_package=0, channel=9, srch_adults_cnt=2, srch_children_cnt=1, srch_rm_cnt=1.0),\n",
       " Row(hotel_cluster=79.0, date_time=datetime.datetime(2013, 1, 22, 22, 7, 54), site_name=37, posa_continent=1, user_location_country=69, user_location_region=675, user_location_city=22539, orig_destination_distance=None, user_id=695160, is_mobile=0, is_package=0, channel=9, srch_adults_cnt=2, srch_children_cnt=1, srch_rm_cnt=1.0),\n",
       " Row(hotel_cluster=88.0, date_time=datetime.datetime(2013, 1, 22, 22, 9, 33), site_name=37, posa_continent=1, user_location_country=69, user_location_region=675, user_location_city=22539, orig_destination_distance=None, user_id=695160, is_mobile=0, is_package=0, channel=9, srch_adults_cnt=2, srch_children_cnt=1, srch_rm_cnt=1.0),\n",
       " Row(hotel_cluster=1.0, date_time=datetime.datetime(2013, 1, 22, 22, 11, 11), site_name=37, posa_continent=1, user_location_country=69, user_location_region=675, user_location_city=22539, orig_destination_distance=None, user_id=695160, is_mobile=0, is_package=0, channel=9, srch_adults_cnt=2, srch_children_cnt=1, srch_rm_cnt=1.0),\n",
       " Row(hotel_cluster=45.0, date_time=datetime.datetime(2013, 1, 22, 22, 17, 54), site_name=37, posa_continent=1, user_location_country=69, user_location_region=675, user_location_city=22539, orig_destination_distance=None, user_id=695160, is_mobile=0, is_package=0, channel=9, srch_adults_cnt=2, srch_children_cnt=1, srch_rm_cnt=1.0),\n",
       " Row(hotel_cluster=88.0, date_time=datetime.datetime(2013, 1, 22, 22, 22, 35), site_name=37, posa_continent=1, user_location_country=69, user_location_region=675, user_location_city=22539, orig_destination_distance=None, user_id=695160, is_mobile=0, is_package=0, channel=9, srch_adults_cnt=2, srch_children_cnt=1, srch_rm_cnt=1.0),\n",
       " Row(hotel_cluster=77.0, date_time=datetime.datetime(2013, 1, 10, 6, 43, 5), site_name=2, posa_continent=3, user_location_country=66, user_location_region=467, user_location_city=49420, orig_destination_distance=1049.1748, user_id=546502, is_mobile=0, is_package=0, channel=9, srch_adults_cnt=3, srch_children_cnt=3, srch_rm_cnt=1.0),\n",
       " Row(hotel_cluster=3.0, date_time=datetime.datetime(2013, 1, 10, 6, 44, 15), site_name=2, posa_continent=3, user_location_country=66, user_location_region=467, user_location_city=49420, orig_destination_distance=1053.3379, user_id=546502, is_mobile=0, is_package=0, channel=9, srch_adults_cnt=3, srch_children_cnt=3, srch_rm_cnt=1.0),\n",
       " Row(hotel_cluster=71.0, date_time=datetime.datetime(2013, 1, 10, 6, 44, 58), site_name=2, posa_continent=3, user_location_country=66, user_location_region=467, user_location_city=49420, orig_destination_distance=1053.0214, user_id=546502, is_mobile=0, is_package=0, channel=9, srch_adults_cnt=3, srch_children_cnt=3, srch_rm_cnt=1.0),\n",
       " Row(hotel_cluster=10.0, date_time=datetime.datetime(2013, 1, 10, 6, 48), site_name=2, posa_continent=3, user_location_country=66, user_location_region=467, user_location_city=49420, orig_destination_distance=1049.6384, user_id=546502, is_mobile=0, is_package=0, channel=9, srch_adults_cnt=3, srch_children_cnt=3, srch_rm_cnt=1.0),\n",
       " Row(hotel_cluster=1.0, date_time=datetime.datetime(2013, 1, 22, 22, 23, 28), site_name=37, posa_continent=1, user_location_country=69, user_location_region=675, user_location_city=22539, orig_destination_distance=None, user_id=695160, is_mobile=0, is_package=0, channel=9, srch_adults_cnt=2, srch_children_cnt=1, srch_rm_cnt=1.0),\n",
       " Row(hotel_cluster=46.0, date_time=datetime.datetime(2013, 1, 22, 22, 33, 17), site_name=37, posa_continent=1, user_location_country=69, user_location_region=675, user_location_city=22539, orig_destination_distance=None, user_id=695160, is_mobile=0, is_package=0, channel=9, srch_adults_cnt=2, srch_children_cnt=1, srch_rm_cnt=1.0),\n",
       " Row(hotel_cluster=64.0, date_time=datetime.datetime(2013, 1, 22, 22, 35, 58), site_name=37, posa_continent=1, user_location_country=69, user_location_region=675, user_location_city=22539, orig_destination_distance=None, user_id=695160, is_mobile=0, is_package=0, channel=9, srch_adults_cnt=2, srch_children_cnt=1, srch_rm_cnt=1.0),\n",
       " Row(hotel_cluster=2.0, date_time=datetime.datetime(2013, 1, 22, 22, 36, 49), site_name=37, posa_continent=1, user_location_country=69, user_location_region=675, user_location_city=22539, orig_destination_distance=None, user_id=695160, is_mobile=0, is_package=0, channel=9, srch_adults_cnt=2, srch_children_cnt=1, srch_rm_cnt=1.0),\n",
       " Row(hotel_cluster=89.0, date_time=datetime.datetime(2013, 1, 22, 22, 37, 42), site_name=37, posa_continent=1, user_location_country=69, user_location_region=675, user_location_city=22539, orig_destination_distance=None, user_id=695160, is_mobile=0, is_package=0, channel=9, srch_adults_cnt=2, srch_children_cnt=1, srch_rm_cnt=1.0),\n",
       " Row(hotel_cluster=11.0, date_time=datetime.datetime(2013, 1, 22, 22, 38, 22), site_name=37, posa_continent=1, user_location_country=69, user_location_region=675, user_location_city=22539, orig_destination_distance=None, user_id=695160, is_mobile=0, is_package=0, channel=9, srch_adults_cnt=2, srch_children_cnt=1, srch_rm_cnt=1.0),\n",
       " Row(hotel_cluster=67.0, date_time=datetime.datetime(2013, 1, 22, 22, 42, 22), site_name=37, posa_continent=1, user_location_country=69, user_location_region=675, user_location_city=22539, orig_destination_distance=None, user_id=695160, is_mobile=0, is_package=0, channel=9, srch_adults_cnt=2, srch_children_cnt=1, srch_rm_cnt=1.0),\n",
       " Row(hotel_cluster=82.0, date_time=datetime.datetime(2013, 1, 22, 22, 43, 5), site_name=37, posa_continent=1, user_location_country=69, user_location_region=675, user_location_city=22539, orig_destination_distance=None, user_id=695160, is_mobile=0, is_package=0, channel=9, srch_adults_cnt=2, srch_children_cnt=1, srch_rm_cnt=1.0),\n",
       " Row(hotel_cluster=67.0, date_time=datetime.datetime(2013, 1, 22, 22, 44, 35), site_name=37, posa_continent=1, user_location_country=69, user_location_region=675, user_location_city=22539, orig_destination_distance=None, user_id=695160, is_mobile=0, is_package=0, channel=9, srch_adults_cnt=2, srch_children_cnt=1, srch_rm_cnt=1.0),\n",
       " Row(hotel_cluster=78.0, date_time=datetime.datetime(2013, 1, 27, 21, 47, 9), site_name=37, posa_continent=1, user_location_country=69, user_location_region=675, user_location_city=22539, orig_destination_distance=None, user_id=695160, is_mobile=0, is_package=0, channel=9, srch_adults_cnt=2, srch_children_cnt=0, srch_rm_cnt=1.0),\n",
       " Row(hotel_cluster=78.0, date_time=datetime.datetime(2013, 1, 27, 21, 47, 31), site_name=37, posa_continent=1, user_location_country=69, user_location_region=675, user_location_city=22539, orig_destination_distance=None, user_id=695160, is_mobile=0, is_package=0, channel=9, srch_adults_cnt=2, srch_children_cnt=0, srch_rm_cnt=1.0),\n",
       " Row(hotel_cluster=93.0, date_time=datetime.datetime(2013, 1, 27, 21, 49, 15), site_name=37, posa_continent=1, user_location_country=69, user_location_region=675, user_location_city=22539, orig_destination_distance=None, user_id=695160, is_mobile=0, is_package=0, channel=9, srch_adults_cnt=2, srch_children_cnt=0, srch_rm_cnt=1.0),\n",
       " Row(hotel_cluster=30.0, date_time=datetime.datetime(2013, 1, 17, 7, 43, 35), site_name=2, posa_continent=3, user_location_country=23, user_location_region=48, user_location_city=4924, orig_destination_distance=None, user_id=546340, is_mobile=0, is_package=0, channel=9, srch_adults_cnt=2, srch_children_cnt=0, srch_rm_cnt=1.0),\n",
       " Row(hotel_cluster=96.0, date_time=datetime.datetime(2013, 1, 17, 7, 40, 22), site_name=2, posa_continent=3, user_location_country=23, user_location_region=48, user_location_city=4924, orig_destination_distance=None, user_id=546340, is_mobile=0, is_package=0, channel=9, srch_adults_cnt=2, srch_children_cnt=0, srch_rm_cnt=1.0),\n",
       " Row(hotel_cluster=84.0, date_time=datetime.datetime(2013, 1, 16, 15, 57, 28), site_name=2, posa_continent=3, user_location_country=23, user_location_region=48, user_location_city=4924, orig_destination_distance=None, user_id=546340, is_mobile=0, is_package=0, channel=9, srch_adults_cnt=2, srch_children_cnt=0, srch_rm_cnt=1.0),\n",
       " Row(hotel_cluster=84.0, date_time=datetime.datetime(2013, 1, 16, 15, 55, 28), site_name=2, posa_continent=3, user_location_country=23, user_location_region=48, user_location_city=4924, orig_destination_distance=None, user_id=546340, is_mobile=0, is_package=0, channel=9, srch_adults_cnt=2, srch_children_cnt=0, srch_rm_cnt=1.0),\n",
       " Row(hotel_cluster=89.0, date_time=datetime.datetime(2013, 1, 29, 15, 52, 59), site_name=2, posa_continent=3, user_location_country=66, user_location_region=258, user_location_city=4687, orig_destination_distance=835.7039, user_id=33803, is_mobile=1, is_package=1, channel=0, srch_adults_cnt=2, srch_children_cnt=0, srch_rm_cnt=1.0),\n",
       " Row(hotel_cluster=26.0, date_time=datetime.datetime(2013, 1, 25, 6, 39, 39), site_name=2, posa_continent=3, user_location_country=66, user_location_region=258, user_location_city=4687, orig_destination_distance=1245.3656, user_id=33803, is_mobile=1, is_package=0, channel=9, srch_adults_cnt=2, srch_children_cnt=0, srch_rm_cnt=1.0),\n",
       " Row(hotel_cluster=26.0, date_time=datetime.datetime(2013, 1, 25, 6, 39, 1), site_name=2, posa_continent=3, user_location_country=66, user_location_region=258, user_location_city=4687, orig_destination_distance=1245.3528, user_id=33803, is_mobile=1, is_package=0, channel=9, srch_adults_cnt=2, srch_children_cnt=0, srch_rm_cnt=1.0),\n",
       " Row(hotel_cluster=41.0, date_time=datetime.datetime(2013, 1, 25, 5, 17, 59), site_name=2, posa_continent=3, user_location_country=66, user_location_region=258, user_location_city=4687, orig_destination_distance=836.8361, user_id=33803, is_mobile=1, is_package=0, channel=0, srch_adults_cnt=2, srch_children_cnt=0, srch_rm_cnt=1.0),\n",
       " Row(hotel_cluster=41.0, date_time=datetime.datetime(2013, 1, 21, 18, 7, 32), site_name=2, posa_continent=3, user_location_country=66, user_location_region=258, user_location_city=4687, orig_destination_distance=1758.3899, user_id=33803, is_mobile=1, is_package=0, channel=0, srch_adults_cnt=2, srch_children_cnt=0, srch_rm_cnt=1.0),\n",
       " Row(hotel_cluster=69.0, date_time=datetime.datetime(2013, 1, 21, 18, 1, 17), site_name=2, posa_continent=3, user_location_country=66, user_location_region=258, user_location_city=4687, orig_destination_distance=1758.3857, user_id=33803, is_mobile=1, is_package=0, channel=0, srch_adults_cnt=2, srch_children_cnt=0, srch_rm_cnt=1.0),\n",
       " Row(hotel_cluster=41.0, date_time=datetime.datetime(2013, 1, 21, 17, 54, 1), site_name=2, posa_continent=3, user_location_country=66, user_location_region=258, user_location_city=4687, orig_destination_distance=1758.3899, user_id=33803, is_mobile=1, is_package=0, channel=0, srch_adults_cnt=2, srch_children_cnt=0, srch_rm_cnt=1.0),\n",
       " Row(hotel_cluster=97.0, date_time=datetime.datetime(2013, 1, 21, 17, 53, 21), site_name=2, posa_continent=3, user_location_country=66, user_location_region=258, user_location_city=4687, orig_destination_distance=1757.0122, user_id=33803, is_mobile=1, is_package=0, channel=0, srch_adults_cnt=2, srch_children_cnt=0, srch_rm_cnt=1.0),\n",
       " Row(hotel_cluster=22.0, date_time=datetime.datetime(2013, 1, 21, 17, 52, 12), site_name=2, posa_continent=3, user_location_country=66, user_location_region=258, user_location_city=4687, orig_destination_distance=1758.4585, user_id=33803, is_mobile=1, is_package=0, channel=0, srch_adults_cnt=2, srch_children_cnt=0, srch_rm_cnt=1.0),\n",
       " Row(hotel_cluster=33.0, date_time=datetime.datetime(2013, 1, 19, 7, 10, 14), site_name=2, posa_continent=3, user_location_country=66, user_location_region=256, user_location_city=40547, orig_destination_distance=542.1896, user_id=688094, is_mobile=1, is_package=0, channel=9, srch_adults_cnt=2, srch_children_cnt=2, srch_rm_cnt=1.0),\n",
       " Row(hotel_cluster=18.0, date_time=datetime.datetime(2013, 1, 21, 17, 51, 9), site_name=2, posa_continent=3, user_location_country=66, user_location_region=258, user_location_city=4687, orig_destination_distance=1756.9685, user_id=33803, is_mobile=1, is_package=0, channel=0, srch_adults_cnt=2, srch_children_cnt=0, srch_rm_cnt=1.0),\n",
       " Row(hotel_cluster=70.0, date_time=datetime.datetime(2013, 1, 21, 17, 49, 59), site_name=2, posa_continent=3, user_location_country=66, user_location_region=258, user_location_city=4687, orig_destination_distance=1758.3342, user_id=33803, is_mobile=1, is_package=0, channel=0, srch_adults_cnt=2, srch_children_cnt=0, srch_rm_cnt=1.0),\n",
       " Row(hotel_cluster=69.0, date_time=datetime.datetime(2013, 1, 21, 16, 58, 50), site_name=2, posa_continent=3, user_location_country=66, user_location_region=258, user_location_city=4687, orig_destination_distance=1758.3857, user_id=33803, is_mobile=1, is_package=0, channel=0, srch_adults_cnt=2, srch_children_cnt=0, srch_rm_cnt=1.0),\n",
       " Row(hotel_cluster=41.0, date_time=datetime.datetime(2013, 1, 21, 16, 53, 49), site_name=2, posa_continent=3, user_location_country=66, user_location_region=258, user_location_city=4687, orig_destination_distance=1758.3899, user_id=33803, is_mobile=1, is_package=0, channel=0, srch_adults_cnt=2, srch_children_cnt=0, srch_rm_cnt=1.0),\n",
       " Row(hotel_cluster=97.0, date_time=datetime.datetime(2013, 1, 21, 16, 53, 17), site_name=2, posa_continent=3, user_location_country=66, user_location_region=258, user_location_city=4687, orig_destination_distance=1757.0122, user_id=33803, is_mobile=1, is_package=0, channel=0, srch_adults_cnt=2, srch_children_cnt=0, srch_rm_cnt=1.0),\n",
       " Row(hotel_cluster=95.0, date_time=datetime.datetime(2013, 1, 19, 19, 32, 24), site_name=2, posa_continent=3, user_location_country=66, user_location_region=258, user_location_city=4687, orig_destination_distance=1731.4725, user_id=33803, is_mobile=1, is_package=0, channel=0, srch_adults_cnt=2, srch_children_cnt=0, srch_rm_cnt=1.0),\n",
       " Row(hotel_cluster=96.0, date_time=datetime.datetime(2013, 1, 19, 19, 14, 42), site_name=2, posa_continent=3, user_location_country=66, user_location_region=258, user_location_city=4687, orig_destination_distance=1735.1984, user_id=33803, is_mobile=1, is_package=0, channel=0, srch_adults_cnt=2, srch_children_cnt=0, srch_rm_cnt=1.0),\n",
       " Row(hotel_cluster=69.0, date_time=datetime.datetime(2013, 1, 19, 19, 13, 14), site_name=2, posa_continent=3, user_location_country=66, user_location_region=258, user_location_city=4687, orig_destination_distance=1737.1797, user_id=33803, is_mobile=1, is_package=0, channel=0, srch_adults_cnt=2, srch_children_cnt=0, srch_rm_cnt=1.0),\n",
       " Row(hotel_cluster=41.0, date_time=datetime.datetime(2013, 1, 19, 19, 11, 42), site_name=2, posa_continent=3, user_location_country=66, user_location_region=258, user_location_city=4687, orig_destination_distance=1737.4438, user_id=33803, is_mobile=1, is_package=0, channel=0, srch_adults_cnt=2, srch_children_cnt=0, srch_rm_cnt=1.0),\n",
       " Row(hotel_cluster=33.0, date_time=datetime.datetime(2013, 1, 19, 19, 8, 59), site_name=2, posa_continent=3, user_location_country=66, user_location_region=258, user_location_city=4687, orig_destination_distance=1737.2915, user_id=33803, is_mobile=1, is_package=0, channel=0, srch_adults_cnt=2, srch_children_cnt=0, srch_rm_cnt=1.0),\n",
       " Row(hotel_cluster=91.0, date_time=datetime.datetime(2013, 1, 21, 17, 50, 35), site_name=2, posa_continent=3, user_location_country=66, user_location_region=258, user_location_city=4687, orig_destination_distance=1757.8229999999999, user_id=33803, is_mobile=1, is_package=0, channel=0, srch_adults_cnt=2, srch_children_cnt=0, srch_rm_cnt=1.0),\n",
       " Row(hotel_cluster=37.0, date_time=datetime.datetime(2013, 1, 19, 7, 8, 18), site_name=2, posa_continent=3, user_location_country=66, user_location_region=256, user_location_city=40547, orig_destination_distance=543.3757, user_id=688094, is_mobile=1, is_package=0, channel=9, srch_adults_cnt=2, srch_children_cnt=2, srch_rm_cnt=1.0),\n",
       " Row(hotel_cluster=80.0, date_time=datetime.datetime(2013, 1, 18, 15, 21, 40), site_name=2, posa_continent=3, user_location_country=66, user_location_region=256, user_location_city=40547, orig_destination_distance=511.4908, user_id=688094, is_mobile=1, is_package=0, channel=9, srch_adults_cnt=2, srch_children_cnt=2, srch_rm_cnt=1.0),\n",
       " Row(hotel_cluster=50.0, date_time=datetime.datetime(2013, 1, 18, 15, 12, 3), site_name=2, posa_continent=3, user_location_country=66, user_location_region=256, user_location_city=40547, orig_destination_distance=484.5215, user_id=688094, is_mobile=1, is_package=0, channel=9, srch_adults_cnt=2, srch_children_cnt=2, srch_rm_cnt=1.0),\n",
       " Row(hotel_cluster=8.0, date_time=datetime.datetime(2013, 1, 29, 7, 52, 48), site_name=37, posa_continent=1, user_location_country=58, user_location_region=50, user_location_city=47668, orig_destination_distance=None, user_id=543633, is_mobile=1, is_package=0, channel=0, srch_adults_cnt=2, srch_children_cnt=0, srch_rm_cnt=1.0),\n",
       " Row(hotel_cluster=98.0, date_time=datetime.datetime(2013, 1, 8, 18, 59, 9), site_name=2, posa_continent=3, user_location_country=66, user_location_region=348, user_location_city=22490, orig_destination_distance=None, user_id=687872, is_mobile=0, is_package=1, channel=9, srch_adults_cnt=2, srch_children_cnt=0, srch_rm_cnt=1.0),\n",
       " Row(hotel_cluster=41.0, date_time=datetime.datetime(2013, 1, 8, 18, 59, 15), site_name=2, posa_continent=3, user_location_country=66, user_location_region=348, user_location_city=22490, orig_destination_distance=None, user_id=687872, is_mobile=0, is_package=1, channel=9, srch_adults_cnt=2, srch_children_cnt=0, srch_rm_cnt=1.0),\n",
       " Row(hotel_cluster=19.0, date_time=datetime.datetime(2013, 1, 8, 19, 46, 56), site_name=2, posa_continent=3, user_location_country=66, user_location_region=348, user_location_city=22490, orig_destination_distance=None, user_id=687872, is_mobile=0, is_package=1, channel=9, srch_adults_cnt=2, srch_children_cnt=0, srch_rm_cnt=1.0),\n",
       " Row(hotel_cluster=52.0, date_time=datetime.datetime(2013, 1, 17, 13, 19, 2), site_name=2, posa_continent=3, user_location_country=66, user_location_region=256, user_location_city=40547, orig_destination_distance=1588.0162, user_id=688094, is_mobile=1, is_package=1, channel=0, srch_adults_cnt=2, srch_children_cnt=3, srch_rm_cnt=1.0),\n",
       " Row(hotel_cluster=73.0, date_time=datetime.datetime(2013, 1, 17, 13, 21, 53), site_name=2, posa_continent=3, user_location_country=66, user_location_region=256, user_location_city=40547, orig_destination_distance=1588.5346, user_id=688094, is_mobile=1, is_package=1, channel=0, srch_adults_cnt=2, srch_children_cnt=3, srch_rm_cnt=1.0),\n",
       " Row(hotel_cluster=52.0, date_time=datetime.datetime(2013, 1, 17, 13, 23, 43), site_name=2, posa_continent=3, user_location_country=66, user_location_region=256, user_location_city=40547, orig_destination_distance=1588.3528, user_id=688094, is_mobile=1, is_package=1, channel=0, srch_adults_cnt=2, srch_children_cnt=3, srch_rm_cnt=1.0),\n",
       " Row(hotel_cluster=87.0, date_time=datetime.datetime(2013, 1, 17, 13, 25, 5), site_name=2, posa_continent=3, user_location_country=66, user_location_region=256, user_location_city=40547, orig_destination_distance=1586.7168, user_id=688094, is_mobile=1, is_package=1, channel=0, srch_adults_cnt=2, srch_children_cnt=3, srch_rm_cnt=1.0),\n",
       " Row(hotel_cluster=63.0, date_time=datetime.datetime(2013, 1, 17, 13, 27, 15), site_name=2, posa_continent=3, user_location_country=66, user_location_region=256, user_location_city=40547, orig_destination_distance=1589.7924, user_id=688094, is_mobile=1, is_package=1, channel=0, srch_adults_cnt=2, srch_children_cnt=3, srch_rm_cnt=1.0),\n",
       " Row(hotel_cluster=96.0, date_time=datetime.datetime(2013, 1, 17, 13, 41, 41), site_name=2, posa_continent=3, user_location_country=66, user_location_region=256, user_location_city=40547, orig_destination_distance=2167.6079, user_id=688094, is_mobile=1, is_package=1, channel=0, srch_adults_cnt=2, srch_children_cnt=3, srch_rm_cnt=1.0),\n",
       " Row(hotel_cluster=89.0, date_time=datetime.datetime(2013, 1, 17, 14, 8, 30), site_name=2, posa_continent=3, user_location_country=66, user_location_region=256, user_location_city=40547, orig_destination_distance=3404.0082, user_id=688094, is_mobile=1, is_package=1, channel=0, srch_adults_cnt=2, srch_children_cnt=3, srch_rm_cnt=1.0),\n",
       " Row(hotel_cluster=96.0, date_time=datetime.datetime(2013, 1, 18, 6, 9, 25), site_name=2, posa_continent=3, user_location_country=66, user_location_region=256, user_location_city=40547, orig_destination_distance=2167.6079, user_id=688094, is_mobile=1, is_package=1, channel=9, srch_adults_cnt=2, srch_children_cnt=3, srch_rm_cnt=1.0),\n",
       " Row(hotel_cluster=58.0, date_time=datetime.datetime(2013, 1, 18, 6, 19, 54), site_name=2, posa_continent=3, user_location_country=66, user_location_region=256, user_location_city=40547, orig_destination_distance=2167.6583, user_id=688094, is_mobile=1, is_package=1, channel=9, srch_adults_cnt=2, srch_children_cnt=3, srch_rm_cnt=1.0),\n",
       " Row(hotel_cluster=37.0, date_time=datetime.datetime(2013, 1, 18, 12, 27), site_name=2, posa_continent=3, user_location_country=66, user_location_region=256, user_location_city=40547, orig_destination_distance=696.0955, user_id=688094, is_mobile=1, is_package=1, channel=3, srch_adults_cnt=2, srch_children_cnt=3, srch_rm_cnt=1.0),\n",
       " Row(hotel_cluster=5.0, date_time=datetime.datetime(2013, 1, 18, 12, 30, 25), site_name=2, posa_continent=3, user_location_country=66, user_location_region=256, user_location_city=40547, orig_destination_distance=2205.6391, user_id=688094, is_mobile=1, is_package=1, channel=3, srch_adults_cnt=2, srch_children_cnt=3, srch_rm_cnt=1.0),\n",
       " Row(hotel_cluster=10.0, date_time=datetime.datetime(2013, 1, 18, 12, 33, 37), site_name=2, posa_continent=3, user_location_country=66, user_location_region=256, user_location_city=40547, orig_destination_distance=645.7723, user_id=688094, is_mobile=1, is_package=1, channel=3, srch_adults_cnt=2, srch_children_cnt=3, srch_rm_cnt=1.0),\n",
       " Row(hotel_cluster=37.0, date_time=datetime.datetime(2013, 1, 18, 12, 50, 58), site_name=2, posa_continent=3, user_location_country=66, user_location_region=256, user_location_city=40547, orig_destination_distance=642.4605, user_id=688094, is_mobile=1, is_package=1, channel=3, srch_adults_cnt=2, srch_children_cnt=3, srch_rm_cnt=1.0),\n",
       " Row(hotel_cluster=4.0, date_time=datetime.datetime(2013, 1, 18, 15, 7, 42), site_name=2, posa_continent=3, user_location_country=66, user_location_region=256, user_location_city=40547, orig_destination_distance=463.0063, user_id=688094, is_mobile=1, is_package=0, channel=9, srch_adults_cnt=2, srch_children_cnt=2, srch_rm_cnt=1.0),\n",
       " Row(hotel_cluster=6.0, date_time=datetime.datetime(2013, 1, 18, 15, 9, 16), site_name=2, posa_continent=3, user_location_country=66, user_location_region=256, user_location_city=40547, orig_destination_distance=463.1115, user_id=688094, is_mobile=1, is_package=0, channel=9, srch_adults_cnt=2, srch_children_cnt=2, srch_rm_cnt=1.0),\n",
       " Row(hotel_cluster=69.0, date_time=datetime.datetime(2013, 1, 19, 19, 7, 54), site_name=2, posa_continent=3, user_location_country=66, user_location_region=258, user_location_city=4687, orig_destination_distance=1736.1898, user_id=33803, is_mobile=1, is_package=0, channel=0, srch_adults_cnt=2, srch_children_cnt=0, srch_rm_cnt=1.0),\n",
       " Row(hotel_cluster=46.0, date_time=datetime.datetime(2013, 1, 12, 21, 23, 53), site_name=2, posa_continent=3, user_location_country=66, user_location_region=337, user_location_city=11026, orig_destination_distance=8681.413, user_id=348898, is_mobile=0, is_package=1, channel=9, srch_adults_cnt=2, srch_children_cnt=0, srch_rm_cnt=1.0),\n",
       " Row(hotel_cluster=93.0, date_time=datetime.datetime(2013, 1, 19, 18, 59, 40), site_name=2, posa_continent=3, user_location_country=66, user_location_region=258, user_location_city=4687, orig_destination_distance=1757.47, user_id=33803, is_mobile=1, is_package=0, channel=0, srch_adults_cnt=2, srch_children_cnt=0, srch_rm_cnt=1.0),\n",
       " Row(hotel_cluster=41.0, date_time=datetime.datetime(2013, 1, 19, 18, 56, 47), site_name=2, posa_continent=3, user_location_country=66, user_location_region=258, user_location_city=4687, orig_destination_distance=1758.5428, user_id=33803, is_mobile=1, is_package=0, channel=0, srch_adults_cnt=2, srch_children_cnt=0, srch_rm_cnt=1.0),\n",
       " Row(hotel_cluster=30.0, date_time=datetime.datetime(2013, 1, 7, 11, 57, 46), site_name=11, posa_continent=3, user_location_country=205, user_location_region=354, user_location_city=41949, orig_destination_distance=3852.7676, user_id=692338, is_mobile=0, is_package=0, channel=9, srch_adults_cnt=1, srch_children_cnt=1, srch_rm_cnt=1.0),\n",
       " Row(hotel_cluster=57.0, date_time=datetime.datetime(2013, 1, 15, 12, 35, 17), site_name=11, posa_continent=3, user_location_country=205, user_location_region=354, user_location_city=41949, orig_destination_distance=7787.9635, user_id=692338, is_mobile=0, is_package=0, channel=9, srch_adults_cnt=3, srch_children_cnt=1, srch_rm_cnt=1.0),\n",
       " Row(hotel_cluster=81.0, date_time=datetime.datetime(2013, 1, 15, 12, 39, 23), site_name=11, posa_continent=3, user_location_country=205, user_location_region=354, user_location_city=41949, orig_destination_distance=7789.647, user_id=692338, is_mobile=0, is_package=0, channel=9, srch_adults_cnt=2, srch_children_cnt=1, srch_rm_cnt=1.0),\n",
       " Row(hotel_cluster=58.0, date_time=datetime.datetime(2013, 1, 15, 18, 57, 40), site_name=2, posa_continent=3, user_location_country=80, user_location_region=38, user_location_city=52486, orig_destination_distance=None, user_id=381221, is_mobile=0, is_package=1, channel=2, srch_adults_cnt=1, srch_children_cnt=0, srch_rm_cnt=1.0),\n",
       " Row(hotel_cluster=29.0, date_time=datetime.datetime(2013, 1, 14, 19, 51, 50), site_name=2, posa_continent=3, user_location_country=80, user_location_region=41, user_location_city=22664, orig_destination_distance=None, user_id=381221, is_mobile=0, is_package=1, channel=9, srch_adults_cnt=1, srch_children_cnt=0, srch_rm_cnt=1.0),\n",
       " Row(hotel_cluster=3.0, date_time=datetime.datetime(2013, 1, 20, 16, 7, 36), site_name=37, posa_continent=1, user_location_country=69, user_location_region=917, user_location_city=46289, orig_destination_distance=None, user_id=380933, is_mobile=0, is_package=0, channel=1, srch_adults_cnt=2, srch_children_cnt=1, srch_rm_cnt=1.0),\n",
       " Row(hotel_cluster=3.0, date_time=datetime.datetime(2013, 1, 20, 15, 59, 44), site_name=37, posa_continent=1, user_location_country=69, user_location_region=917, user_location_city=46289, orig_destination_distance=None, user_id=380933, is_mobile=0, is_package=1, channel=1, srch_adults_cnt=2, srch_children_cnt=1, srch_rm_cnt=1.0),\n",
       " Row(hotel_cluster=3.0, date_time=datetime.datetime(2013, 1, 20, 15, 48, 5), site_name=37, posa_continent=1, user_location_country=69, user_location_region=917, user_location_city=46289, orig_destination_distance=None, user_id=380933, is_mobile=0, is_package=0, channel=1, srch_adults_cnt=2, srch_children_cnt=1, srch_rm_cnt=1.0),\n",
       " Row(hotel_cluster=95.0, date_time=datetime.datetime(2013, 1, 19, 12, 35, 2), site_name=2, posa_continent=3, user_location_country=66, user_location_region=311, user_location_city=32302, orig_destination_distance=845.0212, user_id=382381, is_mobile=0, is_package=1, channel=9, srch_adults_cnt=2, srch_children_cnt=0, srch_rm_cnt=1.0),\n",
       " Row(hotel_cluster=3.0, date_time=datetime.datetime(2013, 1, 20, 15, 45, 31), site_name=37, posa_continent=1, user_location_country=69, user_location_region=917, user_location_city=46289, orig_destination_distance=None, user_id=380933, is_mobile=0, is_package=0, channel=1, srch_adults_cnt=2, srch_children_cnt=1, srch_rm_cnt=1.0),\n",
       " Row(hotel_cluster=29.0, date_time=datetime.datetime(2013, 1, 15, 23, 42, 46), site_name=37, posa_continent=1, user_location_country=69, user_location_region=519, user_location_city=41866, orig_destination_distance=None, user_id=379955, is_mobile=0, is_package=0, channel=9, srch_adults_cnt=1, srch_children_cnt=0, srch_rm_cnt=1.0),\n",
       " Row(hotel_cluster=61.0, date_time=datetime.datetime(2013, 1, 15, 23, 41, 28), site_name=37, posa_continent=1, user_location_country=69, user_location_region=519, user_location_city=41866, orig_destination_distance=None, user_id=379955, is_mobile=0, is_package=0, channel=9, srch_adults_cnt=1, srch_children_cnt=0, srch_rm_cnt=1.0),\n",
       " Row(hotel_cluster=61.0, date_time=datetime.datetime(2013, 1, 15, 23, 37, 44), site_name=37, posa_continent=1, user_location_country=69, user_location_region=519, user_location_city=41866, orig_destination_distance=None, user_id=379955, is_mobile=0, is_package=0, channel=9, srch_adults_cnt=1, srch_children_cnt=0, srch_rm_cnt=1.0),\n",
       " Row(hotel_cluster=85.0, date_time=datetime.datetime(2013, 1, 15, 23, 37, 6), site_name=37, posa_continent=1, user_location_country=69, user_location_region=519, user_location_city=41866, orig_destination_distance=None, user_id=379955, is_mobile=0, is_package=0, channel=9, srch_adults_cnt=1, srch_children_cnt=0, srch_rm_cnt=1.0),\n",
       " Row(hotel_cluster=13.0, date_time=datetime.datetime(2013, 1, 17, 12, 14, 20), site_name=2, posa_continent=3, user_location_country=66, user_location_region=462, user_location_city=17112, orig_destination_distance=1975.4683, user_id=379838, is_mobile=0, is_package=1, channel=9, srch_adults_cnt=3, srch_children_cnt=0, srch_rm_cnt=3.0),\n",
       " Row(hotel_cluster=13.0, date_time=datetime.datetime(2013, 1, 17, 12, 1, 54), site_name=2, posa_continent=3, user_location_country=66, user_location_region=462, user_location_city=17112, orig_destination_distance=1975.4683, user_id=379838, is_mobile=0, is_package=1, channel=9, srch_adults_cnt=3, srch_children_cnt=0, srch_rm_cnt=3.0),\n",
       " Row(hotel_cluster=0.0, date_time=datetime.datetime(2013, 1, 16, 15, 27, 34), site_name=2, posa_continent=3, user_location_country=23, user_location_region=48, user_location_city=4924, orig_destination_distance=None, user_id=546340, is_mobile=0, is_package=0, channel=9, srch_adults_cnt=2, srch_children_cnt=0, srch_rm_cnt=1.0),\n",
       " Row(hotel_cluster=33.0, date_time=datetime.datetime(2013, 1, 16, 15, 39, 22), site_name=2, posa_continent=3, user_location_country=23, user_location_region=48, user_location_city=4924, orig_destination_distance=None, user_id=546340, is_mobile=0, is_package=0, channel=9, srch_adults_cnt=2, srch_children_cnt=0, srch_rm_cnt=1.0),\n",
       " Row(hotel_cluster=0.0, date_time=datetime.datetime(2013, 1, 16, 15, 45, 37), site_name=2, posa_continent=3, user_location_country=23, user_location_region=48, user_location_city=4924, orig_destination_distance=None, user_id=546340, is_mobile=0, is_package=0, channel=9, srch_adults_cnt=2, srch_children_cnt=0, srch_rm_cnt=1.0),\n",
       " Row(hotel_cluster=3.0, date_time=datetime.datetime(2013, 1, 20, 15, 27, 23), site_name=37, posa_continent=1, user_location_country=69, user_location_region=917, user_location_city=46289, orig_destination_distance=None, user_id=380933, is_mobile=0, is_package=0, channel=1, srch_adults_cnt=2, srch_children_cnt=1, srch_rm_cnt=1.0),\n",
       " Row(hotel_cluster=16.0, date_time=datetime.datetime(2013, 1, 15, 11, 31, 57), site_name=11, posa_continent=3, user_location_country=205, user_location_region=354, user_location_city=25315, orig_destination_distance=12.5427, user_id=383516, is_mobile=0, is_package=0, channel=0, srch_adults_cnt=1, srch_children_cnt=0, srch_rm_cnt=1.0),\n",
       " Row(hotel_cluster=15.0, date_time=datetime.datetime(2013, 1, 15, 11, 36, 37), site_name=11, posa_continent=3, user_location_country=205, user_location_region=354, user_location_city=25315, orig_destination_distance=11.3102, user_id=383516, is_mobile=0, is_package=0, channel=0, srch_adults_cnt=1, srch_children_cnt=0, srch_rm_cnt=1.0),\n",
       " Row(hotel_cluster=15.0, date_time=datetime.datetime(2013, 1, 15, 11, 49, 59), site_name=11, posa_continent=3, user_location_country=205, user_location_region=354, user_location_city=25315, orig_destination_distance=11.3102, user_id=383516, is_mobile=0, is_package=0, channel=0, srch_adults_cnt=1, srch_children_cnt=0, srch_rm_cnt=1.0),\n",
       " Row(hotel_cluster=41.0, date_time=datetime.datetime(2013, 1, 19, 18, 55, 32), site_name=2, posa_continent=3, user_location_country=66, user_location_region=258, user_location_city=4687, orig_destination_distance=1758.5401, user_id=33803, is_mobile=1, is_package=0, channel=0, srch_adults_cnt=2, srch_children_cnt=0, srch_rm_cnt=1.0),\n",
       " Row(hotel_cluster=97.0, date_time=datetime.datetime(2013, 1, 19, 18, 48, 11), site_name=2, posa_continent=3, user_location_country=66, user_location_region=258, user_location_city=4687, orig_destination_distance=1757.0122, user_id=33803, is_mobile=1, is_package=0, channel=0, srch_adults_cnt=2, srch_children_cnt=0, srch_rm_cnt=1.0),\n",
       " Row(hotel_cluster=41.0, date_time=datetime.datetime(2013, 1, 19, 18, 39, 11), site_name=2, posa_continent=3, user_location_country=66, user_location_region=258, user_location_city=4687, orig_destination_distance=1758.3899, user_id=33803, is_mobile=1, is_package=0, channel=0, srch_adults_cnt=2, srch_children_cnt=0, srch_rm_cnt=1.0),\n",
       " Row(hotel_cluster=70.0, date_time=datetime.datetime(2013, 1, 19, 18, 38, 9), site_name=2, posa_continent=3, user_location_country=66, user_location_region=258, user_location_city=4687, orig_destination_distance=1758.3342, user_id=33803, is_mobile=1, is_package=0, channel=0, srch_adults_cnt=2, srch_children_cnt=0, srch_rm_cnt=1.0),\n",
       " Row(hotel_cluster=69.0, date_time=datetime.datetime(2013, 1, 19, 18, 32, 38), site_name=2, posa_continent=3, user_location_country=66, user_location_region=258, user_location_city=4687, orig_destination_distance=1758.3857, user_id=33803, is_mobile=1, is_package=0, channel=0, srch_adults_cnt=2, srch_children_cnt=0, srch_rm_cnt=1.0),\n",
       " Row(hotel_cluster=97.0, date_time=datetime.datetime(2013, 1, 19, 18, 30, 56), site_name=2, posa_continent=3, user_location_country=66, user_location_region=258, user_location_city=4687, orig_destination_distance=1762.165, user_id=33803, is_mobile=1, is_package=0, channel=0, srch_adults_cnt=2, srch_children_cnt=0, srch_rm_cnt=1.0),\n",
       " Row(hotel_cluster=41.0, date_time=datetime.datetime(2013, 1, 14, 16, 21, 36), site_name=2, posa_continent=3, user_location_country=66, user_location_region=258, user_location_city=4687, orig_destination_distance=1758.3899, user_id=33803, is_mobile=1, is_package=0, channel=0, srch_adults_cnt=2, srch_children_cnt=0, srch_rm_cnt=1.0),\n",
       " Row(hotel_cluster=83.0, date_time=datetime.datetime(2013, 1, 12, 7, 5, 27), site_name=2, posa_continent=3, user_location_country=66, user_location_region=258, user_location_city=4687, orig_destination_distance=834.7273, user_id=33803, is_mobile=0, is_package=0, channel=0, srch_adults_cnt=2, srch_children_cnt=0, srch_rm_cnt=1.0),\n",
       " Row(hotel_cluster=3.0, date_time=datetime.datetime(2013, 1, 7, 11, 55, 5), site_name=2, posa_continent=3, user_location_country=66, user_location_region=258, user_location_city=4687, orig_destination_distance=836.2746, user_id=33803, is_mobile=0, is_package=1, channel=1, srch_adults_cnt=2, srch_children_cnt=0, srch_rm_cnt=1.0),\n",
       " Row(hotel_cluster=91.0, date_time=datetime.datetime(2013, 1, 14, 8, 47, 25), site_name=34, posa_continent=3, user_location_country=205, user_location_region=354, user_location_city=25315, orig_destination_distance=354.7932, user_id=93953, is_mobile=0, is_package=0, channel=9, srch_adults_cnt=2, srch_children_cnt=3, srch_rm_cnt=1.0),\n",
       " Row(hotel_cluster=18.0, date_time=datetime.datetime(2013, 1, 14, 8, 51, 8), site_name=34, posa_continent=3, user_location_country=205, user_location_region=354, user_location_city=25315, orig_destination_distance=351.2426, user_id=93953, is_mobile=0, is_package=0, channel=9, srch_adults_cnt=2, srch_children_cnt=2, srch_rm_cnt=1.0),\n",
       " Row(hotel_cluster=25.0, date_time=datetime.datetime(2013, 1, 14, 13, 52, 26), site_name=34, posa_continent=3, user_location_country=205, user_location_region=354, user_location_city=25315, orig_destination_distance=1119.3808, user_id=93953, is_mobile=0, is_package=0, channel=9, srch_adults_cnt=2, srch_children_cnt=2, srch_rm_cnt=1.0),\n",
       " Row(hotel_cluster=25.0, date_time=datetime.datetime(2013, 1, 14, 13, 52, 44), site_name=34, posa_continent=3, user_location_country=205, user_location_region=354, user_location_city=25315, orig_destination_distance=1119.3808, user_id=93953, is_mobile=0, is_package=0, channel=9, srch_adults_cnt=2, srch_children_cnt=2, srch_rm_cnt=1.0),\n",
       " Row(hotel_cluster=25.0, date_time=datetime.datetime(2013, 1, 14, 13, 53, 6), site_name=34, posa_continent=3, user_location_country=205, user_location_region=354, user_location_city=25315, orig_destination_distance=1119.3808, user_id=93953, is_mobile=0, is_package=0, channel=9, srch_adults_cnt=2, srch_children_cnt=2, srch_rm_cnt=1.0),\n",
       " Row(hotel_cluster=25.0, date_time=datetime.datetime(2013, 1, 14, 13, 53, 34), site_name=34, posa_continent=3, user_location_country=205, user_location_region=354, user_location_city=25315, orig_destination_distance=1119.3808, user_id=93953, is_mobile=0, is_package=0, channel=9, srch_adults_cnt=2, srch_children_cnt=2, srch_rm_cnt=1.0),\n",
       " Row(hotel_cluster=42.0, date_time=datetime.datetime(2013, 1, 17, 10, 58, 48), site_name=2, posa_continent=3, user_location_country=66, user_location_region=356, user_location_city=51379, orig_destination_distance=69.1464, user_id=94390, is_mobile=0, is_package=0, channel=4, srch_adults_cnt=1, srch_children_cnt=0, srch_rm_cnt=1.0),\n",
       " Row(hotel_cluster=94.0, date_time=datetime.datetime(2013, 1, 18, 15, 45, 35), site_name=2, posa_continent=3, user_location_country=66, user_location_region=356, user_location_city=51379, orig_destination_distance=157.8089, user_id=94390, is_mobile=0, is_package=0, channel=9, srch_adults_cnt=1, srch_children_cnt=0, srch_rm_cnt=1.0),\n",
       " Row(hotel_cluster=28.0, date_time=datetime.datetime(2013, 1, 22, 9, 59, 33), site_name=2, posa_continent=3, user_location_country=66, user_location_region=356, user_location_city=51379, orig_destination_distance=866.9958, user_id=94390, is_mobile=0, is_package=1, channel=9, srch_adults_cnt=2, srch_children_cnt=2, srch_rm_cnt=1.0),\n",
       " Row(hotel_cluster=5.0, date_time=datetime.datetime(2013, 1, 22, 16, 27, 5), site_name=2, posa_continent=3, user_location_country=66, user_location_region=356, user_location_city=51379, orig_destination_distance=864.5473, user_id=94390, is_mobile=0, is_package=1, channel=4, srch_adults_cnt=3, srch_children_cnt=2, srch_rm_cnt=1.0),\n",
       " Row(hotel_cluster=15.0, date_time=datetime.datetime(2013, 1, 15, 12, 2, 53), site_name=11, posa_continent=3, user_location_country=205, user_location_region=354, user_location_city=25315, orig_destination_distance=11.3102, user_id=383516, is_mobile=0, is_package=0, channel=0, srch_adults_cnt=1, srch_children_cnt=0, srch_rm_cnt=1.0),\n",
       " Row(hotel_cluster=57.0, date_time=datetime.datetime(2013, 1, 15, 11, 54, 4), site_name=11, posa_continent=3, user_location_country=205, user_location_region=354, user_location_city=25315, orig_destination_distance=7.7177, user_id=383516, is_mobile=0, is_package=0, channel=0, srch_adults_cnt=1, srch_children_cnt=0, srch_rm_cnt=1.0),\n",
       " Row(hotel_cluster=18.0, date_time=datetime.datetime(2013, 1, 19, 18, 58, 19), site_name=2, posa_continent=3, user_location_country=66, user_location_region=258, user_location_city=4687, orig_destination_distance=1756.9685, user_id=33803, is_mobile=1, is_package=0, channel=0, srch_adults_cnt=2, srch_children_cnt=0, srch_rm_cnt=1.0),\n",
       " Row(hotel_cluster=16.0, date_time=datetime.datetime(2013, 1, 29, 10, 39, 13), site_name=2, posa_continent=3, user_location_country=66, user_location_region=153, user_location_city=5929, orig_destination_distance=None, user_id=539304, is_mobile=0, is_package=0, channel=1, srch_adults_cnt=1, srch_children_cnt=0, srch_rm_cnt=1.0),\n",
       " Row(hotel_cluster=21.0, date_time=datetime.datetime(2013, 1, 20, 17, 13, 46), site_name=2, posa_continent=3, user_location_country=66, user_location_region=351, user_location_city=39058, orig_destination_distance=3736.9376, user_id=348689, is_mobile=0, is_package=0, channel=9, srch_adults_cnt=1, srch_children_cnt=1, srch_rm_cnt=1.0),\n",
       " Row(hotel_cluster=18.0, date_time=datetime.datetime(2013, 1, 8, 9, 28, 14), site_name=2, posa_continent=3, user_location_country=66, user_location_region=174, user_location_city=1112, orig_destination_distance=161.5315, user_id=559034, is_mobile=0, is_package=0, channel=9, srch_adults_cnt=2, srch_children_cnt=2, srch_rm_cnt=1.0),\n",
       " Row(hotel_cluster=99.0, date_time=datetime.datetime(2013, 1, 22, 12, 34, 45), site_name=2, posa_continent=3, user_location_country=66, user_location_region=462, user_location_city=52482, orig_destination_distance=5347.3325, user_id=839406, is_mobile=0, is_package=1, channel=9, srch_adults_cnt=2, srch_children_cnt=0, srch_rm_cnt=1.0),\n",
       " Row(hotel_cluster=99.0, date_time=datetime.datetime(2013, 1, 22, 12, 23, 4), site_name=2, posa_continent=3, user_location_country=66, user_location_region=462, user_location_city=52482, orig_destination_distance=5404.2689, user_id=839406, is_mobile=0, is_package=1, channel=9, srch_adults_cnt=2, srch_children_cnt=0, srch_rm_cnt=1.0),\n",
       " Row(hotel_cluster=62.0, date_time=datetime.datetime(2013, 1, 22, 12, 10, 36), site_name=2, posa_continent=3, user_location_country=66, user_location_region=462, user_location_city=52482, orig_destination_distance=5404.4664, user_id=839406, is_mobile=0, is_package=1, channel=9, srch_adults_cnt=2, srch_children_cnt=0, srch_rm_cnt=1.0),\n",
       " Row(hotel_cluster=61.0, date_time=datetime.datetime(2013, 1, 22, 12, 6, 56), site_name=2, posa_continent=3, user_location_country=66, user_location_region=462, user_location_city=52482, orig_destination_distance=5401.2771, user_id=839406, is_mobile=0, is_package=1, channel=9, srch_adults_cnt=2, srch_children_cnt=0, srch_rm_cnt=1.0),\n",
       " Row(hotel_cluster=43.0, date_time=datetime.datetime(2013, 1, 22, 12, 4, 22), site_name=2, posa_continent=3, user_location_country=66, user_location_region=462, user_location_city=52482, orig_destination_distance=5409.1818, user_id=839406, is_mobile=0, is_package=1, channel=9, srch_adults_cnt=2, srch_children_cnt=0, srch_rm_cnt=1.0),\n",
       " Row(hotel_cluster=8.0, date_time=datetime.datetime(2013, 1, 22, 12, 1, 50), site_name=2, posa_continent=3, user_location_country=66, user_location_region=462, user_location_city=52482, orig_destination_distance=5399.4024, user_id=839406, is_mobile=0, is_package=1, channel=9, srch_adults_cnt=2, srch_children_cnt=0, srch_rm_cnt=1.0),\n",
       " Row(hotel_cluster=67.0, date_time=datetime.datetime(2013, 1, 22, 12, 0, 46), site_name=2, posa_continent=3, user_location_country=66, user_location_region=462, user_location_city=52482, orig_destination_distance=5408.8117, user_id=839406, is_mobile=0, is_package=1, channel=9, srch_adults_cnt=2, srch_children_cnt=0, srch_rm_cnt=1.0),\n",
       " Row(hotel_cluster=78.0, date_time=datetime.datetime(2013, 1, 22, 11, 57, 49), site_name=2, posa_continent=3, user_location_country=66, user_location_region=462, user_location_city=52482, orig_destination_distance=5404.9657, user_id=839406, is_mobile=0, is_package=1, channel=9, srch_adults_cnt=2, srch_children_cnt=0, srch_rm_cnt=1.0),\n",
       " Row(hotel_cluster=43.0, date_time=datetime.datetime(2013, 1, 22, 11, 52, 47), site_name=2, posa_continent=3, user_location_country=66, user_location_region=462, user_location_city=52482, orig_destination_distance=5405.0308, user_id=839406, is_mobile=0, is_package=1, channel=9, srch_adults_cnt=2, srch_children_cnt=0, srch_rm_cnt=1.0),\n",
       " Row(hotel_cluster=22.0, date_time=datetime.datetime(2013, 1, 22, 12, 37, 18), site_name=2, posa_continent=3, user_location_country=66, user_location_region=462, user_location_city=52482, orig_destination_distance=5345.1149, user_id=839406, is_mobile=0, is_package=1, channel=9, srch_adults_cnt=2, srch_children_cnt=0, srch_rm_cnt=1.0),\n",
       " Row(hotel_cluster=67.0, date_time=datetime.datetime(2013, 1, 20, 22, 45, 10), site_name=2, posa_continent=3, user_location_country=66, user_location_region=462, user_location_city=52482, orig_destination_distance=5417.101, user_id=839406, is_mobile=0, is_package=1, channel=9, srch_adults_cnt=2, srch_children_cnt=0, srch_rm_cnt=1.0),\n",
       " Row(hotel_cluster=89.0, date_time=datetime.datetime(2013, 1, 20, 11, 19, 15), site_name=2, posa_continent=3, user_location_country=66, user_location_region=462, user_location_city=52482, orig_destination_distance=4777.4815, user_id=839406, is_mobile=0, is_package=0, channel=3, srch_adults_cnt=1, srch_children_cnt=0, srch_rm_cnt=1.0),\n",
       " Row(hotel_cluster=89.0, date_time=datetime.datetime(2013, 1, 20, 11, 17, 33), site_name=2, posa_continent=3, user_location_country=66, user_location_region=462, user_location_city=52482, orig_destination_distance=4777.4815, user_id=839406, is_mobile=0, is_package=0, channel=3, srch_adults_cnt=1, srch_children_cnt=0, srch_rm_cnt=1.0),\n",
       " Row(hotel_cluster=87.0, date_time=datetime.datetime(2013, 1, 18, 23, 6, 47), site_name=2, posa_continent=3, user_location_country=66, user_location_region=462, user_location_city=52482, orig_destination_distance=2377.0404, user_id=839406, is_mobile=0, is_package=1, channel=9, srch_adults_cnt=2, srch_children_cnt=0, srch_rm_cnt=1.0),\n",
       " Row(hotel_cluster=65.0, date_time=datetime.datetime(2013, 1, 18, 13, 11, 38), site_name=2, posa_continent=3, user_location_country=66, user_location_region=462, user_location_city=52482, orig_destination_distance=2375.0672, user_id=839406, is_mobile=0, is_package=1, channel=9, srch_adults_cnt=2, srch_children_cnt=0, srch_rm_cnt=1.0),\n",
       " Row(hotel_cluster=87.0, date_time=datetime.datetime(2013, 1, 17, 23, 20, 1), site_name=2, posa_continent=3, user_location_country=66, user_location_region=462, user_location_city=52482, orig_destination_distance=2377.0404, user_id=839406, is_mobile=0, is_package=1, channel=3, srch_adults_cnt=2, srch_children_cnt=0, srch_rm_cnt=1.0),\n",
       " Row(hotel_cluster=34.0, date_time=datetime.datetime(2013, 1, 17, 23, 16, 40), site_name=2, posa_continent=3, user_location_country=66, user_location_region=462, user_location_city=52482, orig_destination_distance=2378.1466, user_id=839406, is_mobile=0, is_package=0, channel=3, srch_adults_cnt=2, srch_children_cnt=0, srch_rm_cnt=1.0),\n",
       " Row(hotel_cluster=65.0, date_time=datetime.datetime(2013, 1, 16, 1, 59, 5), site_name=2, posa_continent=3, user_location_country=66, user_location_region=462, user_location_city=52482, orig_destination_distance=2700.0718, user_id=839406, is_mobile=0, is_package=1, channel=9, srch_adults_cnt=2, srch_children_cnt=0, srch_rm_cnt=1.0),\n",
       " Row(hotel_cluster=1.0, date_time=datetime.datetime(2013, 1, 13, 13, 30, 30), site_name=2, posa_continent=3, user_location_country=66, user_location_region=462, user_location_city=52482, orig_destination_distance=873.4571, user_id=839406, is_mobile=0, is_package=1, channel=9, srch_adults_cnt=2, srch_children_cnt=0, srch_rm_cnt=1.0),\n",
       " Row(hotel_cluster=52.0, date_time=datetime.datetime(2013, 1, 13, 2, 38, 27), site_name=2, posa_continent=3, user_location_country=66, user_location_region=462, user_location_city=52482, orig_destination_distance=2703.2323, user_id=839406, is_mobile=0, is_package=1, channel=9, srch_adults_cnt=2, srch_children_cnt=0, srch_rm_cnt=1.0),\n",
       " Row(hotel_cluster=89.0, date_time=datetime.datetime(2013, 1, 20, 11, 24, 59), site_name=2, posa_continent=3, user_location_country=66, user_location_region=462, user_location_city=52482, orig_destination_distance=4777.4815, user_id=839406, is_mobile=0, is_package=0, channel=3, srch_adults_cnt=1, srch_children_cnt=0, srch_rm_cnt=1.0),\n",
       " Row(hotel_cluster=52.0, date_time=datetime.datetime(2013, 1, 13, 2, 21, 2), site_name=2, posa_continent=3, user_location_country=66, user_location_region=462, user_location_city=52482, orig_destination_distance=1840.0852, user_id=839406, is_mobile=0, is_package=1, channel=9, srch_adults_cnt=2, srch_children_cnt=0, srch_rm_cnt=1.0),\n",
       " Row(hotel_cluster=99.0, date_time=datetime.datetime(2013, 1, 22, 12, 52, 2), site_name=2, posa_continent=3, user_location_country=66, user_location_region=462, user_location_city=52482, orig_destination_distance=5340.8848, user_id=839406, is_mobile=0, is_package=1, channel=9, srch_adults_cnt=2, srch_children_cnt=0, srch_rm_cnt=1.0),\n",
       " Row(hotel_cluster=83.0, date_time=datetime.datetime(2013, 1, 27, 20, 33, 42), site_name=2, posa_continent=3, user_location_country=66, user_location_region=462, user_location_city=52482, orig_destination_distance=872.9395, user_id=839406, is_mobile=0, is_package=1, channel=3, srch_adults_cnt=2, srch_children_cnt=0, srch_rm_cnt=1.0),\n",
       " Row(hotel_cluster=98.0, date_time=datetime.datetime(2013, 1, 25, 7, 0, 28), site_name=2, posa_continent=3, user_location_country=66, user_location_region=337, user_location_city=39642, orig_destination_distance=1155.3010000000002, user_id=875171, is_mobile=0, is_package=0, channel=9, srch_adults_cnt=2, srch_children_cnt=0, srch_rm_cnt=1.0),\n",
       " Row(hotel_cluster=98.0, date_time=datetime.datetime(2013, 1, 25, 7, 5, 27), site_name=2, posa_continent=3, user_location_country=66, user_location_region=337, user_location_city=39642, orig_destination_distance=1155.3010000000002, user_id=875171, is_mobile=0, is_package=1, channel=9, srch_adults_cnt=2, srch_children_cnt=0, srch_rm_cnt=1.0),\n",
       " Row(hotel_cluster=98.0, date_time=datetime.datetime(2013, 1, 25, 7, 59, 45), site_name=2, posa_continent=3, user_location_country=66, user_location_region=337, user_location_city=39642, orig_destination_distance=1155.3010000000002, user_id=875171, is_mobile=0, is_package=1, channel=9, srch_adults_cnt=2, srch_children_cnt=0, srch_rm_cnt=1.0),\n",
       " Row(hotel_cluster=59.0, date_time=datetime.datetime(2013, 1, 20, 17, 0), site_name=37, posa_continent=1, user_location_country=69, user_location_region=664, user_location_city=42344, orig_destination_distance=None, user_id=754103, is_mobile=0, is_package=1, channel=1, srch_adults_cnt=2, srch_children_cnt=0, srch_rm_cnt=1.0),\n",
       " Row(hotel_cluster=89.0, date_time=datetime.datetime(2013, 1, 22, 10, 22, 35), site_name=2, posa_continent=3, user_location_country=66, user_location_region=348, user_location_city=47997, orig_destination_distance=1545.9911, user_id=754371, is_mobile=0, is_package=1, channel=1, srch_adults_cnt=2, srch_children_cnt=2, srch_rm_cnt=1.0),\n",
       " Row(hotel_cluster=65.0, date_time=datetime.datetime(2013, 1, 23, 7, 36, 13), site_name=2, posa_continent=3, user_location_country=66, user_location_region=348, user_location_city=47997, orig_destination_distance=1690.6022, user_id=754371, is_mobile=0, is_package=1, channel=1, srch_adults_cnt=2, srch_children_cnt=2, srch_rm_cnt=1.0),\n",
       " Row(hotel_cluster=31.0, date_time=datetime.datetime(2013, 1, 23, 7, 57, 27), site_name=2, posa_continent=3, user_location_country=66, user_location_region=348, user_location_city=47997, orig_destination_distance=1694.6501, user_id=754371, is_mobile=0, is_package=1, channel=1, srch_adults_cnt=2, srch_children_cnt=2, srch_rm_cnt=1.0),\n",
       " Row(hotel_cluster=0.0, date_time=datetime.datetime(2013, 1, 17, 18, 36, 23), site_name=2, posa_continent=3, user_location_country=66, user_location_region=174, user_location_city=5941, orig_destination_distance=84.6746, user_id=115787, is_mobile=0, is_package=0, channel=1, srch_adults_cnt=2, srch_children_cnt=0, srch_rm_cnt=1.0),\n",
       " Row(hotel_cluster=1.0, date_time=datetime.datetime(2013, 1, 27, 22, 50, 12), site_name=2, posa_continent=3, user_location_country=66, user_location_region=462, user_location_city=52482, orig_destination_distance=873.4571, user_id=839406, is_mobile=0, is_package=1, channel=3, srch_adults_cnt=2, srch_children_cnt=0, srch_rm_cnt=1.0),\n",
       " Row(hotel_cluster=65.0, date_time=datetime.datetime(2013, 1, 27, 19, 50, 54), site_name=2, posa_continent=3, user_location_country=66, user_location_region=462, user_location_city=52482, orig_destination_distance=2375.0672, user_id=839406, is_mobile=0, is_package=0, channel=3, srch_adults_cnt=2, srch_children_cnt=0, srch_rm_cnt=1.0),\n",
       " Row(hotel_cluster=1.0, date_time=datetime.datetime(2013, 1, 27, 22, 34, 34), site_name=2, posa_continent=3, user_location_country=66, user_location_region=462, user_location_city=52482, orig_destination_distance=873.4571, user_id=839406, is_mobile=0, is_package=1, channel=3, srch_adults_cnt=2, srch_children_cnt=0, srch_rm_cnt=1.0),\n",
       " Row(hotel_cluster=1.0, date_time=datetime.datetime(2013, 1, 27, 22, 14, 13), site_name=2, posa_continent=3, user_location_country=66, user_location_region=462, user_location_city=52482, orig_destination_distance=873.4571, user_id=839406, is_mobile=0, is_package=0, channel=3, srch_adults_cnt=2, srch_children_cnt=0, srch_rm_cnt=1.0),\n",
       " Row(hotel_cluster=1.0, date_time=datetime.datetime(2013, 1, 27, 21, 31, 26), site_name=2, posa_continent=3, user_location_country=66, user_location_region=462, user_location_city=52482, orig_destination_distance=873.4571, user_id=839406, is_mobile=0, is_package=1, channel=3, srch_adults_cnt=2, srch_children_cnt=0, srch_rm_cnt=1.0),\n",
       " Row(hotel_cluster=45.0, date_time=datetime.datetime(2013, 1, 27, 21, 28, 33), site_name=2, posa_continent=3, user_location_country=66, user_location_region=462, user_location_city=52482, orig_destination_distance=872.1348, user_id=839406, is_mobile=0, is_package=0, channel=3, srch_adults_cnt=2, srch_children_cnt=0, srch_rm_cnt=1.0),\n",
       " Row(hotel_cluster=45.0, date_time=datetime.datetime(2013, 1, 27, 21, 28, 17), site_name=2, posa_continent=3, user_location_country=66, user_location_region=462, user_location_city=52482, orig_destination_distance=872.1348, user_id=839406, is_mobile=0, is_package=0, channel=3, srch_adults_cnt=2, srch_children_cnt=0, srch_rm_cnt=1.0),\n",
       " Row(hotel_cluster=45.0, date_time=datetime.datetime(2013, 1, 27, 21, 16, 3), site_name=2, posa_continent=3, user_location_country=66, user_location_region=462, user_location_city=52482, orig_destination_distance=872.1348, user_id=839406, is_mobile=0, is_package=0, channel=3, srch_adults_cnt=2, srch_children_cnt=1, srch_rm_cnt=1.0),\n",
       " Row(hotel_cluster=54.0, date_time=datetime.datetime(2013, 1, 27, 21, 5, 44), site_name=2, posa_continent=3, user_location_country=66, user_location_region=462, user_location_city=52482, orig_destination_distance=873.4882, user_id=839406, is_mobile=0, is_package=0, channel=3, srch_adults_cnt=2, srch_children_cnt=1, srch_rm_cnt=1.0),\n",
       " Row(hotel_cluster=1.0, date_time=datetime.datetime(2013, 1, 27, 21, 3), site_name=2, posa_continent=3, user_location_country=66, user_location_region=462, user_location_city=52482, orig_destination_distance=873.3218, user_id=839406, is_mobile=0, is_package=0, channel=3, srch_adults_cnt=2, srch_children_cnt=1, srch_rm_cnt=1.0),\n",
       " Row(hotel_cluster=1.0, date_time=datetime.datetime(2013, 1, 27, 21, 1, 32), site_name=2, posa_continent=3, user_location_country=66, user_location_region=462, user_location_city=52482, orig_destination_distance=873.4571, user_id=839406, is_mobile=0, is_package=0, channel=3, srch_adults_cnt=2, srch_children_cnt=1, srch_rm_cnt=1.0),\n",
       " Row(hotel_cluster=71.0, date_time=datetime.datetime(2013, 1, 27, 20, 46, 11), site_name=2, posa_continent=3, user_location_country=66, user_location_region=462, user_location_city=52482, orig_destination_distance=873.1046, user_id=839406, is_mobile=0, is_package=1, channel=3, srch_adults_cnt=2, srch_children_cnt=0, srch_rm_cnt=1.0),\n",
       " Row(hotel_cluster=45.0, date_time=datetime.datetime(2013, 1, 27, 22, 24, 16), site_name=2, posa_continent=3, user_location_country=66, user_location_region=462, user_location_city=52482, orig_destination_distance=872.1348, user_id=839406, is_mobile=0, is_package=0, channel=3, srch_adults_cnt=2, srch_children_cnt=0, srch_rm_cnt=1.0),\n",
       " Row(hotel_cluster=65.0, date_time=datetime.datetime(2013, 1, 11, 2, 40, 41), site_name=2, posa_continent=3, user_location_country=66, user_location_region=462, user_location_city=52482, orig_destination_distance=2703.2746, user_id=839406, is_mobile=0, is_package=1, channel=9, srch_adults_cnt=2, srch_children_cnt=0, srch_rm_cnt=1.0),\n",
       " Row(hotel_cluster=66.0, date_time=datetime.datetime(2013, 1, 11, 2, 35, 26), site_name=2, posa_continent=3, user_location_country=66, user_location_region=462, user_location_city=52482, orig_destination_distance=2702.4179999999997, user_id=839406, is_mobile=0, is_package=1, channel=9, srch_adults_cnt=2, srch_children_cnt=0, srch_rm_cnt=1.0),\n",
       " Row(hotel_cluster=52.0, date_time=datetime.datetime(2013, 1, 10, 14, 17, 52), site_name=2, posa_continent=3, user_location_country=66, user_location_region=462, user_location_city=52482, orig_destination_distance=2703.2323, user_id=839406, is_mobile=0, is_package=1, channel=9, srch_adults_cnt=2, srch_children_cnt=0, srch_rm_cnt=1.0),\n",
       " Row(hotel_cluster=25.0, date_time=datetime.datetime(2013, 1, 9, 22, 42, 8), site_name=2, posa_continent=3, user_location_country=66, user_location_region=462, user_location_city=52482, orig_destination_distance=2703.5175, user_id=839406, is_mobile=0, is_package=1, channel=3, srch_adults_cnt=2, srch_children_cnt=0, srch_rm_cnt=1.0),\n",
       " Row(hotel_cluster=65.0, date_time=datetime.datetime(2013, 1, 9, 3, 8, 46), site_name=2, posa_continent=3, user_location_country=66, user_location_region=462, user_location_city=52482, orig_destination_distance=2702.0083, user_id=839406, is_mobile=0, is_package=1, channel=9, srch_adults_cnt=2, srch_children_cnt=0, srch_rm_cnt=1.0),\n",
       " Row(hotel_cluster=56.0, date_time=datetime.datetime(2013, 1, 20, 11, 21), site_name=37, posa_continent=1, user_location_country=69, user_location_region=555, user_location_city=538, orig_destination_distance=None, user_id=115844, is_mobile=0, is_package=1, channel=9, srch_adults_cnt=2, srch_children_cnt=0, srch_rm_cnt=1.0),\n",
       " Row(hotel_cluster=50.0, date_time=datetime.datetime(2013, 1, 13, 7, 15, 10), site_name=34, posa_continent=3, user_location_country=205, user_location_region=354, user_location_city=1873, orig_destination_distance=None, user_id=570549, is_mobile=0, is_package=1, channel=9, srch_adults_cnt=2, srch_children_cnt=0, srch_rm_cnt=1.0),\n",
       " Row(hotel_cluster=79.0, date_time=datetime.datetime(2013, 1, 13, 7, 20, 28), site_name=34, posa_continent=3, user_location_country=205, user_location_region=354, user_location_city=1873, orig_destination_distance=None, user_id=570549, is_mobile=0, is_package=1, channel=9, srch_adults_cnt=2, srch_children_cnt=0, srch_rm_cnt=1.0),\n",
       " Row(hotel_cluster=79.0, date_time=datetime.datetime(2013, 1, 13, 7, 26, 32), site_name=34, posa_continent=3, user_location_country=205, user_location_region=354, user_location_city=1873, orig_destination_distance=None, user_id=570549, is_mobile=0, is_package=1, channel=9, srch_adults_cnt=3, srch_children_cnt=2, srch_rm_cnt=1.0),\n",
       " Row(hotel_cluster=56.0, date_time=datetime.datetime(2013, 1, 20, 11, 38, 8), site_name=37, posa_continent=1, user_location_country=69, user_location_region=555, user_location_city=538, orig_destination_distance=None, user_id=115844, is_mobile=0, is_package=0, channel=9, srch_adults_cnt=2, srch_children_cnt=0, srch_rm_cnt=1.0),\n",
       " Row(hotel_cluster=65.0, date_time=datetime.datetime(2013, 1, 9, 3, 7, 24), site_name=2, posa_continent=3, user_location_country=66, user_location_region=462, user_location_city=52482, orig_destination_distance=2702.4733, user_id=839406, is_mobile=0, is_package=1, channel=9, srch_adults_cnt=2, srch_children_cnt=0, srch_rm_cnt=1.0),\n",
       " Row(hotel_cluster=73.0, date_time=datetime.datetime(2013, 1, 9, 1, 46, 45), site_name=2, posa_continent=3, user_location_country=66, user_location_region=462, user_location_city=52482, orig_destination_distance=1840.2097, user_id=839406, is_mobile=0, is_package=1, channel=9, srch_adults_cnt=2, srch_children_cnt=0, srch_rm_cnt=1.0),\n",
       " Row(hotel_cluster=65.0, date_time=datetime.datetime(2013, 1, 9, 22, 56, 2), site_name=2, posa_continent=3, user_location_country=66, user_location_region=462, user_location_city=52482, orig_destination_distance=2702.4733, user_id=839406, is_mobile=0, is_package=1, channel=3, srch_adults_cnt=2, srch_children_cnt=0, srch_rm_cnt=1.0),\n",
       " Row(hotel_cluster=99.0, date_time=datetime.datetime(2013, 1, 9, 1, 43, 51), site_name=2, posa_continent=3, user_location_country=66, user_location_region=462, user_location_city=52482, orig_destination_distance=1840.1669, user_id=839406, is_mobile=0, is_package=1, channel=9, srch_adults_cnt=2, srch_children_cnt=0, srch_rm_cnt=1.0),\n",
       " Row(hotel_cluster=26.0, date_time=datetime.datetime(2013, 1, 9, 1, 37, 30), site_name=2, posa_continent=3, user_location_country=66, user_location_region=462, user_location_city=52482, orig_destination_distance=1840.1669, user_id=839406, is_mobile=0, is_package=1, channel=9, srch_adults_cnt=2, srch_children_cnt=0, srch_rm_cnt=1.0),\n",
       " Row(hotel_cluster=52.0, date_time=datetime.datetime(2013, 1, 9, 1, 35, 5), site_name=2, posa_continent=3, user_location_country=66, user_location_region=462, user_location_city=52482, orig_destination_distance=1840.0167, user_id=839406, is_mobile=0, is_package=1, channel=9, srch_adults_cnt=2, srch_children_cnt=0, srch_rm_cnt=1.0),\n",
       " Row(hotel_cluster=98.0, date_time=datetime.datetime(2013, 1, 25, 8, 22, 1), site_name=2, posa_continent=3, user_location_country=66, user_location_region=337, user_location_city=39642, orig_destination_distance=1155.3010000000002, user_id=875171, is_mobile=0, is_package=1, channel=9, srch_adults_cnt=2, srch_children_cnt=0, srch_rm_cnt=1.0),\n",
       " Row(hotel_cluster=1.0, date_time=datetime.datetime(2013, 1, 9, 1, 23, 46), site_name=2, posa_continent=3, user_location_country=66, user_location_region=462, user_location_city=52482, orig_destination_distance=873.4571, user_id=839406, is_mobile=0, is_package=1, channel=9, srch_adults_cnt=2, srch_children_cnt=0, srch_rm_cnt=1.0),\n",
       " Row(hotel_cluster=54.0, date_time=datetime.datetime(2013, 1, 9, 1, 1, 48), site_name=2, posa_continent=3, user_location_country=66, user_location_region=462, user_location_city=52482, orig_destination_distance=873.4882, user_id=839406, is_mobile=0, is_package=1, channel=9, srch_adults_cnt=2, srch_children_cnt=0, srch_rm_cnt=1.0),\n",
       " Row(hotel_cluster=1.0, date_time=datetime.datetime(2013, 1, 9, 0, 46, 45), site_name=2, posa_continent=3, user_location_country=66, user_location_region=462, user_location_city=52482, orig_destination_distance=873.4571, user_id=839406, is_mobile=0, is_package=1, channel=9, srch_adults_cnt=2, srch_children_cnt=0, srch_rm_cnt=1.0),\n",
       " Row(hotel_cluster=1.0, date_time=datetime.datetime(2013, 1, 8, 21, 16, 25), site_name=2, posa_continent=3, user_location_country=66, user_location_region=462, user_location_city=52482, orig_destination_distance=873.3218, user_id=839406, is_mobile=0, is_package=1, channel=9, srch_adults_cnt=2, srch_children_cnt=0, srch_rm_cnt=1.0),\n",
       " Row(hotel_cluster=54.0, date_time=datetime.datetime(2013, 1, 8, 21, 7), site_name=2, posa_continent=3, user_location_country=66, user_location_region=462, user_location_city=52482, orig_destination_distance=873.4882, user_id=839406, is_mobile=0, is_package=1, channel=9, srch_adults_cnt=2, srch_children_cnt=0, srch_rm_cnt=1.0),\n",
       " Row(hotel_cluster=71.0, date_time=datetime.datetime(2013, 1, 8, 3, 22, 9), site_name=2, posa_continent=3, user_location_country=66, user_location_region=462, user_location_city=52482, orig_destination_distance=873.1046, user_id=839406, is_mobile=0, is_package=1, channel=9, srch_adults_cnt=2, srch_children_cnt=0, srch_rm_cnt=1.0),\n",
       " Row(hotel_cluster=52.0, date_time=datetime.datetime(2013, 1, 9, 1, 40, 18), site_name=2, posa_continent=3, user_location_country=66, user_location_region=462, user_location_city=52482, orig_destination_distance=1840.0852, user_id=839406, is_mobile=0, is_package=1, channel=9, srch_adults_cnt=2, srch_children_cnt=0, srch_rm_cnt=1.0),\n",
       " Row(hotel_cluster=65.0, date_time=datetime.datetime(2013, 1, 9, 23, 14, 3), site_name=2, posa_continent=3, user_location_country=66, user_location_region=462, user_location_city=52482, orig_destination_distance=2700.0718, user_id=839406, is_mobile=0, is_package=1, channel=3, srch_adults_cnt=2, srch_children_cnt=0, srch_rm_cnt=1.0),\n",
       " Row(hotel_cluster=98.0, date_time=datetime.datetime(2013, 1, 9, 23, 21, 47), site_name=2, posa_continent=3, user_location_country=66, user_location_region=462, user_location_city=52482, orig_destination_distance=2703.6449, user_id=839406, is_mobile=0, is_package=1, channel=3, srch_adults_cnt=2, srch_children_cnt=0, srch_rm_cnt=1.0),\n",
       " Row(hotel_cluster=25.0, date_time=datetime.datetime(2013, 1, 9, 23, 22, 52), site_name=2, posa_continent=3, user_location_country=66, user_location_region=462, user_location_city=52482, orig_destination_distance=2703.5532, user_id=839406, is_mobile=0, is_package=1, channel=3, srch_adults_cnt=2, srch_children_cnt=0, srch_rm_cnt=1.0),\n",
       " Row(hotel_cluster=52.0, date_time=datetime.datetime(2013, 1, 10, 14, 15, 55), site_name=2, posa_continent=3, user_location_country=66, user_location_region=462, user_location_city=52482, orig_destination_distance=2703.2323, user_id=839406, is_mobile=0, is_package=1, channel=9, srch_adults_cnt=2, srch_children_cnt=0, srch_rm_cnt=1.0),\n",
       " Row(hotel_cluster=37.0, date_time=datetime.datetime(2013, 1, 10, 14, 13, 26), site_name=2, posa_continent=3, user_location_country=66, user_location_region=462, user_location_city=52482, orig_destination_distance=2702.8128, user_id=839406, is_mobile=0, is_package=1, channel=9, srch_adults_cnt=2, srch_children_cnt=0, srch_rm_cnt=1.0),\n",
       " Row(hotel_cluster=52.0, date_time=datetime.datetime(2013, 1, 10, 13, 34, 6), site_name=2, posa_continent=3, user_location_country=66, user_location_region=462, user_location_city=52482, orig_destination_distance=2703.2286, user_id=839406, is_mobile=0, is_package=1, channel=9, srch_adults_cnt=2, srch_children_cnt=0, srch_rm_cnt=1.0),\n",
       " Row(hotel_cluster=53.0, date_time=datetime.datetime(2013, 1, 10, 13, 25, 20), site_name=2, posa_continent=3, user_location_country=66, user_location_region=462, user_location_city=52482, orig_destination_distance=2703.0635, user_id=839406, is_mobile=0, is_package=1, channel=9, srch_adults_cnt=2, srch_children_cnt=0, srch_rm_cnt=1.0),\n",
       " Row(hotel_cluster=90.0, date_time=datetime.datetime(2013, 1, 10, 13, 18, 31), site_name=2, posa_continent=3, user_location_country=66, user_location_region=462, user_location_city=52482, orig_destination_distance=2703.0411, user_id=839406, is_mobile=0, is_package=1, channel=9, srch_adults_cnt=2, srch_children_cnt=0, srch_rm_cnt=1.0),\n",
       " Row(hotel_cluster=65.0, date_time=datetime.datetime(2013, 1, 10, 13, 13, 7), site_name=2, posa_continent=3, user_location_country=66, user_location_region=462, user_location_city=52482, orig_destination_distance=2702.0083, user_id=839406, is_mobile=0, is_package=1, channel=9, srch_adults_cnt=2, srch_children_cnt=0, srch_rm_cnt=1.0),\n",
       " Row(hotel_cluster=52.0, date_time=datetime.datetime(2013, 1, 10, 2, 28, 19), site_name=2, posa_continent=3, user_location_country=66, user_location_region=462, user_location_city=52482, orig_destination_distance=2703.2286, user_id=839406, is_mobile=0, is_package=0, channel=3, srch_adults_cnt=2, srch_children_cnt=0, srch_rm_cnt=1.0),\n",
       " Row(hotel_cluster=52.0, date_time=datetime.datetime(2013, 1, 10, 2, 18, 45), site_name=2, posa_continent=3, user_location_country=66, user_location_region=462, user_location_city=52482, orig_destination_distance=2703.2323, user_id=839406, is_mobile=0, is_package=1, channel=3, srch_adults_cnt=2, srch_children_cnt=0, srch_rm_cnt=1.0),\n",
       " Row(hotel_cluster=52.0, date_time=datetime.datetime(2013, 1, 10, 1, 43, 33), site_name=2, posa_continent=3, user_location_country=66, user_location_region=462, user_location_city=52482, orig_destination_distance=2703.2286, user_id=839406, is_mobile=0, is_package=1, channel=3, srch_adults_cnt=2, srch_children_cnt=0, srch_rm_cnt=1.0),\n",
       " Row(hotel_cluster=65.0, date_time=datetime.datetime(2013, 1, 10, 1, 42, 17), site_name=2, posa_continent=3, user_location_country=66, user_location_region=462, user_location_city=52482, orig_destination_distance=2702.0083, user_id=839406, is_mobile=0, is_package=1, channel=3, srch_adults_cnt=2, srch_children_cnt=0, srch_rm_cnt=1.0),\n",
       " Row(hotel_cluster=25.0, date_time=datetime.datetime(2013, 1, 10, 1, 19, 10), site_name=2, posa_continent=3, user_location_country=66, user_location_region=462, user_location_city=52482, orig_destination_distance=2703.5175, user_id=839406, is_mobile=0, is_package=1, channel=3, srch_adults_cnt=2, srch_children_cnt=0, srch_rm_cnt=1.0),\n",
       " Row(hotel_cluster=52.0, date_time=datetime.datetime(2013, 1, 10, 1, 16, 48), site_name=2, posa_continent=3, user_location_country=66, user_location_region=462, user_location_city=52482, orig_destination_distance=2703.2286, user_id=839406, is_mobile=0, is_package=1, channel=3, srch_adults_cnt=2, srch_children_cnt=0, srch_rm_cnt=1.0),\n",
       " Row(hotel_cluster=65.0, date_time=datetime.datetime(2013, 1, 10, 0, 36, 47), site_name=2, posa_continent=3, user_location_country=66, user_location_region=462, user_location_city=52482, orig_destination_distance=2697.3869, user_id=839406, is_mobile=0, is_package=1, channel=3, srch_adults_cnt=2, srch_children_cnt=0, srch_rm_cnt=1.0),\n",
       " Row(hotel_cluster=52.0, date_time=datetime.datetime(2013, 1, 10, 0, 29, 28), site_name=2, posa_continent=3, user_location_country=66, user_location_region=462, user_location_city=52482, orig_destination_distance=2704.3063, user_id=839406, is_mobile=0, is_package=1, channel=3, srch_adults_cnt=2, srch_children_cnt=0, srch_rm_cnt=1.0),\n",
       " Row(hotel_cluster=65.0, date_time=datetime.datetime(2013, 1, 10, 0, 25, 12), site_name=2, posa_continent=3, user_location_country=66, user_location_region=462, user_location_city=52482, orig_destination_distance=2702.4733, user_id=839406, is_mobile=0, is_package=1, channel=3, srch_adults_cnt=2, srch_children_cnt=0, srch_rm_cnt=1.0),\n",
       " Row(hotel_cluster=22.0, date_time=datetime.datetime(2013, 1, 10, 0, 20, 55), site_name=2, posa_continent=3, user_location_country=66, user_location_region=462, user_location_city=52482, orig_destination_distance=2702.9422, user_id=839406, is_mobile=0, is_package=1, channel=3, srch_adults_cnt=2, srch_children_cnt=0, srch_rm_cnt=1.0),\n",
       " Row(hotel_cluster=52.0, date_time=datetime.datetime(2013, 1, 10, 0, 12, 41), site_name=2, posa_continent=3, user_location_country=66, user_location_region=462, user_location_city=52482, orig_destination_distance=2703.2323, user_id=839406, is_mobile=0, is_package=1, channel=3, srch_adults_cnt=2, srch_children_cnt=0, srch_rm_cnt=1.0),\n",
       " Row(hotel_cluster=34.0, date_time=datetime.datetime(2013, 1, 10, 0, 7, 40), site_name=2, posa_continent=3, user_location_country=66, user_location_region=462, user_location_city=52482, orig_destination_distance=2690.0117, user_id=839406, is_mobile=0, is_package=1, channel=3, srch_adults_cnt=2, srch_children_cnt=0, srch_rm_cnt=1.0),\n",
       " Row(hotel_cluster=0.0, date_time=datetime.datetime(2013, 1, 10, 0, 3, 6), site_name=2, posa_continent=3, user_location_country=66, user_location_region=462, user_location_city=52482, orig_destination_distance=2688.5435, user_id=839406, is_mobile=0, is_package=1, channel=3, srch_adults_cnt=2, srch_children_cnt=0, srch_rm_cnt=1.0),\n",
       " Row(hotel_cluster=65.0, date_time=datetime.datetime(2013, 1, 10, 0, 2, 3), site_name=2, posa_continent=3, user_location_country=66, user_location_region=462, user_location_city=52482, orig_destination_distance=2689.5289, user_id=839406, is_mobile=0, is_package=1, channel=3, srch_adults_cnt=2, srch_children_cnt=0, srch_rm_cnt=1.0),\n",
       " Row(hotel_cluster=66.0, date_time=datetime.datetime(2013, 1, 9, 23, 40, 10), site_name=2, posa_continent=3, user_location_country=66, user_location_region=462, user_location_city=52482, orig_destination_distance=2699.4111, user_id=839406, is_mobile=0, is_package=1, channel=3, srch_adults_cnt=2, srch_children_cnt=0, srch_rm_cnt=1.0),\n",
       " Row(hotel_cluster=98.0, date_time=datetime.datetime(2013, 1, 25, 6, 51, 2), site_name=2, posa_continent=3, user_location_country=66, user_location_region=337, user_location_city=39642, orig_destination_distance=1155.3010000000002, user_id=875171, is_mobile=0, is_package=0, channel=9, srch_adults_cnt=2, srch_children_cnt=0, srch_rm_cnt=1.0),\n",
       " Row(hotel_cluster=88.0, date_time=datetime.datetime(2013, 1, 8, 3, 2, 18), site_name=2, posa_continent=3, user_location_country=66, user_location_region=462, user_location_city=52482, orig_destination_distance=873.1689, user_id=839406, is_mobile=0, is_package=1, channel=9, srch_adults_cnt=2, srch_children_cnt=0, srch_rm_cnt=1.0),\n",
       " Row(hotel_cluster=9.0, date_time=datetime.datetime(2013, 1, 24, 9, 48, 49), site_name=2, posa_continent=3, user_location_country=66, user_location_region=337, user_location_city=39642, orig_destination_distance=1154.9944, user_id=875171, is_mobile=0, is_package=1, channel=9, srch_adults_cnt=2, srch_children_cnt=0, srch_rm_cnt=1.0),\n",
       " Row(hotel_cluster=95.0, date_time=datetime.datetime(2013, 1, 24, 9, 36, 23), site_name=2, posa_continent=3, user_location_country=66, user_location_region=337, user_location_city=39642, orig_destination_distance=1155.3839, user_id=875171, is_mobile=0, is_package=1, channel=9, srch_adults_cnt=2, srch_children_cnt=0, srch_rm_cnt=1.0),\n",
       " Row(hotel_cluster=91.0, date_time=datetime.datetime(2013, 1, 24, 18, 9, 54), site_name=2, posa_continent=3, user_location_country=66, user_location_region=174, user_location_city=37921, orig_destination_distance=65.0959, user_id=614208, is_mobile=0, is_package=0, channel=9, srch_adults_cnt=1, srch_children_cnt=0, srch_rm_cnt=1.0),\n",
       " Row(hotel_cluster=48.0, date_time=datetime.datetime(2013, 1, 17, 13, 22, 56), site_name=2, posa_continent=3, user_location_country=66, user_location_region=174, user_location_city=26232, orig_destination_distance=416.9694, user_id=614208, is_mobile=0, is_package=0, channel=9, srch_adults_cnt=2, srch_children_cnt=2, srch_rm_cnt=1.0),\n",
       " Row(hotel_cluster=48.0, date_time=datetime.datetime(2013, 1, 17, 13, 13, 39), site_name=2, posa_continent=3, user_location_country=66, user_location_region=174, user_location_city=26232, orig_destination_distance=416.9694, user_id=614208, is_mobile=0, is_package=0, channel=9, srch_adults_cnt=1, srch_children_cnt=0, srch_rm_cnt=1.0),\n",
       " Row(hotel_cluster=48.0, date_time=datetime.datetime(2013, 1, 17, 13, 13, 25), site_name=2, posa_continent=3, user_location_country=66, user_location_region=174, user_location_city=26232, orig_destination_distance=417.121, user_id=614208, is_mobile=0, is_package=0, channel=9, srch_adults_cnt=1, srch_children_cnt=0, srch_rm_cnt=1.0),\n",
       " Row(hotel_cluster=48.0, date_time=datetime.datetime(2013, 1, 17, 12, 36, 44), site_name=2, posa_continent=3, user_location_country=66, user_location_region=174, user_location_city=26232, orig_destination_distance=417.121, user_id=614208, is_mobile=0, is_package=0, channel=9, srch_adults_cnt=1, srch_children_cnt=0, srch_rm_cnt=1.0),\n",
       " Row(hotel_cluster=42.0, date_time=datetime.datetime(2013, 1, 17, 12, 30, 34), site_name=2, posa_continent=3, user_location_country=66, user_location_region=174, user_location_city=26232, orig_destination_distance=418.50300000000004, user_id=614208, is_mobile=0, is_package=0, channel=9, srch_adults_cnt=1, srch_children_cnt=0, srch_rm_cnt=1.0),\n",
       " Row(hotel_cluster=48.0, date_time=datetime.datetime(2013, 1, 17, 12, 27, 44), site_name=2, posa_continent=3, user_location_country=66, user_location_region=174, user_location_city=26232, orig_destination_distance=413.126, user_id=614208, is_mobile=0, is_package=0, channel=9, srch_adults_cnt=1, srch_children_cnt=0, srch_rm_cnt=1.0),\n",
       " Row(hotel_cluster=98.0, date_time=datetime.datetime(2013, 1, 7, 18, 25, 25), site_name=11, posa_continent=3, user_location_country=205, user_location_region=385, user_location_city=17606, orig_destination_distance=167.1853, user_id=567677, is_mobile=0, is_package=0, channel=9, srch_adults_cnt=2, srch_children_cnt=0, srch_rm_cnt=1.0),\n",
       " Row(hotel_cluster=99.0, date_time=datetime.datetime(2013, 1, 7, 18, 26, 40), site_name=11, posa_continent=3, user_location_country=205, user_location_region=385, user_location_city=17606, orig_destination_distance=166.6107, user_id=567677, is_mobile=0, is_package=0, channel=9, srch_adults_cnt=2, srch_children_cnt=0, srch_rm_cnt=1.0),\n",
       " Row(hotel_cluster=91.0, date_time=datetime.datetime(2013, 1, 24, 18, 10, 10), site_name=2, posa_continent=3, user_location_country=66, user_location_region=174, user_location_city=37921, orig_destination_distance=65.8832, user_id=614208, is_mobile=0, is_package=0, channel=9, srch_adults_cnt=1, srch_children_cnt=0, srch_rm_cnt=1.0),\n",
       " Row(hotel_cluster=39.0, date_time=datetime.datetime(2013, 1, 17, 12, 25, 18), site_name=2, posa_continent=3, user_location_country=66, user_location_region=174, user_location_city=26232, orig_destination_distance=421.5795, user_id=614208, is_mobile=0, is_package=0, channel=9, srch_adults_cnt=1, srch_children_cnt=0, srch_rm_cnt=1.0),\n",
       " Row(hotel_cluster=48.0, date_time=datetime.datetime(2013, 1, 17, 12, 23, 9), site_name=2, posa_continent=3, user_location_country=66, user_location_region=174, user_location_city=26232, orig_destination_distance=416.9694, user_id=614208, is_mobile=0, is_package=0, channel=9, srch_adults_cnt=1, srch_children_cnt=0, srch_rm_cnt=1.0),\n",
       " Row(hotel_cluster=51.0, date_time=datetime.datetime(2013, 1, 14, 1, 25, 7), site_name=2, posa_continent=3, user_location_country=66, user_location_region=174, user_location_city=26232, orig_destination_distance=5373.5534, user_id=614208, is_mobile=0, is_package=0, channel=1, srch_adults_cnt=1, srch_children_cnt=0, srch_rm_cnt=1.0),\n",
       " Row(hotel_cluster=77.0, date_time=datetime.datetime(2013, 1, 14, 1, 24, 47), site_name=2, posa_continent=3, user_location_country=66, user_location_region=174, user_location_city=26232, orig_destination_distance=5378.5793, user_id=614208, is_mobile=0, is_package=0, channel=1, srch_adults_cnt=1, srch_children_cnt=0, srch_rm_cnt=1.0),\n",
       " Row(hotel_cluster=37.0, date_time=datetime.datetime(2013, 1, 7, 17, 17, 15), site_name=2, posa_continent=3, user_location_country=66, user_location_region=337, user_location_city=14313, orig_destination_distance=384.5034, user_id=568134, is_mobile=0, is_package=0, channel=9, srch_adults_cnt=2, srch_children_cnt=0, srch_rm_cnt=1.0),\n",
       " Row(hotel_cluster=45.0, date_time=datetime.datetime(2013, 1, 16, 10, 57, 11), site_name=11, posa_continent=3, user_location_country=205, user_location_region=135, user_location_city=54664, orig_destination_distance=1209.0419, user_id=317612, is_mobile=0, is_package=1, channel=9, srch_adults_cnt=2, srch_children_cnt=0, srch_rm_cnt=1.0),\n",
       " Row(hotel_cluster=97.0, date_time=datetime.datetime(2013, 1, 15, 23, 19, 38), site_name=2, posa_continent=3, user_location_country=66, user_location_region=174, user_location_city=24103, orig_destination_distance=2558.4126, user_id=317154, is_mobile=0, is_package=1, channel=9, srch_adults_cnt=2, srch_children_cnt=0, srch_rm_cnt=1.0),\n",
       " Row(hotel_cluster=0.0, date_time=datetime.datetime(2013, 1, 15, 23, 14, 16), site_name=2, posa_continent=3, user_location_country=66, user_location_region=174, user_location_city=24103, orig_destination_distance=2558.1186, user_id=317154, is_mobile=0, is_package=1, channel=9, srch_adults_cnt=2, srch_children_cnt=0, srch_rm_cnt=1.0),\n",
       " Row(hotel_cluster=21.0, date_time=datetime.datetime(2013, 1, 15, 23, 12, 59), site_name=2, posa_continent=3, user_location_country=66, user_location_region=174, user_location_city=24103, orig_destination_distance=2558.0997, user_id=317154, is_mobile=0, is_package=1, channel=9, srch_adults_cnt=2, srch_children_cnt=0, srch_rm_cnt=1.0),\n",
       " Row(hotel_cluster=0.0, date_time=datetime.datetime(2013, 1, 15, 23, 11, 5), site_name=2, posa_continent=3, user_location_country=66, user_location_region=174, user_location_city=24103, orig_destination_distance=2558.4384, user_id=317154, is_mobile=0, is_package=1, channel=9, srch_adults_cnt=2, srch_children_cnt=0, srch_rm_cnt=1.0),\n",
       " Row(hotel_cluster=91.0, date_time=datetime.datetime(2013, 1, 17, 12, 24, 4), site_name=2, posa_continent=3, user_location_country=66, user_location_region=174, user_location_city=26232, orig_destination_distance=417.5875, user_id=614208, is_mobile=0, is_package=0, channel=9, srch_adults_cnt=1, srch_children_cnt=0, srch_rm_cnt=1.0),\n",
       " Row(hotel_cluster=70.0, date_time=datetime.datetime(2013, 1, 15, 23, 8, 50), site_name=2, posa_continent=3, user_location_country=66, user_location_region=174, user_location_city=24103, orig_destination_distance=2558.3451, user_id=317154, is_mobile=0, is_package=1, channel=9, srch_adults_cnt=2, srch_children_cnt=0, srch_rm_cnt=1.0),\n",
       " Row(hotel_cluster=48.0, date_time=datetime.datetime(2013, 1, 24, 18, 10, 46), site_name=2, posa_continent=3, user_location_country=66, user_location_region=174, user_location_city=37921, orig_destination_distance=60.8304, user_id=614208, is_mobile=0, is_package=0, channel=9, srch_adults_cnt=1, srch_children_cnt=0, srch_rm_cnt=1.0),\n",
       " Row(hotel_cluster=99.0, date_time=datetime.datetime(2013, 1, 30, 14, 45, 43), site_name=2, posa_continent=3, user_location_country=66, user_location_region=258, user_location_city=1921, orig_destination_distance=663.4316, user_id=750594, is_mobile=0, is_package=1, channel=9, srch_adults_cnt=1, srch_children_cnt=0, srch_rm_cnt=1.0),\n",
       " Row(hotel_cluster=46.0, date_time=datetime.datetime(2013, 1, 28, 8, 56, 24), site_name=2, posa_continent=3, user_location_country=66, user_location_region=143, user_location_city=53117, orig_destination_distance=151.8535, user_id=874886, is_mobile=0, is_package=0, channel=9, srch_adults_cnt=2, srch_children_cnt=0, srch_rm_cnt=1.0),\n",
       " Row(hotel_cluster=84.0, date_time=datetime.datetime(2013, 1, 23, 20, 36, 8), site_name=2, posa_continent=3, user_location_country=66, user_location_region=356, user_location_city=49633, orig_destination_distance=2564.4599, user_id=319112, is_mobile=0, is_package=1, channel=2, srch_adults_cnt=2, srch_children_cnt=0, srch_rm_cnt=1.0),\n",
       " Row(hotel_cluster=91.0, date_time=datetime.datetime(2013, 1, 23, 20, 33, 16), site_name=2, posa_continent=3, user_location_country=66, user_location_region=356, user_location_city=49633, orig_destination_distance=61.2629, user_id=319112, is_mobile=0, is_package=0, channel=2, srch_adults_cnt=2, srch_children_cnt=0, srch_rm_cnt=1.0),\n",
       " Row(hotel_cluster=91.0, date_time=datetime.datetime(2013, 1, 23, 20, 32, 25), site_name=2, posa_continent=3, user_location_country=66, user_location_region=356, user_location_city=49633, orig_destination_distance=61.2629, user_id=319112, is_mobile=0, is_package=0, channel=2, srch_adults_cnt=2, srch_children_cnt=0, srch_rm_cnt=1.0),\n",
       " Row(hotel_cluster=91.0, date_time=datetime.datetime(2013, 1, 23, 20, 32, 8), site_name=2, posa_continent=3, user_location_country=66, user_location_region=356, user_location_city=49633, orig_destination_distance=61.2629, user_id=319112, is_mobile=0, is_package=0, channel=2, srch_adults_cnt=2, srch_children_cnt=0, srch_rm_cnt=1.0),\n",
       " Row(hotel_cluster=91.0, date_time=datetime.datetime(2013, 1, 23, 20, 31, 43), site_name=2, posa_continent=3, user_location_country=66, user_location_region=356, user_location_city=49633, orig_destination_distance=61.2629, user_id=319112, is_mobile=0, is_package=0, channel=2, srch_adults_cnt=2, srch_children_cnt=0, srch_rm_cnt=1.0),\n",
       " Row(hotel_cluster=26.0, date_time=datetime.datetime(2013, 1, 26, 14, 7, 26), site_name=2, posa_continent=3, user_location_country=66, user_location_region=447, user_location_city=25977, orig_destination_distance=1892.7068, user_id=318706, is_mobile=1, is_package=0, channel=0, srch_adults_cnt=2, srch_children_cnt=0, srch_rm_cnt=1.0),\n",
       " Row(hotel_cluster=41.0, date_time=datetime.datetime(2013, 1, 26, 14, 1, 37), site_name=2, posa_continent=3, user_location_country=66, user_location_region=447, user_location_city=25977, orig_destination_distance=1893.6712, user_id=318706, is_mobile=1, is_package=0, channel=0, srch_adults_cnt=2, srch_children_cnt=0, srch_rm_cnt=1.0),\n",
       " Row(hotel_cluster=55.0, date_time=datetime.datetime(2013, 1, 21, 10, 19, 54), site_name=11, posa_continent=3, user_location_country=205, user_location_region=155, user_location_city=53927, orig_destination_distance=86.4253, user_id=750157, is_mobile=0, is_package=0, channel=9, srch_adults_cnt=3, srch_children_cnt=0, srch_rm_cnt=1.0),\n",
       " Row(hotel_cluster=99.0, date_time=datetime.datetime(2013, 1, 30, 14, 55, 23), site_name=2, posa_continent=3, user_location_country=66, user_location_region=258, user_location_city=1921, orig_destination_distance=663.4316, user_id=750594, is_mobile=0, is_package=1, channel=9, srch_adults_cnt=1, srch_children_cnt=0, srch_rm_cnt=1.0),\n",
       " Row(hotel_cluster=6.0, date_time=datetime.datetime(2013, 1, 21, 10, 20, 54), site_name=11, posa_continent=3, user_location_country=205, user_location_region=155, user_location_city=53927, orig_destination_distance=86.5893, user_id=750157, is_mobile=0, is_package=0, channel=9, srch_adults_cnt=3, srch_children_cnt=0, srch_rm_cnt=1.0),\n",
       " Row(hotel_cluster=55.0, date_time=datetime.datetime(2013, 1, 21, 10, 30, 11), site_name=11, posa_continent=3, user_location_country=205, user_location_region=155, user_location_city=53927, orig_destination_distance=86.4253, user_id=750157, is_mobile=0, is_package=0, channel=9, srch_adults_cnt=2, srch_children_cnt=0, srch_rm_cnt=1.0),\n",
       " Row(hotel_cluster=55.0, date_time=datetime.datetime(2013, 1, 7, 12, 17, 19), site_name=2, posa_continent=3, user_location_country=66, user_location_region=220, user_location_city=12647, orig_destination_distance=1048.9515, user_id=614613, is_mobile=0, is_package=1, channel=9, srch_adults_cnt=1, srch_children_cnt=0, srch_rm_cnt=1.0),\n",
       " Row(hotel_cluster=55.0, date_time=datetime.datetime(2013, 1, 7, 12, 1, 50), site_name=2, posa_continent=3, user_location_country=66, user_location_region=220, user_location_city=12647, orig_destination_distance=1048.9515, user_id=614613, is_mobile=0, is_package=1, channel=9, srch_adults_cnt=1, srch_children_cnt=0, srch_rm_cnt=1.0),\n",
       " Row(hotel_cluster=17.0, date_time=datetime.datetime(2013, 1, 7, 11, 57, 26), site_name=2, posa_continent=3, user_location_country=66, user_location_region=220, user_location_city=12647, orig_destination_distance=1048.6319, user_id=614613, is_mobile=0, is_package=1, channel=9, srch_adults_cnt=1, srch_children_cnt=0, srch_rm_cnt=1.0),\n",
       " Row(hotel_cluster=42.0, date_time=datetime.datetime(2013, 1, 30, 9, 9, 45), site_name=2, posa_continent=3, user_location_country=66, user_location_region=258, user_location_city=1921, orig_destination_distance=662.2055, user_id=750594, is_mobile=0, is_package=1, channel=9, srch_adults_cnt=1, srch_children_cnt=0, srch_rm_cnt=1.0),\n",
       " Row(hotel_cluster=48.0, date_time=datetime.datetime(2013, 1, 30, 9, 16, 33), site_name=2, posa_continent=3, user_location_country=66, user_location_region=258, user_location_city=1921, orig_destination_distance=661.6509, user_id=750594, is_mobile=0, is_package=1, channel=9, srch_adults_cnt=1, srch_children_cnt=0, srch_rm_cnt=1.0),\n",
       " Row(hotel_cluster=51.0, date_time=datetime.datetime(2013, 1, 30, 14, 25, 10), site_name=2, posa_continent=3, user_location_country=66, user_location_region=258, user_location_city=1921, orig_destination_distance=663.4633, user_id=750594, is_mobile=0, is_package=1, channel=9, srch_adults_cnt=1, srch_children_cnt=0, srch_rm_cnt=1.0),\n",
       " Row(hotel_cluster=48.0, date_time=datetime.datetime(2013, 1, 30, 14, 35, 44), site_name=2, posa_continent=3, user_location_country=66, user_location_region=258, user_location_city=1921, orig_destination_distance=663.7108, user_id=750594, is_mobile=0, is_package=1, channel=9, srch_adults_cnt=1, srch_children_cnt=0, srch_rm_cnt=1.0),\n",
       " Row(hotel_cluster=77.0, date_time=datetime.datetime(2013, 1, 30, 14, 38, 1), site_name=2, posa_continent=3, user_location_country=66, user_location_region=258, user_location_city=1921, orig_destination_distance=662.2619, user_id=750594, is_mobile=0, is_package=1, channel=9, srch_adults_cnt=1, srch_children_cnt=0, srch_rm_cnt=1.0),\n",
       " Row(hotel_cluster=55.0, date_time=datetime.datetime(2013, 1, 21, 10, 26, 11), site_name=11, posa_continent=3, user_location_country=205, user_location_region=155, user_location_city=53927, orig_destination_distance=86.4253, user_id=750157, is_mobile=0, is_package=0, channel=9, srch_adults_cnt=2, srch_children_cnt=0, srch_rm_cnt=1.0),\n",
       " Row(hotel_cluster=10.0, date_time=datetime.datetime(2013, 1, 14, 8, 5, 43), site_name=2, posa_continent=3, user_location_country=66, user_location_region=442, user_location_city=47956, orig_destination_distance=1088.5966, user_id=614194, is_mobile=0, is_package=1, channel=9, srch_adults_cnt=1, srch_children_cnt=0, srch_rm_cnt=1.0),\n",
       " Row(hotel_cluster=25.0, date_time=datetime.datetime(2013, 1, 14, 7, 37, 53), site_name=2, posa_continent=3, user_location_country=66, user_location_region=442, user_location_city=47956, orig_destination_distance=1058.9364, user_id=614194, is_mobile=0, is_package=1, channel=9, srch_adults_cnt=1, srch_children_cnt=0, srch_rm_cnt=1.0),\n",
       " Row(hotel_cluster=91.0, date_time=datetime.datetime(2013, 1, 14, 7, 32, 47), site_name=2, posa_continent=3, user_location_country=66, user_location_region=442, user_location_city=47956, orig_destination_distance=1058.9939, user_id=614194, is_mobile=0, is_package=1, channel=9, srch_adults_cnt=1, srch_children_cnt=0, srch_rm_cnt=1.0),\n",
       " Row(hotel_cluster=0.0, date_time=datetime.datetime(2013, 1, 13, 8, 6, 17), site_name=2, posa_continent=3, user_location_country=66, user_location_region=174, user_location_city=40789, orig_destination_distance=179.8151, user_id=613757, is_mobile=0, is_package=0, channel=1, srch_adults_cnt=2, srch_children_cnt=0, srch_rm_cnt=1.0),\n",
       " Row(hotel_cluster=30.0, date_time=datetime.datetime(2013, 1, 13, 13, 26, 22), site_name=32, posa_continent=1, user_location_country=62, user_location_region=13, user_location_city=5392, orig_destination_distance=None, user_id=312136, is_mobile=0, is_package=1, channel=9, srch_adults_cnt=2, srch_children_cnt=0, srch_rm_cnt=1.0),\n",
       " Row(hotel_cluster=13.0, date_time=datetime.datetime(2013, 1, 13, 13, 4, 47), site_name=32, posa_continent=1, user_location_country=62, user_location_region=13, user_location_city=5392, orig_destination_distance=None, user_id=312136, is_mobile=0, is_package=1, channel=9, srch_adults_cnt=2, srch_children_cnt=0, srch_rm_cnt=1.0),\n",
       " Row(hotel_cluster=50.0, date_time=datetime.datetime(2013, 1, 13, 13, 3, 33), site_name=32, posa_continent=1, user_location_country=62, user_location_region=13, user_location_city=5392, orig_destination_distance=None, user_id=312136, is_mobile=0, is_package=1, channel=9, srch_adults_cnt=2, srch_children_cnt=0, srch_rm_cnt=1.0),\n",
       " Row(hotel_cluster=30.0, date_time=datetime.datetime(2013, 1, 13, 13, 0, 46), site_name=32, posa_continent=1, user_location_country=62, user_location_region=13, user_location_city=5392, orig_destination_distance=None, user_id=312136, is_mobile=0, is_package=1, channel=9, srch_adults_cnt=2, srch_children_cnt=0, srch_rm_cnt=1.0),\n",
       " Row(hotel_cluster=95.0, date_time=datetime.datetime(2013, 1, 11, 21, 16, 11), site_name=32, posa_continent=1, user_location_country=62, user_location_region=23, user_location_city=1856, orig_destination_distance=None, user_id=311407, is_mobile=0, is_package=0, channel=3, srch_adults_cnt=2, srch_children_cnt=2, srch_rm_cnt=1.0),\n",
       " Row(hotel_cluster=59.0, date_time=datetime.datetime(2013, 1, 11, 21, 13, 28), site_name=32, posa_continent=1, user_location_country=62, user_location_region=23, user_location_city=1856, orig_destination_distance=None, user_id=311407, is_mobile=0, is_package=0, channel=3, srch_adults_cnt=2, srch_children_cnt=2, srch_rm_cnt=1.0),\n",
       " Row(hotel_cluster=59.0, date_time=datetime.datetime(2013, 1, 11, 21, 11, 8), site_name=32, posa_continent=1, user_location_country=62, user_location_region=23, user_location_city=1856, orig_destination_distance=None, user_id=311407, is_mobile=0, is_package=0, channel=3, srch_adults_cnt=2, srch_children_cnt=2, srch_rm_cnt=1.0),\n",
       " Row(hotel_cluster=4.0, date_time=datetime.datetime(2013, 1, 13, 8, 12, 57), site_name=2, posa_continent=3, user_location_country=66, user_location_region=174, user_location_city=40789, orig_destination_distance=179.4654, user_id=613757, is_mobile=0, is_package=0, channel=1, srch_adults_cnt=2, srch_children_cnt=0, srch_rm_cnt=1.0),\n",
       " Row(hotel_cluster=59.0, date_time=datetime.datetime(2013, 1, 20, 16, 56, 15), site_name=37, posa_continent=1, user_location_country=69, user_location_region=664, user_location_city=42344, orig_destination_distance=None, user_id=754103, is_mobile=0, is_package=1, channel=1, srch_adults_cnt=2, srch_children_cnt=0, srch_rm_cnt=1.0),\n",
       " Row(hotel_cluster=32.0, date_time=datetime.datetime(2013, 1, 12, 18, 32, 40), site_name=2, posa_continent=3, user_location_country=66, user_location_region=337, user_location_city=39642, orig_destination_distance=184.31, user_id=875171, is_mobile=0, is_package=0, channel=9, srch_adults_cnt=2, srch_children_cnt=0, srch_rm_cnt=1.0),\n",
       " Row(hotel_cluster=98.0, date_time=datetime.datetime(2013, 1, 22, 9, 22, 10), site_name=2, posa_continent=3, user_location_country=66, user_location_region=337, user_location_city=39642, orig_destination_distance=16.465, user_id=875171, is_mobile=0, is_package=0, channel=9, srch_adults_cnt=2, srch_children_cnt=2, srch_rm_cnt=1.0),\n",
       " Row(hotel_cluster=97.0, date_time=datetime.datetime(2013, 1, 24, 7, 22, 13), site_name=2, posa_continent=3, user_location_country=66, user_location_region=337, user_location_city=39642, orig_destination_distance=1155.4615, user_id=875171, is_mobile=0, is_package=1, channel=9, srch_adults_cnt=2, srch_children_cnt=0, srch_rm_cnt=1.0),\n",
       " Row(hotel_cluster=18.0, date_time=datetime.datetime(2013, 1, 24, 7, 28, 27), site_name=2, posa_continent=3, user_location_country=66, user_location_region=337, user_location_city=39642, orig_destination_distance=1155.5322, user_id=875171, is_mobile=0, is_package=1, channel=9, srch_adults_cnt=2, srch_children_cnt=0, srch_rm_cnt=1.0),\n",
       " Row(hotel_cluster=9.0, date_time=datetime.datetime(2013, 1, 24, 7, 30, 41), site_name=2, posa_continent=3, user_location_country=66, user_location_region=337, user_location_city=39642, orig_destination_distance=1154.9944, user_id=875171, is_mobile=0, is_package=1, channel=9, srch_adults_cnt=2, srch_children_cnt=0, srch_rm_cnt=1.0),\n",
       " Row(hotel_cluster=98.0, date_time=datetime.datetime(2013, 1, 24, 7, 44, 54), site_name=2, posa_continent=3, user_location_country=66, user_location_region=337, user_location_city=39642, orig_destination_distance=1155.3234, user_id=875171, is_mobile=0, is_package=1, channel=9, srch_adults_cnt=2, srch_children_cnt=0, srch_rm_cnt=1.0),\n",
       " Row(hotel_cluster=70.0, date_time=datetime.datetime(2013, 1, 24, 7, 56, 59), site_name=2, posa_continent=3, user_location_country=66, user_location_region=337, user_location_city=39642, orig_destination_distance=1155.542, user_id=875171, is_mobile=0, is_package=1, channel=9, srch_adults_cnt=2, srch_children_cnt=0, srch_rm_cnt=1.0),\n",
       " Row(hotel_cluster=56.0, date_time=datetime.datetime(2013, 1, 24, 8, 2, 57), site_name=2, posa_continent=3, user_location_country=66, user_location_region=337, user_location_city=39642, orig_destination_distance=1155.4426, user_id=875171, is_mobile=0, is_package=1, channel=9, srch_adults_cnt=2, srch_children_cnt=0, srch_rm_cnt=1.0),\n",
       " Row(hotel_cluster=70.0, date_time=datetime.datetime(2013, 1, 24, 9, 15, 44), site_name=2, posa_continent=3, user_location_country=66, user_location_region=337, user_location_city=39642, orig_destination_distance=1155.542, user_id=875171, is_mobile=0, is_package=1, channel=9, srch_adults_cnt=2, srch_children_cnt=0, srch_rm_cnt=1.0),\n",
       " Row(hotel_cluster=32.0, date_time=datetime.datetime(2013, 1, 12, 18, 27, 5), site_name=2, posa_continent=3, user_location_country=66, user_location_region=337, user_location_city=39642, orig_destination_distance=184.31, user_id=875171, is_mobile=0, is_package=0, channel=9, srch_adults_cnt=2, srch_children_cnt=0, srch_rm_cnt=1.0),\n",
       " Row(hotel_cluster=4.0, date_time=datetime.datetime(2013, 1, 13, 8, 13, 56), site_name=2, posa_continent=3, user_location_country=66, user_location_region=174, user_location_city=40789, orig_destination_distance=179.4654, user_id=613757, is_mobile=0, is_package=0, channel=1, srch_adults_cnt=2, srch_children_cnt=0, srch_rm_cnt=1.0),\n",
       " Row(hotel_cluster=48.0, date_time=datetime.datetime(2013, 1, 13, 9, 6, 18), site_name=2, posa_continent=3, user_location_country=66, user_location_region=174, user_location_city=40789, orig_destination_distance=179.4585, user_id=613757, is_mobile=0, is_package=0, channel=1, srch_adults_cnt=2, srch_children_cnt=0, srch_rm_cnt=1.0),\n",
       " Row(hotel_cluster=48.0, date_time=datetime.datetime(2013, 1, 13, 9, 8, 8), site_name=2, posa_continent=3, user_location_country=66, user_location_region=174, user_location_city=40789, orig_destination_distance=179.4585, user_id=613757, is_mobile=0, is_package=0, channel=1, srch_adults_cnt=2, srch_children_cnt=0, srch_rm_cnt=1.0),\n",
       " Row(hotel_cluster=59.0, date_time=datetime.datetime(2013, 1, 14, 7, 21, 8), site_name=2, posa_continent=3, user_location_country=66, user_location_region=442, user_location_city=47956, orig_destination_distance=1058.8658, user_id=614194, is_mobile=0, is_package=1, channel=9, srch_adults_cnt=1, srch_children_cnt=0, srch_rm_cnt=1.0),\n",
       " Row(hotel_cluster=36.0, date_time=datetime.datetime(2013, 1, 7, 14, 18, 41), site_name=37, posa_continent=1, user_location_country=69, user_location_region=567, user_location_city=12909, orig_destination_distance=None, user_id=752955, is_mobile=0, is_package=0, channel=1, srch_adults_cnt=2, srch_children_cnt=0, srch_rm_cnt=1.0),\n",
       " Row(hotel_cluster=35.0, date_time=datetime.datetime(2013, 1, 7, 14, 25, 51), site_name=37, posa_continent=1, user_location_country=69, user_location_region=567, user_location_city=12909, orig_destination_distance=None, user_id=752955, is_mobile=0, is_package=0, channel=1, srch_adults_cnt=2, srch_children_cnt=0, srch_rm_cnt=1.0),\n",
       " Row(hotel_cluster=85.0, date_time=datetime.datetime(2013, 1, 7, 14, 41, 39), site_name=37, posa_continent=1, user_location_country=69, user_location_region=567, user_location_city=12909, orig_destination_distance=None, user_id=752955, is_mobile=0, is_package=0, channel=1, srch_adults_cnt=2, srch_children_cnt=0, srch_rm_cnt=1.0),\n",
       " Row(hotel_cluster=36.0, date_time=datetime.datetime(2013, 1, 7, 15, 23, 19), site_name=37, posa_continent=1, user_location_country=69, user_location_region=567, user_location_city=12909, orig_destination_distance=None, user_id=752955, is_mobile=0, is_package=0, channel=1, srch_adults_cnt=2, srch_children_cnt=0, srch_rm_cnt=1.0),\n",
       " Row(hotel_cluster=36.0, date_time=datetime.datetime(2013, 1, 7, 15, 55, 57), site_name=37, posa_continent=1, user_location_country=69, user_location_region=567, user_location_city=12909, orig_destination_distance=None, user_id=752955, is_mobile=0, is_package=0, channel=1, srch_adults_cnt=2, srch_children_cnt=0, srch_rm_cnt=1.0),\n",
       " Row(hotel_cluster=29.0, date_time=datetime.datetime(2013, 1, 15, 10, 57, 51), site_name=37, posa_continent=1, user_location_country=69, user_location_region=567, user_location_city=12909, orig_destination_distance=None, user_id=752955, is_mobile=0, is_package=0, channel=1, srch_adults_cnt=2, srch_children_cnt=1, srch_rm_cnt=1.0),\n",
       " Row(hotel_cluster=29.0, date_time=datetime.datetime(2013, 1, 15, 10, 59, 5), site_name=37, posa_continent=1, user_location_country=69, user_location_region=567, user_location_city=12909, orig_destination_distance=None, user_id=752955, is_mobile=0, is_package=0, channel=1, srch_adults_cnt=2, srch_children_cnt=1, srch_rm_cnt=1.0),\n",
       " Row(hotel_cluster=36.0, date_time=datetime.datetime(2013, 1, 16, 8, 49, 28), site_name=37, posa_continent=1, user_location_country=69, user_location_region=567, user_location_city=12909, orig_destination_distance=None, user_id=752955, is_mobile=0, is_package=1, channel=1, srch_adults_cnt=2, srch_children_cnt=0, srch_rm_cnt=1.0),\n",
       " Row(hotel_cluster=85.0, date_time=datetime.datetime(2013, 1, 16, 8, 51, 49), site_name=37, posa_continent=1, user_location_country=69, user_location_region=567, user_location_city=12909, orig_destination_distance=None, user_id=752955, is_mobile=0, is_package=0, channel=1, srch_adults_cnt=2, srch_children_cnt=0, srch_rm_cnt=1.0),\n",
       " Row(hotel_cluster=85.0, date_time=datetime.datetime(2013, 1, 16, 8, 53, 15), site_name=37, posa_continent=1, user_location_country=69, user_location_region=567, user_location_city=12909, orig_destination_distance=None, user_id=752955, is_mobile=0, is_package=0, channel=1, srch_adults_cnt=2, srch_children_cnt=0, srch_rm_cnt=1.0),\n",
       " Row(hotel_cluster=85.0, date_time=datetime.datetime(2013, 1, 16, 8, 55, 35), site_name=37, posa_continent=1, user_location_country=69, user_location_region=567, user_location_city=12909, orig_destination_distance=None, user_id=752955, is_mobile=0, is_package=0, channel=1, srch_adults_cnt=2, srch_children_cnt=0, srch_rm_cnt=1.0),\n",
       " Row(hotel_cluster=5.0, date_time=datetime.datetime(2013, 1, 29, 20, 19, 48), site_name=37, posa_continent=1, user_location_country=93, user_location_region=71, user_location_city=15362, orig_destination_distance=None, user_id=752955, is_mobile=0, is_package=0, channel=1, srch_adults_cnt=1, srch_children_cnt=0, srch_rm_cnt=1.0),\n",
       " Row(hotel_cluster=29.0, date_time=datetime.datetime(2013, 1, 29, 20, 20, 46), site_name=37, posa_continent=1, user_location_country=93, user_location_region=71, user_location_city=15362, orig_destination_distance=None, user_id=752955, is_mobile=0, is_package=0, channel=1, srch_adults_cnt=1, srch_children_cnt=0, srch_rm_cnt=1.0),\n",
       " Row(hotel_cluster=38.0, date_time=datetime.datetime(2013, 1, 28, 14, 41, 29), site_name=2, posa_continent=3, user_location_country=66, user_location_region=294, user_location_city=30738, orig_destination_distance=4747.8293, user_id=840033, is_mobile=0, is_package=1, channel=0, srch_adults_cnt=2, srch_children_cnt=0, srch_rm_cnt=1.0),\n",
       " Row(hotel_cluster=57.0, date_time=datetime.datetime(2013, 1, 15, 21, 3, 17), site_name=14, posa_continent=1, user_location_country=214, user_location_region=120, user_location_city=22516, orig_destination_distance=None, user_id=313987, is_mobile=0, is_package=1, channel=1, srch_adults_cnt=2, srch_children_cnt=2, srch_rm_cnt=1.0),\n",
       " Row(hotel_cluster=57.0, date_time=datetime.datetime(2013, 1, 15, 20, 56, 52), site_name=14, posa_continent=1, user_location_country=214, user_location_region=120, user_location_city=22516, orig_destination_distance=None, user_id=313987, is_mobile=0, is_package=1, channel=1, srch_adults_cnt=2, srch_children_cnt=2, srch_rm_cnt=1.0),\n",
       " Row(hotel_cluster=14.0, date_time=datetime.datetime(2013, 1, 15, 20, 56, 16), site_name=14, posa_continent=1, user_location_country=214, user_location_region=120, user_location_city=22516, orig_destination_distance=None, user_id=313987, is_mobile=0, is_package=1, channel=1, srch_adults_cnt=2, srch_children_cnt=2, srch_rm_cnt=1.0),\n",
       " Row(hotel_cluster=14.0, date_time=datetime.datetime(2013, 1, 15, 19, 56), site_name=14, posa_continent=1, user_location_country=214, user_location_region=120, user_location_city=22516, orig_destination_distance=None, user_id=313987, is_mobile=0, is_package=1, channel=1, srch_adults_cnt=2, srch_children_cnt=2, srch_rm_cnt=1.0),\n",
       " Row(hotel_cluster=5.0, date_time=datetime.datetime(2013, 1, 29, 20, 23, 12), site_name=37, posa_continent=1, user_location_country=93, user_location_region=71, user_location_city=15362, orig_destination_distance=None, user_id=752955, is_mobile=0, is_package=0, channel=1, srch_adults_cnt=1, srch_children_cnt=0, srch_rm_cnt=1.0),\n",
       " Row(hotel_cluster=38.0, date_time=datetime.datetime(2013, 1, 28, 14, 40, 38), site_name=2, posa_continent=3, user_location_country=66, user_location_region=294, user_location_city=30738, orig_destination_distance=4747.8293, user_id=840033, is_mobile=0, is_package=1, channel=0, srch_adults_cnt=2, srch_children_cnt=0, srch_rm_cnt=1.0),\n",
       " Row(hotel_cluster=9.0, date_time=datetime.datetime(2013, 1, 24, 9, 41, 34), site_name=2, posa_continent=3, user_location_country=66, user_location_region=337, user_location_city=39642, orig_destination_distance=1155.3337, user_id=875171, is_mobile=0, is_package=1, channel=9, srch_adults_cnt=2, srch_children_cnt=0, srch_rm_cnt=1.0),\n",
       " Row(hotel_cluster=69.0, date_time=datetime.datetime(2013, 1, 28, 8, 50, 16), site_name=2, posa_continent=3, user_location_country=66, user_location_region=143, user_location_city=53117, orig_destination_distance=148.5861, user_id=874886, is_mobile=0, is_package=0, channel=9, srch_adults_cnt=2, srch_children_cnt=0, srch_rm_cnt=1.0),\n",
       " Row(hotel_cluster=91.0, date_time=datetime.datetime(2013, 1, 8, 2, 49, 43), site_name=2, posa_continent=3, user_location_country=66, user_location_region=462, user_location_city=52482, orig_destination_distance=876.4399, user_id=839406, is_mobile=0, is_package=0, channel=9, srch_adults_cnt=2, srch_children_cnt=1, srch_rm_cnt=1.0),\n",
       " Row(hotel_cluster=48.0, date_time=datetime.datetime(2013, 1, 8, 2, 44, 46), site_name=2, posa_continent=3, user_location_country=66, user_location_region=462, user_location_city=52482, orig_destination_distance=876.7913, user_id=839406, is_mobile=0, is_package=0, channel=9, srch_adults_cnt=2, srch_children_cnt=0, srch_rm_cnt=1.0),\n",
       " Row(hotel_cluster=21.0, date_time=datetime.datetime(2013, 1, 31, 18, 10, 20), site_name=37, posa_continent=1, user_location_country=69, user_location_region=772, user_location_city=2058, orig_destination_distance=None, user_id=572212, is_mobile=1, is_package=1, channel=2, srch_adults_cnt=3, srch_children_cnt=0, srch_rm_cnt=1.0),\n",
       " Row(hotel_cluster=59.0, date_time=datetime.datetime(2013, 1, 31, 18, 35, 51), site_name=37, posa_continent=1, user_location_country=69, user_location_region=772, user_location_city=2058, orig_destination_distance=None, user_id=572212, is_mobile=1, is_package=1, channel=2, srch_adults_cnt=3, srch_children_cnt=0, srch_rm_cnt=1.0),\n",
       " Row(hotel_cluster=80.0, date_time=datetime.datetime(2013, 1, 19, 10, 34, 35), site_name=37, posa_continent=1, user_location_country=69, user_location_region=879, user_location_city=25671, orig_destination_distance=None, user_id=759109, is_mobile=0, is_package=0, channel=2, srch_adults_cnt=1, srch_children_cnt=1, srch_rm_cnt=1.0),\n",
       " Row(hotel_cluster=80.0, date_time=datetime.datetime(2013, 1, 19, 10, 37, 40), site_name=37, posa_continent=1, user_location_country=69, user_location_region=879, user_location_city=25671, orig_destination_distance=None, user_id=759109, is_mobile=0, is_package=0, channel=2, srch_adults_cnt=1, srch_children_cnt=1, srch_rm_cnt=1.0),\n",
       " Row(hotel_cluster=30.0, date_time=datetime.datetime(2013, 1, 19, 10, 43, 15), site_name=37, posa_continent=1, user_location_country=69, user_location_region=879, user_location_city=25671, orig_destination_distance=None, user_id=759109, is_mobile=0, is_package=0, channel=2, srch_adults_cnt=1, srch_children_cnt=1, srch_rm_cnt=1.0),\n",
       " Row(hotel_cluster=80.0, date_time=datetime.datetime(2013, 1, 19, 10, 48, 56), site_name=37, posa_continent=1, user_location_country=69, user_location_region=879, user_location_city=25671, orig_destination_distance=None, user_id=759109, is_mobile=0, is_package=0, channel=2, srch_adults_cnt=1, srch_children_cnt=1, srch_rm_cnt=1.0),\n",
       " Row(hotel_cluster=80.0, date_time=datetime.datetime(2013, 1, 19, 10, 53, 56), site_name=37, posa_continent=1, user_location_country=69, user_location_region=879, user_location_city=25671, orig_destination_distance=None, user_id=759109, is_mobile=0, is_package=0, channel=2, srch_adults_cnt=1, srch_children_cnt=1, srch_rm_cnt=1.0),\n",
       " Row(hotel_cluster=80.0, date_time=datetime.datetime(2013, 1, 19, 10, 54, 41), site_name=37, posa_continent=1, user_location_country=69, user_location_region=879, user_location_city=25671, orig_destination_distance=None, user_id=759109, is_mobile=0, is_package=0, channel=2, srch_adults_cnt=2, srch_children_cnt=1, srch_rm_cnt=1.0),\n",
       " Row(hotel_cluster=44.0, date_time=datetime.datetime(2013, 1, 11, 19, 6, 47), site_name=2, posa_continent=3, user_location_country=66, user_location_region=318, user_location_city=22298, orig_destination_distance=None, user_id=759129, is_mobile=0, is_package=1, channel=9, srch_adults_cnt=2, srch_children_cnt=1, srch_rm_cnt=1.0),\n",
       " Row(hotel_cluster=21.0, date_time=datetime.datetime(2013, 1, 29, 18, 30, 2), site_name=37, posa_continent=1, user_location_country=69, user_location_region=772, user_location_city=2058, orig_destination_distance=None, user_id=572212, is_mobile=1, is_package=1, channel=0, srch_adults_cnt=3, srch_children_cnt=0, srch_rm_cnt=1.0),\n",
       " Row(hotel_cluster=90.0, date_time=datetime.datetime(2013, 1, 11, 19, 10, 26), site_name=2, posa_continent=3, user_location_country=66, user_location_region=318, user_location_city=22298, orig_destination_distance=None, user_id=759129, is_mobile=0, is_package=1, channel=9, srch_adults_cnt=2, srch_children_cnt=1, srch_rm_cnt=1.0),\n",
       " Row(hotel_cluster=80.0, date_time=datetime.datetime(2013, 1, 11, 19, 15, 9), site_name=2, posa_continent=3, user_location_country=66, user_location_region=318, user_location_city=22298, orig_destination_distance=None, user_id=759129, is_mobile=0, is_package=1, channel=9, srch_adults_cnt=2, srch_children_cnt=1, srch_rm_cnt=1.0),\n",
       " Row(hotel_cluster=89.0, date_time=datetime.datetime(2013, 1, 11, 19, 16, 49), site_name=2, posa_continent=3, user_location_country=66, user_location_region=318, user_location_city=22298, orig_destination_distance=None, user_id=759129, is_mobile=0, is_package=1, channel=9, srch_adults_cnt=2, srch_children_cnt=1, srch_rm_cnt=1.0),\n",
       " Row(hotel_cluster=37.0, date_time=datetime.datetime(2013, 1, 11, 19, 18), site_name=2, posa_continent=3, user_location_country=66, user_location_region=318, user_location_city=22298, orig_destination_distance=None, user_id=759129, is_mobile=0, is_package=1, channel=9, srch_adults_cnt=2, srch_children_cnt=1, srch_rm_cnt=1.0),\n",
       " Row(hotel_cluster=73.0, date_time=datetime.datetime(2013, 1, 11, 19, 19, 8), site_name=2, posa_continent=3, user_location_country=66, user_location_region=318, user_location_city=22298, orig_destination_distance=None, user_id=759129, is_mobile=0, is_package=1, channel=9, srch_adults_cnt=2, srch_children_cnt=1, srch_rm_cnt=1.0),\n",
       " Row(hotel_cluster=80.0, date_time=datetime.datetime(2013, 1, 11, 19, 20, 37), site_name=2, posa_continent=3, user_location_country=66, user_location_region=318, user_location_city=22298, orig_destination_distance=None, user_id=759129, is_mobile=0, is_package=1, channel=9, srch_adults_cnt=2, srch_children_cnt=1, srch_rm_cnt=1.0),\n",
       " Row(hotel_cluster=53.0, date_time=datetime.datetime(2013, 1, 11, 19, 22, 13), site_name=2, posa_continent=3, user_location_country=66, user_location_region=318, user_location_city=22298, orig_destination_distance=None, user_id=759129, is_mobile=0, is_package=1, channel=9, srch_adults_cnt=2, srch_children_cnt=1, srch_rm_cnt=1.0),\n",
       " Row(hotel_cluster=3.0, date_time=datetime.datetime(2013, 1, 11, 19, 26, 49), site_name=2, posa_continent=3, user_location_country=66, user_location_region=318, user_location_city=22298, orig_destination_distance=None, user_id=759129, is_mobile=0, is_package=1, channel=9, srch_adults_cnt=2, srch_children_cnt=1, srch_rm_cnt=1.0),\n",
       " Row(hotel_cluster=20.0, date_time=datetime.datetime(2013, 1, 11, 19, 32, 4), site_name=2, posa_continent=3, user_location_country=66, user_location_region=318, user_location_city=22298, orig_destination_distance=None, user_id=759129, is_mobile=0, is_package=1, channel=9, srch_adults_cnt=2, srch_children_cnt=1, srch_rm_cnt=1.0),\n",
       " Row(hotel_cluster=80.0, date_time=datetime.datetime(2013, 1, 11, 19, 33, 18), site_name=2, posa_continent=3, user_location_country=66, user_location_region=318, user_location_city=22298, orig_destination_distance=None, user_id=759129, is_mobile=0, is_package=1, channel=9, srch_adults_cnt=2, srch_children_cnt=1, srch_rm_cnt=1.0),\n",
       " Row(hotel_cluster=60.0, date_time=datetime.datetime(2013, 1, 11, 19, 13, 19), site_name=2, posa_continent=3, user_location_country=66, user_location_region=318, user_location_city=22298, orig_destination_distance=None, user_id=759129, is_mobile=0, is_package=1, channel=9, srch_adults_cnt=2, srch_children_cnt=1, srch_rm_cnt=1.0),\n",
       " Row(hotel_cluster=80.0, date_time=datetime.datetime(2013, 1, 11, 19, 40, 26), site_name=2, posa_continent=3, user_location_country=66, user_location_region=318, user_location_city=22298, orig_destination_distance=None, user_id=759129, is_mobile=0, is_package=1, channel=9, srch_adults_cnt=2, srch_children_cnt=1, srch_rm_cnt=1.0),\n",
       " Row(hotel_cluster=72.0, date_time=datetime.datetime(2013, 1, 19, 10, 29, 32), site_name=37, posa_continent=1, user_location_country=69, user_location_region=879, user_location_city=25671, orig_destination_distance=None, user_id=759109, is_mobile=0, is_package=0, channel=2, srch_adults_cnt=1, srch_children_cnt=1, srch_rm_cnt=1.0),\n",
       " Row(hotel_cluster=5.0, date_time=datetime.datetime(2013, 1, 19, 10, 9, 22), site_name=37, posa_continent=1, user_location_country=69, user_location_region=879, user_location_city=25671, orig_destination_distance=None, user_id=759109, is_mobile=0, is_package=0, channel=2, srch_adults_cnt=1, srch_children_cnt=1, srch_rm_cnt=1.0),\n",
       " Row(hotel_cluster=64.0, date_time=datetime.datetime(2013, 1, 22, 8, 15, 7), site_name=2, posa_continent=3, user_location_country=66, user_location_region=258, user_location_city=4687, orig_destination_distance=7239.7483, user_id=303101, is_mobile=0, is_package=0, channel=9, srch_adults_cnt=1, srch_children_cnt=0, srch_rm_cnt=1.0),\n",
       " Row(hotel_cluster=69.0, date_time=datetime.datetime(2013, 1, 21, 12, 2, 39), site_name=2, posa_continent=3, user_location_country=66, user_location_region=258, user_location_city=4687, orig_destination_distance=713.1458, user_id=303101, is_mobile=0, is_package=0, channel=9, srch_adults_cnt=2, srch_children_cnt=0, srch_rm_cnt=1.0),\n",
       " Row(hotel_cluster=16.0, date_time=datetime.datetime(2013, 1, 20, 16, 21, 57), site_name=2, posa_continent=3, user_location_country=66, user_location_region=258, user_location_city=4687, orig_destination_distance=816.7035, user_id=303101, is_mobile=0, is_package=0, channel=9, srch_adults_cnt=1, srch_children_cnt=0, srch_rm_cnt=1.0),\n",
       " Row(hotel_cluster=41.0, date_time=datetime.datetime(2013, 1, 8, 8, 4, 51), site_name=2, posa_continent=3, user_location_country=66, user_location_region=321, user_location_city=50850, orig_destination_distance=None, user_id=303034, is_mobile=0, is_package=1, channel=9, srch_adults_cnt=1, srch_children_cnt=0, srch_rm_cnt=1.0),\n",
       " Row(hotel_cluster=73.0, date_time=datetime.datetime(2013, 1, 19, 20, 7, 49), site_name=2, posa_continent=3, user_location_country=66, user_location_region=174, user_location_city=16634, orig_destination_distance=2463.1843, user_id=303023, is_mobile=1, is_package=1, channel=1, srch_adults_cnt=2, srch_children_cnt=0, srch_rm_cnt=1.0),\n",
       " Row(hotel_cluster=4.0, date_time=datetime.datetime(2013, 1, 10, 10, 44, 23), site_name=2, posa_continent=3, user_location_country=66, user_location_region=337, user_location_city=6599, orig_destination_distance=25.9313, user_id=302986, is_mobile=0, is_package=1, channel=9, srch_adults_cnt=2, srch_children_cnt=0, srch_rm_cnt=1.0),\n",
       " Row(hotel_cluster=99.0, date_time=datetime.datetime(2013, 1, 27, 9, 53, 11), site_name=40, posa_continent=3, user_location_country=66, user_location_region=348, user_location_city=6042, orig_destination_distance=None, user_id=757496, is_mobile=0, is_package=0, channel=9, srch_adults_cnt=2, srch_children_cnt=0, srch_rm_cnt=1.0),\n",
       " Row(hotel_cluster=41.0, date_time=datetime.datetime(2013, 1, 27, 9, 53, 36), site_name=40, posa_continent=3, user_location_country=66, user_location_region=348, user_location_city=6042, orig_destination_distance=None, user_id=757496, is_mobile=0, is_package=0, channel=9, srch_adults_cnt=2, srch_children_cnt=0, srch_rm_cnt=1.0),\n",
       " Row(hotel_cluster=41.0, date_time=datetime.datetime(2013, 1, 27, 9, 54, 7), site_name=40, posa_continent=3, user_location_country=66, user_location_region=348, user_location_city=6042, orig_destination_distance=None, user_id=757496, is_mobile=0, is_package=0, channel=9, srch_adults_cnt=2, srch_children_cnt=0, srch_rm_cnt=1.0),\n",
       " Row(hotel_cluster=72.0, date_time=datetime.datetime(2013, 1, 19, 10, 22, 50), site_name=37, posa_continent=1, user_location_country=69, user_location_region=879, user_location_city=25671, orig_destination_distance=None, user_id=759109, is_mobile=0, is_package=0, channel=2, srch_adults_cnt=1, srch_children_cnt=1, srch_rm_cnt=1.0),\n",
       " Row(hotel_cluster=18.0, date_time=datetime.datetime(2013, 1, 28, 18, 7, 32), site_name=40, posa_continent=3, user_location_country=66, user_location_region=348, user_location_city=16182, orig_destination_distance=None, user_id=757496, is_mobile=0, is_package=0, channel=9, srch_adults_cnt=2, srch_children_cnt=0, srch_rm_cnt=1.0),\n",
       " Row(hotel_cluster=41.0, date_time=datetime.datetime(2013, 1, 28, 18, 12, 43), site_name=40, posa_continent=3, user_location_country=66, user_location_region=348, user_location_city=16182, orig_destination_distance=None, user_id=757496, is_mobile=0, is_package=0, channel=9, srch_adults_cnt=2, srch_children_cnt=0, srch_rm_cnt=1.0),\n",
       " Row(hotel_cluster=38.0, date_time=datetime.datetime(2013, 1, 27, 12, 56, 41), site_name=37, posa_continent=1, user_location_country=69, user_location_region=661, user_location_city=7133, orig_destination_distance=None, user_id=302935, is_mobile=0, is_package=0, channel=1, srch_adults_cnt=2, srch_children_cnt=1, srch_rm_cnt=1.0),\n",
       " Row(hotel_cluster=90.0, date_time=datetime.datetime(2013, 1, 28, 22, 18, 11), site_name=37, posa_continent=1, user_location_country=69, user_location_region=923, user_location_city=1268, orig_destination_distance=None, user_id=758569, is_mobile=0, is_package=0, channel=1, srch_adults_cnt=2, srch_children_cnt=0, srch_rm_cnt=1.0),\n",
       " Row(hotel_cluster=26.0, date_time=datetime.datetime(2013, 1, 11, 8, 37, 47), site_name=2, posa_continent=3, user_location_country=66, user_location_region=174, user_location_city=5938, orig_destination_distance=2454.9676, user_id=572194, is_mobile=0, is_package=1, channel=1, srch_adults_cnt=2, srch_children_cnt=0, srch_rm_cnt=1.0),\n",
       " Row(hotel_cluster=76.0, date_time=datetime.datetime(2013, 1, 27, 13, 54, 32), site_name=2, posa_continent=3, user_location_country=66, user_location_region=258, user_location_city=55068, orig_destination_distance=None, user_id=572194, is_mobile=1, is_package=0, channel=0, srch_adults_cnt=1, srch_children_cnt=1, srch_rm_cnt=1.0),\n",
       " Row(hotel_cluster=5.0, date_time=datetime.datetime(2013, 1, 10, 15, 15, 42), site_name=2, posa_continent=3, user_location_country=66, user_location_region=348, user_location_city=34589, orig_destination_distance=36.995, user_id=572209, is_mobile=0, is_package=0, channel=1, srch_adults_cnt=2, srch_children_cnt=0, srch_rm_cnt=1.0),\n",
       " Row(hotel_cluster=61.0, date_time=datetime.datetime(2013, 1, 13, 19, 43, 21), site_name=14, posa_continent=1, user_location_country=214, user_location_region=120, user_location_city=17065, orig_destination_distance=None, user_id=301755, is_mobile=1, is_package=1, channel=0, srch_adults_cnt=2, srch_children_cnt=0, srch_rm_cnt=1.0),\n",
       " Row(hotel_cluster=5.0, date_time=datetime.datetime(2013, 1, 19, 9, 42, 43), site_name=37, posa_continent=1, user_location_country=69, user_location_region=879, user_location_city=25671, orig_destination_distance=None, user_id=759109, is_mobile=0, is_package=1, channel=2, srch_adults_cnt=1, srch_children_cnt=0, srch_rm_cnt=1.0),\n",
       " Row(hotel_cluster=5.0, date_time=datetime.datetime(2013, 1, 19, 9, 58, 23), site_name=37, posa_continent=1, user_location_country=69, user_location_region=879, user_location_city=25671, orig_destination_distance=None, user_id=759109, is_mobile=0, is_package=1, channel=2, srch_adults_cnt=1, srch_children_cnt=0, srch_rm_cnt=1.0),\n",
       " Row(hotel_cluster=41.0, date_time=datetime.datetime(2013, 1, 28, 18, 8, 14), site_name=40, posa_continent=3, user_location_country=66, user_location_region=348, user_location_city=16182, orig_destination_distance=None, user_id=757496, is_mobile=0, is_package=0, channel=9, srch_adults_cnt=2, srch_children_cnt=0, srch_rm_cnt=1.0),\n",
       " Row(hotel_cluster=25.0, date_time=datetime.datetime(2013, 1, 9, 11, 27, 17), site_name=2, posa_continent=3, user_location_country=66, user_location_region=348, user_location_city=48862, orig_destination_distance=1703.3368, user_id=759446, is_mobile=0, is_package=1, channel=1, srch_adults_cnt=2, srch_children_cnt=0, srch_rm_cnt=1.0),\n",
       " Row(hotel_cluster=86.0, date_time=datetime.datetime(2013, 1, 9, 11, 35, 49), site_name=2, posa_continent=3, user_location_country=66, user_location_region=348, user_location_city=48862, orig_destination_distance=1704.2962, user_id=759446, is_mobile=0, is_package=0, channel=1, srch_adults_cnt=2, srch_children_cnt=0, srch_rm_cnt=1.0),\n",
       " Row(hotel_cluster=9.0, date_time=datetime.datetime(2013, 1, 10, 6, 58, 23), site_name=2, posa_continent=3, user_location_country=66, user_location_region=348, user_location_city=48862, orig_destination_distance=1171.9533, user_id=759446, is_mobile=0, is_package=1, channel=9, srch_adults_cnt=2, srch_children_cnt=0, srch_rm_cnt=1.0),\n",
       " ...]"
      ]
     },
     "execution_count": 198,
     "metadata": {},
     "output_type": "execute_result"
    }
   ],
   "source": [
    "Filtro"
   ]
  },
  {
   "cell_type": "code",
   "execution_count": 199,
   "metadata": {},
   "outputs": [
    {
     "data": {
      "text/plain": [
       "list"
      ]
     },
     "execution_count": 199,
     "metadata": {},
     "output_type": "execute_result"
    }
   ],
   "source": [
    "type(Filtro)"
   ]
  },
  {
   "cell_type": "code",
   "execution_count": 206,
   "metadata": {
    "scrolled": true
   },
   "outputs": [],
   "source": [
    "Filtro_ds = spark.createDataFrame(Filtro)"
   ]
  },
  {
   "cell_type": "code",
   "execution_count": 207,
   "metadata": {},
   "outputs": [
    {
     "data": {
      "text/plain": [
       "pyspark.sql.dataframe.DataFrame"
      ]
     },
     "execution_count": 207,
     "metadata": {},
     "output_type": "execute_result"
    }
   ],
   "source": [
    "type(Filtro_ds)"
   ]
  },
  {
   "cell_type": "code",
   "execution_count": 209,
   "metadata": {},
   "outputs": [
    {
     "data": {
      "text/plain": [
       "DataFrame[hotel_cluster: double, date_time: timestamp, site_name: bigint, posa_continent: bigint, user_location_country: bigint, user_location_region: bigint, user_location_city: bigint, orig_destination_distance: double, user_id: bigint, is_mobile: bigint, is_package: bigint, channel: bigint, srch_adults_cnt: bigint, srch_children_cnt: bigint, srch_rm_cnt: double]"
      ]
     },
     "execution_count": 209,
     "metadata": {},
     "output_type": "execute_result"
    }
   ],
   "source": [
    "Filtro_ds"
   ]
  },
  {
   "cell_type": "code",
   "execution_count": 210,
   "metadata": {},
   "outputs": [
    {
     "data": {
      "text/plain": [
       "[Row(hotel_cluster=83.0, date_time=datetime.datetime(2013, 1, 14, 9, 57, 25), site_name=2, posa_continent=3, user_location_country=66, user_location_region=442, user_location_city=35390, orig_destination_distance=799.9374, user_id=397128, is_mobile=0, is_package=1, channel=0, srch_adults_cnt=3, srch_children_cnt=2, srch_rm_cnt=1.0),\n",
       " Row(hotel_cluster=42.0, date_time=datetime.datetime(2013, 1, 29, 12, 20, 45), site_name=37, posa_continent=1, user_location_country=69, user_location_region=908, user_location_city=28451, orig_destination_distance=None, user_id=552136, is_mobile=0, is_package=0, channel=9, srch_adults_cnt=2, srch_children_cnt=0, srch_rm_cnt=1.0),\n",
       " Row(hotel_cluster=15.0, date_time=datetime.datetime(2013, 1, 29, 12, 30, 8), site_name=37, posa_continent=1, user_location_country=69, user_location_region=908, user_location_city=28451, orig_destination_distance=None, user_id=552136, is_mobile=0, is_package=0, channel=9, srch_adults_cnt=2, srch_children_cnt=0, srch_rm_cnt=1.0),\n",
       " Row(hotel_cluster=5.0, date_time=datetime.datetime(2013, 1, 29, 12, 30, 48), site_name=37, posa_continent=1, user_location_country=69, user_location_region=908, user_location_city=28451, orig_destination_distance=None, user_id=552136, is_mobile=0, is_package=0, channel=9, srch_adults_cnt=2, srch_children_cnt=0, srch_rm_cnt=1.0)]"
      ]
     },
     "execution_count": 210,
     "metadata": {},
     "output_type": "execute_result"
    }
   ],
   "source": [
    "Filtro_ds.head(4)"
   ]
  },
  {
   "cell_type": "code",
   "execution_count": 216,
   "metadata": {},
   "outputs": [],
   "source": [
    "Filtro_ds.createOrReplaceTempView(\"myTablaBFiltro\")"
   ]
  },
  {
   "cell_type": "code",
   "execution_count": 218,
   "metadata": {},
   "outputs": [
    {
     "ename": "NameError",
     "evalue": "name 'myTablaBFiltro' is not defined",
     "output_type": "error",
     "traceback": [
      "\u001b[1;31m---------------------------------------------------------------------------\u001b[0m",
      "\u001b[1;31mNameError\u001b[0m                                 Traceback (most recent call last)",
      "\u001b[1;32m<ipython-input-218-efccb60f8e49>\u001b[0m in \u001b[0;36m<module>\u001b[1;34m\u001b[0m\n\u001b[1;32m----> 1\u001b[1;33m \u001b[0mspark\u001b[0m\u001b[1;33m.\u001b[0m\u001b[0msql\u001b[0m\u001b[1;33m(\u001b[0m\u001b[0mmyTablaBFiltro\u001b[0m\u001b[1;33m)\u001b[0m\u001b[1;33m\u001b[0m\u001b[1;33m\u001b[0m\u001b[0m\n\u001b[0m",
      "\u001b[1;31mNameError\u001b[0m: name 'myTablaBFiltro' is not defined"
     ]
    }
   ],
   "source": [
    "spark.sql(myTablaBFiltro)"
   ]
  },
  {
   "cell_type": "code",
   "execution_count": 191,
   "metadata": {},
   "outputs": [],
   "source": [
    "FiltroContador = spark.sql(\"select count(*) as filtro from myTablaA where srch_adults_cnt < 4 AND srch_children_cnt < 4 \").collect()"
   ]
  },
  {
   "cell_type": "code",
   "execution_count": 192,
   "metadata": {},
   "outputs": [
    {
     "data": {
      "text/plain": [
       "[Row(filtro=223996)]"
      ]
     },
     "execution_count": 192,
     "metadata": {},
     "output_type": "execute_result"
    }
   ],
   "source": [
    "FiltroContador"
   ]
  },
  {
   "cell_type": "code",
   "execution_count": 221,
   "metadata": {},
   "outputs": [],
   "source": [
    "Comparar = spark.sql(\"select count(*), user_location_country from myTablaBFiltro T1 inner join myTablaB T2 on T1.hotel_cluster= T2.hotel_cluster group by user_location_country\").collect()"
   ]
  },
  {
   "cell_type": "code",
   "execution_count": 224,
   "metadata": {},
   "outputs": [
    {
     "data": {
      "text/plain": [
       "[Row(count(1)=584437, user_location_country=29),\n",
       " Row(count(1)=234621, user_location_country=26),\n",
       " Row(count(1)=61275, user_location_country=65),\n",
       " Row(count(1)=64469, user_location_country=191),\n",
       " Row(count(1)=24354, user_location_country=222),\n",
       " Row(count(1)=285280, user_location_country=19),\n",
       " Row(count(1)=26446, user_location_country=54),\n",
       " Row(count(1)=1496389, user_location_country=0),\n",
       " Row(count(1)=3440374, user_location_country=167),\n",
       " Row(count(1)=35609, user_location_country=155),\n",
       " Row(count(1)=1793764, user_location_country=198),\n",
       " Row(count(1)=285721, user_location_country=130),\n",
       " Row(count(1)=709743, user_location_country=196),\n",
       " Row(count(1)=9084157, user_location_country=77),\n",
       " Row(count(1)=10094, user_location_country=184),\n",
       " Row(count(1)=120325, user_location_country=34),\n",
       " Row(count(1)=94195, user_location_country=188),\n",
       " Row(count(1)=103578, user_location_country=228),\n",
       " Row(count(1)=912861, user_location_country=202),\n",
       " Row(count(1)=10818, user_location_country=126),\n",
       " Row(count(1)=509244, user_location_country=149),\n",
       " Row(count(1)=169793, user_location_country=50),\n",
       " Row(count(1)=209452, user_location_country=229),\n",
       " Row(count(1)=260247, user_location_country=190),\n",
       " Row(count(1)=1641875, user_location_country=57),\n",
       " Row(count(1)=30430, user_location_country=144),\n",
       " Row(count(1)=844417, user_location_country=32),\n",
       " Row(count(1)=61802, user_location_country=43),\n",
       " Row(count(1)=14000, user_location_country=31),\n",
       " Row(count(1)=6156722, user_location_country=119),\n",
       " Row(count(1)=650442, user_location_country=39),\n",
       " Row(count(1)=8884, user_location_country=157),\n",
       " Row(count(1)=1304377, user_location_country=181),\n",
       " Row(count(1)=9695, user_location_country=124),\n",
       " Row(count(1)=48655, user_location_country=95),\n",
       " Row(count(1)=906120, user_location_country=71),\n",
       " Row(count(1)=378694, user_location_country=143),\n",
       " Row(count(1)=1657212, user_location_country=68),\n",
       " Row(count(1)=72762, user_location_country=6),\n",
       " Row(count(1)=8295695, user_location_country=215),\n",
       " Row(count(1)=1507, user_location_country=87),\n",
       " Row(count(1)=511897, user_location_country=58),\n",
       " Row(count(1)=20898, user_location_country=221),\n",
       " Row(count(1)=481219, user_location_country=158),\n",
       " Row(count(1)=1188194, user_location_country=63),\n",
       " Row(count(1)=63006, user_location_country=27),\n",
       " Row(count(1)=72186, user_location_country=51),\n",
       " Row(count(1)=326538, user_location_country=178),\n",
       " Row(count(1)=671394, user_location_country=239),\n",
       " Row(count(1)=11297, user_location_country=150),\n",
       " Row(count(1)=1633102, user_location_country=52),\n",
       " Row(count(1)=11598, user_location_country=146),\n",
       " Row(count(1)=2793, user_location_country=174),\n",
       " Row(count(1)=580689, user_location_country=209),\n",
       " Row(count(1)=881477, user_location_country=103),\n",
       " Row(count(1)=13419, user_location_country=139),\n",
       " Row(count(1)=838057, user_location_country=28),\n",
       " Row(count(1)=68361, user_location_country=208),\n",
       " Row(count(1)=1016401, user_location_country=235),\n",
       " Row(count(1)=22359, user_location_country=114),\n",
       " Row(count(1)=1196911, user_location_country=5),\n",
       " Row(count(1)=8860732, user_location_country=1),\n",
       " Row(count(1)=1133759, user_location_country=115),\n",
       " Row(count(1)=209362, user_location_country=219),\n",
       " Row(count(1)=80415, user_location_country=104),\n",
       " Row(count(1)=1986884, user_location_country=214),\n",
       " Row(count(1)=67152, user_location_country=10),\n",
       " Row(count(1)=11345, user_location_country=197),\n",
       " Row(count(1)=376607, user_location_country=85),\n",
       " Row(count(1)=3906, user_location_country=111),\n",
       " Row(count(1)=2043101, user_location_country=179),\n",
       " Row(count(1)=1608728, user_location_country=48),\n",
       " Row(count(1)=15141, user_location_country=67),\n",
       " Row(count(1)=6364, user_location_country=224),\n",
       " Row(count(1)=195689, user_location_country=168),\n",
       " Row(count(1)=67868, user_location_country=142),\n",
       " Row(count(1)=15322, user_location_country=105),\n",
       " Row(count(1)=94173, user_location_country=131),\n",
       " Row(count(1)=558158, user_location_country=218),\n",
       " Row(count(1)=6344, user_location_country=108),\n",
       " Row(count(1)=117071, user_location_country=44),\n",
       " Row(count(1)=272218, user_location_country=123),\n",
       " Row(count(1)=58078978, user_location_country=205),\n",
       " Row(count(1)=423451, user_location_country=225),\n",
       " Row(count(1)=45460, user_location_country=192),\n",
       " Row(count(1)=51956, user_location_country=156),\n",
       " Row(count(1)=17860585, user_location_country=3),\n",
       " Row(count(1)=309588, user_location_country=206),\n",
       " Row(count(1)=7786, user_location_country=101),\n",
       " Row(count(1)=2045157, user_location_country=12),\n",
       " Row(count(1)=919766, user_location_country=141),\n",
       " Row(count(1)=1847383, user_location_country=55),\n",
       " Row(count(1)=14114, user_location_country=74),\n",
       " Row(count(1)=1794102, user_location_country=62),\n",
       " Row(count(1)=2332667, user_location_country=182),\n",
       " Row(count(1)=173568, user_location_country=49),\n",
       " Row(count(1)=294958, user_location_country=166),\n",
       " Row(count(1)=2792870, user_location_country=80),\n",
       " Row(count(1)=378001863, user_location_country=66),\n",
       " Row(count(1)=2068901, user_location_country=154),\n",
       " Row(count(1)=1078042, user_location_country=162),\n",
       " Row(count(1)=48637, user_location_country=176),\n",
       " Row(count(1)=80369, user_location_country=134),\n",
       " Row(count(1)=67399, user_location_country=76),\n",
       " Row(count(1)=86012, user_location_country=233),\n",
       " Row(count(1)=498385, user_location_country=163),\n",
       " Row(count(1)=926897, user_location_country=230),\n",
       " Row(count(1)=92630, user_location_country=92),\n",
       " Row(count(1)=19763, user_location_country=4),\n",
       " Row(count(1)=133872, user_location_country=118),\n",
       " Row(count(1)=7297, user_location_country=13),\n",
       " Row(count(1)=45797, user_location_country=75),\n",
       " Row(count(1)=37038, user_location_country=125),\n",
       " Row(count(1)=53492113, user_location_country=69),\n",
       " Row(count(1)=3566221, user_location_country=194),\n",
       " Row(count(1)=69561, user_location_country=137),\n",
       " Row(count(1)=155159, user_location_country=173),\n",
       " Row(count(1)=679902, user_location_country=238),\n",
       " Row(count(1)=3038, user_location_country=122),\n",
       " Row(count(1)=46388, user_location_country=129),\n",
       " Row(count(1)=46757, user_location_country=59),\n",
       " Row(count(1)=12852, user_location_country=223),\n",
       " Row(count(1)=45676, user_location_country=15),\n",
       " Row(count(1)=2419602, user_location_country=195),\n",
       " Row(count(1)=108490, user_location_country=82),\n",
       " Row(count(1)=8641648, user_location_country=133),\n",
       " Row(count(1)=406667, user_location_country=30),\n",
       " Row(count(1)=12934, user_location_country=73),\n",
       " Row(count(1)=5652429, user_location_country=23),\n",
       " Row(count(1)=496866, user_location_country=117),\n",
       " Row(count(1)=14369414, user_location_country=46),\n",
       " Row(count(1)=85740, user_location_country=217),\n",
       " Row(count(1)=3732787, user_location_country=70),\n",
       " Row(count(1)=311021, user_location_country=99),\n",
       " Row(count(1)=2349023, user_location_country=231),\n",
       " Row(count(1)=56601, user_location_country=109),\n",
       " Row(count(1)=1507, user_location_country=60),\n",
       " Row(count(1)=861277, user_location_country=93),\n",
       " Row(count(1)=97084, user_location_country=64),\n",
       " Row(count(1)=56490, user_location_country=16),\n",
       " Row(count(1)=228534, user_location_country=91),\n",
       " Row(count(1)=50865, user_location_country=152),\n",
       " Row(count(1)=312980, user_location_country=148),\n",
       " Row(count(1)=175851, user_location_country=47),\n",
       " Row(count(1)=357062, user_location_country=24)]"
      ]
     },
     "execution_count": 224,
     "metadata": {},
     "output_type": "execute_result"
    }
   ],
   "source": [
    "Comparar"
   ]
  },
  {
   "cell_type": "code",
   "execution_count": null,
   "metadata": {},
   "outputs": [],
   "source": [
    "spark.sql(\"select count(*), city from airports_tb air inner join OnTime_tb ont on air.AirportID= ORIGIN_AIRPORT_ID group by city\").collect()"
   ]
  }
 ],
 "metadata": {
  "kernelspec": {
   "display_name": "Python 3",
   "language": "python",
   "name": "python3"
  },
  "language_info": {
   "codemirror_mode": {
    "name": "ipython",
    "version": 3
   },
   "file_extension": ".py",
   "mimetype": "text/x-python",
   "name": "python",
   "nbconvert_exporter": "python",
   "pygments_lexer": "ipython3",
   "version": "3.7.3"
  }
 },
 "nbformat": 4,
 "nbformat_minor": 2
}
